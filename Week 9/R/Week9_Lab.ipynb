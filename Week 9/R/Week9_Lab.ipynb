{
  "nbformat": 4,
  "nbformat_minor": 0,
  "metadata": {
    "colab": {
      "provenance": [],
      "authorship_tag": "ABX9TyO1gN83pJ/taR++wNW8ygSz",
      "include_colab_link": true
    },
    "kernelspec": {
      "name": "ir",
      "display_name": "R"
    },
    "language_info": {
      "name": "R"
    }
  },
  "cells": [
    {
      "cell_type": "markdown",
      "metadata": {
        "id": "view-in-github",
        "colab_type": "text"
      },
      "source": [
        "<a href=\"https://colab.research.google.com/github/emolinaperez/econometrics_mek/blob/main/Week%209/R/Week9_Lab.ipynb\" target=\"_parent\"><img src=\"https://colab.research.google.com/assets/colab-badge.svg\" alt=\"Open In Colab\"/></a>"
      ]
    },
    {
      "cell_type": "markdown",
      "source": [
        "\n",
        "# Lab 9: Econometrics"
      ],
      "metadata": {
        "id": "98L488N_R8OX"
      }
    },
    {
      "cell_type": "code",
      "source": [
        "install.packages('AER')\n",
        "install.packages('plm')\n",
        "install.packages('modelsummary')\n",
        "install.packages(\"rdd\")"
      ],
      "metadata": {
        "colab": {
          "base_uri": "https://localhost:8080/"
        },
        "id": "WgMGdC1qRr5W",
        "outputId": "e0655ebf-3182-4517-b527-121ccda6d249"
      },
      "execution_count": 1,
      "outputs": [
        {
          "output_type": "stream",
          "name": "stderr",
          "text": [
            "Installing package into ‘/usr/local/lib/R/site-library’\n",
            "(as ‘lib’ is unspecified)\n",
            "\n",
            "Installing package into ‘/usr/local/lib/R/site-library’\n",
            "(as ‘lib’ is unspecified)\n",
            "\n",
            "also installing the dependencies ‘miscTools’, ‘bdsmatrix’, ‘collapse’, ‘maxLik’\n",
            "\n",
            "\n",
            "Installing package into ‘/usr/local/lib/R/site-library’\n",
            "(as ‘lib’ is unspecified)\n",
            "\n",
            "also installing the dependencies ‘bayestestR’, ‘datawizard’, ‘checkmate’, ‘insight’, ‘parameters’, ‘performance’, ‘tables’, ‘tinytable’\n",
            "\n",
            "\n",
            "Installing package into ‘/usr/local/lib/R/site-library’\n",
            "(as ‘lib’ is unspecified)\n",
            "\n"
          ]
        }
      ]
    },
    {
      "cell_type": "markdown",
      "source": [
        "Sometimes panel data is also called longitudinal data as it adds a temporal dimension to cross-sectional data.\n"
      ],
      "metadata": {
        "id": "J0zi1IU4R3cK"
      }
    },
    {
      "cell_type": "code",
      "execution_count": 2,
      "metadata": {
        "colab": {
          "base_uri": "https://localhost:8080/"
        },
        "id": "hQiMLUNORnSU",
        "outputId": "0346a8dc-215b-4497-f990-4a6d60e4038d"
      },
      "outputs": [
        {
          "output_type": "stream",
          "name": "stderr",
          "text": [
            "Loading required package: car\n",
            "\n",
            "Loading required package: carData\n",
            "\n",
            "Loading required package: lmtest\n",
            "\n",
            "Loading required package: zoo\n",
            "\n",
            "\n",
            "Attaching package: ‘zoo’\n",
            "\n",
            "\n",
            "The following objects are masked from ‘package:base’:\n",
            "\n",
            "    as.Date, as.Date.numeric\n",
            "\n",
            "\n",
            "Loading required package: sandwich\n",
            "\n",
            "Loading required package: survival\n",
            "\n"
          ]
        }
      ],
      "source": [
        "library(AER)\n",
        "library(plm)"
      ]
    },
    {
      "cell_type": "markdown",
      "source": [
        "pdata.frame() declares the data as panel data\n"
      ],
      "metadata": {
        "id": "lvOxvlgdSwfD"
      }
    },
    {
      "cell_type": "code",
      "source": [
        "data(Fatalities)\n",
        "Fatalities<- pdata.frame(Fatalities, index = c(\"state\", \"year\"))"
      ],
      "metadata": {
        "id": "vyb2Kb09SLYc"
      },
      "execution_count": 3,
      "outputs": []
    },
    {
      "cell_type": "markdown",
      "source": [
        "Obtain the dimension and inspect the structure"
      ],
      "metadata": {
        "id": "sdmXnO3TS1AA"
      }
    },
    {
      "cell_type": "code",
      "source": [
        "is.data.frame(Fatalities)"
      ],
      "metadata": {
        "colab": {
          "base_uri": "https://localhost:8080/",
          "height": 34
        },
        "id": "LxVZqD74ULER",
        "outputId": "bc26a5b4-2d0f-41dc-be2f-83a9d8ce25d6"
      },
      "execution_count": 4,
      "outputs": [
        {
          "output_type": "display_data",
          "data": {
            "text/html": [
              "TRUE"
            ],
            "text/markdown": "TRUE",
            "text/latex": "TRUE",
            "text/plain": [
              "[1] TRUE"
            ]
          },
          "metadata": {}
        }
      ]
    },
    {
      "cell_type": "code",
      "source": [
        "dim(Fatalities)"
      ],
      "metadata": {
        "colab": {
          "base_uri": "https://localhost:8080/",
          "height": 34
        },
        "id": "3TQM-WBhUMs8",
        "outputId": "c277761a-9320-45db-df6b-fb1f58fa8e84"
      },
      "execution_count": 5,
      "outputs": [
        {
          "output_type": "display_data",
          "data": {
            "text/html": [
              "<style>\n",
              ".list-inline {list-style: none; margin:0; padding: 0}\n",
              ".list-inline>li {display: inline-block}\n",
              ".list-inline>li:not(:last-child)::after {content: \"\\00b7\"; padding: 0 .5ex}\n",
              "</style>\n",
              "<ol class=list-inline><li>336</li><li>34</li></ol>\n"
            ],
            "text/markdown": "1. 336\n2. 34\n\n\n",
            "text/latex": "\\begin{enumerate*}\n\\item 336\n\\item 34\n\\end{enumerate*}\n",
            "text/plain": [
              "[1] 336  34"
            ]
          },
          "metadata": {}
        }
      ]
    },
    {
      "cell_type": "code",
      "source": [
        "str(Fatalities)"
      ],
      "metadata": {
        "colab": {
          "base_uri": "https://localhost:8080/"
        },
        "id": "2ZvIMa5VSOLB",
        "outputId": "01300596-1a5b-4672-e410-437ae5530213"
      },
      "execution_count": 6,
      "outputs": [
        {
          "output_type": "stream",
          "name": "stdout",
          "text": [
            "Classes ‘pdata.frame’ and 'data.frame':\t336 obs. of  34 variables:\n",
            " $ state       : Factor w/ 48 levels \"al\",\"az\",\"ar\",..: 1 1 1 1 1 1 1 2 2 2 ...\n",
            "  ..- attr(*, \"names\")= chr [1:336] \"al-1982\" \"al-1983\" \"al-1984\" \"al-1985\" ...\n",
            "  ..- attr(*, \"index\")=Classes ‘pindex’ and 'data.frame':\t336 obs. of  2 variables:\n",
            "  .. ..$ state: Factor w/ 48 levels \"al\",\"az\",\"ar\",..: 1 1 1 1 1 1 1 2 2 2 ...\n",
            "  .. ..$ year : Factor w/ 7 levels \"1982\",\"1983\",..: 1 2 3 4 5 6 7 1 2 3 ...\n",
            " $ year        : Factor w/ 7 levels \"1982\",\"1983\",..: 1 2 3 4 5 6 7 1 2 3 ...\n",
            "  ..- attr(*, \"names\")= chr [1:336] \"al-1982\" \"al-1983\" \"al-1984\" \"al-1985\" ...\n",
            "  ..- attr(*, \"index\")=Classes ‘pindex’ and 'data.frame':\t336 obs. of  2 variables:\n",
            "  .. ..$ state: Factor w/ 48 levels \"al\",\"az\",\"ar\",..: 1 1 1 1 1 1 1 2 2 2 ...\n",
            "  .. ..$ year : Factor w/ 7 levels \"1982\",\"1983\",..: 1 2 3 4 5 6 7 1 2 3 ...\n",
            " $ spirits     : 'pseries' Named num  1.37 1.36 1.32 1.28 1.23 ...\n",
            "  ..- attr(*, \"names\")= chr [1:336] \"al-1982\" \"al-1983\" \"al-1984\" \"al-1985\" ...\n",
            "  ..- attr(*, \"index\")=Classes ‘pindex’ and 'data.frame':\t336 obs. of  2 variables:\n",
            "  .. ..$ state: Factor w/ 48 levels \"al\",\"az\",\"ar\",..: 1 1 1 1 1 1 1 2 2 2 ...\n",
            "  .. ..$ year : Factor w/ 7 levels \"1982\",\"1983\",..: 1 2 3 4 5 6 7 1 2 3 ...\n",
            " $ unemp       : 'pseries' Named num  14.4 13.7 11.1 8.9 9.8 ...\n",
            "  ..- attr(*, \"names\")= chr [1:336] \"al-1982\" \"al-1983\" \"al-1984\" \"al-1985\" ...\n",
            "  ..- attr(*, \"index\")=Classes ‘pindex’ and 'data.frame':\t336 obs. of  2 variables:\n",
            "  .. ..$ state: Factor w/ 48 levels \"al\",\"az\",\"ar\",..: 1 1 1 1 1 1 1 2 2 2 ...\n",
            "  .. ..$ year : Factor w/ 7 levels \"1982\",\"1983\",..: 1 2 3 4 5 6 7 1 2 3 ...\n",
            " $ income      : 'pseries' Named num  10544 10733 11109 11333 11662 ...\n",
            "  ..- attr(*, \"names\")= chr [1:336] \"al-1982\" \"al-1983\" \"al-1984\" \"al-1985\" ...\n",
            "  ..- attr(*, \"index\")=Classes ‘pindex’ and 'data.frame':\t336 obs. of  2 variables:\n",
            "  .. ..$ state: Factor w/ 48 levels \"al\",\"az\",\"ar\",..: 1 1 1 1 1 1 1 2 2 2 ...\n",
            "  .. ..$ year : Factor w/ 7 levels \"1982\",\"1983\",..: 1 2 3 4 5 6 7 1 2 3 ...\n",
            " $ emppop      : 'pseries' Named num  50.7 52.1 54.2 55.3 56.5 ...\n",
            "  ..- attr(*, \"names\")= chr [1:336] \"al-1982\" \"al-1983\" \"al-1984\" \"al-1985\" ...\n",
            "  ..- attr(*, \"index\")=Classes ‘pindex’ and 'data.frame':\t336 obs. of  2 variables:\n",
            "  .. ..$ state: Factor w/ 48 levels \"al\",\"az\",\"ar\",..: 1 1 1 1 1 1 1 2 2 2 ...\n",
            "  .. ..$ year : Factor w/ 7 levels \"1982\",\"1983\",..: 1 2 3 4 5 6 7 1 2 3 ...\n",
            " $ beertax     : 'pseries' Named num  1.54 1.79 1.71 1.65 1.61 ...\n",
            "  ..- attr(*, \"names\")= chr [1:336] \"al-1982\" \"al-1983\" \"al-1984\" \"al-1985\" ...\n",
            "  ..- attr(*, \"index\")=Classes ‘pindex’ and 'data.frame':\t336 obs. of  2 variables:\n",
            "  .. ..$ state: Factor w/ 48 levels \"al\",\"az\",\"ar\",..: 1 1 1 1 1 1 1 2 2 2 ...\n",
            "  .. ..$ year : Factor w/ 7 levels \"1982\",\"1983\",..: 1 2 3 4 5 6 7 1 2 3 ...\n",
            " $ baptist     : 'pseries' Named num  30.4 30.3 30.3 30.3 30.3 ...\n",
            "  ..- attr(*, \"names\")= chr [1:336] \"al-1982\" \"al-1983\" \"al-1984\" \"al-1985\" ...\n",
            "  ..- attr(*, \"index\")=Classes ‘pindex’ and 'data.frame':\t336 obs. of  2 variables:\n",
            "  .. ..$ state: Factor w/ 48 levels \"al\",\"az\",\"ar\",..: 1 1 1 1 1 1 1 2 2 2 ...\n",
            "  .. ..$ year : Factor w/ 7 levels \"1982\",\"1983\",..: 1 2 3 4 5 6 7 1 2 3 ...\n",
            " $ mormon      : 'pseries' Named num  0.328 0.343 0.359 0.376 0.393 ...\n",
            "  ..- attr(*, \"names\")= chr [1:336] \"al-1982\" \"al-1983\" \"al-1984\" \"al-1985\" ...\n",
            "  ..- attr(*, \"index\")=Classes ‘pindex’ and 'data.frame':\t336 obs. of  2 variables:\n",
            "  .. ..$ state: Factor w/ 48 levels \"al\",\"az\",\"ar\",..: 1 1 1 1 1 1 1 2 2 2 ...\n",
            "  .. ..$ year : Factor w/ 7 levels \"1982\",\"1983\",..: 1 2 3 4 5 6 7 1 2 3 ...\n",
            " $ drinkage    : 'pseries' Named num  19 19 19 19.7 21 ...\n",
            "  ..- attr(*, \"names\")= chr [1:336] \"al-1982\" \"al-1983\" \"al-1984\" \"al-1985\" ...\n",
            "  ..- attr(*, \"index\")=Classes ‘pindex’ and 'data.frame':\t336 obs. of  2 variables:\n",
            "  .. ..$ state: Factor w/ 48 levels \"al\",\"az\",\"ar\",..: 1 1 1 1 1 1 1 2 2 2 ...\n",
            "  .. ..$ year : Factor w/ 7 levels \"1982\",\"1983\",..: 1 2 3 4 5 6 7 1 2 3 ...\n",
            " $ dry         : 'pseries' Named num  25 23 24 23.6 23.5 ...\n",
            "  ..- attr(*, \"names\")= chr [1:336] \"al-1982\" \"al-1983\" \"al-1984\" \"al-1985\" ...\n",
            "  ..- attr(*, \"index\")=Classes ‘pindex’ and 'data.frame':\t336 obs. of  2 variables:\n",
            "  .. ..$ state: Factor w/ 48 levels \"al\",\"az\",\"ar\",..: 1 1 1 1 1 1 1 2 2 2 ...\n",
            "  .. ..$ year : Factor w/ 7 levels \"1982\",\"1983\",..: 1 2 3 4 5 6 7 1 2 3 ...\n",
            " $ youngdrivers: 'pseries' Named num  0.212 0.211 0.211 0.211 0.213 ...\n",
            "  ..- attr(*, \"names\")= chr [1:336] \"al-1982\" \"al-1983\" \"al-1984\" \"al-1985\" ...\n",
            "  ..- attr(*, \"index\")=Classes ‘pindex’ and 'data.frame':\t336 obs. of  2 variables:\n",
            "  .. ..$ state: Factor w/ 48 levels \"al\",\"az\",\"ar\",..: 1 1 1 1 1 1 1 2 2 2 ...\n",
            "  .. ..$ year : Factor w/ 7 levels \"1982\",\"1983\",..: 1 2 3 4 5 6 7 1 2 3 ...\n",
            " $ miles       : 'pseries' Named num  7234 7836 8263 8727 8953 ...\n",
            "  ..- attr(*, \"names\")= chr [1:336] \"al-1982\" \"al-1983\" \"al-1984\" \"al-1985\" ...\n",
            "  ..- attr(*, \"index\")=Classes ‘pindex’ and 'data.frame':\t336 obs. of  2 variables:\n",
            "  .. ..$ state: Factor w/ 48 levels \"al\",\"az\",\"ar\",..: 1 1 1 1 1 1 1 2 2 2 ...\n",
            "  .. ..$ year : Factor w/ 7 levels \"1982\",\"1983\",..: 1 2 3 4 5 6 7 1 2 3 ...\n",
            " $ breath      : Factor w/ 2 levels \"no\",\"yes\": 1 1 1 1 1 1 1 1 1 1 ...\n",
            "  ..- attr(*, \"names\")= chr [1:336] \"al-1982\" \"al-1983\" \"al-1984\" \"al-1985\" ...\n",
            "  ..- attr(*, \"index\")=Classes ‘pindex’ and 'data.frame':\t336 obs. of  2 variables:\n",
            "  .. ..$ state: Factor w/ 48 levels \"al\",\"az\",\"ar\",..: 1 1 1 1 1 1 1 2 2 2 ...\n",
            "  .. ..$ year : Factor w/ 7 levels \"1982\",\"1983\",..: 1 2 3 4 5 6 7 1 2 3 ...\n",
            " $ jail        : Factor w/ 2 levels \"no\",\"yes\": 1 1 1 1 1 1 1 2 2 2 ...\n",
            "  ..- attr(*, \"names\")= chr [1:336] \"al-1982\" \"al-1983\" \"al-1984\" \"al-1985\" ...\n",
            "  ..- attr(*, \"index\")=Classes ‘pindex’ and 'data.frame':\t336 obs. of  2 variables:\n",
            "  .. ..$ state: Factor w/ 48 levels \"al\",\"az\",\"ar\",..: 1 1 1 1 1 1 1 2 2 2 ...\n",
            "  .. ..$ year : Factor w/ 7 levels \"1982\",\"1983\",..: 1 2 3 4 5 6 7 1 2 3 ...\n",
            " $ service     : Factor w/ 2 levels \"no\",\"yes\": 1 1 1 1 1 1 1 2 2 2 ...\n",
            "  ..- attr(*, \"names\")= chr [1:336] \"al-1982\" \"al-1983\" \"al-1984\" \"al-1985\" ...\n",
            "  ..- attr(*, \"index\")=Classes ‘pindex’ and 'data.frame':\t336 obs. of  2 variables:\n",
            "  .. ..$ state: Factor w/ 48 levels \"al\",\"az\",\"ar\",..: 1 1 1 1 1 1 1 2 2 2 ...\n",
            "  .. ..$ year : Factor w/ 7 levels \"1982\",\"1983\",..: 1 2 3 4 5 6 7 1 2 3 ...\n",
            " $ fatal       : 'pseries' Named int  839 930 932 882 1081 1110 1023 724 675 869 ...\n",
            "  ..- attr(*, \"names\")= chr [1:336] \"al-1982\" \"al-1983\" \"al-1984\" \"al-1985\" ...\n",
            "  ..- attr(*, \"index\")=Classes ‘pindex’ and 'data.frame':\t336 obs. of  2 variables:\n",
            "  .. ..$ state: Factor w/ 48 levels \"al\",\"az\",\"ar\",..: 1 1 1 1 1 1 1 2 2 2 ...\n",
            "  .. ..$ year : Factor w/ 7 levels \"1982\",\"1983\",..: 1 2 3 4 5 6 7 1 2 3 ...\n",
            " $ nfatal      : 'pseries' Named int  146 154 165 146 172 181 139 131 112 149 ...\n",
            "  ..- attr(*, \"names\")= chr [1:336] \"al-1982\" \"al-1983\" \"al-1984\" \"al-1985\" ...\n",
            "  ..- attr(*, \"index\")=Classes ‘pindex’ and 'data.frame':\t336 obs. of  2 variables:\n",
            "  .. ..$ state: Factor w/ 48 levels \"al\",\"az\",\"ar\",..: 1 1 1 1 1 1 1 2 2 2 ...\n",
            "  .. ..$ year : Factor w/ 7 levels \"1982\",\"1983\",..: 1 2 3 4 5 6 7 1 2 3 ...\n",
            " $ sfatal      : 'pseries' Named int  99 98 94 98 119 114 89 76 60 81 ...\n",
            "  ..- attr(*, \"names\")= chr [1:336] \"al-1982\" \"al-1983\" \"al-1984\" \"al-1985\" ...\n",
            "  ..- attr(*, \"index\")=Classes ‘pindex’ and 'data.frame':\t336 obs. of  2 variables:\n",
            "  .. ..$ state: Factor w/ 48 levels \"al\",\"az\",\"ar\",..: 1 1 1 1 1 1 1 2 2 2 ...\n",
            "  .. ..$ year : Factor w/ 7 levels \"1982\",\"1983\",..: 1 2 3 4 5 6 7 1 2 3 ...\n",
            " $ fatal1517   : 'pseries' Named int  53 71 49 66 82 94 66 40 40 51 ...\n",
            "  ..- attr(*, \"names\")= chr [1:336] \"al-1982\" \"al-1983\" \"al-1984\" \"al-1985\" ...\n",
            "  ..- attr(*, \"index\")=Classes ‘pindex’ and 'data.frame':\t336 obs. of  2 variables:\n",
            "  .. ..$ state: Factor w/ 48 levels \"al\",\"az\",\"ar\",..: 1 1 1 1 1 1 1 2 2 2 ...\n",
            "  .. ..$ year : Factor w/ 7 levels \"1982\",\"1983\",..: 1 2 3 4 5 6 7 1 2 3 ...\n",
            " $ nfatal1517  : 'pseries' Named int  9 8 7 9 10 11 8 7 7 8 ...\n",
            "  ..- attr(*, \"names\")= chr [1:336] \"al-1982\" \"al-1983\" \"al-1984\" \"al-1985\" ...\n",
            "  ..- attr(*, \"index\")=Classes ‘pindex’ and 'data.frame':\t336 obs. of  2 variables:\n",
            "  .. ..$ state: Factor w/ 48 levels \"al\",\"az\",\"ar\",..: 1 1 1 1 1 1 1 2 2 2 ...\n",
            "  .. ..$ year : Factor w/ 7 levels \"1982\",\"1983\",..: 1 2 3 4 5 6 7 1 2 3 ...\n",
            " $ fatal1820   : 'pseries' Named int  99 108 103 100 120 127 105 81 83 118 ...\n",
            "  ..- attr(*, \"names\")= chr [1:336] \"al-1982\" \"al-1983\" \"al-1984\" \"al-1985\" ...\n",
            "  ..- attr(*, \"index\")=Classes ‘pindex’ and 'data.frame':\t336 obs. of  2 variables:\n",
            "  .. ..$ state: Factor w/ 48 levels \"al\",\"az\",\"ar\",..: 1 1 1 1 1 1 1 2 2 2 ...\n",
            "  .. ..$ year : Factor w/ 7 levels \"1982\",\"1983\",..: 1 2 3 4 5 6 7 1 2 3 ...\n",
            " $ nfatal1820  : 'pseries' Named int  34 26 25 23 23 31 24 16 19 34 ...\n",
            "  ..- attr(*, \"names\")= chr [1:336] \"al-1982\" \"al-1983\" \"al-1984\" \"al-1985\" ...\n",
            "  ..- attr(*, \"index\")=Classes ‘pindex’ and 'data.frame':\t336 obs. of  2 variables:\n",
            "  .. ..$ state: Factor w/ 48 levels \"al\",\"az\",\"ar\",..: 1 1 1 1 1 1 1 2 2 2 ...\n",
            "  .. ..$ year : Factor w/ 7 levels \"1982\",\"1983\",..: 1 2 3 4 5 6 7 1 2 3 ...\n",
            " $ fatal2124   : 'pseries' Named int  120 124 118 114 119 138 123 96 80 123 ...\n",
            "  ..- attr(*, \"names\")= chr [1:336] \"al-1982\" \"al-1983\" \"al-1984\" \"al-1985\" ...\n",
            "  ..- attr(*, \"index\")=Classes ‘pindex’ and 'data.frame':\t336 obs. of  2 variables:\n",
            "  .. ..$ state: Factor w/ 48 levels \"al\",\"az\",\"ar\",..: 1 1 1 1 1 1 1 2 2 2 ...\n",
            "  .. ..$ year : Factor w/ 7 levels \"1982\",\"1983\",..: 1 2 3 4 5 6 7 1 2 3 ...\n",
            " $ nfatal2124  : 'pseries' Named int  32 35 34 45 29 30 25 36 17 33 ...\n",
            "  ..- attr(*, \"names\")= chr [1:336] \"al-1982\" \"al-1983\" \"al-1984\" \"al-1985\" ...\n",
            "  ..- attr(*, \"index\")=Classes ‘pindex’ and 'data.frame':\t336 obs. of  2 variables:\n",
            "  .. ..$ state: Factor w/ 48 levels \"al\",\"az\",\"ar\",..: 1 1 1 1 1 1 1 2 2 2 ...\n",
            "  .. ..$ year : Factor w/ 7 levels \"1982\",\"1983\",..: 1 2 3 4 5 6 7 1 2 3 ...\n",
            " $ afatal      : 'pseries' Named num  309 342 305 277 361 ...\n",
            "  ..- attr(*, \"names\")= chr [1:336] \"al-1982\" \"al-1983\" \"al-1984\" \"al-1985\" ...\n",
            "  ..- attr(*, \"index\")=Classes ‘pindex’ and 'data.frame':\t336 obs. of  2 variables:\n",
            "  .. ..$ state: Factor w/ 48 levels \"al\",\"az\",\"ar\",..: 1 1 1 1 1 1 1 2 2 2 ...\n",
            "  .. ..$ year : Factor w/ 7 levels \"1982\",\"1983\",..: 1 2 3 4 5 6 7 1 2 3 ...\n",
            " $ pop         : 'pseries' Named num  3942002 3960008 3988992 4021008 4049994 ...\n",
            "  ..- attr(*, \"names\")= chr [1:336] \"al-1982\" \"al-1983\" \"al-1984\" \"al-1985\" ...\n",
            "  ..- attr(*, \"index\")=Classes ‘pindex’ and 'data.frame':\t336 obs. of  2 variables:\n",
            "  .. ..$ state: Factor w/ 48 levels \"al\",\"az\",\"ar\",..: 1 1 1 1 1 1 1 2 2 2 ...\n",
            "  .. ..$ year : Factor w/ 7 levels \"1982\",\"1983\",..: 1 2 3 4 5 6 7 1 2 3 ...\n",
            " $ pop1517     : 'pseries' Named num  209000 202000 197000 195000 204000 ...\n",
            "  ..- attr(*, \"names\")= chr [1:336] \"al-1982\" \"al-1983\" \"al-1984\" \"al-1985\" ...\n",
            "  ..- attr(*, \"index\")=Classes ‘pindex’ and 'data.frame':\t336 obs. of  2 variables:\n",
            "  .. ..$ state: Factor w/ 48 levels \"al\",\"az\",\"ar\",..: 1 1 1 1 1 1 1 2 2 2 ...\n",
            "  .. ..$ year : Factor w/ 7 levels \"1982\",\"1983\",..: 1 2 3 4 5 6 7 1 2 3 ...\n",
            " $ pop1820     : 'pseries' Named num  221553 219125 216724 214349 212000 ...\n",
            "  ..- attr(*, \"names\")= chr [1:336] \"al-1982\" \"al-1983\" \"al-1984\" \"al-1985\" ...\n",
            "  ..- attr(*, \"index\")=Classes ‘pindex’ and 'data.frame':\t336 obs. of  2 variables:\n",
            "  .. ..$ state: Factor w/ 48 levels \"al\",\"az\",\"ar\",..: 1 1 1 1 1 1 1 2 2 2 ...\n",
            "  .. ..$ year : Factor w/ 7 levels \"1982\",\"1983\",..: 1 2 3 4 5 6 7 1 2 3 ...\n",
            " $ pop2124     : 'pseries' Named num  290000 290000 288000 284000 263000 ...\n",
            "  ..- attr(*, \"names\")= chr [1:336] \"al-1982\" \"al-1983\" \"al-1984\" \"al-1985\" ...\n",
            "  ..- attr(*, \"index\")=Classes ‘pindex’ and 'data.frame':\t336 obs. of  2 variables:\n",
            "  .. ..$ state: Factor w/ 48 levels \"al\",\"az\",\"ar\",..: 1 1 1 1 1 1 1 2 2 2 ...\n",
            "  .. ..$ year : Factor w/ 7 levels \"1982\",\"1983\",..: 1 2 3 4 5 6 7 1 2 3 ...\n",
            " $ milestot    : 'pseries' Named num  28516 31032 32961 35091 36259 ...\n",
            "  ..- attr(*, \"names\")= chr [1:336] \"al-1982\" \"al-1983\" \"al-1984\" \"al-1985\" ...\n",
            "  ..- attr(*, \"index\")=Classes ‘pindex’ and 'data.frame':\t336 obs. of  2 variables:\n",
            "  .. ..$ state: Factor w/ 48 levels \"al\",\"az\",\"ar\",..: 1 1 1 1 1 1 1 2 2 2 ...\n",
            "  .. ..$ year : Factor w/ 7 levels \"1982\",\"1983\",..: 1 2 3 4 5 6 7 1 2 3 ...\n",
            " $ unempus     : 'pseries' Named num  9.7 9.6 7.5 7.2 7 ...\n",
            "  ..- attr(*, \"names\")= chr [1:336] \"al-1982\" \"al-1983\" \"al-1984\" \"al-1985\" ...\n",
            "  ..- attr(*, \"index\")=Classes ‘pindex’ and 'data.frame':\t336 obs. of  2 variables:\n",
            "  .. ..$ state: Factor w/ 48 levels \"al\",\"az\",\"ar\",..: 1 1 1 1 1 1 1 2 2 2 ...\n",
            "  .. ..$ year : Factor w/ 7 levels \"1982\",\"1983\",..: 1 2 3 4 5 6 7 1 2 3 ...\n",
            " $ emppopus    : 'pseries' Named num  57.8 57.9 59.5 60.1 60.7 ...\n",
            "  ..- attr(*, \"names\")= chr [1:336] \"al-1982\" \"al-1983\" \"al-1984\" \"al-1985\" ...\n",
            "  ..- attr(*, \"index\")=Classes ‘pindex’ and 'data.frame':\t336 obs. of  2 variables:\n",
            "  .. ..$ state: Factor w/ 48 levels \"al\",\"az\",\"ar\",..: 1 1 1 1 1 1 1 2 2 2 ...\n",
            "  .. ..$ year : Factor w/ 7 levels \"1982\",\"1983\",..: 1 2 3 4 5 6 7 1 2 3 ...\n",
            " $ gsp         : 'pseries' Named num  -0.0221 0.0466 0.0628 0.0275 0.0321 ...\n",
            "  ..- attr(*, \"names\")= chr [1:336] \"al-1982\" \"al-1983\" \"al-1984\" \"al-1985\" ...\n",
            "  ..- attr(*, \"index\")=Classes ‘pindex’ and 'data.frame':\t336 obs. of  2 variables:\n",
            "  .. ..$ state: Factor w/ 48 levels \"al\",\"az\",\"ar\",..: 1 1 1 1 1 1 1 2 2 2 ...\n",
            "  .. ..$ year : Factor w/ 7 levels \"1982\",\"1983\",..: 1 2 3 4 5 6 7 1 2 3 ...\n",
            " - attr(*, \"index\")=Classes ‘pindex’ and 'data.frame':\t336 obs. of  2 variables:\n",
            "  ..$ state: Factor w/ 48 levels \"al\",\"az\",\"ar\",..: 1 1 1 1 1 1 1 2 2 2 ...\n",
            "  ..$ year : Factor w/ 7 levels \"1982\",\"1983\",..: 1 2 3 4 5 6 7 1 2 3 ...\n"
          ]
        }
      ]
    },
    {
      "cell_type": "markdown",
      "source": [
        "List the first few observations"
      ],
      "metadata": {
        "id": "k-ucKTwQS5Fq"
      }
    },
    {
      "cell_type": "code",
      "source": [
        "head(Fatalities)"
      ],
      "metadata": {
        "colab": {
          "base_uri": "https://localhost:8080/",
          "height": 286
        },
        "id": "umbcI_dqSXCt",
        "outputId": "8c2070e6-4038-440e-d5a4-eef021e7d21b"
      },
      "execution_count": 7,
      "outputs": [
        {
          "output_type": "display_data",
          "data": {
            "text/html": [
              "<table class=\"dataframe\">\n",
              "<caption>A pdata.frame: 6 × 34</caption>\n",
              "<thead>\n",
              "\t<tr><th></th><th scope=col>state</th><th scope=col>year</th><th scope=col>spirits</th><th scope=col>unemp</th><th scope=col>income</th><th scope=col>emppop</th><th scope=col>beertax</th><th scope=col>baptist</th><th scope=col>mormon</th><th scope=col>drinkage</th><th scope=col>⋯</th><th scope=col>nfatal2124</th><th scope=col>afatal</th><th scope=col>pop</th><th scope=col>pop1517</th><th scope=col>pop1820</th><th scope=col>pop2124</th><th scope=col>milestot</th><th scope=col>unempus</th><th scope=col>emppopus</th><th scope=col>gsp</th></tr>\n",
              "\t<tr><th></th><th scope=col>&lt;fct&gt;</th><th scope=col>&lt;fct&gt;</th><th scope=col>&lt;dbl&gt;</th><th scope=col>&lt;dbl&gt;</th><th scope=col>&lt;dbl&gt;</th><th scope=col>&lt;dbl&gt;</th><th scope=col>&lt;dbl&gt;</th><th scope=col>&lt;dbl&gt;</th><th scope=col>&lt;dbl&gt;</th><th scope=col>&lt;dbl&gt;</th><th scope=col>⋯</th><th scope=col>&lt;int&gt;</th><th scope=col>&lt;dbl&gt;</th><th scope=col>&lt;dbl&gt;</th><th scope=col>&lt;dbl&gt;</th><th scope=col>&lt;dbl&gt;</th><th scope=col>&lt;dbl&gt;</th><th scope=col>&lt;dbl&gt;</th><th scope=col>&lt;dbl&gt;</th><th scope=col>&lt;dbl&gt;</th><th scope=col>&lt;dbl&gt;</th></tr>\n",
              "</thead>\n",
              "<tbody>\n",
              "\t<tr><th scope=row>al-1982</th><td>al</td><td>1982</td><td>1.37</td><td>14.4</td><td>10544.15</td><td>50.69204</td><td>1.539379</td><td>30.3557</td><td>0.32829</td><td>19.00</td><td>⋯</td><td>32</td><td>309.438</td><td>3942002</td><td>208999.6</td><td>221553.4</td><td>290000.1</td><td>28516</td><td>9.7</td><td>57.8</td><td>-0.02212476</td></tr>\n",
              "\t<tr><th scope=row>al-1983</th><td>al</td><td>1983</td><td>1.36</td><td>13.7</td><td>10732.80</td><td>52.14703</td><td>1.788991</td><td>30.3336</td><td>0.34341</td><td>19.00</td><td>⋯</td><td>35</td><td>341.834</td><td>3960008</td><td>202000.1</td><td>219125.5</td><td>290000.2</td><td>31032</td><td>9.6</td><td>57.9</td><td> 0.04655825</td></tr>\n",
              "\t<tr><th scope=row>al-1984</th><td>al</td><td>1984</td><td>1.32</td><td>11.1</td><td>11108.79</td><td>54.16809</td><td>1.714286</td><td>30.3115</td><td>0.35924</td><td>19.00</td><td>⋯</td><td>34</td><td>304.872</td><td>3988992</td><td>197000.0</td><td>216724.1</td><td>288000.2</td><td>32961</td><td>7.5</td><td>59.5</td><td> 0.06279784</td></tr>\n",
              "\t<tr><th scope=row>al-1985</th><td>al</td><td>1985</td><td>1.28</td><td> 8.9</td><td>11332.63</td><td>55.27114</td><td>1.652542</td><td>30.2895</td><td>0.37579</td><td>19.67</td><td>⋯</td><td>45</td><td>276.742</td><td>4021008</td><td>194999.7</td><td>214349.0</td><td>284000.3</td><td>35091</td><td>7.2</td><td>60.1</td><td> 0.02748997</td></tr>\n",
              "\t<tr><th scope=row>al-1986</th><td>al</td><td>1986</td><td>1.23</td><td> 9.8</td><td>11661.51</td><td>56.51450</td><td>1.609907</td><td>30.2674</td><td>0.39311</td><td>21.00</td><td>⋯</td><td>29</td><td>360.716</td><td>4049994</td><td>203999.9</td><td>212000.0</td><td>263000.3</td><td>36259</td><td>7.0</td><td>60.7</td><td> 0.03214295</td></tr>\n",
              "\t<tr><th scope=row>al-1987</th><td>al</td><td>1987</td><td>1.18</td><td> 7.8</td><td>11944.00</td><td>57.50988</td><td>1.560000</td><td>30.2453</td><td>0.41123</td><td>21.00</td><td>⋯</td><td>30</td><td>368.421</td><td>4082999</td><td>204999.8</td><td>208998.5</td><td>258999.8</td><td>37426</td><td>6.2</td><td>61.5</td><td> 0.04897637</td></tr>\n",
              "</tbody>\n",
              "</table>\n"
            ],
            "text/markdown": "\nA pdata.frame: 6 × 34\n\n| <!--/--> | state &lt;fct&gt; | year &lt;fct&gt; | spirits &lt;dbl&gt; | unemp &lt;dbl&gt; | income &lt;dbl&gt; | emppop &lt;dbl&gt; | beertax &lt;dbl&gt; | baptist &lt;dbl&gt; | mormon &lt;dbl&gt; | drinkage &lt;dbl&gt; | ⋯ ⋯ | nfatal2124 &lt;int&gt; | afatal &lt;dbl&gt; | pop &lt;dbl&gt; | pop1517 &lt;dbl&gt; | pop1820 &lt;dbl&gt; | pop2124 &lt;dbl&gt; | milestot &lt;dbl&gt; | unempus &lt;dbl&gt; | emppopus &lt;dbl&gt; | gsp &lt;dbl&gt; |\n|---|---|---|---|---|---|---|---|---|---|---|---|---|---|---|---|---|---|---|---|---|---|\n| al-1982 | al | 1982 | 1.37 | 14.4 | 10544.15 | 50.69204 | 1.539379 | 30.3557 | 0.32829 | 19.00 | ⋯ | 32 | 309.438 | 3942002 | 208999.6 | 221553.4 | 290000.1 | 28516 | 9.7 | 57.8 | -0.02212476 |\n| al-1983 | al | 1983 | 1.36 | 13.7 | 10732.80 | 52.14703 | 1.788991 | 30.3336 | 0.34341 | 19.00 | ⋯ | 35 | 341.834 | 3960008 | 202000.1 | 219125.5 | 290000.2 | 31032 | 9.6 | 57.9 |  0.04655825 |\n| al-1984 | al | 1984 | 1.32 | 11.1 | 11108.79 | 54.16809 | 1.714286 | 30.3115 | 0.35924 | 19.00 | ⋯ | 34 | 304.872 | 3988992 | 197000.0 | 216724.1 | 288000.2 | 32961 | 7.5 | 59.5 |  0.06279784 |\n| al-1985 | al | 1985 | 1.28 |  8.9 | 11332.63 | 55.27114 | 1.652542 | 30.2895 | 0.37579 | 19.67 | ⋯ | 45 | 276.742 | 4021008 | 194999.7 | 214349.0 | 284000.3 | 35091 | 7.2 | 60.1 |  0.02748997 |\n| al-1986 | al | 1986 | 1.23 |  9.8 | 11661.51 | 56.51450 | 1.609907 | 30.2674 | 0.39311 | 21.00 | ⋯ | 29 | 360.716 | 4049994 | 203999.9 | 212000.0 | 263000.3 | 36259 | 7.0 | 60.7 |  0.03214295 |\n| al-1987 | al | 1987 | 1.18 |  7.8 | 11944.00 | 57.50988 | 1.560000 | 30.2453 | 0.41123 | 21.00 | ⋯ | 30 | 368.421 | 4082999 | 204999.8 | 208998.5 | 258999.8 | 37426 | 6.2 | 61.5 |  0.04897637 |\n\n",
            "text/latex": "A pdata.frame: 6 × 34\n\\begin{tabular}{r|lllllllllllllllllllll}\n  & state & year & spirits & unemp & income & emppop & beertax & baptist & mormon & drinkage & ⋯ & nfatal2124 & afatal & pop & pop1517 & pop1820 & pop2124 & milestot & unempus & emppopus & gsp\\\\\n  & <fct> & <fct> & <dbl> & <dbl> & <dbl> & <dbl> & <dbl> & <dbl> & <dbl> & <dbl> & ⋯ & <int> & <dbl> & <dbl> & <dbl> & <dbl> & <dbl> & <dbl> & <dbl> & <dbl> & <dbl>\\\\\n\\hline\n\tal-1982 & al & 1982 & 1.37 & 14.4 & 10544.15 & 50.69204 & 1.539379 & 30.3557 & 0.32829 & 19.00 & ⋯ & 32 & 309.438 & 3942002 & 208999.6 & 221553.4 & 290000.1 & 28516 & 9.7 & 57.8 & -0.02212476\\\\\n\tal-1983 & al & 1983 & 1.36 & 13.7 & 10732.80 & 52.14703 & 1.788991 & 30.3336 & 0.34341 & 19.00 & ⋯ & 35 & 341.834 & 3960008 & 202000.1 & 219125.5 & 290000.2 & 31032 & 9.6 & 57.9 &  0.04655825\\\\\n\tal-1984 & al & 1984 & 1.32 & 11.1 & 11108.79 & 54.16809 & 1.714286 & 30.3115 & 0.35924 & 19.00 & ⋯ & 34 & 304.872 & 3988992 & 197000.0 & 216724.1 & 288000.2 & 32961 & 7.5 & 59.5 &  0.06279784\\\\\n\tal-1985 & al & 1985 & 1.28 &  8.9 & 11332.63 & 55.27114 & 1.652542 & 30.2895 & 0.37579 & 19.67 & ⋯ & 45 & 276.742 & 4021008 & 194999.7 & 214349.0 & 284000.3 & 35091 & 7.2 & 60.1 &  0.02748997\\\\\n\tal-1986 & al & 1986 & 1.23 &  9.8 & 11661.51 & 56.51450 & 1.609907 & 30.2674 & 0.39311 & 21.00 & ⋯ & 29 & 360.716 & 4049994 & 203999.9 & 212000.0 & 263000.3 & 36259 & 7.0 & 60.7 &  0.03214295\\\\\n\tal-1987 & al & 1987 & 1.18 &  7.8 & 11944.00 & 57.50988 & 1.560000 & 30.2453 & 0.41123 & 21.00 & ⋯ & 30 & 368.421 & 4082999 & 204999.8 & 208998.5 & 258999.8 & 37426 & 6.2 & 61.5 &  0.04897637\\\\\n\\end{tabular}\n",
            "text/plain": [
              "        state year spirits unemp income   emppop   beertax  baptist mormon \n",
              "al-1982 al    1982 1.37    14.4  10544.15 50.69204 1.539379 30.3557 0.32829\n",
              "al-1983 al    1983 1.36    13.7  10732.80 52.14703 1.788991 30.3336 0.34341\n",
              "al-1984 al    1984 1.32    11.1  11108.79 54.16809 1.714286 30.3115 0.35924\n",
              "al-1985 al    1985 1.28     8.9  11332.63 55.27114 1.652542 30.2895 0.37579\n",
              "al-1986 al    1986 1.23     9.8  11661.51 56.51450 1.609907 30.2674 0.39311\n",
              "al-1987 al    1987 1.18     7.8  11944.00 57.50988 1.560000 30.2453 0.41123\n",
              "        drinkage ⋯ nfatal2124 afatal  pop     pop1517  pop1820  pop2124 \n",
              "al-1982 19.00    ⋯ 32         309.438 3942002 208999.6 221553.4 290000.1\n",
              "al-1983 19.00    ⋯ 35         341.834 3960008 202000.1 219125.5 290000.2\n",
              "al-1984 19.00    ⋯ 34         304.872 3988992 197000.0 216724.1 288000.2\n",
              "al-1985 19.67    ⋯ 45         276.742 4021008 194999.7 214349.0 284000.3\n",
              "al-1986 21.00    ⋯ 29         360.716 4049994 203999.9 212000.0 263000.3\n",
              "al-1987 21.00    ⋯ 30         368.421 4082999 204999.8 208998.5 258999.8\n",
              "        milestot unempus emppopus gsp        \n",
              "al-1982 28516    9.7     57.8     -0.02212476\n",
              "al-1983 31032    9.6     57.9      0.04655825\n",
              "al-1984 32961    7.5     59.5      0.06279784\n",
              "al-1985 35091    7.2     60.1      0.02748997\n",
              "al-1986 36259    7.0     60.7      0.03214295\n",
              "al-1987 37426    6.2     61.5      0.04897637"
            ]
          },
          "metadata": {}
        }
      ]
    },
    {
      "cell_type": "markdown",
      "source": [
        "Summarize the variables 'state' and 'year'"
      ],
      "metadata": {
        "id": "WhCFrRk8TDkW"
      }
    },
    {
      "cell_type": "code",
      "source": [
        "summary(Fatalities[, c(1, 2)])"
      ],
      "metadata": {
        "colab": {
          "base_uri": "https://localhost:8080/",
          "height": 156
        },
        "id": "NqfQ58bFTFoC",
        "outputId": "0d461a5f-0de9-4e4e-85ab-d16d29a20275"
      },
      "execution_count": 8,
      "outputs": [
        {
          "output_type": "display_data",
          "data": {
            "text/plain": [
              "     state       year   \n",
              " al     :  7   1982:48  \n",
              " az     :  7   1983:48  \n",
              " ar     :  7   1984:48  \n",
              " ca     :  7   1985:48  \n",
              " co     :  7   1986:48  \n",
              " ct     :  7   1987:48  \n",
              " (Other):294   1988:48  "
            ]
          },
          "metadata": {}
        }
      ]
    },
    {
      "cell_type": "markdown",
      "source": [
        "Define the fatality rate"
      ],
      "metadata": {
        "id": "1GwpysDpTHtv"
      }
    },
    {
      "cell_type": "code",
      "source": [
        "Fatalities$fatal_rate <- Fatalities$fatal / Fatalities$pop * 10000\n",
        "summary(Fatalities$fatal_rate)"
      ],
      "metadata": {
        "colab": {
          "base_uri": "https://localhost:8080/",
          "height": 121
        },
        "id": "4EeuHBV9TJim",
        "outputId": "7bc269e0-4893-4047-9e5e-4f95c9f7279a"
      },
      "execution_count": 9,
      "outputs": [
        {
          "output_type": "display_data",
          "data": {
            "text/plain": [
              "total sum of squares: 108.9155 \n",
              "         id        time \n",
              "0.900980158 0.004539066 \n",
              "\n",
              "   Min. 1st Qu.  Median    Mean 3rd Qu.    Max. \n",
              " 0.8212  1.6237  1.9560  2.0404  2.4179  4.2178 "
            ]
          },
          "metadata": {}
        }
      ]
    },
    {
      "cell_type": "markdown",
      "source": [
        "Subset the data"
      ],
      "metadata": {
        "id": "zTcCuEu6TKZQ"
      }
    },
    {
      "cell_type": "code",
      "source": [
        "Fatalities1982 <- subset(Fatalities, year == \"1982\")\n",
        "Fatalities1988 <- subset(Fatalities, year == \"1988\")"
      ],
      "metadata": {
        "id": "F5Na72kXTNfP"
      },
      "execution_count": 10,
      "outputs": []
    },
    {
      "cell_type": "markdown",
      "source": [
        "Estimate simple regression models using 1982 and 1988 data"
      ],
      "metadata": {
        "id": "nk5eapvzTPUv"
      }
    },
    {
      "cell_type": "code",
      "source": [
        "fatal1982_mod <- lm(fatal_rate ~ beertax, data = Fatalities1982)\n",
        "fatal1988_mod <- lm(fatal_rate ~ beertax, data = Fatalities1988)"
      ],
      "metadata": {
        "id": "s0YJcwY_TSFa"
      },
      "execution_count": 11,
      "outputs": []
    },
    {
      "cell_type": "code",
      "source": [
        "coeftest(fatal1982_mod, vcov. = vcovHC, type = \"HC1\")"
      ],
      "metadata": {
        "colab": {
          "base_uri": "https://localhost:8080/",
          "height": 156
        },
        "id": "8hWkCZQjTTge",
        "outputId": "b58cc922-d665-4572-9814-ed99532626d0"
      },
      "execution_count": 12,
      "outputs": [
        {
          "output_type": "display_data",
          "data": {
            "text/plain": [
              "\n",
              "t test of coefficients:\n",
              "\n",
              "            Estimate Std. Error t value Pr(>|t|)    \n",
              "(Intercept)  2.01038    0.14957 13.4408   <2e-16 ***\n",
              "beertax      0.14846    0.13261  1.1196   0.2687    \n",
              "---\n",
              "Signif. codes:  0 ‘***’ 0.001 ‘**’ 0.01 ‘*’ 0.05 ‘.’ 0.1 ‘ ’ 1\n"
            ]
          },
          "metadata": {}
        }
      ]
    },
    {
      "cell_type": "code",
      "source": [
        "coeftest(fatal1988_mod, vcov. = vcovHC, type = \"HC1\")"
      ],
      "metadata": {
        "colab": {
          "base_uri": "https://localhost:8080/",
          "height": 156
        },
        "id": "JVmMxTKhTVCi",
        "outputId": "3eca9870-5e8d-481a-e77d-2c9715bc73a1"
      },
      "execution_count": 13,
      "outputs": [
        {
          "output_type": "display_data",
          "data": {
            "text/plain": [
              "\n",
              "t test of coefficients:\n",
              "\n",
              "            Estimate Std. Error t value  Pr(>|t|)    \n",
              "(Intercept)  1.85907    0.11461 16.2205 < 2.2e-16 ***\n",
              "beertax      0.43875    0.12786  3.4314  0.001279 ** \n",
              "---\n",
              "Signif. codes:  0 ‘***’ 0.001 ‘**’ 0.01 ‘*’ 0.05 ‘.’ 0.1 ‘ ’ 1\n"
            ]
          },
          "metadata": {}
        }
      ]
    },
    {
      "cell_type": "markdown",
      "source": [
        "Plot the observations and add the estimated regression line for 1982 data"
      ],
      "metadata": {
        "id": "AGniOu_UTYCc"
      }
    },
    {
      "cell_type": "code",
      "source": [
        "plot(x = as.double(Fatalities1982$beertax),\n",
        "     y = as.double(Fatalities1982$fatal_rate),\n",
        "     xlab = \"Beer tax (in 1988 dollars)\",\n",
        "     ylab = \"Fatality rate (fatalities per 10000)\",\n",
        "     main = \"Traffic Fatality Rates and Beer Taxes in 1982\",\n",
        "     ylim = c(0, 4.5),\n",
        "     pch = 20,\n",
        "     col = \"steelblue\")\n",
        "\n",
        "abline(fatal1982_mod, lwd = 1.5, col=\"darkred\")\n",
        "legend(\"topright\",lty=1,col=\"darkred\",\"Estimated Regression Line\")"
      ],
      "metadata": {
        "colab": {
          "base_uri": "https://localhost:8080/",
          "height": 437
        },
        "id": "Q2lfBsbuTXyo",
        "outputId": "6eea0ed9-3627-4c85-bd0e-2b1e227fb24d"
      },
      "execution_count": 14,
      "outputs": [
        {
          "output_type": "display_data",
          "data": {
            "text/plain": [
              "Plot with title “Traffic Fatality Rates and Beer Taxes in 1982”"
            ],
            "image/png": "[encoded data removed]"
          },
          "metadata": {
            "image/png": {
              "width": 420,
              "height": 420
            }
          }
        }
      ]
    },
    {
      "cell_type": "markdown",
      "source": [
        "Plot observations and add estimated regression line for 1988 data"
      ],
      "metadata": {
        "id": "r90WZcWfTe-i"
      }
    },
    {
      "cell_type": "code",
      "source": [
        "plot(x = as.double(Fatalities1988$beertax),\n",
        "     y = as.double(Fatalities1988$fatal_rate),\n",
        "     xlab = \"Beer tax (in 1988 dollars)\",\n",
        "     ylab = \"Fatality rate (fatalities per 10000)\",\n",
        "     main = \"Traffic Fatality Rates and Beer Taxes in 1988\",\n",
        "     ylim = c(0, 4.5),\n",
        "     pch = 20,\n",
        "     col = \"steelblue\")\n",
        "\n",
        "abline(fatal1988_mod, lwd = 1.5,col=\"darkred\")\n",
        "legend(\"bottomright\",lty=1,col=\"darkred\",\"Estimated Regression Line\")"
      ],
      "metadata": {
        "colab": {
          "base_uri": "https://localhost:8080/",
          "height": 437
        },
        "id": "DpbFrUNKTXNU",
        "outputId": "9c9fc1b6-8b74-46f4-a988-94111c6de592"
      },
      "execution_count": 15,
      "outputs": [
        {
          "output_type": "display_data",
          "data": {
            "text/plain": [
              "Plot with title “Traffic Fatality Rates and Beer Taxes in 1988”"
            ],
            "image/png": "[encoded data removed]"
          },
          "metadata": {
            "image/png": {
              "width": 420,
              "height": 420
            }
          }
        }
      ]
    },
    {
      "cell_type": "markdown",
      "source": [
        "## Panel Data with Two Time Periods: “Before and After” Comparisons"
      ],
      "metadata": {
        "id": "ZVcZPU5YTkt2"
      }
    },
    {
      "cell_type": "markdown",
      "source": [
        "Compute the differences"
      ],
      "metadata": {
        "id": "3anNkliyUpiJ"
      }
    },
    {
      "cell_type": "code",
      "source": [
        "diff_fatal_rate <- Fatalities1988$fatal_rate - Fatalities1982$fatal_rate\n",
        "diff_beertax <- Fatalities1988$beertax - Fatalities1982$beertax"
      ],
      "metadata": {
        "id": "jUPFQQ5wTrK8"
      },
      "execution_count": 16,
      "outputs": []
    },
    {
      "cell_type": "markdown",
      "source": [
        "Estimate a regression using differenced data"
      ],
      "metadata": {
        "id": "jr3Wnr3FUwFB"
      }
    },
    {
      "cell_type": "code",
      "source": [
        "fatal_diff_mod <- lm(diff_fatal_rate ~ diff_beertax)\n",
        "\n",
        "coeftest(fatal_diff_mod, vcov = vcovHC, type = \"HC1\")"
      ],
      "metadata": {
        "colab": {
          "base_uri": "https://localhost:8080/",
          "height": 156
        },
        "id": "kdtQcBJiUv2V",
        "outputId": "0266f3fb-20b9-49fd-a827-cf12b435d412"
      },
      "execution_count": 17,
      "outputs": [
        {
          "output_type": "display_data",
          "data": {
            "text/plain": [
              "\n",
              "t test of coefficients:\n",
              "\n",
              "              Estimate Std. Error t value Pr(>|t|)   \n",
              "(Intercept)  -0.072037   0.065355 -1.1022 0.276091   \n",
              "diff_beertax -1.040973   0.355006 -2.9323 0.005229 **\n",
              "---\n",
              "Signif. codes:  0 ‘***’ 0.001 ‘**’ 0.01 ‘*’ 0.05 ‘.’ 0.1 ‘ ’ 1\n"
            ]
          },
          "metadata": {}
        }
      ]
    },
    {
      "cell_type": "markdown",
      "source": [
        "Plot the differenced data"
      ],
      "metadata": {
        "id": "UAdlQbXWU5rj"
      }
    },
    {
      "cell_type": "code",
      "source": [
        "plot(x = as.double(diff_beertax),\n",
        "     y = as.double(diff_fatal_rate),\n",
        "     xlab = \"Change in beer tax (in 1988 dollars)\",\n",
        "     ylab = \"Change in fatality rate (fatalities per 10000)\",\n",
        "     main = \"Changes in Traffic Fatality Rates and Beer Taxes in 1982-1988\",\n",
        "     cex.main=1,\n",
        "     xlim = c(-0.6, 0.6),\n",
        "     ylim = c(-1.5, 1),\n",
        "     pch = 20,\n",
        "     col = \"steelblue\")\n",
        "\n",
        "# add the regression line to plot\n",
        "abline(fatal_diff_mod, lwd = 1.5,col=\"darkred\")\n",
        "#add legend\n",
        "legend(\"topright\",lty=1,col=\"darkred\",\"Estimated Regression Line\")"
      ],
      "metadata": {
        "colab": {
          "base_uri": "https://localhost:8080/",
          "height": 437
        },
        "id": "JNErIofsU4IU",
        "outputId": "b3bcf198-b67b-4afe-e2ed-d06de012a5ba"
      },
      "execution_count": 18,
      "outputs": [
        {
          "output_type": "display_data",
          "data": {
            "text/plain": [
              "Plot with title “Changes in Traffic Fatality Rates and Beer Taxes in 1982-1988”"
            ],
            "image/png": "[encoded data removed]"
          },
          "metadata": {
            "image/png": {
              "width": 420,
              "height": 420
            }
          }
        }
      ]
    },
    {
      "cell_type": "markdown",
      "source": [
        "Compute mean fatality rate over all states for all time periods"
      ],
      "metadata": {
        "id": "vJKSq_EnVGio"
      }
    },
    {
      "cell_type": "code",
      "source": [
        "mean(Fatalities$fatal_rate)"
      ],
      "metadata": {
        "colab": {
          "base_uri": "https://localhost:8080/",
          "height": 34
        },
        "id": "XOffdt3FVGSn",
        "outputId": "691da546-5658-4ec6-8d12-4278d3efdee0"
      },
      "execution_count": 19,
      "outputs": [
        {
          "output_type": "display_data",
          "data": {
            "text/html": [
              "2.04044378442357"
            ],
            "text/markdown": "2.04044378442357",
            "text/latex": "2.04044378442357",
            "text/plain": [
              "[1] 2.040444"
            ]
          },
          "metadata": {}
        }
      ]
    },
    {
      "cell_type": "markdown",
      "source": [
        "## Fixed Effects Regression"
      ],
      "metadata": {
        "id": "JGAXg23uVKKi"
      }
    },
    {
      "cell_type": "markdown",
      "source": [
        "Software packages use a so-called “entity-demeaned” OLS algorithm which is computationally more efficient than estimating regression models with  k+nregressors as needed for models"
      ],
      "metadata": {
        "id": "u54bhy_1VQSx"
      }
    },
    {
      "cell_type": "markdown",
      "source": [
        "Application to Traffic Deaths"
      ],
      "metadata": {
        "id": "tHWP6c4VVVrQ"
      }
    },
    {
      "cell_type": "code",
      "source": [
        "class(Fatalities$state)"
      ],
      "metadata": {
        "colab": {
          "base_uri": "https://localhost:8080/",
          "height": 34
        },
        "id": "O44x_OdfVPfm",
        "outputId": "c686acec-d45c-488b-e63e-13550b58ce4d"
      },
      "execution_count": 20,
      "outputs": [
        {
          "output_type": "display_data",
          "data": {
            "text/html": [
              "<style>\n",
              ".list-inline {list-style: none; margin:0; padding: 0}\n",
              ".list-inline>li {display: inline-block}\n",
              ".list-inline>li:not(:last-child)::after {content: \"\\00b7\"; padding: 0 .5ex}\n",
              "</style>\n",
              "<ol class=list-inline><li>'pseries'</li><li>'factor'</li></ol>\n"
            ],
            "text/markdown": "1. 'pseries'\n2. 'factor'\n\n\n",
            "text/latex": "\\begin{enumerate*}\n\\item 'pseries'\n\\item 'factor'\n\\end{enumerate*}\n",
            "text/plain": [
              "[1] \"pseries\" \"factor\" "
            ]
          },
          "metadata": {}
        }
      ]
    },
    {
      "cell_type": "code",
      "source": [
        "fatal_fe_lm_mod <- lm(fatal_rate ~ beertax + state -1 , data = Fatalities)\n",
        "fatal_fe_lm_mod"
      ],
      "metadata": {
        "colab": {
          "base_uri": "https://localhost:8080/",
          "height": 347
        },
        "id": "bFT0jzrpVZCV",
        "outputId": "f62c24b5-51c9-4323-ab35-746e106cff0b"
      },
      "execution_count": 21,
      "outputs": [
        {
          "output_type": "display_data",
          "data": {
            "text/plain": [
              "\n",
              "Call:\n",
              "lm(formula = fatal_rate ~ beertax + state - 1, data = Fatalities)\n",
              "\n",
              "Coefficients:\n",
              "beertax  stateal  stateaz  statear  stateca  stateco  statect  statede  \n",
              "-0.6559   3.4776   2.9099   2.8227   1.9682   1.9933   1.6154   2.1700  \n",
              "statefl  statega  stateid  stateil  statein  stateia  stateks  stateky  \n",
              " 3.2095   4.0022   2.8086   1.5160   2.0161   1.9337   2.2544   2.2601  \n",
              "statela  stateme  statemd  statema  statemi  statemn  statems  statemo  \n",
              " 2.6305   2.3697   1.7712   1.3679   1.9931   1.5804   3.4486   2.1814  \n",
              "statemt  statene  statenv  statenh  statenj  statenm  stateny  statenc  \n",
              " 3.1172   1.9555   2.8769   2.2232   1.3719   3.9040   1.2910   3.1872  \n",
              "statend  stateoh  stateok  stateor  statepa  stateri  statesc  statesd  \n",
              " 1.8542   1.8032   2.9326   2.3096   1.7102   1.2126   4.0348   2.4739  \n",
              "statetn  statetx  stateut  statevt  stateva  statewa  statewv  statewi  \n",
              " 2.6020   2.5602   2.3137   2.5116   2.1874   1.8181   2.5809   1.7184  \n",
              "statewy  \n",
              " 3.2491  \n"
            ]
          },
          "metadata": {}
        }
      ]
    },
    {
      "cell_type": "code",
      "source": [
        "summary(fatal_fe_lm_mod)"
      ],
      "metadata": {
        "colab": {
          "base_uri": "https://localhost:8080/",
          "height": 1000
        },
        "id": "Lv1e4xMNVcQM",
        "outputId": "363f4f53-7d74-4c9f-84b6-2997af5cf883"
      },
      "execution_count": 22,
      "outputs": [
        {
          "output_type": "display_data",
          "data": {
            "text/plain": [
              "\n",
              "Call:\n",
              "lm(formula = fatal_rate ~ beertax + state - 1, data = Fatalities)\n",
              "\n",
              "Residuals:\n",
              "     Min       1Q   Median       3Q      Max \n",
              "-0.58696 -0.08284 -0.00127  0.07955  0.89780 \n",
              "\n",
              "Coefficients:\n",
              "        Estimate Std. Error t value Pr(>|t|)    \n",
              "beertax -0.65587    0.18785  -3.491 0.000556 ***\n",
              "stateal  3.47763    0.31336  11.098  < 2e-16 ***\n",
              "stateaz  2.90990    0.09254  31.445  < 2e-16 ***\n",
              "statear  2.82268    0.13213  21.364  < 2e-16 ***\n",
              "stateca  1.96816    0.07401  26.594  < 2e-16 ***\n",
              "stateco  1.99335    0.08037  24.802  < 2e-16 ***\n",
              "statect  1.61537    0.08391  19.251  < 2e-16 ***\n",
              "statede  2.17003    0.07746  28.016  < 2e-16 ***\n",
              "statefl  3.20950    0.22151  14.489  < 2e-16 ***\n",
              "statega  4.00223    0.46403   8.625 4.43e-16 ***\n",
              "stateid  2.80861    0.09877  28.437  < 2e-16 ***\n",
              "stateil  1.51601    0.07848  19.318  < 2e-16 ***\n",
              "statein  2.01609    0.08867  22.736  < 2e-16 ***\n",
              "stateia  1.93370    0.10222  18.918  < 2e-16 ***\n",
              "stateks  2.25441    0.10863  20.753  < 2e-16 ***\n",
              "stateky  2.26011    0.08046  28.089  < 2e-16 ***\n",
              "statela  2.63051    0.16266  16.171  < 2e-16 ***\n",
              "stateme  2.36968    0.16006  14.805  < 2e-16 ***\n",
              "statemd  1.77119    0.08246  21.480  < 2e-16 ***\n",
              "statema  1.36788    0.08648  15.818  < 2e-16 ***\n",
              "statemi  1.99310    0.11663  17.089  < 2e-16 ***\n",
              "statemn  1.58042    0.09363  16.880  < 2e-16 ***\n",
              "statems  3.44855    0.20936  16.472  < 2e-16 ***\n",
              "statemo  2.18137    0.09252  23.576  < 2e-16 ***\n",
              "statemt  3.11724    0.09441  33.017  < 2e-16 ***\n",
              "statene  1.95545    0.10551  18.534  < 2e-16 ***\n",
              "statenv  2.87686    0.08106  35.492  < 2e-16 ***\n",
              "statenh  2.22318    0.14114  15.751  < 2e-16 ***\n",
              "statenj  1.37188    0.07333  18.709  < 2e-16 ***\n",
              "statenm  3.90401    0.10154  38.449  < 2e-16 ***\n",
              "stateny  1.29096    0.07563  17.070  < 2e-16 ***\n",
              "statenc  3.18717    0.25173  12.661  < 2e-16 ***\n",
              "statend  1.85419    0.10193  18.191  < 2e-16 ***\n",
              "stateoh  1.80321    0.10193  17.691  < 2e-16 ***\n",
              "stateok  2.93257    0.18428  15.913  < 2e-16 ***\n",
              "stateor  2.30963    0.08117  28.453  < 2e-16 ***\n",
              "statepa  1.71016    0.08648  19.776  < 2e-16 ***\n",
              "stateri  1.21258    0.07753  15.640  < 2e-16 ***\n",
              "statesc  4.03480    0.35479  11.372  < 2e-16 ***\n",
              "statesd  2.47391    0.14121  17.519  < 2e-16 ***\n",
              "statetn  2.60197    0.09162  28.398  < 2e-16 ***\n",
              "statetx  2.56016    0.10853  23.589  < 2e-16 ***\n",
              "stateut  2.31368    0.15453  14.972  < 2e-16 ***\n",
              "statevt  2.51159    0.13973  17.975  < 2e-16 ***\n",
              "stateva  2.18745    0.14664  14.917  < 2e-16 ***\n",
              "statewa  1.81811    0.08233  22.084  < 2e-16 ***\n",
              "statewv  2.58088    0.10767  23.971  < 2e-16 ***\n",
              "statewi  1.71836    0.07746  22.185  < 2e-16 ***\n",
              "statewy  3.24913    0.07233  44.922  < 2e-16 ***\n",
              "---\n",
              "Signif. codes:  0 ‘***’ 0.001 ‘**’ 0.01 ‘*’ 0.05 ‘.’ 0.1 ‘ ’ 1\n",
              "\n",
              "Residual standard error: 0.1899 on 287 degrees of freedom\n",
              "Multiple R-squared:  0.9931,\tAdjusted R-squared:  0.992 \n",
              "F-statistic: 847.8 on 49 and 287 DF,  p-value: < 2.2e-16\n"
            ]
          },
          "metadata": {}
        }
      ]
    },
    {
      "cell_type": "markdown",
      "source": [
        "Obtain demeaned data"
      ],
      "metadata": {
        "id": "8VQ1PbVQVjRY"
      }
    },
    {
      "cell_type": "code",
      "source": [
        "fatal_demeaned <- with(Fatalities,\n",
        "            data.frame(fatal_rate = fatal_rate - ave(fatal_rate, state),\n",
        "            beertax = beertax - ave(beertax, state)))"
      ],
      "metadata": {
        "id": "Im4BB9MiVhvz"
      },
      "execution_count": 23,
      "outputs": []
    },
    {
      "cell_type": "markdown",
      "source": [
        "Estimate the regression"
      ],
      "metadata": {
        "id": "meW19PqBVsUL"
      }
    },
    {
      "cell_type": "code",
      "source": [
        "summary(lm(fatal_rate ~ beertax - 1, data = fatal_demeaned))"
      ],
      "metadata": {
        "colab": {
          "base_uri": "https://localhost:8080/",
          "height": 312
        },
        "id": "o2lJ5jpQVpJB",
        "outputId": "7fe11658-9434-453c-894a-c481f58b1ed3"
      },
      "execution_count": 24,
      "outputs": [
        {
          "output_type": "display_data",
          "data": {
            "text/plain": [
              "\n",
              "Call:\n",
              "lm(formula = fatal_rate ~ beertax - 1, data = fatal_demeaned)\n",
              "\n",
              "Residuals:\n",
              "     Min       1Q   Median       3Q      Max \n",
              "-0.58696 -0.08284 -0.00127  0.07955  0.89780 \n",
              "\n",
              "Coefficients:\n",
              "        Estimate Std. Error t value Pr(>|t|)    \n",
              "beertax  -0.6559     0.1739  -3.772 0.000191 ***\n",
              "---\n",
              "Signif. codes:  0 ‘***’ 0.001 ‘**’ 0.01 ‘*’ 0.05 ‘.’ 0.1 ‘ ’ 1\n",
              "\n",
              "Residual standard error: 0.1757 on 335 degrees of freedom\n",
              "Multiple R-squared:  0.04074,\tAdjusted R-squared:  0.03788 \n",
              "F-statistic: 14.23 on 1 and 335 DF,  p-value: 0.0001913\n"
            ]
          },
          "metadata": {}
        }
      ]
    },
    {
      "cell_type": "markdown",
      "source": [
        "Estimate the fixed effects regression with `plm()`"
      ],
      "metadata": {
        "id": "r7jPcTt0VtwD"
      }
    },
    {
      "cell_type": "code",
      "source": [
        "fatal_fe_mod <- plm(fatal_rate ~ beertax,\n",
        "                    data = Fatalities,\n",
        "                    index = c(\"state\", \"year\"),\n",
        "                    model = \"within\")\n",
        "coeftest(fatal_fe_mod, vcov. = vcovHC, type = \"HC1\")"
      ],
      "metadata": {
        "colab": {
          "base_uri": "https://localhost:8080/",
          "height": 139
        },
        "id": "xeV2_VkhVzXm",
        "outputId": "80820019-8e3f-49e8-fb27-5b35a830b2a9"
      },
      "execution_count": 25,
      "outputs": [
        {
          "output_type": "display_data",
          "data": {
            "text/plain": [
              "\n",
              "t test of coefficients:\n",
              "\n",
              "        Estimate Std. Error t value Pr(>|t|)  \n",
              "beertax -0.65587    0.28880  -2.271  0.02388 *\n",
              "---\n",
              "Signif. codes:  0 ‘***’ 0.001 ‘**’ 0.01 ‘*’ 0.05 ‘.’ 0.1 ‘ ’ 1\n"
            ]
          },
          "metadata": {}
        }
      ]
    },
    {
      "cell_type": "markdown",
      "source": [
        "Regression with Time Fixed Effects\n",
        "\n",
        "Estimate a combined time and entity fixed effects regression model"
      ],
      "metadata": {
        "id": "1xRPlKn6V_c4"
      }
    },
    {
      "cell_type": "markdown",
      "source": [
        "Via `lm()`"
      ],
      "metadata": {
        "id": "_zoqSZccWE7b"
      }
    },
    {
      "cell_type": "code",
      "source": [
        "fatal_tefe_lm_mod <- lm(fatal_rate ~ beertax + state + year - 1, data = Fatalities)\n",
        "summary(fatal_tefe_lm_mod)"
      ],
      "metadata": {
        "colab": {
          "base_uri": "https://localhost:8080/",
          "height": 1000
        },
        "id": "6ue_BvrmV9mn",
        "outputId": "49a6b109-75cf-4b03-e897-b32b7162a186"
      },
      "execution_count": 26,
      "outputs": [
        {
          "output_type": "display_data",
          "data": {
            "text/plain": [
              "\n",
              "Call:\n",
              "lm(formula = fatal_rate ~ beertax + state + year - 1, data = Fatalities)\n",
              "\n",
              "Residuals:\n",
              "     Min       1Q   Median       3Q      Max \n",
              "-0.59556 -0.08096  0.00143  0.08234  0.83883 \n",
              "\n",
              "Coefficients:\n",
              "         Estimate Std. Error t value Pr(>|t|)    \n",
              "beertax  -0.63998    0.19738  -3.242  0.00133 ** \n",
              "stateal   3.51137    0.33250  10.560  < 2e-16 ***\n",
              "stateaz   2.96451    0.09933  29.846  < 2e-16 ***\n",
              "statear   2.87284    0.14162  20.286  < 2e-16 ***\n",
              "stateca   2.02618    0.07857  25.787  < 2e-16 ***\n",
              "stateco   2.04984    0.08594  23.851  < 2e-16 ***\n",
              "statect   1.67125    0.08989  18.592  < 2e-16 ***\n",
              "statede   2.22711    0.08264  26.951  < 2e-16 ***\n",
              "statefl   3.25132    0.23590  13.782  < 2e-16 ***\n",
              "statega   4.02300    0.49087   8.196 8.92e-15 ***\n",
              "stateid   2.86242    0.10606  26.990  < 2e-16 ***\n",
              "stateil   1.57287    0.08380  18.769  < 2e-16 ***\n",
              "statein   2.07123    0.09512  21.775  < 2e-16 ***\n",
              "stateia   1.98709    0.10976  18.103  < 2e-16 ***\n",
              "stateks   2.30707    0.11663  19.781  < 2e-16 ***\n",
              "stateky   2.31659    0.08604  26.923  < 2e-16 ***\n",
              "statela   2.67772    0.17390  15.398  < 2e-16 ***\n",
              "stateme   2.41713    0.17116  14.122  < 2e-16 ***\n",
              "statemd   1.82731    0.08828  20.700  < 2e-16 ***\n",
              "statema   1.42335    0.09272  15.352  < 2e-16 ***\n",
              "statemi   2.04488    0.12516  16.338  < 2e-16 ***\n",
              "statemn   1.63488    0.10051  16.266  < 2e-16 ***\n",
              "statems   3.49146    0.22311  15.649  < 2e-16 ***\n",
              "statemo   2.23598    0.09931  22.515  < 2e-16 ***\n",
              "statemt   3.17160    0.10136  31.291  < 2e-16 ***\n",
              "statene   2.00846    0.11329  17.729  < 2e-16 ***\n",
              "statenv   2.93322    0.08671  33.827  < 2e-16 ***\n",
              "statenh   2.27245    0.15116  15.033  < 2e-16 ***\n",
              "statenj   1.43016    0.07773  18.399  < 2e-16 ***\n",
              "statenm   3.95748    0.10903  36.296  < 2e-16 ***\n",
              "stateny   1.34849    0.08051  16.748  < 2e-16 ***\n",
              "statenc   3.22630    0.26770  12.052  < 2e-16 ***\n",
              "statend   1.90762    0.10945  17.428  < 2e-16 ***\n",
              "stateoh   1.85664    0.10945  16.963  < 2e-16 ***\n",
              "stateok   2.97776    0.19670  15.139  < 2e-16 ***\n",
              "stateor   2.36597    0.08684  27.244  < 2e-16 ***\n",
              "statepa   1.76563    0.09272  19.044  < 2e-16 ***\n",
              "stateri   1.26964    0.08272  15.348  < 2e-16 ***\n",
              "statesc   4.06496    0.37606  10.809  < 2e-16 ***\n",
              "statesd   2.52317    0.15123  16.684  < 2e-16 ***\n",
              "statetn   2.65670    0.09833  27.017  < 2e-16 ***\n",
              "statetx   2.61282    0.11653  22.423  < 2e-16 ***\n",
              "stateut   2.36165    0.16532  14.286  < 2e-16 ***\n",
              "statevt   2.56100    0.14966  17.112  < 2e-16 ***\n",
              "stateva   2.23618    0.15698  14.245  < 2e-16 ***\n",
              "statewa   1.87424    0.08813  21.266  < 2e-16 ***\n",
              "statewv   2.63364    0.11560  22.782  < 2e-16 ***\n",
              "statewi   1.77545    0.08264  21.485  < 2e-16 ***\n",
              "statewy   3.30791    0.07641  43.291  < 2e-16 ***\n",
              "year1983 -0.07990    0.03835  -2.083  0.03813 *  \n",
              "year1984 -0.07242    0.03835  -1.888  0.06001 .  \n",
              "year1985 -0.12398    0.03844  -3.225  0.00141 ** \n",
              "year1986 -0.03786    0.03859  -0.981  0.32731    \n",
              "year1987 -0.05090    0.03897  -1.306  0.19260    \n",
              "year1988 -0.05180    0.03962  -1.307  0.19215    \n",
              "---\n",
              "Signif. codes:  0 ‘***’ 0.001 ‘**’ 0.01 ‘*’ 0.05 ‘.’ 0.1 ‘ ’ 1\n",
              "\n",
              "Residual standard error: 0.1879 on 281 degrees of freedom\n",
              "Multiple R-squared:  0.9934,\tAdjusted R-squared:  0.9921 \n",
              "F-statistic: 771.5 on 55 and 281 DF,  p-value: < 2.2e-16\n"
            ]
          },
          "metadata": {}
        }
      ]
    },
    {
      "cell_type": "markdown",
      "source": [
        "Via `plm()`"
      ],
      "metadata": {
        "id": "Fnl02U9GWNoP"
      }
    },
    {
      "cell_type": "code",
      "source": [
        "fatal_tefe_mod <- plm(fatal_rate ~ beertax,\n",
        "                      data = Fatalities,\n",
        "                      index = c(\"state\", \"year\"),\n",
        "                      model = \"within\",\n",
        "                      effect = \"twoways\")\n",
        "\n",
        "coeftest(fatal_tefe_mod, vcov = vcovHC, type = \"HC1\")"
      ],
      "metadata": {
        "colab": {
          "base_uri": "https://localhost:8080/",
          "height": 139
        },
        "id": "nqudfRBOWMTI",
        "outputId": "30c7459f-fb99-4327-e038-6fa2310d9f6e"
      },
      "execution_count": 27,
      "outputs": [
        {
          "output_type": "display_data",
          "data": {
            "text/plain": [
              "\n",
              "t test of coefficients:\n",
              "\n",
              "        Estimate Std. Error t value Pr(>|t|)  \n",
              "beertax -0.63998    0.35015 -1.8277  0.06865 .\n",
              "---\n",
              "Signif. codes:  0 ‘***’ 0.001 ‘**’ 0.01 ‘*’ 0.05 ‘.’ 0.1 ‘ ’ 1\n"
            ]
          },
          "metadata": {}
        }
      ]
    },
    {
      "cell_type": "markdown",
      "source": [
        "check class of the model object"
      ],
      "metadata": {
        "id": "6prDjPsFWVZl"
      }
    },
    {
      "cell_type": "code",
      "source": [
        "class(fatal_tefe_lm_mod)"
      ],
      "metadata": {
        "colab": {
          "base_uri": "https://localhost:8080/",
          "height": 34
        },
        "id": "VhzR2kFTWV9r",
        "outputId": "b60e47d5-9324-43e2-8978-b56be5e9e444"
      },
      "execution_count": 28,
      "outputs": [
        {
          "output_type": "display_data",
          "data": {
            "text/html": [
              "'lm'"
            ],
            "text/markdown": "'lm'",
            "text/latex": "'lm'",
            "text/plain": [
              "[1] \"lm\""
            ]
          },
          "metadata": {}
        }
      ]
    },
    {
      "cell_type": "markdown",
      "source": [
        "Obtain a summary based on heteroskedasticity-robust standard errors\n",
        "\n",
        "(no adjustment for heteroskedasticity only)"
      ],
      "metadata": {
        "id": "7SuJpdccXF-q"
      }
    },
    {
      "cell_type": "code",
      "source": [
        "coeftest(fatal_tefe_lm_mod, vcov = vcovHC, type = \"HC1\")[1, ]"
      ],
      "metadata": {
        "colab": {
          "base_uri": "https://localhost:8080/",
          "height": 34
        },
        "id": "uK0cJkJ_XH1S",
        "outputId": "e7826917-c65a-47d0-cf81-baf67b6cff92"
      },
      "execution_count": 29,
      "outputs": [
        {
          "output_type": "display_data",
          "data": {
            "text/html": [
              "<style>\n",
              ".dl-inline {width: auto; margin:0; padding: 0}\n",
              ".dl-inline>dt, .dl-inline>dd {float: none; width: auto; display: inline-block}\n",
              ".dl-inline>dt::after {content: \":\\0020\"; padding-right: .5ex}\n",
              ".dl-inline>dt:not(:first-of-type) {padding-left: .5ex}\n",
              "</style><dl class=dl-inline><dt>Estimate</dt><dd>-0.639979985706868</dd><dt>Std. Error</dt><dd>0.254714892145965</dd><dt>t value</dt><dd>-2.51253462377114</dd><dt>Pr(&gt;|t|)</dt><dd>0.0125470035823845</dd></dl>\n"
            ],
            "text/markdown": "Estimate\n:   -0.639979985706868Std. Error\n:   0.254714892145965t value\n:   -2.51253462377114Pr(&amp;gt;|t|)\n:   0.0125470035823845\n\n",
            "text/latex": "\\begin{description*}\n\\item[Estimate] -0.639979985706868\n\\item[Std. Error] 0.254714892145965\n\\item[t value] -2.51253462377114\n\\item[Pr(>\\textbackslash{}textbar\\{\\}t\\textbackslash{}textbar\\{\\})] 0.0125470035823845\n\\end{description*}\n",
            "text/plain": [
              "  Estimate Std. Error    t value   Pr(>|t|) \n",
              "-0.6399800  0.2547149 -2.5125346  0.0125470 "
            ]
          },
          "metadata": {}
        }
      ]
    },
    {
      "cell_type": "markdown",
      "source": [
        "Obtain a summary based on clustered standard errors\n",
        "\n",
        "(adjustment for autocorrelation + heteroskedasticity)"
      ],
      "metadata": {
        "id": "hUmEx-o7XMw5"
      }
    },
    {
      "cell_type": "code",
      "source": [
        "coeftest(fatal_tefe_mod, vcov = vcovHC, type = \"HC1\")"
      ],
      "metadata": {
        "colab": {
          "base_uri": "https://localhost:8080/",
          "height": 139
        },
        "id": "W8zXorHsXRPC",
        "outputId": "bfadeb53-ba50-435a-a29b-d5f485b6f99b"
      },
      "execution_count": 30,
      "outputs": [
        {
          "output_type": "display_data",
          "data": {
            "text/plain": [
              "\n",
              "t test of coefficients:\n",
              "\n",
              "        Estimate Std. Error t value Pr(>|t|)  \n",
              "beertax -0.63998    0.35015 -1.8277  0.06865 .\n",
              "---\n",
              "Signif. codes:  0 ‘***’ 0.001 ‘**’ 0.01 ‘*’ 0.05 ‘.’ 0.1 ‘ ’ 1\n"
            ]
          },
          "metadata": {}
        }
      ]
    },
    {
      "cell_type": "markdown",
      "source": [
        "Drunk Driving Laws and Traffic Deaths\n",
        "\n",
        "discretize the minimum legal drinking age"
      ],
      "metadata": {
        "id": "Diqu8xvMXWFh"
      }
    },
    {
      "cell_type": "code",
      "source": [
        "Fatalities$drinkagec <- cut(Fatalities$drinkage,\n",
        "                            breaks = 18:22,\n",
        "                            include.lowest = TRUE,\n",
        "                            right = FALSE)"
      ],
      "metadata": {
        "id": "WS8bRa7wXZLQ"
      },
      "execution_count": 31,
      "outputs": []
    },
    {
      "cell_type": "markdown",
      "source": [
        "Set minimum drinking age [21, 22] to be the baseline level"
      ],
      "metadata": {
        "id": "0uumfHiiXezd"
      }
    },
    {
      "cell_type": "code",
      "source": [
        "Fatalities$drinkagec <- relevel(Fatalities$drinkagec, \"[21,22]\")"
      ],
      "metadata": {
        "id": "TnTvhWSMXhrf"
      },
      "execution_count": 32,
      "outputs": []
    },
    {
      "cell_type": "markdown",
      "source": [
        "Mandatory jail or community service?"
      ],
      "metadata": {
        "id": "tdstYIzUXlRX"
      }
    },
    {
      "cell_type": "code",
      "source": [
        "Fatalities$punish <- with(Fatalities, factor(jail == \"yes\" | service == \"yes\",\n",
        "                                             labels = c(\"no\", \"yes\")))"
      ],
      "metadata": {
        "id": "57Y9BxEDXoP_"
      },
      "execution_count": 33,
      "outputs": []
    },
    {
      "cell_type": "markdown",
      "source": [
        "The set of observations on all variables for 1982 and 1988"
      ],
      "metadata": {
        "id": "RUIgxuYjXqab"
      }
    },
    {
      "cell_type": "code",
      "source": [
        "fatal_1982_1988 <- Fatalities[with(Fatalities, year == 1982 | year == 1988), ]"
      ],
      "metadata": {
        "id": "xcCsYuf_XxBB"
      },
      "execution_count": 34,
      "outputs": []
    },
    {
      "cell_type": "markdown",
      "source": [
        "Estimate all seven models"
      ],
      "metadata": {
        "id": "jE5GhRLbXzrD"
      }
    },
    {
      "cell_type": "code",
      "source": [
        "fat_mod1 <- lm(fatal_rate ~ beertax, data = Fatalities)"
      ],
      "metadata": {
        "id": "sX7cjVvYX3E2"
      },
      "execution_count": 35,
      "outputs": []
    },
    {
      "cell_type": "code",
      "source": [
        "fat_mod2 <- plm(fatal_rate ~ beertax + state, data = Fatalities)"
      ],
      "metadata": {
        "id": "NOKBzLFOX9WD"
      },
      "execution_count": 36,
      "outputs": []
    },
    {
      "cell_type": "code",
      "source": [
        "fat_mod3 <- plm(fatal_rate ~ beertax + state + year,\n",
        "                       index = c(\"state\",\"year\"),\n",
        "                       model = \"within\",\n",
        "                       effect = \"twoways\",\n",
        "                       data = Fatalities)"
      ],
      "metadata": {
        "id": "JEydNm8cYAcf"
      },
      "execution_count": 37,
      "outputs": []
    },
    {
      "cell_type": "code",
      "source": [
        "fat_mod4 <- plm(fatal_rate ~ beertax + state + year + drinkagec\n",
        "                       + punish + miles + unemp + log(income),\n",
        "                       index = c(\"state\", \"year\"),\n",
        "                       model = \"within\",\n",
        "                       effect = \"twoways\",\n",
        "                       data = Fatalities)"
      ],
      "metadata": {
        "id": "AfmSDOHCYB5Z"
      },
      "execution_count": 38,
      "outputs": []
    },
    {
      "cell_type": "code",
      "source": [
        "fat_mod5 <- plm(fatal_rate ~ beertax + state + year + drinkagec\n",
        "                       + punish + miles,\n",
        "                       index = c(\"state\", \"year\"),\n",
        "                       model = \"within\",\n",
        "                       effect = \"twoways\",\n",
        "                       data = Fatalities)"
      ],
      "metadata": {
        "id": "HpZCek8fYD6G"
      },
      "execution_count": 39,
      "outputs": []
    },
    {
      "cell_type": "code",
      "source": [
        "fat_mod6 <- plm(fatal_rate ~ beertax + year + drinkage\n",
        "                       + punish + miles + unemp + log(income),\n",
        "                       index = c(\"state\", \"year\"),\n",
        "                       model = \"within\",\n",
        "                       effect = \"twoways\",\n",
        "                       data = Fatalities)"
      ],
      "metadata": {
        "id": "lvXrTo3tYG4K"
      },
      "execution_count": 40,
      "outputs": []
    },
    {
      "cell_type": "code",
      "source": [
        "fat_mod7 <- plm(fatal_rate ~ beertax + state + year + drinkagec\n",
        "                       + punish + miles + unemp + log(income),\n",
        "                       index = c(\"state\", \"year\"),\n",
        "                       model = \"within\",\n",
        "                       effect = \"twoways\",\n",
        "                       data = fatal_1982_1988)"
      ],
      "metadata": {
        "id": "4acTkjDRYIYI"
      },
      "execution_count": 41,
      "outputs": []
    },
    {
      "cell_type": "code",
      "source": [
        "library(modelsummary)"
      ],
      "metadata": {
        "id": "4-xvBwpVYJqq"
      },
      "execution_count": 42,
      "outputs": []
    },
    {
      "cell_type": "code",
      "source": [
        "# gather clustered standard errors in a list\n",
        "rob_se <- list(sqrt(diag(vcovHC(fat_mod1, type = \"HC1\"))),\n",
        "               sqrt(diag(vcovHC(fat_mod2, type = \"HC1\"))),\n",
        "               sqrt(diag(vcovHC(fat_mod3, type = \"HC1\"))),\n",
        "               sqrt(diag(vcovHC(fat_mod4, type = \"HC1\"))),\n",
        "               sqrt(diag(vcovHC(fat_mod5, type = \"HC1\"))),\n",
        "               sqrt(diag(vcovHC(fat_mod6, type = \"HC1\"))),\n",
        "               sqrt(diag(vcovHC(fat_mod7, type = \"HC1\"))))"
      ],
      "metadata": {
        "id": "4ZwrW2MKYSMg"
      },
      "execution_count": 43,
      "outputs": []
    },
    {
      "cell_type": "code",
      "source": [
        "modelsummary(list(fat_mod1, fat_mod2, fat_mod3, fat_mod4, fat_mod5, fat_mod6, fat_mod7),\n",
        "             fmt = 4,\n",
        "             stars = c('*' = .1, '**' = .05, '***' = .01),\n",
        "             gof_map = c(\"nobs\", \"r.squared\"),\n",
        "             se = rob_se,\n",
        "             title = \"Linear Panel Regression Models of Traffic Fatalities due to Drunk Driving\")\n",
        "\n"
      ],
      "metadata": {
        "colab": {
          "base_uri": "https://localhost:8080/",
          "height": 902
        },
        "id": "wek8otgXeck_",
        "outputId": "6276d7fb-4979-4f51-8b31-52d86cdcbed6"
      },
      "execution_count": 44,
      "outputs": [
        {
          "output_type": "display_data",
          "data": {
            "text/plain": [
              "\n",
              "+------------------+-----------+------------+------------+------------+------------+------------+------------+\n",
              "|                  | (1)       | (2)        | (3)        | (4)        | (5)        | (6)        | (7)        |\n",
              "+==================+===========+============+============+============+============+============+============+\n",
              "| (Intercept)      | 1.8533*** |            |            |            |            |            |            |\n",
              "+------------------+-----------+------------+------------+------------+------------+------------+------------+\n",
              "|                  | (0.0436)  |            |            |            |            |            |            |\n",
              "+------------------+-----------+------------+------------+------------+------------+------------+------------+\n",
              "| beertax          | 0.3646*** | -0.6559*** | -0.6400*** | -0.4453*** | -0.6899*** | -0.4565*** | -0.9256*** |\n",
              "+------------------+-----------+------------+------------+------------+------------+------------+------------+\n",
              "|                  | (0.0622)  | (0.1878)   | (0.1974)   | (0.1687)   | (0.2003)   | (0.1660)   | (0.3129)   |\n",
              "+------------------+-----------+------------+------------+------------+------------+------------+------------+\n",
              "| drinkagec[18,19) |           |            |            | 0.0284     | -0.0104    |            | 0.0374     |\n",
              "+------------------+-----------+------------+------------+------------+------------+------------+------------+\n",
              "|                  |           |            |            | (0.0658)   | (0.0790)   |            | (0.1379)   |\n",
              "+------------------+-----------+------------+------------+------------+------------+------------+------------+\n",
              "| drinkagec[19,20) |           |            |            | -0.0180    | -0.0757    |            | -0.0649    |\n",
              "+------------------+-----------+------------+------------+------------+------------+------------+------------+\n",
              "|                  |           |            |            | (0.0399)   | (0.0472)   |            | (0.1024)   |\n",
              "+------------------+-----------+------------+------------+------------+------------+------------+------------+\n",
              "| drinkagec[20,21) |           |            |            | 0.0320     | -0.1001*   |            | -0.1127    |\n",
              "+------------------+-----------+------------+------------+------------+------------+------------+------------+\n",
              "|                  |           |            |            | (0.0451)   | (0.0514)   |            | (0.1469)   |\n",
              "+------------------+-----------+------------+------------+------------+------------+------------+------------+\n",
              "| punishyes        |           |            |            | 0.0383     | 0.0853     | 0.0390     | 0.0890     |\n",
              "+------------------+-----------+------------+------------+------------+------------+------------+------------+\n",
              "|                  |           |            |            | (0.0599)   | (0.0717)   | (0.0597)   | (0.1397)   |\n",
              "+------------------+-----------+------------+------------+------------+------------+------------+------------+\n",
              "| miles            |           |            |            | 0.0000     | 0.0000     | 0.0000     | 0.0001*    |\n",
              "+------------------+-----------+------------+------------+------------+------------+------------+------------+\n",
              "|                  |           |            |            | (0.0000)   | (0.0000)   | (0.0000)   | (0.0001)   |\n",
              "+------------------+-----------+------------+------------+------------+------------+------------+------------+\n",
              "| unemp            |           |            |            | -0.0633*** |            | -0.0627*** | -0.0908*** |\n",
              "+------------------+-----------+------------+------------+------------+------------+------------+------------+\n",
              "|                  |           |            |            | (0.0112)   |            | (0.0111)   | (0.0256)   |\n",
              "+------------------+-----------+------------+------------+------------+------------+------------+------------+\n",
              "| log(income)      |           |            |            | 1.8158***  |            | 1.7864***  | 0.9955     |\n",
              "+------------------+-----------+------------+------------+------------+------------+------------+------------+\n",
              "|                  |           |            |            | (0.3801)   |            | (0.3626)   | (0.7149)   |\n",
              "+------------------+-----------+------------+------------+------------+------------+------------+------------+\n",
              "| drinkage         |           |            |            |            |            | -0.0022    |            |\n",
              "+------------------+-----------+------------+------------+------------+------------+------------+------------+\n",
              "|                  |           |            |            |            |            | (0.0178)   |            |\n",
              "+------------------+-----------+------------+------------+------------+------------+------------+------------+\n",
              "| Num.Obs.         | 336       | 336        | 336        | 335        | 335        | 335        | 95         |\n",
              "+------------------+-----------+------------+------------+------------+------------+------------+------------+\n",
              "| R2               | 0.093     | 0.041      | 0.036      | 0.360      | 0.066      | 0.357      | 0.659      |\n",
              "+==================+===========+============+============+============+============+============+============+\n",
              "| * p < 0.1, ** p < 0.05, *** p < 0.01                                                                       |\n",
              "+==================+===========+============+============+============+============+============+============+\n",
              "Table: Linear Panel Regression Models of Traffic Fatalities due to Drunk Driving "
            ]
          },
          "metadata": {}
        }
      ]
    },
    {
      "cell_type": "markdown",
      "source": [
        "## The Electoral Advantage to Incumbency and Voters' Valuation of Politicians' Experience: A Regression Discontinuity Analysis of Elections to the U.S"
      ],
      "metadata": {
        "id": "2D9_sesEpPKI"
      }
    },
    {
      "cell_type": "code",
      "source": [
        "library(rdd)\n",
        "library(car)"
      ],
      "metadata": {
        "colab": {
          "base_uri": "https://localhost:8080/"
        },
        "id": "c3yS2EMloVlC",
        "outputId": "ae6ddfb7-2756-4ec1-e87c-e815135a1b49"
      },
      "execution_count": 45,
      "outputs": [
        {
          "output_type": "stream",
          "name": "stderr",
          "text": [
            "Loading required package: Formula\n",
            "\n"
          ]
        }
      ]
    },
    {
      "cell_type": "code",
      "source": [
        "df_incum <- read.csv(\"https://raw.githubusercontent.com/emolinaperez/econometrics_mek/main/Week%209/data/indiv_final.csv\")\n",
        "head(df_incum)\n"
      ],
      "metadata": {
        "colab": {
          "base_uri": "https://localhost:8080/",
          "height": 286
        },
        "id": "wf1TzCbDpiR-",
        "outputId": "1b85ca8f-1143-4d5c-993f-0d4d054699a5"
      },
      "execution_count": 46,
      "outputs": [
        {
          "output_type": "display_data",
          "data": {
            "text/html": [
              "<table class=\"dataframe\">\n",
              "<caption>A data.frame: 6 × 3</caption>\n",
              "<thead>\n",
              "\t<tr><th></th><th scope=col>yearel</th><th scope=col>myoutcomenext</th><th scope=col>difshare</th></tr>\n",
              "\t<tr><th></th><th scope=col>&lt;int&gt;</th><th scope=col>&lt;int&gt;</th><th scope=col>&lt;dbl&gt;</th></tr>\n",
              "</thead>\n",
              "<tbody>\n",
              "\t<tr><th scope=row>1</th><td>1946</td><td>0</td><td> 0.0614882</td></tr>\n",
              "\t<tr><th scope=row>2</th><td>1946</td><td>0</td><td>-0.0614882</td></tr>\n",
              "\t<tr><th scope=row>3</th><td>1948</td><td>1</td><td> 0.1048695</td></tr>\n",
              "\t<tr><th scope=row>4</th><td>1948</td><td>0</td><td>-0.1048695</td></tr>\n",
              "\t<tr><th scope=row>5</th><td>1948</td><td>0</td><td>-0.5357210</td></tr>\n",
              "\t<tr><th scope=row>6</th><td>1950</td><td>0</td><td> 0.1644641</td></tr>\n",
              "</tbody>\n",
              "</table>\n"
            ],
            "text/markdown": "\nA data.frame: 6 × 3\n\n| <!--/--> | yearel &lt;int&gt; | myoutcomenext &lt;int&gt; | difshare &lt;dbl&gt; |\n|---|---|---|---|\n| 1 | 1946 | 0 |  0.0614882 |\n| 2 | 1946 | 0 | -0.0614882 |\n| 3 | 1948 | 1 |  0.1048695 |\n| 4 | 1948 | 0 | -0.1048695 |\n| 5 | 1948 | 0 | -0.5357210 |\n| 6 | 1950 | 0 |  0.1644641 |\n\n",
            "text/latex": "A data.frame: 6 × 3\n\\begin{tabular}{r|lll}\n  & yearel & myoutcomenext & difshare\\\\\n  & <int> & <int> & <dbl>\\\\\n\\hline\n\t1 & 1946 & 0 &  0.0614882\\\\\n\t2 & 1946 & 0 & -0.0614882\\\\\n\t3 & 1948 & 1 &  0.1048695\\\\\n\t4 & 1948 & 0 & -0.1048695\\\\\n\t5 & 1948 & 0 & -0.5357210\\\\\n\t6 & 1950 & 0 &  0.1644641\\\\\n\\end{tabular}\n",
            "text/plain": [
              "  yearel myoutcomenext difshare  \n",
              "1 1946   0              0.0614882\n",
              "2 1946   0             -0.0614882\n",
              "3 1948   1              0.1048695\n",
              "4 1948   0             -0.1048695\n",
              "5 1948   0             -0.5357210\n",
              "6 1950   0              0.1644641"
            ]
          },
          "metadata": {}
        }
      ]
    },
    {
      "cell_type": "markdown",
      "source": [
        "yearel: election year\n",
        "\n",
        "myoutcomenext: a dummy variable indicating whether the candidate of the incumbent party was elected\n",
        "\n",
        "difshare: a normalized running variable: proportion of votes of the party in the previous election - 0.5. If  difshare>0 then the candidate runs for the same\n",
        "party as the incumbent."
      ],
      "metadata": {
        "id": "fSBuqbbKqqW6"
      }
    },
    {
      "cell_type": "code",
      "source": [
        "# Create a variable to indicate whether the party of the candidate is the same as the incumbent\n",
        "df_incum$incum_paty <- as.numeric(df_incum$difshare > 0)\n",
        "\n",
        "incum_proportion <- sum(df_incum$incum_paty)/nrow(df_incum)\n",
        "\n",
        "summary(df_incum$incum_paty)"
      ],
      "metadata": {
        "colab": {
          "base_uri": "https://localhost:8080/",
          "height": 52
        },
        "id": "90ocDK9Zqzgh",
        "outputId": "f9990a52-6b70-43ce-9387-08489e2c4048"
      },
      "execution_count": 47,
      "outputs": [
        {
          "output_type": "display_data",
          "data": {
            "text/plain": [
              "   Min. 1st Qu.  Median    Mean 3rd Qu.    Max. \n",
              "  0.000   0.000   0.000   0.399   1.000   1.000 "
            ]
          },
          "metadata": {}
        }
      ]
    },
    {
      "cell_type": "markdown",
      "source": [
        "Analyzing, it can not be rejected that the null hypothesis difference is equals zero. According to the output the p-value associated to this test is 0.962. This implies that the assumption that there is no differential density around the cutoff holds in this case. It can also be seen in the plot produced by the R command and that is presented below:"
      ],
      "metadata": {
        "id": "rx8WFjdOrt0k"
      }
    },
    {
      "cell_type": "code",
      "source": [
        "# Check for discontinuities\n",
        "rdd::DCdensity(df_incum$difshare, 0, verbose = TRUE, htest = TRUE, ext.out=TRUE)\n"
      ],
      "metadata": {
        "colab": {
          "base_uri": "https://localhost:8080/",
          "height": 1000
        },
        "id": "ubxbJch0q20M",
        "outputId": "e00265a5-5b1f-48a3-b73d-a2ff4dfa91a6"
      },
      "execution_count": 48,
      "outputs": [
        {
          "output_type": "stream",
          "name": "stdout",
          "text": [
            "Using calculated bin size:  0.005 \n",
            "Using calculated bandwidth:  0.183 \n",
            "Log difference in heights is  -0.002  with SE  0.052 \n",
            "  this gives a z-stat of  -0.048 \n",
            "  and a p value of  0.962 \n"
          ]
        },
        {
          "output_type": "display_data",
          "data": {
            "text/html": [
              "<dl>\n",
              "\t<dt>$theta</dt>\n",
              "\t\t<dd>-0.00247000077089587</dd>\n",
              "\t<dt>$se</dt>\n",
              "\t\t<dd>0.0519360849037898</dd>\n",
              "\t<dt>$z</dt>\n",
              "\t\t<dd>-0.0475584706754752</dd>\n",
              "\t<dt>$p</dt>\n",
              "\t\t<dd>0.962068130153307</dd>\n",
              "\t<dt>$binsize</dt>\n",
              "\t\t<dd>0.00529088540008645</dd>\n",
              "\t<dt>$bw</dt>\n",
              "\t\t<dd>0.183346575768925</dd>\n",
              "\t<dt>$cutpoint</dt>\n",
              "\t\t<dd>0</dd>\n",
              "\t<dt>$data</dt>\n",
              "\t\t<dd><table class=\"dataframe\">\n",
              "<caption>A data.frame: 380 × 2</caption>\n",
              "<thead>\n",
              "\t<tr><th scope=col>cellmp</th><th scope=col>cellval</th></tr>\n",
              "\t<tr><th scope=col>&lt;dbl&gt;</th><th scope=col>&lt;dbl&gt;</th></tr>\n",
              "</thead>\n",
              "<tbody>\n",
              "\t<tr><td>-1.0026228</td><td>0.01515854</td></tr>\n",
              "\t<tr><td>-0.9973319</td><td>1.60680547</td></tr>\n",
              "\t<tr><td>-0.9920410</td><td>0.21979886</td></tr>\n",
              "\t<tr><td>-0.9867501</td><td>0.07579271</td></tr>\n",
              "\t<tr><td>-0.9814592</td><td>0.03789636</td></tr>\n",
              "\t<tr><td>-0.9761684</td><td>0.12884761</td></tr>\n",
              "\t<tr><td>-0.9708775</td><td>0.12126834</td></tr>\n",
              "\t<tr><td>-0.9655866</td><td>0.07579271</td></tr>\n",
              "\t<tr><td>-0.9602957</td><td>0.11368907</td></tr>\n",
              "\t<tr><td>-0.9550048</td><td>0.08337198</td></tr>\n",
              "\t<tr><td>-0.9497139</td><td>0.06821344</td></tr>\n",
              "\t<tr><td>-0.9444230</td><td>0.09853052</td></tr>\n",
              "\t<tr><td>-0.9391322</td><td>0.20464032</td></tr>\n",
              "\t<tr><td>-0.9338413</td><td>0.08337198</td></tr>\n",
              "\t<tr><td>-0.9285504</td><td>0.16674396</td></tr>\n",
              "\t<tr><td>-0.9232595</td><td>0.15916469</td></tr>\n",
              "\t<tr><td>-0.9179686</td><td>0.07579271</td></tr>\n",
              "\t<tr><td>-0.9126777</td><td>0.06063417</td></tr>\n",
              "\t<tr><td>-0.9073868</td><td>0.11368907</td></tr>\n",
              "\t<tr><td>-0.9020960</td><td>0.12884761</td></tr>\n",
              "\t<tr><td>-0.8968051</td><td>0.12126834</td></tr>\n",
              "\t<tr><td>-0.8915142</td><td>0.06063417</td></tr>\n",
              "\t<tr><td>-0.8862233</td><td>0.18948178</td></tr>\n",
              "\t<tr><td>-0.8809324</td><td>0.21221959</td></tr>\n",
              "\t<tr><td>-0.8756415</td><td>0.16674396</td></tr>\n",
              "\t<tr><td>-0.8703506</td><td>0.09853052</td></tr>\n",
              "\t<tr><td>-0.8650598</td><td>0.11368907</td></tr>\n",
              "\t<tr><td>-0.8597689</td><td>0.17432323</td></tr>\n",
              "\t<tr><td>-0.8544780</td><td>0.21221959</td></tr>\n",
              "\t<tr><td>-0.8491871</td><td>0.15158542</td></tr>\n",
              "\t<tr><td>⋮</td><td>⋮</td></tr>\n",
              "\t<tr><td>0.8491871</td><td>0.06063417</td></tr>\n",
              "\t<tr><td>0.8544780</td><td>0.08337198</td></tr>\n",
              "\t<tr><td>0.8597689</td><td>0.09095125</td></tr>\n",
              "\t<tr><td>0.8650598</td><td>0.06063417</td></tr>\n",
              "\t<tr><td>0.8703506</td><td>0.04547563</td></tr>\n",
              "\t<tr><td>0.8756415</td><td>0.10610980</td></tr>\n",
              "\t<tr><td>0.8809324</td><td>0.09095125</td></tr>\n",
              "\t<tr><td>0.8862233</td><td>0.06821344</td></tr>\n",
              "\t<tr><td>0.8915142</td><td>0.02273781</td></tr>\n",
              "\t<tr><td>0.8968051</td><td>0.08337198</td></tr>\n",
              "\t<tr><td>0.9020960</td><td>0.06063417</td></tr>\n",
              "\t<tr><td>0.9073868</td><td>0.04547563</td></tr>\n",
              "\t<tr><td>0.9126777</td><td>0.03789636</td></tr>\n",
              "\t<tr><td>0.9179686</td><td>0.04547563</td></tr>\n",
              "\t<tr><td>0.9232595</td><td>0.08337198</td></tr>\n",
              "\t<tr><td>0.9285504</td><td>0.07579271</td></tr>\n",
              "\t<tr><td>0.9338413</td><td>0.07579271</td></tr>\n",
              "\t<tr><td>0.9391322</td><td>0.04547563</td></tr>\n",
              "\t<tr><td>0.9444230</td><td>0.09095125</td></tr>\n",
              "\t<tr><td>0.9497139</td><td>0.04547563</td></tr>\n",
              "\t<tr><td>0.9550048</td><td>0.04547563</td></tr>\n",
              "\t<tr><td>0.9602957</td><td>0.05305490</td></tr>\n",
              "\t<tr><td>0.9655866</td><td>0.03789636</td></tr>\n",
              "\t<tr><td>0.9708775</td><td>0.09095125</td></tr>\n",
              "\t<tr><td>0.9761684</td><td>0.03031708</td></tr>\n",
              "\t<tr><td>0.9814592</td><td>0.02273781</td></tr>\n",
              "\t<tr><td>0.9867501</td><td>0.04547563</td></tr>\n",
              "\t<tr><td>0.9920410</td><td>0.11368907</td></tr>\n",
              "\t<tr><td>0.9973319</td><td>0.65939658</td></tr>\n",
              "\t<tr><td>1.0026228</td><td>0.01515854</td></tr>\n",
              "</tbody>\n",
              "</table>\n",
              "</dd>\n",
              "</dl>\n"
            ],
            "text/markdown": "$theta\n:   -0.00247000077089587\n$se\n:   0.0519360849037898\n$z\n:   -0.0475584706754752\n$p\n:   0.962068130153307\n$binsize\n:   0.00529088540008645\n$bw\n:   0.183346575768925\n$cutpoint\n:   0\n$data\n:   \nA data.frame: 380 × 2\n\n| cellmp &lt;dbl&gt; | cellval &lt;dbl&gt; |\n|---|---|\n| -1.0026228 | 0.01515854 |\n| -0.9973319 | 1.60680547 |\n| -0.9920410 | 0.21979886 |\n| -0.9867501 | 0.07579271 |\n| -0.9814592 | 0.03789636 |\n| -0.9761684 | 0.12884761 |\n| -0.9708775 | 0.12126834 |\n| -0.9655866 | 0.07579271 |\n| -0.9602957 | 0.11368907 |\n| -0.9550048 | 0.08337198 |\n| -0.9497139 | 0.06821344 |\n| -0.9444230 | 0.09853052 |\n| -0.9391322 | 0.20464032 |\n| -0.9338413 | 0.08337198 |\n| -0.9285504 | 0.16674396 |\n| -0.9232595 | 0.15916469 |\n| -0.9179686 | 0.07579271 |\n| -0.9126777 | 0.06063417 |\n| -0.9073868 | 0.11368907 |\n| -0.9020960 | 0.12884761 |\n| -0.8968051 | 0.12126834 |\n| -0.8915142 | 0.06063417 |\n| -0.8862233 | 0.18948178 |\n| -0.8809324 | 0.21221959 |\n| -0.8756415 | 0.16674396 |\n| -0.8703506 | 0.09853052 |\n| -0.8650598 | 0.11368907 |\n| -0.8597689 | 0.17432323 |\n| -0.8544780 | 0.21221959 |\n| -0.8491871 | 0.15158542 |\n| ⋮ | ⋮ |\n| 0.8491871 | 0.06063417 |\n| 0.8544780 | 0.08337198 |\n| 0.8597689 | 0.09095125 |\n| 0.8650598 | 0.06063417 |\n| 0.8703506 | 0.04547563 |\n| 0.8756415 | 0.10610980 |\n| 0.8809324 | 0.09095125 |\n| 0.8862233 | 0.06821344 |\n| 0.8915142 | 0.02273781 |\n| 0.8968051 | 0.08337198 |\n| 0.9020960 | 0.06063417 |\n| 0.9073868 | 0.04547563 |\n| 0.9126777 | 0.03789636 |\n| 0.9179686 | 0.04547563 |\n| 0.9232595 | 0.08337198 |\n| 0.9285504 | 0.07579271 |\n| 0.9338413 | 0.07579271 |\n| 0.9391322 | 0.04547563 |\n| 0.9444230 | 0.09095125 |\n| 0.9497139 | 0.04547563 |\n| 0.9550048 | 0.04547563 |\n| 0.9602957 | 0.05305490 |\n| 0.9655866 | 0.03789636 |\n| 0.9708775 | 0.09095125 |\n| 0.9761684 | 0.03031708 |\n| 0.9814592 | 0.02273781 |\n| 0.9867501 | 0.04547563 |\n| 0.9920410 | 0.11368907 |\n| 0.9973319 | 0.65939658 |\n| 1.0026228 | 0.01515854 |\n\n\n\n\n",
            "text/latex": "\\begin{description}\n\\item[\\$theta] -0.00247000077089587\n\\item[\\$se] 0.0519360849037898\n\\item[\\$z] -0.0475584706754752\n\\item[\\$p] 0.962068130153307\n\\item[\\$binsize] 0.00529088540008645\n\\item[\\$bw] 0.183346575768925\n\\item[\\$cutpoint] 0\n\\item[\\$data] A data.frame: 380 × 2\n\\begin{tabular}{ll}\n cellmp & cellval\\\\\n <dbl> & <dbl>\\\\\n\\hline\n\t -1.0026228 & 0.01515854\\\\\n\t -0.9973319 & 1.60680547\\\\\n\t -0.9920410 & 0.21979886\\\\\n\t -0.9867501 & 0.07579271\\\\\n\t -0.9814592 & 0.03789636\\\\\n\t -0.9761684 & 0.12884761\\\\\n\t -0.9708775 & 0.12126834\\\\\n\t -0.9655866 & 0.07579271\\\\\n\t -0.9602957 & 0.11368907\\\\\n\t -0.9550048 & 0.08337198\\\\\n\t -0.9497139 & 0.06821344\\\\\n\t -0.9444230 & 0.09853052\\\\\n\t -0.9391322 & 0.20464032\\\\\n\t -0.9338413 & 0.08337198\\\\\n\t -0.9285504 & 0.16674396\\\\\n\t -0.9232595 & 0.15916469\\\\\n\t -0.9179686 & 0.07579271\\\\\n\t -0.9126777 & 0.06063417\\\\\n\t -0.9073868 & 0.11368907\\\\\n\t -0.9020960 & 0.12884761\\\\\n\t -0.8968051 & 0.12126834\\\\\n\t -0.8915142 & 0.06063417\\\\\n\t -0.8862233 & 0.18948178\\\\\n\t -0.8809324 & 0.21221959\\\\\n\t -0.8756415 & 0.16674396\\\\\n\t -0.8703506 & 0.09853052\\\\\n\t -0.8650598 & 0.11368907\\\\\n\t -0.8597689 & 0.17432323\\\\\n\t -0.8544780 & 0.21221959\\\\\n\t -0.8491871 & 0.15158542\\\\\n\t ⋮ & ⋮\\\\\n\t 0.8491871 & 0.06063417\\\\\n\t 0.8544780 & 0.08337198\\\\\n\t 0.8597689 & 0.09095125\\\\\n\t 0.8650598 & 0.06063417\\\\\n\t 0.8703506 & 0.04547563\\\\\n\t 0.8756415 & 0.10610980\\\\\n\t 0.8809324 & 0.09095125\\\\\n\t 0.8862233 & 0.06821344\\\\\n\t 0.8915142 & 0.02273781\\\\\n\t 0.8968051 & 0.08337198\\\\\n\t 0.9020960 & 0.06063417\\\\\n\t 0.9073868 & 0.04547563\\\\\n\t 0.9126777 & 0.03789636\\\\\n\t 0.9179686 & 0.04547563\\\\\n\t 0.9232595 & 0.08337198\\\\\n\t 0.9285504 & 0.07579271\\\\\n\t 0.9338413 & 0.07579271\\\\\n\t 0.9391322 & 0.04547563\\\\\n\t 0.9444230 & 0.09095125\\\\\n\t 0.9497139 & 0.04547563\\\\\n\t 0.9550048 & 0.04547563\\\\\n\t 0.9602957 & 0.05305490\\\\\n\t 0.9655866 & 0.03789636\\\\\n\t 0.9708775 & 0.09095125\\\\\n\t 0.9761684 & 0.03031708\\\\\n\t 0.9814592 & 0.02273781\\\\\n\t 0.9867501 & 0.04547563\\\\\n\t 0.9920410 & 0.11368907\\\\\n\t 0.9973319 & 0.65939658\\\\\n\t 1.0026228 & 0.01515854\\\\\n\\end{tabular}\n\n\\end{description}\n",
            "text/plain": [
              "$theta\n",
              "[1] -0.002470001\n",
              "\n",
              "$se\n",
              "[1] 0.05193608\n",
              "\n",
              "$z\n",
              "[1] -0.04755847\n",
              "\n",
              "$p\n",
              "[1] 0.9620681\n",
              "\n",
              "$binsize\n",
              "[1] 0.005290885\n",
              "\n",
              "$bw\n",
              "[1] 0.1833466\n",
              "\n",
              "$cutpoint\n",
              "[1] 0\n",
              "\n",
              "$data\n",
              "          cellmp    cellval\n",
              "1   -1.002622783 0.01515854\n",
              "2   -0.997331898 1.60680547\n",
              "3   -0.992041013 0.21979886\n",
              "4   -0.986750127 0.07579271\n",
              "5   -0.981459242 0.03789636\n",
              "6   -0.976168356 0.12884761\n",
              "7   -0.970877471 0.12126834\n",
              "8   -0.965586586 0.07579271\n",
              "9   -0.960295700 0.11368907\n",
              "10  -0.955004815 0.08337198\n",
              "11  -0.949713929 0.06821344\n",
              "12  -0.944423044 0.09853052\n",
              "13  -0.939132159 0.20464032\n",
              "14  -0.933841273 0.08337198\n",
              "15  -0.928550388 0.16674396\n",
              "16  -0.923259502 0.15916469\n",
              "17  -0.917968617 0.07579271\n",
              "18  -0.912677732 0.06063417\n",
              "19  -0.907386846 0.11368907\n",
              "20  -0.902095961 0.12884761\n",
              "21  -0.896805075 0.12126834\n",
              "22  -0.891514190 0.06063417\n",
              "23  -0.886223305 0.18948178\n",
              "24  -0.880932419 0.21221959\n",
              "25  -0.875641534 0.16674396\n",
              "26  -0.870350648 0.09853052\n",
              "27  -0.865059763 0.11368907\n",
              "28  -0.859768878 0.17432323\n",
              "29  -0.854477992 0.21221959\n",
              "30  -0.849187107 0.15158542\n",
              "31  -0.843896221 0.09853052\n",
              "32  -0.838605336 0.18948178\n",
              "33  -0.833314451 0.18948178\n",
              "34  -0.828023565 0.11368907\n",
              "35  -0.822732680 0.12126834\n",
              "36  -0.817441794 0.26527449\n",
              "37  -0.812150909 0.12884761\n",
              "38  -0.806860024 0.18948178\n",
              "39  -0.801569138 0.15158542\n",
              "40  -0.796278253 0.18190251\n",
              "41  -0.790987367 0.19706105\n",
              "42  -0.785696482 0.21221959\n",
              "43  -0.780405597 0.20464032\n",
              "44  -0.775114711 0.24253667\n",
              "45  -0.769823826 0.18948178\n",
              "46  -0.764532940 0.19706105\n",
              "47  -0.759242055 0.26527449\n",
              "48  -0.753951170 0.32590866\n",
              "49  -0.748660284 0.29559157\n",
              "50  -0.743369399 0.38654282\n",
              "51  -0.738078513 0.30317084\n",
              "52  -0.732787628 0.33348793\n",
              "53  -0.727496743 0.33348793\n",
              "54  -0.722205857 0.47749408\n",
              "55  -0.716914972 0.39412210\n",
              "56  -0.711624086 0.45475626\n",
              "57  -0.706333201 0.46991481\n",
              "58  -0.701042316 0.53812825\n",
              "59  -0.695751430 0.68971367\n",
              "60  -0.690460545 0.55328679\n",
              "61  -0.685169659 0.52296970\n",
              "62  -0.679878774 0.60634169\n",
              "63  -0.674587889 0.59118314\n",
              "64  -0.669297003 0.56086606\n",
              "65  -0.664006118 0.78066492\n",
              "66  -0.658715232 0.81098200\n",
              "67  -0.653424347 0.81856128\n",
              "68  -0.648133462 0.79582346\n",
              "69  -0.642842576 0.83371982\n",
              "70  -0.637551691 0.88677472\n",
              "71  -0.632260805 0.97014670\n",
              "72  -0.626969920 0.74276857\n",
              "73  -0.621679035 0.81856128\n",
              "74  -0.616388149 0.73518929\n",
              "75  -0.611097264 0.92467107\n",
              "76  -0.605806378 0.94740888\n",
              "77  -0.600515493 0.91709180\n",
              "78  -0.595224608 0.77308565\n",
              "79  -0.589933722 0.86403690\n",
              "80  -0.584642837 0.81098200\n",
              "81  -0.579351951 0.81856128\n",
              "82  -0.574061066 0.99288451\n",
              "83  -0.568770181 0.87161617\n",
              "84  -0.563479295 0.93225034\n",
              "85  -0.558188410 0.99288451\n",
              "86  -0.552897524 0.85645763\n",
              "87  -0.547606639 0.88677472\n",
              "88  -0.542315754 0.76550638\n",
              "89  -0.537024868 0.84129909\n",
              "90  -0.531733983 0.96256743\n",
              "91  -0.526443097 0.88677472\n",
              "92  -0.521152212 1.34153098\n",
              "93  -0.515861327 0.94740888\n",
              "94  -0.510570441 0.95498816\n",
              "95  -0.505279556 1.04593941\n",
              "96  -0.499988670 1.12173212\n",
              "97  -0.494697785 1.13689066\n",
              "98  -0.489406900 0.94740888\n",
              "99  -0.484116014 1.05351868\n",
              "100 -0.478825129 0.73518929\n",
              "101 -0.473534243 0.78824419\n",
              "102 -0.468243358 0.78824419\n",
              "103 -0.462952473 0.65939658\n",
              "104 -0.457661587 0.65939658\n",
              "105 -0.452370702 0.68213440\n",
              "106 -0.447079816 0.62907950\n",
              "107 -0.441788931 0.59118314\n",
              "108 -0.436498046 0.62150023\n",
              "109 -0.431207160 0.75034784\n",
              "110 -0.425916275 0.57602460\n",
              "111 -0.420625389 0.57602460\n",
              "112 -0.415334504 0.64423804\n",
              "113 -0.410043619 0.62907950\n",
              "114 -0.404752733 0.59876241\n",
              "115 -0.399461848 0.59876241\n",
              "116 -0.394170962 0.62150023\n",
              "117 -0.388880077 0.53812825\n",
              "118 -0.383589192 0.48507335\n",
              "119 -0.378298306 0.54570752\n",
              "120 -0.373007421 0.56844533\n",
              "121 -0.367716535 0.64423804\n",
              "122 -0.362425650 0.63665877\n",
              "123 -0.357134765 0.68213440\n",
              "124 -0.351843879 0.57602460\n",
              "125 -0.346552994 0.77308565\n",
              "126 -0.341262108 0.66697585\n",
              "127 -0.335971223 0.63665877\n",
              "128 -0.330680338 0.74276857\n",
              "129 -0.325389452 0.79582346\n",
              "130 -0.320098567 0.71245148\n",
              "131 -0.314807681 0.72761002\n",
              "132 -0.309516796 0.67455513\n",
              "133 -0.304225911 0.65181731\n",
              "134 -0.298935025 0.86403690\n",
              "135 -0.293644140 0.72761002\n",
              "136 -0.288353254 0.72003075\n",
              "137 -0.283062369 0.71245148\n",
              "138 -0.277771484 0.78824419\n",
              "139 -0.272480598 0.74276857\n",
              "140 -0.267189713 0.70487221\n",
              "141 -0.261898827 0.61392096\n",
              "142 -0.256607942 0.74276857\n",
              "143 -0.251317057 0.83371982\n",
              "144 -0.246026171 0.59118314\n",
              "145 -0.240735286 0.75792711\n",
              "146 -0.235444400 0.84887836\n",
              "147 -0.230153515 0.76550638\n",
              "148 -0.224862630 0.78066492\n",
              "149 -0.219571744 0.78824419\n",
              "150 -0.214280859 0.74276857\n",
              "151 -0.208989973 0.79582346\n",
              "152 -0.203699088 0.64423804\n",
              "153 -0.198408203 0.57602460\n",
              "154 -0.193117317 0.74276857\n",
              "155 -0.187826432 0.75034784\n",
              "156 -0.182535546 0.93225034\n",
              "157 -0.177244661 0.77308565\n",
              "158 -0.171953776 0.65939658\n",
              "159 -0.166662890 0.68213440\n",
              "160 -0.161372005 0.75792711\n",
              "161 -0.156081119 0.70487221\n",
              "162 -0.150790234 0.76550638\n",
              "163 -0.145499349 0.72003075\n",
              "164 -0.140208463 0.82614055\n",
              "165 -0.134917578 0.89435399\n",
              "166 -0.129626692 0.77308565\n",
              "167 -0.124335807 0.72003075\n",
              "168 -0.119044922 0.75034784\n",
              "169 -0.113754036 0.84129909\n",
              "170 -0.108463151 0.75034784\n",
              "171 -0.103172265 0.72003075\n",
              "172 -0.097881380 0.73518929\n",
              "173 -0.092590495 0.90193326\n",
              "174 -0.087299609 0.72761002\n",
              "175 -0.082008724 0.68213440\n",
              "176 -0.076717838 0.78824419\n",
              "177 -0.071426953 0.74276857\n",
              "178 -0.066136068 0.80340273\n",
              "179 -0.060845182 0.87919544\n",
              "180 -0.055554297 0.80340273\n",
              "181 -0.050263411 0.81098200\n",
              "182 -0.044972526 0.82614055\n",
              "183 -0.039681641 1.04593941\n",
              "184 -0.034390755 0.76550638\n",
              "185 -0.029099870 0.78824419\n",
              "186 -0.023808984 0.76550638\n",
              "187 -0.018518099 0.74276857\n",
              "188 -0.013227214 0.77308565\n",
              "189 -0.007936328 0.68971367\n",
              "190 -0.002645443 0.70487221\n",
              "191  0.002645443 0.70487221\n",
              "192  0.007936328 0.68971367\n",
              "193  0.013227214 0.77308565\n",
              "194  0.018518099 0.74276857\n",
              "195  0.023808984 0.76550638\n",
              "196  0.029099870 0.78824419\n",
              "197  0.034390755 0.75792711\n",
              "198  0.039681641 1.04593941\n",
              "199  0.044972526 0.82614055\n",
              "200  0.050263411 0.81098200\n",
              "201  0.055554297 0.77308565\n",
              "202  0.060845182 0.87919544\n",
              "203  0.066136068 0.79582346\n",
              "204  0.071426953 0.74276857\n",
              "205  0.076717838 0.78066492\n",
              "206  0.082008724 0.68213440\n",
              "207  0.087299609 0.72761002\n",
              "208  0.092590495 0.90193326\n",
              "209  0.097881380 0.72761002\n",
              "210  0.103172265 0.72003075\n",
              "211  0.108463151 0.74276857\n",
              "212  0.113754036 0.84129909\n",
              "213  0.119044922 0.75034784\n",
              "214  0.124335807 0.72003075\n",
              "215  0.129626692 0.77308565\n",
              "216  0.134917578 0.89435399\n",
              "217  0.140208463 0.82614055\n",
              "218  0.145499349 0.72003075\n",
              "219  0.150790234 0.75034784\n",
              "220  0.156081119 0.70487221\n",
              "221  0.161372005 0.75792711\n",
              "222  0.166662890 0.67455513\n",
              "223  0.171953776 0.65939658\n",
              "224  0.177244661 0.77308565\n",
              "225  0.182535546 0.92467107\n",
              "226  0.187826432 0.75034784\n",
              "227  0.193117317 0.73518929\n",
              "228  0.198408203 0.57602460\n",
              "229  0.203699088 0.64423804\n",
              "230  0.208989973 0.78066492\n",
              "231  0.214280859 0.72761002\n",
              "232  0.219571744 0.78824419\n",
              "233  0.224862630 0.76550638\n",
              "234  0.230153515 0.75792711\n",
              "235  0.235444400 0.84129909\n",
              "236  0.240735286 0.75792711\n",
              "237  0.246026171 0.59118314\n",
              "238  0.251317057 0.81098200\n",
              "239  0.256607942 0.72761002\n",
              "240  0.261898827 0.59118314\n",
              "241  0.267189713 0.70487221\n",
              "242  0.272480598 0.73518929\n",
              "243  0.277771484 0.76550638\n",
              "244  0.283062369 0.69729294\n",
              "245  0.288353254 0.71245148\n",
              "246  0.293644140 0.72003075\n",
              "247  0.298935025 0.85645763\n",
              "248  0.304225911 0.63665877\n",
              "249  0.309516796 0.65939658\n",
              "250  0.314807681 0.72003075\n",
              "251  0.320098567 0.70487221\n",
              "252  0.325389452 0.77308565\n",
              "253  0.330680338 0.71245148\n",
              "254  0.335971223 0.62150023\n",
              "255  0.341262108 0.65181731\n",
              "256  0.346552994 0.75034784\n",
              "257  0.351843879 0.57602460\n",
              "258  0.357134765 0.65181731\n",
              "259  0.362425650 0.60634169\n",
              "260  0.367716535 0.62150023\n",
              "261  0.373007421 0.53812825\n",
              "262  0.378298306 0.52296970\n",
              "263  0.383589192 0.46233554\n",
              "264  0.388880077 0.48507335\n",
              "265  0.394170962 0.56844533\n",
              "266  0.399461848 0.53812825\n",
              "267  0.404752733 0.53054898\n",
              "268  0.410043619 0.54570752\n",
              "269  0.415334504 0.55328679\n",
              "270  0.420625389 0.50781116\n",
              "271  0.425916275 0.50023189\n",
              "272  0.431207160 0.62907950\n",
              "273  0.436498046 0.53054898\n",
              "274  0.441788931 0.46991481\n",
              "275  0.447079816 0.49265262\n",
              "276  0.452370702 0.50023189\n",
              "277  0.457661587 0.44717699\n",
              "278  0.462952473 0.45475626\n",
              "279  0.468243358 0.48507335\n",
              "280  0.473534243 0.45475626\n",
              "281  0.478825129 0.34864647\n",
              "282  0.484116014 0.53054898\n",
              "283  0.489406900 0.44717699\n",
              "284  0.494697785 0.33348793\n",
              "285  0.499988670 0.42443918\n",
              "286  0.505279556 0.36380501\n",
              "287  0.510570441 0.20464032\n",
              "288  0.515861327 0.21221959\n",
              "289  0.521152212 0.42443918\n",
              "290  0.526443097 0.15158542\n",
              "291  0.531733983 0.24253667\n",
              "292  0.537024868 0.22737813\n",
              "293  0.542315754 0.24253667\n",
              "294  0.547606639 0.27285376\n",
              "295  0.552897524 0.21979886\n",
              "296  0.558188410 0.18948178\n",
              "297  0.563479295 0.23495740\n",
              "298  0.568770181 0.18190251\n",
              "299  0.574061066 0.21221959\n",
              "300  0.579351951 0.21221959\n",
              "301  0.584642837 0.19706105\n",
              "302  0.589933722 0.14400615\n",
              "303  0.595224608 0.14400615\n",
              "304  0.600515493 0.21221959\n",
              "305  0.605806378 0.16674396\n",
              "306  0.611097264 0.14400615\n",
              "307  0.616388149 0.10610980\n",
              "308  0.621679035 0.12126834\n",
              "309  0.626969920 0.12126834\n",
              "310  0.632260805 0.14400615\n",
              "311  0.637551691 0.14400615\n",
              "312  0.642842576 0.15916469\n",
              "313  0.648133462 0.12884761\n",
              "314  0.653424347 0.11368907\n",
              "315  0.658715232 0.14400615\n",
              "316  0.664006118 0.10610980\n",
              "317  0.669297003 0.11368907\n",
              "318  0.674587889 0.15916469\n",
              "319  0.679878774 0.13642688\n",
              "320  0.685169659 0.06821344\n",
              "321  0.690460545 0.06063417\n",
              "322  0.695751430 0.15158542\n",
              "323  0.701042316 0.14400615\n",
              "324  0.706333201 0.07579271\n",
              "325  0.711624086 0.10610980\n",
              "326  0.716914972 0.09095125\n",
              "327  0.722205857 0.11368907\n",
              "328  0.727496743 0.06821344\n",
              "329  0.732787628 0.07579271\n",
              "330  0.738078513 0.04547563\n",
              "331  0.743369399 0.16674396\n",
              "332  0.748660284 0.06821344\n",
              "333  0.753951170 0.10610980\n",
              "334  0.759242055 0.09095125\n",
              "335  0.764532940 0.08337198\n",
              "336  0.769823826 0.06821344\n",
              "337  0.775114711 0.07579271\n",
              "338  0.780405597 0.07579271\n",
              "339  0.785696482 0.06821344\n",
              "340  0.790987367 0.06063417\n",
              "341  0.796278253 0.07579271\n",
              "342  0.801569138 0.05305490\n",
              "343  0.806860024 0.06821344\n",
              "344  0.812150909 0.05305490\n",
              "345  0.817441794 0.09853052\n",
              "346  0.822732680 0.06821344\n",
              "347  0.828023565 0.03789636\n",
              "348  0.833314451 0.07579271\n",
              "349  0.838605336 0.07579271\n",
              "350  0.843896221 0.03789636\n",
              "351  0.849187107 0.06063417\n",
              "352  0.854477992 0.08337198\n",
              "353  0.859768878 0.09095125\n",
              "354  0.865059763 0.06063417\n",
              "355  0.870350648 0.04547563\n",
              "356  0.875641534 0.10610980\n",
              "357  0.880932419 0.09095125\n",
              "358  0.886223305 0.06821344\n",
              "359  0.891514190 0.02273781\n",
              "360  0.896805075 0.08337198\n",
              "361  0.902095961 0.06063417\n",
              "362  0.907386846 0.04547563\n",
              "363  0.912677732 0.03789636\n",
              "364  0.917968617 0.04547563\n",
              "365  0.923259502 0.08337198\n",
              "366  0.928550388 0.07579271\n",
              "367  0.933841273 0.07579271\n",
              "368  0.939132159 0.04547563\n",
              "369  0.944423044 0.09095125\n",
              "370  0.949713929 0.04547563\n",
              "371  0.955004815 0.04547563\n",
              "372  0.960295700 0.05305490\n",
              "373  0.965586586 0.03789636\n",
              "374  0.970877471 0.09095125\n",
              "375  0.976168356 0.03031708\n",
              "376  0.981459242 0.02273781\n",
              "377  0.986750127 0.04547563\n",
              "378  0.992041013 0.11368907\n",
              "379  0.997331898 0.65939658\n",
              "380  1.002622783 0.01515854\n"
            ]
          },
          "metadata": {}
        },
        {
          "output_type": "display_data",
          "data": {
            "text/plain": [
              "Plot with title “NA”"
            ],
            "image/png": "[encoded data removed]"
          },
          "metadata": {
            "image/png": {
              "width": 420,
              "height": 420
            }
          }
        }
      ]
    },
    {
      "cell_type": "markdown",
      "source": [
        "Parametric Regression"
      ],
      "metadata": {
        "id": "_z8KC1DZr40Y"
      }
    },
    {
      "cell_type": "markdown",
      "source": [
        "Now, doing a Parametric Regression keeping only the observations within 50 percentage points of the cutoff (the absolute value of difshare is less than or equal to 0.5)\n"
      ],
      "metadata": {
        "id": "7S8r4DCjr7sl"
      }
    },
    {
      "cell_type": "code",
      "source": [
        "# Add extra variables to run some linear models\n",
        "df_incum$difshare_sq <- (df_incum$difshare)^2\n",
        "df_incum$difshare_cub <- (df_incum$difshare)^3"
      ],
      "metadata": {
        "id": "27XlF_sRr4od"
      },
      "execution_count": 49,
      "outputs": []
    },
    {
      "cell_type": "code",
      "source": [
        "# Model 1 - Y_i =𝛽_0 + 𝛽_1 Difshare_i ≥0 + e_i\n",
        "m1 <- lm(myoutcomenext ~ incum_paty,\n",
        "         data = df_incum,\n",
        "         subset = abs(difshare) <= 0.5)\n",
        "summary(m1)"
      ],
      "metadata": {
        "colab": {
          "base_uri": "https://localhost:8080/",
          "height": 347
        },
        "id": "pAAqtDs8sBTF",
        "outputId": "c80d49cb-466c-478f-e026-3dfc050bac55"
      },
      "execution_count": 50,
      "outputs": [
        {
          "output_type": "display_data",
          "data": {
            "text/plain": [
              "\n",
              "Call:\n",
              "lm(formula = myoutcomenext ~ incum_paty, data = df_incum, subset = abs(difshare) <= \n",
              "    0.5)\n",
              "\n",
              "Residuals:\n",
              "     Min       1Q   Median       3Q      Max \n",
              "-0.77463 -0.02151 -0.02151  0.22537  0.97849 \n",
              "\n",
              "Coefficients:\n",
              "            Estimate Std. Error t value Pr(>|t|)    \n",
              "(Intercept) 0.021509   0.003216   6.689 2.32e-11 ***\n",
              "incum_paty  0.753124   0.004643 162.213  < 2e-16 ***\n",
              "---\n",
              "Signif. codes:  0 ‘***’ 0.001 ‘**’ 0.01 ‘*’ 0.05 ‘.’ 0.1 ‘ ’ 1\n",
              "\n",
              "Residual standard error: 0.3077 on 17601 degrees of freedom\n",
              "Multiple R-squared:  0.5992,\tAdjusted R-squared:  0.5992 \n",
              "F-statistic: 2.631e+04 on 1 and 17601 DF,  p-value: < 2.2e-16\n"
            ]
          },
          "metadata": {}
        }
      ]
    },
    {
      "cell_type": "code",
      "source": [
        "# Model 2 - Y_i =𝛽_0 + 𝛽_1 Difshare_i ≥0 + 𝛽_2 Difshare_i + e_i\n",
        "m2 <- lm(myoutcomenext ~ incum_paty + difshare,\n",
        "         data = df_incum,\n",
        "         subset = abs(difshare) <= 0.5)\n",
        "summary(m2)"
      ],
      "metadata": {
        "colab": {
          "base_uri": "https://localhost:8080/",
          "height": 364
        },
        "id": "Knyk0o-hsDob",
        "outputId": "d23b52e7-9549-4d58-aed3-7e222d67cd83"
      },
      "execution_count": 51,
      "outputs": [
        {
          "output_type": "display_data",
          "data": {
            "text/plain": [
              "\n",
              "Call:\n",
              "lm(formula = myoutcomenext ~ incum_paty + difshare, data = df_incum, \n",
              "    subset = abs(difshare) <= 0.5)\n",
              "\n",
              "Residuals:\n",
              "     Min       1Q   Median       3Q      Max \n",
              "-0.84767 -0.05064  0.01555  0.20671  1.02522 \n",
              "\n",
              "Coefficients:\n",
              "            Estimate Std. Error t value Pr(>|t|)    \n",
              "(Intercept) 0.087180   0.005073   17.19   <2e-16 ***\n",
              "incum_paty  0.626388   0.008896   70.41   <2e-16 ***\n",
              "difshare    0.268232   0.016107   16.65   <2e-16 ***\n",
              "---\n",
              "Signif. codes:  0 ‘***’ 0.001 ‘**’ 0.01 ‘*’ 0.05 ‘.’ 0.1 ‘ ’ 1\n",
              "\n",
              "Residual standard error: 0.3054 on 17600 degrees of freedom\n",
              "Multiple R-squared:  0.6054,\tAdjusted R-squared:  0.6054 \n",
              "F-statistic: 1.35e+04 on 2 and 17600 DF,  p-value: < 2.2e-16\n"
            ]
          },
          "metadata": {}
        }
      ]
    },
    {
      "cell_type": "code",
      "source": [
        "# Model 3 - Y_i =𝛽_0 + 𝛽_1 Difshare_i ≥0 + 𝛽_2 Difshare_i + 𝛽_3 Difshare_i ≥0 * Difshare_i + e_i\n",
        "m3 <- lm(myoutcomenext ~ incum_paty + difshare + incum_paty*difshare,\n",
        "         data = df_incum,\n",
        "         subset = abs(difshare) <= 0.5)\n",
        "summary(m3)"
      ],
      "metadata": {
        "colab": {
          "base_uri": "https://localhost:8080/",
          "height": 382
        },
        "id": "9hZsf5xNsFZC",
        "outputId": "af5321f1-f00a-4a2f-eba6-52acd3e37326"
      },
      "execution_count": 52,
      "outputs": [
        {
          "output_type": "display_data",
          "data": {
            "text/plain": [
              "\n",
              "Call:\n",
              "lm(formula = myoutcomenext ~ incum_paty + difshare + incum_paty * \n",
              "    difshare, data = df_incum, subset = abs(difshare) <= 0.5)\n",
              "\n",
              "Residuals:\n",
              "     Min       1Q   Median       3Q      Max \n",
              "-0.87965 -0.04019  0.00226  0.19854  1.00846 \n",
              "\n",
              "Coefficients:\n",
              "                    Estimate Std. Error t value Pr(>|t|)    \n",
              "(Intercept)         0.063624   0.006195  10.271  < 2e-16 ***\n",
              "incum_paty          0.623200   0.008898  70.035  < 2e-16 ***\n",
              "difshare            0.172020   0.021697   7.928 2.36e-15 ***\n",
              "incum_paty:difshare 0.213689   0.032336   6.608 3.99e-11 ***\n",
              "---\n",
              "Signif. codes:  0 ‘***’ 0.001 ‘**’ 0.01 ‘*’ 0.05 ‘.’ 0.1 ‘ ’ 1\n",
              "\n",
              "Residual standard error: 0.305 on 17599 degrees of freedom\n",
              "Multiple R-squared:  0.6064,\tAdjusted R-squared:  0.6063 \n",
              "F-statistic:  9038 on 3 and 17599 DF,  p-value: < 2.2e-16\n"
            ]
          },
          "metadata": {}
        }
      ]
    },
    {
      "cell_type": "code",
      "source": [
        "# Model 4 - Y_i =𝛽_0 + 𝛽_1 Difshare_i ≥0 + 𝛽_2 Difshare_i + 𝛽_2 Difshare_i2 + e_i\n",
        "m4 <- lm(myoutcomenext ~ incum_paty + difshare + difshare_sq,\n",
        "         data = df_incum,\n",
        "         subset = abs(difshare) <= 0.5)\n",
        "summary(m4)"
      ],
      "metadata": {
        "colab": {
          "base_uri": "https://localhost:8080/",
          "height": 382
        },
        "id": "zsvhb6W4sHSB",
        "outputId": "746562dd-104a-4f18-9474-dcbcc23584de"
      },
      "execution_count": 53,
      "outputs": [
        {
          "output_type": "display_data",
          "data": {
            "text/plain": [
              "\n",
              "Call:\n",
              "lm(formula = myoutcomenext ~ incum_paty + difshare + difshare_sq, \n",
              "    data = df_incum, subset = abs(difshare) <= 0.5)\n",
              "\n",
              "Residuals:\n",
              "     Min       1Q   Median       3Q      Max \n",
              "-0.88608 -0.03960  0.00443  0.20247  1.00887 \n",
              "\n",
              "Coefficients:\n",
              "            Estimate Std. Error t value Pr(>|t|)    \n",
              "(Intercept) 0.074149   0.005489  13.508  < 2e-16 ***\n",
              "incum_paty  0.622731   0.008906  69.920  < 2e-16 ***\n",
              "difshare    0.280344   0.016209  17.295  < 2e-16 ***\n",
              "difshare_sq 0.196243   0.031780   6.175 6.76e-10 ***\n",
              "---\n",
              "Signif. codes:  0 ‘***’ 0.001 ‘**’ 0.01 ‘*’ 0.05 ‘.’ 0.1 ‘ ’ 1\n",
              "\n",
              "Residual standard error: 0.305 on 17599 degrees of freedom\n",
              "Multiple R-squared:  0.6063,\tAdjusted R-squared:  0.6062 \n",
              "F-statistic:  9033 on 3 and 17599 DF,  p-value: < 2.2e-16\n"
            ]
          },
          "metadata": {}
        }
      ]
    },
    {
      "cell_type": "code",
      "source": [
        "# Model 5 - Y_i =𝛽_0 + 𝛽_1 Difshare_i ≥0 + 𝛽_2 Difshare_i + 𝛽_2 Difshare_i3 + e_i\n",
        "m5 <- lm(myoutcomenext ~ incum_paty + difshare + difshare_cub,\n",
        "         data = df_incum,\n",
        "         subset = abs(difshare) <= 0.5)\n",
        "summary(m5)"
      ],
      "metadata": {
        "colab": {
          "base_uri": "https://localhost:8080/",
          "height": 382
        },
        "id": "rqUwApl5sJ1b",
        "outputId": "fe688e66-51cf-41e4-f989-a4dcadd6b397"
      },
      "execution_count": 54,
      "outputs": [
        {
          "output_type": "display_data",
          "data": {
            "text/plain": [
              "\n",
              "Call:\n",
              "lm(formula = myoutcomenext ~ incum_paty + difshare + difshare_cub, \n",
              "    data = df_incum, subset = abs(difshare) <= 0.5)\n",
              "\n",
              "Residuals:\n",
              "     Min       1Q   Median       3Q      Max \n",
              "-0.82166 -0.04414  0.01666  0.19207  1.02139 \n",
              "\n",
              "Coefficients:\n",
              "              Estimate Std. Error t value Pr(>|t|)    \n",
              "(Intercept)   0.121048   0.006277  19.283   <2e-16 ***\n",
              "incum_paty    0.556116   0.011754  47.312   <2e-16 ***\n",
              "difshare      0.591896   0.038962  15.192   <2e-16 ***\n",
              "difshare_cub -1.471441   0.161363  -9.119   <2e-16 ***\n",
              "---\n",
              "Signif. codes:  0 ‘***’ 0.001 ‘**’ 0.01 ‘*’ 0.05 ‘.’ 0.1 ‘ ’ 1\n",
              "\n",
              "Residual standard error: 0.3046 on 17599 degrees of freedom\n",
              "Multiple R-squared:  0.6073,\tAdjusted R-squared:  0.6072 \n",
              "F-statistic:  9071 on 3 and 17599 DF,  p-value: < 2.2e-16\n"
            ]
          },
          "metadata": {}
        }
      ]
    },
    {
      "cell_type": "markdown",
      "source": [
        "Now, using the RDestimate command in R to estimate the effect non-parametrically and see what 0.4707 is the point estimated obtained using this command."
      ],
      "metadata": {
        "id": "ySNVyIVOsXqF"
      }
    },
    {
      "cell_type": "code",
      "source": [
        "model <- rdd::RDestimate(myoutcomenext~difshare, data=df_incum, subset = abs(df_incum$difshare) <=0.5)\n",
        "summary(model)"
      ],
      "metadata": {
        "colab": {
          "base_uri": "https://localhost:8080/"
        },
        "id": "dearn9cxsPPP",
        "outputId": "4c4fa336-daba-4ff1-db47-15db29b99a29"
      },
      "execution_count": 55,
      "outputs": [
        {
          "output_type": "stream",
          "name": "stdout",
          "text": [
            "\n",
            "Call:\n",
            "rdd::RDestimate(formula = myoutcomenext ~ difshare, data = df_incum, \n",
            "    subset = abs(df_incum$difshare) <= 0.5)\n",
            "\n",
            "Type:\n",
            "sharp \n",
            "\n",
            "Estimates:\n",
            "           Bandwidth  Observations  Estimate  Std. Error  z value  Pr(>|z|)  \n",
            "LATE       0.11982    4695          0.4707    0.02695     17.47     2.578e-68\n",
            "Half-BW    0.05991    2363          0.4511    0.03934     11.47     1.974e-30\n",
            "Double-BW  0.23965    9182          0.5119    0.01818     28.15    2.082e-174\n",
            "              \n",
            "LATE       ***\n",
            "Half-BW    ***\n",
            "Double-BW  ***\n",
            "---\n",
            "Signif. codes:  0 '***' 0.001 '**' 0.01 '*' 0.05 '.' 0.1 ' ' 1\n",
            "\n",
            "F-statistics:\n",
            "           F       Num. DoF  Denom. DoF  p\n",
            "LATE        878.0  3         4691        0\n",
            "Half-BW     334.1  3         2359        0\n",
            "Double-BW  2493.8  3         9178        0\n"
          ]
        }
      ]
    },
    {
      "cell_type": "code",
      "source": [
        "#Plot A\n",
        "model1 <- rdd::RDestimate(myoutcomenext ~ difshare,\n",
        "                     data = df_incum,\n",
        "                     subset = abs(df_incum$difshare) <=0.5)\n",
        "plot(model1)"
      ],
      "metadata": {
        "colab": {
          "base_uri": "https://localhost:8080/",
          "height": 437
        },
        "id": "4a5jWmgssfjI",
        "outputId": "8ccebf6d-31d6-4f96-d14b-eef6284d1429"
      },
      "execution_count": 56,
      "outputs": [
        {
          "output_type": "display_data",
          "data": {
            "text/plain": [
              "Plot with title “NA”"
            ],
            "image/png": "[encoded data removed]"
          },
          "metadata": {
            "image/png": {
              "width": 420,
              "height": 420
            }
          }
        }
      ]
    },
    {
      "cell_type": "code",
      "source": [
        "#Plot B\n",
        "model2 <- rdd::RDestimate(myoutcomenext ~ difshare,\n",
        "                     data = df_incum,\n",
        "                     subset=abs(df_incum$difshare) <=0.5,\n",
        "                     kernel = \"rectangular\", bw = 3)\n",
        "plot(model2)"
      ],
      "metadata": {
        "colab": {
          "base_uri": "https://localhost:8080/",
          "height": 437
        },
        "id": "PFE7ch9osirp",
        "outputId": "33179c65-b375-4ddd-d16b-706fae02669d"
      },
      "execution_count": 57,
      "outputs": [
        {
          "output_type": "display_data",
          "data": {
            "text/plain": [
              "Plot with title “NA”"
            ],
            "image/png": "[encoded data removed]"
          },
          "metadata": {
            "image/png": {
              "width": 420,
              "height": 420
            }
          }
        }
      ]
    },
    {
      "cell_type": "code",
      "source": [
        "#Plot C\n",
        "model3 <- rdd::RDestimate(myoutcomenext ~ difshare,\n",
        "                     data = df_incum,\n",
        "                     subset=abs(df_incum$difshare) <=0.5,\n",
        "                     kernel = \"rectangular\", bw = (1/3))\n",
        "plot(model3)"
      ],
      "metadata": {
        "colab": {
          "base_uri": "https://localhost:8080/",
          "height": 437
        },
        "id": "idg6YpUYspo3",
        "outputId": "99da6dcc-008c-4859-9f1c-d0d959a1f613"
      },
      "execution_count": 58,
      "outputs": [
        {
          "output_type": "display_data",
          "data": {
            "text/plain": [
              "Plot with title “NA”"
            ],
            "image/png": "[encoded data removed]"
          },
          "metadata": {
            "image/png": {
              "width": 420,
              "height": 420
            }
          }
        }
      ]
    }
  ]
}