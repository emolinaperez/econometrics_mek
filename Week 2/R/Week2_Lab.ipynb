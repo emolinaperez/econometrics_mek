{
  "nbformat": 4,
  "nbformat_minor": 0,
  "metadata": {
    "colab": {
      "provenance": [],
      "include_colab_link": true
    },
    "kernelspec": {
      "name": "ir",
      "display_name": "R"
    },
    "language_info": {
      "name": "R"
    }
  },
  "cells": [
    {
      "cell_type": "markdown",
      "metadata": {
        "id": "view-in-github",
        "colab_type": "text"
      },
      "source": [
        "<a href=\"https://colab.research.google.com/github/emolinaperez/econometrics_mek/blob/main/Week%202/R/Week2_Lab.ipynb\" target=\"_parent\"><img src=\"https://colab.research.google.com/assets/colab-badge.svg\" alt=\"Open In Colab\"/></a>"
      ]
    },
    {
      "cell_type": "markdown",
      "source": [
        "# Lab 2: Econometrics"
      ],
      "metadata": {
        "id": "UDcxQThpA9QV"
      }
    },
    {
      "cell_type": "markdown",
      "source": [
        "load library for importing database into R (from stata format)\n"
      ],
      "metadata": {
        "id": "LY-_PXg0A7mh"
      }
    },
    {
      "cell_type": "code",
      "source": [
        "library(foreign)\n",
        "library(dplyr)\n",
        "library(ggplot2)"
      ],
      "metadata": {
        "id": "360AICVkBMJI"
      },
      "execution_count": null,
      "outputs": []
    },
    {
      "cell_type": "markdown",
      "source": [
        "load data"
      ],
      "metadata": {
        "id": "ZQrkyFvcBOCG"
      }
    },
    {
      "cell_type": "code",
      "source": [
        "jobcorpsfile<-\"https://raw.githubusercontent.com/emolinaperez/econometrics_mek/main/Week%202/data/jobcorps.dta\"\n",
        "JobCorps<-read.dta(jobcorpsfile, convert.dates = TRUE, convert.factors = TRUE,missing.type = FALSE,convert.underscore = FALSE, warn.missing.labels = TRUE)\n"
      ],
      "metadata": {
        "id": "4ANw3A4nBMBB"
      },
      "execution_count": null,
      "outputs": []
    },
    {
      "cell_type": "markdown",
      "source": [
        "explore file"
      ],
      "metadata": {
        "id": "7ATM6nzwCXeC"
      }
    },
    {
      "cell_type": "code",
      "source": [
        "head(JobCorps)"
      ],
      "metadata": {
        "id": "SuzcVKEuCY_e"
      },
      "execution_count": null,
      "outputs": []
    },
    {
      "cell_type": "code",
      "source": [
        "dim(JobCorps)"
      ],
      "metadata": {
        "id": "UARJzwu4CwWH"
      },
      "execution_count": null,
      "outputs": []
    },
    {
      "cell_type": "code",
      "source": [
        "attributes(JobCorps)"
      ],
      "metadata": {
        "id": "f6P_9_mJC0sr"
      },
      "execution_count": null,
      "outputs": []
    },
    {
      "cell_type": "code",
      "source": [
        "str(JobCorps)"
      ],
      "metadata": {
        "id": "ZKUeSDT7C3Mh"
      },
      "execution_count": null,
      "outputs": []
    },
    {
      "cell_type": "code",
      "source": [
        "summary(JobCorps)"
      ],
      "metadata": {
        "id": "--Ea5agcC9Ss"
      },
      "execution_count": null,
      "outputs": []
    },
    {
      "cell_type": "markdown",
      "source": [
        "Explore in class characteristics of differnet variables\n",
        "\n",
        "Compare hispanics in control and treatment group\n",
        "\n",
        "First compare means"
      ],
      "metadata": {
        "id": "YAOf3AWZDDZ7"
      }
    },
    {
      "cell_type": "markdown",
      "source": [
        "In control group"
      ],
      "metadata": {
        "id": "AgzD_RKmDREi"
      }
    },
    {
      "cell_type": "code",
      "source": [
        "mean(JobCorps[JobCorps$treatmnt==0,\"hispanic\"] ,na.rm=TRUE)"
      ],
      "metadata": {
        "id": "VYhbxvcoDDJ-"
      },
      "execution_count": null,
      "outputs": []
    },
    {
      "cell_type": "code",
      "source": [
        "sum(JobCorps[JobCorps$treatmnt==0,\"hispanic\"] ,na.rm=TRUE)"
      ],
      "metadata": {
        "id": "chq-8RcdDLE_"
      },
      "execution_count": null,
      "outputs": []
    },
    {
      "cell_type": "markdown",
      "source": [
        "In treatment group"
      ],
      "metadata": {
        "id": "26N5yTZfDTsN"
      }
    },
    {
      "cell_type": "code",
      "source": [
        "mean(JobCorps[JobCorps$treatmnt==1,\"hispanic\"],na.rm=TRUE)"
      ],
      "metadata": {
        "id": "YFHYaDsADVai"
      },
      "execution_count": null,
      "outputs": []
    },
    {
      "cell_type": "code",
      "source": [
        "sum(JobCorps[JobCorps$treatmnt==1,\"hispanic\"] ,na.rm=TRUE)"
      ],
      "metadata": {
        "id": "mtTNdGQhDZut"
      },
      "execution_count": null,
      "outputs": []
    },
    {
      "cell_type": "code",
      "source": [
        "# Calculate means and confidence intervals for \"hispanic\" by treatment group\n",
        "treatment_means <- JobCorps %>%\n",
        "  group_by(treatmnt) %>%\n",
        "  summarize(\n",
        "    mean_hispanic = mean(hispanic, na.rm = TRUE),\n",
        "    ci_lower = mean(hispanic, na.rm = TRUE) - qt(0.975, df = n() - 1) * sd(hispanic, na.rm = TRUE) / sqrt(n()),\n",
        "    ci_upper = mean(hispanic, na.rm = TRUE) + qt(0.975, df = n() - 1) * sd(hispanic, na.rm = TRUE) / sqrt(n())\n",
        "  )\n",
        "treatment_means"
      ],
      "metadata": {
        "id": "WLp2l6QSQBmV"
      },
      "execution_count": null,
      "outputs": []
    },
    {
      "cell_type": "code",
      "source": [
        "p1<- aggregate(list(mean_hispanic=JobCorps$hispanic),list(treatment_type=JobCorps$treatmnt),mean,na.rm=TRUE)\n",
        "p2 <- aggregate(list(ci_lower_hispanic=JobCorps$hispanic),list(treatment_type=JobCorps$treatmnt), function(x) { conf_level<-0.95; mean_x <- mean(x,na.rm=TRUE);\n",
        "                                                                                                      se_x <- sd(x,na.rm=TRUE) / sqrt(length(x));\n",
        "                                                                                                      df <- length(x) - 1;\n",
        "                                                                                                      t_value <- qt((1 + conf_level) / 2, df);\n",
        "                                                                                                      ci_lower <- mean_x - t_value * se_x;\n",
        "                                                                                                      ci_lower } )\n",
        "\n",
        "p3 <- aggregate(list(ci_higher_hispanic=JobCorps$hispanic),list(treatment_type=JobCorps$treatmnt), function(x) { conf_level<-0.95; mean_x <- mean(x,na.rm=TRUE);\n",
        "                                                                                                      se_x <- sd(x,na.rm=TRUE) / sqrt(length(x));\n",
        "                                                                                                      df <- length(x) - 1;\n",
        "                                                                                                      t_value <- qt((1 + conf_level) / 2, df);\n",
        "                                                                                                      ci_higher <- mean_x + t_value * se_x;\n",
        "                                                                                                      ci_higher } )\n",
        "Reduce(function(...) merge(...,by=\"treatment_type\"), list(p1,p2,p3))"
      ],
      "metadata": {
        "id": "XNtdcJGqecwz"
      },
      "execution_count": null,
      "outputs": []
    },
    {
      "cell_type": "code",
      "source": [
        "x<- JobCorps$hispanic[JobCorps$treatmnt==1]\n",
        "sd(x)\n",
        "#conf_level<-0.95\n",
        "#mean_x <- mean(x,na.rm=TRUE);\n",
        " #                                                                                                     se_x <- sd(x) / sqrt(length(x))\n",
        "  #                                                                                                    df <- length(x) - 1\n",
        "   #                                                                                                   t_value <- qt((1 + conf_level) / 2, df)\n",
        "    #                                                                                                  ci_lower <- mean_x - t_value * se_x\n",
        "     #                                                                                                 ci_lower"
      ],
      "metadata": {
        "id": "y1CPgqjdhHWj"
      },
      "execution_count": null,
      "outputs": []
    },
    {
      "cell_type": "code",
      "source": [
        "# Bar plot with confidence intervals\n",
        "ggplot(treatment_means, aes(x = factor(treatmnt), y = mean_hispanic, fill = factor(treatmnt))) +\n",
        "  geom_bar(stat = \"identity\", alpha = 0.6) +                          # Bar for mean\n",
        "  geom_errorbar(aes(ymin = ci_lower, ymax = ci_upper), width = 0.2,   # Confidence intervals\n",
        "                color = \"black\") +\n",
        "  labs(\n",
        "    title = \"Mean Proportion of Hispanics by Treatment\",\n",
        "    x = \"Treatment (0 = Control, 1 = Treated)\",\n",
        "    y = \"Mean Proportion of Hispanics\",\n",
        "    fill = \"Treatment\"\n",
        "  ) +\n",
        "  theme_minimal()"
      ],
      "metadata": {
        "id": "WAJzXJI8TemF"
      },
      "execution_count": null,
      "outputs": []
    },
    {
      "cell_type": "code",
      "source": [
        "install.packages('Hmisc')\n",
        "library(Hmisc)\n",
        "\n",
        "ggplot(JobCorps, aes(x = factor(treatmnt), y = hispanic, fill = factor(treatmnt))) +\n",
        "  stat_summary(fun = mean, geom = \"bar\", alpha = 0.6) +\n",
        "  stat_summary(\n",
        "    fun.data = mean_cl_normal,                                         # 95% confidence intervals\n",
        "    geom = \"errorbar\",\n",
        "    width = 0.2\n",
        "  ) +\n",
        "  labs(\n",
        "    title = \"Mean Proportion of Hispanics by Treatment\",\n",
        "    x = \"Treatment (0 = Control, 1 = Treated)\",\n",
        "    y = \"Mean Proportion of Hispanics\",\n",
        "    fill = \"Treatment\"\n",
        "  ) +\n",
        "  scale_fill_brewer(palette = \"Set2\") +\n",
        "  theme_minimal()"
      ],
      "metadata": {
        "id": "Xjv2eT-ZOeCE"
      },
      "execution_count": null,
      "outputs": []
    },
    {
      "cell_type": "markdown",
      "source": [
        "Difference in means test"
      ],
      "metadata": {
        "id": "12bHc0ylDdbR"
      }
    },
    {
      "cell_type": "code",
      "source": [
        "mytest <- with( JobCorps, t.test(hispanic~treatmnt,alternative = c(\"two.sided\"),conf.level = 0.95))\n",
        "mytest"
      ],
      "metadata": {
        "id": "pPm07M1KDelf"
      },
      "execution_count": null,
      "outputs": []
    },
    {
      "cell_type": "code",
      "source": [
        "t.test(JobCorps$hispanic~JobCorps$treatmnt,alternative = c(\"two.sided\"),conf.level = 0.95)"
      ],
      "metadata": {
        "id": "bPfL89DnDiMZ"
      },
      "execution_count": null,
      "outputs": []
    },
    {
      "cell_type": "code",
      "source": [
        "t.test(JobCorps$male~JobCorps$treatmnt,alternative = c(\"two.sided\"),conf.level = 0.95)"
      ],
      "metadata": {
        "id": "DxnByNGNDwte"
      },
      "execution_count": null,
      "outputs": []
    },
    {
      "cell_type": "markdown",
      "source": [
        "conclusion is not possible to reject null hypothesis that hispanic in both groups are the same\n"
      ],
      "metadata": {
        "id": "74y4HYxaD0k6"
      }
    },
    {
      "cell_type": "markdown",
      "source": [
        "use OLS model to see of randomization was sucessful\n",
        "\n",
        " first define vector of variables of interest"
      ],
      "metadata": {
        "id": "16bwvc0LD3-p"
      }
    },
    {
      "cell_type": "code",
      "source": [
        "target.vars<-colnames(JobCorps)[19:36]\n",
        "target.vars"
      ],
      "metadata": {
        "id": "_xaIaKH7D8Bd"
      },
      "execution_count": null,
      "outputs": []
    },
    {
      "cell_type": "code",
      "source": [
        "target.vars<-subset(colnames(JobCorps), grepl(\"earnq\",colnames(JobCorps))==FALSE)\n",
        "target.vars"
      ],
      "metadata": {
        "id": "DRzJcM17D_m6"
      },
      "execution_count": null,
      "outputs": []
    },
    {
      "cell_type": "code",
      "source": [
        "summary(JobCorps[, target.vars])"
      ],
      "metadata": {
        "id": "qfYiQAHAQ9Gq"
      },
      "execution_count": null,
      "outputs": []
    },
    {
      "cell_type": "code",
      "source": [
        "cor_matrix <- cor(JobCorps[, c(\"white\", \"black\", \"hispanic\", \"treatmnt\")], use = \"complete.obs\")\n",
        "cor_matrix"
      ],
      "metadata": {
        "id": "y6MetmkjWeH3"
      },
      "execution_count": null,
      "outputs": []
    },
    {
      "cell_type": "code",
      "source": [
        "heatmap(cor_matrix, symm = TRUE, col = colorRampPalette(c(\"blue\", \"white\", \"red\"))(50),\n",
        "        main = \"Heatmap of Correlations\")"
      ],
      "metadata": {
        "id": "vkwhNOlKWkG-"
      },
      "execution_count": null,
      "outputs": []
    },
    {
      "cell_type": "markdown",
      "source": [
        "run the regression, first a simple example with 3 observable caracteristics\n"
      ],
      "metadata": {
        "id": "WzR4R-w0EGi5"
      }
    },
    {
      "cell_type": "code",
      "source": [
        "model1<-lm(treatmnt~ white+black+hispanic, data=JobCorps)\n",
        "summary(model1)"
      ],
      "metadata": {
        "id": "-k_qyw7EEFLw"
      },
      "execution_count": null,
      "outputs": []
    },
    {
      "cell_type": "code",
      "source": [
        "plot(model1)"
      ],
      "metadata": {
        "id": "Z4wSoiMYEND9"
      },
      "execution_count": null,
      "outputs": []
    },
    {
      "cell_type": "markdown",
      "source": [
        " now all variables\n",
        "\n",
        "  first save the model"
      ],
      "metadata": {
        "id": "en4m12JMEVby"
      }
    },
    {
      "cell_type": "code",
      "source": [
        "formula.model2<-as.formula(paste(\"treatmnt\",\"~\",paste(target.vars,collapse=\"+\"),sep=\"\"))\n",
        "formula.model2\n"
      ],
      "metadata": {
        "id": "M8z9JpCCETbl"
      },
      "execution_count": null,
      "outputs": []
    },
    {
      "cell_type": "markdown",
      "source": [
        "second run regression"
      ],
      "metadata": {
        "id": "0hPBD42_EgTc"
      }
    },
    {
      "cell_type": "code",
      "source": [
        "model2<-lm(formula.model2,data=JobCorps)\n",
        "summary(model2)"
      ],
      "metadata": {
        "id": "FTAUkg4CEi2x"
      },
      "execution_count": null,
      "outputs": []
    },
    {
      "cell_type": "markdown",
      "source": [
        "selection on observables"
      ],
      "metadata": {
        "id": "Tafhlr5yEqgW"
      }
    },
    {
      "cell_type": "code",
      "source": [
        "formula.model3<-as.formula(paste(\"attrit\",\"~\",paste(target.vars,collapse=\"+\"),sep=\"\"))\n",
        "formula.model3"
      ],
      "metadata": {
        "id": "BlwjA-vfEog4"
      },
      "execution_count": null,
      "outputs": []
    },
    {
      "cell_type": "markdown",
      "source": [
        "second run regression"
      ],
      "metadata": {
        "id": "Eo42E324Ey3H"
      }
    },
    {
      "cell_type": "code",
      "source": [
        "model3<-lm(attrit~ white+black+hispanic, data=JobCorps)\n",
        "summary(model3)"
      ],
      "metadata": {
        "id": "vRCapiGnEzUV"
      },
      "execution_count": null,
      "outputs": []
    },
    {
      "cell_type": "code",
      "source": [
        "model3<-lm(formula.model3, data=JobCorps)\n",
        "summary(model3)"
      ],
      "metadata": {
        "id": "lSqwJmreGHpt"
      },
      "execution_count": null,
      "outputs": []
    },
    {
      "cell_type": "code",
      "source": [
        "test<-subset(JobCorps,complete.cases(JobCorps[,target.vars])==TRUE)"
      ],
      "metadata": {
        "id": "q26-rt86HJI1"
      },
      "execution_count": null,
      "outputs": []
    },
    {
      "cell_type": "code",
      "source": [
        "dim(test)"
      ],
      "metadata": {
        "id": "fWLbC4vNHMhR"
      },
      "execution_count": null,
      "outputs": []
    },
    {
      "cell_type": "code",
      "source": [
        "cor(test[,target.vars])"
      ],
      "metadata": {
        "id": "pNXwrtz7HPnP"
      },
      "execution_count": null,
      "outputs": []
    },
    {
      "cell_type": "markdown",
      "source": [
        "Average Treatment Effect  "
      ],
      "metadata": {
        "id": "_6kTUFSuHVqA"
      }
    },
    {
      "cell_type": "code",
      "source": [
        "formula.model_ATE<-as.formula(earnq16~treatmnt)\n",
        "formula.model_ATE"
      ],
      "metadata": {
        "id": "17ciuKZ9HWiC"
      },
      "execution_count": null,
      "outputs": []
    },
    {
      "cell_type": "code",
      "source": [
        "model_ATE<-lm(formula.model_ATE,data=JobCorps, na.action = na.omit)\n",
        "summary(model_ATE)"
      ],
      "metadata": {
        "id": "NcWAVuhVHebF"
      },
      "execution_count": null,
      "outputs": []
    },
    {
      "cell_type": "markdown",
      "source": [
        "Is this a really ATE ?"
      ],
      "metadata": {
        "id": "POZ6kksKLmXn"
      }
    },
    {
      "cell_type": "markdown",
      "source": [
        "Effect on the Treated"
      ],
      "metadata": {
        "id": "mP36Owq9L4JL"
      }
    },
    {
      "cell_type": "code",
      "source": [
        "summary(subset(JobCorps,treatmnt==1)$earnq16)"
      ],
      "metadata": {
        "id": "QMAYDymkLj43"
      },
      "execution_count": null,
      "outputs": []
    },
    {
      "cell_type": "code",
      "source": [
        "ToT<-mean(subset(JobCorps,treatmnt==1)$earnq16,na.rm=TRUE)  # ToT: Average Effect of Treatment on the Treated\n",
        "ToT"
      ],
      "metadata": {
        "id": "TmlvHw-uMNJG"
      },
      "execution_count": null,
      "outputs": []
    },
    {
      "cell_type": "code",
      "source": [
        "NT<-mean(subset(JobCorps,treatmnt==0)$earnq16,na.rm=TRUE)  # ToT: Average Effect of Treatment on the Treated\n",
        "NT"
      ],
      "metadata": {
        "id": "dxcZXCCgL_Ez"
      },
      "execution_count": null,
      "outputs": []
    },
    {
      "cell_type": "markdown",
      "source": [
        "ATE , maybe"
      ],
      "metadata": {
        "id": "9amY7I7UMF4D"
      }
    },
    {
      "cell_type": "code",
      "source": [
        "ToT-NT"
      ],
      "metadata": {
        "id": "j41x5qPNMH3R"
      },
      "execution_count": null,
      "outputs": []
    },
    {
      "cell_type": "markdown",
      "source": [
        "compare this to regression coefficient"
      ],
      "metadata": {
        "id": "KK60p1vcMkIS"
      }
    },
    {
      "cell_type": "code",
      "source": [
        " model_ATE$coefficients"
      ],
      "metadata": {
        "id": "Y7o0H767MmaG"
      },
      "execution_count": null,
      "outputs": []
    },
    {
      "cell_type": "markdown",
      "source": [
        "Randomization seems to be working"
      ],
      "metadata": {
        "id": "Vf-9n6Y8Mv5I"
      }
    },
    {
      "cell_type": "code",
      "source": [
        "summary(model_ATE$residuals) #what is the expected value?"
      ],
      "metadata": {
        "id": "NcRELRguMzZc"
      },
      "execution_count": null,
      "outputs": []
    },
    {
      "cell_type": "markdown",
      "source": [
        "is this correlated with the treatment"
      ],
      "metadata": {
        "id": "32kWBJrNM5V-"
      }
    },
    {
      "cell_type": "code",
      "source": [
        "cor(model_ATE$residuals,subset(JobCorps,complete.cases(JobCorps[,c(\"earnq16\",\"treatmnt\")])==TRUE)$treatmnt)"
      ],
      "metadata": {
        "id": "X48a8FO4M4uZ"
      },
      "execution_count": null,
      "outputs": []
    },
    {
      "cell_type": "markdown",
      "source": [
        "no correlation at all, what does this mean?"
      ],
      "metadata": {
        "id": "uXn1UUdkNCPt"
      }
    }
  ]
}