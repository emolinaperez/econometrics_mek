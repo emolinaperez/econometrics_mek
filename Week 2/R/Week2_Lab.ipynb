{
  "nbformat": 4,
  "nbformat_minor": 0,
  "metadata": {
    "colab": {
      "provenance": [],
      "authorship_tag": "ABX9TyMg4e+/s1tGCmcXTtexCOf6",
      "include_colab_link": true
    },
    "kernelspec": {
      "name": "ir",
      "display_name": "R"
    },
    "language_info": {
      "name": "R"
    }
  },
  "cells": [
    {
      "cell_type": "markdown",
      "metadata": {
        "id": "view-in-github",
        "colab_type": "text"
      },
      "source": [
        "<a href=\"https://colab.research.google.com/github/emolinaperez/econometrics_mek/blob/main/Week%202/R/Week2_Lab.ipynb\" target=\"_parent\"><img src=\"https://colab.research.google.com/assets/colab-badge.svg\" alt=\"Open In Colab\"/></a>"
      ]
    },
    {
      "cell_type": "markdown",
      "source": [
        "# Lab 2: Econometrics"
      ],
      "metadata": {
        "id": "UDcxQThpA9QV"
      }
    },
    {
      "cell_type": "markdown",
      "source": [
        "load library for importing database into R (from stata format)\n"
      ],
      "metadata": {
        "id": "LY-_PXg0A7mh"
      }
    },
    {
      "cell_type": "code",
      "source": [
        "library(foreign)\n",
        "library(dplyr)\n",
        "library(ggplot2)"
      ],
      "metadata": {
        "colab": {
          "base_uri": "https://localhost:8080/"
        },
        "id": "360AICVkBMJI",
        "outputId": "44099869-667d-4993-88f8-3589a5f10249"
      },
      "execution_count": 1,
      "outputs": [
        {
          "output_type": "stream",
          "name": "stderr",
          "text": [
            "\n",
            "Attaching package: ‘dplyr’\n",
            "\n",
            "\n",
            "The following objects are masked from ‘package:stats’:\n",
            "\n",
            "    filter, lag\n",
            "\n",
            "\n",
            "The following objects are masked from ‘package:base’:\n",
            "\n",
            "    intersect, setdiff, setequal, union\n",
            "\n",
            "\n"
          ]
        }
      ]
    },
    {
      "cell_type": "markdown",
      "source": [
        "load data"
      ],
      "metadata": {
        "id": "ZQrkyFvcBOCG"
      }
    },
    {
      "cell_type": "code",
      "source": [
        "jobcorpsfile<-\"https://raw.githubusercontent.com/emolinaperez/econometrics_mek/main/Week%202/data/jobcorps.dta\"\n",
        "JobCorps<-read.dta(jobcorpsfile, convert.dates = TRUE, convert.factors = TRUE,missing.type = FALSE,convert.underscore = FALSE, warn.missing.labels = TRUE)\n"
      ],
      "metadata": {
        "id": "4ANw3A4nBMBB"
      },
      "execution_count": 2,
      "outputs": []
    },
    {
      "cell_type": "markdown",
      "source": [
        "explore file"
      ],
      "metadata": {
        "id": "7ATM6nzwCXeC"
      }
    },
    {
      "cell_type": "code",
      "source": [
        "head(JobCorps)"
      ],
      "metadata": {
        "colab": {
          "base_uri": "https://localhost:8080/",
          "height": 286
        },
        "id": "SuzcVKEuCY_e",
        "outputId": "703abc46-1eb2-44bc-8fb4-a05ffdcc2f6c"
      },
      "execution_count": 3,
      "outputs": [
        {
          "output_type": "display_data",
          "data": {
            "text/html": [
              "<table class=\"dataframe\">\n",
              "<caption>A data.frame: 6 × 44</caption>\n",
              "<thead>\n",
              "\t<tr><th></th><th scope=col>earnq1</th><th scope=col>earnq2</th><th scope=col>earnq3</th><th scope=col>earnq4</th><th scope=col>earnq5</th><th scope=col>earnq6</th><th scope=col>earnq7</th><th scope=col>earnq8</th><th scope=col>earnq9</th><th scope=col>earnq10</th><th scope=col>⋯</th><th scope=col>arrest_bline</th><th scope=col>jail_bline</th><th scope=col>participate</th><th scope=col>voc_in_jc</th><th scope=col>work_wk48</th><th scope=col>pct_wks_wrk</th><th scope=col>logwage_wk208</th><th scope=col>wagenotmiss</th><th scope=col>attrit</th><th scope=col>nomiss</th></tr>\n",
              "\t<tr><th></th><th scope=col>&lt;dbl&gt;</th><th scope=col>&lt;dbl&gt;</th><th scope=col>&lt;dbl&gt;</th><th scope=col>&lt;dbl&gt;</th><th scope=col>&lt;dbl&gt;</th><th scope=col>&lt;dbl&gt;</th><th scope=col>&lt;dbl&gt;</th><th scope=col>&lt;dbl&gt;</th><th scope=col>&lt;dbl&gt;</th><th scope=col>&lt;dbl&gt;</th><th scope=col>⋯</th><th scope=col>&lt;dbl&gt;</th><th scope=col>&lt;dbl&gt;</th><th scope=col>&lt;dbl&gt;</th><th scope=col>&lt;dbl&gt;</th><th scope=col>&lt;dbl&gt;</th><th scope=col>&lt;dbl&gt;</th><th scope=col>&lt;dbl&gt;</th><th scope=col>&lt;dbl&gt;</th><th scope=col>&lt;dbl&gt;</th><th scope=col>&lt;dbl&gt;</th></tr>\n",
              "</thead>\n",
              "<tbody>\n",
              "\t<tr><th scope=row>1</th><td> 0.00000</td><td>  0.0</td><td>  0.00000</td><td>  0.0</td><td>236.98856</td><td>227.92403</td><td>125.86984</td><td> 56.59615</td><td>  0.0000</td><td>  0.00000</td><td>⋯</td><td>0</td><td> 0</td><td> 1</td><td> 1</td><td>NA</td><td>57.06862</td><td>1.945910</td><td> 1</td><td>0</td><td>0</td></tr>\n",
              "\t<tr><th scope=row>2</th><td>16.96154</td><td>220.5</td><td>220.50000</td><td>  0.0</td><td>  0.00000</td><td>  0.00000</td><td> 38.03262</td><td>215.51816</td><td>101.1827</td><td>254.13011</td><td>⋯</td><td>0</td><td> 0</td><td> 0</td><td> 0</td><td> 1</td><td>56.73077</td><td>2.014903</td><td> 1</td><td>0</td><td>1</td></tr>\n",
              "\t<tr><th scope=row>3</th><td> 0.00000</td><td>  0.0</td><td>  0.00000</td><td>308.0</td><td>269.22150</td><td>113.19231</td><td>  0.00000</td><td>  0.00000</td><td>  0.0000</td><td>104.67599</td><td>⋯</td><td>0</td><td> 0</td><td> 1</td><td> 1</td><td> 0</td><td>37.50000</td><td>2.079442</td><td> 1</td><td>0</td><td>1</td></tr>\n",
              "\t<tr><th scope=row>4</th><td>      NA</td><td>   NA</td><td>       NA</td><td>   NA</td><td>       NA</td><td>       NA</td><td>       NA</td><td>       NA</td><td>      NA</td><td>       NA</td><td>⋯</td><td>1</td><td>NA</td><td>NA</td><td>NA</td><td>NA</td><td>      NA</td><td>      NA</td><td>NA</td><td>1</td><td>0</td></tr>\n",
              "\t<tr><th scope=row>5</th><td> 0.00000</td><td>  0.0</td><td>165.73846</td><td>307.8</td><td> 71.03077</td><td> 79.23462</td><td>206.00999</td><td>107.91000</td><td>  0.0000</td><td>  0.00000</td><td>⋯</td><td>0</td><td> 0</td><td> 0</td><td> 0</td><td> 1</td><td>53.36538</td><td>2.197225</td><td> 1</td><td>0</td><td>1</td></tr>\n",
              "\t<tr><th scope=row>6</th><td> 0.00000</td><td>  0.0</td><td> 57.21154</td><td>  0.0</td><td>  0.00000</td><td>  0.00000</td><td>  0.00000</td><td>  0.00000</td><td>  0.0000</td><td> 55.53543</td><td>⋯</td><td>0</td><td> 0</td><td> 0</td><td> 0</td><td> 1</td><td>15.38461</td><td>1.686399</td><td> 1</td><td>0</td><td>0</td></tr>\n",
              "</tbody>\n",
              "</table>\n"
            ],
            "text/markdown": "\nA data.frame: 6 × 44\n\n| <!--/--> | earnq1 &lt;dbl&gt; | earnq2 &lt;dbl&gt; | earnq3 &lt;dbl&gt; | earnq4 &lt;dbl&gt; | earnq5 &lt;dbl&gt; | earnq6 &lt;dbl&gt; | earnq7 &lt;dbl&gt; | earnq8 &lt;dbl&gt; | earnq9 &lt;dbl&gt; | earnq10 &lt;dbl&gt; | ⋯ ⋯ | arrest_bline &lt;dbl&gt; | jail_bline &lt;dbl&gt; | participate &lt;dbl&gt; | voc_in_jc &lt;dbl&gt; | work_wk48 &lt;dbl&gt; | pct_wks_wrk &lt;dbl&gt; | logwage_wk208 &lt;dbl&gt; | wagenotmiss &lt;dbl&gt; | attrit &lt;dbl&gt; | nomiss &lt;dbl&gt; |\n|---|---|---|---|---|---|---|---|---|---|---|---|---|---|---|---|---|---|---|---|---|---|\n| 1 |  0.00000 |   0.0 |   0.00000 |   0.0 | 236.98856 | 227.92403 | 125.86984 |  56.59615 |   0.0000 |   0.00000 | ⋯ | 0 |  0 |  1 |  1 | NA | 57.06862 | 1.945910 |  1 | 0 | 0 |\n| 2 | 16.96154 | 220.5 | 220.50000 |   0.0 |   0.00000 |   0.00000 |  38.03262 | 215.51816 | 101.1827 | 254.13011 | ⋯ | 0 |  0 |  0 |  0 |  1 | 56.73077 | 2.014903 |  1 | 0 | 1 |\n| 3 |  0.00000 |   0.0 |   0.00000 | 308.0 | 269.22150 | 113.19231 |   0.00000 |   0.00000 |   0.0000 | 104.67599 | ⋯ | 0 |  0 |  1 |  1 |  0 | 37.50000 | 2.079442 |  1 | 0 | 1 |\n| 4 |       NA |    NA |        NA |    NA |        NA |        NA |        NA |        NA |       NA |        NA | ⋯ | 1 | NA | NA | NA | NA |       NA |       NA | NA | 1 | 0 |\n| 5 |  0.00000 |   0.0 | 165.73846 | 307.8 |  71.03077 |  79.23462 | 206.00999 | 107.91000 |   0.0000 |   0.00000 | ⋯ | 0 |  0 |  0 |  0 |  1 | 53.36538 | 2.197225 |  1 | 0 | 1 |\n| 6 |  0.00000 |   0.0 |  57.21154 |   0.0 |   0.00000 |   0.00000 |   0.00000 |   0.00000 |   0.0000 |  55.53543 | ⋯ | 0 |  0 |  0 |  0 |  1 | 15.38461 | 1.686399 |  1 | 0 | 0 |\n\n",
            "text/latex": "A data.frame: 6 × 44\n\\begin{tabular}{r|lllllllllllllllllllll}\n  & earnq1 & earnq2 & earnq3 & earnq4 & earnq5 & earnq6 & earnq7 & earnq8 & earnq9 & earnq10 & ⋯ & arrest\\_bline & jail\\_bline & participate & voc\\_in\\_jc & work\\_wk48 & pct\\_wks\\_wrk & logwage\\_wk208 & wagenotmiss & attrit & nomiss\\\\\n  & <dbl> & <dbl> & <dbl> & <dbl> & <dbl> & <dbl> & <dbl> & <dbl> & <dbl> & <dbl> & ⋯ & <dbl> & <dbl> & <dbl> & <dbl> & <dbl> & <dbl> & <dbl> & <dbl> & <dbl> & <dbl>\\\\\n\\hline\n\t1 &  0.00000 &   0.0 &   0.00000 &   0.0 & 236.98856 & 227.92403 & 125.86984 &  56.59615 &   0.0000 &   0.00000 & ⋯ & 0 &  0 &  1 &  1 & NA & 57.06862 & 1.945910 &  1 & 0 & 0\\\\\n\t2 & 16.96154 & 220.5 & 220.50000 &   0.0 &   0.00000 &   0.00000 &  38.03262 & 215.51816 & 101.1827 & 254.13011 & ⋯ & 0 &  0 &  0 &  0 &  1 & 56.73077 & 2.014903 &  1 & 0 & 1\\\\\n\t3 &  0.00000 &   0.0 &   0.00000 & 308.0 & 269.22150 & 113.19231 &   0.00000 &   0.00000 &   0.0000 & 104.67599 & ⋯ & 0 &  0 &  1 &  1 &  0 & 37.50000 & 2.079442 &  1 & 0 & 1\\\\\n\t4 &       NA &    NA &        NA &    NA &        NA &        NA &        NA &        NA &       NA &        NA & ⋯ & 1 & NA & NA & NA & NA &       NA &       NA & NA & 1 & 0\\\\\n\t5 &  0.00000 &   0.0 & 165.73846 & 307.8 &  71.03077 &  79.23462 & 206.00999 & 107.91000 &   0.0000 &   0.00000 & ⋯ & 0 &  0 &  0 &  0 &  1 & 53.36538 & 2.197225 &  1 & 0 & 1\\\\\n\t6 &  0.00000 &   0.0 &  57.21154 &   0.0 &   0.00000 &   0.00000 &   0.00000 &   0.00000 &   0.0000 &  55.53543 & ⋯ & 0 &  0 &  0 &  0 &  1 & 15.38461 & 1.686399 &  1 & 0 & 0\\\\\n\\end{tabular}\n",
            "text/plain": [
              "  earnq1   earnq2 earnq3    earnq4 earnq5    earnq6    earnq7    earnq8   \n",
              "1  0.00000   0.0    0.00000   0.0  236.98856 227.92403 125.86984  56.59615\n",
              "2 16.96154 220.5  220.50000   0.0    0.00000   0.00000  38.03262 215.51816\n",
              "3  0.00000   0.0    0.00000 308.0  269.22150 113.19231   0.00000   0.00000\n",
              "4       NA    NA         NA    NA         NA        NA        NA        NA\n",
              "5  0.00000   0.0  165.73846 307.8   71.03077  79.23462 206.00999 107.91000\n",
              "6  0.00000   0.0   57.21154   0.0    0.00000   0.00000   0.00000   0.00000\n",
              "  earnq9   earnq10   ⋯ arrest_bline jail_bline participate voc_in_jc work_wk48\n",
              "1   0.0000   0.00000 ⋯ 0             0          1           1        NA       \n",
              "2 101.1827 254.13011 ⋯ 0             0          0           0         1       \n",
              "3   0.0000 104.67599 ⋯ 0             0          1           1         0       \n",
              "4       NA        NA ⋯ 1            NA         NA          NA        NA       \n",
              "5   0.0000   0.00000 ⋯ 0             0          0           0         1       \n",
              "6   0.0000  55.53543 ⋯ 0             0          0           0         1       \n",
              "  pct_wks_wrk logwage_wk208 wagenotmiss attrit nomiss\n",
              "1 57.06862    1.945910       1          0      0     \n",
              "2 56.73077    2.014903       1          0      1     \n",
              "3 37.50000    2.079442       1          0      1     \n",
              "4       NA          NA      NA          1      0     \n",
              "5 53.36538    2.197225       1          0      1     \n",
              "6 15.38461    1.686399       1          0      0     "
            ]
          },
          "metadata": {}
        }
      ]
    },
    {
      "cell_type": "code",
      "source": [
        "dim(JobCorps)"
      ],
      "metadata": {
        "colab": {
          "base_uri": "https://localhost:8080/",
          "height": 34
        },
        "id": "UARJzwu4CwWH",
        "outputId": "ee28cde7-19d7-4556-f0d2-ea5ec0d6600b"
      },
      "execution_count": 4,
      "outputs": [
        {
          "output_type": "display_data",
          "data": {
            "text/html": [
              "<style>\n",
              ".list-inline {list-style: none; margin:0; padding: 0}\n",
              ".list-inline>li {display: inline-block}\n",
              ".list-inline>li:not(:last-child)::after {content: \"\\00b7\"; padding: 0 .5ex}\n",
              "</style>\n",
              "<ol class=list-inline><li>13509</li><li>44</li></ol>\n"
            ],
            "text/markdown": "1. 13509\n2. 44\n\n\n",
            "text/latex": "\\begin{enumerate*}\n\\item 13509\n\\item 44\n\\end{enumerate*}\n",
            "text/plain": [
              "[1] 13509    44"
            ]
          },
          "metadata": {}
        }
      ]
    },
    {
      "cell_type": "code",
      "source": [
        "attributes(JobCorps)"
      ],
      "metadata": {
        "colab": {
          "base_uri": "https://localhost:8080/",
          "height": 653
        },
        "id": "f6P_9_mJC0sr",
        "outputId": "c971989e-830f-44b1-ed07-0ddede477854"
      },
      "execution_count": 5,
      "outputs": [
        {
          "output_type": "display_data",
          "data": {
            "text/html": [
              "<dl>\n",
              "\t<dt>$datalabel</dt>\n",
              "\t\t<dd>''</dd>\n",
              "\t<dt>$time.stamp</dt>\n",
              "\t\t<dd>'16 Jan 2025 14:56'</dd>\n",
              "\t<dt>$names</dt>\n",
              "\t\t<dd><style>\n",
              ".list-inline {list-style: none; margin:0; padding: 0}\n",
              ".list-inline>li {display: inline-block}\n",
              ".list-inline>li:not(:last-child)::after {content: \"\\00b7\"; padding: 0 .5ex}\n",
              "</style>\n",
              "<ol class=list-inline><li>'earnq1'</li><li>'earnq2'</li><li>'earnq3'</li><li>'earnq4'</li><li>'earnq5'</li><li>'earnq6'</li><li>'earnq7'</li><li>'earnq8'</li><li>'earnq9'</li><li>'earnq10'</li><li>'earnq11'</li><li>'earnq12'</li><li>'earnq13'</li><li>'earnq14'</li><li>'earnq15'</li><li>'earnq16'</li><li>'treatmnt'</li><li>'dsgn_wgt'</li><li>'white'</li><li>'black'</li><li>'hispanic'</li><li>'eng_sec_language'</li><li>'havekids_at_bline'</li><li>'male'</li><li>'educlevel_at_bline'</li><li>'hsgrad_at_bline'</li><li>'ged_at_bline'</li><li>'everwork_at_bline'</li><li>'wrk_lyr_bline'</li><li>'mos_wrk_lyr_bline'</li><li>'earn_lyr_bline'</li><li>'wage_bline'</li><li>'anywlfr_bline'</li><li>'alcohol_bline'</li><li>'arrest_bline'</li><li>'jail_bline'</li><li>'participate'</li><li>'voc_in_jc'</li><li>'work_wk48'</li><li>'pct_wks_wrk'</li><li>'logwage_wk208'</li><li>'wagenotmiss'</li><li>'attrit'</li><li>'nomiss'</li></ol>\n",
              "</dd>\n",
              "\t<dt>$formats</dt>\n",
              "\t\t<dd><style>\n",
              ".list-inline {list-style: none; margin:0; padding: 0}\n",
              ".list-inline>li {display: inline-block}\n",
              ".list-inline>li:not(:last-child)::after {content: \"\\00b7\"; padding: 0 .5ex}\n",
              "</style>\n",
              "<ol class=list-inline><li>'%9.0g'</li><li>'%9.0g'</li><li>'%9.0g'</li><li>'%9.0g'</li><li>'%9.0g'</li><li>'%9.0g'</li><li>'%9.0g'</li><li>'%9.0g'</li><li>'%9.0g'</li><li>'%9.0g'</li><li>'%9.0g'</li><li>'%9.0g'</li><li>'%9.0g'</li><li>'%9.0g'</li><li>'%9.0g'</li><li>'%9.0g'</li><li>'%8.0g'</li><li>'%9.0g'</li><li>'%9.0g'</li><li>'%9.0g'</li><li>'%9.0g'</li><li>'%9.0g'</li><li>'%9.0g'</li><li>'%9.0g'</li><li>'%9.0g'</li><li>'%9.0g'</li><li>'%9.0g'</li><li>'%9.0g'</li><li>'%9.0g'</li><li>'%9.0g'</li><li>'%9.0g'</li><li>'%9.0g'</li><li>'%9.0g'</li><li>'%9.0g'</li><li>'%9.0g'</li><li>'%9.0g'</li><li>'%9.0g'</li><li>'%9.0g'</li><li>'%9.0g'</li><li>'%9.0g'</li><li>'%9.0g'</li><li>'%9.0g'</li><li>'%9.0g'</li><li>'%9.0g'</li></ol>\n",
              "</dd>\n",
              "\t<dt>$types</dt>\n",
              "\t\t<dd><style>\n",
              ".list-inline {list-style: none; margin:0; padding: 0}\n",
              ".list-inline>li {display: inline-block}\n",
              ".list-inline>li:not(:last-child)::after {content: \"\\00b7\"; padding: 0 .5ex}\n",
              "</style>\n",
              "<ol class=list-inline><li>254</li><li>254</li><li>254</li><li>254</li><li>254</li><li>254</li><li>254</li><li>254</li><li>254</li><li>254</li><li>254</li><li>254</li><li>254</li><li>254</li><li>254</li><li>254</li><li>251</li><li>254</li><li>254</li><li>254</li><li>254</li><li>254</li><li>254</li><li>254</li><li>254</li><li>254</li><li>254</li><li>254</li><li>254</li><li>254</li><li>254</li><li>254</li><li>254</li><li>254</li><li>254</li><li>254</li><li>254</li><li>254</li><li>254</li><li>254</li><li>254</li><li>254</li><li>254</li><li>254</li></ol>\n",
              "</dd>\n",
              "\t<dt>$val.labels</dt>\n",
              "\t\t<dd><style>\n",
              ".list-inline {list-style: none; margin:0; padding: 0}\n",
              ".list-inline>li {display: inline-block}\n",
              ".list-inline>li:not(:last-child)::after {content: \"\\00b7\"; padding: 0 .5ex}\n",
              "</style>\n",
              "<ol class=list-inline><li>''</li><li>''</li><li>''</li><li>''</li><li>''</li><li>''</li><li>''</li><li>''</li><li>''</li><li>''</li><li>''</li><li>''</li><li>''</li><li>''</li><li>''</li><li>''</li><li>''</li><li>''</li><li>''</li><li>''</li><li>''</li><li>''</li><li>''</li><li>''</li><li>''</li><li>''</li><li>''</li><li>''</li><li>''</li><li>''</li><li>''</li><li>''</li><li>''</li><li>''</li><li>''</li><li>''</li><li>''</li><li>''</li><li>''</li><li>''</li><li>''</li><li>''</li><li>''</li><li>''</li></ol>\n",
              "</dd>\n",
              "\t<dt>$var.labels</dt>\n",
              "\t\t<dd><style>\n",
              ".list-inline {list-style: none; margin:0; padding: 0}\n",
              ".list-inline>li {display: inline-block}\n",
              ".list-inline>li:not(:last-child)::after {content: \"\\00b7\"; padding: 0 .5ex}\n",
              "</style>\n",
              "<ol class=list-inline><li>'earnings per wk in qtr 1'</li><li>'earnings per wk in qtr 2'</li><li>'earnings per wk in qtr 3'</li><li>'earnings per wk in qtr 4'</li><li>'earnings per wk in qtr 5'</li><li>'earnings per wk in qtr 6'</li><li>'earnings per wk in qtr 7'</li><li>'earnings per wk in qtr 8'</li><li>'earnings per wk in qtr 9'</li><li>'earnings per wk in qtr 10'</li><li>'earnings per wk in qtr 11'</li><li>'earnings per wk in qtr 12'</li><li>'earnings per wk in qtr 13'</li><li>'earnings per wk in qtr 14'</li><li>'earnings per wk in qtr 15'</li><li>'earnings per wk in qtr 16'</li><li>'1=in program group; 0=in control group'</li><li>'wgt adjusting for sample/survey designs'</li><li>''</li><li>''</li><li>''</li><li>''</li><li>''</li><li>''</li><li>''</li><li>''</li><li>''</li><li>''</li><li>''</li><li>''</li><li>''</li><li>''</li><li>''</li><li>''</li><li>''</li><li>''</li><li>''</li><li>''</li><li>''</li><li>''</li><li>''</li><li>''</li><li>''</li><li>''</li></ol>\n",
              "</dd>\n",
              "\t<dt>$row.names</dt>\n",
              "\t\t<dd><style>\n",
              ".list-inline {list-style: none; margin:0; padding: 0}\n",
              ".list-inline>li {display: inline-block}\n",
              ".list-inline>li:not(:last-child)::after {content: \"\\00b7\"; padding: 0 .5ex}\n",
              "</style>\n",
              "<ol class=list-inline><li>'1'</li><li>'2'</li><li>'3'</li><li>'4'</li><li>'5'</li><li>'6'</li><li>'7'</li><li>'8'</li><li>'9'</li><li>'10'</li><li>'11'</li><li>'12'</li><li>'13'</li><li>'14'</li><li>'15'</li><li>'16'</li><li>'17'</li><li>'18'</li><li>'19'</li><li>'20'</li><li>'21'</li><li>'22'</li><li>'23'</li><li>'24'</li><li>'25'</li><li>'26'</li><li>'27'</li><li>'28'</li><li>'29'</li><li>'30'</li><li>'31'</li><li>'32'</li><li>'33'</li><li>'34'</li><li>'35'</li><li>'36'</li><li>'37'</li><li>'38'</li><li>'39'</li><li>'40'</li><li>'41'</li><li>'42'</li><li>'43'</li><li>'44'</li><li>'45'</li><li>'46'</li><li>'47'</li><li>'48'</li><li>'49'</li><li>'50'</li><li>'51'</li><li>'52'</li><li>'53'</li><li>'54'</li><li>'55'</li><li>'56'</li><li>'57'</li><li>'58'</li><li>'59'</li><li>'60'</li><li>'61'</li><li>'62'</li><li>'63'</li><li>'64'</li><li>'65'</li><li>'66'</li><li>'67'</li><li>'68'</li><li>'69'</li><li>'70'</li><li>'71'</li><li>'72'</li><li>'73'</li><li>'74'</li><li>'75'</li><li>'76'</li><li>'77'</li><li>'78'</li><li>'79'</li><li>'80'</li><li>'81'</li><li>'82'</li><li>'83'</li><li>'84'</li><li>'85'</li><li>'86'</li><li>'87'</li><li>'88'</li><li>'89'</li><li>'90'</li><li>'91'</li><li>'92'</li><li>'93'</li><li>'94'</li><li>'95'</li><li>'96'</li><li>'97'</li><li>'98'</li><li>'99'</li><li>'100'</li><li>'101'</li><li>'102'</li><li>'103'</li><li>'104'</li><li>'105'</li><li>'106'</li><li>'107'</li><li>'108'</li><li>'109'</li><li>'110'</li><li>'111'</li><li>'112'</li><li>'113'</li><li>'114'</li><li>'115'</li><li>'116'</li><li>'117'</li><li>'118'</li><li>'119'</li><li>'120'</li><li>'121'</li><li>'122'</li><li>'123'</li><li>'124'</li><li>'125'</li><li>'126'</li><li>'127'</li><li>'128'</li><li>'129'</li><li>'130'</li><li>'131'</li><li>'132'</li><li>'133'</li><li>'134'</li><li>'135'</li><li>'136'</li><li>'137'</li><li>'138'</li><li>'139'</li><li>'140'</li><li>'141'</li><li>'142'</li><li>'143'</li><li>'144'</li><li>'145'</li><li>'146'</li><li>'147'</li><li>'148'</li><li>'149'</li><li>'150'</li><li>'151'</li><li>'152'</li><li>'153'</li><li>'154'</li><li>'155'</li><li>'156'</li><li>'157'</li><li>'158'</li><li>'159'</li><li>'160'</li><li>'161'</li><li>'162'</li><li>'163'</li><li>'164'</li><li>'165'</li><li>'166'</li><li>'167'</li><li>'168'</li><li>'169'</li><li>'170'</li><li>'171'</li><li>'172'</li><li>'173'</li><li>'174'</li><li>'175'</li><li>'176'</li><li>'177'</li><li>'178'</li><li>'179'</li><li>'180'</li><li>'181'</li><li>'182'</li><li>'183'</li><li>'184'</li><li>'185'</li><li>'186'</li><li>'187'</li><li>'188'</li><li>'189'</li><li>'190'</li><li>'191'</li><li>'192'</li><li>'193'</li><li>'194'</li><li>'195'</li><li>'196'</li><li>'197'</li><li>'198'</li><li>'199'</li><li>'200'</li><li>⋯</li><li>'13310'</li><li>'13311'</li><li>'13312'</li><li>'13313'</li><li>'13314'</li><li>'13315'</li><li>'13316'</li><li>'13317'</li><li>'13318'</li><li>'13319'</li><li>'13320'</li><li>'13321'</li><li>'13322'</li><li>'13323'</li><li>'13324'</li><li>'13325'</li><li>'13326'</li><li>'13327'</li><li>'13328'</li><li>'13329'</li><li>'13330'</li><li>'13331'</li><li>'13332'</li><li>'13333'</li><li>'13334'</li><li>'13335'</li><li>'13336'</li><li>'13337'</li><li>'13338'</li><li>'13339'</li><li>'13340'</li><li>'13341'</li><li>'13342'</li><li>'13343'</li><li>'13344'</li><li>'13345'</li><li>'13346'</li><li>'13347'</li><li>'13348'</li><li>'13349'</li><li>'13350'</li><li>'13351'</li><li>'13352'</li><li>'13353'</li><li>'13354'</li><li>'13355'</li><li>'13356'</li><li>'13357'</li><li>'13358'</li><li>'13359'</li><li>'13360'</li><li>'13361'</li><li>'13362'</li><li>'13363'</li><li>'13364'</li><li>'13365'</li><li>'13366'</li><li>'13367'</li><li>'13368'</li><li>'13369'</li><li>'13370'</li><li>'13371'</li><li>'13372'</li><li>'13373'</li><li>'13374'</li><li>'13375'</li><li>'13376'</li><li>'13377'</li><li>'13378'</li><li>'13379'</li><li>'13380'</li><li>'13381'</li><li>'13382'</li><li>'13383'</li><li>'13384'</li><li>'13385'</li><li>'13386'</li><li>'13387'</li><li>'13388'</li><li>'13389'</li><li>'13390'</li><li>'13391'</li><li>'13392'</li><li>'13393'</li><li>'13394'</li><li>'13395'</li><li>'13396'</li><li>'13397'</li><li>'13398'</li><li>'13399'</li><li>'13400'</li><li>'13401'</li><li>'13402'</li><li>'13403'</li><li>'13404'</li><li>'13405'</li><li>'13406'</li><li>'13407'</li><li>'13408'</li><li>'13409'</li><li>'13410'</li><li>'13411'</li><li>'13412'</li><li>'13413'</li><li>'13414'</li><li>'13415'</li><li>'13416'</li><li>'13417'</li><li>'13418'</li><li>'13419'</li><li>'13420'</li><li>'13421'</li><li>'13422'</li><li>'13423'</li><li>'13424'</li><li>'13425'</li><li>'13426'</li><li>'13427'</li><li>'13428'</li><li>'13429'</li><li>'13430'</li><li>'13431'</li><li>'13432'</li><li>'13433'</li><li>'13434'</li><li>'13435'</li><li>'13436'</li><li>'13437'</li><li>'13438'</li><li>'13439'</li><li>'13440'</li><li>'13441'</li><li>'13442'</li><li>'13443'</li><li>'13444'</li><li>'13445'</li><li>'13446'</li><li>'13447'</li><li>'13448'</li><li>'13449'</li><li>'13450'</li><li>'13451'</li><li>'13452'</li><li>'13453'</li><li>'13454'</li><li>'13455'</li><li>'13456'</li><li>'13457'</li><li>'13458'</li><li>'13459'</li><li>'13460'</li><li>'13461'</li><li>'13462'</li><li>'13463'</li><li>'13464'</li><li>'13465'</li><li>'13466'</li><li>'13467'</li><li>'13468'</li><li>'13469'</li><li>'13470'</li><li>'13471'</li><li>'13472'</li><li>'13473'</li><li>'13474'</li><li>'13475'</li><li>'13476'</li><li>'13477'</li><li>'13478'</li><li>'13479'</li><li>'13480'</li><li>'13481'</li><li>'13482'</li><li>'13483'</li><li>'13484'</li><li>'13485'</li><li>'13486'</li><li>'13487'</li><li>'13488'</li><li>'13489'</li><li>'13490'</li><li>'13491'</li><li>'13492'</li><li>'13493'</li><li>'13494'</li><li>'13495'</li><li>'13496'</li><li>'13497'</li><li>'13498'</li><li>'13499'</li><li>'13500'</li><li>'13501'</li><li>'13502'</li><li>'13503'</li><li>'13504'</li><li>'13505'</li><li>'13506'</li><li>'13507'</li><li>'13508'</li><li>'13509'</li></ol>\n",
              "</dd>\n",
              "\t<dt>$version</dt>\n",
              "\t\t<dd>12</dd>\n",
              "\t<dt>$class</dt>\n",
              "\t\t<dd>'data.frame'</dd>\n",
              "</dl>\n"
            ],
            "text/markdown": "$datalabel\n:   ''\n$time.stamp\n:   '16 Jan 2025 14:56'\n$names\n:   1. 'earnq1'\n2. 'earnq2'\n3. 'earnq3'\n4. 'earnq4'\n5. 'earnq5'\n6. 'earnq6'\n7. 'earnq7'\n8. 'earnq8'\n9. 'earnq9'\n10. 'earnq10'\n11. 'earnq11'\n12. 'earnq12'\n13. 'earnq13'\n14. 'earnq14'\n15. 'earnq15'\n16. 'earnq16'\n17. 'treatmnt'\n18. 'dsgn_wgt'\n19. 'white'\n20. 'black'\n21. 'hispanic'\n22. 'eng_sec_language'\n23. 'havekids_at_bline'\n24. 'male'\n25. 'educlevel_at_bline'\n26. 'hsgrad_at_bline'\n27. 'ged_at_bline'\n28. 'everwork_at_bline'\n29. 'wrk_lyr_bline'\n30. 'mos_wrk_lyr_bline'\n31. 'earn_lyr_bline'\n32. 'wage_bline'\n33. 'anywlfr_bline'\n34. 'alcohol_bline'\n35. 'arrest_bline'\n36. 'jail_bline'\n37. 'participate'\n38. 'voc_in_jc'\n39. 'work_wk48'\n40. 'pct_wks_wrk'\n41. 'logwage_wk208'\n42. 'wagenotmiss'\n43. 'attrit'\n44. 'nomiss'\n\n\n\n$formats\n:   1. '%9.0g'\n2. '%9.0g'\n3. '%9.0g'\n4. '%9.0g'\n5. '%9.0g'\n6. '%9.0g'\n7. '%9.0g'\n8. '%9.0g'\n9. '%9.0g'\n10. '%9.0g'\n11. '%9.0g'\n12. '%9.0g'\n13. '%9.0g'\n14. '%9.0g'\n15. '%9.0g'\n16. '%9.0g'\n17. '%8.0g'\n18. '%9.0g'\n19. '%9.0g'\n20. '%9.0g'\n21. '%9.0g'\n22. '%9.0g'\n23. '%9.0g'\n24. '%9.0g'\n25. '%9.0g'\n26. '%9.0g'\n27. '%9.0g'\n28. '%9.0g'\n29. '%9.0g'\n30. '%9.0g'\n31. '%9.0g'\n32. '%9.0g'\n33. '%9.0g'\n34. '%9.0g'\n35. '%9.0g'\n36. '%9.0g'\n37. '%9.0g'\n38. '%9.0g'\n39. '%9.0g'\n40. '%9.0g'\n41. '%9.0g'\n42. '%9.0g'\n43. '%9.0g'\n44. '%9.0g'\n\n\n\n$types\n:   1. 254\n2. 254\n3. 254\n4. 254\n5. 254\n6. 254\n7. 254\n8. 254\n9. 254\n10. 254\n11. 254\n12. 254\n13. 254\n14. 254\n15. 254\n16. 254\n17. 251\n18. 254\n19. 254\n20. 254\n21. 254\n22. 254\n23. 254\n24. 254\n25. 254\n26. 254\n27. 254\n28. 254\n29. 254\n30. 254\n31. 254\n32. 254\n33. 254\n34. 254\n35. 254\n36. 254\n37. 254\n38. 254\n39. 254\n40. 254\n41. 254\n42. 254\n43. 254\n44. 254\n\n\n\n$val.labels\n:   1. ''\n2. ''\n3. ''\n4. ''\n5. ''\n6. ''\n7. ''\n8. ''\n9. ''\n10. ''\n11. ''\n12. ''\n13. ''\n14. ''\n15. ''\n16. ''\n17. ''\n18. ''\n19. ''\n20. ''\n21. ''\n22. ''\n23. ''\n24. ''\n25. ''\n26. ''\n27. ''\n28. ''\n29. ''\n30. ''\n31. ''\n32. ''\n33. ''\n34. ''\n35. ''\n36. ''\n37. ''\n38. ''\n39. ''\n40. ''\n41. ''\n42. ''\n43. ''\n44. ''\n\n\n\n$var.labels\n:   1. 'earnings per wk in qtr 1'\n2. 'earnings per wk in qtr 2'\n3. 'earnings per wk in qtr 3'\n4. 'earnings per wk in qtr 4'\n5. 'earnings per wk in qtr 5'\n6. 'earnings per wk in qtr 6'\n7. 'earnings per wk in qtr 7'\n8. 'earnings per wk in qtr 8'\n9. 'earnings per wk in qtr 9'\n10. 'earnings per wk in qtr 10'\n11. 'earnings per wk in qtr 11'\n12. 'earnings per wk in qtr 12'\n13. 'earnings per wk in qtr 13'\n14. 'earnings per wk in qtr 14'\n15. 'earnings per wk in qtr 15'\n16. 'earnings per wk in qtr 16'\n17. '1=in program group; 0=in control group'\n18. 'wgt adjusting for sample/survey designs'\n19. ''\n20. ''\n21. ''\n22. ''\n23. ''\n24. ''\n25. ''\n26. ''\n27. ''\n28. ''\n29. ''\n30. ''\n31. ''\n32. ''\n33. ''\n34. ''\n35. ''\n36. ''\n37. ''\n38. ''\n39. ''\n40. ''\n41. ''\n42. ''\n43. ''\n44. ''\n\n\n\n$row.names\n:   1. '1'\n2. '2'\n3. '3'\n4. '4'\n5. '5'\n6. '6'\n7. '7'\n8. '8'\n9. '9'\n10. '10'\n11. '11'\n12. '12'\n13. '13'\n14. '14'\n15. '15'\n16. '16'\n17. '17'\n18. '18'\n19. '19'\n20. '20'\n21. '21'\n22. '22'\n23. '23'\n24. '24'\n25. '25'\n26. '26'\n27. '27'\n28. '28'\n29. '29'\n30. '30'\n31. '31'\n32. '32'\n33. '33'\n34. '34'\n35. '35'\n36. '36'\n37. '37'\n38. '38'\n39. '39'\n40. '40'\n41. '41'\n42. '42'\n43. '43'\n44. '44'\n45. '45'\n46. '46'\n47. '47'\n48. '48'\n49. '49'\n50. '50'\n51. '51'\n52. '52'\n53. '53'\n54. '54'\n55. '55'\n56. '56'\n57. '57'\n58. '58'\n59. '59'\n60. '60'\n61. '61'\n62. '62'\n63. '63'\n64. '64'\n65. '65'\n66. '66'\n67. '67'\n68. '68'\n69. '69'\n70. '70'\n71. '71'\n72. '72'\n73. '73'\n74. '74'\n75. '75'\n76. '76'\n77. '77'\n78. '78'\n79. '79'\n80. '80'\n81. '81'\n82. '82'\n83. '83'\n84. '84'\n85. '85'\n86. '86'\n87. '87'\n88. '88'\n89. '89'\n90. '90'\n91. '91'\n92. '92'\n93. '93'\n94. '94'\n95. '95'\n96. '96'\n97. '97'\n98. '98'\n99. '99'\n100. '100'\n101. '101'\n102. '102'\n103. '103'\n104. '104'\n105. '105'\n106. '106'\n107. '107'\n108. '108'\n109. '109'\n110. '110'\n111. '111'\n112. '112'\n113. '113'\n114. '114'\n115. '115'\n116. '116'\n117. '117'\n118. '118'\n119. '119'\n120. '120'\n121. '121'\n122. '122'\n123. '123'\n124. '124'\n125. '125'\n126. '126'\n127. '127'\n128. '128'\n129. '129'\n130. '130'\n131. '131'\n132. '132'\n133. '133'\n134. '134'\n135. '135'\n136. '136'\n137. '137'\n138. '138'\n139. '139'\n140. '140'\n141. '141'\n142. '142'\n143. '143'\n144. '144'\n145. '145'\n146. '146'\n147. '147'\n148. '148'\n149. '149'\n150. '150'\n151. '151'\n152. '152'\n153. '153'\n154. '154'\n155. '155'\n156. '156'\n157. '157'\n158. '158'\n159. '159'\n160. '160'\n161. '161'\n162. '162'\n163. '163'\n164. '164'\n165. '165'\n166. '166'\n167. '167'\n168. '168'\n169. '169'\n170. '170'\n171. '171'\n172. '172'\n173. '173'\n174. '174'\n175. '175'\n176. '176'\n177. '177'\n178. '178'\n179. '179'\n180. '180'\n181. '181'\n182. '182'\n183. '183'\n184. '184'\n185. '185'\n186. '186'\n187. '187'\n188. '188'\n189. '189'\n190. '190'\n191. '191'\n192. '192'\n193. '193'\n194. '194'\n195. '195'\n196. '196'\n197. '197'\n198. '198'\n199. '199'\n200. '200'\n201. ⋯\n202. '13310'\n203. '13311'\n204. '13312'\n205. '13313'\n206. '13314'\n207. '13315'\n208. '13316'\n209. '13317'\n210. '13318'\n211. '13319'\n212. '13320'\n213. '13321'\n214. '13322'\n215. '13323'\n216. '13324'\n217. '13325'\n218. '13326'\n219. '13327'\n220. '13328'\n221. '13329'\n222. '13330'\n223. '13331'\n224. '13332'\n225. '13333'\n226. '13334'\n227. '13335'\n228. '13336'\n229. '13337'\n230. '13338'\n231. '13339'\n232. '13340'\n233. '13341'\n234. '13342'\n235. '13343'\n236. '13344'\n237. '13345'\n238. '13346'\n239. '13347'\n240. '13348'\n241. '13349'\n242. '13350'\n243. '13351'\n244. '13352'\n245. '13353'\n246. '13354'\n247. '13355'\n248. '13356'\n249. '13357'\n250. '13358'\n251. '13359'\n252. '13360'\n253. '13361'\n254. '13362'\n255. '13363'\n256. '13364'\n257. '13365'\n258. '13366'\n259. '13367'\n260. '13368'\n261. '13369'\n262. '13370'\n263. '13371'\n264. '13372'\n265. '13373'\n266. '13374'\n267. '13375'\n268. '13376'\n269. '13377'\n270. '13378'\n271. '13379'\n272. '13380'\n273. '13381'\n274. '13382'\n275. '13383'\n276. '13384'\n277. '13385'\n278. '13386'\n279. '13387'\n280. '13388'\n281. '13389'\n282. '13390'\n283. '13391'\n284. '13392'\n285. '13393'\n286. '13394'\n287. '13395'\n288. '13396'\n289. '13397'\n290. '13398'\n291. '13399'\n292. '13400'\n293. '13401'\n294. '13402'\n295. '13403'\n296. '13404'\n297. '13405'\n298. '13406'\n299. '13407'\n300. '13408'\n301. '13409'\n302. '13410'\n303. '13411'\n304. '13412'\n305. '13413'\n306. '13414'\n307. '13415'\n308. '13416'\n309. '13417'\n310. '13418'\n311. '13419'\n312. '13420'\n313. '13421'\n314. '13422'\n315. '13423'\n316. '13424'\n317. '13425'\n318. '13426'\n319. '13427'\n320. '13428'\n321. '13429'\n322. '13430'\n323. '13431'\n324. '13432'\n325. '13433'\n326. '13434'\n327. '13435'\n328. '13436'\n329. '13437'\n330. '13438'\n331. '13439'\n332. '13440'\n333. '13441'\n334. '13442'\n335. '13443'\n336. '13444'\n337. '13445'\n338. '13446'\n339. '13447'\n340. '13448'\n341. '13449'\n342. '13450'\n343. '13451'\n344. '13452'\n345. '13453'\n346. '13454'\n347. '13455'\n348. '13456'\n349. '13457'\n350. '13458'\n351. '13459'\n352. '13460'\n353. '13461'\n354. '13462'\n355. '13463'\n356. '13464'\n357. '13465'\n358. '13466'\n359. '13467'\n360. '13468'\n361. '13469'\n362. '13470'\n363. '13471'\n364. '13472'\n365. '13473'\n366. '13474'\n367. '13475'\n368. '13476'\n369. '13477'\n370. '13478'\n371. '13479'\n372. '13480'\n373. '13481'\n374. '13482'\n375. '13483'\n376. '13484'\n377. '13485'\n378. '13486'\n379. '13487'\n380. '13488'\n381. '13489'\n382. '13490'\n383. '13491'\n384. '13492'\n385. '13493'\n386. '13494'\n387. '13495'\n388. '13496'\n389. '13497'\n390. '13498'\n391. '13499'\n392. '13500'\n393. '13501'\n394. '13502'\n395. '13503'\n396. '13504'\n397. '13505'\n398. '13506'\n399. '13507'\n400. '13508'\n401. '13509'\n\n\n\n$version\n:   12\n$class\n:   'data.frame'\n\n\n",
            "text/latex": "\\begin{description}\n\\item[\\$datalabel] ''\n\\item[\\$time.stamp] '16 Jan 2025 14:56'\n\\item[\\$names] \\begin{enumerate*}\n\\item 'earnq1'\n\\item 'earnq2'\n\\item 'earnq3'\n\\item 'earnq4'\n\\item 'earnq5'\n\\item 'earnq6'\n\\item 'earnq7'\n\\item 'earnq8'\n\\item 'earnq9'\n\\item 'earnq10'\n\\item 'earnq11'\n\\item 'earnq12'\n\\item 'earnq13'\n\\item 'earnq14'\n\\item 'earnq15'\n\\item 'earnq16'\n\\item 'treatmnt'\n\\item 'dsgn\\_wgt'\n\\item 'white'\n\\item 'black'\n\\item 'hispanic'\n\\item 'eng\\_sec\\_language'\n\\item 'havekids\\_at\\_bline'\n\\item 'male'\n\\item 'educlevel\\_at\\_bline'\n\\item 'hsgrad\\_at\\_bline'\n\\item 'ged\\_at\\_bline'\n\\item 'everwork\\_at\\_bline'\n\\item 'wrk\\_lyr\\_bline'\n\\item 'mos\\_wrk\\_lyr\\_bline'\n\\item 'earn\\_lyr\\_bline'\n\\item 'wage\\_bline'\n\\item 'anywlfr\\_bline'\n\\item 'alcohol\\_bline'\n\\item 'arrest\\_bline'\n\\item 'jail\\_bline'\n\\item 'participate'\n\\item 'voc\\_in\\_jc'\n\\item 'work\\_wk48'\n\\item 'pct\\_wks\\_wrk'\n\\item 'logwage\\_wk208'\n\\item 'wagenotmiss'\n\\item 'attrit'\n\\item 'nomiss'\n\\end{enumerate*}\n\n\\item[\\$formats] \\begin{enumerate*}\n\\item '\\%9.0g'\n\\item '\\%9.0g'\n\\item '\\%9.0g'\n\\item '\\%9.0g'\n\\item '\\%9.0g'\n\\item '\\%9.0g'\n\\item '\\%9.0g'\n\\item '\\%9.0g'\n\\item '\\%9.0g'\n\\item '\\%9.0g'\n\\item '\\%9.0g'\n\\item '\\%9.0g'\n\\item '\\%9.0g'\n\\item '\\%9.0g'\n\\item '\\%9.0g'\n\\item '\\%9.0g'\n\\item '\\%8.0g'\n\\item '\\%9.0g'\n\\item '\\%9.0g'\n\\item '\\%9.0g'\n\\item '\\%9.0g'\n\\item '\\%9.0g'\n\\item '\\%9.0g'\n\\item '\\%9.0g'\n\\item '\\%9.0g'\n\\item '\\%9.0g'\n\\item '\\%9.0g'\n\\item '\\%9.0g'\n\\item '\\%9.0g'\n\\item '\\%9.0g'\n\\item '\\%9.0g'\n\\item '\\%9.0g'\n\\item '\\%9.0g'\n\\item '\\%9.0g'\n\\item '\\%9.0g'\n\\item '\\%9.0g'\n\\item '\\%9.0g'\n\\item '\\%9.0g'\n\\item '\\%9.0g'\n\\item '\\%9.0g'\n\\item '\\%9.0g'\n\\item '\\%9.0g'\n\\item '\\%9.0g'\n\\item '\\%9.0g'\n\\end{enumerate*}\n\n\\item[\\$types] \\begin{enumerate*}\n\\item 254\n\\item 254\n\\item 254\n\\item 254\n\\item 254\n\\item 254\n\\item 254\n\\item 254\n\\item 254\n\\item 254\n\\item 254\n\\item 254\n\\item 254\n\\item 254\n\\item 254\n\\item 254\n\\item 251\n\\item 254\n\\item 254\n\\item 254\n\\item 254\n\\item 254\n\\item 254\n\\item 254\n\\item 254\n\\item 254\n\\item 254\n\\item 254\n\\item 254\n\\item 254\n\\item 254\n\\item 254\n\\item 254\n\\item 254\n\\item 254\n\\item 254\n\\item 254\n\\item 254\n\\item 254\n\\item 254\n\\item 254\n\\item 254\n\\item 254\n\\item 254\n\\end{enumerate*}\n\n\\item[\\$val.labels] \\begin{enumerate*}\n\\item ''\n\\item ''\n\\item ''\n\\item ''\n\\item ''\n\\item ''\n\\item ''\n\\item ''\n\\item ''\n\\item ''\n\\item ''\n\\item ''\n\\item ''\n\\item ''\n\\item ''\n\\item ''\n\\item ''\n\\item ''\n\\item ''\n\\item ''\n\\item ''\n\\item ''\n\\item ''\n\\item ''\n\\item ''\n\\item ''\n\\item ''\n\\item ''\n\\item ''\n\\item ''\n\\item ''\n\\item ''\n\\item ''\n\\item ''\n\\item ''\n\\item ''\n\\item ''\n\\item ''\n\\item ''\n\\item ''\n\\item ''\n\\item ''\n\\item ''\n\\item ''\n\\end{enumerate*}\n\n\\item[\\$var.labels] \\begin{enumerate*}\n\\item 'earnings per wk in qtr 1'\n\\item 'earnings per wk in qtr 2'\n\\item 'earnings per wk in qtr 3'\n\\item 'earnings per wk in qtr 4'\n\\item 'earnings per wk in qtr 5'\n\\item 'earnings per wk in qtr 6'\n\\item 'earnings per wk in qtr 7'\n\\item 'earnings per wk in qtr 8'\n\\item 'earnings per wk in qtr 9'\n\\item 'earnings per wk in qtr 10'\n\\item 'earnings per wk in qtr 11'\n\\item 'earnings per wk in qtr 12'\n\\item 'earnings per wk in qtr 13'\n\\item 'earnings per wk in qtr 14'\n\\item 'earnings per wk in qtr 15'\n\\item 'earnings per wk in qtr 16'\n\\item '1=in program group; 0=in control group'\n\\item 'wgt adjusting for sample/survey designs'\n\\item ''\n\\item ''\n\\item ''\n\\item ''\n\\item ''\n\\item ''\n\\item ''\n\\item ''\n\\item ''\n\\item ''\n\\item ''\n\\item ''\n\\item ''\n\\item ''\n\\item ''\n\\item ''\n\\item ''\n\\item ''\n\\item ''\n\\item ''\n\\item ''\n\\item ''\n\\item ''\n\\item ''\n\\item ''\n\\item ''\n\\end{enumerate*}\n\n\\item[\\$row.names] \\begin{enumerate*}\n\\item '1'\n\\item '2'\n\\item '3'\n\\item '4'\n\\item '5'\n\\item '6'\n\\item '7'\n\\item '8'\n\\item '9'\n\\item '10'\n\\item '11'\n\\item '12'\n\\item '13'\n\\item '14'\n\\item '15'\n\\item '16'\n\\item '17'\n\\item '18'\n\\item '19'\n\\item '20'\n\\item '21'\n\\item '22'\n\\item '23'\n\\item '24'\n\\item '25'\n\\item '26'\n\\item '27'\n\\item '28'\n\\item '29'\n\\item '30'\n\\item '31'\n\\item '32'\n\\item '33'\n\\item '34'\n\\item '35'\n\\item '36'\n\\item '37'\n\\item '38'\n\\item '39'\n\\item '40'\n\\item '41'\n\\item '42'\n\\item '43'\n\\item '44'\n\\item '45'\n\\item '46'\n\\item '47'\n\\item '48'\n\\item '49'\n\\item '50'\n\\item '51'\n\\item '52'\n\\item '53'\n\\item '54'\n\\item '55'\n\\item '56'\n\\item '57'\n\\item '58'\n\\item '59'\n\\item '60'\n\\item '61'\n\\item '62'\n\\item '63'\n\\item '64'\n\\item '65'\n\\item '66'\n\\item '67'\n\\item '68'\n\\item '69'\n\\item '70'\n\\item '71'\n\\item '72'\n\\item '73'\n\\item '74'\n\\item '75'\n\\item '76'\n\\item '77'\n\\item '78'\n\\item '79'\n\\item '80'\n\\item '81'\n\\item '82'\n\\item '83'\n\\item '84'\n\\item '85'\n\\item '86'\n\\item '87'\n\\item '88'\n\\item '89'\n\\item '90'\n\\item '91'\n\\item '92'\n\\item '93'\n\\item '94'\n\\item '95'\n\\item '96'\n\\item '97'\n\\item '98'\n\\item '99'\n\\item '100'\n\\item '101'\n\\item '102'\n\\item '103'\n\\item '104'\n\\item '105'\n\\item '106'\n\\item '107'\n\\item '108'\n\\item '109'\n\\item '110'\n\\item '111'\n\\item '112'\n\\item '113'\n\\item '114'\n\\item '115'\n\\item '116'\n\\item '117'\n\\item '118'\n\\item '119'\n\\item '120'\n\\item '121'\n\\item '122'\n\\item '123'\n\\item '124'\n\\item '125'\n\\item '126'\n\\item '127'\n\\item '128'\n\\item '129'\n\\item '130'\n\\item '131'\n\\item '132'\n\\item '133'\n\\item '134'\n\\item '135'\n\\item '136'\n\\item '137'\n\\item '138'\n\\item '139'\n\\item '140'\n\\item '141'\n\\item '142'\n\\item '143'\n\\item '144'\n\\item '145'\n\\item '146'\n\\item '147'\n\\item '148'\n\\item '149'\n\\item '150'\n\\item '151'\n\\item '152'\n\\item '153'\n\\item '154'\n\\item '155'\n\\item '156'\n\\item '157'\n\\item '158'\n\\item '159'\n\\item '160'\n\\item '161'\n\\item '162'\n\\item '163'\n\\item '164'\n\\item '165'\n\\item '166'\n\\item '167'\n\\item '168'\n\\item '169'\n\\item '170'\n\\item '171'\n\\item '172'\n\\item '173'\n\\item '174'\n\\item '175'\n\\item '176'\n\\item '177'\n\\item '178'\n\\item '179'\n\\item '180'\n\\item '181'\n\\item '182'\n\\item '183'\n\\item '184'\n\\item '185'\n\\item '186'\n\\item '187'\n\\item '188'\n\\item '189'\n\\item '190'\n\\item '191'\n\\item '192'\n\\item '193'\n\\item '194'\n\\item '195'\n\\item '196'\n\\item '197'\n\\item '198'\n\\item '199'\n\\item '200'\n\\item ⋯\n\\item '13310'\n\\item '13311'\n\\item '13312'\n\\item '13313'\n\\item '13314'\n\\item '13315'\n\\item '13316'\n\\item '13317'\n\\item '13318'\n\\item '13319'\n\\item '13320'\n\\item '13321'\n\\item '13322'\n\\item '13323'\n\\item '13324'\n\\item '13325'\n\\item '13326'\n\\item '13327'\n\\item '13328'\n\\item '13329'\n\\item '13330'\n\\item '13331'\n\\item '13332'\n\\item '13333'\n\\item '13334'\n\\item '13335'\n\\item '13336'\n\\item '13337'\n\\item '13338'\n\\item '13339'\n\\item '13340'\n\\item '13341'\n\\item '13342'\n\\item '13343'\n\\item '13344'\n\\item '13345'\n\\item '13346'\n\\item '13347'\n\\item '13348'\n\\item '13349'\n\\item '13350'\n\\item '13351'\n\\item '13352'\n\\item '13353'\n\\item '13354'\n\\item '13355'\n\\item '13356'\n\\item '13357'\n\\item '13358'\n\\item '13359'\n\\item '13360'\n\\item '13361'\n\\item '13362'\n\\item '13363'\n\\item '13364'\n\\item '13365'\n\\item '13366'\n\\item '13367'\n\\item '13368'\n\\item '13369'\n\\item '13370'\n\\item '13371'\n\\item '13372'\n\\item '13373'\n\\item '13374'\n\\item '13375'\n\\item '13376'\n\\item '13377'\n\\item '13378'\n\\item '13379'\n\\item '13380'\n\\item '13381'\n\\item '13382'\n\\item '13383'\n\\item '13384'\n\\item '13385'\n\\item '13386'\n\\item '13387'\n\\item '13388'\n\\item '13389'\n\\item '13390'\n\\item '13391'\n\\item '13392'\n\\item '13393'\n\\item '13394'\n\\item '13395'\n\\item '13396'\n\\item '13397'\n\\item '13398'\n\\item '13399'\n\\item '13400'\n\\item '13401'\n\\item '13402'\n\\item '13403'\n\\item '13404'\n\\item '13405'\n\\item '13406'\n\\item '13407'\n\\item '13408'\n\\item '13409'\n\\item '13410'\n\\item '13411'\n\\item '13412'\n\\item '13413'\n\\item '13414'\n\\item '13415'\n\\item '13416'\n\\item '13417'\n\\item '13418'\n\\item '13419'\n\\item '13420'\n\\item '13421'\n\\item '13422'\n\\item '13423'\n\\item '13424'\n\\item '13425'\n\\item '13426'\n\\item '13427'\n\\item '13428'\n\\item '13429'\n\\item '13430'\n\\item '13431'\n\\item '13432'\n\\item '13433'\n\\item '13434'\n\\item '13435'\n\\item '13436'\n\\item '13437'\n\\item '13438'\n\\item '13439'\n\\item '13440'\n\\item '13441'\n\\item '13442'\n\\item '13443'\n\\item '13444'\n\\item '13445'\n\\item '13446'\n\\item '13447'\n\\item '13448'\n\\item '13449'\n\\item '13450'\n\\item '13451'\n\\item '13452'\n\\item '13453'\n\\item '13454'\n\\item '13455'\n\\item '13456'\n\\item '13457'\n\\item '13458'\n\\item '13459'\n\\item '13460'\n\\item '13461'\n\\item '13462'\n\\item '13463'\n\\item '13464'\n\\item '13465'\n\\item '13466'\n\\item '13467'\n\\item '13468'\n\\item '13469'\n\\item '13470'\n\\item '13471'\n\\item '13472'\n\\item '13473'\n\\item '13474'\n\\item '13475'\n\\item '13476'\n\\item '13477'\n\\item '13478'\n\\item '13479'\n\\item '13480'\n\\item '13481'\n\\item '13482'\n\\item '13483'\n\\item '13484'\n\\item '13485'\n\\item '13486'\n\\item '13487'\n\\item '13488'\n\\item '13489'\n\\item '13490'\n\\item '13491'\n\\item '13492'\n\\item '13493'\n\\item '13494'\n\\item '13495'\n\\item '13496'\n\\item '13497'\n\\item '13498'\n\\item '13499'\n\\item '13500'\n\\item '13501'\n\\item '13502'\n\\item '13503'\n\\item '13504'\n\\item '13505'\n\\item '13506'\n\\item '13507'\n\\item '13508'\n\\item '13509'\n\\end{enumerate*}\n\n\\item[\\$version] 12\n\\item[\\$class] 'data.frame'\n\\end{description}\n",
            "text/plain": [
              "$datalabel\n",
              "[1] \"\"\n",
              "\n",
              "$time.stamp\n",
              "[1] \"16 Jan 2025 14:56\"\n",
              "\n",
              "$names\n",
              " [1] \"earnq1\"             \"earnq2\"             \"earnq3\"            \n",
              " [4] \"earnq4\"             \"earnq5\"             \"earnq6\"            \n",
              " [7] \"earnq7\"             \"earnq8\"             \"earnq9\"            \n",
              "[10] \"earnq10\"            \"earnq11\"            \"earnq12\"           \n",
              "[13] \"earnq13\"            \"earnq14\"            \"earnq15\"           \n",
              "[16] \"earnq16\"            \"treatmnt\"           \"dsgn_wgt\"          \n",
              "[19] \"white\"              \"black\"              \"hispanic\"          \n",
              "[22] \"eng_sec_language\"   \"havekids_at_bline\"  \"male\"              \n",
              "[25] \"educlevel_at_bline\" \"hsgrad_at_bline\"    \"ged_at_bline\"      \n",
              "[28] \"everwork_at_bline\"  \"wrk_lyr_bline\"      \"mos_wrk_lyr_bline\" \n",
              "[31] \"earn_lyr_bline\"     \"wage_bline\"         \"anywlfr_bline\"     \n",
              "[34] \"alcohol_bline\"      \"arrest_bline\"       \"jail_bline\"        \n",
              "[37] \"participate\"        \"voc_in_jc\"          \"work_wk48\"         \n",
              "[40] \"pct_wks_wrk\"        \"logwage_wk208\"      \"wagenotmiss\"       \n",
              "[43] \"attrit\"             \"nomiss\"            \n",
              "\n",
              "$formats\n",
              " [1] \"%9.0g\" \"%9.0g\" \"%9.0g\" \"%9.0g\" \"%9.0g\" \"%9.0g\" \"%9.0g\" \"%9.0g\" \"%9.0g\"\n",
              "[10] \"%9.0g\" \"%9.0g\" \"%9.0g\" \"%9.0g\" \"%9.0g\" \"%9.0g\" \"%9.0g\" \"%8.0g\" \"%9.0g\"\n",
              "[19] \"%9.0g\" \"%9.0g\" \"%9.0g\" \"%9.0g\" \"%9.0g\" \"%9.0g\" \"%9.0g\" \"%9.0g\" \"%9.0g\"\n",
              "[28] \"%9.0g\" \"%9.0g\" \"%9.0g\" \"%9.0g\" \"%9.0g\" \"%9.0g\" \"%9.0g\" \"%9.0g\" \"%9.0g\"\n",
              "[37] \"%9.0g\" \"%9.0g\" \"%9.0g\" \"%9.0g\" \"%9.0g\" \"%9.0g\" \"%9.0g\" \"%9.0g\"\n",
              "\n",
              "$types\n",
              " [1] 254 254 254 254 254 254 254 254 254 254 254 254 254 254 254 254 251 254 254\n",
              "[20] 254 254 254 254 254 254 254 254 254 254 254 254 254 254 254 254 254 254 254\n",
              "[39] 254 254 254 254 254 254\n",
              "\n",
              "$val.labels\n",
              " [1] \"\" \"\" \"\" \"\" \"\" \"\" \"\" \"\" \"\" \"\" \"\" \"\" \"\" \"\" \"\" \"\" \"\" \"\" \"\" \"\" \"\" \"\" \"\" \"\" \"\"\n",
              "[26] \"\" \"\" \"\" \"\" \"\" \"\" \"\" \"\" \"\" \"\" \"\" \"\" \"\" \"\" \"\" \"\" \"\" \"\" \"\"\n",
              "\n",
              "$var.labels\n",
              " [1] \"earnings per wk in qtr 1\"               \n",
              " [2] \"earnings per wk in qtr 2\"               \n",
              " [3] \"earnings per wk in qtr 3\"               \n",
              " [4] \"earnings per wk in qtr 4\"               \n",
              " [5] \"earnings per wk in qtr 5\"               \n",
              " [6] \"earnings per wk in qtr 6\"               \n",
              " [7] \"earnings per wk in qtr 7\"               \n",
              " [8] \"earnings per wk in qtr 8\"               \n",
              " [9] \"earnings per wk in qtr 9\"               \n",
              "[10] \"earnings per wk in qtr 10\"              \n",
              "[11] \"earnings per wk in qtr 11\"              \n",
              "[12] \"earnings per wk in qtr 12\"              \n",
              "[13] \"earnings per wk in qtr 13\"              \n",
              "[14] \"earnings per wk in qtr 14\"              \n",
              "[15] \"earnings per wk in qtr 15\"              \n",
              "[16] \"earnings per wk in qtr 16\"              \n",
              "[17] \"1=in program group; 0=in control group\" \n",
              "[18] \"wgt adjusting for sample/survey designs\"\n",
              "[19] \"\"                                       \n",
              "[20] \"\"                                       \n",
              "[21] \"\"                                       \n",
              "[22] \"\"                                       \n",
              "[23] \"\"                                       \n",
              "[24] \"\"                                       \n",
              "[25] \"\"                                       \n",
              "[26] \"\"                                       \n",
              "[27] \"\"                                       \n",
              "[28] \"\"                                       \n",
              "[29] \"\"                                       \n",
              "[30] \"\"                                       \n",
              "[31] \"\"                                       \n",
              "[32] \"\"                                       \n",
              "[33] \"\"                                       \n",
              "[34] \"\"                                       \n",
              "[35] \"\"                                       \n",
              "[36] \"\"                                       \n",
              "[37] \"\"                                       \n",
              "[38] \"\"                                       \n",
              "[39] \"\"                                       \n",
              "[40] \"\"                                       \n",
              "[41] \"\"                                       \n",
              "[42] \"\"                                       \n",
              "[43] \"\"                                       \n",
              "[44] \"\"                                       \n",
              "\n",
              "$row.names\n",
              "    [1] \"1\"     \"2\"     \"3\"     \"4\"     \"5\"     \"6\"     \"7\"     \"8\"     \"9\"    \n",
              "   [10] \"10\"    \"11\"    \"12\"    \"13\"    \"14\"    \"15\"    \"16\"    \"17\"    \"18\"   \n",
              "   [19] \"19\"    \"20\"    \"21\"    \"22\"    \"23\"    \"24\"    \"25\"    \"26\"    \"27\"   \n",
              "   [28] \"28\"    \"29\"    \"30\"    \"31\"    \"32\"    \"33\"    \"34\"    \"35\"    \"36\"   \n",
              "   [37] \"37\"    \"38\"    \"39\"    \"40\"    \"41\"    \"42\"    \"43\"    \"44\"    \"45\"   \n",
              "   [46] \"46\"    \"47\"    \"48\"    \"49\"    \"50\"    \"51\"    \"52\"    \"53\"    \"54\"   \n",
              "   [55] \"55\"    \"56\"    \"57\"    \"58\"    \"59\"    \"60\"    \"61\"    \"62\"    \"63\"   \n",
              "   [64] \"64\"    \"65\"    \"66\"    \"67\"    \"68\"    \"69\"    \"70\"    \"71\"    \"72\"   \n",
              "   [73] \"73\"    \"74\"    \"75\"    \"76\"    \"77\"    \"78\"    \"79\"    \"80\"    \"81\"   \n",
              "   [82] \"82\"    \"83\"    \"84\"    \"85\"    \"86\"    \"87\"    \"88\"    \"89\"    \"90\"   \n",
              "   [91] \"91\"    \"92\"    \"93\"    \"94\"    \"95\"    \"96\"    \"97\"    \"98\"    \"99\"   \n",
              "  [100] \"100\"   \"101\"   \"102\"   \"103\"   \"104\"   \"105\"   \"106\"   \"107\"   \"108\"  \n",
              "  [109] \"109\"   \"110\"   \"111\"   \"112\"   \"113\"   \"114\"   \"115\"   \"116\"   \"117\"  \n",
              "  [118] \"118\"   \"119\"   \"120\"   \"121\"   \"122\"   \"123\"   \"124\"   \"125\"   \"126\"  \n",
              "  [127] \"127\"   \"128\"   \"129\"   \"130\"   \"131\"   \"132\"   \"133\"   \"134\"   \"135\"  \n",
              "  [136] \"136\"   \"137\"   \"138\"   \"139\"   \"140\"   \"141\"   \"142\"   \"143\"   \"144\"  \n",
              "  [145] \"145\"   \"146\"   \"147\"   \"148\"   \"149\"   \"150\"   \"151\"   \"152\"   \"153\"  \n",
              "  [154] \"154\"   \"155\"   \"156\"   \"157\"   \"158\"   \"159\"   \"160\"   \"161\"   \"162\"  \n",
              "  [163] \"163\"   \"164\"   \"165\"   \"166\"   \"167\"   \"168\"   \"169\"   \"170\"   \"171\"  \n",
              "  [172] \"172\"   \"173\"   \"174\"   \"175\"   \"176\"   \"177\"   \"178\"   \"179\"   \"180\"  \n",
              "  [181] \"181\"   \"182\"   \"183\"   \"184\"   \"185\"   \"186\"   \"187\"   \"188\"   \"189\"  \n",
              "  [190] \"190\"   \"191\"   \"192\"   \"193\"   \"194\"   \"195\"   \"196\"   \"197\"   \"198\"  \n",
              "  [199] \"199\"   \"200\"   \"201\"   \"202\"   \"203\"   \"204\"   \"205\"   \"206\"   \"207\"  \n",
              "  [208] \"208\"   \"209\"   \"210\"   \"211\"   \"212\"   \"213\"   \"214\"   \"215\"   \"216\"  \n",
              "  [217] \"217\"   \"218\"   \"219\"   \"220\"   \"221\"   \"222\"   \"223\"   \"224\"   \"225\"  \n",
              "  [226] \"226\"   \"227\"   \"228\"   \"229\"   \"230\"   \"231\"   \"232\"   \"233\"   \"234\"  \n",
              "  [235] \"235\"   \"236\"   \"237\"   \"238\"   \"239\"   \"240\"   \"241\"   \"242\"   \"243\"  \n",
              "  [244] \"244\"   \"245\"   \"246\"   \"247\"   \"248\"   \"249\"   \"250\"   \"251\"   \"252\"  \n",
              "  [253] \"253\"   \"254\"   \"255\"   \"256\"   \"257\"   \"258\"   \"259\"   \"260\"   \"261\"  \n",
              "  [262] \"262\"   \"263\"   \"264\"   \"265\"   \"266\"   \"267\"   \"268\"   \"269\"   \"270\"  \n",
              "  [271] \"271\"   \"272\"   \"273\"   \"274\"   \"275\"   \"276\"   \"277\"   \"278\"   \"279\"  \n",
              "  [280] \"280\"   \"281\"   \"282\"   \"283\"   \"284\"   \"285\"   \"286\"   \"287\"   \"288\"  \n",
              "  [289] \"289\"   \"290\"   \"291\"   \"292\"   \"293\"   \"294\"   \"295\"   \"296\"   \"297\"  \n",
              "  [298] \"298\"   \"299\"   \"300\"   \"301\"   \"302\"   \"303\"   \"304\"   \"305\"   \"306\"  \n",
              "  [307] \"307\"   \"308\"   \"309\"   \"310\"   \"311\"   \"312\"   \"313\"   \"314\"   \"315\"  \n",
              "  [316] \"316\"   \"317\"   \"318\"   \"319\"   \"320\"   \"321\"   \"322\"   \"323\"   \"324\"  \n",
              "  [325] \"325\"   \"326\"   \"327\"   \"328\"   \"329\"   \"330\"   \"331\"   \"332\"   \"333\"  \n",
              "  [334] \"334\"   \"335\"   \"336\"   \"337\"   \"338\"   \"339\"   \"340\"   \"341\"   \"342\"  \n",
              "  [343] \"343\"   \"344\"   \"345\"   \"346\"   \"347\"   \"348\"   \"349\"   \"350\"   \"351\"  \n",
              "  [352] \"352\"   \"353\"   \"354\"   \"355\"   \"356\"   \"357\"   \"358\"   \"359\"   \"360\"  \n",
              "  [361] \"361\"   \"362\"   \"363\"   \"364\"   \"365\"   \"366\"   \"367\"   \"368\"   \"369\"  \n",
              "  [370] \"370\"   \"371\"   \"372\"   \"373\"   \"374\"   \"375\"   \"376\"   \"377\"   \"378\"  \n",
              "  [379] \"379\"   \"380\"   \"381\"   \"382\"   \"383\"   \"384\"   \"385\"   \"386\"   \"387\"  \n",
              "  [388] \"388\"   \"389\"   \"390\"   \"391\"   \"392\"   \"393\"   \"394\"   \"395\"   \"396\"  \n",
              "  [397] \"397\"   \"398\"   \"399\"   \"400\"   \"401\"   \"402\"   \"403\"   \"404\"   \"405\"  \n",
              "  [406] \"406\"   \"407\"   \"408\"   \"409\"   \"410\"   \"411\"   \"412\"   \"413\"   \"414\"  \n",
              "  [415] \"415\"   \"416\"   \"417\"   \"418\"   \"419\"   \"420\"   \"421\"   \"422\"   \"423\"  \n",
              "  [424] \"424\"   \"425\"   \"426\"   \"427\"   \"428\"   \"429\"   \"430\"   \"431\"   \"432\"  \n",
              "  [433] \"433\"   \"434\"   \"435\"   \"436\"   \"437\"   \"438\"   \"439\"   \"440\"   \"441\"  \n",
              "  [442] \"442\"   \"443\"   \"444\"   \"445\"   \"446\"   \"447\"   \"448\"   \"449\"   \"450\"  \n",
              "  [451] \"451\"   \"452\"   \"453\"   \"454\"   \"455\"   \"456\"   \"457\"   \"458\"   \"459\"  \n",
              "  [460] \"460\"   \"461\"   \"462\"   \"463\"   \"464\"   \"465\"   \"466\"   \"467\"   \"468\"  \n",
              "  [469] \"469\"   \"470\"   \"471\"   \"472\"   \"473\"   \"474\"   \"475\"   \"476\"   \"477\"  \n",
              "  [478] \"478\"   \"479\"   \"480\"   \"481\"   \"482\"   \"483\"   \"484\"   \"485\"   \"486\"  \n",
              "  [487] \"487\"   \"488\"   \"489\"   \"490\"   \"491\"   \"492\"   \"493\"   \"494\"   \"495\"  \n",
              "  [496] \"496\"   \"497\"   \"498\"   \"499\"   \"500\"   \"501\"   \"502\"   \"503\"   \"504\"  \n",
              "  [505] \"505\"   \"506\"   \"507\"   \"508\"   \"509\"   \"510\"   \"511\"   \"512\"   \"513\"  \n",
              "  [514] \"514\"   \"515\"   \"516\"   \"517\"   \"518\"   \"519\"   \"520\"   \"521\"   \"522\"  \n",
              "  [523] \"523\"   \"524\"   \"525\"   \"526\"   \"527\"   \"528\"   \"529\"   \"530\"   \"531\"  \n",
              "  [532] \"532\"   \"533\"   \"534\"   \"535\"   \"536\"   \"537\"   \"538\"   \"539\"   \"540\"  \n",
              "  [541] \"541\"   \"542\"   \"543\"   \"544\"   \"545\"   \"546\"   \"547\"   \"548\"   \"549\"  \n",
              "  [550] \"550\"   \"551\"   \"552\"   \"553\"   \"554\"   \"555\"   \"556\"   \"557\"   \"558\"  \n",
              "  [559] \"559\"   \"560\"   \"561\"   \"562\"   \"563\"   \"564\"   \"565\"   \"566\"   \"567\"  \n",
              "  [568] \"568\"   \"569\"   \"570\"   \"571\"   \"572\"   \"573\"   \"574\"   \"575\"   \"576\"  \n",
              "  [577] \"577\"   \"578\"   \"579\"   \"580\"   \"581\"   \"582\"   \"583\"   \"584\"   \"585\"  \n",
              "  [586] \"586\"   \"587\"   \"588\"   \"589\"   \"590\"   \"591\"   \"592\"   \"593\"   \"594\"  \n",
              "  [595] \"595\"   \"596\"   \"597\"   \"598\"   \"599\"   \"600\"   \"601\"   \"602\"   \"603\"  \n",
              "  [604] \"604\"   \"605\"   \"606\"   \"607\"   \"608\"   \"609\"   \"610\"   \"611\"   \"612\"  \n",
              "  [613] \"613\"   \"614\"   \"615\"   \"616\"   \"617\"   \"618\"   \"619\"   \"620\"   \"621\"  \n",
              "  [622] \"622\"   \"623\"   \"624\"   \"625\"   \"626\"   \"627\"   \"628\"   \"629\"   \"630\"  \n",
              "  [631] \"631\"   \"632\"   \"633\"   \"634\"   \"635\"   \"636\"   \"637\"   \"638\"   \"639\"  \n",
              "  [640] \"640\"   \"641\"   \"642\"   \"643\"   \"644\"   \"645\"   \"646\"   \"647\"   \"648\"  \n",
              "  [649] \"649\"   \"650\"   \"651\"   \"652\"   \"653\"   \"654\"   \"655\"   \"656\"   \"657\"  \n",
              "  [658] \"658\"   \"659\"   \"660\"   \"661\"   \"662\"   \"663\"   \"664\"   \"665\"   \"666\"  \n",
              "  [667] \"667\"   \"668\"   \"669\"   \"670\"   \"671\"   \"672\"   \"673\"   \"674\"   \"675\"  \n",
              "  [676] \"676\"   \"677\"   \"678\"   \"679\"   \"680\"   \"681\"   \"682\"   \"683\"   \"684\"  \n",
              "  [685] \"685\"   \"686\"   \"687\"   \"688\"   \"689\"   \"690\"   \"691\"   \"692\"   \"693\"  \n",
              "  [694] \"694\"   \"695\"   \"696\"   \"697\"   \"698\"   \"699\"   \"700\"   \"701\"   \"702\"  \n",
              "  [703] \"703\"   \"704\"   \"705\"   \"706\"   \"707\"   \"708\"   \"709\"   \"710\"   \"711\"  \n",
              "  [712] \"712\"   \"713\"   \"714\"   \"715\"   \"716\"   \"717\"   \"718\"   \"719\"   \"720\"  \n",
              "  [721] \"721\"   \"722\"   \"723\"   \"724\"   \"725\"   \"726\"   \"727\"   \"728\"   \"729\"  \n",
              "  [730] \"730\"   \"731\"   \"732\"   \"733\"   \"734\"   \"735\"   \"736\"   \"737\"   \"738\"  \n",
              "  [739] \"739\"   \"740\"   \"741\"   \"742\"   \"743\"   \"744\"   \"745\"   \"746\"   \"747\"  \n",
              "  [748] \"748\"   \"749\"   \"750\"   \"751\"   \"752\"   \"753\"   \"754\"   \"755\"   \"756\"  \n",
              "  [757] \"757\"   \"758\"   \"759\"   \"760\"   \"761\"   \"762\"   \"763\"   \"764\"   \"765\"  \n",
              "  [766] \"766\"   \"767\"   \"768\"   \"769\"   \"770\"   \"771\"   \"772\"   \"773\"   \"774\"  \n",
              "  [775] \"775\"   \"776\"   \"777\"   \"778\"   \"779\"   \"780\"   \"781\"   \"782\"   \"783\"  \n",
              "  [784] \"784\"   \"785\"   \"786\"   \"787\"   \"788\"   \"789\"   \"790\"   \"791\"   \"792\"  \n",
              "  [793] \"793\"   \"794\"   \"795\"   \"796\"   \"797\"   \"798\"   \"799\"   \"800\"   \"801\"  \n",
              "  [802] \"802\"   \"803\"   \"804\"   \"805\"   \"806\"   \"807\"   \"808\"   \"809\"   \"810\"  \n",
              "  [811] \"811\"   \"812\"   \"813\"   \"814\"   \"815\"   \"816\"   \"817\"   \"818\"   \"819\"  \n",
              "  [820] \"820\"   \"821\"   \"822\"   \"823\"   \"824\"   \"825\"   \"826\"   \"827\"   \"828\"  \n",
              "  [829] \"829\"   \"830\"   \"831\"   \"832\"   \"833\"   \"834\"   \"835\"   \"836\"   \"837\"  \n",
              "  [838] \"838\"   \"839\"   \"840\"   \"841\"   \"842\"   \"843\"   \"844\"   \"845\"   \"846\"  \n",
              "  [847] \"847\"   \"848\"   \"849\"   \"850\"   \"851\"   \"852\"   \"853\"   \"854\"   \"855\"  \n",
              "  [856] \"856\"   \"857\"   \"858\"   \"859\"   \"860\"   \"861\"   \"862\"   \"863\"   \"864\"  \n",
              "  [865] \"865\"   \"866\"   \"867\"   \"868\"   \"869\"   \"870\"   \"871\"   \"872\"   \"873\"  \n",
              "  [874] \"874\"   \"875\"   \"876\"   \"877\"   \"878\"   \"879\"   \"880\"   \"881\"   \"882\"  \n",
              "  [883] \"883\"   \"884\"   \"885\"   \"886\"   \"887\"   \"888\"   \"889\"   \"890\"   \"891\"  \n",
              "  [892] \"892\"   \"893\"   \"894\"   \"895\"   \"896\"   \"897\"   \"898\"   \"899\"   \"900\"  \n",
              "  [901] \"901\"   \"902\"   \"903\"   \"904\"   \"905\"   \"906\"   \"907\"   \"908\"   \"909\"  \n",
              "  [910] \"910\"   \"911\"   \"912\"   \"913\"   \"914\"   \"915\"   \"916\"   \"917\"   \"918\"  \n",
              "  [919] \"919\"   \"920\"   \"921\"   \"922\"   \"923\"   \"924\"   \"925\"   \"926\"   \"927\"  \n",
              "  [928] \"928\"   \"929\"   \"930\"   \"931\"   \"932\"   \"933\"   \"934\"   \"935\"   \"936\"  \n",
              "  [937] \"937\"   \"938\"   \"939\"   \"940\"   \"941\"   \"942\"   \"943\"   \"944\"   \"945\"  \n",
              "  [946] \"946\"   \"947\"   \"948\"   \"949\"   \"950\"   \"951\"   \"952\"   \"953\"   \"954\"  \n",
              "  [955] \"955\"   \"956\"   \"957\"   \"958\"   \"959\"   \"960\"   \"961\"   \"962\"   \"963\"  \n",
              "  [964] \"964\"   \"965\"   \"966\"   \"967\"   \"968\"   \"969\"   \"970\"   \"971\"   \"972\"  \n",
              "  [973] \"973\"   \"974\"   \"975\"   \"976\"   \"977\"   \"978\"   \"979\"   \"980\"   \"981\"  \n",
              "  [982] \"982\"   \"983\"   \"984\"   \"985\"   \"986\"   \"987\"   \"988\"   \"989\"   \"990\"  \n",
              "  [991] \"991\"   \"992\"   \"993\"   \"994\"   \"995\"   \"996\"   \"997\"   \"998\"   \"999\"  \n",
              " [1000] \"1000\"  \"1001\"  \"1002\"  \"1003\"  \"1004\"  \"1005\"  \"1006\"  \"1007\"  \"1008\" \n",
              " [1009] \"1009\"  \"1010\"  \"1011\"  \"1012\"  \"1013\"  \"1014\"  \"1015\"  \"1016\"  \"1017\" \n",
              " [1018] \"1018\"  \"1019\"  \"1020\"  \"1021\"  \"1022\"  \"1023\"  \"1024\"  \"1025\"  \"1026\" \n",
              " [1027] \"1027\"  \"1028\"  \"1029\"  \"1030\"  \"1031\"  \"1032\"  \"1033\"  \"1034\"  \"1035\" \n",
              " [1036] \"1036\"  \"1037\"  \"1038\"  \"1039\"  \"1040\"  \"1041\"  \"1042\"  \"1043\"  \"1044\" \n",
              " [1045] \"1045\"  \"1046\"  \"1047\"  \"1048\"  \"1049\"  \"1050\"  \"1051\"  \"1052\"  \"1053\" \n",
              " [1054] \"1054\"  \"1055\"  \"1056\"  \"1057\"  \"1058\"  \"1059\"  \"1060\"  \"1061\"  \"1062\" \n",
              " [1063] \"1063\"  \"1064\"  \"1065\"  \"1066\"  \"1067\"  \"1068\"  \"1069\"  \"1070\"  \"1071\" \n",
              " [1072] \"1072\"  \"1073\"  \"1074\"  \"1075\"  \"1076\"  \"1077\"  \"1078\"  \"1079\"  \"1080\" \n",
              " [1081] \"1081\"  \"1082\"  \"1083\"  \"1084\"  \"1085\"  \"1086\"  \"1087\"  \"1088\"  \"1089\" \n",
              " [1090] \"1090\"  \"1091\"  \"1092\"  \"1093\"  \"1094\"  \"1095\"  \"1096\"  \"1097\"  \"1098\" \n",
              " [1099] \"1099\"  \"1100\"  \"1101\"  \"1102\"  \"1103\"  \"1104\"  \"1105\"  \"1106\"  \"1107\" \n",
              " [1108] \"1108\"  \"1109\"  \"1110\"  \"1111\"  \"1112\"  \"1113\"  \"1114\"  \"1115\"  \"1116\" \n",
              " [1117] \"1117\"  \"1118\"  \"1119\"  \"1120\"  \"1121\"  \"1122\"  \"1123\"  \"1124\"  \"1125\" \n",
              " [1126] \"1126\"  \"1127\"  \"1128\"  \"1129\"  \"1130\"  \"1131\"  \"1132\"  \"1133\"  \"1134\" \n",
              " [1135] \"1135\"  \"1136\"  \"1137\"  \"1138\"  \"1139\"  \"1140\"  \"1141\"  \"1142\"  \"1143\" \n",
              " [1144] \"1144\"  \"1145\"  \"1146\"  \"1147\"  \"1148\"  \"1149\"  \"1150\"  \"1151\"  \"1152\" \n",
              " [1153] \"1153\"  \"1154\"  \"1155\"  \"1156\"  \"1157\"  \"1158\"  \"1159\"  \"1160\"  \"1161\" \n",
              " [1162] \"1162\"  \"1163\"  \"1164\"  \"1165\"  \"1166\"  \"1167\"  \"1168\"  \"1169\"  \"1170\" \n",
              " [1171] \"1171\"  \"1172\"  \"1173\"  \"1174\"  \"1175\"  \"1176\"  \"1177\"  \"1178\"  \"1179\" \n",
              " [1180] \"1180\"  \"1181\"  \"1182\"  \"1183\"  \"1184\"  \"1185\"  \"1186\"  \"1187\"  \"1188\" \n",
              " [1189] \"1189\"  \"1190\"  \"1191\"  \"1192\"  \"1193\"  \"1194\"  \"1195\"  \"1196\"  \"1197\" \n",
              " [1198] \"1198\"  \"1199\"  \"1200\"  \"1201\"  \"1202\"  \"1203\"  \"1204\"  \"1205\"  \"1206\" \n",
              " [1207] \"1207\"  \"1208\"  \"1209\"  \"1210\"  \"1211\"  \"1212\"  \"1213\"  \"1214\"  \"1215\" \n",
              " [1216] \"1216\"  \"1217\"  \"1218\"  \"1219\"  \"1220\"  \"1221\"  \"1222\"  \"1223\"  \"1224\" \n",
              " [1225] \"1225\"  \"1226\"  \"1227\"  \"1228\"  \"1229\"  \"1230\"  \"1231\"  \"1232\"  \"1233\" \n",
              " [1234] \"1234\"  \"1235\"  \"1236\"  \"1237\"  \"1238\"  \"1239\"  \"1240\"  \"1241\"  \"1242\" \n",
              " [1243] \"1243\"  \"1244\"  \"1245\"  \"1246\"  \"1247\"  \"1248\"  \"1249\"  \"1250\"  \"1251\" \n",
              " [1252] \"1252\"  \"1253\"  \"1254\"  \"1255\"  \"1256\"  \"1257\"  \"1258\"  \"1259\"  \"1260\" \n",
              " [1261] \"1261\"  \"1262\"  \"1263\"  \"1264\"  \"1265\"  \"1266\"  \"1267\"  \"1268\"  \"1269\" \n",
              " [1270] \"1270\"  \"1271\"  \"1272\"  \"1273\"  \"1274\"  \"1275\"  \"1276\"  \"1277\"  \"1278\" \n",
              " [1279] \"1279\"  \"1280\"  \"1281\"  \"1282\"  \"1283\"  \"1284\"  \"1285\"  \"1286\"  \"1287\" \n",
              " [1288] \"1288\"  \"1289\"  \"1290\"  \"1291\"  \"1292\"  \"1293\"  \"1294\"  \"1295\"  \"1296\" \n",
              " [1297] \"1297\"  \"1298\"  \"1299\"  \"1300\"  \"1301\"  \"1302\"  \"1303\"  \"1304\"  \"1305\" \n",
              " [1306] \"1306\"  \"1307\"  \"1308\"  \"1309\"  \"1310\"  \"1311\"  \"1312\"  \"1313\"  \"1314\" \n",
              " [1315] \"1315\"  \"1316\"  \"1317\"  \"1318\"  \"1319\"  \"1320\"  \"1321\"  \"1322\"  \"1323\" \n",
              " [1324] \"1324\"  \"1325\"  \"1326\"  \"1327\"  \"1328\"  \"1329\"  \"1330\"  \"1331\"  \"1332\" \n",
              " [1333] \"1333\"  \"1334\"  \"1335\"  \"1336\"  \"1337\"  \"1338\"  \"1339\"  \"1340\"  \"1341\" \n",
              " [1342] \"1342\"  \"1343\"  \"1344\"  \"1345\"  \"1346\"  \"1347\"  \"1348\"  \"1349\"  \"1350\" \n",
              " [1351] \"1351\"  \"1352\"  \"1353\"  \"1354\"  \"1355\"  \"1356\"  \"1357\"  \"1358\"  \"1359\" \n",
              " [1360] \"1360\"  \"1361\"  \"1362\"  \"1363\"  \"1364\"  \"1365\"  \"1366\"  \"1367\"  \"1368\" \n",
              " [1369] \"1369\"  \"1370\"  \"1371\"  \"1372\"  \"1373\"  \"1374\"  \"1375\"  \"1376\"  \"1377\" \n",
              " [1378] \"1378\"  \"1379\"  \"1380\"  \"1381\"  \"1382\"  \"1383\"  \"1384\"  \"1385\"  \"1386\" \n",
              " [1387] \"1387\"  \"1388\"  \"1389\"  \"1390\"  \"1391\"  \"1392\"  \"1393\"  \"1394\"  \"1395\" \n",
              " [1396] \"1396\"  \"1397\"  \"1398\"  \"1399\"  \"1400\"  \"1401\"  \"1402\"  \"1403\"  \"1404\" \n",
              " [1405] \"1405\"  \"1406\"  \"1407\"  \"1408\"  \"1409\"  \"1410\"  \"1411\"  \"1412\"  \"1413\" \n",
              " [1414] \"1414\"  \"1415\"  \"1416\"  \"1417\"  \"1418\"  \"1419\"  \"1420\"  \"1421\"  \"1422\" \n",
              " [1423] \"1423\"  \"1424\"  \"1425\"  \"1426\"  \"1427\"  \"1428\"  \"1429\"  \"1430\"  \"1431\" \n",
              " [1432] \"1432\"  \"1433\"  \"1434\"  \"1435\"  \"1436\"  \"1437\"  \"1438\"  \"1439\"  \"1440\" \n",
              " [1441] \"1441\"  \"1442\"  \"1443\"  \"1444\"  \"1445\"  \"1446\"  \"1447\"  \"1448\"  \"1449\" \n",
              " [1450] \"1450\"  \"1451\"  \"1452\"  \"1453\"  \"1454\"  \"1455\"  \"1456\"  \"1457\"  \"1458\" \n",
              " [1459] \"1459\"  \"1460\"  \"1461\"  \"1462\"  \"1463\"  \"1464\"  \"1465\"  \"1466\"  \"1467\" \n",
              " [1468] \"1468\"  \"1469\"  \"1470\"  \"1471\"  \"1472\"  \"1473\"  \"1474\"  \"1475\"  \"1476\" \n",
              " [1477] \"1477\"  \"1478\"  \"1479\"  \"1480\"  \"1481\"  \"1482\"  \"1483\"  \"1484\"  \"1485\" \n",
              " [1486] \"1486\"  \"1487\"  \"1488\"  \"1489\"  \"1490\"  \"1491\"  \"1492\"  \"1493\"  \"1494\" \n",
              " [1495] \"1495\"  \"1496\"  \"1497\"  \"1498\"  \"1499\"  \"1500\"  \"1501\"  \"1502\"  \"1503\" \n",
              " [1504] \"1504\"  \"1505\"  \"1506\"  \"1507\"  \"1508\"  \"1509\"  \"1510\"  \"1511\"  \"1512\" \n",
              " [1513] \"1513\"  \"1514\"  \"1515\"  \"1516\"  \"1517\"  \"1518\"  \"1519\"  \"1520\"  \"1521\" \n",
              " [1522] \"1522\"  \"1523\"  \"1524\"  \"1525\"  \"1526\"  \"1527\"  \"1528\"  \"1529\"  \"1530\" \n",
              " [1531] \"1531\"  \"1532\"  \"1533\"  \"1534\"  \"1535\"  \"1536\"  \"1537\"  \"1538\"  \"1539\" \n",
              " [1540] \"1540\"  \"1541\"  \"1542\"  \"1543\"  \"1544\"  \"1545\"  \"1546\"  \"1547\"  \"1548\" \n",
              " [1549] \"1549\"  \"1550\"  \"1551\"  \"1552\"  \"1553\"  \"1554\"  \"1555\"  \"1556\"  \"1557\" \n",
              " [1558] \"1558\"  \"1559\"  \"1560\"  \"1561\"  \"1562\"  \"1563\"  \"1564\"  \"1565\"  \"1566\" \n",
              " [1567] \"1567\"  \"1568\"  \"1569\"  \"1570\"  \"1571\"  \"1572\"  \"1573\"  \"1574\"  \"1575\" \n",
              " [1576] \"1576\"  \"1577\"  \"1578\"  \"1579\"  \"1580\"  \"1581\"  \"1582\"  \"1583\"  \"1584\" \n",
              " [1585] \"1585\"  \"1586\"  \"1587\"  \"1588\"  \"1589\"  \"1590\"  \"1591\"  \"1592\"  \"1593\" \n",
              " [1594] \"1594\"  \"1595\"  \"1596\"  \"1597\"  \"1598\"  \"1599\"  \"1600\"  \"1601\"  \"1602\" \n",
              " [1603] \"1603\"  \"1604\"  \"1605\"  \"1606\"  \"1607\"  \"1608\"  \"1609\"  \"1610\"  \"1611\" \n",
              " [1612] \"1612\"  \"1613\"  \"1614\"  \"1615\"  \"1616\"  \"1617\"  \"1618\"  \"1619\"  \"1620\" \n",
              " [1621] \"1621\"  \"1622\"  \"1623\"  \"1624\"  \"1625\"  \"1626\"  \"1627\"  \"1628\"  \"1629\" \n",
              " [1630] \"1630\"  \"1631\"  \"1632\"  \"1633\"  \"1634\"  \"1635\"  \"1636\"  \"1637\"  \"1638\" \n",
              " [1639] \"1639\"  \"1640\"  \"1641\"  \"1642\"  \"1643\"  \"1644\"  \"1645\"  \"1646\"  \"1647\" \n",
              " [1648] \"1648\"  \"1649\"  \"1650\"  \"1651\"  \"1652\"  \"1653\"  \"1654\"  \"1655\"  \"1656\" \n",
              " [1657] \"1657\"  \"1658\"  \"1659\"  \"1660\"  \"1661\"  \"1662\"  \"1663\"  \"1664\"  \"1665\" \n",
              " [1666] \"1666\"  \"1667\"  \"1668\"  \"1669\"  \"1670\"  \"1671\"  \"1672\"  \"1673\"  \"1674\" \n",
              " [1675] \"1675\"  \"1676\"  \"1677\"  \"1678\"  \"1679\"  \"1680\"  \"1681\"  \"1682\"  \"1683\" \n",
              " [1684] \"1684\"  \"1685\"  \"1686\"  \"1687\"  \"1688\"  \"1689\"  \"1690\"  \"1691\"  \"1692\" \n",
              " [1693] \"1693\"  \"1694\"  \"1695\"  \"1696\"  \"1697\"  \"1698\"  \"1699\"  \"1700\"  \"1701\" \n",
              " [1702] \"1702\"  \"1703\"  \"1704\"  \"1705\"  \"1706\"  \"1707\"  \"1708\"  \"1709\"  \"1710\" \n",
              " [1711] \"1711\"  \"1712\"  \"1713\"  \"1714\"  \"1715\"  \"1716\"  \"1717\"  \"1718\"  \"1719\" \n",
              " [1720] \"1720\"  \"1721\"  \"1722\"  \"1723\"  \"1724\"  \"1725\"  \"1726\"  \"1727\"  \"1728\" \n",
              " [1729] \"1729\"  \"1730\"  \"1731\"  \"1732\"  \"1733\"  \"1734\"  \"1735\"  \"1736\"  \"1737\" \n",
              " [1738] \"1738\"  \"1739\"  \"1740\"  \"1741\"  \"1742\"  \"1743\"  \"1744\"  \"1745\"  \"1746\" \n",
              " [1747] \"1747\"  \"1748\"  \"1749\"  \"1750\"  \"1751\"  \"1752\"  \"1753\"  \"1754\"  \"1755\" \n",
              " [1756] \"1756\"  \"1757\"  \"1758\"  \"1759\"  \"1760\"  \"1761\"  \"1762\"  \"1763\"  \"1764\" \n",
              " [1765] \"1765\"  \"1766\"  \"1767\"  \"1768\"  \"1769\"  \"1770\"  \"1771\"  \"1772\"  \"1773\" \n",
              " [1774] \"1774\"  \"1775\"  \"1776\"  \"1777\"  \"1778\"  \"1779\"  \"1780\"  \"1781\"  \"1782\" \n",
              " [1783] \"1783\"  \"1784\"  \"1785\"  \"1786\"  \"1787\"  \"1788\"  \"1789\"  \"1790\"  \"1791\" \n",
              " [1792] \"1792\"  \"1793\"  \"1794\"  \"1795\"  \"1796\"  \"1797\"  \"1798\"  \"1799\"  \"1800\" \n",
              " [1801] \"1801\"  \"1802\"  \"1803\"  \"1804\"  \"1805\"  \"1806\"  \"1807\"  \"1808\"  \"1809\" \n",
              " [1810] \"1810\"  \"1811\"  \"1812\"  \"1813\"  \"1814\"  \"1815\"  \"1816\"  \"1817\"  \"1818\" \n",
              " [1819] \"1819\"  \"1820\"  \"1821\"  \"1822\"  \"1823\"  \"1824\"  \"1825\"  \"1826\"  \"1827\" \n",
              " [1828] \"1828\"  \"1829\"  \"1830\"  \"1831\"  \"1832\"  \"1833\"  \"1834\"  \"1835\"  \"1836\" \n",
              " [1837] \"1837\"  \"1838\"  \"1839\"  \"1840\"  \"1841\"  \"1842\"  \"1843\"  \"1844\"  \"1845\" \n",
              " [1846] \"1846\"  \"1847\"  \"1848\"  \"1849\"  \"1850\"  \"1851\"  \"1852\"  \"1853\"  \"1854\" \n",
              " [1855] \"1855\"  \"1856\"  \"1857\"  \"1858\"  \"1859\"  \"1860\"  \"1861\"  \"1862\"  \"1863\" \n",
              " [1864] \"1864\"  \"1865\"  \"1866\"  \"1867\"  \"1868\"  \"1869\"  \"1870\"  \"1871\"  \"1872\" \n",
              " [1873] \"1873\"  \"1874\"  \"1875\"  \"1876\"  \"1877\"  \"1878\"  \"1879\"  \"1880\"  \"1881\" \n",
              " [1882] \"1882\"  \"1883\"  \"1884\"  \"1885\"  \"1886\"  \"1887\"  \"1888\"  \"1889\"  \"1890\" \n",
              " [1891] \"1891\"  \"1892\"  \"1893\"  \"1894\"  \"1895\"  \"1896\"  \"1897\"  \"1898\"  \"1899\" \n",
              " [1900] \"1900\"  \"1901\"  \"1902\"  \"1903\"  \"1904\"  \"1905\"  \"1906\"  \"1907\"  \"1908\" \n",
              " [1909] \"1909\"  \"1910\"  \"1911\"  \"1912\"  \"1913\"  \"1914\"  \"1915\"  \"1916\"  \"1917\" \n",
              " [1918] \"1918\"  \"1919\"  \"1920\"  \"1921\"  \"1922\"  \"1923\"  \"1924\"  \"1925\"  \"1926\" \n",
              " [1927] \"1927\"  \"1928\"  \"1929\"  \"1930\"  \"1931\"  \"1932\"  \"1933\"  \"1934\"  \"1935\" \n",
              " [1936] \"1936\"  \"1937\"  \"1938\"  \"1939\"  \"1940\"  \"1941\"  \"1942\"  \"1943\"  \"1944\" \n",
              " [1945] \"1945\"  \"1946\"  \"1947\"  \"1948\"  \"1949\"  \"1950\"  \"1951\"  \"1952\"  \"1953\" \n",
              " [1954] \"1954\"  \"1955\"  \"1956\"  \"1957\"  \"1958\"  \"1959\"  \"1960\"  \"1961\"  \"1962\" \n",
              " [1963] \"1963\"  \"1964\"  \"1965\"  \"1966\"  \"1967\"  \"1968\"  \"1969\"  \"1970\"  \"1971\" \n",
              " [1972] \"1972\"  \"1973\"  \"1974\"  \"1975\"  \"1976\"  \"1977\"  \"1978\"  \"1979\"  \"1980\" \n",
              " [1981] \"1981\"  \"1982\"  \"1983\"  \"1984\"  \"1985\"  \"1986\"  \"1987\"  \"1988\"  \"1989\" \n",
              " [1990] \"1990\"  \"1991\"  \"1992\"  \"1993\"  \"1994\"  \"1995\"  \"1996\"  \"1997\"  \"1998\" \n",
              " [1999] \"1999\"  \"2000\"  \"2001\"  \"2002\"  \"2003\"  \"2004\"  \"2005\"  \"2006\"  \"2007\" \n",
              " [2008] \"2008\"  \"2009\"  \"2010\"  \"2011\"  \"2012\"  \"2013\"  \"2014\"  \"2015\"  \"2016\" \n",
              " [2017] \"2017\"  \"2018\"  \"2019\"  \"2020\"  \"2021\"  \"2022\"  \"2023\"  \"2024\"  \"2025\" \n",
              " [2026] \"2026\"  \"2027\"  \"2028\"  \"2029\"  \"2030\"  \"2031\"  \"2032\"  \"2033\"  \"2034\" \n",
              " [2035] \"2035\"  \"2036\"  \"2037\"  \"2038\"  \"2039\"  \"2040\"  \"2041\"  \"2042\"  \"2043\" \n",
              " [2044] \"2044\"  \"2045\"  \"2046\"  \"2047\"  \"2048\"  \"2049\"  \"2050\"  \"2051\"  \"2052\" \n",
              " [2053] \"2053\"  \"2054\"  \"2055\"  \"2056\"  \"2057\"  \"2058\"  \"2059\"  \"2060\"  \"2061\" \n",
              " [2062] \"2062\"  \"2063\"  \"2064\"  \"2065\"  \"2066\"  \"2067\"  \"2068\"  \"2069\"  \"2070\" \n",
              " [2071] \"2071\"  \"2072\"  \"2073\"  \"2074\"  \"2075\"  \"2076\"  \"2077\"  \"2078\"  \"2079\" \n",
              " [2080] \"2080\"  \"2081\"  \"2082\"  \"2083\"  \"2084\"  \"2085\"  \"2086\"  \"2087\"  \"2088\" \n",
              " [2089] \"2089\"  \"2090\"  \"2091\"  \"2092\"  \"2093\"  \"2094\"  \"2095\"  \"2096\"  \"2097\" \n",
              " [2098] \"2098\"  \"2099\"  \"2100\"  \"2101\"  \"2102\"  \"2103\"  \"2104\"  \"2105\"  \"2106\" \n",
              " [2107] \"2107\"  \"2108\"  \"2109\"  \"2110\"  \"2111\"  \"2112\"  \"2113\"  \"2114\"  \"2115\" \n",
              " [2116] \"2116\"  \"2117\"  \"2118\"  \"2119\"  \"2120\"  \"2121\"  \"2122\"  \"2123\"  \"2124\" \n",
              " [2125] \"2125\"  \"2126\"  \"2127\"  \"2128\"  \"2129\"  \"2130\"  \"2131\"  \"2132\"  \"2133\" \n",
              " [2134] \"2134\"  \"2135\"  \"2136\"  \"2137\"  \"2138\"  \"2139\"  \"2140\"  \"2141\"  \"2142\" \n",
              " [2143] \"2143\"  \"2144\"  \"2145\"  \"2146\"  \"2147\"  \"2148\"  \"2149\"  \"2150\"  \"2151\" \n",
              " [2152] \"2152\"  \"2153\"  \"2154\"  \"2155\"  \"2156\"  \"2157\"  \"2158\"  \"2159\"  \"2160\" \n",
              " [2161] \"2161\"  \"2162\"  \"2163\"  \"2164\"  \"2165\"  \"2166\"  \"2167\"  \"2168\"  \"2169\" \n",
              " [2170] \"2170\"  \"2171\"  \"2172\"  \"2173\"  \"2174\"  \"2175\"  \"2176\"  \"2177\"  \"2178\" \n",
              " [2179] \"2179\"  \"2180\"  \"2181\"  \"2182\"  \"2183\"  \"2184\"  \"2185\"  \"2186\"  \"2187\" \n",
              " [2188] \"2188\"  \"2189\"  \"2190\"  \"2191\"  \"2192\"  \"2193\"  \"2194\"  \"2195\"  \"2196\" \n",
              " [2197] \"2197\"  \"2198\"  \"2199\"  \"2200\"  \"2201\"  \"2202\"  \"2203\"  \"2204\"  \"2205\" \n",
              " [2206] \"2206\"  \"2207\"  \"2208\"  \"2209\"  \"2210\"  \"2211\"  \"2212\"  \"2213\"  \"2214\" \n",
              " [2215] \"2215\"  \"2216\"  \"2217\"  \"2218\"  \"2219\"  \"2220\"  \"2221\"  \"2222\"  \"2223\" \n",
              " [2224] \"2224\"  \"2225\"  \"2226\"  \"2227\"  \"2228\"  \"2229\"  \"2230\"  \"2231\"  \"2232\" \n",
              " [2233] \"2233\"  \"2234\"  \"2235\"  \"2236\"  \"2237\"  \"2238\"  \"2239\"  \"2240\"  \"2241\" \n",
              " [2242] \"2242\"  \"2243\"  \"2244\"  \"2245\"  \"2246\"  \"2247\"  \"2248\"  \"2249\"  \"2250\" \n",
              " [2251] \"2251\"  \"2252\"  \"2253\"  \"2254\"  \"2255\"  \"2256\"  \"2257\"  \"2258\"  \"2259\" \n",
              " [2260] \"2260\"  \"2261\"  \"2262\"  \"2263\"  \"2264\"  \"2265\"  \"2266\"  \"2267\"  \"2268\" \n",
              " [2269] \"2269\"  \"2270\"  \"2271\"  \"2272\"  \"2273\"  \"2274\"  \"2275\"  \"2276\"  \"2277\" \n",
              " [2278] \"2278\"  \"2279\"  \"2280\"  \"2281\"  \"2282\"  \"2283\"  \"2284\"  \"2285\"  \"2286\" \n",
              " [2287] \"2287\"  \"2288\"  \"2289\"  \"2290\"  \"2291\"  \"2292\"  \"2293\"  \"2294\"  \"2295\" \n",
              " [2296] \"2296\"  \"2297\"  \"2298\"  \"2299\"  \"2300\"  \"2301\"  \"2302\"  \"2303\"  \"2304\" \n",
              " [2305] \"2305\"  \"2306\"  \"2307\"  \"2308\"  \"2309\"  \"2310\"  \"2311\"  \"2312\"  \"2313\" \n",
              " [2314] \"2314\"  \"2315\"  \"2316\"  \"2317\"  \"2318\"  \"2319\"  \"2320\"  \"2321\"  \"2322\" \n",
              " [2323] \"2323\"  \"2324\"  \"2325\"  \"2326\"  \"2327\"  \"2328\"  \"2329\"  \"2330\"  \"2331\" \n",
              " [2332] \"2332\"  \"2333\"  \"2334\"  \"2335\"  \"2336\"  \"2337\"  \"2338\"  \"2339\"  \"2340\" \n",
              " [2341] \"2341\"  \"2342\"  \"2343\"  \"2344\"  \"2345\"  \"2346\"  \"2347\"  \"2348\"  \"2349\" \n",
              " [2350] \"2350\"  \"2351\"  \"2352\"  \"2353\"  \"2354\"  \"2355\"  \"2356\"  \"2357\"  \"2358\" \n",
              " [2359] \"2359\"  \"2360\"  \"2361\"  \"2362\"  \"2363\"  \"2364\"  \"2365\"  \"2366\"  \"2367\" \n",
              " [2368] \"2368\"  \"2369\"  \"2370\"  \"2371\"  \"2372\"  \"2373\"  \"2374\"  \"2375\"  \"2376\" \n",
              " [2377] \"2377\"  \"2378\"  \"2379\"  \"2380\"  \"2381\"  \"2382\"  \"2383\"  \"2384\"  \"2385\" \n",
              " [2386] \"2386\"  \"2387\"  \"2388\"  \"2389\"  \"2390\"  \"2391\"  \"2392\"  \"2393\"  \"2394\" \n",
              " [2395] \"2395\"  \"2396\"  \"2397\"  \"2398\"  \"2399\"  \"2400\"  \"2401\"  \"2402\"  \"2403\" \n",
              " [2404] \"2404\"  \"2405\"  \"2406\"  \"2407\"  \"2408\"  \"2409\"  \"2410\"  \"2411\"  \"2412\" \n",
              " [2413] \"2413\"  \"2414\"  \"2415\"  \"2416\"  \"2417\"  \"2418\"  \"2419\"  \"2420\"  \"2421\" \n",
              " [2422] \"2422\"  \"2423\"  \"2424\"  \"2425\"  \"2426\"  \"2427\"  \"2428\"  \"2429\"  \"2430\" \n",
              " [2431] \"2431\"  \"2432\"  \"2433\"  \"2434\"  \"2435\"  \"2436\"  \"2437\"  \"2438\"  \"2439\" \n",
              " [2440] \"2440\"  \"2441\"  \"2442\"  \"2443\"  \"2444\"  \"2445\"  \"2446\"  \"2447\"  \"2448\" \n",
              " [2449] \"2449\"  \"2450\"  \"2451\"  \"2452\"  \"2453\"  \"2454\"  \"2455\"  \"2456\"  \"2457\" \n",
              " [2458] \"2458\"  \"2459\"  \"2460\"  \"2461\"  \"2462\"  \"2463\"  \"2464\"  \"2465\"  \"2466\" \n",
              " [2467] \"2467\"  \"2468\"  \"2469\"  \"2470\"  \"2471\"  \"2472\"  \"2473\"  \"2474\"  \"2475\" \n",
              " [2476] \"2476\"  \"2477\"  \"2478\"  \"2479\"  \"2480\"  \"2481\"  \"2482\"  \"2483\"  \"2484\" \n",
              " [2485] \"2485\"  \"2486\"  \"2487\"  \"2488\"  \"2489\"  \"2490\"  \"2491\"  \"2492\"  \"2493\" \n",
              " [2494] \"2494\"  \"2495\"  \"2496\"  \"2497\"  \"2498\"  \"2499\"  \"2500\"  \"2501\"  \"2502\" \n",
              " [2503] \"2503\"  \"2504\"  \"2505\"  \"2506\"  \"2507\"  \"2508\"  \"2509\"  \"2510\"  \"2511\" \n",
              " [2512] \"2512\"  \"2513\"  \"2514\"  \"2515\"  \"2516\"  \"2517\"  \"2518\"  \"2519\"  \"2520\" \n",
              " [2521] \"2521\"  \"2522\"  \"2523\"  \"2524\"  \"2525\"  \"2526\"  \"2527\"  \"2528\"  \"2529\" \n",
              " [2530] \"2530\"  \"2531\"  \"2532\"  \"2533\"  \"2534\"  \"2535\"  \"2536\"  \"2537\"  \"2538\" \n",
              " [2539] \"2539\"  \"2540\"  \"2541\"  \"2542\"  \"2543\"  \"2544\"  \"2545\"  \"2546\"  \"2547\" \n",
              " [2548] \"2548\"  \"2549\"  \"2550\"  \"2551\"  \"2552\"  \"2553\"  \"2554\"  \"2555\"  \"2556\" \n",
              " [2557] \"2557\"  \"2558\"  \"2559\"  \"2560\"  \"2561\"  \"2562\"  \"2563\"  \"2564\"  \"2565\" \n",
              " [2566] \"2566\"  \"2567\"  \"2568\"  \"2569\"  \"2570\"  \"2571\"  \"2572\"  \"2573\"  \"2574\" \n",
              " [2575] \"2575\"  \"2576\"  \"2577\"  \"2578\"  \"2579\"  \"2580\"  \"2581\"  \"2582\"  \"2583\" \n",
              " [2584] \"2584\"  \"2585\"  \"2586\"  \"2587\"  \"2588\"  \"2589\"  \"2590\"  \"2591\"  \"2592\" \n",
              " [2593] \"2593\"  \"2594\"  \"2595\"  \"2596\"  \"2597\"  \"2598\"  \"2599\"  \"2600\"  \"2601\" \n",
              " [2602] \"2602\"  \"2603\"  \"2604\"  \"2605\"  \"2606\"  \"2607\"  \"2608\"  \"2609\"  \"2610\" \n",
              " [2611] \"2611\"  \"2612\"  \"2613\"  \"2614\"  \"2615\"  \"2616\"  \"2617\"  \"2618\"  \"2619\" \n",
              " [2620] \"2620\"  \"2621\"  \"2622\"  \"2623\"  \"2624\"  \"2625\"  \"2626\"  \"2627\"  \"2628\" \n",
              " [2629] \"2629\"  \"2630\"  \"2631\"  \"2632\"  \"2633\"  \"2634\"  \"2635\"  \"2636\"  \"2637\" \n",
              " [2638] \"2638\"  \"2639\"  \"2640\"  \"2641\"  \"2642\"  \"2643\"  \"2644\"  \"2645\"  \"2646\" \n",
              " [2647] \"2647\"  \"2648\"  \"2649\"  \"2650\"  \"2651\"  \"2652\"  \"2653\"  \"2654\"  \"2655\" \n",
              " [2656] \"2656\"  \"2657\"  \"2658\"  \"2659\"  \"2660\"  \"2661\"  \"2662\"  \"2663\"  \"2664\" \n",
              " [2665] \"2665\"  \"2666\"  \"2667\"  \"2668\"  \"2669\"  \"2670\"  \"2671\"  \"2672\"  \"2673\" \n",
              " [2674] \"2674\"  \"2675\"  \"2676\"  \"2677\"  \"2678\"  \"2679\"  \"2680\"  \"2681\"  \"2682\" \n",
              " [2683] \"2683\"  \"2684\"  \"2685\"  \"2686\"  \"2687\"  \"2688\"  \"2689\"  \"2690\"  \"2691\" \n",
              " [2692] \"2692\"  \"2693\"  \"2694\"  \"2695\"  \"2696\"  \"2697\"  \"2698\"  \"2699\"  \"2700\" \n",
              " [2701] \"2701\"  \"2702\"  \"2703\"  \"2704\"  \"2705\"  \"2706\"  \"2707\"  \"2708\"  \"2709\" \n",
              " [2710] \"2710\"  \"2711\"  \"2712\"  \"2713\"  \"2714\"  \"2715\"  \"2716\"  \"2717\"  \"2718\" \n",
              " [2719] \"2719\"  \"2720\"  \"2721\"  \"2722\"  \"2723\"  \"2724\"  \"2725\"  \"2726\"  \"2727\" \n",
              " [2728] \"2728\"  \"2729\"  \"2730\"  \"2731\"  \"2732\"  \"2733\"  \"2734\"  \"2735\"  \"2736\" \n",
              " [2737] \"2737\"  \"2738\"  \"2739\"  \"2740\"  \"2741\"  \"2742\"  \"2743\"  \"2744\"  \"2745\" \n",
              " [2746] \"2746\"  \"2747\"  \"2748\"  \"2749\"  \"2750\"  \"2751\"  \"2752\"  \"2753\"  \"2754\" \n",
              " [2755] \"2755\"  \"2756\"  \"2757\"  \"2758\"  \"2759\"  \"2760\"  \"2761\"  \"2762\"  \"2763\" \n",
              " [2764] \"2764\"  \"2765\"  \"2766\"  \"2767\"  \"2768\"  \"2769\"  \"2770\"  \"2771\"  \"2772\" \n",
              " [2773] \"2773\"  \"2774\"  \"2775\"  \"2776\"  \"2777\"  \"2778\"  \"2779\"  \"2780\"  \"2781\" \n",
              " [2782] \"2782\"  \"2783\"  \"2784\"  \"2785\"  \"2786\"  \"2787\"  \"2788\"  \"2789\"  \"2790\" \n",
              " [2791] \"2791\"  \"2792\"  \"2793\"  \"2794\"  \"2795\"  \"2796\"  \"2797\"  \"2798\"  \"2799\" \n",
              " [2800] \"2800\"  \"2801\"  \"2802\"  \"2803\"  \"2804\"  \"2805\"  \"2806\"  \"2807\"  \"2808\" \n",
              " [2809] \"2809\"  \"2810\"  \"2811\"  \"2812\"  \"2813\"  \"2814\"  \"2815\"  \"2816\"  \"2817\" \n",
              " [2818] \"2818\"  \"2819\"  \"2820\"  \"2821\"  \"2822\"  \"2823\"  \"2824\"  \"2825\"  \"2826\" \n",
              " [2827] \"2827\"  \"2828\"  \"2829\"  \"2830\"  \"2831\"  \"2832\"  \"2833\"  \"2834\"  \"2835\" \n",
              " [2836] \"2836\"  \"2837\"  \"2838\"  \"2839\"  \"2840\"  \"2841\"  \"2842\"  \"2843\"  \"2844\" \n",
              " [2845] \"2845\"  \"2846\"  \"2847\"  \"2848\"  \"2849\"  \"2850\"  \"2851\"  \"2852\"  \"2853\" \n",
              " [2854] \"2854\"  \"2855\"  \"2856\"  \"2857\"  \"2858\"  \"2859\"  \"2860\"  \"2861\"  \"2862\" \n",
              " [2863] \"2863\"  \"2864\"  \"2865\"  \"2866\"  \"2867\"  \"2868\"  \"2869\"  \"2870\"  \"2871\" \n",
              " [2872] \"2872\"  \"2873\"  \"2874\"  \"2875\"  \"2876\"  \"2877\"  \"2878\"  \"2879\"  \"2880\" \n",
              " [2881] \"2881\"  \"2882\"  \"2883\"  \"2884\"  \"2885\"  \"2886\"  \"2887\"  \"2888\"  \"2889\" \n",
              " [2890] \"2890\"  \"2891\"  \"2892\"  \"2893\"  \"2894\"  \"2895\"  \"2896\"  \"2897\"  \"2898\" \n",
              " [2899] \"2899\"  \"2900\"  \"2901\"  \"2902\"  \"2903\"  \"2904\"  \"2905\"  \"2906\"  \"2907\" \n",
              " [2908] \"2908\"  \"2909\"  \"2910\"  \"2911\"  \"2912\"  \"2913\"  \"2914\"  \"2915\"  \"2916\" \n",
              " [2917] \"2917\"  \"2918\"  \"2919\"  \"2920\"  \"2921\"  \"2922\"  \"2923\"  \"2924\"  \"2925\" \n",
              " [2926] \"2926\"  \"2927\"  \"2928\"  \"2929\"  \"2930\"  \"2931\"  \"2932\"  \"2933\"  \"2934\" \n",
              " [2935] \"2935\"  \"2936\"  \"2937\"  \"2938\"  \"2939\"  \"2940\"  \"2941\"  \"2942\"  \"2943\" \n",
              " [2944] \"2944\"  \"2945\"  \"2946\"  \"2947\"  \"2948\"  \"2949\"  \"2950\"  \"2951\"  \"2952\" \n",
              " [2953] \"2953\"  \"2954\"  \"2955\"  \"2956\"  \"2957\"  \"2958\"  \"2959\"  \"2960\"  \"2961\" \n",
              " [2962] \"2962\"  \"2963\"  \"2964\"  \"2965\"  \"2966\"  \"2967\"  \"2968\"  \"2969\"  \"2970\" \n",
              " [2971] \"2971\"  \"2972\"  \"2973\"  \"2974\"  \"2975\"  \"2976\"  \"2977\"  \"2978\"  \"2979\" \n",
              " [2980] \"2980\"  \"2981\"  \"2982\"  \"2983\"  \"2984\"  \"2985\"  \"2986\"  \"2987\"  \"2988\" \n",
              " [2989] \"2989\"  \"2990\"  \"2991\"  \"2992\"  \"2993\"  \"2994\"  \"2995\"  \"2996\"  \"2997\" \n",
              " [2998] \"2998\"  \"2999\"  \"3000\"  \"3001\"  \"3002\"  \"3003\"  \"3004\"  \"3005\"  \"3006\" \n",
              " [3007] \"3007\"  \"3008\"  \"3009\"  \"3010\"  \"3011\"  \"3012\"  \"3013\"  \"3014\"  \"3015\" \n",
              " [3016] \"3016\"  \"3017\"  \"3018\"  \"3019\"  \"3020\"  \"3021\"  \"3022\"  \"3023\"  \"3024\" \n",
              " [3025] \"3025\"  \"3026\"  \"3027\"  \"3028\"  \"3029\"  \"3030\"  \"3031\"  \"3032\"  \"3033\" \n",
              " [3034] \"3034\"  \"3035\"  \"3036\"  \"3037\"  \"3038\"  \"3039\"  \"3040\"  \"3041\"  \"3042\" \n",
              " [3043] \"3043\"  \"3044\"  \"3045\"  \"3046\"  \"3047\"  \"3048\"  \"3049\"  \"3050\"  \"3051\" \n",
              " [3052] \"3052\"  \"3053\"  \"3054\"  \"3055\"  \"3056\"  \"3057\"  \"3058\"  \"3059\"  \"3060\" \n",
              " [3061] \"3061\"  \"3062\"  \"3063\"  \"3064\"  \"3065\"  \"3066\"  \"3067\"  \"3068\"  \"3069\" \n",
              " [3070] \"3070\"  \"3071\"  \"3072\"  \"3073\"  \"3074\"  \"3075\"  \"3076\"  \"3077\"  \"3078\" \n",
              " [3079] \"3079\"  \"3080\"  \"3081\"  \"3082\"  \"3083\"  \"3084\"  \"3085\"  \"3086\"  \"3087\" \n",
              " [3088] \"3088\"  \"3089\"  \"3090\"  \"3091\"  \"3092\"  \"3093\"  \"3094\"  \"3095\"  \"3096\" \n",
              " [3097] \"3097\"  \"3098\"  \"3099\"  \"3100\"  \"3101\"  \"3102\"  \"3103\"  \"3104\"  \"3105\" \n",
              " [3106] \"3106\"  \"3107\"  \"3108\"  \"3109\"  \"3110\"  \"3111\"  \"3112\"  \"3113\"  \"3114\" \n",
              " [3115] \"3115\"  \"3116\"  \"3117\"  \"3118\"  \"3119\"  \"3120\"  \"3121\"  \"3122\"  \"3123\" \n",
              " [3124] \"3124\"  \"3125\"  \"3126\"  \"3127\"  \"3128\"  \"3129\"  \"3130\"  \"3131\"  \"3132\" \n",
              " [3133] \"3133\"  \"3134\"  \"3135\"  \"3136\"  \"3137\"  \"3138\"  \"3139\"  \"3140\"  \"3141\" \n",
              " [3142] \"3142\"  \"3143\"  \"3144\"  \"3145\"  \"3146\"  \"3147\"  \"3148\"  \"3149\"  \"3150\" \n",
              " [3151] \"3151\"  \"3152\"  \"3153\"  \"3154\"  \"3155\"  \"3156\"  \"3157\"  \"3158\"  \"3159\" \n",
              " [3160] \"3160\"  \"3161\"  \"3162\"  \"3163\"  \"3164\"  \"3165\"  \"3166\"  \"3167\"  \"3168\" \n",
              " [3169] \"3169\"  \"3170\"  \"3171\"  \"3172\"  \"3173\"  \"3174\"  \"3175\"  \"3176\"  \"3177\" \n",
              " [3178] \"3178\"  \"3179\"  \"3180\"  \"3181\"  \"3182\"  \"3183\"  \"3184\"  \"3185\"  \"3186\" \n",
              " [3187] \"3187\"  \"3188\"  \"3189\"  \"3190\"  \"3191\"  \"3192\"  \"3193\"  \"3194\"  \"3195\" \n",
              " [3196] \"3196\"  \"3197\"  \"3198\"  \"3199\"  \"3200\"  \"3201\"  \"3202\"  \"3203\"  \"3204\" \n",
              " [3205] \"3205\"  \"3206\"  \"3207\"  \"3208\"  \"3209\"  \"3210\"  \"3211\"  \"3212\"  \"3213\" \n",
              " [3214] \"3214\"  \"3215\"  \"3216\"  \"3217\"  \"3218\"  \"3219\"  \"3220\"  \"3221\"  \"3222\" \n",
              " [3223] \"3223\"  \"3224\"  \"3225\"  \"3226\"  \"3227\"  \"3228\"  \"3229\"  \"3230\"  \"3231\" \n",
              " [3232] \"3232\"  \"3233\"  \"3234\"  \"3235\"  \"3236\"  \"3237\"  \"3238\"  \"3239\"  \"3240\" \n",
              " [3241] \"3241\"  \"3242\"  \"3243\"  \"3244\"  \"3245\"  \"3246\"  \"3247\"  \"3248\"  \"3249\" \n",
              " [3250] \"3250\"  \"3251\"  \"3252\"  \"3253\"  \"3254\"  \"3255\"  \"3256\"  \"3257\"  \"3258\" \n",
              " [3259] \"3259\"  \"3260\"  \"3261\"  \"3262\"  \"3263\"  \"3264\"  \"3265\"  \"3266\"  \"3267\" \n",
              " [3268] \"3268\"  \"3269\"  \"3270\"  \"3271\"  \"3272\"  \"3273\"  \"3274\"  \"3275\"  \"3276\" \n",
              " [3277] \"3277\"  \"3278\"  \"3279\"  \"3280\"  \"3281\"  \"3282\"  \"3283\"  \"3284\"  \"3285\" \n",
              " [3286] \"3286\"  \"3287\"  \"3288\"  \"3289\"  \"3290\"  \"3291\"  \"3292\"  \"3293\"  \"3294\" \n",
              " [3295] \"3295\"  \"3296\"  \"3297\"  \"3298\"  \"3299\"  \"3300\"  \"3301\"  \"3302\"  \"3303\" \n",
              " [3304] \"3304\"  \"3305\"  \"3306\"  \"3307\"  \"3308\"  \"3309\"  \"3310\"  \"3311\"  \"3312\" \n",
              " [3313] \"3313\"  \"3314\"  \"3315\"  \"3316\"  \"3317\"  \"3318\"  \"3319\"  \"3320\"  \"3321\" \n",
              " [3322] \"3322\"  \"3323\"  \"3324\"  \"3325\"  \"3326\"  \"3327\"  \"3328\"  \"3329\"  \"3330\" \n",
              " [3331] \"3331\"  \"3332\"  \"3333\"  \"3334\"  \"3335\"  \"3336\"  \"3337\"  \"3338\"  \"3339\" \n",
              " [3340] \"3340\"  \"3341\"  \"3342\"  \"3343\"  \"3344\"  \"3345\"  \"3346\"  \"3347\"  \"3348\" \n",
              " [3349] \"3349\"  \"3350\"  \"3351\"  \"3352\"  \"3353\"  \"3354\"  \"3355\"  \"3356\"  \"3357\" \n",
              " [3358] \"3358\"  \"3359\"  \"3360\"  \"3361\"  \"3362\"  \"3363\"  \"3364\"  \"3365\"  \"3366\" \n",
              " [3367] \"3367\"  \"3368\"  \"3369\"  \"3370\"  \"3371\"  \"3372\"  \"3373\"  \"3374\"  \"3375\" \n",
              " [3376] \"3376\"  \"3377\"  \"3378\"  \"3379\"  \"3380\"  \"3381\"  \"3382\"  \"3383\"  \"3384\" \n",
              " [3385] \"3385\"  \"3386\"  \"3387\"  \"3388\"  \"3389\"  \"3390\"  \"3391\"  \"3392\"  \"3393\" \n",
              " [3394] \"3394\"  \"3395\"  \"3396\"  \"3397\"  \"3398\"  \"3399\"  \"3400\"  \"3401\"  \"3402\" \n",
              " [3403] \"3403\"  \"3404\"  \"3405\"  \"3406\"  \"3407\"  \"3408\"  \"3409\"  \"3410\"  \"3411\" \n",
              " [3412] \"3412\"  \"3413\"  \"3414\"  \"3415\"  \"3416\"  \"3417\"  \"3418\"  \"3419\"  \"3420\" \n",
              " [3421] \"3421\"  \"3422\"  \"3423\"  \"3424\"  \"3425\"  \"3426\"  \"3427\"  \"3428\"  \"3429\" \n",
              " [3430] \"3430\"  \"3431\"  \"3432\"  \"3433\"  \"3434\"  \"3435\"  \"3436\"  \"3437\"  \"3438\" \n",
              " [3439] \"3439\"  \"3440\"  \"3441\"  \"3442\"  \"3443\"  \"3444\"  \"3445\"  \"3446\"  \"3447\" \n",
              " [3448] \"3448\"  \"3449\"  \"3450\"  \"3451\"  \"3452\"  \"3453\"  \"3454\"  \"3455\"  \"3456\" \n",
              " [3457] \"3457\"  \"3458\"  \"3459\"  \"3460\"  \"3461\"  \"3462\"  \"3463\"  \"3464\"  \"3465\" \n",
              " [3466] \"3466\"  \"3467\"  \"3468\"  \"3469\"  \"3470\"  \"3471\"  \"3472\"  \"3473\"  \"3474\" \n",
              " [3475] \"3475\"  \"3476\"  \"3477\"  \"3478\"  \"3479\"  \"3480\"  \"3481\"  \"3482\"  \"3483\" \n",
              " [3484] \"3484\"  \"3485\"  \"3486\"  \"3487\"  \"3488\"  \"3489\"  \"3490\"  \"3491\"  \"3492\" \n",
              " [3493] \"3493\"  \"3494\"  \"3495\"  \"3496\"  \"3497\"  \"3498\"  \"3499\"  \"3500\"  \"3501\" \n",
              " [3502] \"3502\"  \"3503\"  \"3504\"  \"3505\"  \"3506\"  \"3507\"  \"3508\"  \"3509\"  \"3510\" \n",
              " [3511] \"3511\"  \"3512\"  \"3513\"  \"3514\"  \"3515\"  \"3516\"  \"3517\"  \"3518\"  \"3519\" \n",
              " [3520] \"3520\"  \"3521\"  \"3522\"  \"3523\"  \"3524\"  \"3525\"  \"3526\"  \"3527\"  \"3528\" \n",
              " [3529] \"3529\"  \"3530\"  \"3531\"  \"3532\"  \"3533\"  \"3534\"  \"3535\"  \"3536\"  \"3537\" \n",
              " [3538] \"3538\"  \"3539\"  \"3540\"  \"3541\"  \"3542\"  \"3543\"  \"3544\"  \"3545\"  \"3546\" \n",
              " [3547] \"3547\"  \"3548\"  \"3549\"  \"3550\"  \"3551\"  \"3552\"  \"3553\"  \"3554\"  \"3555\" \n",
              " [3556] \"3556\"  \"3557\"  \"3558\"  \"3559\"  \"3560\"  \"3561\"  \"3562\"  \"3563\"  \"3564\" \n",
              " [3565] \"3565\"  \"3566\"  \"3567\"  \"3568\"  \"3569\"  \"3570\"  \"3571\"  \"3572\"  \"3573\" \n",
              " [3574] \"3574\"  \"3575\"  \"3576\"  \"3577\"  \"3578\"  \"3579\"  \"3580\"  \"3581\"  \"3582\" \n",
              " [3583] \"3583\"  \"3584\"  \"3585\"  \"3586\"  \"3587\"  \"3588\"  \"3589\"  \"3590\"  \"3591\" \n",
              " [3592] \"3592\"  \"3593\"  \"3594\"  \"3595\"  \"3596\"  \"3597\"  \"3598\"  \"3599\"  \"3600\" \n",
              " [3601] \"3601\"  \"3602\"  \"3603\"  \"3604\"  \"3605\"  \"3606\"  \"3607\"  \"3608\"  \"3609\" \n",
              " [3610] \"3610\"  \"3611\"  \"3612\"  \"3613\"  \"3614\"  \"3615\"  \"3616\"  \"3617\"  \"3618\" \n",
              " [3619] \"3619\"  \"3620\"  \"3621\"  \"3622\"  \"3623\"  \"3624\"  \"3625\"  \"3626\"  \"3627\" \n",
              " [3628] \"3628\"  \"3629\"  \"3630\"  \"3631\"  \"3632\"  \"3633\"  \"3634\"  \"3635\"  \"3636\" \n",
              " [3637] \"3637\"  \"3638\"  \"3639\"  \"3640\"  \"3641\"  \"3642\"  \"3643\"  \"3644\"  \"3645\" \n",
              " [3646] \"3646\"  \"3647\"  \"3648\"  \"3649\"  \"3650\"  \"3651\"  \"3652\"  \"3653\"  \"3654\" \n",
              " [3655] \"3655\"  \"3656\"  \"3657\"  \"3658\"  \"3659\"  \"3660\"  \"3661\"  \"3662\"  \"3663\" \n",
              " [3664] \"3664\"  \"3665\"  \"3666\"  \"3667\"  \"3668\"  \"3669\"  \"3670\"  \"3671\"  \"3672\" \n",
              " [3673] \"3673\"  \"3674\"  \"3675\"  \"3676\"  \"3677\"  \"3678\"  \"3679\"  \"3680\"  \"3681\" \n",
              " [3682] \"3682\"  \"3683\"  \"3684\"  \"3685\"  \"3686\"  \"3687\"  \"3688\"  \"3689\"  \"3690\" \n",
              " [3691] \"3691\"  \"3692\"  \"3693\"  \"3694\"  \"3695\"  \"3696\"  \"3697\"  \"3698\"  \"3699\" \n",
              " [3700] \"3700\"  \"3701\"  \"3702\"  \"3703\"  \"3704\"  \"3705\"  \"3706\"  \"3707\"  \"3708\" \n",
              " [3709] \"3709\"  \"3710\"  \"3711\"  \"3712\"  \"3713\"  \"3714\"  \"3715\"  \"3716\"  \"3717\" \n",
              " [3718] \"3718\"  \"3719\"  \"3720\"  \"3721\"  \"3722\"  \"3723\"  \"3724\"  \"3725\"  \"3726\" \n",
              " [3727] \"3727\"  \"3728\"  \"3729\"  \"3730\"  \"3731\"  \"3732\"  \"3733\"  \"3734\"  \"3735\" \n",
              " [3736] \"3736\"  \"3737\"  \"3738\"  \"3739\"  \"3740\"  \"3741\"  \"3742\"  \"3743\"  \"3744\" \n",
              " [3745] \"3745\"  \"3746\"  \"3747\"  \"3748\"  \"3749\"  \"3750\"  \"3751\"  \"3752\"  \"3753\" \n",
              " [3754] \"3754\"  \"3755\"  \"3756\"  \"3757\"  \"3758\"  \"3759\"  \"3760\"  \"3761\"  \"3762\" \n",
              " [3763] \"3763\"  \"3764\"  \"3765\"  \"3766\"  \"3767\"  \"3768\"  \"3769\"  \"3770\"  \"3771\" \n",
              " [3772] \"3772\"  \"3773\"  \"3774\"  \"3775\"  \"3776\"  \"3777\"  \"3778\"  \"3779\"  \"3780\" \n",
              " [3781] \"3781\"  \"3782\"  \"3783\"  \"3784\"  \"3785\"  \"3786\"  \"3787\"  \"3788\"  \"3789\" \n",
              " [3790] \"3790\"  \"3791\"  \"3792\"  \"3793\"  \"3794\"  \"3795\"  \"3796\"  \"3797\"  \"3798\" \n",
              " [3799] \"3799\"  \"3800\"  \"3801\"  \"3802\"  \"3803\"  \"3804\"  \"3805\"  \"3806\"  \"3807\" \n",
              " [3808] \"3808\"  \"3809\"  \"3810\"  \"3811\"  \"3812\"  \"3813\"  \"3814\"  \"3815\"  \"3816\" \n",
              " [3817] \"3817\"  \"3818\"  \"3819\"  \"3820\"  \"3821\"  \"3822\"  \"3823\"  \"3824\"  \"3825\" \n",
              " [3826] \"3826\"  \"3827\"  \"3828\"  \"3829\"  \"3830\"  \"3831\"  \"3832\"  \"3833\"  \"3834\" \n",
              " [3835] \"3835\"  \"3836\"  \"3837\"  \"3838\"  \"3839\"  \"3840\"  \"3841\"  \"3842\"  \"3843\" \n",
              " [3844] \"3844\"  \"3845\"  \"3846\"  \"3847\"  \"3848\"  \"3849\"  \"3850\"  \"3851\"  \"3852\" \n",
              " [3853] \"3853\"  \"3854\"  \"3855\"  \"3856\"  \"3857\"  \"3858\"  \"3859\"  \"3860\"  \"3861\" \n",
              " [3862] \"3862\"  \"3863\"  \"3864\"  \"3865\"  \"3866\"  \"3867\"  \"3868\"  \"3869\"  \"3870\" \n",
              " [3871] \"3871\"  \"3872\"  \"3873\"  \"3874\"  \"3875\"  \"3876\"  \"3877\"  \"3878\"  \"3879\" \n",
              " [3880] \"3880\"  \"3881\"  \"3882\"  \"3883\"  \"3884\"  \"3885\"  \"3886\"  \"3887\"  \"3888\" \n",
              " [3889] \"3889\"  \"3890\"  \"3891\"  \"3892\"  \"3893\"  \"3894\"  \"3895\"  \"3896\"  \"3897\" \n",
              " [3898] \"3898\"  \"3899\"  \"3900\"  \"3901\"  \"3902\"  \"3903\"  \"3904\"  \"3905\"  \"3906\" \n",
              " [3907] \"3907\"  \"3908\"  \"3909\"  \"3910\"  \"3911\"  \"3912\"  \"3913\"  \"3914\"  \"3915\" \n",
              " [3916] \"3916\"  \"3917\"  \"3918\"  \"3919\"  \"3920\"  \"3921\"  \"3922\"  \"3923\"  \"3924\" \n",
              " [3925] \"3925\"  \"3926\"  \"3927\"  \"3928\"  \"3929\"  \"3930\"  \"3931\"  \"3932\"  \"3933\" \n",
              " [3934] \"3934\"  \"3935\"  \"3936\"  \"3937\"  \"3938\"  \"3939\"  \"3940\"  \"3941\"  \"3942\" \n",
              " [3943] \"3943\"  \"3944\"  \"3945\"  \"3946\"  \"3947\"  \"3948\"  \"3949\"  \"3950\"  \"3951\" \n",
              " [3952] \"3952\"  \"3953\"  \"3954\"  \"3955\"  \"3956\"  \"3957\"  \"3958\"  \"3959\"  \"3960\" \n",
              " [3961] \"3961\"  \"3962\"  \"3963\"  \"3964\"  \"3965\"  \"3966\"  \"3967\"  \"3968\"  \"3969\" \n",
              " [3970] \"3970\"  \"3971\"  \"3972\"  \"3973\"  \"3974\"  \"3975\"  \"3976\"  \"3977\"  \"3978\" \n",
              " [3979] \"3979\"  \"3980\"  \"3981\"  \"3982\"  \"3983\"  \"3984\"  \"3985\"  \"3986\"  \"3987\" \n",
              " [3988] \"3988\"  \"3989\"  \"3990\"  \"3991\"  \"3992\"  \"3993\"  \"3994\"  \"3995\"  \"3996\" \n",
              " [3997] \"3997\"  \"3998\"  \"3999\"  \"4000\"  \"4001\"  \"4002\"  \"4003\"  \"4004\"  \"4005\" \n",
              " [4006] \"4006\"  \"4007\"  \"4008\"  \"4009\"  \"4010\"  \"4011\"  \"4012\"  \"4013\"  \"4014\" \n",
              " [4015] \"4015\"  \"4016\"  \"4017\"  \"4018\"  \"4019\"  \"4020\"  \"4021\"  \"4022\"  \"4023\" \n",
              " [4024] \"4024\"  \"4025\"  \"4026\"  \"4027\"  \"4028\"  \"4029\"  \"4030\"  \"4031\"  \"4032\" \n",
              " [4033] \"4033\"  \"4034\"  \"4035\"  \"4036\"  \"4037\"  \"4038\"  \"4039\"  \"4040\"  \"4041\" \n",
              " [4042] \"4042\"  \"4043\"  \"4044\"  \"4045\"  \"4046\"  \"4047\"  \"4048\"  \"4049\"  \"4050\" \n",
              " [4051] \"4051\"  \"4052\"  \"4053\"  \"4054\"  \"4055\"  \"4056\"  \"4057\"  \"4058\"  \"4059\" \n",
              " [4060] \"4060\"  \"4061\"  \"4062\"  \"4063\"  \"4064\"  \"4065\"  \"4066\"  \"4067\"  \"4068\" \n",
              " [4069] \"4069\"  \"4070\"  \"4071\"  \"4072\"  \"4073\"  \"4074\"  \"4075\"  \"4076\"  \"4077\" \n",
              " [4078] \"4078\"  \"4079\"  \"4080\"  \"4081\"  \"4082\"  \"4083\"  \"4084\"  \"4085\"  \"4086\" \n",
              " [4087] \"4087\"  \"4088\"  \"4089\"  \"4090\"  \"4091\"  \"4092\"  \"4093\"  \"4094\"  \"4095\" \n",
              " [4096] \"4096\"  \"4097\"  \"4098\"  \"4099\"  \"4100\"  \"4101\"  \"4102\"  \"4103\"  \"4104\" \n",
              " [4105] \"4105\"  \"4106\"  \"4107\"  \"4108\"  \"4109\"  \"4110\"  \"4111\"  \"4112\"  \"4113\" \n",
              " [4114] \"4114\"  \"4115\"  \"4116\"  \"4117\"  \"4118\"  \"4119\"  \"4120\"  \"4121\"  \"4122\" \n",
              " [4123] \"4123\"  \"4124\"  \"4125\"  \"4126\"  \"4127\"  \"4128\"  \"4129\"  \"4130\"  \"4131\" \n",
              " [4132] \"4132\"  \"4133\"  \"4134\"  \"4135\"  \"4136\"  \"4137\"  \"4138\"  \"4139\"  \"4140\" \n",
              " [4141] \"4141\"  \"4142\"  \"4143\"  \"4144\"  \"4145\"  \"4146\"  \"4147\"  \"4148\"  \"4149\" \n",
              " [4150] \"4150\"  \"4151\"  \"4152\"  \"4153\"  \"4154\"  \"4155\"  \"4156\"  \"4157\"  \"4158\" \n",
              " [4159] \"4159\"  \"4160\"  \"4161\"  \"4162\"  \"4163\"  \"4164\"  \"4165\"  \"4166\"  \"4167\" \n",
              " [4168] \"4168\"  \"4169\"  \"4170\"  \"4171\"  \"4172\"  \"4173\"  \"4174\"  \"4175\"  \"4176\" \n",
              " [4177] \"4177\"  \"4178\"  \"4179\"  \"4180\"  \"4181\"  \"4182\"  \"4183\"  \"4184\"  \"4185\" \n",
              " [4186] \"4186\"  \"4187\"  \"4188\"  \"4189\"  \"4190\"  \"4191\"  \"4192\"  \"4193\"  \"4194\" \n",
              " [4195] \"4195\"  \"4196\"  \"4197\"  \"4198\"  \"4199\"  \"4200\"  \"4201\"  \"4202\"  \"4203\" \n",
              " [4204] \"4204\"  \"4205\"  \"4206\"  \"4207\"  \"4208\"  \"4209\"  \"4210\"  \"4211\"  \"4212\" \n",
              " [4213] \"4213\"  \"4214\"  \"4215\"  \"4216\"  \"4217\"  \"4218\"  \"4219\"  \"4220\"  \"4221\" \n",
              " [4222] \"4222\"  \"4223\"  \"4224\"  \"4225\"  \"4226\"  \"4227\"  \"4228\"  \"4229\"  \"4230\" \n",
              " [4231] \"4231\"  \"4232\"  \"4233\"  \"4234\"  \"4235\"  \"4236\"  \"4237\"  \"4238\"  \"4239\" \n",
              " [4240] \"4240\"  \"4241\"  \"4242\"  \"4243\"  \"4244\"  \"4245\"  \"4246\"  \"4247\"  \"4248\" \n",
              " [4249] \"4249\"  \"4250\"  \"4251\"  \"4252\"  \"4253\"  \"4254\"  \"4255\"  \"4256\"  \"4257\" \n",
              " [4258] \"4258\"  \"4259\"  \"4260\"  \"4261\"  \"4262\"  \"4263\"  \"4264\"  \"4265\"  \"4266\" \n",
              " [4267] \"4267\"  \"4268\"  \"4269\"  \"4270\"  \"4271\"  \"4272\"  \"4273\"  \"4274\"  \"4275\" \n",
              " [4276] \"4276\"  \"4277\"  \"4278\"  \"4279\"  \"4280\"  \"4281\"  \"4282\"  \"4283\"  \"4284\" \n",
              " [4285] \"4285\"  \"4286\"  \"4287\"  \"4288\"  \"4289\"  \"4290\"  \"4291\"  \"4292\"  \"4293\" \n",
              " [4294] \"4294\"  \"4295\"  \"4296\"  \"4297\"  \"4298\"  \"4299\"  \"4300\"  \"4301\"  \"4302\" \n",
              " [4303] \"4303\"  \"4304\"  \"4305\"  \"4306\"  \"4307\"  \"4308\"  \"4309\"  \"4310\"  \"4311\" \n",
              " [4312] \"4312\"  \"4313\"  \"4314\"  \"4315\"  \"4316\"  \"4317\"  \"4318\"  \"4319\"  \"4320\" \n",
              " [4321] \"4321\"  \"4322\"  \"4323\"  \"4324\"  \"4325\"  \"4326\"  \"4327\"  \"4328\"  \"4329\" \n",
              " [4330] \"4330\"  \"4331\"  \"4332\"  \"4333\"  \"4334\"  \"4335\"  \"4336\"  \"4337\"  \"4338\" \n",
              " [4339] \"4339\"  \"4340\"  \"4341\"  \"4342\"  \"4343\"  \"4344\"  \"4345\"  \"4346\"  \"4347\" \n",
              " [4348] \"4348\"  \"4349\"  \"4350\"  \"4351\"  \"4352\"  \"4353\"  \"4354\"  \"4355\"  \"4356\" \n",
              " [4357] \"4357\"  \"4358\"  \"4359\"  \"4360\"  \"4361\"  \"4362\"  \"4363\"  \"4364\"  \"4365\" \n",
              " [4366] \"4366\"  \"4367\"  \"4368\"  \"4369\"  \"4370\"  \"4371\"  \"4372\"  \"4373\"  \"4374\" \n",
              " [4375] \"4375\"  \"4376\"  \"4377\"  \"4378\"  \"4379\"  \"4380\"  \"4381\"  \"4382\"  \"4383\" \n",
              " [4384] \"4384\"  \"4385\"  \"4386\"  \"4387\"  \"4388\"  \"4389\"  \"4390\"  \"4391\"  \"4392\" \n",
              " [4393] \"4393\"  \"4394\"  \"4395\"  \"4396\"  \"4397\"  \"4398\"  \"4399\"  \"4400\"  \"4401\" \n",
              " [4402] \"4402\"  \"4403\"  \"4404\"  \"4405\"  \"4406\"  \"4407\"  \"4408\"  \"4409\"  \"4410\" \n",
              " [4411] \"4411\"  \"4412\"  \"4413\"  \"4414\"  \"4415\"  \"4416\"  \"4417\"  \"4418\"  \"4419\" \n",
              " [4420] \"4420\"  \"4421\"  \"4422\"  \"4423\"  \"4424\"  \"4425\"  \"4426\"  \"4427\"  \"4428\" \n",
              " [4429] \"4429\"  \"4430\"  \"4431\"  \"4432\"  \"4433\"  \"4434\"  \"4435\"  \"4436\"  \"4437\" \n",
              " [4438] \"4438\"  \"4439\"  \"4440\"  \"4441\"  \"4442\"  \"4443\"  \"4444\"  \"4445\"  \"4446\" \n",
              " [4447] \"4447\"  \"4448\"  \"4449\"  \"4450\"  \"4451\"  \"4452\"  \"4453\"  \"4454\"  \"4455\" \n",
              " [4456] \"4456\"  \"4457\"  \"4458\"  \"4459\"  \"4460\"  \"4461\"  \"4462\"  \"4463\"  \"4464\" \n",
              " [4465] \"4465\"  \"4466\"  \"4467\"  \"4468\"  \"4469\"  \"4470\"  \"4471\"  \"4472\"  \"4473\" \n",
              " [4474] \"4474\"  \"4475\"  \"4476\"  \"4477\"  \"4478\"  \"4479\"  \"4480\"  \"4481\"  \"4482\" \n",
              " [4483] \"4483\"  \"4484\"  \"4485\"  \"4486\"  \"4487\"  \"4488\"  \"4489\"  \"4490\"  \"4491\" \n",
              " [4492] \"4492\"  \"4493\"  \"4494\"  \"4495\"  \"4496\"  \"4497\"  \"4498\"  \"4499\"  \"4500\" \n",
              " [4501] \"4501\"  \"4502\"  \"4503\"  \"4504\"  \"4505\"  \"4506\"  \"4507\"  \"4508\"  \"4509\" \n",
              " [4510] \"4510\"  \"4511\"  \"4512\"  \"4513\"  \"4514\"  \"4515\"  \"4516\"  \"4517\"  \"4518\" \n",
              " [4519] \"4519\"  \"4520\"  \"4521\"  \"4522\"  \"4523\"  \"4524\"  \"4525\"  \"4526\"  \"4527\" \n",
              " [4528] \"4528\"  \"4529\"  \"4530\"  \"4531\"  \"4532\"  \"4533\"  \"4534\"  \"4535\"  \"4536\" \n",
              " [4537] \"4537\"  \"4538\"  \"4539\"  \"4540\"  \"4541\"  \"4542\"  \"4543\"  \"4544\"  \"4545\" \n",
              " [4546] \"4546\"  \"4547\"  \"4548\"  \"4549\"  \"4550\"  \"4551\"  \"4552\"  \"4553\"  \"4554\" \n",
              " [4555] \"4555\"  \"4556\"  \"4557\"  \"4558\"  \"4559\"  \"4560\"  \"4561\"  \"4562\"  \"4563\" \n",
              " [4564] \"4564\"  \"4565\"  \"4566\"  \"4567\"  \"4568\"  \"4569\"  \"4570\"  \"4571\"  \"4572\" \n",
              " [4573] \"4573\"  \"4574\"  \"4575\"  \"4576\"  \"4577\"  \"4578\"  \"4579\"  \"4580\"  \"4581\" \n",
              " [4582] \"4582\"  \"4583\"  \"4584\"  \"4585\"  \"4586\"  \"4587\"  \"4588\"  \"4589\"  \"4590\" \n",
              " [4591] \"4591\"  \"4592\"  \"4593\"  \"4594\"  \"4595\"  \"4596\"  \"4597\"  \"4598\"  \"4599\" \n",
              " [4600] \"4600\"  \"4601\"  \"4602\"  \"4603\"  \"4604\"  \"4605\"  \"4606\"  \"4607\"  \"4608\" \n",
              " [4609] \"4609\"  \"4610\"  \"4611\"  \"4612\"  \"4613\"  \"4614\"  \"4615\"  \"4616\"  \"4617\" \n",
              " [4618] \"4618\"  \"4619\"  \"4620\"  \"4621\"  \"4622\"  \"4623\"  \"4624\"  \"4625\"  \"4626\" \n",
              " [4627] \"4627\"  \"4628\"  \"4629\"  \"4630\"  \"4631\"  \"4632\"  \"4633\"  \"4634\"  \"4635\" \n",
              " [4636] \"4636\"  \"4637\"  \"4638\"  \"4639\"  \"4640\"  \"4641\"  \"4642\"  \"4643\"  \"4644\" \n",
              " [4645] \"4645\"  \"4646\"  \"4647\"  \"4648\"  \"4649\"  \"4650\"  \"4651\"  \"4652\"  \"4653\" \n",
              " [4654] \"4654\"  \"4655\"  \"4656\"  \"4657\"  \"4658\"  \"4659\"  \"4660\"  \"4661\"  \"4662\" \n",
              " [4663] \"4663\"  \"4664\"  \"4665\"  \"4666\"  \"4667\"  \"4668\"  \"4669\"  \"4670\"  \"4671\" \n",
              " [4672] \"4672\"  \"4673\"  \"4674\"  \"4675\"  \"4676\"  \"4677\"  \"4678\"  \"4679\"  \"4680\" \n",
              " [4681] \"4681\"  \"4682\"  \"4683\"  \"4684\"  \"4685\"  \"4686\"  \"4687\"  \"4688\"  \"4689\" \n",
              " [4690] \"4690\"  \"4691\"  \"4692\"  \"4693\"  \"4694\"  \"4695\"  \"4696\"  \"4697\"  \"4698\" \n",
              " [4699] \"4699\"  \"4700\"  \"4701\"  \"4702\"  \"4703\"  \"4704\"  \"4705\"  \"4706\"  \"4707\" \n",
              " [4708] \"4708\"  \"4709\"  \"4710\"  \"4711\"  \"4712\"  \"4713\"  \"4714\"  \"4715\"  \"4716\" \n",
              " [4717] \"4717\"  \"4718\"  \"4719\"  \"4720\"  \"4721\"  \"4722\"  \"4723\"  \"4724\"  \"4725\" \n",
              " [4726] \"4726\"  \"4727\"  \"4728\"  \"4729\"  \"4730\"  \"4731\"  \"4732\"  \"4733\"  \"4734\" \n",
              " [4735] \"4735\"  \"4736\"  \"4737\"  \"4738\"  \"4739\"  \"4740\"  \"4741\"  \"4742\"  \"4743\" \n",
              " [4744] \"4744\"  \"4745\"  \"4746\"  \"4747\"  \"4748\"  \"4749\"  \"4750\"  \"4751\"  \"4752\" \n",
              " [4753] \"4753\"  \"4754\"  \"4755\"  \"4756\"  \"4757\"  \"4758\"  \"4759\"  \"4760\"  \"4761\" \n",
              " [4762] \"4762\"  \"4763\"  \"4764\"  \"4765\"  \"4766\"  \"4767\"  \"4768\"  \"4769\"  \"4770\" \n",
              " [4771] \"4771\"  \"4772\"  \"4773\"  \"4774\"  \"4775\"  \"4776\"  \"4777\"  \"4778\"  \"4779\" \n",
              " [4780] \"4780\"  \"4781\"  \"4782\"  \"4783\"  \"4784\"  \"4785\"  \"4786\"  \"4787\"  \"4788\" \n",
              " [4789] \"4789\"  \"4790\"  \"4791\"  \"4792\"  \"4793\"  \"4794\"  \"4795\"  \"4796\"  \"4797\" \n",
              " [4798] \"4798\"  \"4799\"  \"4800\"  \"4801\"  \"4802\"  \"4803\"  \"4804\"  \"4805\"  \"4806\" \n",
              " [4807] \"4807\"  \"4808\"  \"4809\"  \"4810\"  \"4811\"  \"4812\"  \"4813\"  \"4814\"  \"4815\" \n",
              " [4816] \"4816\"  \"4817\"  \"4818\"  \"4819\"  \"4820\"  \"4821\"  \"4822\"  \"4823\"  \"4824\" \n",
              " [4825] \"4825\"  \"4826\"  \"4827\"  \"4828\"  \"4829\"  \"4830\"  \"4831\"  \"4832\"  \"4833\" \n",
              " [4834] \"4834\"  \"4835\"  \"4836\"  \"4837\"  \"4838\"  \"4839\"  \"4840\"  \"4841\"  \"4842\" \n",
              " [4843] \"4843\"  \"4844\"  \"4845\"  \"4846\"  \"4847\"  \"4848\"  \"4849\"  \"4850\"  \"4851\" \n",
              " [4852] \"4852\"  \"4853\"  \"4854\"  \"4855\"  \"4856\"  \"4857\"  \"4858\"  \"4859\"  \"4860\" \n",
              " [4861] \"4861\"  \"4862\"  \"4863\"  \"4864\"  \"4865\"  \"4866\"  \"4867\"  \"4868\"  \"4869\" \n",
              " [4870] \"4870\"  \"4871\"  \"4872\"  \"4873\"  \"4874\"  \"4875\"  \"4876\"  \"4877\"  \"4878\" \n",
              " [4879] \"4879\"  \"4880\"  \"4881\"  \"4882\"  \"4883\"  \"4884\"  \"4885\"  \"4886\"  \"4887\" \n",
              " [4888] \"4888\"  \"4889\"  \"4890\"  \"4891\"  \"4892\"  \"4893\"  \"4894\"  \"4895\"  \"4896\" \n",
              " [4897] \"4897\"  \"4898\"  \"4899\"  \"4900\"  \"4901\"  \"4902\"  \"4903\"  \"4904\"  \"4905\" \n",
              " [4906] \"4906\"  \"4907\"  \"4908\"  \"4909\"  \"4910\"  \"4911\"  \"4912\"  \"4913\"  \"4914\" \n",
              " [4915] \"4915\"  \"4916\"  \"4917\"  \"4918\"  \"4919\"  \"4920\"  \"4921\"  \"4922\"  \"4923\" \n",
              " [4924] \"4924\"  \"4925\"  \"4926\"  \"4927\"  \"4928\"  \"4929\"  \"4930\"  \"4931\"  \"4932\" \n",
              " [4933] \"4933\"  \"4934\"  \"4935\"  \"4936\"  \"4937\"  \"4938\"  \"4939\"  \"4940\"  \"4941\" \n",
              " [4942] \"4942\"  \"4943\"  \"4944\"  \"4945\"  \"4946\"  \"4947\"  \"4948\"  \"4949\"  \"4950\" \n",
              " [4951] \"4951\"  \"4952\"  \"4953\"  \"4954\"  \"4955\"  \"4956\"  \"4957\"  \"4958\"  \"4959\" \n",
              " [4960] \"4960\"  \"4961\"  \"4962\"  \"4963\"  \"4964\"  \"4965\"  \"4966\"  \"4967\"  \"4968\" \n",
              " [4969] \"4969\"  \"4970\"  \"4971\"  \"4972\"  \"4973\"  \"4974\"  \"4975\"  \"4976\"  \"4977\" \n",
              " [4978] \"4978\"  \"4979\"  \"4980\"  \"4981\"  \"4982\"  \"4983\"  \"4984\"  \"4985\"  \"4986\" \n",
              " [4987] \"4987\"  \"4988\"  \"4989\"  \"4990\"  \"4991\"  \"4992\"  \"4993\"  \"4994\"  \"4995\" \n",
              " [4996] \"4996\"  \"4997\"  \"4998\"  \"4999\"  \"5000\"  \"5001\"  \"5002\"  \"5003\"  \"5004\" \n",
              " [5005] \"5005\"  \"5006\"  \"5007\"  \"5008\"  \"5009\"  \"5010\"  \"5011\"  \"5012\"  \"5013\" \n",
              " [5014] \"5014\"  \"5015\"  \"5016\"  \"5017\"  \"5018\"  \"5019\"  \"5020\"  \"5021\"  \"5022\" \n",
              " [5023] \"5023\"  \"5024\"  \"5025\"  \"5026\"  \"5027\"  \"5028\"  \"5029\"  \"5030\"  \"5031\" \n",
              " [5032] \"5032\"  \"5033\"  \"5034\"  \"5035\"  \"5036\"  \"5037\"  \"5038\"  \"5039\"  \"5040\" \n",
              " [5041] \"5041\"  \"5042\"  \"5043\"  \"5044\"  \"5045\"  \"5046\"  \"5047\"  \"5048\"  \"5049\" \n",
              " [5050] \"5050\"  \"5051\"  \"5052\"  \"5053\"  \"5054\"  \"5055\"  \"5056\"  \"5057\"  \"5058\" \n",
              " [5059] \"5059\"  \"5060\"  \"5061\"  \"5062\"  \"5063\"  \"5064\"  \"5065\"  \"5066\"  \"5067\" \n",
              " [5068] \"5068\"  \"5069\"  \"5070\"  \"5071\"  \"5072\"  \"5073\"  \"5074\"  \"5075\"  \"5076\" \n",
              " [5077] \"5077\"  \"5078\"  \"5079\"  \"5080\"  \"5081\"  \"5082\"  \"5083\"  \"5084\"  \"5085\" \n",
              " [5086] \"5086\"  \"5087\"  \"5088\"  \"5089\"  \"5090\"  \"5091\"  \"5092\"  \"5093\"  \"5094\" \n",
              " [5095] \"5095\"  \"5096\"  \"5097\"  \"5098\"  \"5099\"  \"5100\"  \"5101\"  \"5102\"  \"5103\" \n",
              " [5104] \"5104\"  \"5105\"  \"5106\"  \"5107\"  \"5108\"  \"5109\"  \"5110\"  \"5111\"  \"5112\" \n",
              " [5113] \"5113\"  \"5114\"  \"5115\"  \"5116\"  \"5117\"  \"5118\"  \"5119\"  \"5120\"  \"5121\" \n",
              " [5122] \"5122\"  \"5123\"  \"5124\"  \"5125\"  \"5126\"  \"5127\"  \"5128\"  \"5129\"  \"5130\" \n",
              " [5131] \"5131\"  \"5132\"  \"5133\"  \"5134\"  \"5135\"  \"5136\"  \"5137\"  \"5138\"  \"5139\" \n",
              " [5140] \"5140\"  \"5141\"  \"5142\"  \"5143\"  \"5144\"  \"5145\"  \"5146\"  \"5147\"  \"5148\" \n",
              " [5149] \"5149\"  \"5150\"  \"5151\"  \"5152\"  \"5153\"  \"5154\"  \"5155\"  \"5156\"  \"5157\" \n",
              " [5158] \"5158\"  \"5159\"  \"5160\"  \"5161\"  \"5162\"  \"5163\"  \"5164\"  \"5165\"  \"5166\" \n",
              " [5167] \"5167\"  \"5168\"  \"5169\"  \"5170\"  \"5171\"  \"5172\"  \"5173\"  \"5174\"  \"5175\" \n",
              " [5176] \"5176\"  \"5177\"  \"5178\"  \"5179\"  \"5180\"  \"5181\"  \"5182\"  \"5183\"  \"5184\" \n",
              " [5185] \"5185\"  \"5186\"  \"5187\"  \"5188\"  \"5189\"  \"5190\"  \"5191\"  \"5192\"  \"5193\" \n",
              " [5194] \"5194\"  \"5195\"  \"5196\"  \"5197\"  \"5198\"  \"5199\"  \"5200\"  \"5201\"  \"5202\" \n",
              " [5203] \"5203\"  \"5204\"  \"5205\"  \"5206\"  \"5207\"  \"5208\"  \"5209\"  \"5210\"  \"5211\" \n",
              " [5212] \"5212\"  \"5213\"  \"5214\"  \"5215\"  \"5216\"  \"5217\"  \"5218\"  \"5219\"  \"5220\" \n",
              " [5221] \"5221\"  \"5222\"  \"5223\"  \"5224\"  \"5225\"  \"5226\"  \"5227\"  \"5228\"  \"5229\" \n",
              " [5230] \"5230\"  \"5231\"  \"5232\"  \"5233\"  \"5234\"  \"5235\"  \"5236\"  \"5237\"  \"5238\" \n",
              " [5239] \"5239\"  \"5240\"  \"5241\"  \"5242\"  \"5243\"  \"5244\"  \"5245\"  \"5246\"  \"5247\" \n",
              " [5248] \"5248\"  \"5249\"  \"5250\"  \"5251\"  \"5252\"  \"5253\"  \"5254\"  \"5255\"  \"5256\" \n",
              " [5257] \"5257\"  \"5258\"  \"5259\"  \"5260\"  \"5261\"  \"5262\"  \"5263\"  \"5264\"  \"5265\" \n",
              " [5266] \"5266\"  \"5267\"  \"5268\"  \"5269\"  \"5270\"  \"5271\"  \"5272\"  \"5273\"  \"5274\" \n",
              " [5275] \"5275\"  \"5276\"  \"5277\"  \"5278\"  \"5279\"  \"5280\"  \"5281\"  \"5282\"  \"5283\" \n",
              " [5284] \"5284\"  \"5285\"  \"5286\"  \"5287\"  \"5288\"  \"5289\"  \"5290\"  \"5291\"  \"5292\" \n",
              " [5293] \"5293\"  \"5294\"  \"5295\"  \"5296\"  \"5297\"  \"5298\"  \"5299\"  \"5300\"  \"5301\" \n",
              " [5302] \"5302\"  \"5303\"  \"5304\"  \"5305\"  \"5306\"  \"5307\"  \"5308\"  \"5309\"  \"5310\" \n",
              " [5311] \"5311\"  \"5312\"  \"5313\"  \"5314\"  \"5315\"  \"5316\"  \"5317\"  \"5318\"  \"5319\" \n",
              " [5320] \"5320\"  \"5321\"  \"5322\"  \"5323\"  \"5324\"  \"5325\"  \"5326\"  \"5327\"  \"5328\" \n",
              " [5329] \"5329\"  \"5330\"  \"5331\"  \"5332\"  \"5333\"  \"5334\"  \"5335\"  \"5336\"  \"5337\" \n",
              " [5338] \"5338\"  \"5339\"  \"5340\"  \"5341\"  \"5342\"  \"5343\"  \"5344\"  \"5345\"  \"5346\" \n",
              " [5347] \"5347\"  \"5348\"  \"5349\"  \"5350\"  \"5351\"  \"5352\"  \"5353\"  \"5354\"  \"5355\" \n",
              " [5356] \"5356\"  \"5357\"  \"5358\"  \"5359\"  \"5360\"  \"5361\"  \"5362\"  \"5363\"  \"5364\" \n",
              " [5365] \"5365\"  \"5366\"  \"5367\"  \"5368\"  \"5369\"  \"5370\"  \"5371\"  \"5372\"  \"5373\" \n",
              " [5374] \"5374\"  \"5375\"  \"5376\"  \"5377\"  \"5378\"  \"5379\"  \"5380\"  \"5381\"  \"5382\" \n",
              " [5383] \"5383\"  \"5384\"  \"5385\"  \"5386\"  \"5387\"  \"5388\"  \"5389\"  \"5390\"  \"5391\" \n",
              " [5392] \"5392\"  \"5393\"  \"5394\"  \"5395\"  \"5396\"  \"5397\"  \"5398\"  \"5399\"  \"5400\" \n",
              " [5401] \"5401\"  \"5402\"  \"5403\"  \"5404\"  \"5405\"  \"5406\"  \"5407\"  \"5408\"  \"5409\" \n",
              " [5410] \"5410\"  \"5411\"  \"5412\"  \"5413\"  \"5414\"  \"5415\"  \"5416\"  \"5417\"  \"5418\" \n",
              " [5419] \"5419\"  \"5420\"  \"5421\"  \"5422\"  \"5423\"  \"5424\"  \"5425\"  \"5426\"  \"5427\" \n",
              " [5428] \"5428\"  \"5429\"  \"5430\"  \"5431\"  \"5432\"  \"5433\"  \"5434\"  \"5435\"  \"5436\" \n",
              " [5437] \"5437\"  \"5438\"  \"5439\"  \"5440\"  \"5441\"  \"5442\"  \"5443\"  \"5444\"  \"5445\" \n",
              " [5446] \"5446\"  \"5447\"  \"5448\"  \"5449\"  \"5450\"  \"5451\"  \"5452\"  \"5453\"  \"5454\" \n",
              " [5455] \"5455\"  \"5456\"  \"5457\"  \"5458\"  \"5459\"  \"5460\"  \"5461\"  \"5462\"  \"5463\" \n",
              " [5464] \"5464\"  \"5465\"  \"5466\"  \"5467\"  \"5468\"  \"5469\"  \"5470\"  \"5471\"  \"5472\" \n",
              " [5473] \"5473\"  \"5474\"  \"5475\"  \"5476\"  \"5477\"  \"5478\"  \"5479\"  \"5480\"  \"5481\" \n",
              " [5482] \"5482\"  \"5483\"  \"5484\"  \"5485\"  \"5486\"  \"5487\"  \"5488\"  \"5489\"  \"5490\" \n",
              " [5491] \"5491\"  \"5492\"  \"5493\"  \"5494\"  \"5495\"  \"5496\"  \"5497\"  \"5498\"  \"5499\" \n",
              " [5500] \"5500\"  \"5501\"  \"5502\"  \"5503\"  \"5504\"  \"5505\"  \"5506\"  \"5507\"  \"5508\" \n",
              " [5509] \"5509\"  \"5510\"  \"5511\"  \"5512\"  \"5513\"  \"5514\"  \"5515\"  \"5516\"  \"5517\" \n",
              " [5518] \"5518\"  \"5519\"  \"5520\"  \"5521\"  \"5522\"  \"5523\"  \"5524\"  \"5525\"  \"5526\" \n",
              " [5527] \"5527\"  \"5528\"  \"5529\"  \"5530\"  \"5531\"  \"5532\"  \"5533\"  \"5534\"  \"5535\" \n",
              " [5536] \"5536\"  \"5537\"  \"5538\"  \"5539\"  \"5540\"  \"5541\"  \"5542\"  \"5543\"  \"5544\" \n",
              " [5545] \"5545\"  \"5546\"  \"5547\"  \"5548\"  \"5549\"  \"5550\"  \"5551\"  \"5552\"  \"5553\" \n",
              " [5554] \"5554\"  \"5555\"  \"5556\"  \"5557\"  \"5558\"  \"5559\"  \"5560\"  \"5561\"  \"5562\" \n",
              " [5563] \"5563\"  \"5564\"  \"5565\"  \"5566\"  \"5567\"  \"5568\"  \"5569\"  \"5570\"  \"5571\" \n",
              " [5572] \"5572\"  \"5573\"  \"5574\"  \"5575\"  \"5576\"  \"5577\"  \"5578\"  \"5579\"  \"5580\" \n",
              " [5581] \"5581\"  \"5582\"  \"5583\"  \"5584\"  \"5585\"  \"5586\"  \"5587\"  \"5588\"  \"5589\" \n",
              " [5590] \"5590\"  \"5591\"  \"5592\"  \"5593\"  \"5594\"  \"5595\"  \"5596\"  \"5597\"  \"5598\" \n",
              " [5599] \"5599\"  \"5600\"  \"5601\"  \"5602\"  \"5603\"  \"5604\"  \"5605\"  \"5606\"  \"5607\" \n",
              " [5608] \"5608\"  \"5609\"  \"5610\"  \"5611\"  \"5612\"  \"5613\"  \"5614\"  \"5615\"  \"5616\" \n",
              " [5617] \"5617\"  \"5618\"  \"5619\"  \"5620\"  \"5621\"  \"5622\"  \"5623\"  \"5624\"  \"5625\" \n",
              " [5626] \"5626\"  \"5627\"  \"5628\"  \"5629\"  \"5630\"  \"5631\"  \"5632\"  \"5633\"  \"5634\" \n",
              " [5635] \"5635\"  \"5636\"  \"5637\"  \"5638\"  \"5639\"  \"5640\"  \"5641\"  \"5642\"  \"5643\" \n",
              " [5644] \"5644\"  \"5645\"  \"5646\"  \"5647\"  \"5648\"  \"5649\"  \"5650\"  \"5651\"  \"5652\" \n",
              " [5653] \"5653\"  \"5654\"  \"5655\"  \"5656\"  \"5657\"  \"5658\"  \"5659\"  \"5660\"  \"5661\" \n",
              " [5662] \"5662\"  \"5663\"  \"5664\"  \"5665\"  \"5666\"  \"5667\"  \"5668\"  \"5669\"  \"5670\" \n",
              " [5671] \"5671\"  \"5672\"  \"5673\"  \"5674\"  \"5675\"  \"5676\"  \"5677\"  \"5678\"  \"5679\" \n",
              " [5680] \"5680\"  \"5681\"  \"5682\"  \"5683\"  \"5684\"  \"5685\"  \"5686\"  \"5687\"  \"5688\" \n",
              " [5689] \"5689\"  \"5690\"  \"5691\"  \"5692\"  \"5693\"  \"5694\"  \"5695\"  \"5696\"  \"5697\" \n",
              " [5698] \"5698\"  \"5699\"  \"5700\"  \"5701\"  \"5702\"  \"5703\"  \"5704\"  \"5705\"  \"5706\" \n",
              " [5707] \"5707\"  \"5708\"  \"5709\"  \"5710\"  \"5711\"  \"5712\"  \"5713\"  \"5714\"  \"5715\" \n",
              " [5716] \"5716\"  \"5717\"  \"5718\"  \"5719\"  \"5720\"  \"5721\"  \"5722\"  \"5723\"  \"5724\" \n",
              " [5725] \"5725\"  \"5726\"  \"5727\"  \"5728\"  \"5729\"  \"5730\"  \"5731\"  \"5732\"  \"5733\" \n",
              " [5734] \"5734\"  \"5735\"  \"5736\"  \"5737\"  \"5738\"  \"5739\"  \"5740\"  \"5741\"  \"5742\" \n",
              " [5743] \"5743\"  \"5744\"  \"5745\"  \"5746\"  \"5747\"  \"5748\"  \"5749\"  \"5750\"  \"5751\" \n",
              " [5752] \"5752\"  \"5753\"  \"5754\"  \"5755\"  \"5756\"  \"5757\"  \"5758\"  \"5759\"  \"5760\" \n",
              " [5761] \"5761\"  \"5762\"  \"5763\"  \"5764\"  \"5765\"  \"5766\"  \"5767\"  \"5768\"  \"5769\" \n",
              " [5770] \"5770\"  \"5771\"  \"5772\"  \"5773\"  \"5774\"  \"5775\"  \"5776\"  \"5777\"  \"5778\" \n",
              " [5779] \"5779\"  \"5780\"  \"5781\"  \"5782\"  \"5783\"  \"5784\"  \"5785\"  \"5786\"  \"5787\" \n",
              " [5788] \"5788\"  \"5789\"  \"5790\"  \"5791\"  \"5792\"  \"5793\"  \"5794\"  \"5795\"  \"5796\" \n",
              " [5797] \"5797\"  \"5798\"  \"5799\"  \"5800\"  \"5801\"  \"5802\"  \"5803\"  \"5804\"  \"5805\" \n",
              " [5806] \"5806\"  \"5807\"  \"5808\"  \"5809\"  \"5810\"  \"5811\"  \"5812\"  \"5813\"  \"5814\" \n",
              " [5815] \"5815\"  \"5816\"  \"5817\"  \"5818\"  \"5819\"  \"5820\"  \"5821\"  \"5822\"  \"5823\" \n",
              " [5824] \"5824\"  \"5825\"  \"5826\"  \"5827\"  \"5828\"  \"5829\"  \"5830\"  \"5831\"  \"5832\" \n",
              " [5833] \"5833\"  \"5834\"  \"5835\"  \"5836\"  \"5837\"  \"5838\"  \"5839\"  \"5840\"  \"5841\" \n",
              " [5842] \"5842\"  \"5843\"  \"5844\"  \"5845\"  \"5846\"  \"5847\"  \"5848\"  \"5849\"  \"5850\" \n",
              " [5851] \"5851\"  \"5852\"  \"5853\"  \"5854\"  \"5855\"  \"5856\"  \"5857\"  \"5858\"  \"5859\" \n",
              " [5860] \"5860\"  \"5861\"  \"5862\"  \"5863\"  \"5864\"  \"5865\"  \"5866\"  \"5867\"  \"5868\" \n",
              " [5869] \"5869\"  \"5870\"  \"5871\"  \"5872\"  \"5873\"  \"5874\"  \"5875\"  \"5876\"  \"5877\" \n",
              " [5878] \"5878\"  \"5879\"  \"5880\"  \"5881\"  \"5882\"  \"5883\"  \"5884\"  \"5885\"  \"5886\" \n",
              " [5887] \"5887\"  \"5888\"  \"5889\"  \"5890\"  \"5891\"  \"5892\"  \"5893\"  \"5894\"  \"5895\" \n",
              " [5896] \"5896\"  \"5897\"  \"5898\"  \"5899\"  \"5900\"  \"5901\"  \"5902\"  \"5903\"  \"5904\" \n",
              " [5905] \"5905\"  \"5906\"  \"5907\"  \"5908\"  \"5909\"  \"5910\"  \"5911\"  \"5912\"  \"5913\" \n",
              " [5914] \"5914\"  \"5915\"  \"5916\"  \"5917\"  \"5918\"  \"5919\"  \"5920\"  \"5921\"  \"5922\" \n",
              " [5923] \"5923\"  \"5924\"  \"5925\"  \"5926\"  \"5927\"  \"5928\"  \"5929\"  \"5930\"  \"5931\" \n",
              " [5932] \"5932\"  \"5933\"  \"5934\"  \"5935\"  \"5936\"  \"5937\"  \"5938\"  \"5939\"  \"5940\" \n",
              " [5941] \"5941\"  \"5942\"  \"5943\"  \"5944\"  \"5945\"  \"5946\"  \"5947\"  \"5948\"  \"5949\" \n",
              " [5950] \"5950\"  \"5951\"  \"5952\"  \"5953\"  \"5954\"  \"5955\"  \"5956\"  \"5957\"  \"5958\" \n",
              " [5959] \"5959\"  \"5960\"  \"5961\"  \"5962\"  \"5963\"  \"5964\"  \"5965\"  \"5966\"  \"5967\" \n",
              " [5968] \"5968\"  \"5969\"  \"5970\"  \"5971\"  \"5972\"  \"5973\"  \"5974\"  \"5975\"  \"5976\" \n",
              " [5977] \"5977\"  \"5978\"  \"5979\"  \"5980\"  \"5981\"  \"5982\"  \"5983\"  \"5984\"  \"5985\" \n",
              " [5986] \"5986\"  \"5987\"  \"5988\"  \"5989\"  \"5990\"  \"5991\"  \"5992\"  \"5993\"  \"5994\" \n",
              " [5995] \"5995\"  \"5996\"  \"5997\"  \"5998\"  \"5999\"  \"6000\"  \"6001\"  \"6002\"  \"6003\" \n",
              " [6004] \"6004\"  \"6005\"  \"6006\"  \"6007\"  \"6008\"  \"6009\"  \"6010\"  \"6011\"  \"6012\" \n",
              " [6013] \"6013\"  \"6014\"  \"6015\"  \"6016\"  \"6017\"  \"6018\"  \"6019\"  \"6020\"  \"6021\" \n",
              " [6022] \"6022\"  \"6023\"  \"6024\"  \"6025\"  \"6026\"  \"6027\"  \"6028\"  \"6029\"  \"6030\" \n",
              " [6031] \"6031\"  \"6032\"  \"6033\"  \"6034\"  \"6035\"  \"6036\"  \"6037\"  \"6038\"  \"6039\" \n",
              " [6040] \"6040\"  \"6041\"  \"6042\"  \"6043\"  \"6044\"  \"6045\"  \"6046\"  \"6047\"  \"6048\" \n",
              " [6049] \"6049\"  \"6050\"  \"6051\"  \"6052\"  \"6053\"  \"6054\"  \"6055\"  \"6056\"  \"6057\" \n",
              " [6058] \"6058\"  \"6059\"  \"6060\"  \"6061\"  \"6062\"  \"6063\"  \"6064\"  \"6065\"  \"6066\" \n",
              " [6067] \"6067\"  \"6068\"  \"6069\"  \"6070\"  \"6071\"  \"6072\"  \"6073\"  \"6074\"  \"6075\" \n",
              " [6076] \"6076\"  \"6077\"  \"6078\"  \"6079\"  \"6080\"  \"6081\"  \"6082\"  \"6083\"  \"6084\" \n",
              " [6085] \"6085\"  \"6086\"  \"6087\"  \"6088\"  \"6089\"  \"6090\"  \"6091\"  \"6092\"  \"6093\" \n",
              " [6094] \"6094\"  \"6095\"  \"6096\"  \"6097\"  \"6098\"  \"6099\"  \"6100\"  \"6101\"  \"6102\" \n",
              " [6103] \"6103\"  \"6104\"  \"6105\"  \"6106\"  \"6107\"  \"6108\"  \"6109\"  \"6110\"  \"6111\" \n",
              " [6112] \"6112\"  \"6113\"  \"6114\"  \"6115\"  \"6116\"  \"6117\"  \"6118\"  \"6119\"  \"6120\" \n",
              " [6121] \"6121\"  \"6122\"  \"6123\"  \"6124\"  \"6125\"  \"6126\"  \"6127\"  \"6128\"  \"6129\" \n",
              " [6130] \"6130\"  \"6131\"  \"6132\"  \"6133\"  \"6134\"  \"6135\"  \"6136\"  \"6137\"  \"6138\" \n",
              " [6139] \"6139\"  \"6140\"  \"6141\"  \"6142\"  \"6143\"  \"6144\"  \"6145\"  \"6146\"  \"6147\" \n",
              " [6148] \"6148\"  \"6149\"  \"6150\"  \"6151\"  \"6152\"  \"6153\"  \"6154\"  \"6155\"  \"6156\" \n",
              " [6157] \"6157\"  \"6158\"  \"6159\"  \"6160\"  \"6161\"  \"6162\"  \"6163\"  \"6164\"  \"6165\" \n",
              " [6166] \"6166\"  \"6167\"  \"6168\"  \"6169\"  \"6170\"  \"6171\"  \"6172\"  \"6173\"  \"6174\" \n",
              " [6175] \"6175\"  \"6176\"  \"6177\"  \"6178\"  \"6179\"  \"6180\"  \"6181\"  \"6182\"  \"6183\" \n",
              " [6184] \"6184\"  \"6185\"  \"6186\"  \"6187\"  \"6188\"  \"6189\"  \"6190\"  \"6191\"  \"6192\" \n",
              " [6193] \"6193\"  \"6194\"  \"6195\"  \"6196\"  \"6197\"  \"6198\"  \"6199\"  \"6200\"  \"6201\" \n",
              " [6202] \"6202\"  \"6203\"  \"6204\"  \"6205\"  \"6206\"  \"6207\"  \"6208\"  \"6209\"  \"6210\" \n",
              " [6211] \"6211\"  \"6212\"  \"6213\"  \"6214\"  \"6215\"  \"6216\"  \"6217\"  \"6218\"  \"6219\" \n",
              " [6220] \"6220\"  \"6221\"  \"6222\"  \"6223\"  \"6224\"  \"6225\"  \"6226\"  \"6227\"  \"6228\" \n",
              " [6229] \"6229\"  \"6230\"  \"6231\"  \"6232\"  \"6233\"  \"6234\"  \"6235\"  \"6236\"  \"6237\" \n",
              " [6238] \"6238\"  \"6239\"  \"6240\"  \"6241\"  \"6242\"  \"6243\"  \"6244\"  \"6245\"  \"6246\" \n",
              " [6247] \"6247\"  \"6248\"  \"6249\"  \"6250\"  \"6251\"  \"6252\"  \"6253\"  \"6254\"  \"6255\" \n",
              " [6256] \"6256\"  \"6257\"  \"6258\"  \"6259\"  \"6260\"  \"6261\"  \"6262\"  \"6263\"  \"6264\" \n",
              " [6265] \"6265\"  \"6266\"  \"6267\"  \"6268\"  \"6269\"  \"6270\"  \"6271\"  \"6272\"  \"6273\" \n",
              " [6274] \"6274\"  \"6275\"  \"6276\"  \"6277\"  \"6278\"  \"6279\"  \"6280\"  \"6281\"  \"6282\" \n",
              " [6283] \"6283\"  \"6284\"  \"6285\"  \"6286\"  \"6287\"  \"6288\"  \"6289\"  \"6290\"  \"6291\" \n",
              " [6292] \"6292\"  \"6293\"  \"6294\"  \"6295\"  \"6296\"  \"6297\"  \"6298\"  \"6299\"  \"6300\" \n",
              " [6301] \"6301\"  \"6302\"  \"6303\"  \"6304\"  \"6305\"  \"6306\"  \"6307\"  \"6308\"  \"6309\" \n",
              " [6310] \"6310\"  \"6311\"  \"6312\"  \"6313\"  \"6314\"  \"6315\"  \"6316\"  \"6317\"  \"6318\" \n",
              " [6319] \"6319\"  \"6320\"  \"6321\"  \"6322\"  \"6323\"  \"6324\"  \"6325\"  \"6326\"  \"6327\" \n",
              " [6328] \"6328\"  \"6329\"  \"6330\"  \"6331\"  \"6332\"  \"6333\"  \"6334\"  \"6335\"  \"6336\" \n",
              " [6337] \"6337\"  \"6338\"  \"6339\"  \"6340\"  \"6341\"  \"6342\"  \"6343\"  \"6344\"  \"6345\" \n",
              " [6346] \"6346\"  \"6347\"  \"6348\"  \"6349\"  \"6350\"  \"6351\"  \"6352\"  \"6353\"  \"6354\" \n",
              " [6355] \"6355\"  \"6356\"  \"6357\"  \"6358\"  \"6359\"  \"6360\"  \"6361\"  \"6362\"  \"6363\" \n",
              " [6364] \"6364\"  \"6365\"  \"6366\"  \"6367\"  \"6368\"  \"6369\"  \"6370\"  \"6371\"  \"6372\" \n",
              " [6373] \"6373\"  \"6374\"  \"6375\"  \"6376\"  \"6377\"  \"6378\"  \"6379\"  \"6380\"  \"6381\" \n",
              " [6382] \"6382\"  \"6383\"  \"6384\"  \"6385\"  \"6386\"  \"6387\"  \"6388\"  \"6389\"  \"6390\" \n",
              " [6391] \"6391\"  \"6392\"  \"6393\"  \"6394\"  \"6395\"  \"6396\"  \"6397\"  \"6398\"  \"6399\" \n",
              " [6400] \"6400\"  \"6401\"  \"6402\"  \"6403\"  \"6404\"  \"6405\"  \"6406\"  \"6407\"  \"6408\" \n",
              " [6409] \"6409\"  \"6410\"  \"6411\"  \"6412\"  \"6413\"  \"6414\"  \"6415\"  \"6416\"  \"6417\" \n",
              " [6418] \"6418\"  \"6419\"  \"6420\"  \"6421\"  \"6422\"  \"6423\"  \"6424\"  \"6425\"  \"6426\" \n",
              " [6427] \"6427\"  \"6428\"  \"6429\"  \"6430\"  \"6431\"  \"6432\"  \"6433\"  \"6434\"  \"6435\" \n",
              " [6436] \"6436\"  \"6437\"  \"6438\"  \"6439\"  \"6440\"  \"6441\"  \"6442\"  \"6443\"  \"6444\" \n",
              " [6445] \"6445\"  \"6446\"  \"6447\"  \"6448\"  \"6449\"  \"6450\"  \"6451\"  \"6452\"  \"6453\" \n",
              " [6454] \"6454\"  \"6455\"  \"6456\"  \"6457\"  \"6458\"  \"6459\"  \"6460\"  \"6461\"  \"6462\" \n",
              " [6463] \"6463\"  \"6464\"  \"6465\"  \"6466\"  \"6467\"  \"6468\"  \"6469\"  \"6470\"  \"6471\" \n",
              " [6472] \"6472\"  \"6473\"  \"6474\"  \"6475\"  \"6476\"  \"6477\"  \"6478\"  \"6479\"  \"6480\" \n",
              " [6481] \"6481\"  \"6482\"  \"6483\"  \"6484\"  \"6485\"  \"6486\"  \"6487\"  \"6488\"  \"6489\" \n",
              " [6490] \"6490\"  \"6491\"  \"6492\"  \"6493\"  \"6494\"  \"6495\"  \"6496\"  \"6497\"  \"6498\" \n",
              " [6499] \"6499\"  \"6500\"  \"6501\"  \"6502\"  \"6503\"  \"6504\"  \"6505\"  \"6506\"  \"6507\" \n",
              " [6508] \"6508\"  \"6509\"  \"6510\"  \"6511\"  \"6512\"  \"6513\"  \"6514\"  \"6515\"  \"6516\" \n",
              " [6517] \"6517\"  \"6518\"  \"6519\"  \"6520\"  \"6521\"  \"6522\"  \"6523\"  \"6524\"  \"6525\" \n",
              " [6526] \"6526\"  \"6527\"  \"6528\"  \"6529\"  \"6530\"  \"6531\"  \"6532\"  \"6533\"  \"6534\" \n",
              " [6535] \"6535\"  \"6536\"  \"6537\"  \"6538\"  \"6539\"  \"6540\"  \"6541\"  \"6542\"  \"6543\" \n",
              " [6544] \"6544\"  \"6545\"  \"6546\"  \"6547\"  \"6548\"  \"6549\"  \"6550\"  \"6551\"  \"6552\" \n",
              " [6553] \"6553\"  \"6554\"  \"6555\"  \"6556\"  \"6557\"  \"6558\"  \"6559\"  \"6560\"  \"6561\" \n",
              " [6562] \"6562\"  \"6563\"  \"6564\"  \"6565\"  \"6566\"  \"6567\"  \"6568\"  \"6569\"  \"6570\" \n",
              " [6571] \"6571\"  \"6572\"  \"6573\"  \"6574\"  \"6575\"  \"6576\"  \"6577\"  \"6578\"  \"6579\" \n",
              " [6580] \"6580\"  \"6581\"  \"6582\"  \"6583\"  \"6584\"  \"6585\"  \"6586\"  \"6587\"  \"6588\" \n",
              " [6589] \"6589\"  \"6590\"  \"6591\"  \"6592\"  \"6593\"  \"6594\"  \"6595\"  \"6596\"  \"6597\" \n",
              " [6598] \"6598\"  \"6599\"  \"6600\"  \"6601\"  \"6602\"  \"6603\"  \"6604\"  \"6605\"  \"6606\" \n",
              " [6607] \"6607\"  \"6608\"  \"6609\"  \"6610\"  \"6611\"  \"6612\"  \"6613\"  \"6614\"  \"6615\" \n",
              " [6616] \"6616\"  \"6617\"  \"6618\"  \"6619\"  \"6620\"  \"6621\"  \"6622\"  \"6623\"  \"6624\" \n",
              " [6625] \"6625\"  \"6626\"  \"6627\"  \"6628\"  \"6629\"  \"6630\"  \"6631\"  \"6632\"  \"6633\" \n",
              " [6634] \"6634\"  \"6635\"  \"6636\"  \"6637\"  \"6638\"  \"6639\"  \"6640\"  \"6641\"  \"6642\" \n",
              " [6643] \"6643\"  \"6644\"  \"6645\"  \"6646\"  \"6647\"  \"6648\"  \"6649\"  \"6650\"  \"6651\" \n",
              " [6652] \"6652\"  \"6653\"  \"6654\"  \"6655\"  \"6656\"  \"6657\"  \"6658\"  \"6659\"  \"6660\" \n",
              " [6661] \"6661\"  \"6662\"  \"6663\"  \"6664\"  \"6665\"  \"6666\"  \"6667\"  \"6668\"  \"6669\" \n",
              " [6670] \"6670\"  \"6671\"  \"6672\"  \"6673\"  \"6674\"  \"6675\"  \"6676\"  \"6677\"  \"6678\" \n",
              " [6679] \"6679\"  \"6680\"  \"6681\"  \"6682\"  \"6683\"  \"6684\"  \"6685\"  \"6686\"  \"6687\" \n",
              " [6688] \"6688\"  \"6689\"  \"6690\"  \"6691\"  \"6692\"  \"6693\"  \"6694\"  \"6695\"  \"6696\" \n",
              " [6697] \"6697\"  \"6698\"  \"6699\"  \"6700\"  \"6701\"  \"6702\"  \"6703\"  \"6704\"  \"6705\" \n",
              " [6706] \"6706\"  \"6707\"  \"6708\"  \"6709\"  \"6710\"  \"6711\"  \"6712\"  \"6713\"  \"6714\" \n",
              " [6715] \"6715\"  \"6716\"  \"6717\"  \"6718\"  \"6719\"  \"6720\"  \"6721\"  \"6722\"  \"6723\" \n",
              " [6724] \"6724\"  \"6725\"  \"6726\"  \"6727\"  \"6728\"  \"6729\"  \"6730\"  \"6731\"  \"6732\" \n",
              " [6733] \"6733\"  \"6734\"  \"6735\"  \"6736\"  \"6737\"  \"6738\"  \"6739\"  \"6740\"  \"6741\" \n",
              " [6742] \"6742\"  \"6743\"  \"6744\"  \"6745\"  \"6746\"  \"6747\"  \"6748\"  \"6749\"  \"6750\" \n",
              " [6751] \"6751\"  \"6752\"  \"6753\"  \"6754\"  \"6755\"  \"6756\"  \"6757\"  \"6758\"  \"6759\" \n",
              " [6760] \"6760\"  \"6761\"  \"6762\"  \"6763\"  \"6764\"  \"6765\"  \"6766\"  \"6767\"  \"6768\" \n",
              " [6769] \"6769\"  \"6770\"  \"6771\"  \"6772\"  \"6773\"  \"6774\"  \"6775\"  \"6776\"  \"6777\" \n",
              " [6778] \"6778\"  \"6779\"  \"6780\"  \"6781\"  \"6782\"  \"6783\"  \"6784\"  \"6785\"  \"6786\" \n",
              " [6787] \"6787\"  \"6788\"  \"6789\"  \"6790\"  \"6791\"  \"6792\"  \"6793\"  \"6794\"  \"6795\" \n",
              " [6796] \"6796\"  \"6797\"  \"6798\"  \"6799\"  \"6800\"  \"6801\"  \"6802\"  \"6803\"  \"6804\" \n",
              " [6805] \"6805\"  \"6806\"  \"6807\"  \"6808\"  \"6809\"  \"6810\"  \"6811\"  \"6812\"  \"6813\" \n",
              " [6814] \"6814\"  \"6815\"  \"6816\"  \"6817\"  \"6818\"  \"6819\"  \"6820\"  \"6821\"  \"6822\" \n",
              " [6823] \"6823\"  \"6824\"  \"6825\"  \"6826\"  \"6827\"  \"6828\"  \"6829\"  \"6830\"  \"6831\" \n",
              " [6832] \"6832\"  \"6833\"  \"6834\"  \"6835\"  \"6836\"  \"6837\"  \"6838\"  \"6839\"  \"6840\" \n",
              " [6841] \"6841\"  \"6842\"  \"6843\"  \"6844\"  \"6845\"  \"6846\"  \"6847\"  \"6848\"  \"6849\" \n",
              " [6850] \"6850\"  \"6851\"  \"6852\"  \"6853\"  \"6854\"  \"6855\"  \"6856\"  \"6857\"  \"6858\" \n",
              " [6859] \"6859\"  \"6860\"  \"6861\"  \"6862\"  \"6863\"  \"6864\"  \"6865\"  \"6866\"  \"6867\" \n",
              " [6868] \"6868\"  \"6869\"  \"6870\"  \"6871\"  \"6872\"  \"6873\"  \"6874\"  \"6875\"  \"6876\" \n",
              " [6877] \"6877\"  \"6878\"  \"6879\"  \"6880\"  \"6881\"  \"6882\"  \"6883\"  \"6884\"  \"6885\" \n",
              " [6886] \"6886\"  \"6887\"  \"6888\"  \"6889\"  \"6890\"  \"6891\"  \"6892\"  \"6893\"  \"6894\" \n",
              " [6895] \"6895\"  \"6896\"  \"6897\"  \"6898\"  \"6899\"  \"6900\"  \"6901\"  \"6902\"  \"6903\" \n",
              " [6904] \"6904\"  \"6905\"  \"6906\"  \"6907\"  \"6908\"  \"6909\"  \"6910\"  \"6911\"  \"6912\" \n",
              " [6913] \"6913\"  \"6914\"  \"6915\"  \"6916\"  \"6917\"  \"6918\"  \"6919\"  \"6920\"  \"6921\" \n",
              " [6922] \"6922\"  \"6923\"  \"6924\"  \"6925\"  \"6926\"  \"6927\"  \"6928\"  \"6929\"  \"6930\" \n",
              " [6931] \"6931\"  \"6932\"  \"6933\"  \"6934\"  \"6935\"  \"6936\"  \"6937\"  \"6938\"  \"6939\" \n",
              " [6940] \"6940\"  \"6941\"  \"6942\"  \"6943\"  \"6944\"  \"6945\"  \"6946\"  \"6947\"  \"6948\" \n",
              " [6949] \"6949\"  \"6950\"  \"6951\"  \"6952\"  \"6953\"  \"6954\"  \"6955\"  \"6956\"  \"6957\" \n",
              " [6958] \"6958\"  \"6959\"  \"6960\"  \"6961\"  \"6962\"  \"6963\"  \"6964\"  \"6965\"  \"6966\" \n",
              " [6967] \"6967\"  \"6968\"  \"6969\"  \"6970\"  \"6971\"  \"6972\"  \"6973\"  \"6974\"  \"6975\" \n",
              " [6976] \"6976\"  \"6977\"  \"6978\"  \"6979\"  \"6980\"  \"6981\"  \"6982\"  \"6983\"  \"6984\" \n",
              " [6985] \"6985\"  \"6986\"  \"6987\"  \"6988\"  \"6989\"  \"6990\"  \"6991\"  \"6992\"  \"6993\" \n",
              " [6994] \"6994\"  \"6995\"  \"6996\"  \"6997\"  \"6998\"  \"6999\"  \"7000\"  \"7001\"  \"7002\" \n",
              " [7003] \"7003\"  \"7004\"  \"7005\"  \"7006\"  \"7007\"  \"7008\"  \"7009\"  \"7010\"  \"7011\" \n",
              " [7012] \"7012\"  \"7013\"  \"7014\"  \"7015\"  \"7016\"  \"7017\"  \"7018\"  \"7019\"  \"7020\" \n",
              " [7021] \"7021\"  \"7022\"  \"7023\"  \"7024\"  \"7025\"  \"7026\"  \"7027\"  \"7028\"  \"7029\" \n",
              " [7030] \"7030\"  \"7031\"  \"7032\"  \"7033\"  \"7034\"  \"7035\"  \"7036\"  \"7037\"  \"7038\" \n",
              " [7039] \"7039\"  \"7040\"  \"7041\"  \"7042\"  \"7043\"  \"7044\"  \"7045\"  \"7046\"  \"7047\" \n",
              " [7048] \"7048\"  \"7049\"  \"7050\"  \"7051\"  \"7052\"  \"7053\"  \"7054\"  \"7055\"  \"7056\" \n",
              " [7057] \"7057\"  \"7058\"  \"7059\"  \"7060\"  \"7061\"  \"7062\"  \"7063\"  \"7064\"  \"7065\" \n",
              " [7066] \"7066\"  \"7067\"  \"7068\"  \"7069\"  \"7070\"  \"7071\"  \"7072\"  \"7073\"  \"7074\" \n",
              " [7075] \"7075\"  \"7076\"  \"7077\"  \"7078\"  \"7079\"  \"7080\"  \"7081\"  \"7082\"  \"7083\" \n",
              " [7084] \"7084\"  \"7085\"  \"7086\"  \"7087\"  \"7088\"  \"7089\"  \"7090\"  \"7091\"  \"7092\" \n",
              " [7093] \"7093\"  \"7094\"  \"7095\"  \"7096\"  \"7097\"  \"7098\"  \"7099\"  \"7100\"  \"7101\" \n",
              " [7102] \"7102\"  \"7103\"  \"7104\"  \"7105\"  \"7106\"  \"7107\"  \"7108\"  \"7109\"  \"7110\" \n",
              " [7111] \"7111\"  \"7112\"  \"7113\"  \"7114\"  \"7115\"  \"7116\"  \"7117\"  \"7118\"  \"7119\" \n",
              " [7120] \"7120\"  \"7121\"  \"7122\"  \"7123\"  \"7124\"  \"7125\"  \"7126\"  \"7127\"  \"7128\" \n",
              " [7129] \"7129\"  \"7130\"  \"7131\"  \"7132\"  \"7133\"  \"7134\"  \"7135\"  \"7136\"  \"7137\" \n",
              " [7138] \"7138\"  \"7139\"  \"7140\"  \"7141\"  \"7142\"  \"7143\"  \"7144\"  \"7145\"  \"7146\" \n",
              " [7147] \"7147\"  \"7148\"  \"7149\"  \"7150\"  \"7151\"  \"7152\"  \"7153\"  \"7154\"  \"7155\" \n",
              " [7156] \"7156\"  \"7157\"  \"7158\"  \"7159\"  \"7160\"  \"7161\"  \"7162\"  \"7163\"  \"7164\" \n",
              " [7165] \"7165\"  \"7166\"  \"7167\"  \"7168\"  \"7169\"  \"7170\"  \"7171\"  \"7172\"  \"7173\" \n",
              " [7174] \"7174\"  \"7175\"  \"7176\"  \"7177\"  \"7178\"  \"7179\"  \"7180\"  \"7181\"  \"7182\" \n",
              " [7183] \"7183\"  \"7184\"  \"7185\"  \"7186\"  \"7187\"  \"7188\"  \"7189\"  \"7190\"  \"7191\" \n",
              " [7192] \"7192\"  \"7193\"  \"7194\"  \"7195\"  \"7196\"  \"7197\"  \"7198\"  \"7199\"  \"7200\" \n",
              " [7201] \"7201\"  \"7202\"  \"7203\"  \"7204\"  \"7205\"  \"7206\"  \"7207\"  \"7208\"  \"7209\" \n",
              " [7210] \"7210\"  \"7211\"  \"7212\"  \"7213\"  \"7214\"  \"7215\"  \"7216\"  \"7217\"  \"7218\" \n",
              " [7219] \"7219\"  \"7220\"  \"7221\"  \"7222\"  \"7223\"  \"7224\"  \"7225\"  \"7226\"  \"7227\" \n",
              " [7228] \"7228\"  \"7229\"  \"7230\"  \"7231\"  \"7232\"  \"7233\"  \"7234\"  \"7235\"  \"7236\" \n",
              " [7237] \"7237\"  \"7238\"  \"7239\"  \"7240\"  \"7241\"  \"7242\"  \"7243\"  \"7244\"  \"7245\" \n",
              " [7246] \"7246\"  \"7247\"  \"7248\"  \"7249\"  \"7250\"  \"7251\"  \"7252\"  \"7253\"  \"7254\" \n",
              " [7255] \"7255\"  \"7256\"  \"7257\"  \"7258\"  \"7259\"  \"7260\"  \"7261\"  \"7262\"  \"7263\" \n",
              " [7264] \"7264\"  \"7265\"  \"7266\"  \"7267\"  \"7268\"  \"7269\"  \"7270\"  \"7271\"  \"7272\" \n",
              " [7273] \"7273\"  \"7274\"  \"7275\"  \"7276\"  \"7277\"  \"7278\"  \"7279\"  \"7280\"  \"7281\" \n",
              " [7282] \"7282\"  \"7283\"  \"7284\"  \"7285\"  \"7286\"  \"7287\"  \"7288\"  \"7289\"  \"7290\" \n",
              " [7291] \"7291\"  \"7292\"  \"7293\"  \"7294\"  \"7295\"  \"7296\"  \"7297\"  \"7298\"  \"7299\" \n",
              " [7300] \"7300\"  \"7301\"  \"7302\"  \"7303\"  \"7304\"  \"7305\"  \"7306\"  \"7307\"  \"7308\" \n",
              " [7309] \"7309\"  \"7310\"  \"7311\"  \"7312\"  \"7313\"  \"7314\"  \"7315\"  \"7316\"  \"7317\" \n",
              " [7318] \"7318\"  \"7319\"  \"7320\"  \"7321\"  \"7322\"  \"7323\"  \"7324\"  \"7325\"  \"7326\" \n",
              " [7327] \"7327\"  \"7328\"  \"7329\"  \"7330\"  \"7331\"  \"7332\"  \"7333\"  \"7334\"  \"7335\" \n",
              " [7336] \"7336\"  \"7337\"  \"7338\"  \"7339\"  \"7340\"  \"7341\"  \"7342\"  \"7343\"  \"7344\" \n",
              " [7345] \"7345\"  \"7346\"  \"7347\"  \"7348\"  \"7349\"  \"7350\"  \"7351\"  \"7352\"  \"7353\" \n",
              " [7354] \"7354\"  \"7355\"  \"7356\"  \"7357\"  \"7358\"  \"7359\"  \"7360\"  \"7361\"  \"7362\" \n",
              " [7363] \"7363\"  \"7364\"  \"7365\"  \"7366\"  \"7367\"  \"7368\"  \"7369\"  \"7370\"  \"7371\" \n",
              " [7372] \"7372\"  \"7373\"  \"7374\"  \"7375\"  \"7376\"  \"7377\"  \"7378\"  \"7379\"  \"7380\" \n",
              " [7381] \"7381\"  \"7382\"  \"7383\"  \"7384\"  \"7385\"  \"7386\"  \"7387\"  \"7388\"  \"7389\" \n",
              " [7390] \"7390\"  \"7391\"  \"7392\"  \"7393\"  \"7394\"  \"7395\"  \"7396\"  \"7397\"  \"7398\" \n",
              " [7399] \"7399\"  \"7400\"  \"7401\"  \"7402\"  \"7403\"  \"7404\"  \"7405\"  \"7406\"  \"7407\" \n",
              " [7408] \"7408\"  \"7409\"  \"7410\"  \"7411\"  \"7412\"  \"7413\"  \"7414\"  \"7415\"  \"7416\" \n",
              " [7417] \"7417\"  \"7418\"  \"7419\"  \"7420\"  \"7421\"  \"7422\"  \"7423\"  \"7424\"  \"7425\" \n",
              " [7426] \"7426\"  \"7427\"  \"7428\"  \"7429\"  \"7430\"  \"7431\"  \"7432\"  \"7433\"  \"7434\" \n",
              " [7435] \"7435\"  \"7436\"  \"7437\"  \"7438\"  \"7439\"  \"7440\"  \"7441\"  \"7442\"  \"7443\" \n",
              " [7444] \"7444\"  \"7445\"  \"7446\"  \"7447\"  \"7448\"  \"7449\"  \"7450\"  \"7451\"  \"7452\" \n",
              " [7453] \"7453\"  \"7454\"  \"7455\"  \"7456\"  \"7457\"  \"7458\"  \"7459\"  \"7460\"  \"7461\" \n",
              " [7462] \"7462\"  \"7463\"  \"7464\"  \"7465\"  \"7466\"  \"7467\"  \"7468\"  \"7469\"  \"7470\" \n",
              " [7471] \"7471\"  \"7472\"  \"7473\"  \"7474\"  \"7475\"  \"7476\"  \"7477\"  \"7478\"  \"7479\" \n",
              " [7480] \"7480\"  \"7481\"  \"7482\"  \"7483\"  \"7484\"  \"7485\"  \"7486\"  \"7487\"  \"7488\" \n",
              " [7489] \"7489\"  \"7490\"  \"7491\"  \"7492\"  \"7493\"  \"7494\"  \"7495\"  \"7496\"  \"7497\" \n",
              " [7498] \"7498\"  \"7499\"  \"7500\"  \"7501\"  \"7502\"  \"7503\"  \"7504\"  \"7505\"  \"7506\" \n",
              " [7507] \"7507\"  \"7508\"  \"7509\"  \"7510\"  \"7511\"  \"7512\"  \"7513\"  \"7514\"  \"7515\" \n",
              " [7516] \"7516\"  \"7517\"  \"7518\"  \"7519\"  \"7520\"  \"7521\"  \"7522\"  \"7523\"  \"7524\" \n",
              " [7525] \"7525\"  \"7526\"  \"7527\"  \"7528\"  \"7529\"  \"7530\"  \"7531\"  \"7532\"  \"7533\" \n",
              " [7534] \"7534\"  \"7535\"  \"7536\"  \"7537\"  \"7538\"  \"7539\"  \"7540\"  \"7541\"  \"7542\" \n",
              " [7543] \"7543\"  \"7544\"  \"7545\"  \"7546\"  \"7547\"  \"7548\"  \"7549\"  \"7550\"  \"7551\" \n",
              " [7552] \"7552\"  \"7553\"  \"7554\"  \"7555\"  \"7556\"  \"7557\"  \"7558\"  \"7559\"  \"7560\" \n",
              " [7561] \"7561\"  \"7562\"  \"7563\"  \"7564\"  \"7565\"  \"7566\"  \"7567\"  \"7568\"  \"7569\" \n",
              " [7570] \"7570\"  \"7571\"  \"7572\"  \"7573\"  \"7574\"  \"7575\"  \"7576\"  \"7577\"  \"7578\" \n",
              " [7579] \"7579\"  \"7580\"  \"7581\"  \"7582\"  \"7583\"  \"7584\"  \"7585\"  \"7586\"  \"7587\" \n",
              " [7588] \"7588\"  \"7589\"  \"7590\"  \"7591\"  \"7592\"  \"7593\"  \"7594\"  \"7595\"  \"7596\" \n",
              " [7597] \"7597\"  \"7598\"  \"7599\"  \"7600\"  \"7601\"  \"7602\"  \"7603\"  \"7604\"  \"7605\" \n",
              " [7606] \"7606\"  \"7607\"  \"7608\"  \"7609\"  \"7610\"  \"7611\"  \"7612\"  \"7613\"  \"7614\" \n",
              " [7615] \"7615\"  \"7616\"  \"7617\"  \"7618\"  \"7619\"  \"7620\"  \"7621\"  \"7622\"  \"7623\" \n",
              " [7624] \"7624\"  \"7625\"  \"7626\"  \"7627\"  \"7628\"  \"7629\"  \"7630\"  \"7631\"  \"7632\" \n",
              " [7633] \"7633\"  \"7634\"  \"7635\"  \"7636\"  \"7637\"  \"7638\"  \"7639\"  \"7640\"  \"7641\" \n",
              " [7642] \"7642\"  \"7643\"  \"7644\"  \"7645\"  \"7646\"  \"7647\"  \"7648\"  \"7649\"  \"7650\" \n",
              " [7651] \"7651\"  \"7652\"  \"7653\"  \"7654\"  \"7655\"  \"7656\"  \"7657\"  \"7658\"  \"7659\" \n",
              " [7660] \"7660\"  \"7661\"  \"7662\"  \"7663\"  \"7664\"  \"7665\"  \"7666\"  \"7667\"  \"7668\" \n",
              " [7669] \"7669\"  \"7670\"  \"7671\"  \"7672\"  \"7673\"  \"7674\"  \"7675\"  \"7676\"  \"7677\" \n",
              " [7678] \"7678\"  \"7679\"  \"7680\"  \"7681\"  \"7682\"  \"7683\"  \"7684\"  \"7685\"  \"7686\" \n",
              " [7687] \"7687\"  \"7688\"  \"7689\"  \"7690\"  \"7691\"  \"7692\"  \"7693\"  \"7694\"  \"7695\" \n",
              " [7696] \"7696\"  \"7697\"  \"7698\"  \"7699\"  \"7700\"  \"7701\"  \"7702\"  \"7703\"  \"7704\" \n",
              " [7705] \"7705\"  \"7706\"  \"7707\"  \"7708\"  \"7709\"  \"7710\"  \"7711\"  \"7712\"  \"7713\" \n",
              " [7714] \"7714\"  \"7715\"  \"7716\"  \"7717\"  \"7718\"  \"7719\"  \"7720\"  \"7721\"  \"7722\" \n",
              " [7723] \"7723\"  \"7724\"  \"7725\"  \"7726\"  \"7727\"  \"7728\"  \"7729\"  \"7730\"  \"7731\" \n",
              " [7732] \"7732\"  \"7733\"  \"7734\"  \"7735\"  \"7736\"  \"7737\"  \"7738\"  \"7739\"  \"7740\" \n",
              " [7741] \"7741\"  \"7742\"  \"7743\"  \"7744\"  \"7745\"  \"7746\"  \"7747\"  \"7748\"  \"7749\" \n",
              " [7750] \"7750\"  \"7751\"  \"7752\"  \"7753\"  \"7754\"  \"7755\"  \"7756\"  \"7757\"  \"7758\" \n",
              " [7759] \"7759\"  \"7760\"  \"7761\"  \"7762\"  \"7763\"  \"7764\"  \"7765\"  \"7766\"  \"7767\" \n",
              " [7768] \"7768\"  \"7769\"  \"7770\"  \"7771\"  \"7772\"  \"7773\"  \"7774\"  \"7775\"  \"7776\" \n",
              " [7777] \"7777\"  \"7778\"  \"7779\"  \"7780\"  \"7781\"  \"7782\"  \"7783\"  \"7784\"  \"7785\" \n",
              " [7786] \"7786\"  \"7787\"  \"7788\"  \"7789\"  \"7790\"  \"7791\"  \"7792\"  \"7793\"  \"7794\" \n",
              " [7795] \"7795\"  \"7796\"  \"7797\"  \"7798\"  \"7799\"  \"7800\"  \"7801\"  \"7802\"  \"7803\" \n",
              " [7804] \"7804\"  \"7805\"  \"7806\"  \"7807\"  \"7808\"  \"7809\"  \"7810\"  \"7811\"  \"7812\" \n",
              " [7813] \"7813\"  \"7814\"  \"7815\"  \"7816\"  \"7817\"  \"7818\"  \"7819\"  \"7820\"  \"7821\" \n",
              " [7822] \"7822\"  \"7823\"  \"7824\"  \"7825\"  \"7826\"  \"7827\"  \"7828\"  \"7829\"  \"7830\" \n",
              " [7831] \"7831\"  \"7832\"  \"7833\"  \"7834\"  \"7835\"  \"7836\"  \"7837\"  \"7838\"  \"7839\" \n",
              " [7840] \"7840\"  \"7841\"  \"7842\"  \"7843\"  \"7844\"  \"7845\"  \"7846\"  \"7847\"  \"7848\" \n",
              " [7849] \"7849\"  \"7850\"  \"7851\"  \"7852\"  \"7853\"  \"7854\"  \"7855\"  \"7856\"  \"7857\" \n",
              " [7858] \"7858\"  \"7859\"  \"7860\"  \"7861\"  \"7862\"  \"7863\"  \"7864\"  \"7865\"  \"7866\" \n",
              " [7867] \"7867\"  \"7868\"  \"7869\"  \"7870\"  \"7871\"  \"7872\"  \"7873\"  \"7874\"  \"7875\" \n",
              " [7876] \"7876\"  \"7877\"  \"7878\"  \"7879\"  \"7880\"  \"7881\"  \"7882\"  \"7883\"  \"7884\" \n",
              " [7885] \"7885\"  \"7886\"  \"7887\"  \"7888\"  \"7889\"  \"7890\"  \"7891\"  \"7892\"  \"7893\" \n",
              " [7894] \"7894\"  \"7895\"  \"7896\"  \"7897\"  \"7898\"  \"7899\"  \"7900\"  \"7901\"  \"7902\" \n",
              " [7903] \"7903\"  \"7904\"  \"7905\"  \"7906\"  \"7907\"  \"7908\"  \"7909\"  \"7910\"  \"7911\" \n",
              " [7912] \"7912\"  \"7913\"  \"7914\"  \"7915\"  \"7916\"  \"7917\"  \"7918\"  \"7919\"  \"7920\" \n",
              " [7921] \"7921\"  \"7922\"  \"7923\"  \"7924\"  \"7925\"  \"7926\"  \"7927\"  \"7928\"  \"7929\" \n",
              " [7930] \"7930\"  \"7931\"  \"7932\"  \"7933\"  \"7934\"  \"7935\"  \"7936\"  \"7937\"  \"7938\" \n",
              " [7939] \"7939\"  \"7940\"  \"7941\"  \"7942\"  \"7943\"  \"7944\"  \"7945\"  \"7946\"  \"7947\" \n",
              " [7948] \"7948\"  \"7949\"  \"7950\"  \"7951\"  \"7952\"  \"7953\"  \"7954\"  \"7955\"  \"7956\" \n",
              " [7957] \"7957\"  \"7958\"  \"7959\"  \"7960\"  \"7961\"  \"7962\"  \"7963\"  \"7964\"  \"7965\" \n",
              " [7966] \"7966\"  \"7967\"  \"7968\"  \"7969\"  \"7970\"  \"7971\"  \"7972\"  \"7973\"  \"7974\" \n",
              " [7975] \"7975\"  \"7976\"  \"7977\"  \"7978\"  \"7979\"  \"7980\"  \"7981\"  \"7982\"  \"7983\" \n",
              " [7984] \"7984\"  \"7985\"  \"7986\"  \"7987\"  \"7988\"  \"7989\"  \"7990\"  \"7991\"  \"7992\" \n",
              " [7993] \"7993\"  \"7994\"  \"7995\"  \"7996\"  \"7997\"  \"7998\"  \"7999\"  \"8000\"  \"8001\" \n",
              " [8002] \"8002\"  \"8003\"  \"8004\"  \"8005\"  \"8006\"  \"8007\"  \"8008\"  \"8009\"  \"8010\" \n",
              " [8011] \"8011\"  \"8012\"  \"8013\"  \"8014\"  \"8015\"  \"8016\"  \"8017\"  \"8018\"  \"8019\" \n",
              " [8020] \"8020\"  \"8021\"  \"8022\"  \"8023\"  \"8024\"  \"8025\"  \"8026\"  \"8027\"  \"8028\" \n",
              " [8029] \"8029\"  \"8030\"  \"8031\"  \"8032\"  \"8033\"  \"8034\"  \"8035\"  \"8036\"  \"8037\" \n",
              " [8038] \"8038\"  \"8039\"  \"8040\"  \"8041\"  \"8042\"  \"8043\"  \"8044\"  \"8045\"  \"8046\" \n",
              " [8047] \"8047\"  \"8048\"  \"8049\"  \"8050\"  \"8051\"  \"8052\"  \"8053\"  \"8054\"  \"8055\" \n",
              " [8056] \"8056\"  \"8057\"  \"8058\"  \"8059\"  \"8060\"  \"8061\"  \"8062\"  \"8063\"  \"8064\" \n",
              " [8065] \"8065\"  \"8066\"  \"8067\"  \"8068\"  \"8069\"  \"8070\"  \"8071\"  \"8072\"  \"8073\" \n",
              " [8074] \"8074\"  \"8075\"  \"8076\"  \"8077\"  \"8078\"  \"8079\"  \"8080\"  \"8081\"  \"8082\" \n",
              " [8083] \"8083\"  \"8084\"  \"8085\"  \"8086\"  \"8087\"  \"8088\"  \"8089\"  \"8090\"  \"8091\" \n",
              " [8092] \"8092\"  \"8093\"  \"8094\"  \"8095\"  \"8096\"  \"8097\"  \"8098\"  \"8099\"  \"8100\" \n",
              " [8101] \"8101\"  \"8102\"  \"8103\"  \"8104\"  \"8105\"  \"8106\"  \"8107\"  \"8108\"  \"8109\" \n",
              " [8110] \"8110\"  \"8111\"  \"8112\"  \"8113\"  \"8114\"  \"8115\"  \"8116\"  \"8117\"  \"8118\" \n",
              " [8119] \"8119\"  \"8120\"  \"8121\"  \"8122\"  \"8123\"  \"8124\"  \"8125\"  \"8126\"  \"8127\" \n",
              " [8128] \"8128\"  \"8129\"  \"8130\"  \"8131\"  \"8132\"  \"8133\"  \"8134\"  \"8135\"  \"8136\" \n",
              " [8137] \"8137\"  \"8138\"  \"8139\"  \"8140\"  \"8141\"  \"8142\"  \"8143\"  \"8144\"  \"8145\" \n",
              " [8146] \"8146\"  \"8147\"  \"8148\"  \"8149\"  \"8150\"  \"8151\"  \"8152\"  \"8153\"  \"8154\" \n",
              " [8155] \"8155\"  \"8156\"  \"8157\"  \"8158\"  \"8159\"  \"8160\"  \"8161\"  \"8162\"  \"8163\" \n",
              " [8164] \"8164\"  \"8165\"  \"8166\"  \"8167\"  \"8168\"  \"8169\"  \"8170\"  \"8171\"  \"8172\" \n",
              " [8173] \"8173\"  \"8174\"  \"8175\"  \"8176\"  \"8177\"  \"8178\"  \"8179\"  \"8180\"  \"8181\" \n",
              " [8182] \"8182\"  \"8183\"  \"8184\"  \"8185\"  \"8186\"  \"8187\"  \"8188\"  \"8189\"  \"8190\" \n",
              " [8191] \"8191\"  \"8192\"  \"8193\"  \"8194\"  \"8195\"  \"8196\"  \"8197\"  \"8198\"  \"8199\" \n",
              " [8200] \"8200\"  \"8201\"  \"8202\"  \"8203\"  \"8204\"  \"8205\"  \"8206\"  \"8207\"  \"8208\" \n",
              " [8209] \"8209\"  \"8210\"  \"8211\"  \"8212\"  \"8213\"  \"8214\"  \"8215\"  \"8216\"  \"8217\" \n",
              " [8218] \"8218\"  \"8219\"  \"8220\"  \"8221\"  \"8222\"  \"8223\"  \"8224\"  \"8225\"  \"8226\" \n",
              " [8227] \"8227\"  \"8228\"  \"8229\"  \"8230\"  \"8231\"  \"8232\"  \"8233\"  \"8234\"  \"8235\" \n",
              " [8236] \"8236\"  \"8237\"  \"8238\"  \"8239\"  \"8240\"  \"8241\"  \"8242\"  \"8243\"  \"8244\" \n",
              " [8245] \"8245\"  \"8246\"  \"8247\"  \"8248\"  \"8249\"  \"8250\"  \"8251\"  \"8252\"  \"8253\" \n",
              " [8254] \"8254\"  \"8255\"  \"8256\"  \"8257\"  \"8258\"  \"8259\"  \"8260\"  \"8261\"  \"8262\" \n",
              " [8263] \"8263\"  \"8264\"  \"8265\"  \"8266\"  \"8267\"  \"8268\"  \"8269\"  \"8270\"  \"8271\" \n",
              " [8272] \"8272\"  \"8273\"  \"8274\"  \"8275\"  \"8276\"  \"8277\"  \"8278\"  \"8279\"  \"8280\" \n",
              " [8281] \"8281\"  \"8282\"  \"8283\"  \"8284\"  \"8285\"  \"8286\"  \"8287\"  \"8288\"  \"8289\" \n",
              " [8290] \"8290\"  \"8291\"  \"8292\"  \"8293\"  \"8294\"  \"8295\"  \"8296\"  \"8297\"  \"8298\" \n",
              " [8299] \"8299\"  \"8300\"  \"8301\"  \"8302\"  \"8303\"  \"8304\"  \"8305\"  \"8306\"  \"8307\" \n",
              " [8308] \"8308\"  \"8309\"  \"8310\"  \"8311\"  \"8312\"  \"8313\"  \"8314\"  \"8315\"  \"8316\" \n",
              " [8317] \"8317\"  \"8318\"  \"8319\"  \"8320\"  \"8321\"  \"8322\"  \"8323\"  \"8324\"  \"8325\" \n",
              " [8326] \"8326\"  \"8327\"  \"8328\"  \"8329\"  \"8330\"  \"8331\"  \"8332\"  \"8333\"  \"8334\" \n",
              " [8335] \"8335\"  \"8336\"  \"8337\"  \"8338\"  \"8339\"  \"8340\"  \"8341\"  \"8342\"  \"8343\" \n",
              " [8344] \"8344\"  \"8345\"  \"8346\"  \"8347\"  \"8348\"  \"8349\"  \"8350\"  \"8351\"  \"8352\" \n",
              " [8353] \"8353\"  \"8354\"  \"8355\"  \"8356\"  \"8357\"  \"8358\"  \"8359\"  \"8360\"  \"8361\" \n",
              " [8362] \"8362\"  \"8363\"  \"8364\"  \"8365\"  \"8366\"  \"8367\"  \"8368\"  \"8369\"  \"8370\" \n",
              " [8371] \"8371\"  \"8372\"  \"8373\"  \"8374\"  \"8375\"  \"8376\"  \"8377\"  \"8378\"  \"8379\" \n",
              " [8380] \"8380\"  \"8381\"  \"8382\"  \"8383\"  \"8384\"  \"8385\"  \"8386\"  \"8387\"  \"8388\" \n",
              " [8389] \"8389\"  \"8390\"  \"8391\"  \"8392\"  \"8393\"  \"8394\"  \"8395\"  \"8396\"  \"8397\" \n",
              " [8398] \"8398\"  \"8399\"  \"8400\"  \"8401\"  \"8402\"  \"8403\"  \"8404\"  \"8405\"  \"8406\" \n",
              " [8407] \"8407\"  \"8408\"  \"8409\"  \"8410\"  \"8411\"  \"8412\"  \"8413\"  \"8414\"  \"8415\" \n",
              " [8416] \"8416\"  \"8417\"  \"8418\"  \"8419\"  \"8420\"  \"8421\"  \"8422\"  \"8423\"  \"8424\" \n",
              " [8425] \"8425\"  \"8426\"  \"8427\"  \"8428\"  \"8429\"  \"8430\"  \"8431\"  \"8432\"  \"8433\" \n",
              " [8434] \"8434\"  \"8435\"  \"8436\"  \"8437\"  \"8438\"  \"8439\"  \"8440\"  \"8441\"  \"8442\" \n",
              " [8443] \"8443\"  \"8444\"  \"8445\"  \"8446\"  \"8447\"  \"8448\"  \"8449\"  \"8450\"  \"8451\" \n",
              " [8452] \"8452\"  \"8453\"  \"8454\"  \"8455\"  \"8456\"  \"8457\"  \"8458\"  \"8459\"  \"8460\" \n",
              " [8461] \"8461\"  \"8462\"  \"8463\"  \"8464\"  \"8465\"  \"8466\"  \"8467\"  \"8468\"  \"8469\" \n",
              " [8470] \"8470\"  \"8471\"  \"8472\"  \"8473\"  \"8474\"  \"8475\"  \"8476\"  \"8477\"  \"8478\" \n",
              " [8479] \"8479\"  \"8480\"  \"8481\"  \"8482\"  \"8483\"  \"8484\"  \"8485\"  \"8486\"  \"8487\" \n",
              " [8488] \"8488\"  \"8489\"  \"8490\"  \"8491\"  \"8492\"  \"8493\"  \"8494\"  \"8495\"  \"8496\" \n",
              " [8497] \"8497\"  \"8498\"  \"8499\"  \"8500\"  \"8501\"  \"8502\"  \"8503\"  \"8504\"  \"8505\" \n",
              " [8506] \"8506\"  \"8507\"  \"8508\"  \"8509\"  \"8510\"  \"8511\"  \"8512\"  \"8513\"  \"8514\" \n",
              " [8515] \"8515\"  \"8516\"  \"8517\"  \"8518\"  \"8519\"  \"8520\"  \"8521\"  \"8522\"  \"8523\" \n",
              " [8524] \"8524\"  \"8525\"  \"8526\"  \"8527\"  \"8528\"  \"8529\"  \"8530\"  \"8531\"  \"8532\" \n",
              " [8533] \"8533\"  \"8534\"  \"8535\"  \"8536\"  \"8537\"  \"8538\"  \"8539\"  \"8540\"  \"8541\" \n",
              " [8542] \"8542\"  \"8543\"  \"8544\"  \"8545\"  \"8546\"  \"8547\"  \"8548\"  \"8549\"  \"8550\" \n",
              " [8551] \"8551\"  \"8552\"  \"8553\"  \"8554\"  \"8555\"  \"8556\"  \"8557\"  \"8558\"  \"8559\" \n",
              " [8560] \"8560\"  \"8561\"  \"8562\"  \"8563\"  \"8564\"  \"8565\"  \"8566\"  \"8567\"  \"8568\" \n",
              " [8569] \"8569\"  \"8570\"  \"8571\"  \"8572\"  \"8573\"  \"8574\"  \"8575\"  \"8576\"  \"8577\" \n",
              " [8578] \"8578\"  \"8579\"  \"8580\"  \"8581\"  \"8582\"  \"8583\"  \"8584\"  \"8585\"  \"8586\" \n",
              " [8587] \"8587\"  \"8588\"  \"8589\"  \"8590\"  \"8591\"  \"8592\"  \"8593\"  \"8594\"  \"8595\" \n",
              " [8596] \"8596\"  \"8597\"  \"8598\"  \"8599\"  \"8600\"  \"8601\"  \"8602\"  \"8603\"  \"8604\" \n",
              " [8605] \"8605\"  \"8606\"  \"8607\"  \"8608\"  \"8609\"  \"8610\"  \"8611\"  \"8612\"  \"8613\" \n",
              " [8614] \"8614\"  \"8615\"  \"8616\"  \"8617\"  \"8618\"  \"8619\"  \"8620\"  \"8621\"  \"8622\" \n",
              " [8623] \"8623\"  \"8624\"  \"8625\"  \"8626\"  \"8627\"  \"8628\"  \"8629\"  \"8630\"  \"8631\" \n",
              " [8632] \"8632\"  \"8633\"  \"8634\"  \"8635\"  \"8636\"  \"8637\"  \"8638\"  \"8639\"  \"8640\" \n",
              " [8641] \"8641\"  \"8642\"  \"8643\"  \"8644\"  \"8645\"  \"8646\"  \"8647\"  \"8648\"  \"8649\" \n",
              " [8650] \"8650\"  \"8651\"  \"8652\"  \"8653\"  \"8654\"  \"8655\"  \"8656\"  \"8657\"  \"8658\" \n",
              " [8659] \"8659\"  \"8660\"  \"8661\"  \"8662\"  \"8663\"  \"8664\"  \"8665\"  \"8666\"  \"8667\" \n",
              " [8668] \"8668\"  \"8669\"  \"8670\"  \"8671\"  \"8672\"  \"8673\"  \"8674\"  \"8675\"  \"8676\" \n",
              " [8677] \"8677\"  \"8678\"  \"8679\"  \"8680\"  \"8681\"  \"8682\"  \"8683\"  \"8684\"  \"8685\" \n",
              " [8686] \"8686\"  \"8687\"  \"8688\"  \"8689\"  \"8690\"  \"8691\"  \"8692\"  \"8693\"  \"8694\" \n",
              " [8695] \"8695\"  \"8696\"  \"8697\"  \"8698\"  \"8699\"  \"8700\"  \"8701\"  \"8702\"  \"8703\" \n",
              " [8704] \"8704\"  \"8705\"  \"8706\"  \"8707\"  \"8708\"  \"8709\"  \"8710\"  \"8711\"  \"8712\" \n",
              " [8713] \"8713\"  \"8714\"  \"8715\"  \"8716\"  \"8717\"  \"8718\"  \"8719\"  \"8720\"  \"8721\" \n",
              " [8722] \"8722\"  \"8723\"  \"8724\"  \"8725\"  \"8726\"  \"8727\"  \"8728\"  \"8729\"  \"8730\" \n",
              " [8731] \"8731\"  \"8732\"  \"8733\"  \"8734\"  \"8735\"  \"8736\"  \"8737\"  \"8738\"  \"8739\" \n",
              " [8740] \"8740\"  \"8741\"  \"8742\"  \"8743\"  \"8744\"  \"8745\"  \"8746\"  \"8747\"  \"8748\" \n",
              " [8749] \"8749\"  \"8750\"  \"8751\"  \"8752\"  \"8753\"  \"8754\"  \"8755\"  \"8756\"  \"8757\" \n",
              " [8758] \"8758\"  \"8759\"  \"8760\"  \"8761\"  \"8762\"  \"8763\"  \"8764\"  \"8765\"  \"8766\" \n",
              " [8767] \"8767\"  \"8768\"  \"8769\"  \"8770\"  \"8771\"  \"8772\"  \"8773\"  \"8774\"  \"8775\" \n",
              " [8776] \"8776\"  \"8777\"  \"8778\"  \"8779\"  \"8780\"  \"8781\"  \"8782\"  \"8783\"  \"8784\" \n",
              " [8785] \"8785\"  \"8786\"  \"8787\"  \"8788\"  \"8789\"  \"8790\"  \"8791\"  \"8792\"  \"8793\" \n",
              " [8794] \"8794\"  \"8795\"  \"8796\"  \"8797\"  \"8798\"  \"8799\"  \"8800\"  \"8801\"  \"8802\" \n",
              " [8803] \"8803\"  \"8804\"  \"8805\"  \"8806\"  \"8807\"  \"8808\"  \"8809\"  \"8810\"  \"8811\" \n",
              " [8812] \"8812\"  \"8813\"  \"8814\"  \"8815\"  \"8816\"  \"8817\"  \"8818\"  \"8819\"  \"8820\" \n",
              " [8821] \"8821\"  \"8822\"  \"8823\"  \"8824\"  \"8825\"  \"8826\"  \"8827\"  \"8828\"  \"8829\" \n",
              " [8830] \"8830\"  \"8831\"  \"8832\"  \"8833\"  \"8834\"  \"8835\"  \"8836\"  \"8837\"  \"8838\" \n",
              " [8839] \"8839\"  \"8840\"  \"8841\"  \"8842\"  \"8843\"  \"8844\"  \"8845\"  \"8846\"  \"8847\" \n",
              " [8848] \"8848\"  \"8849\"  \"8850\"  \"8851\"  \"8852\"  \"8853\"  \"8854\"  \"8855\"  \"8856\" \n",
              " [8857] \"8857\"  \"8858\"  \"8859\"  \"8860\"  \"8861\"  \"8862\"  \"8863\"  \"8864\"  \"8865\" \n",
              " [8866] \"8866\"  \"8867\"  \"8868\"  \"8869\"  \"8870\"  \"8871\"  \"8872\"  \"8873\"  \"8874\" \n",
              " [8875] \"8875\"  \"8876\"  \"8877\"  \"8878\"  \"8879\"  \"8880\"  \"8881\"  \"8882\"  \"8883\" \n",
              " [8884] \"8884\"  \"8885\"  \"8886\"  \"8887\"  \"8888\"  \"8889\"  \"8890\"  \"8891\"  \"8892\" \n",
              " [8893] \"8893\"  \"8894\"  \"8895\"  \"8896\"  \"8897\"  \"8898\"  \"8899\"  \"8900\"  \"8901\" \n",
              " [8902] \"8902\"  \"8903\"  \"8904\"  \"8905\"  \"8906\"  \"8907\"  \"8908\"  \"8909\"  \"8910\" \n",
              " [8911] \"8911\"  \"8912\"  \"8913\"  \"8914\"  \"8915\"  \"8916\"  \"8917\"  \"8918\"  \"8919\" \n",
              " [8920] \"8920\"  \"8921\"  \"8922\"  \"8923\"  \"8924\"  \"8925\"  \"8926\"  \"8927\"  \"8928\" \n",
              " [8929] \"8929\"  \"8930\"  \"8931\"  \"8932\"  \"8933\"  \"8934\"  \"8935\"  \"8936\"  \"8937\" \n",
              " [8938] \"8938\"  \"8939\"  \"8940\"  \"8941\"  \"8942\"  \"8943\"  \"8944\"  \"8945\"  \"8946\" \n",
              " [8947] \"8947\"  \"8948\"  \"8949\"  \"8950\"  \"8951\"  \"8952\"  \"8953\"  \"8954\"  \"8955\" \n",
              " [8956] \"8956\"  \"8957\"  \"8958\"  \"8959\"  \"8960\"  \"8961\"  \"8962\"  \"8963\"  \"8964\" \n",
              " [8965] \"8965\"  \"8966\"  \"8967\"  \"8968\"  \"8969\"  \"8970\"  \"8971\"  \"8972\"  \"8973\" \n",
              " [8974] \"8974\"  \"8975\"  \"8976\"  \"8977\"  \"8978\"  \"8979\"  \"8980\"  \"8981\"  \"8982\" \n",
              " [8983] \"8983\"  \"8984\"  \"8985\"  \"8986\"  \"8987\"  \"8988\"  \"8989\"  \"8990\"  \"8991\" \n",
              " [8992] \"8992\"  \"8993\"  \"8994\"  \"8995\"  \"8996\"  \"8997\"  \"8998\"  \"8999\"  \"9000\" \n",
              " [9001] \"9001\"  \"9002\"  \"9003\"  \"9004\"  \"9005\"  \"9006\"  \"9007\"  \"9008\"  \"9009\" \n",
              " [9010] \"9010\"  \"9011\"  \"9012\"  \"9013\"  \"9014\"  \"9015\"  \"9016\"  \"9017\"  \"9018\" \n",
              " [9019] \"9019\"  \"9020\"  \"9021\"  \"9022\"  \"9023\"  \"9024\"  \"9025\"  \"9026\"  \"9027\" \n",
              " [9028] \"9028\"  \"9029\"  \"9030\"  \"9031\"  \"9032\"  \"9033\"  \"9034\"  \"9035\"  \"9036\" \n",
              " [9037] \"9037\"  \"9038\"  \"9039\"  \"9040\"  \"9041\"  \"9042\"  \"9043\"  \"9044\"  \"9045\" \n",
              " [9046] \"9046\"  \"9047\"  \"9048\"  \"9049\"  \"9050\"  \"9051\"  \"9052\"  \"9053\"  \"9054\" \n",
              " [9055] \"9055\"  \"9056\"  \"9057\"  \"9058\"  \"9059\"  \"9060\"  \"9061\"  \"9062\"  \"9063\" \n",
              " [9064] \"9064\"  \"9065\"  \"9066\"  \"9067\"  \"9068\"  \"9069\"  \"9070\"  \"9071\"  \"9072\" \n",
              " [9073] \"9073\"  \"9074\"  \"9075\"  \"9076\"  \"9077\"  \"9078\"  \"9079\"  \"9080\"  \"9081\" \n",
              " [9082] \"9082\"  \"9083\"  \"9084\"  \"9085\"  \"9086\"  \"9087\"  \"9088\"  \"9089\"  \"9090\" \n",
              " [9091] \"9091\"  \"9092\"  \"9093\"  \"9094\"  \"9095\"  \"9096\"  \"9097\"  \"9098\"  \"9099\" \n",
              " [9100] \"9100\"  \"9101\"  \"9102\"  \"9103\"  \"9104\"  \"9105\"  \"9106\"  \"9107\"  \"9108\" \n",
              " [9109] \"9109\"  \"9110\"  \"9111\"  \"9112\"  \"9113\"  \"9114\"  \"9115\"  \"9116\"  \"9117\" \n",
              " [9118] \"9118\"  \"9119\"  \"9120\"  \"9121\"  \"9122\"  \"9123\"  \"9124\"  \"9125\"  \"9126\" \n",
              " [9127] \"9127\"  \"9128\"  \"9129\"  \"9130\"  \"9131\"  \"9132\"  \"9133\"  \"9134\"  \"9135\" \n",
              " [9136] \"9136\"  \"9137\"  \"9138\"  \"9139\"  \"9140\"  \"9141\"  \"9142\"  \"9143\"  \"9144\" \n",
              " [9145] \"9145\"  \"9146\"  \"9147\"  \"9148\"  \"9149\"  \"9150\"  \"9151\"  \"9152\"  \"9153\" \n",
              " [9154] \"9154\"  \"9155\"  \"9156\"  \"9157\"  \"9158\"  \"9159\"  \"9160\"  \"9161\"  \"9162\" \n",
              " [9163] \"9163\"  \"9164\"  \"9165\"  \"9166\"  \"9167\"  \"9168\"  \"9169\"  \"9170\"  \"9171\" \n",
              " [9172] \"9172\"  \"9173\"  \"9174\"  \"9175\"  \"9176\"  \"9177\"  \"9178\"  \"9179\"  \"9180\" \n",
              " [9181] \"9181\"  \"9182\"  \"9183\"  \"9184\"  \"9185\"  \"9186\"  \"9187\"  \"9188\"  \"9189\" \n",
              " [9190] \"9190\"  \"9191\"  \"9192\"  \"9193\"  \"9194\"  \"9195\"  \"9196\"  \"9197\"  \"9198\" \n",
              " [9199] \"9199\"  \"9200\"  \"9201\"  \"9202\"  \"9203\"  \"9204\"  \"9205\"  \"9206\"  \"9207\" \n",
              " [9208] \"9208\"  \"9209\"  \"9210\"  \"9211\"  \"9212\"  \"9213\"  \"9214\"  \"9215\"  \"9216\" \n",
              " [9217] \"9217\"  \"9218\"  \"9219\"  \"9220\"  \"9221\"  \"9222\"  \"9223\"  \"9224\"  \"9225\" \n",
              " [9226] \"9226\"  \"9227\"  \"9228\"  \"9229\"  \"9230\"  \"9231\"  \"9232\"  \"9233\"  \"9234\" \n",
              " [9235] \"9235\"  \"9236\"  \"9237\"  \"9238\"  \"9239\"  \"9240\"  \"9241\"  \"9242\"  \"9243\" \n",
              " [9244] \"9244\"  \"9245\"  \"9246\"  \"9247\"  \"9248\"  \"9249\"  \"9250\"  \"9251\"  \"9252\" \n",
              " [9253] \"9253\"  \"9254\"  \"9255\"  \"9256\"  \"9257\"  \"9258\"  \"9259\"  \"9260\"  \"9261\" \n",
              " [9262] \"9262\"  \"9263\"  \"9264\"  \"9265\"  \"9266\"  \"9267\"  \"9268\"  \"9269\"  \"9270\" \n",
              " [9271] \"9271\"  \"9272\"  \"9273\"  \"9274\"  \"9275\"  \"9276\"  \"9277\"  \"9278\"  \"9279\" \n",
              " [9280] \"9280\"  \"9281\"  \"9282\"  \"9283\"  \"9284\"  \"9285\"  \"9286\"  \"9287\"  \"9288\" \n",
              " [9289] \"9289\"  \"9290\"  \"9291\"  \"9292\"  \"9293\"  \"9294\"  \"9295\"  \"9296\"  \"9297\" \n",
              " [9298] \"9298\"  \"9299\"  \"9300\"  \"9301\"  \"9302\"  \"9303\"  \"9304\"  \"9305\"  \"9306\" \n",
              " [9307] \"9307\"  \"9308\"  \"9309\"  \"9310\"  \"9311\"  \"9312\"  \"9313\"  \"9314\"  \"9315\" \n",
              " [9316] \"9316\"  \"9317\"  \"9318\"  \"9319\"  \"9320\"  \"9321\"  \"9322\"  \"9323\"  \"9324\" \n",
              " [9325] \"9325\"  \"9326\"  \"9327\"  \"9328\"  \"9329\"  \"9330\"  \"9331\"  \"9332\"  \"9333\" \n",
              " [9334] \"9334\"  \"9335\"  \"9336\"  \"9337\"  \"9338\"  \"9339\"  \"9340\"  \"9341\"  \"9342\" \n",
              " [9343] \"9343\"  \"9344\"  \"9345\"  \"9346\"  \"9347\"  \"9348\"  \"9349\"  \"9350\"  \"9351\" \n",
              " [9352] \"9352\"  \"9353\"  \"9354\"  \"9355\"  \"9356\"  \"9357\"  \"9358\"  \"9359\"  \"9360\" \n",
              " [9361] \"9361\"  \"9362\"  \"9363\"  \"9364\"  \"9365\"  \"9366\"  \"9367\"  \"9368\"  \"9369\" \n",
              " [9370] \"9370\"  \"9371\"  \"9372\"  \"9373\"  \"9374\"  \"9375\"  \"9376\"  \"9377\"  \"9378\" \n",
              " [9379] \"9379\"  \"9380\"  \"9381\"  \"9382\"  \"9383\"  \"9384\"  \"9385\"  \"9386\"  \"9387\" \n",
              " [9388] \"9388\"  \"9389\"  \"9390\"  \"9391\"  \"9392\"  \"9393\"  \"9394\"  \"9395\"  \"9396\" \n",
              " [9397] \"9397\"  \"9398\"  \"9399\"  \"9400\"  \"9401\"  \"9402\"  \"9403\"  \"9404\"  \"9405\" \n",
              " [9406] \"9406\"  \"9407\"  \"9408\"  \"9409\"  \"9410\"  \"9411\"  \"9412\"  \"9413\"  \"9414\" \n",
              " [9415] \"9415\"  \"9416\"  \"9417\"  \"9418\"  \"9419\"  \"9420\"  \"9421\"  \"9422\"  \"9423\" \n",
              " [9424] \"9424\"  \"9425\"  \"9426\"  \"9427\"  \"9428\"  \"9429\"  \"9430\"  \"9431\"  \"9432\" \n",
              " [9433] \"9433\"  \"9434\"  \"9435\"  \"9436\"  \"9437\"  \"9438\"  \"9439\"  \"9440\"  \"9441\" \n",
              " [9442] \"9442\"  \"9443\"  \"9444\"  \"9445\"  \"9446\"  \"9447\"  \"9448\"  \"9449\"  \"9450\" \n",
              " [9451] \"9451\"  \"9452\"  \"9453\"  \"9454\"  \"9455\"  \"9456\"  \"9457\"  \"9458\"  \"9459\" \n",
              " [9460] \"9460\"  \"9461\"  \"9462\"  \"9463\"  \"9464\"  \"9465\"  \"9466\"  \"9467\"  \"9468\" \n",
              " [9469] \"9469\"  \"9470\"  \"9471\"  \"9472\"  \"9473\"  \"9474\"  \"9475\"  \"9476\"  \"9477\" \n",
              " [9478] \"9478\"  \"9479\"  \"9480\"  \"9481\"  \"9482\"  \"9483\"  \"9484\"  \"9485\"  \"9486\" \n",
              " [9487] \"9487\"  \"9488\"  \"9489\"  \"9490\"  \"9491\"  \"9492\"  \"9493\"  \"9494\"  \"9495\" \n",
              " [9496] \"9496\"  \"9497\"  \"9498\"  \"9499\"  \"9500\"  \"9501\"  \"9502\"  \"9503\"  \"9504\" \n",
              " [9505] \"9505\"  \"9506\"  \"9507\"  \"9508\"  \"9509\"  \"9510\"  \"9511\"  \"9512\"  \"9513\" \n",
              " [9514] \"9514\"  \"9515\"  \"9516\"  \"9517\"  \"9518\"  \"9519\"  \"9520\"  \"9521\"  \"9522\" \n",
              " [9523] \"9523\"  \"9524\"  \"9525\"  \"9526\"  \"9527\"  \"9528\"  \"9529\"  \"9530\"  \"9531\" \n",
              " [9532] \"9532\"  \"9533\"  \"9534\"  \"9535\"  \"9536\"  \"9537\"  \"9538\"  \"9539\"  \"9540\" \n",
              " [9541] \"9541\"  \"9542\"  \"9543\"  \"9544\"  \"9545\"  \"9546\"  \"9547\"  \"9548\"  \"9549\" \n",
              " [9550] \"9550\"  \"9551\"  \"9552\"  \"9553\"  \"9554\"  \"9555\"  \"9556\"  \"9557\"  \"9558\" \n",
              " [9559] \"9559\"  \"9560\"  \"9561\"  \"9562\"  \"9563\"  \"9564\"  \"9565\"  \"9566\"  \"9567\" \n",
              " [9568] \"9568\"  \"9569\"  \"9570\"  \"9571\"  \"9572\"  \"9573\"  \"9574\"  \"9575\"  \"9576\" \n",
              " [9577] \"9577\"  \"9578\"  \"9579\"  \"9580\"  \"9581\"  \"9582\"  \"9583\"  \"9584\"  \"9585\" \n",
              " [9586] \"9586\"  \"9587\"  \"9588\"  \"9589\"  \"9590\"  \"9591\"  \"9592\"  \"9593\"  \"9594\" \n",
              " [9595] \"9595\"  \"9596\"  \"9597\"  \"9598\"  \"9599\"  \"9600\"  \"9601\"  \"9602\"  \"9603\" \n",
              " [9604] \"9604\"  \"9605\"  \"9606\"  \"9607\"  \"9608\"  \"9609\"  \"9610\"  \"9611\"  \"9612\" \n",
              " [9613] \"9613\"  \"9614\"  \"9615\"  \"9616\"  \"9617\"  \"9618\"  \"9619\"  \"9620\"  \"9621\" \n",
              " [9622] \"9622\"  \"9623\"  \"9624\"  \"9625\"  \"9626\"  \"9627\"  \"9628\"  \"9629\"  \"9630\" \n",
              " [9631] \"9631\"  \"9632\"  \"9633\"  \"9634\"  \"9635\"  \"9636\"  \"9637\"  \"9638\"  \"9639\" \n",
              " [9640] \"9640\"  \"9641\"  \"9642\"  \"9643\"  \"9644\"  \"9645\"  \"9646\"  \"9647\"  \"9648\" \n",
              " [9649] \"9649\"  \"9650\"  \"9651\"  \"9652\"  \"9653\"  \"9654\"  \"9655\"  \"9656\"  \"9657\" \n",
              " [9658] \"9658\"  \"9659\"  \"9660\"  \"9661\"  \"9662\"  \"9663\"  \"9664\"  \"9665\"  \"9666\" \n",
              " [9667] \"9667\"  \"9668\"  \"9669\"  \"9670\"  \"9671\"  \"9672\"  \"9673\"  \"9674\"  \"9675\" \n",
              " [9676] \"9676\"  \"9677\"  \"9678\"  \"9679\"  \"9680\"  \"9681\"  \"9682\"  \"9683\"  \"9684\" \n",
              " [9685] \"9685\"  \"9686\"  \"9687\"  \"9688\"  \"9689\"  \"9690\"  \"9691\"  \"9692\"  \"9693\" \n",
              " [9694] \"9694\"  \"9695\"  \"9696\"  \"9697\"  \"9698\"  \"9699\"  \"9700\"  \"9701\"  \"9702\" \n",
              " [9703] \"9703\"  \"9704\"  \"9705\"  \"9706\"  \"9707\"  \"9708\"  \"9709\"  \"9710\"  \"9711\" \n",
              " [9712] \"9712\"  \"9713\"  \"9714\"  \"9715\"  \"9716\"  \"9717\"  \"9718\"  \"9719\"  \"9720\" \n",
              " [9721] \"9721\"  \"9722\"  \"9723\"  \"9724\"  \"9725\"  \"9726\"  \"9727\"  \"9728\"  \"9729\" \n",
              " [9730] \"9730\"  \"9731\"  \"9732\"  \"9733\"  \"9734\"  \"9735\"  \"9736\"  \"9737\"  \"9738\" \n",
              " [9739] \"9739\"  \"9740\"  \"9741\"  \"9742\"  \"9743\"  \"9744\"  \"9745\"  \"9746\"  \"9747\" \n",
              " [9748] \"9748\"  \"9749\"  \"9750\"  \"9751\"  \"9752\"  \"9753\"  \"9754\"  \"9755\"  \"9756\" \n",
              " [9757] \"9757\"  \"9758\"  \"9759\"  \"9760\"  \"9761\"  \"9762\"  \"9763\"  \"9764\"  \"9765\" \n",
              " [9766] \"9766\"  \"9767\"  \"9768\"  \"9769\"  \"9770\"  \"9771\"  \"9772\"  \"9773\"  \"9774\" \n",
              " [9775] \"9775\"  \"9776\"  \"9777\"  \"9778\"  \"9779\"  \"9780\"  \"9781\"  \"9782\"  \"9783\" \n",
              " [9784] \"9784\"  \"9785\"  \"9786\"  \"9787\"  \"9788\"  \"9789\"  \"9790\"  \"9791\"  \"9792\" \n",
              " [9793] \"9793\"  \"9794\"  \"9795\"  \"9796\"  \"9797\"  \"9798\"  \"9799\"  \"9800\"  \"9801\" \n",
              " [9802] \"9802\"  \"9803\"  \"9804\"  \"9805\"  \"9806\"  \"9807\"  \"9808\"  \"9809\"  \"9810\" \n",
              " [9811] \"9811\"  \"9812\"  \"9813\"  \"9814\"  \"9815\"  \"9816\"  \"9817\"  \"9818\"  \"9819\" \n",
              " [9820] \"9820\"  \"9821\"  \"9822\"  \"9823\"  \"9824\"  \"9825\"  \"9826\"  \"9827\"  \"9828\" \n",
              " [9829] \"9829\"  \"9830\"  \"9831\"  \"9832\"  \"9833\"  \"9834\"  \"9835\"  \"9836\"  \"9837\" \n",
              " [9838] \"9838\"  \"9839\"  \"9840\"  \"9841\"  \"9842\"  \"9843\"  \"9844\"  \"9845\"  \"9846\" \n",
              " [9847] \"9847\"  \"9848\"  \"9849\"  \"9850\"  \"9851\"  \"9852\"  \"9853\"  \"9854\"  \"9855\" \n",
              " [9856] \"9856\"  \"9857\"  \"9858\"  \"9859\"  \"9860\"  \"9861\"  \"9862\"  \"9863\"  \"9864\" \n",
              " [9865] \"9865\"  \"9866\"  \"9867\"  \"9868\"  \"9869\"  \"9870\"  \"9871\"  \"9872\"  \"9873\" \n",
              " [9874] \"9874\"  \"9875\"  \"9876\"  \"9877\"  \"9878\"  \"9879\"  \"9880\"  \"9881\"  \"9882\" \n",
              " [9883] \"9883\"  \"9884\"  \"9885\"  \"9886\"  \"9887\"  \"9888\"  \"9889\"  \"9890\"  \"9891\" \n",
              " [9892] \"9892\"  \"9893\"  \"9894\"  \"9895\"  \"9896\"  \"9897\"  \"9898\"  \"9899\"  \"9900\" \n",
              " [9901] \"9901\"  \"9902\"  \"9903\"  \"9904\"  \"9905\"  \"9906\"  \"9907\"  \"9908\"  \"9909\" \n",
              " [9910] \"9910\"  \"9911\"  \"9912\"  \"9913\"  \"9914\"  \"9915\"  \"9916\"  \"9917\"  \"9918\" \n",
              " [9919] \"9919\"  \"9920\"  \"9921\"  \"9922\"  \"9923\"  \"9924\"  \"9925\"  \"9926\"  \"9927\" \n",
              " [9928] \"9928\"  \"9929\"  \"9930\"  \"9931\"  \"9932\"  \"9933\"  \"9934\"  \"9935\"  \"9936\" \n",
              " [9937] \"9937\"  \"9938\"  \"9939\"  \"9940\"  \"9941\"  \"9942\"  \"9943\"  \"9944\"  \"9945\" \n",
              " [9946] \"9946\"  \"9947\"  \"9948\"  \"9949\"  \"9950\"  \"9951\"  \"9952\"  \"9953\"  \"9954\" \n",
              " [9955] \"9955\"  \"9956\"  \"9957\"  \"9958\"  \"9959\"  \"9960\"  \"9961\"  \"9962\"  \"9963\" \n",
              " [9964] \"9964\"  \"9965\"  \"9966\"  \"9967\"  \"9968\"  \"9969\"  \"9970\"  \"9971\"  \"9972\" \n",
              " [9973] \"9973\"  \"9974\"  \"9975\"  \"9976\"  \"9977\"  \"9978\"  \"9979\"  \"9980\"  \"9981\" \n",
              " [9982] \"9982\"  \"9983\"  \"9984\"  \"9985\"  \"9986\"  \"9987\"  \"9988\"  \"9989\"  \"9990\" \n",
              " [9991] \"9991\"  \"9992\"  \"9993\"  \"9994\"  \"9995\"  \"9996\"  \"9997\"  \"9998\"  \"9999\" \n",
              "[10000] \"10000\" \"10001\" \"10002\" \"10003\" \"10004\" \"10005\" \"10006\" \"10007\" \"10008\"\n",
              "[10009] \"10009\" \"10010\" \"10011\" \"10012\" \"10013\" \"10014\" \"10015\" \"10016\" \"10017\"\n",
              "[10018] \"10018\" \"10019\" \"10020\" \"10021\" \"10022\" \"10023\" \"10024\" \"10025\" \"10026\"\n",
              "[10027] \"10027\" \"10028\" \"10029\" \"10030\" \"10031\" \"10032\" \"10033\" \"10034\" \"10035\"\n",
              "[10036] \"10036\" \"10037\" \"10038\" \"10039\" \"10040\" \"10041\" \"10042\" \"10043\" \"10044\"\n",
              "[10045] \"10045\" \"10046\" \"10047\" \"10048\" \"10049\" \"10050\" \"10051\" \"10052\" \"10053\"\n",
              "[10054] \"10054\" \"10055\" \"10056\" \"10057\" \"10058\" \"10059\" \"10060\" \"10061\" \"10062\"\n",
              "[10063] \"10063\" \"10064\" \"10065\" \"10066\" \"10067\" \"10068\" \"10069\" \"10070\" \"10071\"\n",
              "[10072] \"10072\" \"10073\" \"10074\" \"10075\" \"10076\" \"10077\" \"10078\" \"10079\" \"10080\"\n",
              "[10081] \"10081\" \"10082\" \"10083\" \"10084\" \"10085\" \"10086\" \"10087\" \"10088\" \"10089\"\n",
              "[10090] \"10090\" \"10091\" \"10092\" \"10093\" \"10094\" \"10095\" \"10096\" \"10097\" \"10098\"\n",
              "[10099] \"10099\" \"10100\" \"10101\" \"10102\" \"10103\" \"10104\" \"10105\" \"10106\" \"10107\"\n",
              "[10108] \"10108\" \"10109\" \"10110\" \"10111\" \"10112\" \"10113\" \"10114\" \"10115\" \"10116\"\n",
              "[10117] \"10117\" \"10118\" \"10119\" \"10120\" \"10121\" \"10122\" \"10123\" \"10124\" \"10125\"\n",
              "[10126] \"10126\" \"10127\" \"10128\" \"10129\" \"10130\" \"10131\" \"10132\" \"10133\" \"10134\"\n",
              "[10135] \"10135\" \"10136\" \"10137\" \"10138\" \"10139\" \"10140\" \"10141\" \"10142\" \"10143\"\n",
              "[10144] \"10144\" \"10145\" \"10146\" \"10147\" \"10148\" \"10149\" \"10150\" \"10151\" \"10152\"\n",
              "[10153] \"10153\" \"10154\" \"10155\" \"10156\" \"10157\" \"10158\" \"10159\" \"10160\" \"10161\"\n",
              "[10162] \"10162\" \"10163\" \"10164\" \"10165\" \"10166\" \"10167\" \"10168\" \"10169\" \"10170\"\n",
              "[10171] \"10171\" \"10172\" \"10173\" \"10174\" \"10175\" \"10176\" \"10177\" \"10178\" \"10179\"\n",
              "[10180] \"10180\" \"10181\" \"10182\" \"10183\" \"10184\" \"10185\" \"10186\" \"10187\" \"10188\"\n",
              "[10189] \"10189\" \"10190\" \"10191\" \"10192\" \"10193\" \"10194\" \"10195\" \"10196\" \"10197\"\n",
              "[10198] \"10198\" \"10199\" \"10200\" \"10201\" \"10202\" \"10203\" \"10204\" \"10205\" \"10206\"\n",
              "[10207] \"10207\" \"10208\" \"10209\" \"10210\" \"10211\" \"10212\" \"10213\" \"10214\" \"10215\"\n",
              "[10216] \"10216\" \"10217\" \"10218\" \"10219\" \"10220\" \"10221\" \"10222\" \"10223\" \"10224\"\n",
              "[10225] \"10225\" \"10226\" \"10227\" \"10228\" \"10229\" \"10230\" \"10231\" \"10232\" \"10233\"\n",
              "[10234] \"10234\" \"10235\" \"10236\" \"10237\" \"10238\" \"10239\" \"10240\" \"10241\" \"10242\"\n",
              "[10243] \"10243\" \"10244\" \"10245\" \"10246\" \"10247\" \"10248\" \"10249\" \"10250\" \"10251\"\n",
              "[10252] \"10252\" \"10253\" \"10254\" \"10255\" \"10256\" \"10257\" \"10258\" \"10259\" \"10260\"\n",
              "[10261] \"10261\" \"10262\" \"10263\" \"10264\" \"10265\" \"10266\" \"10267\" \"10268\" \"10269\"\n",
              "[10270] \"10270\" \"10271\" \"10272\" \"10273\" \"10274\" \"10275\" \"10276\" \"10277\" \"10278\"\n",
              "[10279] \"10279\" \"10280\" \"10281\" \"10282\" \"10283\" \"10284\" \"10285\" \"10286\" \"10287\"\n",
              "[10288] \"10288\" \"10289\" \"10290\" \"10291\" \"10292\" \"10293\" \"10294\" \"10295\" \"10296\"\n",
              "[10297] \"10297\" \"10298\" \"10299\" \"10300\" \"10301\" \"10302\" \"10303\" \"10304\" \"10305\"\n",
              "[10306] \"10306\" \"10307\" \"10308\" \"10309\" \"10310\" \"10311\" \"10312\" \"10313\" \"10314\"\n",
              "[10315] \"10315\" \"10316\" \"10317\" \"10318\" \"10319\" \"10320\" \"10321\" \"10322\" \"10323\"\n",
              "[10324] \"10324\" \"10325\" \"10326\" \"10327\" \"10328\" \"10329\" \"10330\" \"10331\" \"10332\"\n",
              "[10333] \"10333\" \"10334\" \"10335\" \"10336\" \"10337\" \"10338\" \"10339\" \"10340\" \"10341\"\n",
              "[10342] \"10342\" \"10343\" \"10344\" \"10345\" \"10346\" \"10347\" \"10348\" \"10349\" \"10350\"\n",
              "[10351] \"10351\" \"10352\" \"10353\" \"10354\" \"10355\" \"10356\" \"10357\" \"10358\" \"10359\"\n",
              "[10360] \"10360\" \"10361\" \"10362\" \"10363\" \"10364\" \"10365\" \"10366\" \"10367\" \"10368\"\n",
              "[10369] \"10369\" \"10370\" \"10371\" \"10372\" \"10373\" \"10374\" \"10375\" \"10376\" \"10377\"\n",
              "[10378] \"10378\" \"10379\" \"10380\" \"10381\" \"10382\" \"10383\" \"10384\" \"10385\" \"10386\"\n",
              "[10387] \"10387\" \"10388\" \"10389\" \"10390\" \"10391\" \"10392\" \"10393\" \"10394\" \"10395\"\n",
              "[10396] \"10396\" \"10397\" \"10398\" \"10399\" \"10400\" \"10401\" \"10402\" \"10403\" \"10404\"\n",
              "[10405] \"10405\" \"10406\" \"10407\" \"10408\" \"10409\" \"10410\" \"10411\" \"10412\" \"10413\"\n",
              "[10414] \"10414\" \"10415\" \"10416\" \"10417\" \"10418\" \"10419\" \"10420\" \"10421\" \"10422\"\n",
              "[10423] \"10423\" \"10424\" \"10425\" \"10426\" \"10427\" \"10428\" \"10429\" \"10430\" \"10431\"\n",
              "[10432] \"10432\" \"10433\" \"10434\" \"10435\" \"10436\" \"10437\" \"10438\" \"10439\" \"10440\"\n",
              "[10441] \"10441\" \"10442\" \"10443\" \"10444\" \"10445\" \"10446\" \"10447\" \"10448\" \"10449\"\n",
              "[10450] \"10450\" \"10451\" \"10452\" \"10453\" \"10454\" \"10455\" \"10456\" \"10457\" \"10458\"\n",
              "[10459] \"10459\" \"10460\" \"10461\" \"10462\" \"10463\" \"10464\" \"10465\" \"10466\" \"10467\"\n",
              "[10468] \"10468\" \"10469\" \"10470\" \"10471\" \"10472\" \"10473\" \"10474\" \"10475\" \"10476\"\n",
              "[10477] \"10477\" \"10478\" \"10479\" \"10480\" \"10481\" \"10482\" \"10483\" \"10484\" \"10485\"\n",
              "[10486] \"10486\" \"10487\" \"10488\" \"10489\" \"10490\" \"10491\" \"10492\" \"10493\" \"10494\"\n",
              "[10495] \"10495\" \"10496\" \"10497\" \"10498\" \"10499\" \"10500\" \"10501\" \"10502\" \"10503\"\n",
              "[10504] \"10504\" \"10505\" \"10506\" \"10507\" \"10508\" \"10509\" \"10510\" \"10511\" \"10512\"\n",
              "[10513] \"10513\" \"10514\" \"10515\" \"10516\" \"10517\" \"10518\" \"10519\" \"10520\" \"10521\"\n",
              "[10522] \"10522\" \"10523\" \"10524\" \"10525\" \"10526\" \"10527\" \"10528\" \"10529\" \"10530\"\n",
              "[10531] \"10531\" \"10532\" \"10533\" \"10534\" \"10535\" \"10536\" \"10537\" \"10538\" \"10539\"\n",
              "[10540] \"10540\" \"10541\" \"10542\" \"10543\" \"10544\" \"10545\" \"10546\" \"10547\" \"10548\"\n",
              "[10549] \"10549\" \"10550\" \"10551\" \"10552\" \"10553\" \"10554\" \"10555\" \"10556\" \"10557\"\n",
              "[10558] \"10558\" \"10559\" \"10560\" \"10561\" \"10562\" \"10563\" \"10564\" \"10565\" \"10566\"\n",
              "[10567] \"10567\" \"10568\" \"10569\" \"10570\" \"10571\" \"10572\" \"10573\" \"10574\" \"10575\"\n",
              "[10576] \"10576\" \"10577\" \"10578\" \"10579\" \"10580\" \"10581\" \"10582\" \"10583\" \"10584\"\n",
              "[10585] \"10585\" \"10586\" \"10587\" \"10588\" \"10589\" \"10590\" \"10591\" \"10592\" \"10593\"\n",
              "[10594] \"10594\" \"10595\" \"10596\" \"10597\" \"10598\" \"10599\" \"10600\" \"10601\" \"10602\"\n",
              "[10603] \"10603\" \"10604\" \"10605\" \"10606\" \"10607\" \"10608\" \"10609\" \"10610\" \"10611\"\n",
              "[10612] \"10612\" \"10613\" \"10614\" \"10615\" \"10616\" \"10617\" \"10618\" \"10619\" \"10620\"\n",
              "[10621] \"10621\" \"10622\" \"10623\" \"10624\" \"10625\" \"10626\" \"10627\" \"10628\" \"10629\"\n",
              "[10630] \"10630\" \"10631\" \"10632\" \"10633\" \"10634\" \"10635\" \"10636\" \"10637\" \"10638\"\n",
              "[10639] \"10639\" \"10640\" \"10641\" \"10642\" \"10643\" \"10644\" \"10645\" \"10646\" \"10647\"\n",
              "[10648] \"10648\" \"10649\" \"10650\" \"10651\" \"10652\" \"10653\" \"10654\" \"10655\" \"10656\"\n",
              "[10657] \"10657\" \"10658\" \"10659\" \"10660\" \"10661\" \"10662\" \"10663\" \"10664\" \"10665\"\n",
              "[10666] \"10666\" \"10667\" \"10668\" \"10669\" \"10670\" \"10671\" \"10672\" \"10673\" \"10674\"\n",
              "[10675] \"10675\" \"10676\" \"10677\" \"10678\" \"10679\" \"10680\" \"10681\" \"10682\" \"10683\"\n",
              "[10684] \"10684\" \"10685\" \"10686\" \"10687\" \"10688\" \"10689\" \"10690\" \"10691\" \"10692\"\n",
              "[10693] \"10693\" \"10694\" \"10695\" \"10696\" \"10697\" \"10698\" \"10699\" \"10700\" \"10701\"\n",
              "[10702] \"10702\" \"10703\" \"10704\" \"10705\" \"10706\" \"10707\" \"10708\" \"10709\" \"10710\"\n",
              "[10711] \"10711\" \"10712\" \"10713\" \"10714\" \"10715\" \"10716\" \"10717\" \"10718\" \"10719\"\n",
              "[10720] \"10720\" \"10721\" \"10722\" \"10723\" \"10724\" \"10725\" \"10726\" \"10727\" \"10728\"\n",
              "[10729] \"10729\" \"10730\" \"10731\" \"10732\" \"10733\" \"10734\" \"10735\" \"10736\" \"10737\"\n",
              "[10738] \"10738\" \"10739\" \"10740\" \"10741\" \"10742\" \"10743\" \"10744\" \"10745\" \"10746\"\n",
              "[10747] \"10747\" \"10748\" \"10749\" \"10750\" \"10751\" \"10752\" \"10753\" \"10754\" \"10755\"\n",
              "[10756] \"10756\" \"10757\" \"10758\" \"10759\" \"10760\" \"10761\" \"10762\" \"10763\" \"10764\"\n",
              "[10765] \"10765\" \"10766\" \"10767\" \"10768\" \"10769\" \"10770\" \"10771\" \"10772\" \"10773\"\n",
              "[10774] \"10774\" \"10775\" \"10776\" \"10777\" \"10778\" \"10779\" \"10780\" \"10781\" \"10782\"\n",
              "[10783] \"10783\" \"10784\" \"10785\" \"10786\" \"10787\" \"10788\" \"10789\" \"10790\" \"10791\"\n",
              "[10792] \"10792\" \"10793\" \"10794\" \"10795\" \"10796\" \"10797\" \"10798\" \"10799\" \"10800\"\n",
              "[10801] \"10801\" \"10802\" \"10803\" \"10804\" \"10805\" \"10806\" \"10807\" \"10808\" \"10809\"\n",
              "[10810] \"10810\" \"10811\" \"10812\" \"10813\" \"10814\" \"10815\" \"10816\" \"10817\" \"10818\"\n",
              "[10819] \"10819\" \"10820\" \"10821\" \"10822\" \"10823\" \"10824\" \"10825\" \"10826\" \"10827\"\n",
              "[10828] \"10828\" \"10829\" \"10830\" \"10831\" \"10832\" \"10833\" \"10834\" \"10835\" \"10836\"\n",
              "[10837] \"10837\" \"10838\" \"10839\" \"10840\" \"10841\" \"10842\" \"10843\" \"10844\" \"10845\"\n",
              "[10846] \"10846\" \"10847\" \"10848\" \"10849\" \"10850\" \"10851\" \"10852\" \"10853\" \"10854\"\n",
              "[10855] \"10855\" \"10856\" \"10857\" \"10858\" \"10859\" \"10860\" \"10861\" \"10862\" \"10863\"\n",
              "[10864] \"10864\" \"10865\" \"10866\" \"10867\" \"10868\" \"10869\" \"10870\" \"10871\" \"10872\"\n",
              "[10873] \"10873\" \"10874\" \"10875\" \"10876\" \"10877\" \"10878\" \"10879\" \"10880\" \"10881\"\n",
              "[10882] \"10882\" \"10883\" \"10884\" \"10885\" \"10886\" \"10887\" \"10888\" \"10889\" \"10890\"\n",
              "[10891] \"10891\" \"10892\" \"10893\" \"10894\" \"10895\" \"10896\" \"10897\" \"10898\" \"10899\"\n",
              "[10900] \"10900\" \"10901\" \"10902\" \"10903\" \"10904\" \"10905\" \"10906\" \"10907\" \"10908\"\n",
              "[10909] \"10909\" \"10910\" \"10911\" \"10912\" \"10913\" \"10914\" \"10915\" \"10916\" \"10917\"\n",
              "[10918] \"10918\" \"10919\" \"10920\" \"10921\" \"10922\" \"10923\" \"10924\" \"10925\" \"10926\"\n",
              "[10927] \"10927\" \"10928\" \"10929\" \"10930\" \"10931\" \"10932\" \"10933\" \"10934\" \"10935\"\n",
              "[10936] \"10936\" \"10937\" \"10938\" \"10939\" \"10940\" \"10941\" \"10942\" \"10943\" \"10944\"\n",
              "[10945] \"10945\" \"10946\" \"10947\" \"10948\" \"10949\" \"10950\" \"10951\" \"10952\" \"10953\"\n",
              "[10954] \"10954\" \"10955\" \"10956\" \"10957\" \"10958\" \"10959\" \"10960\" \"10961\" \"10962\"\n",
              "[10963] \"10963\" \"10964\" \"10965\" \"10966\" \"10967\" \"10968\" \"10969\" \"10970\" \"10971\"\n",
              "[10972] \"10972\" \"10973\" \"10974\" \"10975\" \"10976\" \"10977\" \"10978\" \"10979\" \"10980\"\n",
              "[10981] \"10981\" \"10982\" \"10983\" \"10984\" \"10985\" \"10986\" \"10987\" \"10988\" \"10989\"\n",
              "[10990] \"10990\" \"10991\" \"10992\" \"10993\" \"10994\" \"10995\" \"10996\" \"10997\" \"10998\"\n",
              "[10999] \"10999\" \"11000\" \"11001\" \"11002\" \"11003\" \"11004\" \"11005\" \"11006\" \"11007\"\n",
              "[11008] \"11008\" \"11009\" \"11010\" \"11011\" \"11012\" \"11013\" \"11014\" \"11015\" \"11016\"\n",
              "[11017] \"11017\" \"11018\" \"11019\" \"11020\" \"11021\" \"11022\" \"11023\" \"11024\" \"11025\"\n",
              "[11026] \"11026\" \"11027\" \"11028\" \"11029\" \"11030\" \"11031\" \"11032\" \"11033\" \"11034\"\n",
              "[11035] \"11035\" \"11036\" \"11037\" \"11038\" \"11039\" \"11040\" \"11041\" \"11042\" \"11043\"\n",
              "[11044] \"11044\" \"11045\" \"11046\" \"11047\" \"11048\" \"11049\" \"11050\" \"11051\" \"11052\"\n",
              "[11053] \"11053\" \"11054\" \"11055\" \"11056\" \"11057\" \"11058\" \"11059\" \"11060\" \"11061\"\n",
              "[11062] \"11062\" \"11063\" \"11064\" \"11065\" \"11066\" \"11067\" \"11068\" \"11069\" \"11070\"\n",
              "[11071] \"11071\" \"11072\" \"11073\" \"11074\" \"11075\" \"11076\" \"11077\" \"11078\" \"11079\"\n",
              "[11080] \"11080\" \"11081\" \"11082\" \"11083\" \"11084\" \"11085\" \"11086\" \"11087\" \"11088\"\n",
              "[11089] \"11089\" \"11090\" \"11091\" \"11092\" \"11093\" \"11094\" \"11095\" \"11096\" \"11097\"\n",
              "[11098] \"11098\" \"11099\" \"11100\" \"11101\" \"11102\" \"11103\" \"11104\" \"11105\" \"11106\"\n",
              "[11107] \"11107\" \"11108\" \"11109\" \"11110\" \"11111\" \"11112\" \"11113\" \"11114\" \"11115\"\n",
              "[11116] \"11116\" \"11117\" \"11118\" \"11119\" \"11120\" \"11121\" \"11122\" \"11123\" \"11124\"\n",
              "[11125] \"11125\" \"11126\" \"11127\" \"11128\" \"11129\" \"11130\" \"11131\" \"11132\" \"11133\"\n",
              "[11134] \"11134\" \"11135\" \"11136\" \"11137\" \"11138\" \"11139\" \"11140\" \"11141\" \"11142\"\n",
              "[11143] \"11143\" \"11144\" \"11145\" \"11146\" \"11147\" \"11148\" \"11149\" \"11150\" \"11151\"\n",
              "[11152] \"11152\" \"11153\" \"11154\" \"11155\" \"11156\" \"11157\" \"11158\" \"11159\" \"11160\"\n",
              "[11161] \"11161\" \"11162\" \"11163\" \"11164\" \"11165\" \"11166\" \"11167\" \"11168\" \"11169\"\n",
              "[11170] \"11170\" \"11171\" \"11172\" \"11173\" \"11174\" \"11175\" \"11176\" \"11177\" \"11178\"\n",
              "[11179] \"11179\" \"11180\" \"11181\" \"11182\" \"11183\" \"11184\" \"11185\" \"11186\" \"11187\"\n",
              "[11188] \"11188\" \"11189\" \"11190\" \"11191\" \"11192\" \"11193\" \"11194\" \"11195\" \"11196\"\n",
              "[11197] \"11197\" \"11198\" \"11199\" \"11200\" \"11201\" \"11202\" \"11203\" \"11204\" \"11205\"\n",
              "[11206] \"11206\" \"11207\" \"11208\" \"11209\" \"11210\" \"11211\" \"11212\" \"11213\" \"11214\"\n",
              "[11215] \"11215\" \"11216\" \"11217\" \"11218\" \"11219\" \"11220\" \"11221\" \"11222\" \"11223\"\n",
              "[11224] \"11224\" \"11225\" \"11226\" \"11227\" \"11228\" \"11229\" \"11230\" \"11231\" \"11232\"\n",
              "[11233] \"11233\" \"11234\" \"11235\" \"11236\" \"11237\" \"11238\" \"11239\" \"11240\" \"11241\"\n",
              "[11242] \"11242\" \"11243\" \"11244\" \"11245\" \"11246\" \"11247\" \"11248\" \"11249\" \"11250\"\n",
              "[11251] \"11251\" \"11252\" \"11253\" \"11254\" \"11255\" \"11256\" \"11257\" \"11258\" \"11259\"\n",
              "[11260] \"11260\" \"11261\" \"11262\" \"11263\" \"11264\" \"11265\" \"11266\" \"11267\" \"11268\"\n",
              "[11269] \"11269\" \"11270\" \"11271\" \"11272\" \"11273\" \"11274\" \"11275\" \"11276\" \"11277\"\n",
              "[11278] \"11278\" \"11279\" \"11280\" \"11281\" \"11282\" \"11283\" \"11284\" \"11285\" \"11286\"\n",
              "[11287] \"11287\" \"11288\" \"11289\" \"11290\" \"11291\" \"11292\" \"11293\" \"11294\" \"11295\"\n",
              "[11296] \"11296\" \"11297\" \"11298\" \"11299\" \"11300\" \"11301\" \"11302\" \"11303\" \"11304\"\n",
              "[11305] \"11305\" \"11306\" \"11307\" \"11308\" \"11309\" \"11310\" \"11311\" \"11312\" \"11313\"\n",
              "[11314] \"11314\" \"11315\" \"11316\" \"11317\" \"11318\" \"11319\" \"11320\" \"11321\" \"11322\"\n",
              "[11323] \"11323\" \"11324\" \"11325\" \"11326\" \"11327\" \"11328\" \"11329\" \"11330\" \"11331\"\n",
              "[11332] \"11332\" \"11333\" \"11334\" \"11335\" \"11336\" \"11337\" \"11338\" \"11339\" \"11340\"\n",
              "[11341] \"11341\" \"11342\" \"11343\" \"11344\" \"11345\" \"11346\" \"11347\" \"11348\" \"11349\"\n",
              "[11350] \"11350\" \"11351\" \"11352\" \"11353\" \"11354\" \"11355\" \"11356\" \"11357\" \"11358\"\n",
              "[11359] \"11359\" \"11360\" \"11361\" \"11362\" \"11363\" \"11364\" \"11365\" \"11366\" \"11367\"\n",
              "[11368] \"11368\" \"11369\" \"11370\" \"11371\" \"11372\" \"11373\" \"11374\" \"11375\" \"11376\"\n",
              "[11377] \"11377\" \"11378\" \"11379\" \"11380\" \"11381\" \"11382\" \"11383\" \"11384\" \"11385\"\n",
              "[11386] \"11386\" \"11387\" \"11388\" \"11389\" \"11390\" \"11391\" \"11392\" \"11393\" \"11394\"\n",
              "[11395] \"11395\" \"11396\" \"11397\" \"11398\" \"11399\" \"11400\" \"11401\" \"11402\" \"11403\"\n",
              "[11404] \"11404\" \"11405\" \"11406\" \"11407\" \"11408\" \"11409\" \"11410\" \"11411\" \"11412\"\n",
              "[11413] \"11413\" \"11414\" \"11415\" \"11416\" \"11417\" \"11418\" \"11419\" \"11420\" \"11421\"\n",
              "[11422] \"11422\" \"11423\" \"11424\" \"11425\" \"11426\" \"11427\" \"11428\" \"11429\" \"11430\"\n",
              "[11431] \"11431\" \"11432\" \"11433\" \"11434\" \"11435\" \"11436\" \"11437\" \"11438\" \"11439\"\n",
              "[11440] \"11440\" \"11441\" \"11442\" \"11443\" \"11444\" \"11445\" \"11446\" \"11447\" \"11448\"\n",
              "[11449] \"11449\" \"11450\" \"11451\" \"11452\" \"11453\" \"11454\" \"11455\" \"11456\" \"11457\"\n",
              "[11458] \"11458\" \"11459\" \"11460\" \"11461\" \"11462\" \"11463\" \"11464\" \"11465\" \"11466\"\n",
              "[11467] \"11467\" \"11468\" \"11469\" \"11470\" \"11471\" \"11472\" \"11473\" \"11474\" \"11475\"\n",
              "[11476] \"11476\" \"11477\" \"11478\" \"11479\" \"11480\" \"11481\" \"11482\" \"11483\" \"11484\"\n",
              "[11485] \"11485\" \"11486\" \"11487\" \"11488\" \"11489\" \"11490\" \"11491\" \"11492\" \"11493\"\n",
              "[11494] \"11494\" \"11495\" \"11496\" \"11497\" \"11498\" \"11499\" \"11500\" \"11501\" \"11502\"\n",
              "[11503] \"11503\" \"11504\" \"11505\" \"11506\" \"11507\" \"11508\" \"11509\" \"11510\" \"11511\"\n",
              "[11512] \"11512\" \"11513\" \"11514\" \"11515\" \"11516\" \"11517\" \"11518\" \"11519\" \"11520\"\n",
              "[11521] \"11521\" \"11522\" \"11523\" \"11524\" \"11525\" \"11526\" \"11527\" \"11528\" \"11529\"\n",
              "[11530] \"11530\" \"11531\" \"11532\" \"11533\" \"11534\" \"11535\" \"11536\" \"11537\" \"11538\"\n",
              "[11539] \"11539\" \"11540\" \"11541\" \"11542\" \"11543\" \"11544\" \"11545\" \"11546\" \"11547\"\n",
              "[11548] \"11548\" \"11549\" \"11550\" \"11551\" \"11552\" \"11553\" \"11554\" \"11555\" \"11556\"\n",
              "[11557] \"11557\" \"11558\" \"11559\" \"11560\" \"11561\" \"11562\" \"11563\" \"11564\" \"11565\"\n",
              "[11566] \"11566\" \"11567\" \"11568\" \"11569\" \"11570\" \"11571\" \"11572\" \"11573\" \"11574\"\n",
              "[11575] \"11575\" \"11576\" \"11577\" \"11578\" \"11579\" \"11580\" \"11581\" \"11582\" \"11583\"\n",
              "[11584] \"11584\" \"11585\" \"11586\" \"11587\" \"11588\" \"11589\" \"11590\" \"11591\" \"11592\"\n",
              "[11593] \"11593\" \"11594\" \"11595\" \"11596\" \"11597\" \"11598\" \"11599\" \"11600\" \"11601\"\n",
              "[11602] \"11602\" \"11603\" \"11604\" \"11605\" \"11606\" \"11607\" \"11608\" \"11609\" \"11610\"\n",
              "[11611] \"11611\" \"11612\" \"11613\" \"11614\" \"11615\" \"11616\" \"11617\" \"11618\" \"11619\"\n",
              "[11620] \"11620\" \"11621\" \"11622\" \"11623\" \"11624\" \"11625\" \"11626\" \"11627\" \"11628\"\n",
              "[11629] \"11629\" \"11630\" \"11631\" \"11632\" \"11633\" \"11634\" \"11635\" \"11636\" \"11637\"\n",
              "[11638] \"11638\" \"11639\" \"11640\" \"11641\" \"11642\" \"11643\" \"11644\" \"11645\" \"11646\"\n",
              "[11647] \"11647\" \"11648\" \"11649\" \"11650\" \"11651\" \"11652\" \"11653\" \"11654\" \"11655\"\n",
              "[11656] \"11656\" \"11657\" \"11658\" \"11659\" \"11660\" \"11661\" \"11662\" \"11663\" \"11664\"\n",
              "[11665] \"11665\" \"11666\" \"11667\" \"11668\" \"11669\" \"11670\" \"11671\" \"11672\" \"11673\"\n",
              "[11674] \"11674\" \"11675\" \"11676\" \"11677\" \"11678\" \"11679\" \"11680\" \"11681\" \"11682\"\n",
              "[11683] \"11683\" \"11684\" \"11685\" \"11686\" \"11687\" \"11688\" \"11689\" \"11690\" \"11691\"\n",
              "[11692] \"11692\" \"11693\" \"11694\" \"11695\" \"11696\" \"11697\" \"11698\" \"11699\" \"11700\"\n",
              "[11701] \"11701\" \"11702\" \"11703\" \"11704\" \"11705\" \"11706\" \"11707\" \"11708\" \"11709\"\n",
              "[11710] \"11710\" \"11711\" \"11712\" \"11713\" \"11714\" \"11715\" \"11716\" \"11717\" \"11718\"\n",
              "[11719] \"11719\" \"11720\" \"11721\" \"11722\" \"11723\" \"11724\" \"11725\" \"11726\" \"11727\"\n",
              "[11728] \"11728\" \"11729\" \"11730\" \"11731\" \"11732\" \"11733\" \"11734\" \"11735\" \"11736\"\n",
              "[11737] \"11737\" \"11738\" \"11739\" \"11740\" \"11741\" \"11742\" \"11743\" \"11744\" \"11745\"\n",
              "[11746] \"11746\" \"11747\" \"11748\" \"11749\" \"11750\" \"11751\" \"11752\" \"11753\" \"11754\"\n",
              "[11755] \"11755\" \"11756\" \"11757\" \"11758\" \"11759\" \"11760\" \"11761\" \"11762\" \"11763\"\n",
              "[11764] \"11764\" \"11765\" \"11766\" \"11767\" \"11768\" \"11769\" \"11770\" \"11771\" \"11772\"\n",
              "[11773] \"11773\" \"11774\" \"11775\" \"11776\" \"11777\" \"11778\" \"11779\" \"11780\" \"11781\"\n",
              "[11782] \"11782\" \"11783\" \"11784\" \"11785\" \"11786\" \"11787\" \"11788\" \"11789\" \"11790\"\n",
              "[11791] \"11791\" \"11792\" \"11793\" \"11794\" \"11795\" \"11796\" \"11797\" \"11798\" \"11799\"\n",
              "[11800] \"11800\" \"11801\" \"11802\" \"11803\" \"11804\" \"11805\" \"11806\" \"11807\" \"11808\"\n",
              "[11809] \"11809\" \"11810\" \"11811\" \"11812\" \"11813\" \"11814\" \"11815\" \"11816\" \"11817\"\n",
              "[11818] \"11818\" \"11819\" \"11820\" \"11821\" \"11822\" \"11823\" \"11824\" \"11825\" \"11826\"\n",
              "[11827] \"11827\" \"11828\" \"11829\" \"11830\" \"11831\" \"11832\" \"11833\" \"11834\" \"11835\"\n",
              "[11836] \"11836\" \"11837\" \"11838\" \"11839\" \"11840\" \"11841\" \"11842\" \"11843\" \"11844\"\n",
              "[11845] \"11845\" \"11846\" \"11847\" \"11848\" \"11849\" \"11850\" \"11851\" \"11852\" \"11853\"\n",
              "[11854] \"11854\" \"11855\" \"11856\" \"11857\" \"11858\" \"11859\" \"11860\" \"11861\" \"11862\"\n",
              "[11863] \"11863\" \"11864\" \"11865\" \"11866\" \"11867\" \"11868\" \"11869\" \"11870\" \"11871\"\n",
              "[11872] \"11872\" \"11873\" \"11874\" \"11875\" \"11876\" \"11877\" \"11878\" \"11879\" \"11880\"\n",
              "[11881] \"11881\" \"11882\" \"11883\" \"11884\" \"11885\" \"11886\" \"11887\" \"11888\" \"11889\"\n",
              "[11890] \"11890\" \"11891\" \"11892\" \"11893\" \"11894\" \"11895\" \"11896\" \"11897\" \"11898\"\n",
              "[11899] \"11899\" \"11900\" \"11901\" \"11902\" \"11903\" \"11904\" \"11905\" \"11906\" \"11907\"\n",
              "[11908] \"11908\" \"11909\" \"11910\" \"11911\" \"11912\" \"11913\" \"11914\" \"11915\" \"11916\"\n",
              "[11917] \"11917\" \"11918\" \"11919\" \"11920\" \"11921\" \"11922\" \"11923\" \"11924\" \"11925\"\n",
              "[11926] \"11926\" \"11927\" \"11928\" \"11929\" \"11930\" \"11931\" \"11932\" \"11933\" \"11934\"\n",
              "[11935] \"11935\" \"11936\" \"11937\" \"11938\" \"11939\" \"11940\" \"11941\" \"11942\" \"11943\"\n",
              "[11944] \"11944\" \"11945\" \"11946\" \"11947\" \"11948\" \"11949\" \"11950\" \"11951\" \"11952\"\n",
              "[11953] \"11953\" \"11954\" \"11955\" \"11956\" \"11957\" \"11958\" \"11959\" \"11960\" \"11961\"\n",
              "[11962] \"11962\" \"11963\" \"11964\" \"11965\" \"11966\" \"11967\" \"11968\" \"11969\" \"11970\"\n",
              "[11971] \"11971\" \"11972\" \"11973\" \"11974\" \"11975\" \"11976\" \"11977\" \"11978\" \"11979\"\n",
              "[11980] \"11980\" \"11981\" \"11982\" \"11983\" \"11984\" \"11985\" \"11986\" \"11987\" \"11988\"\n",
              "[11989] \"11989\" \"11990\" \"11991\" \"11992\" \"11993\" \"11994\" \"11995\" \"11996\" \"11997\"\n",
              "[11998] \"11998\" \"11999\" \"12000\" \"12001\" \"12002\" \"12003\" \"12004\" \"12005\" \"12006\"\n",
              "[12007] \"12007\" \"12008\" \"12009\" \"12010\" \"12011\" \"12012\" \"12013\" \"12014\" \"12015\"\n",
              "[12016] \"12016\" \"12017\" \"12018\" \"12019\" \"12020\" \"12021\" \"12022\" \"12023\" \"12024\"\n",
              "[12025] \"12025\" \"12026\" \"12027\" \"12028\" \"12029\" \"12030\" \"12031\" \"12032\" \"12033\"\n",
              "[12034] \"12034\" \"12035\" \"12036\" \"12037\" \"12038\" \"12039\" \"12040\" \"12041\" \"12042\"\n",
              "[12043] \"12043\" \"12044\" \"12045\" \"12046\" \"12047\" \"12048\" \"12049\" \"12050\" \"12051\"\n",
              "[12052] \"12052\" \"12053\" \"12054\" \"12055\" \"12056\" \"12057\" \"12058\" \"12059\" \"12060\"\n",
              "[12061] \"12061\" \"12062\" \"12063\" \"12064\" \"12065\" \"12066\" \"12067\" \"12068\" \"12069\"\n",
              "[12070] \"12070\" \"12071\" \"12072\" \"12073\" \"12074\" \"12075\" \"12076\" \"12077\" \"12078\"\n",
              "[12079] \"12079\" \"12080\" \"12081\" \"12082\" \"12083\" \"12084\" \"12085\" \"12086\" \"12087\"\n",
              "[12088] \"12088\" \"12089\" \"12090\" \"12091\" \"12092\" \"12093\" \"12094\" \"12095\" \"12096\"\n",
              "[12097] \"12097\" \"12098\" \"12099\" \"12100\" \"12101\" \"12102\" \"12103\" \"12104\" \"12105\"\n",
              "[12106] \"12106\" \"12107\" \"12108\" \"12109\" \"12110\" \"12111\" \"12112\" \"12113\" \"12114\"\n",
              "[12115] \"12115\" \"12116\" \"12117\" \"12118\" \"12119\" \"12120\" \"12121\" \"12122\" \"12123\"\n",
              "[12124] \"12124\" \"12125\" \"12126\" \"12127\" \"12128\" \"12129\" \"12130\" \"12131\" \"12132\"\n",
              "[12133] \"12133\" \"12134\" \"12135\" \"12136\" \"12137\" \"12138\" \"12139\" \"12140\" \"12141\"\n",
              "[12142] \"12142\" \"12143\" \"12144\" \"12145\" \"12146\" \"12147\" \"12148\" \"12149\" \"12150\"\n",
              "[12151] \"12151\" \"12152\" \"12153\" \"12154\" \"12155\" \"12156\" \"12157\" \"12158\" \"12159\"\n",
              "[12160] \"12160\" \"12161\" \"12162\" \"12163\" \"12164\" \"12165\" \"12166\" \"12167\" \"12168\"\n",
              "[12169] \"12169\" \"12170\" \"12171\" \"12172\" \"12173\" \"12174\" \"12175\" \"12176\" \"12177\"\n",
              "[12178] \"12178\" \"12179\" \"12180\" \"12181\" \"12182\" \"12183\" \"12184\" \"12185\" \"12186\"\n",
              "[12187] \"12187\" \"12188\" \"12189\" \"12190\" \"12191\" \"12192\" \"12193\" \"12194\" \"12195\"\n",
              "[12196] \"12196\" \"12197\" \"12198\" \"12199\" \"12200\" \"12201\" \"12202\" \"12203\" \"12204\"\n",
              "[12205] \"12205\" \"12206\" \"12207\" \"12208\" \"12209\" \"12210\" \"12211\" \"12212\" \"12213\"\n",
              "[12214] \"12214\" \"12215\" \"12216\" \"12217\" \"12218\" \"12219\" \"12220\" \"12221\" \"12222\"\n",
              "[12223] \"12223\" \"12224\" \"12225\" \"12226\" \"12227\" \"12228\" \"12229\" \"12230\" \"12231\"\n",
              "[12232] \"12232\" \"12233\" \"12234\" \"12235\" \"12236\" \"12237\" \"12238\" \"12239\" \"12240\"\n",
              "[12241] \"12241\" \"12242\" \"12243\" \"12244\" \"12245\" \"12246\" \"12247\" \"12248\" \"12249\"\n",
              "[12250] \"12250\" \"12251\" \"12252\" \"12253\" \"12254\" \"12255\" \"12256\" \"12257\" \"12258\"\n",
              "[12259] \"12259\" \"12260\" \"12261\" \"12262\" \"12263\" \"12264\" \"12265\" \"12266\" \"12267\"\n",
              "[12268] \"12268\" \"12269\" \"12270\" \"12271\" \"12272\" \"12273\" \"12274\" \"12275\" \"12276\"\n",
              "[12277] \"12277\" \"12278\" \"12279\" \"12280\" \"12281\" \"12282\" \"12283\" \"12284\" \"12285\"\n",
              "[12286] \"12286\" \"12287\" \"12288\" \"12289\" \"12290\" \"12291\" \"12292\" \"12293\" \"12294\"\n",
              "[12295] \"12295\" \"12296\" \"12297\" \"12298\" \"12299\" \"12300\" \"12301\" \"12302\" \"12303\"\n",
              "[12304] \"12304\" \"12305\" \"12306\" \"12307\" \"12308\" \"12309\" \"12310\" \"12311\" \"12312\"\n",
              "[12313] \"12313\" \"12314\" \"12315\" \"12316\" \"12317\" \"12318\" \"12319\" \"12320\" \"12321\"\n",
              "[12322] \"12322\" \"12323\" \"12324\" \"12325\" \"12326\" \"12327\" \"12328\" \"12329\" \"12330\"\n",
              "[12331] \"12331\" \"12332\" \"12333\" \"12334\" \"12335\" \"12336\" \"12337\" \"12338\" \"12339\"\n",
              "[12340] \"12340\" \"12341\" \"12342\" \"12343\" \"12344\" \"12345\" \"12346\" \"12347\" \"12348\"\n",
              "[12349] \"12349\" \"12350\" \"12351\" \"12352\" \"12353\" \"12354\" \"12355\" \"12356\" \"12357\"\n",
              "[12358] \"12358\" \"12359\" \"12360\" \"12361\" \"12362\" \"12363\" \"12364\" \"12365\" \"12366\"\n",
              "[12367] \"12367\" \"12368\" \"12369\" \"12370\" \"12371\" \"12372\" \"12373\" \"12374\" \"12375\"\n",
              "[12376] \"12376\" \"12377\" \"12378\" \"12379\" \"12380\" \"12381\" \"12382\" \"12383\" \"12384\"\n",
              "[12385] \"12385\" \"12386\" \"12387\" \"12388\" \"12389\" \"12390\" \"12391\" \"12392\" \"12393\"\n",
              "[12394] \"12394\" \"12395\" \"12396\" \"12397\" \"12398\" \"12399\" \"12400\" \"12401\" \"12402\"\n",
              "[12403] \"12403\" \"12404\" \"12405\" \"12406\" \"12407\" \"12408\" \"12409\" \"12410\" \"12411\"\n",
              "[12412] \"12412\" \"12413\" \"12414\" \"12415\" \"12416\" \"12417\" \"12418\" \"12419\" \"12420\"\n",
              "[12421] \"12421\" \"12422\" \"12423\" \"12424\" \"12425\" \"12426\" \"12427\" \"12428\" \"12429\"\n",
              "[12430] \"12430\" \"12431\" \"12432\" \"12433\" \"12434\" \"12435\" \"12436\" \"12437\" \"12438\"\n",
              "[12439] \"12439\" \"12440\" \"12441\" \"12442\" \"12443\" \"12444\" \"12445\" \"12446\" \"12447\"\n",
              "[12448] \"12448\" \"12449\" \"12450\" \"12451\" \"12452\" \"12453\" \"12454\" \"12455\" \"12456\"\n",
              "[12457] \"12457\" \"12458\" \"12459\" \"12460\" \"12461\" \"12462\" \"12463\" \"12464\" \"12465\"\n",
              "[12466] \"12466\" \"12467\" \"12468\" \"12469\" \"12470\" \"12471\" \"12472\" \"12473\" \"12474\"\n",
              "[12475] \"12475\" \"12476\" \"12477\" \"12478\" \"12479\" \"12480\" \"12481\" \"12482\" \"12483\"\n",
              "[12484] \"12484\" \"12485\" \"12486\" \"12487\" \"12488\" \"12489\" \"12490\" \"12491\" \"12492\"\n",
              "[12493] \"12493\" \"12494\" \"12495\" \"12496\" \"12497\" \"12498\" \"12499\" \"12500\" \"12501\"\n",
              "[12502] \"12502\" \"12503\" \"12504\" \"12505\" \"12506\" \"12507\" \"12508\" \"12509\" \"12510\"\n",
              "[12511] \"12511\" \"12512\" \"12513\" \"12514\" \"12515\" \"12516\" \"12517\" \"12518\" \"12519\"\n",
              "[12520] \"12520\" \"12521\" \"12522\" \"12523\" \"12524\" \"12525\" \"12526\" \"12527\" \"12528\"\n",
              "[12529] \"12529\" \"12530\" \"12531\" \"12532\" \"12533\" \"12534\" \"12535\" \"12536\" \"12537\"\n",
              "[12538] \"12538\" \"12539\" \"12540\" \"12541\" \"12542\" \"12543\" \"12544\" \"12545\" \"12546\"\n",
              "[12547] \"12547\" \"12548\" \"12549\" \"12550\" \"12551\" \"12552\" \"12553\" \"12554\" \"12555\"\n",
              "[12556] \"12556\" \"12557\" \"12558\" \"12559\" \"12560\" \"12561\" \"12562\" \"12563\" \"12564\"\n",
              "[12565] \"12565\" \"12566\" \"12567\" \"12568\" \"12569\" \"12570\" \"12571\" \"12572\" \"12573\"\n",
              "[12574] \"12574\" \"12575\" \"12576\" \"12577\" \"12578\" \"12579\" \"12580\" \"12581\" \"12582\"\n",
              "[12583] \"12583\" \"12584\" \"12585\" \"12586\" \"12587\" \"12588\" \"12589\" \"12590\" \"12591\"\n",
              "[12592] \"12592\" \"12593\" \"12594\" \"12595\" \"12596\" \"12597\" \"12598\" \"12599\" \"12600\"\n",
              "[12601] \"12601\" \"12602\" \"12603\" \"12604\" \"12605\" \"12606\" \"12607\" \"12608\" \"12609\"\n",
              "[12610] \"12610\" \"12611\" \"12612\" \"12613\" \"12614\" \"12615\" \"12616\" \"12617\" \"12618\"\n",
              "[12619] \"12619\" \"12620\" \"12621\" \"12622\" \"12623\" \"12624\" \"12625\" \"12626\" \"12627\"\n",
              "[12628] \"12628\" \"12629\" \"12630\" \"12631\" \"12632\" \"12633\" \"12634\" \"12635\" \"12636\"\n",
              "[12637] \"12637\" \"12638\" \"12639\" \"12640\" \"12641\" \"12642\" \"12643\" \"12644\" \"12645\"\n",
              "[12646] \"12646\" \"12647\" \"12648\" \"12649\" \"12650\" \"12651\" \"12652\" \"12653\" \"12654\"\n",
              "[12655] \"12655\" \"12656\" \"12657\" \"12658\" \"12659\" \"12660\" \"12661\" \"12662\" \"12663\"\n",
              "[12664] \"12664\" \"12665\" \"12666\" \"12667\" \"12668\" \"12669\" \"12670\" \"12671\" \"12672\"\n",
              "[12673] \"12673\" \"12674\" \"12675\" \"12676\" \"12677\" \"12678\" \"12679\" \"12680\" \"12681\"\n",
              "[12682] \"12682\" \"12683\" \"12684\" \"12685\" \"12686\" \"12687\" \"12688\" \"12689\" \"12690\"\n",
              "[12691] \"12691\" \"12692\" \"12693\" \"12694\" \"12695\" \"12696\" \"12697\" \"12698\" \"12699\"\n",
              "[12700] \"12700\" \"12701\" \"12702\" \"12703\" \"12704\" \"12705\" \"12706\" \"12707\" \"12708\"\n",
              "[12709] \"12709\" \"12710\" \"12711\" \"12712\" \"12713\" \"12714\" \"12715\" \"12716\" \"12717\"\n",
              "[12718] \"12718\" \"12719\" \"12720\" \"12721\" \"12722\" \"12723\" \"12724\" \"12725\" \"12726\"\n",
              "[12727] \"12727\" \"12728\" \"12729\" \"12730\" \"12731\" \"12732\" \"12733\" \"12734\" \"12735\"\n",
              "[12736] \"12736\" \"12737\" \"12738\" \"12739\" \"12740\" \"12741\" \"12742\" \"12743\" \"12744\"\n",
              "[12745] \"12745\" \"12746\" \"12747\" \"12748\" \"12749\" \"12750\" \"12751\" \"12752\" \"12753\"\n",
              "[12754] \"12754\" \"12755\" \"12756\" \"12757\" \"12758\" \"12759\" \"12760\" \"12761\" \"12762\"\n",
              "[12763] \"12763\" \"12764\" \"12765\" \"12766\" \"12767\" \"12768\" \"12769\" \"12770\" \"12771\"\n",
              "[12772] \"12772\" \"12773\" \"12774\" \"12775\" \"12776\" \"12777\" \"12778\" \"12779\" \"12780\"\n",
              "[12781] \"12781\" \"12782\" \"12783\" \"12784\" \"12785\" \"12786\" \"12787\" \"12788\" \"12789\"\n",
              "[12790] \"12790\" \"12791\" \"12792\" \"12793\" \"12794\" \"12795\" \"12796\" \"12797\" \"12798\"\n",
              "[12799] \"12799\" \"12800\" \"12801\" \"12802\" \"12803\" \"12804\" \"12805\" \"12806\" \"12807\"\n",
              "[12808] \"12808\" \"12809\" \"12810\" \"12811\" \"12812\" \"12813\" \"12814\" \"12815\" \"12816\"\n",
              "[12817] \"12817\" \"12818\" \"12819\" \"12820\" \"12821\" \"12822\" \"12823\" \"12824\" \"12825\"\n",
              "[12826] \"12826\" \"12827\" \"12828\" \"12829\" \"12830\" \"12831\" \"12832\" \"12833\" \"12834\"\n",
              "[12835] \"12835\" \"12836\" \"12837\" \"12838\" \"12839\" \"12840\" \"12841\" \"12842\" \"12843\"\n",
              "[12844] \"12844\" \"12845\" \"12846\" \"12847\" \"12848\" \"12849\" \"12850\" \"12851\" \"12852\"\n",
              "[12853] \"12853\" \"12854\" \"12855\" \"12856\" \"12857\" \"12858\" \"12859\" \"12860\" \"12861\"\n",
              "[12862] \"12862\" \"12863\" \"12864\" \"12865\" \"12866\" \"12867\" \"12868\" \"12869\" \"12870\"\n",
              "[12871] \"12871\" \"12872\" \"12873\" \"12874\" \"12875\" \"12876\" \"12877\" \"12878\" \"12879\"\n",
              "[12880] \"12880\" \"12881\" \"12882\" \"12883\" \"12884\" \"12885\" \"12886\" \"12887\" \"12888\"\n",
              "[12889] \"12889\" \"12890\" \"12891\" \"12892\" \"12893\" \"12894\" \"12895\" \"12896\" \"12897\"\n",
              "[12898] \"12898\" \"12899\" \"12900\" \"12901\" \"12902\" \"12903\" \"12904\" \"12905\" \"12906\"\n",
              "[12907] \"12907\" \"12908\" \"12909\" \"12910\" \"12911\" \"12912\" \"12913\" \"12914\" \"12915\"\n",
              "[12916] \"12916\" \"12917\" \"12918\" \"12919\" \"12920\" \"12921\" \"12922\" \"12923\" \"12924\"\n",
              "[12925] \"12925\" \"12926\" \"12927\" \"12928\" \"12929\" \"12930\" \"12931\" \"12932\" \"12933\"\n",
              "[12934] \"12934\" \"12935\" \"12936\" \"12937\" \"12938\" \"12939\" \"12940\" \"12941\" \"12942\"\n",
              "[12943] \"12943\" \"12944\" \"12945\" \"12946\" \"12947\" \"12948\" \"12949\" \"12950\" \"12951\"\n",
              "[12952] \"12952\" \"12953\" \"12954\" \"12955\" \"12956\" \"12957\" \"12958\" \"12959\" \"12960\"\n",
              "[12961] \"12961\" \"12962\" \"12963\" \"12964\" \"12965\" \"12966\" \"12967\" \"12968\" \"12969\"\n",
              "[12970] \"12970\" \"12971\" \"12972\" \"12973\" \"12974\" \"12975\" \"12976\" \"12977\" \"12978\"\n",
              "[12979] \"12979\" \"12980\" \"12981\" \"12982\" \"12983\" \"12984\" \"12985\" \"12986\" \"12987\"\n",
              "[12988] \"12988\" \"12989\" \"12990\" \"12991\" \"12992\" \"12993\" \"12994\" \"12995\" \"12996\"\n",
              "[12997] \"12997\" \"12998\" \"12999\" \"13000\" \"13001\" \"13002\" \"13003\" \"13004\" \"13005\"\n",
              "[13006] \"13006\" \"13007\" \"13008\" \"13009\" \"13010\" \"13011\" \"13012\" \"13013\" \"13014\"\n",
              "[13015] \"13015\" \"13016\" \"13017\" \"13018\" \"13019\" \"13020\" \"13021\" \"13022\" \"13023\"\n",
              "[13024] \"13024\" \"13025\" \"13026\" \"13027\" \"13028\" \"13029\" \"13030\" \"13031\" \"13032\"\n",
              "[13033] \"13033\" \"13034\" \"13035\" \"13036\" \"13037\" \"13038\" \"13039\" \"13040\" \"13041\"\n",
              "[13042] \"13042\" \"13043\" \"13044\" \"13045\" \"13046\" \"13047\" \"13048\" \"13049\" \"13050\"\n",
              "[13051] \"13051\" \"13052\" \"13053\" \"13054\" \"13055\" \"13056\" \"13057\" \"13058\" \"13059\"\n",
              "[13060] \"13060\" \"13061\" \"13062\" \"13063\" \"13064\" \"13065\" \"13066\" \"13067\" \"13068\"\n",
              "[13069] \"13069\" \"13070\" \"13071\" \"13072\" \"13073\" \"13074\" \"13075\" \"13076\" \"13077\"\n",
              "[13078] \"13078\" \"13079\" \"13080\" \"13081\" \"13082\" \"13083\" \"13084\" \"13085\" \"13086\"\n",
              "[13087] \"13087\" \"13088\" \"13089\" \"13090\" \"13091\" \"13092\" \"13093\" \"13094\" \"13095\"\n",
              "[13096] \"13096\" \"13097\" \"13098\" \"13099\" \"13100\" \"13101\" \"13102\" \"13103\" \"13104\"\n",
              "[13105] \"13105\" \"13106\" \"13107\" \"13108\" \"13109\" \"13110\" \"13111\" \"13112\" \"13113\"\n",
              "[13114] \"13114\" \"13115\" \"13116\" \"13117\" \"13118\" \"13119\" \"13120\" \"13121\" \"13122\"\n",
              "[13123] \"13123\" \"13124\" \"13125\" \"13126\" \"13127\" \"13128\" \"13129\" \"13130\" \"13131\"\n",
              "[13132] \"13132\" \"13133\" \"13134\" \"13135\" \"13136\" \"13137\" \"13138\" \"13139\" \"13140\"\n",
              "[13141] \"13141\" \"13142\" \"13143\" \"13144\" \"13145\" \"13146\" \"13147\" \"13148\" \"13149\"\n",
              "[13150] \"13150\" \"13151\" \"13152\" \"13153\" \"13154\" \"13155\" \"13156\" \"13157\" \"13158\"\n",
              "[13159] \"13159\" \"13160\" \"13161\" \"13162\" \"13163\" \"13164\" \"13165\" \"13166\" \"13167\"\n",
              "[13168] \"13168\" \"13169\" \"13170\" \"13171\" \"13172\" \"13173\" \"13174\" \"13175\" \"13176\"\n",
              "[13177] \"13177\" \"13178\" \"13179\" \"13180\" \"13181\" \"13182\" \"13183\" \"13184\" \"13185\"\n",
              "[13186] \"13186\" \"13187\" \"13188\" \"13189\" \"13190\" \"13191\" \"13192\" \"13193\" \"13194\"\n",
              "[13195] \"13195\" \"13196\" \"13197\" \"13198\" \"13199\" \"13200\" \"13201\" \"13202\" \"13203\"\n",
              "[13204] \"13204\" \"13205\" \"13206\" \"13207\" \"13208\" \"13209\" \"13210\" \"13211\" \"13212\"\n",
              "[13213] \"13213\" \"13214\" \"13215\" \"13216\" \"13217\" \"13218\" \"13219\" \"13220\" \"13221\"\n",
              "[13222] \"13222\" \"13223\" \"13224\" \"13225\" \"13226\" \"13227\" \"13228\" \"13229\" \"13230\"\n",
              "[13231] \"13231\" \"13232\" \"13233\" \"13234\" \"13235\" \"13236\" \"13237\" \"13238\" \"13239\"\n",
              "[13240] \"13240\" \"13241\" \"13242\" \"13243\" \"13244\" \"13245\" \"13246\" \"13247\" \"13248\"\n",
              "[13249] \"13249\" \"13250\" \"13251\" \"13252\" \"13253\" \"13254\" \"13255\" \"13256\" \"13257\"\n",
              "[13258] \"13258\" \"13259\" \"13260\" \"13261\" \"13262\" \"13263\" \"13264\" \"13265\" \"13266\"\n",
              "[13267] \"13267\" \"13268\" \"13269\" \"13270\" \"13271\" \"13272\" \"13273\" \"13274\" \"13275\"\n",
              "[13276] \"13276\" \"13277\" \"13278\" \"13279\" \"13280\" \"13281\" \"13282\" \"13283\" \"13284\"\n",
              "[13285] \"13285\" \"13286\" \"13287\" \"13288\" \"13289\" \"13290\" \"13291\" \"13292\" \"13293\"\n",
              "[13294] \"13294\" \"13295\" \"13296\" \"13297\" \"13298\" \"13299\" \"13300\" \"13301\" \"13302\"\n",
              "[13303] \"13303\" \"13304\" \"13305\" \"13306\" \"13307\" \"13308\" \"13309\" \"13310\" \"13311\"\n",
              "[13312] \"13312\" \"13313\" \"13314\" \"13315\" \"13316\" \"13317\" \"13318\" \"13319\" \"13320\"\n",
              "[13321] \"13321\" \"13322\" \"13323\" \"13324\" \"13325\" \"13326\" \"13327\" \"13328\" \"13329\"\n",
              "[13330] \"13330\" \"13331\" \"13332\" \"13333\" \"13334\" \"13335\" \"13336\" \"13337\" \"13338\"\n",
              "[13339] \"13339\" \"13340\" \"13341\" \"13342\" \"13343\" \"13344\" \"13345\" \"13346\" \"13347\"\n",
              "[13348] \"13348\" \"13349\" \"13350\" \"13351\" \"13352\" \"13353\" \"13354\" \"13355\" \"13356\"\n",
              "[13357] \"13357\" \"13358\" \"13359\" \"13360\" \"13361\" \"13362\" \"13363\" \"13364\" \"13365\"\n",
              "[13366] \"13366\" \"13367\" \"13368\" \"13369\" \"13370\" \"13371\" \"13372\" \"13373\" \"13374\"\n",
              "[13375] \"13375\" \"13376\" \"13377\" \"13378\" \"13379\" \"13380\" \"13381\" \"13382\" \"13383\"\n",
              "[13384] \"13384\" \"13385\" \"13386\" \"13387\" \"13388\" \"13389\" \"13390\" \"13391\" \"13392\"\n",
              "[13393] \"13393\" \"13394\" \"13395\" \"13396\" \"13397\" \"13398\" \"13399\" \"13400\" \"13401\"\n",
              "[13402] \"13402\" \"13403\" \"13404\" \"13405\" \"13406\" \"13407\" \"13408\" \"13409\" \"13410\"\n",
              "[13411] \"13411\" \"13412\" \"13413\" \"13414\" \"13415\" \"13416\" \"13417\" \"13418\" \"13419\"\n",
              "[13420] \"13420\" \"13421\" \"13422\" \"13423\" \"13424\" \"13425\" \"13426\" \"13427\" \"13428\"\n",
              "[13429] \"13429\" \"13430\" \"13431\" \"13432\" \"13433\" \"13434\" \"13435\" \"13436\" \"13437\"\n",
              "[13438] \"13438\" \"13439\" \"13440\" \"13441\" \"13442\" \"13443\" \"13444\" \"13445\" \"13446\"\n",
              "[13447] \"13447\" \"13448\" \"13449\" \"13450\" \"13451\" \"13452\" \"13453\" \"13454\" \"13455\"\n",
              "[13456] \"13456\" \"13457\" \"13458\" \"13459\" \"13460\" \"13461\" \"13462\" \"13463\" \"13464\"\n",
              "[13465] \"13465\" \"13466\" \"13467\" \"13468\" \"13469\" \"13470\" \"13471\" \"13472\" \"13473\"\n",
              "[13474] \"13474\" \"13475\" \"13476\" \"13477\" \"13478\" \"13479\" \"13480\" \"13481\" \"13482\"\n",
              "[13483] \"13483\" \"13484\" \"13485\" \"13486\" \"13487\" \"13488\" \"13489\" \"13490\" \"13491\"\n",
              "[13492] \"13492\" \"13493\" \"13494\" \"13495\" \"13496\" \"13497\" \"13498\" \"13499\" \"13500\"\n",
              "[13501] \"13501\" \"13502\" \"13503\" \"13504\" \"13505\" \"13506\" \"13507\" \"13508\" \"13509\"\n",
              "\n",
              "$version\n",
              "[1] 12\n",
              "\n",
              "$class\n",
              "[1] \"data.frame\"\n"
            ]
          },
          "metadata": {}
        }
      ]
    },
    {
      "cell_type": "code",
      "source": [
        "str(JobCorps)"
      ],
      "metadata": {
        "colab": {
          "base_uri": "https://localhost:8080/"
        },
        "id": "ZKUeSDT7C3Mh",
        "outputId": "ee4ad730-e619-447c-fbf8-eb07cb579648"
      },
      "execution_count": 6,
      "outputs": [
        {
          "output_type": "stream",
          "name": "stdout",
          "text": [
            "'data.frame':\t13509 obs. of  44 variables:\n",
            " $ earnq1            : num  0 17 0 NA 0 ...\n",
            " $ earnq2            : num  0 220 0 NA 0 ...\n",
            " $ earnq3            : num  0 220 0 NA 166 ...\n",
            " $ earnq4            : num  0 0 308 NA 308 ...\n",
            " $ earnq5            : num  237 0 269 NA 71 ...\n",
            " $ earnq6            : num  227.9 0 113.2 NA 79.2 ...\n",
            " $ earnq7            : num  126 38 0 NA 206 ...\n",
            " $ earnq8            : num  56.6 215.5 0 NA 107.9 ...\n",
            " $ earnq9            : num  0 101 0 NA 0 ...\n",
            " $ earnq10           : num  0 254 105 NA 0 ...\n",
            " $ earnq11           : num  41.5 300.3 44.9 NA 0 ...\n",
            " $ earnq12           : num  80 300.3 17.9 NA 313.3 ...\n",
            " $ earnq13           : num  NA 139 212 NA 368 ...\n",
            " $ earnq14           : num  NA 65.9 304.5 NA 365.9 ...\n",
            " $ earnq15           : num  NA 428 304 NA 366 ...\n",
            " $ earnq16           : num  NA 428.1 46.8 NA 365.9 ...\n",
            " $ treatmnt          : int  1 0 1 1 0 0 0 1 0 1 ...\n",
            " $ dsgn_wgt          : num  9.31 12.5 9.31 9.31 12.5 ...\n",
            " $ white             : num  0 0 1 1 1 0 1 1 1 0 ...\n",
            " $ black             : num  0 1 0 0 0 1 0 0 0 0 ...\n",
            " $ hispanic          : num  1 0 0 0 0 0 0 0 0 1 ...\n",
            " $ eng_sec_language  : num  0 0 0 0 0 0 0 0 0 1 ...\n",
            " $ havekids_at_bline : num  1 1 0 0 0 0 0 0 0 0 ...\n",
            " $ male              : num  1 1 0 1 1 0 1 0 1 1 ...\n",
            " $ educlevel_at_bline: num  8 12 8 9 8 10 10 10 8 12 ...\n",
            " $ hsgrad_at_bline   : num  0 1 0 0 0 0 0 0 0 1 ...\n",
            " $ ged_at_bline      : num  0 0 1 0 0 0 0 0 0 0 ...\n",
            " $ everwork_at_bline : num  1 1 1 1 1 1 1 1 1 1 ...\n",
            " $ wrk_lyr_bline     : num  1 1 1 0 1 1 0 1 1 1 ...\n",
            " $ mos_wrk_lyr_bline : num  8.75 7.75 7 0 2.75 2 0 5.5 0.25 12 ...\n",
            " $ earn_lyr_bline    : num  7332 9794 8922 0 9240 ...\n",
            " $ wage_bline        : num  6 2.5 6.5 NA 15 ...\n",
            " $ anywlfr_bline     : num  0 0 0 1 0 NA 0 0 0 1 ...\n",
            " $ alcohol_bline     : num  0 1 1 1 0 0 1 1 1 1 ...\n",
            " $ arrest_bline      : num  0 0 0 1 0 ...\n",
            " $ jail_bline        : num  0 0 0 NA 0 0 0 0 1 0 ...\n",
            " $ participate       : num  1 0 1 NA 0 0 0 1 0 1 ...\n",
            " $ voc_in_jc         : num  1 0 1 NA 0 0 0 1 0 1 ...\n",
            " $ work_wk48         : num  NA 1 0 NA 1 1 0 1 0 1 ...\n",
            " $ pct_wks_wrk       : num  57.1 56.7 37.5 NA 53.4 ...\n",
            " $ logwage_wk208     : num  1.95 2.01 2.08 NA 2.2 ...\n",
            " $ wagenotmiss       : num  1 1 1 NA 1 1 1 1 1 1 ...\n",
            " $ attrit            : num  0 0 0 1 0 0 0 0 0 0 ...\n",
            " $ nomiss            : num  0 1 1 0 1 0 0 1 1 1 ...\n",
            " - attr(*, \"datalabel\")= chr \"\"\n",
            " - attr(*, \"time.stamp\")= chr \"16 Jan 2025 14:56\"\n",
            " - attr(*, \"formats\")= chr [1:44] \"%9.0g\" \"%9.0g\" \"%9.0g\" \"%9.0g\" ...\n",
            " - attr(*, \"types\")= int [1:44] 254 254 254 254 254 254 254 254 254 254 ...\n",
            " - attr(*, \"val.labels\")= chr [1:44] \"\" \"\" \"\" \"\" ...\n",
            " - attr(*, \"var.labels\")= chr [1:44] \"earnings per wk in qtr 1\" \"earnings per wk in qtr 2\" \"earnings per wk in qtr 3\" \"earnings per wk in qtr 4\" ...\n",
            " - attr(*, \"version\")= int 12\n"
          ]
        }
      ]
    },
    {
      "cell_type": "code",
      "source": [
        "summary(JobCorps)"
      ],
      "metadata": {
        "colab": {
          "base_uri": "https://localhost:8080/",
          "height": 1000
        },
        "id": "--Ea5agcC9Ss",
        "outputId": "5a4057dd-d60e-4242-8593-1330d36d8ee7"
      },
      "execution_count": 7,
      "outputs": [
        {
          "output_type": "display_data",
          "data": {
            "text/plain": [
              "     earnq1            earnq2            earnq3            earnq4       \n",
              " Min.   :   0.00   Min.   :   0.00   Min.   :   0.00   Min.   :   0.00  \n",
              " 1st Qu.:   0.00   1st Qu.:   0.00   1st Qu.:   0.00   1st Qu.:   0.00  \n",
              " Median :   0.00   Median :   0.00   Median :   0.00   Median :  20.39  \n",
              " Mean   :  51.35   Mean   :  69.19   Mean   :  85.68   Mean   :  97.25  \n",
              " 3rd Qu.:  66.25   3rd Qu.: 108.72   3rd Qu.: 150.92   3rd Qu.: 172.01  \n",
              " Max.   :2100.00   Max.   :2520.00   Max.   :2501.58   Max.   :2472.12  \n",
              " NA's   :2943      NA's   :2966      NA's   :2916      NA's   :2835     \n",
              "     earnq5            earnq6            earnq7            earnq8       \n",
              " Min.   :   0.00   Min.   :   0.00   Min.   :   0.00   Min.   :   0.00  \n",
              " 1st Qu.:   0.00   1st Qu.:   0.00   1st Qu.:   0.00   1st Qu.:   0.00  \n",
              " Median :  32.97   Median :  34.36   Median :  59.61   Median :  88.74  \n",
              " Mean   : 111.82   Mean   : 127.64   Mean   : 140.06   Mean   : 149.59  \n",
              " 3rd Qu.: 199.53   3rd Qu.: 231.03   3rd Qu.: 245.25   3rd Qu.: 254.13  \n",
              " Max.   :2290.68   Max.   :2264.07   Max.   :2103.95   Max.   :2665.70  \n",
              " NA's   :2643      NA's   :2722      NA's   :2740      NA's   :2718     \n",
              "     earnq9          earnq10          earnq11          earnq12      \n",
              " Min.   :   0.0   Min.   :   0.0   Min.   :   0.0   Min.   :   0.0  \n",
              " 1st Qu.:   0.0   1st Qu.:   0.0   1st Qu.:   0.0   1st Qu.:   0.0  \n",
              " Median : 114.7   Median : 130.3   Median : 155.9   Median : 159.9  \n",
              " Mean   : 159.6   Mean   : 165.4   Mean   : 178.7   Mean   : 188.1  \n",
              " 3rd Qu.: 267.7   3rd Qu.: 271.2   3rd Qu.: 292.0   3rd Qu.: 305.8  \n",
              " Max.   :2100.2   Max.   :2391.5   Max.   :2129.6   Max.   :2421.5  \n",
              " NA's   :2667     NA's   :2614     NA's   :2620     NA's   :2726    \n",
              "    earnq13          earnq14          earnq15          earnq16      \n",
              " Min.   :   0.0   Min.   :   0.0   Min.   :   0.0   Min.   :   0.0  \n",
              " 1st Qu.:   0.0   1st Qu.:   0.0   1st Qu.:   0.0   1st Qu.:   0.0  \n",
              " Median : 171.3   Median : 178.5   Median : 186.2   Median : 187.7  \n",
              " Mean   : 197.3   Mean   : 202.9   Mean   : 206.6   Mean   : 209.3  \n",
              " 3rd Qu.: 316.3   3rd Qu.: 321.6   3rd Qu.: 326.3   3rd Qu.: 328.4  \n",
              " Max.   :2597.4   Max.   :2594.6   Max.   :2408.6   Max.   :2388.1  \n",
              " NA's   :2733     NA's   :2701     NA's   :2655     NA's   :2817    \n",
              "    treatmnt        dsgn_wgt          white            black       \n",
              " Min.   :0.000   Min.   : 3.234   Min.   :0.0000   Min.   :0.0000  \n",
              " 1st Qu.:0.000   1st Qu.: 8.972   1st Qu.:0.0000   1st Qu.:0.0000  \n",
              " Median :1.000   Median : 9.308   Median :0.0000   Median :0.0000  \n",
              " Mean   :0.598   Mean   :10.582   Mean   :0.2647   Mean   :0.4838  \n",
              " 3rd Qu.:1.000   3rd Qu.:12.497   3rd Qu.:1.0000   3rd Qu.:1.0000  \n",
              " Max.   :1.000   Max.   :19.995   Max.   :1.0000   Max.   :1.0000  \n",
              "                                  NA's   :3        NA's   :3       \n",
              "    hispanic      eng_sec_language havekids_at_bline      male       \n",
              " Min.   :0.0000   Min.   :0.0000   Min.   :0.0000    Min.   :0.0000  \n",
              " 1st Qu.:0.0000   1st Qu.:0.0000   1st Qu.:0.0000    1st Qu.:0.0000  \n",
              " Median :0.0000   Median :0.0000   Median :0.0000    Median :1.0000  \n",
              " Mean   :0.1787   Mean   :0.1427   Mean   :0.1912    Mean   :0.6025  \n",
              " 3rd Qu.:0.0000   3rd Qu.:0.0000   3rd Qu.:0.0000    3rd Qu.:1.0000  \n",
              " Max.   :1.0000   Max.   :1.0000   Max.   :1.0000    Max.   :1.0000  \n",
              " NA's   :3        NA's   :32       NA's   :100                       \n",
              " educlevel_at_bline hsgrad_at_bline   ged_at_bline     everwork_at_bline\n",
              " Min.   : 0.00      Min.   :0.0000   Min.   :0.00000   Min.   :0.0000   \n",
              " 1st Qu.: 9.00      1st Qu.:0.0000   1st Qu.:0.00000   1st Qu.:1.0000   \n",
              " Median :10.00      Median :0.0000   Median :0.00000   Median :1.0000   \n",
              " Mean   :10.08      Mean   :0.1822   Mean   :0.04874   Mean   :0.7945   \n",
              " 3rd Qu.:11.00      3rd Qu.:0.0000   3rd Qu.:0.00000   3rd Qu.:1.0000   \n",
              " Max.   :20.00      Max.   :1.0000   Max.   :1.00000   Max.   :1.0000   \n",
              " NA's   :25         NA's   :65       NA's   :10        NA's   :3        \n",
              " wrk_lyr_bline    mos_wrk_lyr_bline earn_lyr_bline     wage_bline   \n",
              " Min.   :0.0000   Min.   : 0.000    Min.   :     0   Min.   : 1.50  \n",
              " 1st Qu.:0.0000   1st Qu.: 0.000    1st Qu.:     0   1st Qu.: 4.25  \n",
              " Median :1.0000   Median : 2.000    Median :  1000   Median : 4.90  \n",
              " Mean   :0.6412   Mean   : 3.694    Mean   :  2949   Mean   : 5.07  \n",
              " 3rd Qu.:1.0000   3rd Qu.: 6.750    3rd Qu.:  4248   3rd Qu.: 5.50  \n",
              " Max.   :1.0000   Max.   :12.000    Max.   :337600   Max.   :15.00  \n",
              " NA's   :2        NA's   :662       NA's   :937      NA's   :5503   \n",
              " anywlfr_bline    alcohol_bline     arrest_bline      jail_bline    \n",
              " Min.   :0.0000   Min.   :0.0000   Min.   :0.0000   Min.   :0.0000  \n",
              " 1st Qu.:0.0000   1st Qu.:0.0000   1st Qu.:0.0000   1st Qu.:0.0000  \n",
              " Median :1.0000   Median :1.0000   Median :0.0000   Median :0.0000  \n",
              " Mean   :0.5854   Mean   :0.5836   Mean   :0.2620   Mean   :0.0705  \n",
              " 3rd Qu.:1.0000   3rd Qu.:1.0000   3rd Qu.:0.9879   3rd Qu.:0.0000  \n",
              " Max.   :1.0000   Max.   :1.0000   Max.   :1.0000   Max.   :1.0000  \n",
              " NA's   :1424     NA's   :5        NA's   :11       NA's   :627     \n",
              "  participate       voc_in_jc        work_wk48       pct_wks_wrk    \n",
              " Min.   :0.0000   Min.   :0.0000   Min.   :0.0000   Min.   :  0.00  \n",
              " 1st Qu.:0.0000   1st Qu.:0.0000   1st Qu.:0.0000   1st Qu.: 25.96  \n",
              " Median :0.0000   Median :0.0000   Median :1.0000   Median : 45.67  \n",
              " Mean   :0.4463   Mean   :0.3767   Mean   :0.6016   Mean   : 45.85  \n",
              " 3rd Qu.:1.0000   3rd Qu.:1.0000   3rd Qu.:1.0000   3rd Qu.: 64.90  \n",
              " Max.   :1.0000   Max.   :1.0000   Max.   :1.0000   Max.   :100.00  \n",
              " NA's   :2494     NA's   :2560     NA's   :2843     NA's   :2899    \n",
              " logwage_wk208     wagenotmiss         attrit           nomiss      \n",
              " Min.   :-3.162   Min.   :0.0000   Min.   :0.0000   Min.   :0.0000  \n",
              " 1st Qu.: 1.833   1st Qu.:1.0000   1st Qu.:0.0000   1st Qu.:0.0000  \n",
              " Median : 2.035   Median :1.0000   Median :0.0000   Median :1.0000  \n",
              " Mean   : 2.065   Mean   :0.8379   Mean   :0.1788   Mean   :0.5567  \n",
              " 3rd Qu.: 2.251   3rd Qu.:1.0000   3rd Qu.:0.0000   3rd Qu.:1.0000  \n",
              " Max.   : 6.215   Max.   :1.0000   Max.   :1.0000   Max.   :1.0000  \n",
              " NA's   :4213     NA's   :2415                                      "
            ]
          },
          "metadata": {}
        }
      ]
    },
    {
      "cell_type": "markdown",
      "source": [
        "Explore in class characteristics of differnet variables\n",
        "\n",
        "Compare hispanics in control and treatment group\n",
        "\n",
        "First compare means"
      ],
      "metadata": {
        "id": "YAOf3AWZDDZ7"
      }
    },
    {
      "cell_type": "markdown",
      "source": [
        "In control group"
      ],
      "metadata": {
        "id": "AgzD_RKmDREi"
      }
    },
    {
      "cell_type": "code",
      "source": [
        "mean(JobCorps[JobCorps$treatmnt==0,\"hispanic\"] ,na.rm=TRUE)"
      ],
      "metadata": {
        "colab": {
          "base_uri": "https://localhost:8080/",
          "height": 34
        },
        "id": "VYhbxvcoDDJ-",
        "outputId": "ca29322b-0457-40a5-e19a-704054a0e541"
      },
      "execution_count": 8,
      "outputs": [
        {
          "output_type": "display_data",
          "data": {
            "text/html": [
              "0.182906612635845"
            ],
            "text/markdown": "0.182906612635845",
            "text/latex": "0.182906612635845",
            "text/plain": [
              "[1] 0.1829066"
            ]
          },
          "metadata": {}
        }
      ]
    },
    {
      "cell_type": "code",
      "source": [
        "sum(JobCorps[JobCorps$treatmnt==0,\"hispanic\"] ,na.rm=TRUE)"
      ],
      "metadata": {
        "colab": {
          "base_uri": "https://localhost:8080/",
          "height": 34
        },
        "id": "chq-8RcdDLE_",
        "outputId": "9a862103-b3e5-41ab-d1b9-e0139e74fca1"
      },
      "execution_count": 9,
      "outputs": [
        {
          "output_type": "display_data",
          "data": {
            "text/html": [
              "993"
            ],
            "text/markdown": "993",
            "text/latex": "993",
            "text/plain": [
              "[1] 993"
            ]
          },
          "metadata": {}
        }
      ]
    },
    {
      "cell_type": "markdown",
      "source": [
        "In treatment group"
      ],
      "metadata": {
        "id": "26N5yTZfDTsN"
      }
    },
    {
      "cell_type": "code",
      "source": [
        "mean(JobCorps[JobCorps$treatmnt==1,\"hispanic\"],na.rm=TRUE)"
      ],
      "metadata": {
        "colab": {
          "base_uri": "https://localhost:8080/",
          "height": 34
        },
        "id": "YFHYaDsADVai",
        "outputId": "8b30ad24-260b-480e-c050-2bee0333e3b0"
      },
      "execution_count": 10,
      "outputs": [
        {
          "output_type": "display_data",
          "data": {
            "text/html": [
              "0.175807849449053"
            ],
            "text/markdown": "0.175807849449053",
            "text/latex": "0.175807849449053",
            "text/plain": [
              "[1] 0.1758078"
            ]
          },
          "metadata": {}
        }
      ]
    },
    {
      "cell_type": "code",
      "source": [
        "sum(JobCorps[JobCorps$treatmnt==1,\"hispanic\"] ,na.rm=TRUE)"
      ],
      "metadata": {
        "colab": {
          "base_uri": "https://localhost:8080/",
          "height": 34
        },
        "id": "mtTNdGQhDZut",
        "outputId": "46fd4ca7-1e4d-457f-b4fd-95f5736d3b25"
      },
      "execution_count": 11,
      "outputs": [
        {
          "output_type": "display_data",
          "data": {
            "text/html": [
              "1420"
            ],
            "text/markdown": "1420",
            "text/latex": "1420",
            "text/plain": [
              "[1] 1420"
            ]
          },
          "metadata": {}
        }
      ]
    },
    {
      "cell_type": "code",
      "source": [
        "# Calculate means and confidence intervals for \"hispanic\" by treatment group\n",
        "treatment_means <- JobCorps %>%\n",
        "  group_by(treatmnt) %>%\n",
        "  summarize(\n",
        "    mean_hispanic = mean(hispanic, na.rm = TRUE),\n",
        "    ci_lower = mean(hispanic, na.rm = TRUE) - qt(0.975, df = n() - 1) * sd(hispanic, na.rm = TRUE) / sqrt(n()),\n",
        "    ci_upper = mean(hispanic, na.rm = TRUE) + qt(0.975, df = n() - 1) * sd(hispanic, na.rm = TRUE) / sqrt(n())\n",
        "  )\n",
        "treatment_means\n"
      ],
      "metadata": {
        "colab": {
          "base_uri": "https://localhost:8080/",
          "height": 161
        },
        "id": "WLp2l6QSQBmV",
        "outputId": "60fb0b4e-fd28-49ba-cc3e-209f8a49ad86"
      },
      "execution_count": 12,
      "outputs": [
        {
          "output_type": "display_data",
          "data": {
            "text/html": [
              "<table class=\"dataframe\">\n",
              "<caption>A tibble: 2 × 4</caption>\n",
              "<thead>\n",
              "\t<tr><th scope=col>treatmnt</th><th scope=col>mean_hispanic</th><th scope=col>ci_lower</th><th scope=col>ci_upper</th></tr>\n",
              "\t<tr><th scope=col>&lt;int&gt;</th><th scope=col>&lt;dbl&gt;</th><th scope=col>&lt;dbl&gt;</th><th scope=col>&lt;dbl&gt;</th></tr>\n",
              "</thead>\n",
              "<tbody>\n",
              "\t<tr><td>0</td><td>0.1829066</td><td>0.1726209</td><td>0.1931924</td></tr>\n",
              "\t<tr><td>1</td><td>0.1758078</td><td>0.1675056</td><td>0.1841101</td></tr>\n",
              "</tbody>\n",
              "</table>\n"
            ],
            "text/markdown": "\nA tibble: 2 × 4\n\n| treatmnt &lt;int&gt; | mean_hispanic &lt;dbl&gt; | ci_lower &lt;dbl&gt; | ci_upper &lt;dbl&gt; |\n|---|---|---|---|\n| 0 | 0.1829066 | 0.1726209 | 0.1931924 |\n| 1 | 0.1758078 | 0.1675056 | 0.1841101 |\n\n",
            "text/latex": "A tibble: 2 × 4\n\\begin{tabular}{llll}\n treatmnt & mean\\_hispanic & ci\\_lower & ci\\_upper\\\\\n <int> & <dbl> & <dbl> & <dbl>\\\\\n\\hline\n\t 0 & 0.1829066 & 0.1726209 & 0.1931924\\\\\n\t 1 & 0.1758078 & 0.1675056 & 0.1841101\\\\\n\\end{tabular}\n",
            "text/plain": [
              "  treatmnt mean_hispanic ci_lower  ci_upper \n",
              "1 0        0.1829066     0.1726209 0.1931924\n",
              "2 1        0.1758078     0.1675056 0.1841101"
            ]
          },
          "metadata": {}
        }
      ]
    },
    {
      "cell_type": "code",
      "source": [
        "# Bar plot with confidence intervals\n",
        "ggplot(treatment_means, aes(x = factor(treatmnt), y = mean_hispanic, fill = factor(treatmnt))) +\n",
        "  geom_bar(stat = \"identity\", alpha = 0.6) +                          # Bar for mean\n",
        "  geom_errorbar(aes(ymin = ci_lower, ymax = ci_upper), width = 0.2,   # Confidence intervals\n",
        "                color = \"black\") +\n",
        "  labs(\n",
        "    title = \"Mean Proportion of Hispanics by Treatment\",\n",
        "    x = \"Treatment (0 = Control, 1 = Treated)\",\n",
        "    y = \"Mean Proportion of Hispanics\",\n",
        "    fill = \"Treatment\"\n",
        "  ) +\n",
        "  theme_minimal()"
      ],
      "metadata": {
        "colab": {
          "base_uri": "https://localhost:8080/",
          "height": 437
        },
        "id": "WAJzXJI8TemF",
        "outputId": "6027271f-66ce-43ec-b01c-db2d13c8143a"
      },
      "execution_count": 13,
      "outputs": [
        {
          "output_type": "display_data",
          "data": {
            "text/plain": [
              "plot without title"
            ],
            "image/png": "[encoded data removed]"
          },
          "metadata": {
            "image/png": {
              "width": 420,
              "height": 420
            }
          }
        }
      ]
    },
    {
      "cell_type": "code",
      "source": [
        "#install.packages('Hmisc')\n",
        "library(Hmisc)\n",
        "\n",
        "ggplot(JobCorps, aes(x = factor(treatmnt), y = hispanic, fill = factor(treatmnt))) +\n",
        "  stat_summary(fun = mean, geom = \"bar\", alpha = 0.6) +\n",
        "  stat_summary(\n",
        "    fun.data = mean_cl_normal,                                         # 95% confidence intervals\n",
        "    geom = \"errorbar\",\n",
        "    width = 0.2\n",
        "  ) +\n",
        "  labs(\n",
        "    title = \"Mean Proportion of Hispanics by Treatment\",\n",
        "    x = \"Treatment (0 = Control, 1 = Treated)\",\n",
        "    y = \"Mean Proportion of Hispanics\",\n",
        "    fill = \"Treatment\"\n",
        "  ) +\n",
        "  scale_fill_brewer(palette = \"Set2\") +\n",
        "  theme_minimal()"
      ],
      "metadata": {
        "colab": {
          "base_uri": "https://localhost:8080/",
          "height": 784
        },
        "id": "Xjv2eT-ZOeCE",
        "outputId": "713009d7-c25d-4be5-a351-93ffed812045"
      },
      "execution_count": 14,
      "outputs": [
        {
          "output_type": "stream",
          "name": "stderr",
          "text": [
            "\n",
            "Attaching package: ‘Hmisc’\n",
            "\n",
            "\n",
            "The following objects are masked from ‘package:dplyr’:\n",
            "\n",
            "    src, summarize\n",
            "\n",
            "\n",
            "The following objects are masked from ‘package:base’:\n",
            "\n",
            "    format.pval, units\n",
            "\n",
            "\n",
            "Warning message:\n",
            "“\u001b[1m\u001b[22mRemoved 3 rows containing non-finite outside the scale range\n",
            "(`stat_summary()`).”\n",
            "Warning message:\n",
            "“\u001b[1m\u001b[22mRemoved 3 rows containing non-finite outside the scale range\n",
            "(`stat_summary()`).”\n"
          ]
        },
        {
          "output_type": "display_data",
          "data": {
            "text/plain": [
              "plot without title"
            ],
            "image/png": "[encoded data removed]"
          },
          "metadata": {
            "image/png": {
              "width": 420,
              "height": 420
            }
          }
        }
      ]
    },
    {
      "cell_type": "markdown",
      "source": [
        "Difference in means test"
      ],
      "metadata": {
        "id": "12bHc0ylDdbR"
      }
    },
    {
      "cell_type": "code",
      "source": [
        "mytest <- with( JobCorps, t.test(hispanic~treatmnt,alternative = c(\"two.sided\"),conf.level = 0.95))\n",
        "mytest"
      ],
      "metadata": {
        "colab": {
          "base_uri": "https://localhost:8080/",
          "height": 208
        },
        "id": "pPm07M1KDelf",
        "outputId": "2710afdc-8fb4-47b1-b1ae-08697718bd53"
      },
      "execution_count": 15,
      "outputs": [
        {
          "output_type": "display_data",
          "data": {
            "text/plain": [
              "\n",
              "\tWelch Two Sample t-test\n",
              "\n",
              "data:  hispanic by treatmnt\n",
              "t = 1.0527, df = 11519, p-value = 0.2925\n",
              "alternative hypothesis: true difference in means between group 0 and group 1 is not equal to 0\n",
              "95 percent confidence interval:\n",
              " -0.006119742  0.020317268\n",
              "sample estimates:\n",
              "mean in group 0 mean in group 1 \n",
              "      0.1829066       0.1758078 \n"
            ]
          },
          "metadata": {}
        }
      ]
    },
    {
      "cell_type": "code",
      "source": [
        "t.test(JobCorps$hispanic~JobCorps$treatmnt,alternative = c(\"two.sided\"),conf.level = 0.95)"
      ],
      "metadata": {
        "colab": {
          "base_uri": "https://localhost:8080/",
          "height": 208
        },
        "id": "bPfL89DnDiMZ",
        "outputId": "1fbe1163-5660-4c4a-e76f-77af1973c026"
      },
      "execution_count": 16,
      "outputs": [
        {
          "output_type": "display_data",
          "data": {
            "text/plain": [
              "\n",
              "\tWelch Two Sample t-test\n",
              "\n",
              "data:  JobCorps$hispanic by JobCorps$treatmnt\n",
              "t = 1.0527, df = 11519, p-value = 0.2925\n",
              "alternative hypothesis: true difference in means between group 0 and group 1 is not equal to 0\n",
              "95 percent confidence interval:\n",
              " -0.006119742  0.020317268\n",
              "sample estimates:\n",
              "mean in group 0 mean in group 1 \n",
              "      0.1829066       0.1758078 \n"
            ]
          },
          "metadata": {}
        }
      ]
    },
    {
      "cell_type": "code",
      "source": [
        "t.test(JobCorps$male~JobCorps$treatmnt,alternative = c(\"two.sided\"),conf.level = 0.95)"
      ],
      "metadata": {
        "colab": {
          "base_uri": "https://localhost:8080/",
          "height": 208
        },
        "id": "DxnByNGNDwte",
        "outputId": "111dba48-5151-4e9d-ebf9-41079a7b2f81"
      },
      "execution_count": 17,
      "outputs": [
        {
          "output_type": "display_data",
          "data": {
            "text/plain": [
              "\n",
              "\tWelch Two Sample t-test\n",
              "\n",
              "data:  JobCorps$male by JobCorps$treatmnt\n",
              "t = 9.7337, df = 11944, p-value < 2.2e-16\n",
              "alternative hypothesis: true difference in means between group 0 and group 1 is not equal to 0\n",
              "95 percent confidence interval:\n",
              " 0.06603005 0.09933011\n",
              "sample estimates:\n",
              "mean in group 0 mean in group 1 \n",
              "      0.6519337       0.5692536 \n"
            ]
          },
          "metadata": {}
        }
      ]
    },
    {
      "cell_type": "markdown",
      "source": [
        "conclusion is not possible to reject null hypothesis that hispanic in both groups are the same\n"
      ],
      "metadata": {
        "id": "74y4HYxaD0k6"
      }
    },
    {
      "cell_type": "markdown",
      "source": [
        "use OLS model to see of randomization was sucessful\n",
        "\n",
        " first define vector of variables of interest"
      ],
      "metadata": {
        "id": "16bwvc0LD3-p"
      }
    },
    {
      "cell_type": "code",
      "source": [
        "target.vars<-colnames(JobCorps)[19:36]\n",
        "target.vars"
      ],
      "metadata": {
        "colab": {
          "base_uri": "https://localhost:8080/",
          "height": 34
        },
        "id": "_xaIaKH7D8Bd",
        "outputId": "f17896ae-9e65-4686-833c-5de86467714b"
      },
      "execution_count": 18,
      "outputs": [
        {
          "output_type": "display_data",
          "data": {
            "text/html": [
              "<style>\n",
              ".list-inline {list-style: none; margin:0; padding: 0}\n",
              ".list-inline>li {display: inline-block}\n",
              ".list-inline>li:not(:last-child)::after {content: \"\\00b7\"; padding: 0 .5ex}\n",
              "</style>\n",
              "<ol class=list-inline><li>'white'</li><li>'black'</li><li>'hispanic'</li><li>'eng_sec_language'</li><li>'havekids_at_bline'</li><li>'male'</li><li>'educlevel_at_bline'</li><li>'hsgrad_at_bline'</li><li>'ged_at_bline'</li><li>'everwork_at_bline'</li><li>'wrk_lyr_bline'</li><li>'mos_wrk_lyr_bline'</li><li>'earn_lyr_bline'</li><li>'wage_bline'</li><li>'anywlfr_bline'</li><li>'alcohol_bline'</li><li>'arrest_bline'</li><li>'jail_bline'</li></ol>\n"
            ],
            "text/markdown": "1. 'white'\n2. 'black'\n3. 'hispanic'\n4. 'eng_sec_language'\n5. 'havekids_at_bline'\n6. 'male'\n7. 'educlevel_at_bline'\n8. 'hsgrad_at_bline'\n9. 'ged_at_bline'\n10. 'everwork_at_bline'\n11. 'wrk_lyr_bline'\n12. 'mos_wrk_lyr_bline'\n13. 'earn_lyr_bline'\n14. 'wage_bline'\n15. 'anywlfr_bline'\n16. 'alcohol_bline'\n17. 'arrest_bline'\n18. 'jail_bline'\n\n\n",
            "text/latex": "\\begin{enumerate*}\n\\item 'white'\n\\item 'black'\n\\item 'hispanic'\n\\item 'eng\\_sec\\_language'\n\\item 'havekids\\_at\\_bline'\n\\item 'male'\n\\item 'educlevel\\_at\\_bline'\n\\item 'hsgrad\\_at\\_bline'\n\\item 'ged\\_at\\_bline'\n\\item 'everwork\\_at\\_bline'\n\\item 'wrk\\_lyr\\_bline'\n\\item 'mos\\_wrk\\_lyr\\_bline'\n\\item 'earn\\_lyr\\_bline'\n\\item 'wage\\_bline'\n\\item 'anywlfr\\_bline'\n\\item 'alcohol\\_bline'\n\\item 'arrest\\_bline'\n\\item 'jail\\_bline'\n\\end{enumerate*}\n",
            "text/plain": [
              " [1] \"white\"              \"black\"              \"hispanic\"          \n",
              " [4] \"eng_sec_language\"   \"havekids_at_bline\"  \"male\"              \n",
              " [7] \"educlevel_at_bline\" \"hsgrad_at_bline\"    \"ged_at_bline\"      \n",
              "[10] \"everwork_at_bline\"  \"wrk_lyr_bline\"      \"mos_wrk_lyr_bline\" \n",
              "[13] \"earn_lyr_bline\"     \"wage_bline\"         \"anywlfr_bline\"     \n",
              "[16] \"alcohol_bline\"      \"arrest_bline\"       \"jail_bline\"        "
            ]
          },
          "metadata": {}
        }
      ]
    },
    {
      "cell_type": "code",
      "source": [
        "target.vars<-subset(colnames(JobCorps), grepl(\"earnq\",colnames(JobCorps))==FALSE)\n",
        "target.vars"
      ],
      "metadata": {
        "colab": {
          "base_uri": "https://localhost:8080/",
          "height": 52
        },
        "id": "DRzJcM17D_m6",
        "outputId": "d2e63ae6-e132-4a7d-a2cd-80d5b918dbf9"
      },
      "execution_count": 19,
      "outputs": [
        {
          "output_type": "display_data",
          "data": {
            "text/html": [
              "<style>\n",
              ".list-inline {list-style: none; margin:0; padding: 0}\n",
              ".list-inline>li {display: inline-block}\n",
              ".list-inline>li:not(:last-child)::after {content: \"\\00b7\"; padding: 0 .5ex}\n",
              "</style>\n",
              "<ol class=list-inline><li>'treatmnt'</li><li>'dsgn_wgt'</li><li>'white'</li><li>'black'</li><li>'hispanic'</li><li>'eng_sec_language'</li><li>'havekids_at_bline'</li><li>'male'</li><li>'educlevel_at_bline'</li><li>'hsgrad_at_bline'</li><li>'ged_at_bline'</li><li>'everwork_at_bline'</li><li>'wrk_lyr_bline'</li><li>'mos_wrk_lyr_bline'</li><li>'earn_lyr_bline'</li><li>'wage_bline'</li><li>'anywlfr_bline'</li><li>'alcohol_bline'</li><li>'arrest_bline'</li><li>'jail_bline'</li><li>'participate'</li><li>'voc_in_jc'</li><li>'work_wk48'</li><li>'pct_wks_wrk'</li><li>'logwage_wk208'</li><li>'wagenotmiss'</li><li>'attrit'</li><li>'nomiss'</li></ol>\n"
            ],
            "text/markdown": "1. 'treatmnt'\n2. 'dsgn_wgt'\n3. 'white'\n4. 'black'\n5. 'hispanic'\n6. 'eng_sec_language'\n7. 'havekids_at_bline'\n8. 'male'\n9. 'educlevel_at_bline'\n10. 'hsgrad_at_bline'\n11. 'ged_at_bline'\n12. 'everwork_at_bline'\n13. 'wrk_lyr_bline'\n14. 'mos_wrk_lyr_bline'\n15. 'earn_lyr_bline'\n16. 'wage_bline'\n17. 'anywlfr_bline'\n18. 'alcohol_bline'\n19. 'arrest_bline'\n20. 'jail_bline'\n21. 'participate'\n22. 'voc_in_jc'\n23. 'work_wk48'\n24. 'pct_wks_wrk'\n25. 'logwage_wk208'\n26. 'wagenotmiss'\n27. 'attrit'\n28. 'nomiss'\n\n\n",
            "text/latex": "\\begin{enumerate*}\n\\item 'treatmnt'\n\\item 'dsgn\\_wgt'\n\\item 'white'\n\\item 'black'\n\\item 'hispanic'\n\\item 'eng\\_sec\\_language'\n\\item 'havekids\\_at\\_bline'\n\\item 'male'\n\\item 'educlevel\\_at\\_bline'\n\\item 'hsgrad\\_at\\_bline'\n\\item 'ged\\_at\\_bline'\n\\item 'everwork\\_at\\_bline'\n\\item 'wrk\\_lyr\\_bline'\n\\item 'mos\\_wrk\\_lyr\\_bline'\n\\item 'earn\\_lyr\\_bline'\n\\item 'wage\\_bline'\n\\item 'anywlfr\\_bline'\n\\item 'alcohol\\_bline'\n\\item 'arrest\\_bline'\n\\item 'jail\\_bline'\n\\item 'participate'\n\\item 'voc\\_in\\_jc'\n\\item 'work\\_wk48'\n\\item 'pct\\_wks\\_wrk'\n\\item 'logwage\\_wk208'\n\\item 'wagenotmiss'\n\\item 'attrit'\n\\item 'nomiss'\n\\end{enumerate*}\n",
            "text/plain": [
              " [1] \"treatmnt\"           \"dsgn_wgt\"           \"white\"             \n",
              " [4] \"black\"              \"hispanic\"           \"eng_sec_language\"  \n",
              " [7] \"havekids_at_bline\"  \"male\"               \"educlevel_at_bline\"\n",
              "[10] \"hsgrad_at_bline\"    \"ged_at_bline\"       \"everwork_at_bline\" \n",
              "[13] \"wrk_lyr_bline\"      \"mos_wrk_lyr_bline\"  \"earn_lyr_bline\"    \n",
              "[16] \"wage_bline\"         \"anywlfr_bline\"      \"alcohol_bline\"     \n",
              "[19] \"arrest_bline\"       \"jail_bline\"         \"participate\"       \n",
              "[22] \"voc_in_jc\"          \"work_wk48\"          \"pct_wks_wrk\"       \n",
              "[25] \"logwage_wk208\"      \"wagenotmiss\"        \"attrit\"            \n",
              "[28] \"nomiss\"            "
            ]
          },
          "metadata": {}
        }
      ]
    },
    {
      "cell_type": "code",
      "source": [
        "summary(JobCorps[, target.vars])"
      ],
      "metadata": {
        "colab": {
          "base_uri": "https://localhost:8080/",
          "height": 989
        },
        "id": "qfYiQAHAQ9Gq",
        "outputId": "751f0907-45fe-4d84-a311-8836631536b4"
      },
      "execution_count": 20,
      "outputs": [
        {
          "output_type": "display_data",
          "data": {
            "text/plain": [
              "    treatmnt        dsgn_wgt          white            black       \n",
              " Min.   :0.000   Min.   : 3.234   Min.   :0.0000   Min.   :0.0000  \n",
              " 1st Qu.:0.000   1st Qu.: 8.972   1st Qu.:0.0000   1st Qu.:0.0000  \n",
              " Median :1.000   Median : 9.308   Median :0.0000   Median :0.0000  \n",
              " Mean   :0.598   Mean   :10.582   Mean   :0.2647   Mean   :0.4838  \n",
              " 3rd Qu.:1.000   3rd Qu.:12.497   3rd Qu.:1.0000   3rd Qu.:1.0000  \n",
              " Max.   :1.000   Max.   :19.995   Max.   :1.0000   Max.   :1.0000  \n",
              "                                  NA's   :3        NA's   :3       \n",
              "    hispanic      eng_sec_language havekids_at_bline      male       \n",
              " Min.   :0.0000   Min.   :0.0000   Min.   :0.0000    Min.   :0.0000  \n",
              " 1st Qu.:0.0000   1st Qu.:0.0000   1st Qu.:0.0000    1st Qu.:0.0000  \n",
              " Median :0.0000   Median :0.0000   Median :0.0000    Median :1.0000  \n",
              " Mean   :0.1787   Mean   :0.1427   Mean   :0.1912    Mean   :0.6025  \n",
              " 3rd Qu.:0.0000   3rd Qu.:0.0000   3rd Qu.:0.0000    3rd Qu.:1.0000  \n",
              " Max.   :1.0000   Max.   :1.0000   Max.   :1.0000    Max.   :1.0000  \n",
              " NA's   :3        NA's   :32       NA's   :100                       \n",
              " educlevel_at_bline hsgrad_at_bline   ged_at_bline     everwork_at_bline\n",
              " Min.   : 0.00      Min.   :0.0000   Min.   :0.00000   Min.   :0.0000   \n",
              " 1st Qu.: 9.00      1st Qu.:0.0000   1st Qu.:0.00000   1st Qu.:1.0000   \n",
              " Median :10.00      Median :0.0000   Median :0.00000   Median :1.0000   \n",
              " Mean   :10.08      Mean   :0.1822   Mean   :0.04874   Mean   :0.7945   \n",
              " 3rd Qu.:11.00      3rd Qu.:0.0000   3rd Qu.:0.00000   3rd Qu.:1.0000   \n",
              " Max.   :20.00      Max.   :1.0000   Max.   :1.00000   Max.   :1.0000   \n",
              " NA's   :25         NA's   :65       NA's   :10        NA's   :3        \n",
              " wrk_lyr_bline    mos_wrk_lyr_bline earn_lyr_bline     wage_bline   \n",
              " Min.   :0.0000   Min.   : 0.000    Min.   :     0   Min.   : 1.50  \n",
              " 1st Qu.:0.0000   1st Qu.: 0.000    1st Qu.:     0   1st Qu.: 4.25  \n",
              " Median :1.0000   Median : 2.000    Median :  1000   Median : 4.90  \n",
              " Mean   :0.6412   Mean   : 3.694    Mean   :  2949   Mean   : 5.07  \n",
              " 3rd Qu.:1.0000   3rd Qu.: 6.750    3rd Qu.:  4248   3rd Qu.: 5.50  \n",
              " Max.   :1.0000   Max.   :12.000    Max.   :337600   Max.   :15.00  \n",
              " NA's   :2        NA's   :662       NA's   :937      NA's   :5503   \n",
              " anywlfr_bline    alcohol_bline     arrest_bline      jail_bline    \n",
              " Min.   :0.0000   Min.   :0.0000   Min.   :0.0000   Min.   :0.0000  \n",
              " 1st Qu.:0.0000   1st Qu.:0.0000   1st Qu.:0.0000   1st Qu.:0.0000  \n",
              " Median :1.0000   Median :1.0000   Median :0.0000   Median :0.0000  \n",
              " Mean   :0.5854   Mean   :0.5836   Mean   :0.2620   Mean   :0.0705  \n",
              " 3rd Qu.:1.0000   3rd Qu.:1.0000   3rd Qu.:0.9879   3rd Qu.:0.0000  \n",
              " Max.   :1.0000   Max.   :1.0000   Max.   :1.0000   Max.   :1.0000  \n",
              " NA's   :1424     NA's   :5        NA's   :11       NA's   :627     \n",
              "  participate       voc_in_jc        work_wk48       pct_wks_wrk    \n",
              " Min.   :0.0000   Min.   :0.0000   Min.   :0.0000   Min.   :  0.00  \n",
              " 1st Qu.:0.0000   1st Qu.:0.0000   1st Qu.:0.0000   1st Qu.: 25.96  \n",
              " Median :0.0000   Median :0.0000   Median :1.0000   Median : 45.67  \n",
              " Mean   :0.4463   Mean   :0.3767   Mean   :0.6016   Mean   : 45.85  \n",
              " 3rd Qu.:1.0000   3rd Qu.:1.0000   3rd Qu.:1.0000   3rd Qu.: 64.90  \n",
              " Max.   :1.0000   Max.   :1.0000   Max.   :1.0000   Max.   :100.00  \n",
              " NA's   :2494     NA's   :2560     NA's   :2843     NA's   :2899    \n",
              " logwage_wk208     wagenotmiss         attrit           nomiss      \n",
              " Min.   :-3.162   Min.   :0.0000   Min.   :0.0000   Min.   :0.0000  \n",
              " 1st Qu.: 1.833   1st Qu.:1.0000   1st Qu.:0.0000   1st Qu.:0.0000  \n",
              " Median : 2.035   Median :1.0000   Median :0.0000   Median :1.0000  \n",
              " Mean   : 2.065   Mean   :0.8379   Mean   :0.1788   Mean   :0.5567  \n",
              " 3rd Qu.: 2.251   3rd Qu.:1.0000   3rd Qu.:0.0000   3rd Qu.:1.0000  \n",
              " Max.   : 6.215   Max.   :1.0000   Max.   :1.0000   Max.   :1.0000  \n",
              " NA's   :4213     NA's   :2415                                      "
            ]
          },
          "metadata": {}
        }
      ]
    },
    {
      "cell_type": "code",
      "source": [
        "cor_matrix <- cor(JobCorps[, c(\"white\", \"black\", \"hispanic\", \"treatmnt\")], use = \"complete.obs\")\n",
        "cor_matrix"
      ],
      "metadata": {
        "colab": {
          "base_uri": "https://localhost:8080/",
          "height": 192
        },
        "id": "y6MetmkjWeH3",
        "outputId": "f8e772a5-b4a4-4e08-bc37-b136037e985a"
      },
      "execution_count": 21,
      "outputs": [
        {
          "output_type": "display_data",
          "data": {
            "text/html": [
              "<table class=\"dataframe\">\n",
              "<caption>A matrix: 4 × 4 of type dbl</caption>\n",
              "<thead>\n",
              "\t<tr><th></th><th scope=col>white</th><th scope=col>black</th><th scope=col>hispanic</th><th scope=col>treatmnt</th></tr>\n",
              "</thead>\n",
              "<tbody>\n",
              "\t<tr><th scope=row>white</th><td> 1.000000000</td><td>-0.580834505</td><td>-0.279830911</td><td> 0.004806219</td></tr>\n",
              "\t<tr><th scope=row>black</th><td>-0.580834505</td><td> 1.000000000</td><td>-0.451507564</td><td> 0.002861297</td></tr>\n",
              "\t<tr><th scope=row>hispanic</th><td>-0.279830911</td><td>-0.451507564</td><td> 1.000000000</td><td>-0.009085827</td></tr>\n",
              "\t<tr><th scope=row>treatmnt</th><td> 0.004806219</td><td> 0.002861297</td><td>-0.009085827</td><td> 1.000000000</td></tr>\n",
              "</tbody>\n",
              "</table>\n"
            ],
            "text/markdown": "\nA matrix: 4 × 4 of type dbl\n\n| <!--/--> | white | black | hispanic | treatmnt |\n|---|---|---|---|---|\n| white |  1.000000000 | -0.580834505 | -0.279830911 |  0.004806219 |\n| black | -0.580834505 |  1.000000000 | -0.451507564 |  0.002861297 |\n| hispanic | -0.279830911 | -0.451507564 |  1.000000000 | -0.009085827 |\n| treatmnt |  0.004806219 |  0.002861297 | -0.009085827 |  1.000000000 |\n\n",
            "text/latex": "A matrix: 4 × 4 of type dbl\n\\begin{tabular}{r|llll}\n  & white & black & hispanic & treatmnt\\\\\n\\hline\n\twhite &  1.000000000 & -0.580834505 & -0.279830911 &  0.004806219\\\\\n\tblack & -0.580834505 &  1.000000000 & -0.451507564 &  0.002861297\\\\\n\thispanic & -0.279830911 & -0.451507564 &  1.000000000 & -0.009085827\\\\\n\ttreatmnt &  0.004806219 &  0.002861297 & -0.009085827 &  1.000000000\\\\\n\\end{tabular}\n",
            "text/plain": [
              "         white        black        hispanic     treatmnt    \n",
              "white     1.000000000 -0.580834505 -0.279830911  0.004806219\n",
              "black    -0.580834505  1.000000000 -0.451507564  0.002861297\n",
              "hispanic -0.279830911 -0.451507564  1.000000000 -0.009085827\n",
              "treatmnt  0.004806219  0.002861297 -0.009085827  1.000000000"
            ]
          },
          "metadata": {}
        }
      ]
    },
    {
      "cell_type": "code",
      "source": [
        "heatmap(cor_matrix, symm = TRUE, col = colorRampPalette(c(\"blue\", \"white\", \"red\"))(50),\n",
        "        main = \"Heatmap of Correlations\")"
      ],
      "metadata": {
        "colab": {
          "base_uri": "https://localhost:8080/",
          "height": 437
        },
        "id": "vkwhNOlKWkG-",
        "outputId": "2041c85e-e224-4308-f4fd-3bf6364083c5"
      },
      "execution_count": 22,
      "outputs": [
        {
          "output_type": "display_data",
          "data": {
            "text/plain": [
              "Plot with title “Heatmap of Correlations”"
            ],
            "image/png": "[encoded data removed]"
          },
          "metadata": {
            "image/png": {
              "width": 420,
              "height": 420
            }
          }
        }
      ]
    },
    {
      "cell_type": "markdown",
      "source": [
        "run the regression, first a simple example with 3 observable caracteristics\n"
      ],
      "metadata": {
        "id": "WzR4R-w0EGi5"
      }
    },
    {
      "cell_type": "code",
      "source": [
        "model1<-lm(treatmnt~ white+black+hispanic, data=JobCorps)\n",
        "summary(model1)"
      ],
      "metadata": {
        "colab": {
          "base_uri": "https://localhost:8080/",
          "height": 382
        },
        "id": "-k_qyw7EEFLw",
        "outputId": "20ca7ce1-5ebe-43f5-d8ff-f28936ac0b16"
      },
      "execution_count": 23,
      "outputs": [
        {
          "output_type": "display_data",
          "data": {
            "text/plain": [
              "\n",
              "Call:\n",
              "lm(formula = treatmnt ~ white + black + hispanic, data = JobCorps)\n",
              "\n",
              "Residuals:\n",
              "    Min      1Q  Median      3Q     Max \n",
              "-0.6020 -0.5995  0.3980  0.4005  0.4115 \n",
              "\n",
              "Coefficients:\n",
              "             Estimate Std. Error t value Pr(>|t|)    \n",
              "(Intercept)  0.597561   0.015632  38.228   <2e-16 ***\n",
              "white        0.004397   0.017652   0.249    0.803    \n",
              "black        0.001919   0.016767   0.114    0.909    \n",
              "hispanic    -0.009082   0.018547  -0.490    0.624    \n",
              "---\n",
              "Signif. codes:  0 ‘***’ 0.001 ‘**’ 0.01 ‘*’ 0.05 ‘.’ 0.1 ‘ ’ 1\n",
              "\n",
              "Residual standard error: 0.4903 on 13502 degrees of freedom\n",
              "  (3 observations deleted due to missingness)\n",
              "Multiple R-squared:  8.908e-05,\tAdjusted R-squared:  -0.0001331 \n",
              "F-statistic: 0.401 on 3 and 13502 DF,  p-value: 0.7523\n"
            ]
          },
          "metadata": {}
        }
      ]
    },
    {
      "cell_type": "code",
      "source": [
        "plot(model1)"
      ],
      "metadata": {
        "colab": {
          "base_uri": "https://localhost:8080/",
          "height": 1000
        },
        "id": "Z4wSoiMYEND9",
        "outputId": "c50f0b94-90ac-4c56-dc7e-9ec03dd144ed"
      },
      "execution_count": 24,
      "outputs": [
        {
          "output_type": "display_data",
          "data": {
            "text/plain": [
              "Plot with title “”"
            ],
            "image/png": "[encoded data removed]"
          },
          "metadata": {
            "image/png": {
              "width": 420,
              "height": 420
            }
          }
        },
        {
          "output_type": "display_data",
          "data": {
            "text/plain": [
              "Plot with title “”"
            ],
            "image/png": "[encoded data removed]"
          },
          "metadata": {
            "image/png": {
              "width": 420,
              "height": 420
            }
          }
        },
        {
          "output_type": "display_data",
          "data": {
            "text/plain": [
              "Plot with title “”"
            ],
            "image/png": "[encoded data removed]"
          },
          "metadata": {
            "image/png": {
              "width": 420,
              "height": 420
            }
          }
        },
        {
          "output_type": "display_data",
          "data": {
            "text/plain": [
              "Plot with title “”"
            ],
            "image/png": "[encoded data removed]"
          },
          "metadata": {
            "image/png": {
              "width": 420,
              "height": 420
            }
          }
        }
      ]
    },
    {
      "cell_type": "markdown",
      "source": [
        " now all variables\n",
        "\n",
        "  first save the model"
      ],
      "metadata": {
        "id": "en4m12JMEVby"
      }
    },
    {
      "cell_type": "code",
      "source": [
        "formula.model2<-as.formula(paste(\"treatmnt\",\"~\",paste(target.vars,collapse=\"+\"),sep=\"\"))\n",
        "formula.model2\n"
      ],
      "metadata": {
        "colab": {
          "base_uri": "https://localhost:8080/",
          "height": 121
        },
        "id": "M8z9JpCCETbl",
        "outputId": "9222be8f-bb3b-4ca2-acce-05bbcad1cc94"
      },
      "execution_count": 25,
      "outputs": [
        {
          "output_type": "display_data",
          "data": {
            "text/plain": [
              "treatmnt ~ treatmnt + dsgn_wgt + white + black + hispanic + eng_sec_language + \n",
              "    havekids_at_bline + male + educlevel_at_bline + hsgrad_at_bline + \n",
              "    ged_at_bline + everwork_at_bline + wrk_lyr_bline + mos_wrk_lyr_bline + \n",
              "    earn_lyr_bline + wage_bline + anywlfr_bline + alcohol_bline + \n",
              "    arrest_bline + jail_bline + participate + voc_in_jc + work_wk48 + \n",
              "    pct_wks_wrk + logwage_wk208 + wagenotmiss + attrit + nomiss"
            ]
          },
          "metadata": {}
        }
      ]
    },
    {
      "cell_type": "markdown",
      "source": [
        "second run regression"
      ],
      "metadata": {
        "id": "0hPBD42_EgTc"
      }
    },
    {
      "cell_type": "code",
      "source": [
        "model2<-lm(formula.model2,data=JobCorps)\n",
        "summary(model2)"
      ],
      "metadata": {
        "colab": {
          "base_uri": "https://localhost:8080/",
          "height": 868
        },
        "id": "FTAUkg4CEi2x",
        "outputId": "b0f574e8-6892-4bad-ec5a-894b2f7a970d"
      },
      "execution_count": 26,
      "outputs": [
        {
          "output_type": "stream",
          "name": "stderr",
          "text": [
            "Warning message in model.matrix.default(mt, mf, contrasts):\n",
            "“the response appeared on the right-hand side and was dropped”\n",
            "Warning message in model.matrix.default(mt, mf, contrasts):\n",
            "“problem with term 1 in model.matrix: no columns are assigned”\n"
          ]
        },
        {
          "output_type": "display_data",
          "data": {
            "text/plain": [
              "\n",
              "Call:\n",
              "lm(formula = formula.model2, data = JobCorps)\n",
              "\n",
              "Residuals:\n",
              "     Min       1Q   Median       3Q      Max \n",
              "-0.78200 -0.21119 -0.00504  0.15335  0.59647 \n",
              "\n",
              "Coefficients: (4 not defined because of singularities)\n",
              "                     Estimate Std. Error t value Pr(>|t|)    \n",
              "(Intercept)         1.415e+00  5.048e-02  28.038  < 2e-16 ***\n",
              "dsgn_wgt           -8.592e-02  1.439e-03 -59.697  < 2e-16 ***\n",
              "white               2.449e-03  1.833e-02   0.134   0.8937    \n",
              "black              -3.710e-02  1.786e-02  -2.078   0.0378 *  \n",
              "hispanic           -3.371e-02  1.850e-02  -1.822   0.0685 .  \n",
              "eng_sec_language   -1.644e-02  1.502e-02  -1.095   0.2737    \n",
              "havekids_at_bline  -6.115e-02  1.050e-02  -5.825 6.13e-09 ***\n",
              "male               -1.452e-01  8.632e-03 -16.826  < 2e-16 ***\n",
              "educlevel_at_bline  1.442e-03  3.557e-03   0.405   0.6852    \n",
              "hsgrad_at_bline     5.565e-03  1.253e-02   0.444   0.6570    \n",
              "ged_at_bline        1.359e-02  1.666e-02   0.816   0.4147    \n",
              "everwork_at_bline          NA         NA      NA       NA    \n",
              "wrk_lyr_bline              NA         NA      NA       NA    \n",
              "mos_wrk_lyr_bline  -1.130e-03  1.538e-03  -0.735   0.4624    \n",
              "earn_lyr_bline      1.451e-06  1.283e-06   1.131   0.2580    \n",
              "wage_bline          3.840e-03  3.112e-03   1.234   0.2173    \n",
              "anywlfr_bline      -2.768e-03  8.307e-03  -0.333   0.7390    \n",
              "alcohol_bline       5.738e-03  8.507e-03   0.674   0.5000    \n",
              "arrest_bline        7.429e-03  1.110e-02   0.670   0.5032    \n",
              "jail_bline          7.227e-03  1.816e-02   0.398   0.6907    \n",
              "participate         3.270e-01  1.752e-02  18.661  < 2e-16 ***\n",
              "voc_in_jc           8.029e-02  1.724e-02   4.658 3.29e-06 ***\n",
              "work_wk48           1.476e-03  9.752e-03   0.151   0.8797    \n",
              "pct_wks_wrk        -1.707e-05  1.910e-04  -0.089   0.9288    \n",
              "logwage_wk208       7.330e-03  9.484e-03   0.773   0.4396    \n",
              "wagenotmiss                NA         NA      NA       NA    \n",
              "attrit                     NA         NA      NA       NA    \n",
              "nomiss             -1.124e-02  1.432e-02  -0.785   0.4326    \n",
              "---\n",
              "Signif. codes:  0 ‘***’ 0.001 ‘**’ 0.01 ‘*’ 0.05 ‘.’ 0.1 ‘ ’ 1\n",
              "\n",
              "Residual standard error: 0.2565 on 4268 degrees of freedom\n",
              "  (9217 observations deleted due to missingness)\n",
              "Multiple R-squared:  0.7252,\tAdjusted R-squared:  0.7237 \n",
              "F-statistic: 489.8 on 23 and 4268 DF,  p-value: < 2.2e-16\n"
            ]
          },
          "metadata": {}
        }
      ]
    },
    {
      "cell_type": "markdown",
      "source": [
        "selection on observables"
      ],
      "metadata": {
        "id": "Tafhlr5yEqgW"
      }
    },
    {
      "cell_type": "code",
      "source": [
        "formula.model3<-as.formula(paste(\"attrit\",\"~\",paste(target.vars,collapse=\"+\"),sep=\"\"))\n",
        "formula.model3"
      ],
      "metadata": {
        "colab": {
          "base_uri": "https://localhost:8080/",
          "height": 121
        },
        "id": "BlwjA-vfEog4",
        "outputId": "fab19d3a-b643-4c8f-dde1-00023b920d7b"
      },
      "execution_count": 27,
      "outputs": [
        {
          "output_type": "display_data",
          "data": {
            "text/plain": [
              "attrit ~ treatmnt + dsgn_wgt + white + black + hispanic + eng_sec_language + \n",
              "    havekids_at_bline + male + educlevel_at_bline + hsgrad_at_bline + \n",
              "    ged_at_bline + everwork_at_bline + wrk_lyr_bline + mos_wrk_lyr_bline + \n",
              "    earn_lyr_bline + wage_bline + anywlfr_bline + alcohol_bline + \n",
              "    arrest_bline + jail_bline + participate + voc_in_jc + work_wk48 + \n",
              "    pct_wks_wrk + logwage_wk208 + wagenotmiss + attrit + nomiss"
            ]
          },
          "metadata": {}
        }
      ]
    },
    {
      "cell_type": "markdown",
      "source": [
        "second run regression"
      ],
      "metadata": {
        "id": "Eo42E324Ey3H"
      }
    },
    {
      "cell_type": "code",
      "source": [
        "model3<-lm(attrit~ white+black+hispanic, data=JobCorps)\n",
        "summary(model3)"
      ],
      "metadata": {
        "colab": {
          "base_uri": "https://localhost:8080/",
          "height": 382
        },
        "id": "vRCapiGnEzUV",
        "outputId": "d16b0c3f-9d00-4fa2-ebd4-bd771764403f"
      },
      "execution_count": 28,
      "outputs": [
        {
          "output_type": "display_data",
          "data": {
            "text/plain": [
              "\n",
              "Call:\n",
              "lm(formula = attrit ~ white + black + hispanic, data = JobCorps)\n",
              "\n",
              "Residuals:\n",
              "    Min      1Q  Median      3Q     Max \n",
              "-0.2014 -0.1785 -0.1683 -0.1683  0.8317 \n",
              "\n",
              "Coefficients:\n",
              "             Estimate Std. Error t value Pr(>|t|)    \n",
              "(Intercept)  0.194106   0.012211  15.896   <2e-16 ***\n",
              "white       -0.015644   0.013789  -1.135   0.2566    \n",
              "black       -0.025756   0.013098  -1.966   0.0493 *  \n",
              "hispanic     0.007303   0.014488   0.504   0.6142    \n",
              "---\n",
              "Signif. codes:  0 ‘***’ 0.001 ‘**’ 0.01 ‘*’ 0.05 ‘.’ 0.1 ‘ ’ 1\n",
              "\n",
              "Residual standard error: 0.383 on 13502 degrees of freedom\n",
              "  (3 observations deleted due to missingness)\n",
              "Multiple R-squared:  0.001098,\tAdjusted R-squared:  0.0008762 \n",
              "F-statistic: 4.948 on 3 and 13502 DF,  p-value: 0.001962\n"
            ]
          },
          "metadata": {}
        }
      ]
    },
    {
      "cell_type": "code",
      "source": [
        "model3<-lm(formula.model3, data=JobCorps)\n",
        "summary(model3)"
      ],
      "metadata": {
        "colab": {
          "base_uri": "https://localhost:8080/",
          "height": 833
        },
        "id": "lSqwJmreGHpt",
        "outputId": "8697e290-81ef-4821-feb3-b029f8a312c6"
      },
      "execution_count": 29,
      "outputs": [
        {
          "output_type": "stream",
          "name": "stderr",
          "text": [
            "Warning message in model.matrix.default(mt, mf, contrasts):\n",
            "“the response appeared on the right-hand side and was dropped”\n",
            "Warning message in model.matrix.default(mt, mf, contrasts):\n",
            "“problem with term 27 in model.matrix: no columns are assigned”\n"
          ]
        },
        {
          "output_type": "display_data",
          "data": {
            "text/plain": [
              "\n",
              "Call:\n",
              "lm(formula = formula.model3, data = JobCorps)\n",
              "\n",
              "Residuals:\n",
              "   Min     1Q Median     3Q    Max \n",
              "     0      0      0      0      0 \n",
              "\n",
              "Coefficients: (3 not defined because of singularities)\n",
              "                   Estimate Std. Error t value Pr(>|t|)\n",
              "(Intercept)               0          0     NaN      NaN\n",
              "treatmnt                  0          0     NaN      NaN\n",
              "dsgn_wgt                  0          0     NaN      NaN\n",
              "white                     0          0     NaN      NaN\n",
              "black                     0          0     NaN      NaN\n",
              "hispanic                  0          0     NaN      NaN\n",
              "eng_sec_language          0          0     NaN      NaN\n",
              "havekids_at_bline         0          0     NaN      NaN\n",
              "male                      0          0     NaN      NaN\n",
              "educlevel_at_bline        0          0     NaN      NaN\n",
              "hsgrad_at_bline           0          0     NaN      NaN\n",
              "ged_at_bline              0          0     NaN      NaN\n",
              "everwork_at_bline        NA         NA      NA       NA\n",
              "wrk_lyr_bline            NA         NA      NA       NA\n",
              "mos_wrk_lyr_bline         0          0     NaN      NaN\n",
              "earn_lyr_bline            0          0     NaN      NaN\n",
              "wage_bline                0          0     NaN      NaN\n",
              "anywlfr_bline             0          0     NaN      NaN\n",
              "alcohol_bline             0          0     NaN      NaN\n",
              "arrest_bline              0          0     NaN      NaN\n",
              "jail_bline                0          0     NaN      NaN\n",
              "participate               0          0     NaN      NaN\n",
              "voc_in_jc                 0          0     NaN      NaN\n",
              "work_wk48                 0          0     NaN      NaN\n",
              "pct_wks_wrk               0          0     NaN      NaN\n",
              "logwage_wk208             0          0     NaN      NaN\n",
              "wagenotmiss              NA         NA      NA       NA\n",
              "nomiss                    0          0     NaN      NaN\n",
              "\n",
              "Residual standard error: 0 on 4267 degrees of freedom\n",
              "  (9217 observations deleted due to missingness)\n",
              "Multiple R-squared:    NaN,\tAdjusted R-squared:    NaN \n",
              "F-statistic:   NaN on 24 and 4267 DF,  p-value: NA\n"
            ]
          },
          "metadata": {}
        }
      ]
    },
    {
      "cell_type": "code",
      "source": [
        "test<-subset(JobCorps,complete.cases(JobCorps[,target.vars])==TRUE)"
      ],
      "metadata": {
        "id": "q26-rt86HJI1"
      },
      "execution_count": 30,
      "outputs": []
    },
    {
      "cell_type": "code",
      "source": [
        "dim(test)"
      ],
      "metadata": {
        "colab": {
          "base_uri": "https://localhost:8080/",
          "height": 34
        },
        "id": "fWLbC4vNHMhR",
        "outputId": "6ae5792f-d57a-49db-df24-47defbccb135"
      },
      "execution_count": 31,
      "outputs": [
        {
          "output_type": "display_data",
          "data": {
            "text/html": [
              "<style>\n",
              ".list-inline {list-style: none; margin:0; padding: 0}\n",
              ".list-inline>li {display: inline-block}\n",
              ".list-inline>li:not(:last-child)::after {content: \"\\00b7\"; padding: 0 .5ex}\n",
              "</style>\n",
              "<ol class=list-inline><li>4292</li><li>44</li></ol>\n"
            ],
            "text/markdown": "1. 4292\n2. 44\n\n\n",
            "text/latex": "\\begin{enumerate*}\n\\item 4292\n\\item 44\n\\end{enumerate*}\n",
            "text/plain": [
              "[1] 4292   44"
            ]
          },
          "metadata": {}
        }
      ]
    },
    {
      "cell_type": "code",
      "source": [
        "cor(test[,target.vars])"
      ],
      "metadata": {
        "colab": {
          "base_uri": "https://localhost:8080/",
          "height": 1000
        },
        "id": "pNXwrtz7HPnP",
        "outputId": "64eece86-4bde-4f33-894c-0c45eaffdc4a"
      },
      "execution_count": 32,
      "outputs": [
        {
          "output_type": "stream",
          "name": "stderr",
          "text": [
            "Warning message in cor(test[, target.vars]):\n",
            "“the standard deviation is zero”\n"
          ]
        },
        {
          "output_type": "display_data",
          "data": {
            "text/html": [
              "<table class=\"dataframe\">\n",
              "<caption>A matrix: 28 × 28 of type dbl</caption>\n",
              "<thead>\n",
              "\t<tr><th></th><th scope=col>treatmnt</th><th scope=col>dsgn_wgt</th><th scope=col>white</th><th scope=col>black</th><th scope=col>hispanic</th><th scope=col>eng_sec_language</th><th scope=col>havekids_at_bline</th><th scope=col>male</th><th scope=col>educlevel_at_bline</th><th scope=col>hsgrad_at_bline</th><th scope=col>⋯</th><th scope=col>arrest_bline</th><th scope=col>jail_bline</th><th scope=col>participate</th><th scope=col>voc_in_jc</th><th scope=col>work_wk48</th><th scope=col>pct_wks_wrk</th><th scope=col>logwage_wk208</th><th scope=col>wagenotmiss</th><th scope=col>attrit</th><th scope=col>nomiss</th></tr>\n",
              "</thead>\n",
              "<tbody>\n",
              "\t<tr><th scope=row>treatmnt</th><td> 1.000000000</td><td>-0.757855638</td><td>-0.001147542</td><td> 0.004357659</td><td>-0.016517929</td><td>-0.010455481</td><td> 0.0064991212</td><td>-0.071856194</td><td> 0.008966061</td><td> 0.021924815</td><td>⋯</td><td>-0.010420401</td><td>-0.004940782</td><td> 0.695806678</td><td> 0.636288814</td><td> 0.039310680</td><td>-0.061421323</td><td> 0.026101698</td><td>NA</td><td>NA</td><td> 0.0176972953</td></tr>\n",
              "\t<tr><th scope=row>dsgn_wgt</th><td>-0.757855638</td><td> 1.000000000</td><td> 0.051271491</td><td>-0.044101896</td><td>-0.006007524</td><td>-0.005157300</td><td>-0.0784865525</td><td>-0.094026666</td><td>-0.008222388</td><td>-0.008325490</td><td>⋯</td><td>-0.010731589</td><td>-0.016865559</td><td>-0.512269062</td><td>-0.456730241</td><td>-0.040632953</td><td> 0.022302754</td><td>-0.038002363</td><td>NA</td><td>NA</td><td>-0.0209523059</td></tr>\n",
              "\t<tr><th scope=row>white</th><td>-0.001147542</td><td> 0.051271491</td><td> 1.000000000</td><td>-0.615644825</td><td>-0.304754464</td><td>-0.235692147</td><td>-0.1620221605</td><td> 0.121505646</td><td>-0.047786029</td><td>-0.003792042</td><td>⋯</td><td> 0.073561508</td><td> 0.050525786</td><td>-0.006578089</td><td>-0.008534460</td><td> 0.058077403</td><td> 0.125648012</td><td> 0.074762260</td><td>NA</td><td>NA</td><td>-0.0112550655</td></tr>\n",
              "\t<tr><th scope=row>black</th><td> 0.004357659</td><td>-0.044101896</td><td>-0.615644825</td><td> 1.000000000</td><td>-0.413325180</td><td>-0.292001552</td><td> 0.1492585237</td><td>-0.115792084</td><td> 0.064646633</td><td> 0.021920075</td><td>⋯</td><td>-0.060132438</td><td>-0.044506338</td><td>-0.001221147</td><td>-0.006104552</td><td>-0.053009777</td><td>-0.103920880</td><td>-0.105433478</td><td>NA</td><td>NA</td><td> 0.0043086886</td></tr>\n",
              "\t<tr><th scope=row>hispanic</th><td>-0.016517929</td><td>-0.006007524</td><td>-0.304754464</td><td>-0.413325180</td><td> 1.000000000</td><td> 0.532580210</td><td> 0.0376510565</td><td>-0.009811028</td><td>-0.013573093</td><td>-0.036263151</td><td>⋯</td><td>-0.010063940</td><td>-0.018459832</td><td>-0.006994468</td><td> 0.003882747</td><td> 0.016821482</td><td> 0.001220669</td><td> 0.029608041</td><td>NA</td><td>NA</td><td> 0.0164376348</td></tr>\n",
              "\t<tr><th scope=row>eng_sec_language</th><td>-0.010455481</td><td>-0.005157300</td><td>-0.235692147</td><td>-0.292001552</td><td> 0.532580210</td><td> 1.000000000</td><td>-0.0172100409</td><td> 0.008348476</td><td>-0.006055973</td><td> 0.006534088</td><td>⋯</td><td>-0.055744848</td><td>-0.040993656</td><td> 0.003537922</td><td> 0.012272666</td><td> 0.035344238</td><td> 0.009609917</td><td> 0.025181188</td><td>NA</td><td>NA</td><td> 0.0106822919</td></tr>\n",
              "\t<tr><th scope=row>havekids_at_bline</th><td> 0.006499121</td><td>-0.078486553</td><td>-0.162022161</td><td> 0.149258524</td><td> 0.037651057</td><td>-0.017210041</td><td> 1.0000000000</td><td>-0.225615752</td><td> 0.060045253</td><td> 0.026873140</td><td>⋯</td><td>-0.017818839</td><td> 0.018780767</td><td>-0.035414964</td><td>-0.044075877</td><td>-0.032162554</td><td>-0.018635172</td><td>-0.032386342</td><td>NA</td><td>NA</td><td> 0.0253105308</td></tr>\n",
              "\t<tr><th scope=row>male</th><td>-0.071856194</td><td>-0.094026666</td><td> 0.121505646</td><td>-0.115792084</td><td>-0.009811028</td><td> 0.008348476</td><td>-0.2256157520</td><td> 1.000000000</td><td>-0.122951851</td><td>-0.143764906</td><td>⋯</td><td> 0.157663911</td><td> 0.104234007</td><td> 0.003745627</td><td>-0.003203535</td><td> 0.031367073</td><td> 0.081746375</td><td> 0.111733951</td><td>NA</td><td>NA</td><td>-0.0362582055</td></tr>\n",
              "\t<tr><th scope=row>educlevel_at_bline</th><td> 0.008966061</td><td>-0.008222388</td><td>-0.047786029</td><td> 0.064646633</td><td>-0.013573093</td><td>-0.006055973</td><td> 0.0600452530</td><td>-0.122951851</td><td> 1.000000000</td><td> 0.660831356</td><td>⋯</td><td>-0.148225402</td><td>-0.070539655</td><td>-0.042447851</td><td>-0.040807868</td><td> 0.099969438</td><td> 0.218409173</td><td> 0.078221130</td><td>NA</td><td>NA</td><td> 0.0559761365</td></tr>\n",
              "\t<tr><th scope=row>hsgrad_at_bline</th><td> 0.021924815</td><td>-0.008325490</td><td>-0.003792042</td><td> 0.021920075</td><td>-0.036263151</td><td> 0.006534088</td><td> 0.0268731404</td><td>-0.143764906</td><td> 0.660831356</td><td> 1.000000000</td><td>⋯</td><td>-0.150530118</td><td>-0.057382457</td><td>-0.023781630</td><td>-0.019251139</td><td> 0.093926418</td><td> 0.208389520</td><td> 0.053991627</td><td>NA</td><td>NA</td><td> 0.0505056100</td></tr>\n",
              "\t<tr><th scope=row>ged_at_bline</th><td>-0.009130549</td><td> 0.013888950</td><td> 0.107477141</td><td>-0.109020023</td><td> 0.022413043</td><td> 0.003356484</td><td> 0.0541020525</td><td> 0.010670978</td><td>-0.002526491</td><td>-0.149059836</td><td>⋯</td><td> 0.041096888</td><td> 0.030490746</td><td>-0.022097432</td><td>-0.020030016</td><td> 0.008128979</td><td> 0.060190874</td><td> 0.042287677</td><td>NA</td><td>NA</td><td> 0.0156153940</td></tr>\n",
              "\t<tr><th scope=row>everwork_at_bline</th><td>          NA</td><td>          NA</td><td>          NA</td><td>          NA</td><td>          NA</td><td>          NA</td><td>           NA</td><td>          NA</td><td>          NA</td><td>          NA</td><td>⋯</td><td>          NA</td><td>          NA</td><td>          NA</td><td>          NA</td><td>          NA</td><td>          NA</td><td>          NA</td><td>NA</td><td>NA</td><td>           NA</td></tr>\n",
              "\t<tr><th scope=row>wrk_lyr_bline</th><td>          NA</td><td>          NA</td><td>          NA</td><td>          NA</td><td>          NA</td><td>          NA</td><td>           NA</td><td>          NA</td><td>          NA</td><td>          NA</td><td>⋯</td><td>          NA</td><td>          NA</td><td>          NA</td><td>          NA</td><td>          NA</td><td>          NA</td><td>          NA</td><td>NA</td><td>NA</td><td>           NA</td></tr>\n",
              "\t<tr><th scope=row>mos_wrk_lyr_bline</th><td> 0.006448725</td><td>-0.012827732</td><td> 0.097913352</td><td>-0.049124812</td><td>-0.027226470</td><td>-0.020943024</td><td>-0.0049671117</td><td> 0.024076759</td><td> 0.197493630</td><td> 0.156619232</td><td>⋯</td><td>-0.051737276</td><td>-0.030063381</td><td>-0.013814978</td><td>-0.019227691</td><td> 0.135706170</td><td> 0.284558683</td><td> 0.085810333</td><td>NA</td><td>NA</td><td> 0.0312118327</td></tr>\n",
              "\t<tr><th scope=row>earn_lyr_bline</th><td> 0.006281403</td><td>-0.027853776</td><td> 0.106489298</td><td>-0.068345521</td><td>-0.020704585</td><td>-0.017504980</td><td> 0.0379051941</td><td> 0.090325775</td><td> 0.162852757</td><td> 0.114788263</td><td>⋯</td><td> 0.003732868</td><td> 0.017843203</td><td>-0.033260209</td><td>-0.032814961</td><td> 0.105785745</td><td> 0.247843813</td><td> 0.114770335</td><td>NA</td><td>NA</td><td> 0.0169851497</td></tr>\n",
              "\t<tr><th scope=row>wage_bline</th><td> 0.006166459</td><td>-0.030926424</td><td> 0.041804561</td><td>-0.026359942</td><td>-0.046273533</td><td>-0.012683759</td><td> 0.0521443584</td><td> 0.092814877</td><td> 0.131479448</td><td> 0.086363264</td><td>⋯</td><td> 0.017666860</td><td> 0.032602788</td><td>-0.039278503</td><td>-0.038684467</td><td> 0.042355104</td><td> 0.131878502</td><td> 0.139235128</td><td>NA</td><td>NA</td><td> 0.0118863474</td></tr>\n",
              "\t<tr><th scope=row>anywlfr_bline</th><td>-0.003068085</td><td> 0.002729498</td><td>-0.181919681</td><td> 0.156899524</td><td> 0.019567001</td><td>-0.019509489</td><td> 0.1898287681</td><td>-0.152288332</td><td>-0.074363666</td><td>-0.057165913</td><td>⋯</td><td>-0.001891649</td><td> 0.000537351</td><td>-0.001301299</td><td>-0.013421292</td><td>-0.050380000</td><td>-0.137932028</td><td>-0.092750870</td><td>NA</td><td>NA</td><td> 0.0220192806</td></tr>\n",
              "\t<tr><th scope=row>alcohol_bline</th><td> 0.015977413</td><td>-0.009444862</td><td> 0.202853103</td><td>-0.207781215</td><td> 0.033058606</td><td>-0.047409107</td><td> 0.0005454179</td><td> 0.103097322</td><td>-0.015484698</td><td>-0.036289777</td><td>⋯</td><td> 0.156863001</td><td> 0.097777139</td><td> 0.022590429</td><td> 0.012073770</td><td> 0.021013152</td><td> 0.053207202</td><td> 0.047109252</td><td>NA</td><td>NA</td><td>-0.0006074037</td></tr>\n",
              "\t<tr><th scope=row>arrest_bline</th><td>-0.010420401</td><td>-0.010731589</td><td> 0.073561508</td><td>-0.060132438</td><td>-0.010063940</td><td>-0.055744848</td><td>-0.0178188391</td><td> 0.157663911</td><td>-0.148225402</td><td>-0.150530118</td><td>⋯</td><td> 1.000000000</td><td> 0.494549667</td><td>-0.016275931</td><td>-0.011225048</td><td>-0.065101598</td><td>-0.058270216</td><td> 0.013052442</td><td>NA</td><td>NA</td><td>-0.0024987623</td></tr>\n",
              "\t<tr><th scope=row>jail_bline</th><td>-0.004940782</td><td>-0.016865559</td><td> 0.050525786</td><td>-0.044506338</td><td>-0.018459832</td><td>-0.040993656</td><td> 0.0187807675</td><td> 0.104234007</td><td>-0.070539655</td><td>-0.057382457</td><td>⋯</td><td> 0.494549667</td><td> 1.000000000</td><td>-0.021258124</td><td>-0.023496211</td><td>-0.025628711</td><td>-0.036476388</td><td> 0.003858868</td><td>NA</td><td>NA</td><td>-0.0048481618</td></tr>\n",
              "\t<tr><th scope=row>participate</th><td> 0.695806678</td><td>-0.512269062</td><td>-0.006578089</td><td>-0.001221147</td><td>-0.006994468</td><td> 0.003537922</td><td>-0.0354149642</td><td> 0.003745627</td><td>-0.042447851</td><td>-0.023781630</td><td>⋯</td><td>-0.016275931</td><td>-0.021258124</td><td> 1.000000000</td><td> 0.883958451</td><td> 0.034683118</td><td>-0.115385948</td><td> 0.011527253</td><td>NA</td><td>NA</td><td> 0.0213684583</td></tr>\n",
              "\t<tr><th scope=row>voc_in_jc</th><td> 0.636288814</td><td>-0.456730241</td><td>-0.008534460</td><td>-0.006104552</td><td> 0.003882747</td><td> 0.012272666</td><td>-0.0440758766</td><td>-0.003203535</td><td>-0.040807868</td><td>-0.019251139</td><td>⋯</td><td>-0.011225048</td><td>-0.023496211</td><td> 0.883958451</td><td> 1.000000000</td><td> 0.031167755</td><td>-0.112268375</td><td> 0.021732252</td><td>NA</td><td>NA</td><td> 0.0144193714</td></tr>\n",
              "\t<tr><th scope=row>work_wk48</th><td> 0.039310680</td><td>-0.040632953</td><td> 0.058077403</td><td>-0.053009777</td><td> 0.016821482</td><td> 0.035344238</td><td>-0.0321625538</td><td> 0.031367073</td><td> 0.099969438</td><td> 0.093926418</td><td>⋯</td><td>-0.065101598</td><td>-0.025628711</td><td> 0.034683118</td><td> 0.031167755</td><td> 1.000000000</td><td> 0.359774478</td><td> 0.184347742</td><td>NA</td><td>NA</td><td>-0.0115923197</td></tr>\n",
              "\t<tr><th scope=row>pct_wks_wrk</th><td>-0.061421323</td><td> 0.022302754</td><td> 0.125648012</td><td>-0.103920880</td><td> 0.001220669</td><td> 0.009609917</td><td>-0.0186351723</td><td> 0.081746375</td><td> 0.218409173</td><td> 0.208389520</td><td>⋯</td><td>-0.058270216</td><td>-0.036476388</td><td>-0.115385948</td><td>-0.112268375</td><td> 0.359774478</td><td> 1.000000000</td><td> 0.220623182</td><td>NA</td><td>NA</td><td> 0.0785732227</td></tr>\n",
              "\t<tr><th scope=row>logwage_wk208</th><td> 0.026101698</td><td>-0.038002363</td><td> 0.074762260</td><td>-0.105433478</td><td> 0.029608041</td><td> 0.025181188</td><td>-0.0323863416</td><td> 0.111733951</td><td> 0.078221130</td><td> 0.053991627</td><td>⋯</td><td> 0.013052442</td><td> 0.003858868</td><td> 0.011527253</td><td> 0.021732252</td><td> 0.184347742</td><td> 0.220623182</td><td> 1.000000000</td><td>NA</td><td>NA</td><td>-0.0010652715</td></tr>\n",
              "\t<tr><th scope=row>wagenotmiss</th><td>          NA</td><td>          NA</td><td>          NA</td><td>          NA</td><td>          NA</td><td>          NA</td><td>           NA</td><td>          NA</td><td>          NA</td><td>          NA</td><td>⋯</td><td>          NA</td><td>          NA</td><td>          NA</td><td>          NA</td><td>          NA</td><td>          NA</td><td>          NA</td><td> 1</td><td>NA</td><td>           NA</td></tr>\n",
              "\t<tr><th scope=row>attrit</th><td>          NA</td><td>          NA</td><td>          NA</td><td>          NA</td><td>          NA</td><td>          NA</td><td>           NA</td><td>          NA</td><td>          NA</td><td>          NA</td><td>⋯</td><td>          NA</td><td>          NA</td><td>          NA</td><td>          NA</td><td>          NA</td><td>          NA</td><td>          NA</td><td>NA</td><td> 1</td><td>           NA</td></tr>\n",
              "\t<tr><th scope=row>nomiss</th><td> 0.017697295</td><td>-0.020952306</td><td>-0.011255066</td><td> 0.004308689</td><td> 0.016437635</td><td> 0.010682292</td><td> 0.0253105308</td><td>-0.036258205</td><td> 0.055976137</td><td> 0.050505610</td><td>⋯</td><td>-0.002498762</td><td>-0.004848162</td><td> 0.021368458</td><td> 0.014419371</td><td>-0.011592320</td><td> 0.078573223</td><td>-0.001065271</td><td>NA</td><td>NA</td><td> 1.0000000000</td></tr>\n",
              "</tbody>\n",
              "</table>\n"
            ],
            "text/markdown": "\nA matrix: 28 × 28 of type dbl\n\n| <!--/--> | treatmnt | dsgn_wgt | white | black | hispanic | eng_sec_language | havekids_at_bline | male | educlevel_at_bline | hsgrad_at_bline | ⋯ | arrest_bline | jail_bline | participate | voc_in_jc | work_wk48 | pct_wks_wrk | logwage_wk208 | wagenotmiss | attrit | nomiss |\n|---|---|---|---|---|---|---|---|---|---|---|---|---|---|---|---|---|---|---|---|---|---|\n| treatmnt |  1.000000000 | -0.757855638 | -0.001147542 |  0.004357659 | -0.016517929 | -0.010455481 |  0.0064991212 | -0.071856194 |  0.008966061 |  0.021924815 | ⋯ | -0.010420401 | -0.004940782 |  0.695806678 |  0.636288814 |  0.039310680 | -0.061421323 |  0.026101698 | NA | NA |  0.0176972953 |\n| dsgn_wgt | -0.757855638 |  1.000000000 |  0.051271491 | -0.044101896 | -0.006007524 | -0.005157300 | -0.0784865525 | -0.094026666 | -0.008222388 | -0.008325490 | ⋯ | -0.010731589 | -0.016865559 | -0.512269062 | -0.456730241 | -0.040632953 |  0.022302754 | -0.038002363 | NA | NA | -0.0209523059 |\n| white | -0.001147542 |  0.051271491 |  1.000000000 | -0.615644825 | -0.304754464 | -0.235692147 | -0.1620221605 |  0.121505646 | -0.047786029 | -0.003792042 | ⋯ |  0.073561508 |  0.050525786 | -0.006578089 | -0.008534460 |  0.058077403 |  0.125648012 |  0.074762260 | NA | NA | -0.0112550655 |\n| black |  0.004357659 | -0.044101896 | -0.615644825 |  1.000000000 | -0.413325180 | -0.292001552 |  0.1492585237 | -0.115792084 |  0.064646633 |  0.021920075 | ⋯ | -0.060132438 | -0.044506338 | -0.001221147 | -0.006104552 | -0.053009777 | -0.103920880 | -0.105433478 | NA | NA |  0.0043086886 |\n| hispanic | -0.016517929 | -0.006007524 | -0.304754464 | -0.413325180 |  1.000000000 |  0.532580210 |  0.0376510565 | -0.009811028 | -0.013573093 | -0.036263151 | ⋯ | -0.010063940 | -0.018459832 | -0.006994468 |  0.003882747 |  0.016821482 |  0.001220669 |  0.029608041 | NA | NA |  0.0164376348 |\n| eng_sec_language | -0.010455481 | -0.005157300 | -0.235692147 | -0.292001552 |  0.532580210 |  1.000000000 | -0.0172100409 |  0.008348476 | -0.006055973 |  0.006534088 | ⋯ | -0.055744848 | -0.040993656 |  0.003537922 |  0.012272666 |  0.035344238 |  0.009609917 |  0.025181188 | NA | NA |  0.0106822919 |\n| havekids_at_bline |  0.006499121 | -0.078486553 | -0.162022161 |  0.149258524 |  0.037651057 | -0.017210041 |  1.0000000000 | -0.225615752 |  0.060045253 |  0.026873140 | ⋯ | -0.017818839 |  0.018780767 | -0.035414964 | -0.044075877 | -0.032162554 | -0.018635172 | -0.032386342 | NA | NA |  0.0253105308 |\n| male | -0.071856194 | -0.094026666 |  0.121505646 | -0.115792084 | -0.009811028 |  0.008348476 | -0.2256157520 |  1.000000000 | -0.122951851 | -0.143764906 | ⋯ |  0.157663911 |  0.104234007 |  0.003745627 | -0.003203535 |  0.031367073 |  0.081746375 |  0.111733951 | NA | NA | -0.0362582055 |\n| educlevel_at_bline |  0.008966061 | -0.008222388 | -0.047786029 |  0.064646633 | -0.013573093 | -0.006055973 |  0.0600452530 | -0.122951851 |  1.000000000 |  0.660831356 | ⋯ | -0.148225402 | -0.070539655 | -0.042447851 | -0.040807868 |  0.099969438 |  0.218409173 |  0.078221130 | NA | NA |  0.0559761365 |\n| hsgrad_at_bline |  0.021924815 | -0.008325490 | -0.003792042 |  0.021920075 | -0.036263151 |  0.006534088 |  0.0268731404 | -0.143764906 |  0.660831356 |  1.000000000 | ⋯ | -0.150530118 | -0.057382457 | -0.023781630 | -0.019251139 |  0.093926418 |  0.208389520 |  0.053991627 | NA | NA |  0.0505056100 |\n| ged_at_bline | -0.009130549 |  0.013888950 |  0.107477141 | -0.109020023 |  0.022413043 |  0.003356484 |  0.0541020525 |  0.010670978 | -0.002526491 | -0.149059836 | ⋯ |  0.041096888 |  0.030490746 | -0.022097432 | -0.020030016 |  0.008128979 |  0.060190874 |  0.042287677 | NA | NA |  0.0156153940 |\n| everwork_at_bline |           NA |           NA |           NA |           NA |           NA |           NA |            NA |           NA |           NA |           NA | ⋯ |           NA |           NA |           NA |           NA |           NA |           NA |           NA | NA | NA |            NA |\n| wrk_lyr_bline |           NA |           NA |           NA |           NA |           NA |           NA |            NA |           NA |           NA |           NA | ⋯ |           NA |           NA |           NA |           NA |           NA |           NA |           NA | NA | NA |            NA |\n| mos_wrk_lyr_bline |  0.006448725 | -0.012827732 |  0.097913352 | -0.049124812 | -0.027226470 | -0.020943024 | -0.0049671117 |  0.024076759 |  0.197493630 |  0.156619232 | ⋯ | -0.051737276 | -0.030063381 | -0.013814978 | -0.019227691 |  0.135706170 |  0.284558683 |  0.085810333 | NA | NA |  0.0312118327 |\n| earn_lyr_bline |  0.006281403 | -0.027853776 |  0.106489298 | -0.068345521 | -0.020704585 | -0.017504980 |  0.0379051941 |  0.090325775 |  0.162852757 |  0.114788263 | ⋯ |  0.003732868 |  0.017843203 | -0.033260209 | -0.032814961 |  0.105785745 |  0.247843813 |  0.114770335 | NA | NA |  0.0169851497 |\n| wage_bline |  0.006166459 | -0.030926424 |  0.041804561 | -0.026359942 | -0.046273533 | -0.012683759 |  0.0521443584 |  0.092814877 |  0.131479448 |  0.086363264 | ⋯ |  0.017666860 |  0.032602788 | -0.039278503 | -0.038684467 |  0.042355104 |  0.131878502 |  0.139235128 | NA | NA |  0.0118863474 |\n| anywlfr_bline | -0.003068085 |  0.002729498 | -0.181919681 |  0.156899524 |  0.019567001 | -0.019509489 |  0.1898287681 | -0.152288332 | -0.074363666 | -0.057165913 | ⋯ | -0.001891649 |  0.000537351 | -0.001301299 | -0.013421292 | -0.050380000 | -0.137932028 | -0.092750870 | NA | NA |  0.0220192806 |\n| alcohol_bline |  0.015977413 | -0.009444862 |  0.202853103 | -0.207781215 |  0.033058606 | -0.047409107 |  0.0005454179 |  0.103097322 | -0.015484698 | -0.036289777 | ⋯ |  0.156863001 |  0.097777139 |  0.022590429 |  0.012073770 |  0.021013152 |  0.053207202 |  0.047109252 | NA | NA | -0.0006074037 |\n| arrest_bline | -0.010420401 | -0.010731589 |  0.073561508 | -0.060132438 | -0.010063940 | -0.055744848 | -0.0178188391 |  0.157663911 | -0.148225402 | -0.150530118 | ⋯ |  1.000000000 |  0.494549667 | -0.016275931 | -0.011225048 | -0.065101598 | -0.058270216 |  0.013052442 | NA | NA | -0.0024987623 |\n| jail_bline | -0.004940782 | -0.016865559 |  0.050525786 | -0.044506338 | -0.018459832 | -0.040993656 |  0.0187807675 |  0.104234007 | -0.070539655 | -0.057382457 | ⋯ |  0.494549667 |  1.000000000 | -0.021258124 | -0.023496211 | -0.025628711 | -0.036476388 |  0.003858868 | NA | NA | -0.0048481618 |\n| participate |  0.695806678 | -0.512269062 | -0.006578089 | -0.001221147 | -0.006994468 |  0.003537922 | -0.0354149642 |  0.003745627 | -0.042447851 | -0.023781630 | ⋯ | -0.016275931 | -0.021258124 |  1.000000000 |  0.883958451 |  0.034683118 | -0.115385948 |  0.011527253 | NA | NA |  0.0213684583 |\n| voc_in_jc |  0.636288814 | -0.456730241 | -0.008534460 | -0.006104552 |  0.003882747 |  0.012272666 | -0.0440758766 | -0.003203535 | -0.040807868 | -0.019251139 | ⋯ | -0.011225048 | -0.023496211 |  0.883958451 |  1.000000000 |  0.031167755 | -0.112268375 |  0.021732252 | NA | NA |  0.0144193714 |\n| work_wk48 |  0.039310680 | -0.040632953 |  0.058077403 | -0.053009777 |  0.016821482 |  0.035344238 | -0.0321625538 |  0.031367073 |  0.099969438 |  0.093926418 | ⋯ | -0.065101598 | -0.025628711 |  0.034683118 |  0.031167755 |  1.000000000 |  0.359774478 |  0.184347742 | NA | NA | -0.0115923197 |\n| pct_wks_wrk | -0.061421323 |  0.022302754 |  0.125648012 | -0.103920880 |  0.001220669 |  0.009609917 | -0.0186351723 |  0.081746375 |  0.218409173 |  0.208389520 | ⋯ | -0.058270216 | -0.036476388 | -0.115385948 | -0.112268375 |  0.359774478 |  1.000000000 |  0.220623182 | NA | NA |  0.0785732227 |\n| logwage_wk208 |  0.026101698 | -0.038002363 |  0.074762260 | -0.105433478 |  0.029608041 |  0.025181188 | -0.0323863416 |  0.111733951 |  0.078221130 |  0.053991627 | ⋯ |  0.013052442 |  0.003858868 |  0.011527253 |  0.021732252 |  0.184347742 |  0.220623182 |  1.000000000 | NA | NA | -0.0010652715 |\n| wagenotmiss |           NA |           NA |           NA |           NA |           NA |           NA |            NA |           NA |           NA |           NA | ⋯ |           NA |           NA |           NA |           NA |           NA |           NA |           NA |  1 | NA |            NA |\n| attrit |           NA |           NA |           NA |           NA |           NA |           NA |            NA |           NA |           NA |           NA | ⋯ |           NA |           NA |           NA |           NA |           NA |           NA |           NA | NA |  1 |            NA |\n| nomiss |  0.017697295 | -0.020952306 | -0.011255066 |  0.004308689 |  0.016437635 |  0.010682292 |  0.0253105308 | -0.036258205 |  0.055976137 |  0.050505610 | ⋯ | -0.002498762 | -0.004848162 |  0.021368458 |  0.014419371 | -0.011592320 |  0.078573223 | -0.001065271 | NA | NA |  1.0000000000 |\n\n",
            "text/latex": "A matrix: 28 × 28 of type dbl\n\\begin{tabular}{r|lllllllllllllllllllll}\n  & treatmnt & dsgn\\_wgt & white & black & hispanic & eng\\_sec\\_language & havekids\\_at\\_bline & male & educlevel\\_at\\_bline & hsgrad\\_at\\_bline & ⋯ & arrest\\_bline & jail\\_bline & participate & voc\\_in\\_jc & work\\_wk48 & pct\\_wks\\_wrk & logwage\\_wk208 & wagenotmiss & attrit & nomiss\\\\\n\\hline\n\ttreatmnt &  1.000000000 & -0.757855638 & -0.001147542 &  0.004357659 & -0.016517929 & -0.010455481 &  0.0064991212 & -0.071856194 &  0.008966061 &  0.021924815 & ⋯ & -0.010420401 & -0.004940782 &  0.695806678 &  0.636288814 &  0.039310680 & -0.061421323 &  0.026101698 & NA & NA &  0.0176972953\\\\\n\tdsgn\\_wgt & -0.757855638 &  1.000000000 &  0.051271491 & -0.044101896 & -0.006007524 & -0.005157300 & -0.0784865525 & -0.094026666 & -0.008222388 & -0.008325490 & ⋯ & -0.010731589 & -0.016865559 & -0.512269062 & -0.456730241 & -0.040632953 &  0.022302754 & -0.038002363 & NA & NA & -0.0209523059\\\\\n\twhite & -0.001147542 &  0.051271491 &  1.000000000 & -0.615644825 & -0.304754464 & -0.235692147 & -0.1620221605 &  0.121505646 & -0.047786029 & -0.003792042 & ⋯ &  0.073561508 &  0.050525786 & -0.006578089 & -0.008534460 &  0.058077403 &  0.125648012 &  0.074762260 & NA & NA & -0.0112550655\\\\\n\tblack &  0.004357659 & -0.044101896 & -0.615644825 &  1.000000000 & -0.413325180 & -0.292001552 &  0.1492585237 & -0.115792084 &  0.064646633 &  0.021920075 & ⋯ & -0.060132438 & -0.044506338 & -0.001221147 & -0.006104552 & -0.053009777 & -0.103920880 & -0.105433478 & NA & NA &  0.0043086886\\\\\n\thispanic & -0.016517929 & -0.006007524 & -0.304754464 & -0.413325180 &  1.000000000 &  0.532580210 &  0.0376510565 & -0.009811028 & -0.013573093 & -0.036263151 & ⋯ & -0.010063940 & -0.018459832 & -0.006994468 &  0.003882747 &  0.016821482 &  0.001220669 &  0.029608041 & NA & NA &  0.0164376348\\\\\n\teng\\_sec\\_language & -0.010455481 & -0.005157300 & -0.235692147 & -0.292001552 &  0.532580210 &  1.000000000 & -0.0172100409 &  0.008348476 & -0.006055973 &  0.006534088 & ⋯ & -0.055744848 & -0.040993656 &  0.003537922 &  0.012272666 &  0.035344238 &  0.009609917 &  0.025181188 & NA & NA &  0.0106822919\\\\\n\thavekids\\_at\\_bline &  0.006499121 & -0.078486553 & -0.162022161 &  0.149258524 &  0.037651057 & -0.017210041 &  1.0000000000 & -0.225615752 &  0.060045253 &  0.026873140 & ⋯ & -0.017818839 &  0.018780767 & -0.035414964 & -0.044075877 & -0.032162554 & -0.018635172 & -0.032386342 & NA & NA &  0.0253105308\\\\\n\tmale & -0.071856194 & -0.094026666 &  0.121505646 & -0.115792084 & -0.009811028 &  0.008348476 & -0.2256157520 &  1.000000000 & -0.122951851 & -0.143764906 & ⋯ &  0.157663911 &  0.104234007 &  0.003745627 & -0.003203535 &  0.031367073 &  0.081746375 &  0.111733951 & NA & NA & -0.0362582055\\\\\n\teduclevel\\_at\\_bline &  0.008966061 & -0.008222388 & -0.047786029 &  0.064646633 & -0.013573093 & -0.006055973 &  0.0600452530 & -0.122951851 &  1.000000000 &  0.660831356 & ⋯ & -0.148225402 & -0.070539655 & -0.042447851 & -0.040807868 &  0.099969438 &  0.218409173 &  0.078221130 & NA & NA &  0.0559761365\\\\\n\thsgrad\\_at\\_bline &  0.021924815 & -0.008325490 & -0.003792042 &  0.021920075 & -0.036263151 &  0.006534088 &  0.0268731404 & -0.143764906 &  0.660831356 &  1.000000000 & ⋯ & -0.150530118 & -0.057382457 & -0.023781630 & -0.019251139 &  0.093926418 &  0.208389520 &  0.053991627 & NA & NA &  0.0505056100\\\\\n\tged\\_at\\_bline & -0.009130549 &  0.013888950 &  0.107477141 & -0.109020023 &  0.022413043 &  0.003356484 &  0.0541020525 &  0.010670978 & -0.002526491 & -0.149059836 & ⋯ &  0.041096888 &  0.030490746 & -0.022097432 & -0.020030016 &  0.008128979 &  0.060190874 &  0.042287677 & NA & NA &  0.0156153940\\\\\n\teverwork\\_at\\_bline &           NA &           NA &           NA &           NA &           NA &           NA &            NA &           NA &           NA &           NA & ⋯ &           NA &           NA &           NA &           NA &           NA &           NA &           NA & NA & NA &            NA\\\\\n\twrk\\_lyr\\_bline &           NA &           NA &           NA &           NA &           NA &           NA &            NA &           NA &           NA &           NA & ⋯ &           NA &           NA &           NA &           NA &           NA &           NA &           NA & NA & NA &            NA\\\\\n\tmos\\_wrk\\_lyr\\_bline &  0.006448725 & -0.012827732 &  0.097913352 & -0.049124812 & -0.027226470 & -0.020943024 & -0.0049671117 &  0.024076759 &  0.197493630 &  0.156619232 & ⋯ & -0.051737276 & -0.030063381 & -0.013814978 & -0.019227691 &  0.135706170 &  0.284558683 &  0.085810333 & NA & NA &  0.0312118327\\\\\n\tearn\\_lyr\\_bline &  0.006281403 & -0.027853776 &  0.106489298 & -0.068345521 & -0.020704585 & -0.017504980 &  0.0379051941 &  0.090325775 &  0.162852757 &  0.114788263 & ⋯ &  0.003732868 &  0.017843203 & -0.033260209 & -0.032814961 &  0.105785745 &  0.247843813 &  0.114770335 & NA & NA &  0.0169851497\\\\\n\twage\\_bline &  0.006166459 & -0.030926424 &  0.041804561 & -0.026359942 & -0.046273533 & -0.012683759 &  0.0521443584 &  0.092814877 &  0.131479448 &  0.086363264 & ⋯ &  0.017666860 &  0.032602788 & -0.039278503 & -0.038684467 &  0.042355104 &  0.131878502 &  0.139235128 & NA & NA &  0.0118863474\\\\\n\tanywlfr\\_bline & -0.003068085 &  0.002729498 & -0.181919681 &  0.156899524 &  0.019567001 & -0.019509489 &  0.1898287681 & -0.152288332 & -0.074363666 & -0.057165913 & ⋯ & -0.001891649 &  0.000537351 & -0.001301299 & -0.013421292 & -0.050380000 & -0.137932028 & -0.092750870 & NA & NA &  0.0220192806\\\\\n\talcohol\\_bline &  0.015977413 & -0.009444862 &  0.202853103 & -0.207781215 &  0.033058606 & -0.047409107 &  0.0005454179 &  0.103097322 & -0.015484698 & -0.036289777 & ⋯ &  0.156863001 &  0.097777139 &  0.022590429 &  0.012073770 &  0.021013152 &  0.053207202 &  0.047109252 & NA & NA & -0.0006074037\\\\\n\tarrest\\_bline & -0.010420401 & -0.010731589 &  0.073561508 & -0.060132438 & -0.010063940 & -0.055744848 & -0.0178188391 &  0.157663911 & -0.148225402 & -0.150530118 & ⋯ &  1.000000000 &  0.494549667 & -0.016275931 & -0.011225048 & -0.065101598 & -0.058270216 &  0.013052442 & NA & NA & -0.0024987623\\\\\n\tjail\\_bline & -0.004940782 & -0.016865559 &  0.050525786 & -0.044506338 & -0.018459832 & -0.040993656 &  0.0187807675 &  0.104234007 & -0.070539655 & -0.057382457 & ⋯ &  0.494549667 &  1.000000000 & -0.021258124 & -0.023496211 & -0.025628711 & -0.036476388 &  0.003858868 & NA & NA & -0.0048481618\\\\\n\tparticipate &  0.695806678 & -0.512269062 & -0.006578089 & -0.001221147 & -0.006994468 &  0.003537922 & -0.0354149642 &  0.003745627 & -0.042447851 & -0.023781630 & ⋯ & -0.016275931 & -0.021258124 &  1.000000000 &  0.883958451 &  0.034683118 & -0.115385948 &  0.011527253 & NA & NA &  0.0213684583\\\\\n\tvoc\\_in\\_jc &  0.636288814 & -0.456730241 & -0.008534460 & -0.006104552 &  0.003882747 &  0.012272666 & -0.0440758766 & -0.003203535 & -0.040807868 & -0.019251139 & ⋯ & -0.011225048 & -0.023496211 &  0.883958451 &  1.000000000 &  0.031167755 & -0.112268375 &  0.021732252 & NA & NA &  0.0144193714\\\\\n\twork\\_wk48 &  0.039310680 & -0.040632953 &  0.058077403 & -0.053009777 &  0.016821482 &  0.035344238 & -0.0321625538 &  0.031367073 &  0.099969438 &  0.093926418 & ⋯ & -0.065101598 & -0.025628711 &  0.034683118 &  0.031167755 &  1.000000000 &  0.359774478 &  0.184347742 & NA & NA & -0.0115923197\\\\\n\tpct\\_wks\\_wrk & -0.061421323 &  0.022302754 &  0.125648012 & -0.103920880 &  0.001220669 &  0.009609917 & -0.0186351723 &  0.081746375 &  0.218409173 &  0.208389520 & ⋯ & -0.058270216 & -0.036476388 & -0.115385948 & -0.112268375 &  0.359774478 &  1.000000000 &  0.220623182 & NA & NA &  0.0785732227\\\\\n\tlogwage\\_wk208 &  0.026101698 & -0.038002363 &  0.074762260 & -0.105433478 &  0.029608041 &  0.025181188 & -0.0323863416 &  0.111733951 &  0.078221130 &  0.053991627 & ⋯ &  0.013052442 &  0.003858868 &  0.011527253 &  0.021732252 &  0.184347742 &  0.220623182 &  1.000000000 & NA & NA & -0.0010652715\\\\\n\twagenotmiss &           NA &           NA &           NA &           NA &           NA &           NA &            NA &           NA &           NA &           NA & ⋯ &           NA &           NA &           NA &           NA &           NA &           NA &           NA &  1 & NA &            NA\\\\\n\tattrit &           NA &           NA &           NA &           NA &           NA &           NA &            NA &           NA &           NA &           NA & ⋯ &           NA &           NA &           NA &           NA &           NA &           NA &           NA & NA &  1 &            NA\\\\\n\tnomiss &  0.017697295 & -0.020952306 & -0.011255066 &  0.004308689 &  0.016437635 &  0.010682292 &  0.0253105308 & -0.036258205 &  0.055976137 &  0.050505610 & ⋯ & -0.002498762 & -0.004848162 &  0.021368458 &  0.014419371 & -0.011592320 &  0.078573223 & -0.001065271 & NA & NA &  1.0000000000\\\\\n\\end{tabular}\n",
            "text/plain": [
              "                   treatmnt     dsgn_wgt     white        black       \n",
              "treatmnt            1.000000000 -0.757855638 -0.001147542  0.004357659\n",
              "dsgn_wgt           -0.757855638  1.000000000  0.051271491 -0.044101896\n",
              "white              -0.001147542  0.051271491  1.000000000 -0.615644825\n",
              "black               0.004357659 -0.044101896 -0.615644825  1.000000000\n",
              "hispanic           -0.016517929 -0.006007524 -0.304754464 -0.413325180\n",
              "eng_sec_language   -0.010455481 -0.005157300 -0.235692147 -0.292001552\n",
              "havekids_at_bline   0.006499121 -0.078486553 -0.162022161  0.149258524\n",
              "male               -0.071856194 -0.094026666  0.121505646 -0.115792084\n",
              "educlevel_at_bline  0.008966061 -0.008222388 -0.047786029  0.064646633\n",
              "hsgrad_at_bline     0.021924815 -0.008325490 -0.003792042  0.021920075\n",
              "ged_at_bline       -0.009130549  0.013888950  0.107477141 -0.109020023\n",
              "everwork_at_bline            NA           NA           NA           NA\n",
              "wrk_lyr_bline                NA           NA           NA           NA\n",
              "mos_wrk_lyr_bline   0.006448725 -0.012827732  0.097913352 -0.049124812\n",
              "earn_lyr_bline      0.006281403 -0.027853776  0.106489298 -0.068345521\n",
              "wage_bline          0.006166459 -0.030926424  0.041804561 -0.026359942\n",
              "anywlfr_bline      -0.003068085  0.002729498 -0.181919681  0.156899524\n",
              "alcohol_bline       0.015977413 -0.009444862  0.202853103 -0.207781215\n",
              "arrest_bline       -0.010420401 -0.010731589  0.073561508 -0.060132438\n",
              "jail_bline         -0.004940782 -0.016865559  0.050525786 -0.044506338\n",
              "participate         0.695806678 -0.512269062 -0.006578089 -0.001221147\n",
              "voc_in_jc           0.636288814 -0.456730241 -0.008534460 -0.006104552\n",
              "work_wk48           0.039310680 -0.040632953  0.058077403 -0.053009777\n",
              "pct_wks_wrk        -0.061421323  0.022302754  0.125648012 -0.103920880\n",
              "logwage_wk208       0.026101698 -0.038002363  0.074762260 -0.105433478\n",
              "wagenotmiss                  NA           NA           NA           NA\n",
              "attrit                       NA           NA           NA           NA\n",
              "nomiss              0.017697295 -0.020952306 -0.011255066  0.004308689\n",
              "                   hispanic     eng_sec_language havekids_at_bline male        \n",
              "treatmnt           -0.016517929 -0.010455481      0.0064991212     -0.071856194\n",
              "dsgn_wgt           -0.006007524 -0.005157300     -0.0784865525     -0.094026666\n",
              "white              -0.304754464 -0.235692147     -0.1620221605      0.121505646\n",
              "black              -0.413325180 -0.292001552      0.1492585237     -0.115792084\n",
              "hispanic            1.000000000  0.532580210      0.0376510565     -0.009811028\n",
              "eng_sec_language    0.532580210  1.000000000     -0.0172100409      0.008348476\n",
              "havekids_at_bline   0.037651057 -0.017210041      1.0000000000     -0.225615752\n",
              "male               -0.009811028  0.008348476     -0.2256157520      1.000000000\n",
              "educlevel_at_bline -0.013573093 -0.006055973      0.0600452530     -0.122951851\n",
              "hsgrad_at_bline    -0.036263151  0.006534088      0.0268731404     -0.143764906\n",
              "ged_at_bline        0.022413043  0.003356484      0.0541020525      0.010670978\n",
              "everwork_at_bline            NA           NA                NA               NA\n",
              "wrk_lyr_bline                NA           NA                NA               NA\n",
              "mos_wrk_lyr_bline  -0.027226470 -0.020943024     -0.0049671117      0.024076759\n",
              "earn_lyr_bline     -0.020704585 -0.017504980      0.0379051941      0.090325775\n",
              "wage_bline         -0.046273533 -0.012683759      0.0521443584      0.092814877\n",
              "anywlfr_bline       0.019567001 -0.019509489      0.1898287681     -0.152288332\n",
              "alcohol_bline       0.033058606 -0.047409107      0.0005454179      0.103097322\n",
              "arrest_bline       -0.010063940 -0.055744848     -0.0178188391      0.157663911\n",
              "jail_bline         -0.018459832 -0.040993656      0.0187807675      0.104234007\n",
              "participate        -0.006994468  0.003537922     -0.0354149642      0.003745627\n",
              "voc_in_jc           0.003882747  0.012272666     -0.0440758766     -0.003203535\n",
              "work_wk48           0.016821482  0.035344238     -0.0321625538      0.031367073\n",
              "pct_wks_wrk         0.001220669  0.009609917     -0.0186351723      0.081746375\n",
              "logwage_wk208       0.029608041  0.025181188     -0.0323863416      0.111733951\n",
              "wagenotmiss                  NA           NA                NA               NA\n",
              "attrit                       NA           NA                NA               NA\n",
              "nomiss              0.016437635  0.010682292      0.0253105308     -0.036258205\n",
              "                   educlevel_at_bline hsgrad_at_bline ⋯ arrest_bline\n",
              "treatmnt            0.008966061        0.021924815    ⋯ -0.010420401\n",
              "dsgn_wgt           -0.008222388       -0.008325490    ⋯ -0.010731589\n",
              "white              -0.047786029       -0.003792042    ⋯  0.073561508\n",
              "black               0.064646633        0.021920075    ⋯ -0.060132438\n",
              "hispanic           -0.013573093       -0.036263151    ⋯ -0.010063940\n",
              "eng_sec_language   -0.006055973        0.006534088    ⋯ -0.055744848\n",
              "havekids_at_bline   0.060045253        0.026873140    ⋯ -0.017818839\n",
              "male               -0.122951851       -0.143764906    ⋯  0.157663911\n",
              "educlevel_at_bline  1.000000000        0.660831356    ⋯ -0.148225402\n",
              "hsgrad_at_bline     0.660831356        1.000000000    ⋯ -0.150530118\n",
              "ged_at_bline       -0.002526491       -0.149059836    ⋯  0.041096888\n",
              "everwork_at_bline            NA                 NA    ⋯           NA\n",
              "wrk_lyr_bline                NA                 NA    ⋯           NA\n",
              "mos_wrk_lyr_bline   0.197493630        0.156619232    ⋯ -0.051737276\n",
              "earn_lyr_bline      0.162852757        0.114788263    ⋯  0.003732868\n",
              "wage_bline          0.131479448        0.086363264    ⋯  0.017666860\n",
              "anywlfr_bline      -0.074363666       -0.057165913    ⋯ -0.001891649\n",
              "alcohol_bline      -0.015484698       -0.036289777    ⋯  0.156863001\n",
              "arrest_bline       -0.148225402       -0.150530118    ⋯  1.000000000\n",
              "jail_bline         -0.070539655       -0.057382457    ⋯  0.494549667\n",
              "participate        -0.042447851       -0.023781630    ⋯ -0.016275931\n",
              "voc_in_jc          -0.040807868       -0.019251139    ⋯ -0.011225048\n",
              "work_wk48           0.099969438        0.093926418    ⋯ -0.065101598\n",
              "pct_wks_wrk         0.218409173        0.208389520    ⋯ -0.058270216\n",
              "logwage_wk208       0.078221130        0.053991627    ⋯  0.013052442\n",
              "wagenotmiss                  NA                 NA    ⋯           NA\n",
              "attrit                       NA                 NA    ⋯           NA\n",
              "nomiss              0.055976137        0.050505610    ⋯ -0.002498762\n",
              "                   jail_bline   participate  voc_in_jc    work_wk48   \n",
              "treatmnt           -0.004940782  0.695806678  0.636288814  0.039310680\n",
              "dsgn_wgt           -0.016865559 -0.512269062 -0.456730241 -0.040632953\n",
              "white               0.050525786 -0.006578089 -0.008534460  0.058077403\n",
              "black              -0.044506338 -0.001221147 -0.006104552 -0.053009777\n",
              "hispanic           -0.018459832 -0.006994468  0.003882747  0.016821482\n",
              "eng_sec_language   -0.040993656  0.003537922  0.012272666  0.035344238\n",
              "havekids_at_bline   0.018780767 -0.035414964 -0.044075877 -0.032162554\n",
              "male                0.104234007  0.003745627 -0.003203535  0.031367073\n",
              "educlevel_at_bline -0.070539655 -0.042447851 -0.040807868  0.099969438\n",
              "hsgrad_at_bline    -0.057382457 -0.023781630 -0.019251139  0.093926418\n",
              "ged_at_bline        0.030490746 -0.022097432 -0.020030016  0.008128979\n",
              "everwork_at_bline            NA           NA           NA           NA\n",
              "wrk_lyr_bline                NA           NA           NA           NA\n",
              "mos_wrk_lyr_bline  -0.030063381 -0.013814978 -0.019227691  0.135706170\n",
              "earn_lyr_bline      0.017843203 -0.033260209 -0.032814961  0.105785745\n",
              "wage_bline          0.032602788 -0.039278503 -0.038684467  0.042355104\n",
              "anywlfr_bline       0.000537351 -0.001301299 -0.013421292 -0.050380000\n",
              "alcohol_bline       0.097777139  0.022590429  0.012073770  0.021013152\n",
              "arrest_bline        0.494549667 -0.016275931 -0.011225048 -0.065101598\n",
              "jail_bline          1.000000000 -0.021258124 -0.023496211 -0.025628711\n",
              "participate        -0.021258124  1.000000000  0.883958451  0.034683118\n",
              "voc_in_jc          -0.023496211  0.883958451  1.000000000  0.031167755\n",
              "work_wk48          -0.025628711  0.034683118  0.031167755  1.000000000\n",
              "pct_wks_wrk        -0.036476388 -0.115385948 -0.112268375  0.359774478\n",
              "logwage_wk208       0.003858868  0.011527253  0.021732252  0.184347742\n",
              "wagenotmiss                  NA           NA           NA           NA\n",
              "attrit                       NA           NA           NA           NA\n",
              "nomiss             -0.004848162  0.021368458  0.014419371 -0.011592320\n",
              "                   pct_wks_wrk  logwage_wk208 wagenotmiss attrit nomiss       \n",
              "treatmnt           -0.061421323  0.026101698  NA          NA      0.0176972953\n",
              "dsgn_wgt            0.022302754 -0.038002363  NA          NA     -0.0209523059\n",
              "white               0.125648012  0.074762260  NA          NA     -0.0112550655\n",
              "black              -0.103920880 -0.105433478  NA          NA      0.0043086886\n",
              "hispanic            0.001220669  0.029608041  NA          NA      0.0164376348\n",
              "eng_sec_language    0.009609917  0.025181188  NA          NA      0.0106822919\n",
              "havekids_at_bline  -0.018635172 -0.032386342  NA          NA      0.0253105308\n",
              "male                0.081746375  0.111733951  NA          NA     -0.0362582055\n",
              "educlevel_at_bline  0.218409173  0.078221130  NA          NA      0.0559761365\n",
              "hsgrad_at_bline     0.208389520  0.053991627  NA          NA      0.0505056100\n",
              "ged_at_bline        0.060190874  0.042287677  NA          NA      0.0156153940\n",
              "everwork_at_bline            NA           NA  NA          NA                NA\n",
              "wrk_lyr_bline                NA           NA  NA          NA                NA\n",
              "mos_wrk_lyr_bline   0.284558683  0.085810333  NA          NA      0.0312118327\n",
              "earn_lyr_bline      0.247843813  0.114770335  NA          NA      0.0169851497\n",
              "wage_bline          0.131878502  0.139235128  NA          NA      0.0118863474\n",
              "anywlfr_bline      -0.137932028 -0.092750870  NA          NA      0.0220192806\n",
              "alcohol_bline       0.053207202  0.047109252  NA          NA     -0.0006074037\n",
              "arrest_bline       -0.058270216  0.013052442  NA          NA     -0.0024987623\n",
              "jail_bline         -0.036476388  0.003858868  NA          NA     -0.0048481618\n",
              "participate        -0.115385948  0.011527253  NA          NA      0.0213684583\n",
              "voc_in_jc          -0.112268375  0.021732252  NA          NA      0.0144193714\n",
              "work_wk48           0.359774478  0.184347742  NA          NA     -0.0115923197\n",
              "pct_wks_wrk         1.000000000  0.220623182  NA          NA      0.0785732227\n",
              "logwage_wk208       0.220623182  1.000000000  NA          NA     -0.0010652715\n",
              "wagenotmiss                  NA           NA   1          NA                NA\n",
              "attrit                       NA           NA  NA           1                NA\n",
              "nomiss              0.078573223 -0.001065271  NA          NA      1.0000000000"
            ]
          },
          "metadata": {}
        }
      ]
    },
    {
      "cell_type": "markdown",
      "source": [
        "Average Treatment Effect  "
      ],
      "metadata": {
        "id": "_6kTUFSuHVqA"
      }
    },
    {
      "cell_type": "code",
      "source": [
        "formula.model_ATE<-as.formula(earnq16~treatmnt)\n",
        "formula.model_ATE"
      ],
      "metadata": {
        "colab": {
          "base_uri": "https://localhost:8080/",
          "height": 34
        },
        "id": "17ciuKZ9HWiC",
        "outputId": "fe884e9b-552a-48ff-ea48-e7b16ccd1b7c"
      },
      "execution_count": 33,
      "outputs": [
        {
          "output_type": "display_data",
          "data": {
            "text/plain": [
              "earnq16 ~ treatmnt"
            ]
          },
          "metadata": {}
        }
      ]
    },
    {
      "cell_type": "code",
      "source": [
        "model_ATE<-lm(formula.model_ATE,data=JobCorps, na.action = na.omit)\n",
        "summary(model_ATE)"
      ],
      "metadata": {
        "colab": {
          "base_uri": "https://localhost:8080/",
          "height": 347
        },
        "id": "NcWAVuhVHebF",
        "outputId": "57575984-078b-4333-a13f-6f5e26fb6df9"
      },
      "execution_count": 34,
      "outputs": [
        {
          "output_type": "display_data",
          "data": {
            "text/plain": [
              "\n",
              "Call:\n",
              "lm(formula = formula.model_ATE, data = JobCorps, na.action = na.omit)\n",
              "\n",
              "Residuals:\n",
              "    Min      1Q  Median      3Q     Max \n",
              "-214.46 -201.31  -21.74  117.71 2186.79 \n",
              "\n",
              "Coefficients:\n",
              "            Estimate Std. Error t value Pr(>|t|)    \n",
              "(Intercept)  201.313      3.289   61.20  < 2e-16 ***\n",
              "treatmnt      13.145      4.227    3.11  0.00188 ** \n",
              "---\n",
              "Signif. codes:  0 ‘***’ 0.001 ‘**’ 0.01 ‘*’ 0.05 ‘.’ 0.1 ‘ ’ 1\n",
              "\n",
              "Residual standard error: 213.6 on 10690 degrees of freedom\n",
              "  (2817 observations deleted due to missingness)\n",
              "Multiple R-squared:  0.0009038,\tAdjusted R-squared:  0.0008104 \n",
              "F-statistic: 9.671 on 1 and 10690 DF,  p-value: 0.001877\n"
            ]
          },
          "metadata": {}
        }
      ]
    },
    {
      "cell_type": "markdown",
      "source": [
        "Is this a really ATE ?"
      ],
      "metadata": {
        "id": "POZ6kksKLmXn"
      }
    },
    {
      "cell_type": "markdown",
      "source": [
        "Effect on the Treated"
      ],
      "metadata": {
        "id": "mP36Owq9L4JL"
      }
    },
    {
      "cell_type": "code",
      "source": [
        "summary(subset(JobCorps,treatmnt==1)$earnq16)"
      ],
      "metadata": {
        "colab": {
          "base_uri": "https://localhost:8080/",
          "height": 52
        },
        "id": "QMAYDymkLj43",
        "outputId": "48173691-0bc9-464f-cbe1-9303cba7565a"
      },
      "execution_count": 35,
      "outputs": [
        {
          "output_type": "display_data",
          "data": {
            "text/plain": [
              "   Min. 1st Qu.  Median    Mean 3rd Qu.    Max.    NA's \n",
              "    0.0     0.0   196.4   214.5   335.4  1970.4    1604 "
            ]
          },
          "metadata": {}
        }
      ]
    },
    {
      "cell_type": "code",
      "source": [
        "ToT<-mean(subset(JobCorps,treatmnt==1)$earnq16,na.rm=TRUE)  # ToT: Average Effect of Treatment on the Treated\n",
        "ToT"
      ],
      "metadata": {
        "colab": {
          "base_uri": "https://localhost:8080/",
          "height": 34
        },
        "id": "TmlvHw-uMNJG",
        "outputId": "b54b2920-02b8-4395-aa99-5fdcf6a607bd"
      },
      "execution_count": 36,
      "outputs": [
        {
          "output_type": "display_data",
          "data": {
            "text/html": [
              "214.457969711978"
            ],
            "text/markdown": "214.457969711978",
            "text/latex": "214.457969711978",
            "text/plain": [
              "[1] 214.458"
            ]
          },
          "metadata": {}
        }
      ]
    },
    {
      "cell_type": "code",
      "source": [
        "NT<-mean(subset(JobCorps,treatmnt==0)$earnq16,na.rm=TRUE)  # ToT: Average Effect of Treatment on the Treated\n",
        "NT"
      ],
      "metadata": {
        "colab": {
          "base_uri": "https://localhost:8080/",
          "height": 34
        },
        "id": "dxcZXCCgL_Ez",
        "outputId": "47cce7aa-b41c-42a9-a034-f4740d039460"
      },
      "execution_count": 37,
      "outputs": [
        {
          "output_type": "display_data",
          "data": {
            "text/html": [
              "201.313081410758"
            ],
            "text/markdown": "201.313081410758",
            "text/latex": "201.313081410758",
            "text/plain": [
              "[1] 201.3131"
            ]
          },
          "metadata": {}
        }
      ]
    },
    {
      "cell_type": "markdown",
      "source": [
        "ATE , maybe"
      ],
      "metadata": {
        "id": "9amY7I7UMF4D"
      }
    },
    {
      "cell_type": "code",
      "source": [
        "ToT-NT"
      ],
      "metadata": {
        "colab": {
          "base_uri": "https://localhost:8080/",
          "height": 34
        },
        "id": "j41x5qPNMH3R",
        "outputId": "a9494dc1-dd8b-415b-e9fe-26b1b8eeb3de"
      },
      "execution_count": 38,
      "outputs": [
        {
          "output_type": "display_data",
          "data": {
            "text/html": [
              "13.1448883012192"
            ],
            "text/markdown": "13.1448883012192",
            "text/latex": "13.1448883012192",
            "text/plain": [
              "[1] 13.14489"
            ]
          },
          "metadata": {}
        }
      ]
    },
    {
      "cell_type": "markdown",
      "source": [
        "compare this to regression coefficient"
      ],
      "metadata": {
        "id": "KK60p1vcMkIS"
      }
    },
    {
      "cell_type": "code",
      "source": [
        " model_ATE$coefficients"
      ],
      "metadata": {
        "colab": {
          "base_uri": "https://localhost:8080/",
          "height": 34
        },
        "id": "Y7o0H767MmaG",
        "outputId": "6e8120ba-2f62-4bab-cc68-25cb232ea30f"
      },
      "execution_count": 39,
      "outputs": [
        {
          "output_type": "display_data",
          "data": {
            "text/html": [
              "<style>\n",
              ".dl-inline {width: auto; margin:0; padding: 0}\n",
              ".dl-inline>dt, .dl-inline>dd {float: none; width: auto; display: inline-block}\n",
              ".dl-inline>dt::after {content: \":\\0020\"; padding-right: .5ex}\n",
              ".dl-inline>dt:not(:first-of-type) {padding-left: .5ex}\n",
              "</style><dl class=dl-inline><dt>(Intercept)</dt><dd>201.313081410758</dd><dt>treatmnt</dt><dd>13.1448883012191</dd></dl>\n"
            ],
            "text/markdown": "(Intercept)\n:   201.313081410758treatmnt\n:   13.1448883012191\n\n",
            "text/latex": "\\begin{description*}\n\\item[(Intercept)] 201.313081410758\n\\item[treatmnt] 13.1448883012191\n\\end{description*}\n",
            "text/plain": [
              "(Intercept)    treatmnt \n",
              "  201.31308    13.14489 "
            ]
          },
          "metadata": {}
        }
      ]
    },
    {
      "cell_type": "markdown",
      "source": [
        "Randomization seems to be working"
      ],
      "metadata": {
        "id": "Vf-9n6Y8Mv5I"
      }
    },
    {
      "cell_type": "code",
      "source": [
        "summary(model_ATE$residuals) #what is the expected value?"
      ],
      "metadata": {
        "colab": {
          "base_uri": "https://localhost:8080/",
          "height": 52
        },
        "id": "NcRELRguMzZc",
        "outputId": "60c401b4-6ce6-481f-b5ed-36b3d697809b"
      },
      "execution_count": 40,
      "outputs": [
        {
          "output_type": "display_data",
          "data": {
            "text/plain": [
              "   Min. 1st Qu.  Median    Mean 3rd Qu.    Max. \n",
              "-214.46 -201.31  -21.74    0.00  117.71 2186.79 "
            ]
          },
          "metadata": {}
        }
      ]
    },
    {
      "cell_type": "markdown",
      "source": [
        "is this correlated with the treatment"
      ],
      "metadata": {
        "id": "32kWBJrNM5V-"
      }
    },
    {
      "cell_type": "code",
      "source": [
        "cor(model_ATE$residuals,subset(JobCorps,complete.cases(JobCorps[,c(\"earnq16\",\"treatmnt\")])==TRUE)$treatmnt)"
      ],
      "metadata": {
        "colab": {
          "base_uri": "https://localhost:8080/",
          "height": 34
        },
        "id": "X48a8FO4M4uZ",
        "outputId": "cc8d73e3-d3fc-4e8c-8083-a69dfc2b6614"
      },
      "execution_count": 41,
      "outputs": [
        {
          "output_type": "display_data",
          "data": {
            "text/html": [
              "1.01214853605601e-16"
            ],
            "text/markdown": "1.01214853605601e-16",
            "text/latex": "1.01214853605601e-16",
            "text/plain": [
              "[1] 1.012149e-16"
            ]
          },
          "metadata": {}
        }
      ]
    },
    {
      "cell_type": "markdown",
      "source": [
        "no correlation at all, what does this mean?"
      ],
      "metadata": {
        "id": "uXn1UUdkNCPt"
      }
    }
  ]
}