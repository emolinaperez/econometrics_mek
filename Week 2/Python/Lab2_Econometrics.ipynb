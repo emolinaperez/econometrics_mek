{
  "cells": [
    {
      "cell_type": "markdown",
      "metadata": {
        "id": "view-in-github",
        "colab_type": "text"
      },
      "source": [
        "<a href=\"https://colab.research.google.com/github/emolinaperez/econometrics_mek/blob/main/Week%202/Python/Lab2_Econometrics.ipynb\" target=\"_parent\"><img src=\"https://colab.research.google.com/assets/colab-badge.svg\" alt=\"Open In Colab\"/></a>"
      ]
    },
    {
      "cell_type": "markdown",
      "metadata": {
        "id": "Txl982-4Gmdp"
      },
      "source": [
        "### **Lab 2: Econometrics**"
      ]
    },
    {
      "cell_type": "markdown",
      "metadata": {
        "id": "9qgGzUyKGmdq"
      },
      "source": [
        "Import Required Libraries"
      ]
    },
    {
      "cell_type": "code",
      "execution_count": null,
      "metadata": {
        "id": "WNPLjrddGmdq"
      },
      "outputs": [],
      "source": [
        "import pandas as pd\n",
        "import statsmodels.formula.api as smf\n",
        "from statsmodels.stats.weightstats import ttest_ind\n",
        "import os\n",
        "from scipy.stats import t\n",
        "import numpy as np\n",
        "import matplotlib.pyplot as plt\n",
        "import seaborn as sns"
      ]
    },
    {
      "cell_type": "markdown",
      "metadata": {
        "id": "2uFWFZkQGmdq"
      },
      "source": [
        "Set working directory (adjust the path accordingly)"
      ]
    },
    {
      "cell_type": "code",
      "execution_count": null,
      "metadata": {
        "id": "-vCS2q0nHSU6"
      },
      "outputs": [],
      "source": [
        "#os.chdir('/Users/fabianfuentes/Library/CloudStorage/OneDrive-InstitutoTecnologicoydeEstudiosSuperioresdeMonterrey/cursos/Econometrics/econometrics_mek/Week 2/')"
      ]
    },
    {
      "cell_type": "markdown",
      "metadata": {
        "id": "CUlFa-h4HVAD"
      },
      "source": [
        "Load data (using pandas instead of foreign library)"
      ]
    },
    {
      "cell_type": "code",
      "execution_count": null,
      "metadata": {
        "id": "Ym5bRfDnHUwL"
      },
      "outputs": [],
      "source": [
        "jobcorpsfile = \"https://raw.githubusercontent.com/emolinaperez/econometrics_mek/main/Week%202/data/jobcorps.dta\"\n",
        "JobCorps = pd.read_stata(jobcorpsfile)"
      ]
    },
    {
      "cell_type": "markdown",
      "metadata": {
        "id": "xhj-fP4qHytj"
      },
      "source": [
        "Explore data file"
      ]
    },
    {
      "cell_type": "code",
      "execution_count": null,
      "metadata": {
        "id": "pi8PesjNH0TF"
      },
      "outputs": [],
      "source": [
        "# Display the first 5 rows of the DataFrame\n",
        "JobCorps.head()"
      ]
    },
    {
      "cell_type": "code",
      "execution_count": null,
      "metadata": {
        "id": "qrYnX2N5jtU_"
      },
      "outputs": [],
      "source": [
        "# Get the dimensions of the DataFrame\n",
        "JobCorps.shape"
      ]
    },
    {
      "cell_type": "code",
      "execution_count": null,
      "metadata": {
        "id": "Ro4oNvU7jtU_"
      },
      "outputs": [],
      "source": [
        "# Display attributes of the DataFrame\n",
        "print(\"Columns:\", JobCorps.columns.tolist())  # Column names\n",
        "print(\"Index:\", JobCorps.index)  # Row indices\n",
        "print(\"Data Types:\\n\", JobCorps.dtypes)  # Data types of each column"
      ]
    },
    {
      "cell_type": "code",
      "execution_count": null,
      "metadata": {
        "id": "JYD77AX6jtU_"
      },
      "outputs": [],
      "source": [
        "# Structure of the DataFrame\n",
        "JobCorps.info()"
      ]
    },
    {
      "cell_type": "code",
      "execution_count": null,
      "metadata": {
        "id": "MgSv_54EH-pm"
      },
      "outputs": [],
      "source": [
        "# Summary statistics for the DataFrame\n",
        "print(JobCorps.describe())"
      ]
    },
    {
      "cell_type": "markdown",
      "metadata": {
        "id": "XmbC6DRnIByG"
      },
      "source": [
        "Explore in class characteristics of differnet variables\n",
        "\n",
        "Compare hispanics in control and treatment group\n",
        "\n",
        "First compare means\n"
      ]
    },
    {
      "cell_type": "markdown",
      "metadata": {
        "id": "X2p3fuEOjtVA"
      },
      "source": [
        "In control group"
      ]
    },
    {
      "cell_type": "code",
      "execution_count": null,
      "metadata": {
        "id": "Xs08blrAH_73"
      },
      "outputs": [],
      "source": [
        "print(JobCorps[JobCorps['treatmnt'] == 0]['hispanic'].mean())"
      ]
    },
    {
      "cell_type": "code",
      "execution_count": null,
      "metadata": {
        "id": "g1OTScRQjtVA"
      },
      "outputs": [],
      "source": [
        "print(JobCorps[JobCorps['treatmnt'] == 0]['hispanic'].sum())"
      ]
    },
    {
      "cell_type": "markdown",
      "metadata": {
        "id": "iLrvThsCjtVA"
      },
      "source": [
        "In treatment group"
      ]
    },
    {
      "cell_type": "code",
      "execution_count": null,
      "metadata": {
        "id": "GJ6zpFpDIGrp"
      },
      "outputs": [],
      "source": [
        "print(JobCorps[JobCorps['treatmnt'] == 1]['hispanic'].mean())"
      ]
    },
    {
      "cell_type": "code",
      "execution_count": null,
      "metadata": {
        "id": "eMFNXsP4jtVA"
      },
      "outputs": [],
      "source": [
        "print(JobCorps[JobCorps['treatmnt'] == 1]['hispanic'].sum())"
      ]
    },
    {
      "cell_type": "markdown",
      "metadata": {
        "id": "Tk63ewYjIMQs"
      },
      "source": [
        "Difference in means test (using statsmodels.stats.weightstats)"
      ]
    },
    {
      "cell_type": "code",
      "execution_count": null,
      "metadata": {
        "id": "gGnkO7mvI1B_"
      },
      "outputs": [],
      "source": [
        "# Calculate means and confidence intervals for \"hispanic\" by treatment group\n",
        "treatment_means = JobCorps.groupby('treatmnt').apply(\n",
        "    lambda group: pd.Series({\n",
        "        'mean_hispanic': group['hispanic'].mean(skipna=True),\n",
        "        'ci_lower': group['hispanic'].mean(skipna=True) - t.ppf(0.975, len(group) - 1) * group['hispanic'].std(skipna=True) / np.sqrt(len(group)),\n",
        "        'ci_upper': group['hispanic'].mean(skipna=True) + t.ppf(0.975, len(group) - 1) * group['hispanic'].std(skipna=True) / np.sqrt(len(group))\n",
        "    })\n",
        ").reset_index()\n",
        "\n",
        "treatment_means"
      ]
    },
    {
      "cell_type": "code",
      "execution_count": null,
      "metadata": {
        "id": "JrzxlbwKjtVB"
      },
      "outputs": [],
      "source": [
        "# Initialize a list to store the results\n",
        "results = []\n",
        "\n",
        "grouped = JobCorps.groupby('treatmnt')\n",
        "\n",
        "# Iterate through each group to calculate statistics manually\n",
        "for treatment_type, group in grouped:\n",
        "    # Remove NaN values\n",
        "    hispanic_values = group['hispanic'].dropna()\n",
        "\n",
        "    # Sample size (n)\n",
        "    n = len(hispanic_values)\n",
        "\n",
        "    # Calculate mean\n",
        "    mean_hispanic = hispanic_values.mean()\n",
        "\n",
        "    # Calculate standard deviation\n",
        "    std_dev = hispanic_values.std()\n",
        "\n",
        "    # Calculate standard error\n",
        "    std_error = std_dev / np.sqrt(n)\n",
        "\n",
        "    # Degrees of freedom\n",
        "    df = n - 1\n",
        "\n",
        "    # Confidence level\n",
        "    conf_level = 0.95\n",
        "    t_value = t.ppf((1 + conf_level) / 2, df)  # t-value for 95% CI\n",
        "\n",
        "    # Calculate confidence intervals\n",
        "    ci_lower = mean_hispanic - t_value * std_error\n",
        "    ci_upper = mean_hispanic + t_value * std_error\n",
        "\n",
        "    # Append results as a dictionary\n",
        "    results.append({\n",
        "        'treatment_type': treatment_type,\n",
        "        'mean_hispanic': mean_hispanic,\n",
        "        'ci_lower_hispanic': ci_lower,\n",
        "        'ci_upper_hispanic': ci_upper\n",
        "    })\n",
        "\n",
        "# Step 3: Convert results to a DataFrame\n",
        "results_df = pd.DataFrame(results)\n",
        "results_df"
      ]
    },
    {
      "cell_type": "code",
      "execution_count": null,
      "metadata": {
        "id": "0-49dgvzJIu6"
      },
      "outputs": [],
      "source": [
        "# Bar plot with confidence intervals\n",
        "plt.figure(figsize=(8, 6))\n",
        "\n",
        "# Bar plot for mean_hispanic\n",
        "sns.barplot(\n",
        "    x='treatmnt',\n",
        "    y='mean_hispanic',\n",
        "    data=treatment_means,\n",
        "    palette='viridis',\n",
        "    alpha=0.6\n",
        ")\n",
        "\n",
        "# Add error bars for confidence intervals\n",
        "plt.errorbar(\n",
        "    x=treatment_means['treatmnt'],\n",
        "    y=treatment_means['mean_hispanic'],\n",
        "    yerr=[\n",
        "        treatment_means['mean_hispanic'] - treatment_means['ci_lower'], # Lower error\n",
        "        treatment_means['ci_upper'] - treatment_means['mean_hispanic']  # Upper error\n",
        "    ],\n",
        "    fmt='none',\n",
        "    capsize=5,\n",
        "    color='black'\n",
        ")\n",
        "\n",
        "# Labels and title\n",
        "plt.title(\"Mean Proportion of Hispanics by Treatment\", fontsize=14)\n",
        "plt.xlabel(\"Treatment (0 = Control, 1 = Treated)\", fontsize=12)\n",
        "plt.ylabel(\"Mean Proportion of Hispanics\", fontsize=12)\n",
        "plt.xticks(ticks=[0, 1], labels=[\"Control (0)\", \"Treated (1)\"], fontsize=10)\n",
        "plt.legend(title=\"Treatment\", labels=[\"Control\", \"Treated\"], loc=\"upper left\")\n",
        "\n",
        "# Minimal theme\n",
        "sns.despine()\n",
        "plt.tight_layout()\n",
        "\n",
        "plt.show();"
      ]
    },
    {
      "cell_type": "code",
      "execution_count": null,
      "metadata": {
        "id": "ScwoV8fnjtVB"
      },
      "outputs": [],
      "source": [
        "# Bar plot with confidence intervals using Seaborn\n",
        "plt.figure(figsize=(8, 6))\n",
        "\n",
        "sns.barplot(\n",
        "    x=\"treatmnt\",\n",
        "    y=\"hispanic\",\n",
        "    data=JobCorps,\n",
        "    ci=95,                # Add 95% confidence intervals\n",
        ")\n",
        "\n",
        "# Add labels and title\n",
        "plt.title(\"Mean Proportion of Hispanics by Treatment\", fontsize=14)\n",
        "plt.xlabel(\"Treatment (0 = Control, 1 = Treated)\", fontsize=12)\n",
        "plt.ylabel(\"Mean Proportion of Hispanics\", fontsize=12)\n",
        "plt.xticks(ticks=[0, 1], labels=[\"Control (0)\", \"Treated (1)\"], fontsize=10)\n",
        "plt.legend(title=\"Treatment\", loc=\"upper left\")\n",
        "plt.show();"
      ]
    },
    {
      "cell_type": "code",
      "execution_count": null,
      "metadata": {
        "id": "s7V9YEdQJqBM"
      },
      "outputs": [],
      "source": [
        "from scipy.stats import ttest_ind, t\n",
        "\n",
        "# Separate the groups\n",
        "group_0 = JobCorps[JobCorps['treatmnt'] == 0]['hispanic'].dropna()\n",
        "group_1 = JobCorps[JobCorps['treatmnt'] == 1]['hispanic'].dropna()\n",
        "\n",
        "# Perform the two-sample t-test (Welch's t-test for unequal variances)\n",
        "t_stat, p_value = ttest_ind(group_0, group_1, equal_var=False)\n",
        "\n",
        "# Calculate confidence interval for the difference in means\n",
        "mean_group_0 = group_0.mean()\n",
        "mean_group_1 = group_1.mean()\n",
        "mean_diff = mean_group_0 - mean_group_1\n",
        "std_error = np.sqrt(group_0.var(ddof=1) / len(group_0) + group_1.var(ddof=1) / len(group_1))\n",
        "df = len(group_0) + len(group_1) - 2\n",
        "t_crit = t.ppf(0.975, df)  # Two-tailed test at 95% confidence level\n",
        "ci_lower = mean_diff - t_crit * std_error\n",
        "ci_upper = mean_diff + t_crit * std_error\n",
        "\n",
        "# Hypotheses\n",
        "null_hypothesis = \"The means of the two groups are equal (mean_group_0 = mean_group_1).\"\n",
        "alternative_hypothesis = \"The means of the two groups are not equal (mean_group_0 ≠ mean_group_1).\"\n",
        "\n",
        "# Decision rule (alpha = 0.05)\n",
        "alpha = 0.05\n",
        "decision = \"Reject the null hypothesis\" if p_value < alpha else \"Fail to reject the null hypothesis\"\n",
        "\n",
        "# Display the results\n",
        "print(\"Two-Sample T-Test:\")\n",
        "print(f\"Hypotheses:\")\n",
        "print(f\"Null Hypothesis: {null_hypothesis}\")\n",
        "print(f\"Alternative Hypothesis: {alternative_hypothesis}\")\n",
        "print(f\"\\nResults:\")\n",
        "print(f\"T-Statistic: {t_stat:.4f}\")\n",
        "print(f\"P-Value: {p_value:.4f}\")\n",
        "print(f\"Confidence Interval: [{ci_lower:.8f}, {ci_upper:.8f}]\")\n",
        "print(f\"Mean in Group 0: {mean_group_0:.7f}\")\n",
        "print(f\"Mean in Group 1: {mean_group_1:.7f}\")\n",
        "print(f\"\\nDecision: {decision}\")"
      ]
    },
    {
      "cell_type": "code",
      "execution_count": null,
      "metadata": {
        "id": "LxQ4BleIjtVB"
      },
      "outputs": [],
      "source": [
        "# Separate the groups\n",
        "group_0 = JobCorps[JobCorps['treatmnt'] == 0]['hispanic'].dropna()\n",
        "group_1 = JobCorps[JobCorps['treatmnt'] == 1]['hispanic'].dropna()\n",
        "\n",
        "# Perform the two-sample t-test (Welch's t-test for unequal variances)\n",
        "t_stat, p_value = ttest_ind(group_0, group_1, equal_var=False)\n",
        "\n",
        "# Calculate confidence interval for the difference in means\n",
        "mean_group_0 = group_0.mean()\n",
        "mean_group_1 = group_1.mean()\n",
        "mean_diff = mean_group_0 - mean_group_1\n",
        "std_error = np.sqrt(group_0.var(ddof=1) / len(group_0) + group_1.var(ddof=1) / len(group_1))\n",
        "df = len(group_0) + len(group_1) - 2\n",
        "t_crit = t.ppf(0.975, df)  # Two-tailed test at 95% confidence level\n",
        "ci_lower = mean_diff - t_crit * std_error\n",
        "ci_upper = mean_diff + t_crit * std_error\n",
        "\n",
        "# Hypotheses\n",
        "null_hypothesis = \"The means of the two groups are equal (mean_group_0 = mean_group_1).\"\n",
        "alternative_hypothesis = \"The means of the two groups are not equal (mean_group_0 ≠ mean_group_1).\"\n",
        "\n",
        "# Decision rule (alpha = 0.05)\n",
        "alpha = 0.05\n",
        "decision = \"Reject the null hypothesis\" if p_value < alpha else \"Fail to reject the null hypothesis\"\n",
        "\n",
        "# Display the results\n",
        "print(\"Two-Sample T-Test:\")\n",
        "print(f\"Hypotheses:\")\n",
        "print(f\"Null Hypothesis: {null_hypothesis}\")\n",
        "print(f\"Alternative Hypothesis: {alternative_hypothesis}\")\n",
        "print(f\"\\nResults:\")\n",
        "print(f\"T-Statistic: {t_stat:.4f}\")\n",
        "print(f\"P-Value: {p_value:.4f}\")\n",
        "print(f\"Confidence Interval: [{ci_lower:.8f}, {ci_upper:.8f}]\")\n",
        "print(f\"Mean in Group 0: {mean_group_0:.7f}\")\n",
        "print(f\"Mean in Group 1: {mean_group_1:.7f}\")\n",
        "print(f\"\\nDecision: {decision}\")"
      ]
    },
    {
      "cell_type": "markdown",
      "metadata": {
        "id": "qnWEd7yXNgYL"
      },
      "source": [
        "use OLS model to see of randomization was sucessful\n",
        "\n",
        " first define vector of variables of interest"
      ]
    },
    {
      "cell_type": "code",
      "execution_count": null,
      "metadata": {
        "id": "cr73vCvRNmwg"
      },
      "outputs": [],
      "source": [
        "# Select column names from index 19 to 36 (Python uses 0-based indexing)\n",
        "target_vars = JobCorps.columns[18:36].to_list()\n",
        "target_vars"
      ]
    },
    {
      "cell_type": "code",
      "execution_count": null,
      "metadata": {
        "id": "4R5v1Y1jjtVC"
      },
      "outputs": [],
      "source": [
        "# Exclude columns containing \"earnq\"\n",
        "target_vars = [var for var in target_vars if var != 'treatmnt']\n",
        "target_vars"
      ]
    },
    {
      "cell_type": "code",
      "execution_count": null,
      "metadata": {
        "id": "hdbY0p38jtVC"
      },
      "outputs": [],
      "source": [
        "# Summary statistics for the selected columns\n",
        "JobCorps[target_vars].describe()"
      ]
    },
    {
      "cell_type": "code",
      "execution_count": null,
      "metadata": {
        "id": "UD8veVocjtVC"
      },
      "outputs": [],
      "source": [
        "# Select specific columns and calculate the correlation matrix\n",
        "cor_matrix = JobCorps[[\"white\", \"black\", \"hispanic\", \"treatmnt\"]].corr()\n",
        "cor_matrix"
      ]
    },
    {
      "cell_type": "code",
      "execution_count": null,
      "metadata": {
        "id": "rS81M5mojtVC"
      },
      "outputs": [],
      "source": [
        "# Plot the heatmap\n",
        "plt.figure(figsize=(8, 6))\n",
        "sns.heatmap(\n",
        "    cor_matrix,\n",
        "    annot=True,          # Display correlation coefficients on the heatmap\n",
        "    fmt=\".2f\",           # Format for the annotations\n",
        "    cmap=\"coolwarm\",     # Color map for the heatmap\n",
        "    cbar=True            # Display color bar\n",
        ")"
      ]
    },
    {
      "cell_type": "markdown",
      "metadata": {
        "id": "KfZhrbIAjtVC"
      },
      "source": [
        "Run the regression, first a simple example with 3 observable caracteristics"
      ]
    },
    {
      "cell_type": "code",
      "execution_count": null,
      "metadata": {
        "id": "3kRttXxdKQVh"
      },
      "outputs": [],
      "source": [
        "model1 = smf.ols('treatmnt ~ white + black + hispanic', data=JobCorps).fit()\n",
        "print(model1.summary())"
      ]
    },
    {
      "cell_type": "code",
      "execution_count": null,
      "metadata": {
        "id": "6yq8CYQ7jtVD"
      },
      "outputs": [],
      "source": [
        "import statsmodels.api as sm\n",
        "import seaborn as sns\n",
        "import matplotlib.pyplot as plt\n",
        "\n",
        "# Residual Plots\n",
        "fig, ax = plt.subplots(2, 2, figsize=(12, 10))\n",
        "\n",
        "# Residuals vs Fitted\n",
        "sns.residplot(x=model1.fittedvalues, y=model1.resid, lowess=True, line_kws={'color': 'red'}, ax=ax[0, 0])\n",
        "ax[0, 0].axhline(0, color='gray', linestyle='--')\n",
        "ax[0, 0].set_title(\"Residuals vs Fitted\")\n",
        "ax[0, 0].set_xlabel(\"Fitted Values\")\n",
        "ax[0, 0].set_ylabel(\"Residuals\")\n",
        "\n",
        "# Normal Q-Q\n",
        "sm.qqplot(model1.resid, line=\"45\", fit=True, ax=ax[0, 1])\n",
        "ax[0, 1].set_title(\"Normal Q-Q\")\n",
        "\n",
        "# Scale-Location (Spread-Location)\n",
        "abs_resid = abs(model1.resid)**0.5\n",
        "sns.scatterplot(x=model1.fittedvalues, y=abs_resid, ax=ax[1, 0])\n",
        "ax[1, 0].axhline(0, color='gray', linestyle='--')\n",
        "ax[1, 0].set_title(\"Scale-Location\")\n",
        "ax[1, 0].set_xlabel(\"Fitted Values\")\n",
        "ax[1, 0].set_ylabel(\"Sqrt(|Residuals|)\")\n",
        "\n",
        "# Residuals vs Leverage\n",
        "sm.graphics.influence_plot(model1, criterion=\"cooks\", size=2, ax=ax[1, 1])\n",
        "ax[1, 1].set_title(\"Residuals vs Leverage\")\n",
        "\n",
        "plt.tight_layout()\n",
        "plt.show()"
      ]
    },
    {
      "cell_type": "markdown",
      "metadata": {
        "id": "L91CAmaAjtVD"
      },
      "source": [
        "Now all variables\n",
        "\n",
        "First save the model"
      ]
    },
    {
      "cell_type": "code",
      "execution_count": null,
      "metadata": {
        "id": "Kl4Mc2OKjtVD"
      },
      "outputs": [],
      "source": [
        "# Dynamically create the formula\n",
        "dependent_var = \"treatmnt\"\n",
        "formula_model2 = f\"{dependent_var} ~ {' + '.join(target_vars)}\"\n",
        "formula_model2"
      ]
    },
    {
      "cell_type": "markdown",
      "metadata": {
        "id": "gej6oeMdjtVD"
      },
      "source": [
        "Second run regression"
      ]
    },
    {
      "cell_type": "code",
      "execution_count": null,
      "metadata": {
        "id": "YNIGL9RGjtVE"
      },
      "outputs": [],
      "source": [
        "# Fit the model using the dynamically created formula\n",
        "model2 = smf.ols(formula=formula_model2, data=JobCorps).fit()\n",
        "print(model2.summary())"
      ]
    },
    {
      "cell_type": "markdown",
      "metadata": {
        "id": "7bfcBnRgPC3i"
      },
      "source": [
        "Selection on observables\n"
      ]
    },
    {
      "cell_type": "code",
      "execution_count": null,
      "metadata": {
        "id": "ya-Ga6PvjtVE"
      },
      "outputs": [],
      "source": [
        "dependent_var = \"attrit\"\n",
        "formula_model3 = f\"{dependent_var} ~ {' + '.join(target_vars)}\"\n",
        "formula_model3"
      ]
    },
    {
      "cell_type": "code",
      "execution_count": null,
      "metadata": {
        "id": "yVDbg_D2Omf8"
      },
      "outputs": [],
      "source": [
        "model3 = smf.ols(formula=formula_model3, data=JobCorps).fit()\n",
        "print(model3.summary())"
      ]
    },
    {
      "cell_type": "code",
      "execution_count": null,
      "metadata": {
        "id": "PpXddGNxjtVE"
      },
      "outputs": [],
      "source": [
        "# Filter rows with complete cases for the specified columns\n",
        "test = JobCorps.dropna(subset=target_vars)\n",
        "test.shape"
      ]
    },
    {
      "cell_type": "code",
      "execution_count": null,
      "metadata": {
        "id": "6LOxdQhOjtVE"
      },
      "outputs": [],
      "source": [
        "cor_matrix = test[target_vars].corr()\n",
        "cor_matrix"
      ]
    },
    {
      "cell_type": "markdown",
      "metadata": {
        "id": "TEvFXZ2sPIOj"
      },
      "source": [
        "Average Treatment Effect"
      ]
    },
    {
      "cell_type": "code",
      "execution_count": null,
      "metadata": {
        "id": "MdOFTGCojtVE"
      },
      "outputs": [],
      "source": [
        "# Define the formula\n",
        "formula_model_ATE = \"earnq16 ~ treatmnt\"\n",
        "formula_model_ATE"
      ]
    },
    {
      "cell_type": "code",
      "execution_count": null,
      "metadata": {
        "id": "iFLKHXy-PHxG"
      },
      "outputs": [],
      "source": [
        "model_ATE = smf.ols('earnq16 ~ treatmnt', data=JobCorps).fit()\n",
        "print(model_ATE.summary())"
      ]
    },
    {
      "cell_type": "markdown",
      "metadata": {
        "id": "27g3aD2GjtVF"
      },
      "source": [
        "Is this a really ATE ?"
      ]
    },
    {
      "cell_type": "markdown",
      "metadata": {
        "id": "G_k1A0qrjtVF"
      },
      "source": [
        "Effect on the Treated"
      ]
    },
    {
      "cell_type": "code",
      "execution_count": null,
      "metadata": {
        "id": "Rp4yDhUqjtVF"
      },
      "outputs": [],
      "source": [
        "JobCorps.loc[JobCorps['treatmnt'] == 1, 'earnq16'].describe()"
      ]
    },
    {
      "cell_type": "markdown",
      "metadata": {
        "id": "bwbFk8XkPPo-"
      },
      "source": [
        "Average Effect of Treatment on the Treated (ToT)\n"
      ]
    },
    {
      "cell_type": "code",
      "execution_count": null,
      "metadata": {
        "id": "vOOSLc3QjtVF"
      },
      "outputs": [],
      "source": [
        "ToT = JobCorps[JobCorps['treatmnt'] == 1]['earnq16'].mean()\n",
        "ToT"
      ]
    },
    {
      "cell_type": "code",
      "execution_count": null,
      "metadata": {
        "id": "7yZq7e3ijtVF"
      },
      "outputs": [],
      "source": [
        "NT = JobCorps[JobCorps['treatmnt'] == 0]['earnq16'].mean()\n",
        "NT"
      ]
    },
    {
      "cell_type": "code",
      "execution_count": null,
      "metadata": {
        "id": "gWtLfJKGPOaR"
      },
      "outputs": [],
      "source": [
        "print(ToT - NT)"
      ]
    },
    {
      "cell_type": "markdown",
      "metadata": {
        "id": "us77BrK3PwYU"
      },
      "source": [
        "Compare with regression coefficient"
      ]
    },
    {
      "cell_type": "code",
      "execution_count": null,
      "metadata": {
        "id": "rh6lgvUyPw-k"
      },
      "outputs": [],
      "source": [
        "print(model_ATE.params)"
      ]
    },
    {
      "cell_type": "markdown",
      "metadata": {
        "id": "6FCJXDe5P-Y6"
      },
      "source": [
        "Check for correlation between residuals and treatment"
      ]
    },
    {
      "cell_type": "code",
      "execution_count": null,
      "metadata": {
        "id": "LOiY3FYoP5aq"
      },
      "outputs": [],
      "source": [
        "print(model_ATE.resid.corr(JobCorps['treatmnt'].dropna()))"
      ]
    },
    {
      "cell_type": "markdown",
      "metadata": {
        "id": "RwfL-8j5jtVG"
      },
      "source": [
        "no correlation at all, what does this mean?"
      ]
    }
  ],
  "metadata": {
    "colab": {
      "provenance": [],
      "include_colab_link": true
    },
    "kernelspec": {
      "display_name": "base",
      "language": "python",
      "name": "python3"
    },
    "language_info": {
      "codemirror_mode": {
        "name": "ipython",
        "version": 3
      },
      "file_extension": ".py",
      "mimetype": "text/x-python",
      "name": "python",
      "nbconvert_exporter": "python",
      "pygments_lexer": "ipython3",
      "version": "3.12.3"
    }
  },
  "nbformat": 4,
  "nbformat_minor": 0
}