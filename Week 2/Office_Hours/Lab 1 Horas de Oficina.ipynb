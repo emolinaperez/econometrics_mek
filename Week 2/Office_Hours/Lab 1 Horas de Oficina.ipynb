{
  "cells": [
    {
      "cell_type": "markdown",
      "metadata": {
        "id": "view-in-github",
        "colab_type": "text"
      },
      "source": [
        "<a href=\"https://colab.research.google.com/github/emolinaperez/econometrics_mek/blob/main/Week%202/Office_Hours/Lab%201%20Horas%20de%20Oficina.ipynb\" target=\"_parent\"><img src=\"https://colab.research.google.com/assets/colab-badge.svg\" alt=\"Open In Colab\"/></a>"
      ]
    },
    {
      "cell_type": "markdown",
      "metadata": {
        "id": "mQsDqCaCjU81"
      },
      "source": [
        "# Lab 1: Econometrics | Office Hours"
      ]
    },
    {
      "cell_type": "code",
      "execution_count": null,
      "metadata": {
        "id": "1_OdIe3qCYXp"
      },
      "outputs": [],
      "source": [
        "# load packages\n",
        "import numpy as np\n",
        "import matplotlib.pyplot as plt\n",
        "import pandas as pd\n",
        "import scipy as sp\n",
        "import scipy.stats\n",
        "import statsmodels.api as sm\n",
        "import statsmodels.formula.api as smf\n",
        "\n",
        "import seaborn as sns\n",
        "from scipy.optimize import minimize"
      ]
    },
    {
      "cell_type": "code",
      "execution_count": null,
      "metadata": {
        "id": "d27bgxKzELuG"
      },
      "outputs": [],
      "source": [
        "# Generate example data\n",
        "np.random.seed(42)\n",
        "n_obs = 100\n",
        "x = np.linspace(0, 10, n_obs)\n",
        "epsilon = np.random.normal(0, 1, n_obs)\n",
        "y = 2 * x + 1 + epsilon"
      ]
    },
    {
      "cell_type": "code",
      "execution_count": null,
      "metadata": {
        "id": "pAJXye4ZjU84"
      },
      "outputs": [],
      "source": [
        "epsilon"
      ]
    },
    {
      "cell_type": "code",
      "execution_count": null,
      "metadata": {
        "id": "DbmwsVixjU85"
      },
      "outputs": [],
      "source": [
        "x"
      ]
    },
    {
      "cell_type": "code",
      "execution_count": null,
      "metadata": {
        "id": "uTRLJ49FjU85"
      },
      "outputs": [],
      "source": [
        "y"
      ]
    },
    {
      "cell_type": "code",
      "execution_count": null,
      "metadata": {
        "id": "3J3xvRAbEZ6m"
      },
      "outputs": [],
      "source": [
        "# Create a DataFrame\n",
        "data = pd.DataFrame({'y': y, 'x': x})"
      ]
    },
    {
      "cell_type": "code",
      "execution_count": null,
      "metadata": {
        "id": "Z-FsOrW5jU85"
      },
      "outputs": [],
      "source": [
        "data.head()"
      ]
    },
    {
      "cell_type": "code",
      "execution_count": null,
      "metadata": {
        "id": "kuf4APa2EdA9"
      },
      "outputs": [],
      "source": [
        "# Fit linear regresion\n",
        "X = sm.add_constant(data['x'])  # Add the constant for the intercept\n",
        "model = sm.OLS(data['y'], X).fit()"
      ]
    },
    {
      "cell_type": "code",
      "execution_count": null,
      "metadata": {
        "id": "ZEOlh1tUEfjl"
      },
      "outputs": [],
      "source": [
        "# Regression results\n",
        "print(model.summary())"
      ]
    },
    {
      "cell_type": "code",
      "execution_count": null,
      "metadata": {
        "id": "rsXlDYg5EhAl"
      },
      "outputs": [],
      "source": [
        "# linear regresion plot\n",
        "plt.scatter(x, y, label='Datos')\n",
        "plt.plot(x, model.predict(X), color='red', label='Regresión lineal')\n",
        "plt.xlabel('Variable Independiente (x)')\n",
        "plt.ylabel('Variable Dependiente (y)')\n",
        "plt.legend()\n",
        "plt.show()"
      ]
    },
    {
      "cell_type": "code",
      "execution_count": null,
      "metadata": {
        "id": "HKkoI1YLFOlO"
      },
      "outputs": [],
      "source": [
        "# Model residuals\n",
        "residuals = model.resid\n",
        "\n",
        "# Residuals plot\n",
        "plt.scatter(data['x'], residuals, label='Residuos')\n",
        "plt.axhline(y=0, color='black', linestyle='--', label='Línea base')\n",
        "plt.xlabel('Variable Independiente (x)')\n",
        "plt.ylabel('Residuos')\n",
        "plt.legend()\n",
        "plt.show()"
      ]
    },
    {
      "cell_type": "code",
      "execution_count": null,
      "metadata": {
        "id": "nh0f-Y0kFXJO"
      },
      "outputs": [],
      "source": [
        "# Correlation matrix\n",
        "correlation_matrix = data.corr()\n",
        "print(\"Correlation matrix:\")\n",
        "print(correlation_matrix)"
      ]
    },
    {
      "cell_type": "markdown",
      "metadata": {
        "id": "T0QL0oCcCk6G"
      },
      "source": [
        "# Simple Linear Regression\n",
        "\n",
        "This is a simple linear regression model as in every econometrics textbooks where\n",
        " is dependent variable,\n",
        " is independent variable and\n",
        " is disturbance term.\n",
        " and\n",
        " are unknown parameters that we are aiming to estimate by feeding the data in the model. Without disturbance term, the model is simple a function of a straight line in\n",
        ", such as\n",
        "\n",
        "In the context of machine learning (ML), the\n",
        " is usually called feature variable and\n",
        " called target variable. And linear regression is the main tool in supervised learning, meaning that\n",
        " is supervising\n",
        "."
      ]
    },
    {
      "cell_type": "markdown",
      "metadata": {
        "id": "Um-u5d5WjU87"
      },
      "source": [
        "# Simple Linear Regression\n",
        "\n",
        "This is a simple linear regression model, as in every econometrics textbook, where:  \n",
        "- \\( y \\) is the dependent variable,  \n",
        "- \\( x \\) is the independent variable, and  \n",
        "- \\( \\epsilon \\) is the disturbance term.\n",
        "\n",
        "\\( \\beta_0 \\) and \\( \\beta_1 \\) are unknown parameters that we aim to estimate by feeding the data into the model. Without the disturbance term, the model is simply a function of a straight line in \\( x \\), such as:\n",
        "\n",
        "\\[\n",
        "y = \\beta_0 + \\beta_1 x + \\epsilon\n",
        "\\]\n",
        "\n",
        "In the context of machine learning (ML):  \n",
        "- \\( x \\) is usually called the **feature variable**, and  \n",
        "- \\( y \\) is called the **target variable**.  \n",
        "\n",
        "Linear regression is a key tool in supervised learning, meaning that \\( y \\) supervises the process.\n"
      ]
    },
    {
      "cell_type": "code",
      "execution_count": null,
      "metadata": {
        "id": "c5AHyppbCq5P"
      },
      "outputs": [],
      "source": [
        "X = np.linspace(1, 10, 10)\n",
        "Y = 2 + 3*X\n",
        "print(X)\n",
        "print(Y)"
      ]
    },
    {
      "cell_type": "code",
      "execution_count": null,
      "metadata": {
        "id": "rCQf0J8GjU87"
      },
      "outputs": [],
      "source": [
        "fig, ax = plt.subplots(figsize = (7, 7))\n",
        "ax.plot(X, Y)\n",
        "ax.scatter(X, Y, c ='r')\n",
        "ax.grid()\n",
        "ax.set_title('$Y=2+3x$')\n",
        "ax.set_xlim(0, 10)\n",
        "ax.set_ylim(0, 40)\n",
        "plt.show()"
      ]
    },
    {
      "cell_type": "markdown",
      "metadata": {
        "id": "-rxLFVXmM6VV"
      },
      "source": [
        "This is a simple linear regression model as in every econometrics textbooks\n",
        "where\n",
        " is dependent variable,\n",
        " is independent variable and\n",
        " is disturbance term.\n",
        " and\n",
        " are unknown parameters that we are aiming to estimate by feeding the data in the model. Without disturbance term, the model is simple a function of a straight line in\n",
        ", such as\n",
        "\n",
        "In the context of machine learning (ML), the\n",
        " is usually called feature variable and\n",
        " called target variable. And linear regression is the main tool in supervised learning, meaning that\n",
        " is supervising\n",
        "."
      ]
    },
    {
      "cell_type": "markdown",
      "metadata": {
        "id": "aS28KuRbC889"
      },
      "source": [
        "There are five reasons justified that we need a disturbance term:\n",
        "\n",
        "1. omission of independent variables\n",
        "2. aggregation of variables\n",
        "3. model misspecification\n",
        "4. function misspecification, eg. should be nonlinear rather than linear\n",
        "5. measurement error\n",
        "\n",
        "The second one means that if we intend to aggregate the variable to a macro level, for instance every family has a consumption function, but aggregation on a national level causes discrepancies which contribute to the disturbance term.\n",
        "\n",
        "The third and forth one will be discussed in details in later chapter.\n",
        "\n",
        "The fifth one includes all types of error, man-made or natural.\n",
        "\n",
        "Odinary Least Squares\n",
        "Odinary Least Squares is the most common estimation technique used in ML or econometrics, it is popular due to its simplicity and transparency. You'll be able to derive the whole estimation process by hand-calculation, all steps will have closed-form expression.\n",
        "\n",
        "We'll demonstrate OLS with our first plot. Every time you run this script, the result will be different than mine, because no random seeds are set."
      ]
    },
    {
      "cell_type": "code",
      "execution_count": null,
      "metadata": {
        "id": "YNwraqxIDCCZ"
      },
      "outputs": [],
      "source": [
        "beta1, beta2 = 2, 3\n",
        "def gen_linreg_data(beta1, beta2, samp_size, disturb_scale):\n",
        "\n",
        "    X = np.linspace(1, 10, samp_size)\n",
        "    u = disturb_scale * np.random.randn(samp_size)\n",
        "    Y = beta1 + beta2*X + u\n",
        "    Y_hat = beta1 + beta2*X\n",
        "    return X, Y, Y_hat\n",
        "\n",
        "def plot_lin_reg(X, Y, Y_hat):\n",
        "    fig, ax = plt.subplots(figsize = (7, 7))\n",
        "\n",
        "    for i in range(len(Y)):\n",
        "        dot_fit_values = [X[i], X[i]]\n",
        "        dot_org_values = [Y[i], Y_hat[i]]\n",
        "        ax.plot(dot_fit_values, dot_org_values, linestyle = '--', color = 'red', label = 'residual')\n",
        "\n",
        "    ax.plot(X, Y_hat)\n",
        "    ax.scatter(X, Y_hat, c = 'k')\n",
        "    ax.scatter(X, Y, c ='r')\n",
        "    ax.grid()\n",
        "    ax.set_title('$\\hat Y ={}+{}X$'.format(beta1, beta2))\n",
        "    plt.show()\n",
        "\n",
        "if __name__ == '__main__':\n",
        "    X, Y, Y_hat = gen_linreg_data(beta1=beta1, beta2=beta2, samp_size=10, disturb_scale=5)\n",
        "    plot_lin_reg(X, Y, Y_hat)"
      ]
    },
    {
      "cell_type": "code",
      "execution_count": null,
      "metadata": {
        "id": "s016bVjALrD7"
      },
      "outputs": [],
      "source": [
        "X, Y, Y_hat = gen_linreg_data(beta1=4, beta2=2, samp_size=15, disturb_scale=3)"
      ]
    },
    {
      "cell_type": "code",
      "execution_count": null,
      "metadata": {
        "id": "qhLWxCnxLk1h"
      },
      "outputs": [],
      "source": [
        "class S_OLS:\n",
        "    '''Create instances with S_OLS(X, Y), where X and Y are data array.'''\n",
        "    def __init__(self, X, Y):\n",
        "        self.X = X\n",
        "        self.Y = Y\n",
        "\n",
        "    def ols(self):\n",
        "        '''Estimate the data with OLS method, and return b1 and b2.'''\n",
        "        cov_mat = np.cov(self.X, self.Y)\n",
        "        self.b2 = cov_mat[0, 1]/cov_mat[0, 0]\n",
        "        self.b1 = np.mean(self.Y) - self.b2*np.mean(self.X)\n",
        "        self.Y_hat = self.b1 + self.b2*self.X\n",
        "        print('b1 estimate: {:.4f}'.format(self.b1))\n",
        "        print('b2 estimate: {:.4f}'.format(self.b2))\n",
        "        return self.Y_hat, self.b2, self.b1\n",
        "\n",
        "    def simul_plot(self, beta1, beta2):\n",
        "        '''Plot scatter plot and fitted line with ols_plot(self, beta1, beta2),\n",
        "        beta1 and beta2 are parameters of data generation process.'''\n",
        "        fig, ax = plt.subplots(figsize = (7, 7))\n",
        "        for i in range(len(Y)):\n",
        "            dot_fit_values = [self.X[i], self.X[i]]\n",
        "            dot_org_values = [self.Y[i], self.Y_hat[i]]\n",
        "            ax.plot(dot_fit_values, dot_org_values, linestyle = '--', color = 'red')\n",
        "        ax.scatter(self.X, self.Y_hat, c = 'k')\n",
        "        ax.scatter(self.X, self.Y, c ='r')\n",
        "        ax.plot(self.X, self.Y_hat, label = '$b_1$= {:.2f}, $b_2$={:.2f}'.format(b1, b2))\n",
        "        ax.grid()\n",
        "        ax.set_title('$\\hat Y ={:.2f}+{:.2f}X$'.format(b1, b2))\n",
        "        Y_hat_perfect = beta1 + beta2*X\n",
        "        ax.plot(X, Y_hat_perfect, label = r'$\\beta_1=2, \\beta_2=3$')\n",
        "        ax.legend()\n",
        "        plt.show()\n",
        "\n",
        "    def ols_plot(self, xlabel, ylabel):\n",
        "        self.xlabel = xlabel\n",
        "        self.ylabel = ylabel\n",
        "        fig, ax = plt.subplots(figsize=(7, 7))\n",
        "\n",
        "        # Plot observed values (red) and fitted values (blue)\n",
        "        ax.scatter(self.X, self.Y, c='r', label='Observed Values (Y)')\n",
        "        ax.scatter(self.X, self.Y_hat, c='b', label='Fitted Values (Ŷ)')\n",
        "\n",
        "        # Plot regression line\n",
        "        ax.plot(self.X, self.Y_hat, label=f'Regression Line ($b_1$ = {self.b1:.2f}, $b_2$ = {self.b2:.2f})', color='black')\n",
        "\n",
        "        # Add grid, title, labels, and legend\n",
        "        ax.grid()\n",
        "        ax.set_title(f'$\\\\hat Y = {self.b1:.2f} + {self.b2:.2f}X$', fontsize=14)\n",
        "        ax.set_xlabel(self.xlabel, fontsize=12)\n",
        "        ax.set_ylabel(self.ylabel, fontsize=12)\n",
        "        ax.legend()  # Add legend to indicate what each color represents\n",
        "\n",
        "    def r_sq(self):\n",
        "        '''Calculate coefficient of determination and correlation of Y and Yhat'''\n",
        "        self.ESS = np.var(self.Y_hat)\n",
        "        self.RSS = np.var(self.Y-self.Y_hat)\n",
        "        self.R_sq = self.ESS/self.RSS\n",
        "        return self.ESS, self.RSS, self.R_sq"
      ]
    },
    {
      "cell_type": "code",
      "execution_count": null,
      "metadata": {
        "id": "jiZToRSbNGJ6"
      },
      "outputs": [],
      "source": [
        "df = pd.read_excel('../data/Basic_Econometrics_practice_data.xlsx',\n",
        "                   sheet_name = 'CN_Cities_house_price')\n",
        "df.head()"
      ]
    },
    {
      "cell_type": "code",
      "execution_count": null,
      "metadata": {
        "id": "7ZDF_ROjNQdb"
      },
      "outputs": [],
      "source": [
        "s_ols_house_income = S_OLS(df['salary'], df['house_price'])\n",
        "Y_hat, b2, b1 = s_ols_house_income.ols()"
      ]
    },
    {
      "cell_type": "code",
      "execution_count": null,
      "metadata": {
        "id": "KsX1ubpHjU88"
      },
      "outputs": [],
      "source": [
        "model1 = smf.ols('house_price ~ salary ', data=df).fit()\n",
        "print(model1.summary())"
      ]
    },
    {
      "cell_type": "code",
      "execution_count": null,
      "metadata": {
        "id": "Sa1FvzPANVXj"
      },
      "outputs": [],
      "source": [
        "s_ols_house_income.ols_plot('Disposable Income', 'House Price')"
      ]
    },
    {
      "cell_type": "code",
      "execution_count": null,
      "metadata": {
        "id": "f4L9a9fYNaem"
      },
      "outputs": [],
      "source": [
        "epsilon = df['house_price'] - Y_hat\n",
        "np.mean(epsilon)"
      ]
    },
    {
      "cell_type": "code",
      "execution_count": null,
      "metadata": {
        "id": "_KZpwbAPNeRn"
      },
      "outputs": [],
      "source": [
        "print('Mean of Y hat: {}'.format(np.mean(Y_hat)))\n",
        "print('Mean of Y: {}'.format(np.mean(df['house_price'])))"
      ]
    }
  ],
  "metadata": {
    "colab": {
      "provenance": [],
      "include_colab_link": true
    },
    "kernelspec": {
      "display_name": "base",
      "language": "python",
      "name": "python3"
    },
    "language_info": {
      "codemirror_mode": {
        "name": "ipython",
        "version": 3
      },
      "file_extension": ".py",
      "mimetype": "text/x-python",
      "name": "python",
      "nbconvert_exporter": "python",
      "pygments_lexer": "ipython3",
      "version": "3.12.3"
    }
  },
  "nbformat": 4,
  "nbformat_minor": 0
}