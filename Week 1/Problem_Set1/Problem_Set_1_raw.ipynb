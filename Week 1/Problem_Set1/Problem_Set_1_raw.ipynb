{
 "cells": [
  {
   "cell_type": "markdown",
   "id": "f85e4e3c",
   "metadata": {},
   "source": [
    "# Problem Set 1"
   ]
  },
  {
   "cell_type": "markdown",
   "id": "173d2b7f",
   "metadata": {},
   "source": [
    "# Instructions  \n",
    "Fell free to work in groups while solving this assignment. However, submissions are only allowed in pairs. The inbox for team submissions will be available in Canvas. Please make your write-ups are readable. In particular for the empirical questions, include the statistical results necessary to answer the questions. Make the response self-contained. \n",
    "##### Total Points: 100 \n",
    "##### Due Date: February 6th, 2025"
   ]
  },
  {
   "cell_type": "markdown",
   "id": "12a3a3e6",
   "metadata": {},
   "source": [
    "# Part 1 (20 points)\n",
    "#### The intentions of these questions is to give you practice deriving simple results about the different models we are discussing in class. Consider the \"constant\" regression model: \n",
    "\n",
    "$$ Y_{i}=\\alpha + \\epsilon_{i}$$"
   ]
  },
  {
   "cell_type": "markdown",
   "id": "6206fd4a",
   "metadata": {},
   "source": [
    "#### Derive the OLS (ordinary least squares) estimators of $\\alpha $ by setting up the minimization problem and solving for $\\hat{\\alpha}$ that minimizes the sum of squared residuals. Interpret this formula"
   ]
  },
  {
   "cell_type": "markdown",
   "id": "a0afb58d",
   "metadata": {},
   "source": [
    "# Part 2 (10 points)"
   ]
  },
  {
   "cell_type": "markdown",
   "id": "53056122",
   "metadata": {},
   "source": [
    "#### True/False:  If the statement is false, provide a one sentence explanation why it is false (25 points)."
   ]
  },
  {
   "cell_type": "markdown",
   "id": "806ac531",
   "metadata": {},
   "source": [
    "##### 1.Under the assumption of no selection on unobservables, least regression is a solution to the \"curse of dimensionality\" that is valid under additional assumptions between the observables and the dependent variable"
   ]
  },
  {
   "cell_type": "markdown",
   "id": "868e1630",
   "metadata": {},
   "source": [
    "##### 2.\tThe \"treatment effect\" of T, a 0-1 condition that is randomly assigned to a sample of individuals, is define as the difference in the average outcome of the individuals with T=1 and individuals with T= 0"
   ]
  },
  {
   "cell_type": "markdown",
   "id": "79506319",
   "metadata": {},
   "source": [
    "##### 3.\tThe \"intent to treat\" effect is in general not the same as the \"average treatment effect\" because of non-compliance with treatment (where noncompliance occurs when individuals who are randomized do not receive the treatment, do get it)"
   ]
  },
  {
   "cell_type": "markdown",
   "id": "ff98c4a2",
   "metadata": {},
   "source": [
    "##### 4. The Central Limit Theorem says that with a same where the observations are independent of each other and have the same expected value $\\bar{Y}_{N}$  the sample mean for a sample size N, will have an exact normal distribution."
   ]
  },
  {
   "cell_type": "markdown",
   "id": "cd458ada",
   "metadata": {},
   "source": [
    "##### 5. Evidence from a well-implemented randomized experiment (successful randomization, no attrition, perfect compliance) cannot identify the fraction of participants who experience a gain from a program (i.e. policy intervention)"
   ]
  },
  {
   "cell_type": "markdown",
   "id": "f1e169df",
   "metadata": {},
   "source": [
    "# Part 3 (10 points)\n",
    "\n",
    "### Reasoning questions\n",
    "\n",
    "You are interested in understanding the male-female wage gap. You have a dataset of a large sample of workers which contains information on three (and only three) worker characteristics: wages measured in dollars, gender, and education. You first regress on 2 variables: a) a constant, and b) an indicator variable for being a woman, and find that the coefficient on the women's indicator variable is -2.0. You also notice that men and women have similar levels of education, and that better educated workers earn much higher wages that poorly educated workers. (25 points)\n"
   ]
  },
  {
   "cell_type": "markdown",
   "id": "bfe1be2c",
   "metadata": {},
   "source": [
    "##### a.\tProvide a one sentence interpretation of the coefficient of the female indicator variable"
   ]
  },
  {
   "cell_type": "markdown",
   "id": "be0ab092",
   "metadata": {},
   "source": [
    "##### b.\tIs there \"selection on observables\"? Why or why not?"
   ]
  },
  {
   "cell_type": "markdown",
   "id": "b28ac363",
   "metadata": {},
   "source": [
    "##### c.\tSuppose you added education as a control variable in the regression. What effect(s) might this have on the standard error of the estimated coefficient on the female indicator variable?"
   ]
  },
  {
   "cell_type": "markdown",
   "id": "f49f35eb",
   "metadata": {},
   "source": [
    "# Part 4 (30 points)\n",
    "\n",
    "For this section questions use the dataset smoking2.dta (available on Canvas). This is a dataset comprised of birth certificate records. It contains information on infant health, demographic characteristics of the parents, pre-natal care use, and health risks factors."
   ]
  },
  {
   "cell_type": "markdown",
   "id": "30f9c46b",
   "metadata": {},
   "source": [
    "### 1. Suppose your goal was to determine the impact of smoking during pregnancy on a measure of infant health, birthweight. \n",
    "\n",
    "#### a. Compare the average birthweight (i.e. dbirwt) of children born to smokers and non-smokers (i.e. tobacco). Is the mean difference \"significant\" in a statistical sense?\n",
    "\n",
    "\n",
    "#### b.\tTest for \"selection on observables\". Remember to check whether both conditions of selection on observables are met. What does this suggest about the results from (a) being a valid causal estimate of the effect of smoking on birthweight?\n",
    "\n",
    "#### c. Based on your tests in (b), briefly describe the socioeconomic status of smokers compared to non-smokers (i.e. these include variables: tobacco,dmage,dmeduc,dmar, dlivord,nprevist,disllb,dfage,dfeduc,anemia,diabete,phyper , pre4000,preterm,alcohol, drink,foreignb,plural,deadkids,mblack,motherr, mhispan,fblack,fotherr,fhispan).\n",
    "\n",
    "#### d. Given the available information in the dataset, do you think \"selection on unobservables\" may pose a problem (HINT: use the residuals() function )?"
   ]
  },
  {
   "cell_type": "markdown",
   "id": "b346d038",
   "metadata": {},
   "source": [
    "### 2. Now see if the estimated \"effect\" of smoking is affected by controlling for observable characteristics in an OLS regression. This procedure is known as \"regression adjusting\" the difference in means. (25 points)\n",
    "\n",
    "#### a. First, control for a limited set of demographic characteristics such as race and age. What happens to the coefficient on the smoking indicator variable?\n",
    "\n",
    "#### b. Now include other controls for other characteristics such as education, prenatal care utilization, and other behavioral risk factors like alcohol consumption. What happens to the \"effect\" of smoking? What does the p-values indicate with respect to the hypothesis that the coefficients on all of the covariates you just added are zero.\n",
    "\n",
    "#### c.\tFinally, include controls for other medical risk factors such as the mother's hypertension. What happens to the effect of smoking?\n",
    "\n",
    "#### d.BRIEFLY explain why adding these controls may be inappropriate.\n"
   ]
  },
  {
   "cell_type": "markdown",
   "id": "050b3e63",
   "metadata": {},
   "source": [
    "# Part 5 (30 points)\n",
    "\n",
    "These questions ask you to analyze a data set with information that was collected as part of the randomized evaluation of the US Federal Job Corps Program. Before getting started, read the description of the program in Schochet, Peter, John Burghardt and Sheena McConnell. 2008. \"Does Job Corps Work? Impact Findings from the National Job Corps Study.\" American Economic Review, 98(5).  The data set is called jobcorps.dta and is located in Canvas "
   ]
  },
  {
   "cell_type": "markdown",
   "id": "07623e59",
   "metadata": {},
   "source": [
    "#### a. Assess the success of randomization. Using the t.test command, test whether the difference in the fraction male was different in the experimental (treatmnt==1) and control group (treatmnt==0). What does this suggest? \n",
    "\n",
    "#### b. Conduct similar tests of the randomization using other variables [Hint: be careful about the observable characteristics that you analyze]\n",
    "\n",
    "#### c. Another way to test the randomization is by seeing how closely the observable characteristics can predict whether someone is in the experimental group or the control group. One way to implement this test is by running the following regression: \n",
    "\n",
    "#### d.What is your overall impression from these results? Was the randomization successful? [limit your discussion to about 3 sentences] \n",
    "\n",
    "#### e. A serious problem that often arises during randomized evaluation is sample attrition. Compare the characteristics of individuals who drop out of the sample and those that complete the 48 month follow-up (attrit=0). Does it appear as though there is systematic attrition, or does it appear as though attrition is not systematically related to observables? \n",
    "\n",
    "#### f. Briefly (1-2 sentences) explain why attrition complicates estimation of experimental impacts, even with successful randomization. \n",
    "\n",
    "#### g. Propose a strategy for testing whether attrition is likely to pose a problem for this randomized evaluation.\n",
    "\n",
    "#### h. Implement your proposed test using the job corps data. Does it appear that attrition is a problem? \n",
    "\n",
    "#### i. For the rest of the questions, only use individuals who complete the 48 month follow-up. Use the subset() function to retain only the data points for which attrit==1. Estimate the experimental impact on earnings in the first quarter after random assignment and test whether the estimated impacts are statistically distinguishable from zero. \n",
    "\n",
    "#### j. Given the structure of the Job Corps program, provide an explanation for this result. \n",
    "\n",
    "#### k. Now estimate the experimental impact on earnings in quarters 2-16 after random assignment. What does these result suggest about the time-profile of the effect of being in the Job Corps program? [It may be useful to plot the estimated effect as a function of time]\n",
    "\n",
    "#### l. Another serious problem in randomized evaluations is that key variables are, for some reason, missing. Using a similar strategy to that proposed in g, test whether missing data is likely to be a serious problem in the Jops Cops evaluation. "
   ]
  }
 ],
 "metadata": {
  "kernelspec": {
   "display_name": "Python 3",
   "language": "python",
   "name": "python3"
  },
  "language_info": {
   "codemirror_mode": {
    "name": "ipython",
    "version": 3
   },
   "file_extension": ".py",
   "mimetype": "text/x-python",
   "name": "python",
   "nbconvert_exporter": "python",
   "pygments_lexer": "ipython3",
   "version": "3.8.10"
  }
 },
 "nbformat": 4,
 "nbformat_minor": 5
}
