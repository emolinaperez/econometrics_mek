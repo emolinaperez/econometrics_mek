{
  "cells": [
    {
      "cell_type": "markdown",
      "metadata": {
        "id": "view-in-github",
        "colab_type": "text"
      },
      "source": [
        "<a href=\"https://colab.research.google.com/github/emolinaperez/econometrics_mek/blob/main/Week%201/Week1_Lab.ipynb\" target=\"_parent\"><img src=\"https://colab.research.google.com/assets/colab-badge.svg\" alt=\"Open In Colab\"/></a>"
      ]
    },
    {
      "cell_type": "markdown",
      "source": [
        "# Sección nueva"
      ],
      "metadata": {
        "id": "-bj6OqTevpBx"
      }
    },
    {
      "cell_type": "markdown",
      "metadata": {
        "id": "inH5-jy8pt7y"
      },
      "source": [
        "This is tutorial one\n",
        "set your working directory"
      ]
    },
    {
      "cell_type": "code",
      "execution_count": null,
      "metadata": {
        "vscode": {
          "languageId": "r"
        },
        "id": "PAPTUjDJpt70"
      },
      "outputs": [],
      "source": [
        "#dir.wd<- \"/Users/edmun/Library/CloudStorage/OneDrive-Personal/Edmundo-ITESM/2.Cursos Impartidos/Econometrics MEK/MEK/Lectures/Lecture 1/\"\n",
        "#setwd(dir.wd)"
      ]
    },
    {
      "cell_type": "markdown",
      "metadata": {
        "id": "Rq4izorFpt70"
      },
      "source": [
        "do you want to check if this was done correctly? No problem! use the following function:"
      ]
    },
    {
      "cell_type": "code",
      "execution_count": null,
      "metadata": {
        "vscode": {
          "languageId": "r"
        },
        "id": "XFQDZM8Bpt70"
      },
      "outputs": [],
      "source": [
        "getwd()"
      ]
    },
    {
      "cell_type": "markdown",
      "metadata": {
        "id": "I4NS5BYHpt71"
      },
      "source": [
        "\n",
        "did the directory you set using the function setwd() matches? if yes, well done! if not, try it again\n",
        "Now let's read some data in stata format,\n",
        "For this, you will install your first library to R,\n",
        " Go to \"packages in the top menu\"\n",
        " Select a CRAN mirror, these are servers in which all R stuff is provided\n",
        " Select package \"foreign\"\n",
        " Pay attention to the message displayed at the bottom, if it reads something like:\n",
        "The downloaded binary packages are in\n",
        "        C:\\Users\\emolina\\AppData\\Local\\Temp\\RtmpMr6plU\\downloaded_packages\n",
        "Then your package is not where you want it to be,\n",
        "We need to save your package in the location in which your R library is, type the following function to know where your library lives:"
      ]
    },
    {
      "cell_type": "code",
      "execution_count": null,
      "metadata": {
        "vscode": {
          "languageId": "r"
        },
        "id": "mU1zV1krpt71"
      },
      "outputs": [],
      "source": [
        ".libPaths()"
      ]
    },
    {
      "cell_type": "markdown",
      "source": [
        "\n",
        "when I execute this in my computer I get: \"C:/Users/emolina/Documents/R/win-library/3.1\", you should get something similar,\n",
        "ok, then let's solve the issue with the library, go to the directory \"C:\\Users\\emolina\\AppData\\Local\\Temp\\RtmpMr6plU\\downloaded_packages\"\n",
        "unzip the foreging package, and move the folder \"foreign\" into your R library in this location: \"C:/Users/emolina/Documents/R/win-library/3.1\"\n",
        "done now you have the foreign library in R, let's check if this is the case, run the followi"
      ],
      "metadata": {
        "id": "3h-Eqgt-qegi"
      }
    },
    {
      "cell_type": "code",
      "execution_count": null,
      "metadata": {
        "vscode": {
          "languageId": "r"
        },
        "id": "Wm0YUjuapt71"
      },
      "outputs": [],
      "source": [
        "#install.packages(\"foreign\")\n",
        "library(foreign)"
      ]
    },
    {
      "cell_type": "markdown",
      "metadata": {
        "id": "emb9GEz1pt71"
      },
      "source": [
        "if you get no message, everything worked fine, you may get some warning message about the version you are using in R, but that's no problem for now,\n",
        "loading libraries is important, as it allows you to use new functions created by other users,\n",
        "this particular library has the function we need to read .dta files, let's do this in the example file \"example.dta\":\n",
        "go to canvas and you'll find the dataset needed there\n",
        "now, let's loading into R and save is as an object named \"data\""
      ]
    },
    {
      "cell_type": "code",
      "source": [
        "data.t1 <- read.csv('https://raw.githubusercontent.com/emolinaperez/econometrics_mek/main/Week%201/example.csv')\n"
      ],
      "metadata": {
        "id": "Uzys8TOuqu7n"
      },
      "execution_count": null,
      "outputs": []
    },
    {
      "cell_type": "markdown",
      "metadata": {
        "id": "zi7x_uONpt72"
      },
      "source": [
        "\n",
        "wait a minute!!, what if my data is in *.csv format??? can R read this stuff, yes it can, check it out:\n",
        "data.t1<-read.csv(\"example.csv\")\n",
        "ok, let's move on,\n",
        "let's check which type of object data is, we can use the function class:"
      ]
    },
    {
      "cell_type": "code",
      "execution_count": null,
      "metadata": {
        "vscode": {
          "languageId": "r"
        },
        "id": "WpWbq600pt72"
      },
      "outputs": [],
      "source": [
        "class(data.t1)"
      ]
    },
    {
      "cell_type": "markdown",
      "metadata": {
        "id": "vND9uTEypt72"
      },
      "source": [
        "#let's see the first rows in this data.frame"
      ]
    },
    {
      "cell_type": "code",
      "execution_count": null,
      "metadata": {
        "vscode": {
          "languageId": "r"
        },
        "id": "5hP9ycPRpt72"
      },
      "outputs": [],
      "source": [
        "head(data.t1)"
      ]
    },
    {
      "cell_type": "markdown",
      "metadata": {
        "id": "RiIlUDLYpt72"
      },
      "source": [
        "how many rows and columns my data has?"
      ]
    },
    {
      "cell_type": "code",
      "execution_count": null,
      "metadata": {
        "vscode": {
          "languageId": "r"
        },
        "id": "gsgt5NOlpt72"
      },
      "outputs": [],
      "source": [
        "dim(data.t1)"
      ]
    },
    {
      "cell_type": "markdown",
      "metadata": {
        "id": "Mwqn0mPBpt72"
      },
      "source": [
        "let's get summary statistics for all variables"
      ]
    },
    {
      "cell_type": "code",
      "execution_count": null,
      "metadata": {
        "vscode": {
          "languageId": "r"
        },
        "id": "FxfUoYIept72"
      },
      "outputs": [],
      "source": [
        "summary(data.t1)"
      ]
    },
    {
      "cell_type": "markdown",
      "metadata": {
        "id": "yof_ITnEpt72"
      },
      "source": [
        "lets see a histogram of these variables"
      ]
    },
    {
      "cell_type": "code",
      "source": [
        "hist(data.t1$offense)"
      ],
      "metadata": {
        "id": "Gzv6rO7Zrr8y"
      },
      "execution_count": null,
      "outputs": []
    },
    {
      "cell_type": "code",
      "source": [
        "hist(data.t1$policy)"
      ],
      "metadata": {
        "id": "tWp56MdqrtYv"
      },
      "execution_count": null,
      "outputs": []
    },
    {
      "cell_type": "code",
      "execution_count": null,
      "metadata": {
        "vscode": {
          "languageId": "r"
        },
        "id": "f8Rht-W8pt72"
      },
      "outputs": [],
      "source": [
        "hist(data.t1$caruse)"
      ]
    },
    {
      "cell_type": "markdown",
      "metadata": {
        "id": "YPkbyq6zpt72"
      },
      "source": [
        "what about scatter plots"
      ]
    },
    {
      "cell_type": "code",
      "source": [
        "pairs(~educ+age+caruse+fast+unsafe,data=data.t1, main=\"my test\")"
      ],
      "metadata": {
        "id": "p-SWeE-1r6HD"
      },
      "execution_count": null,
      "outputs": []
    },
    {
      "cell_type": "code",
      "execution_count": null,
      "metadata": {
        "vscode": {
          "languageId": "r"
        },
        "id": "w8DBJ5jfpt72"
      },
      "outputs": [],
      "source": [
        "pairs(~educ+age+caruse+fast+unsafe+limit+offense+policy+contrib+limwar+accept,data=data.t1, main=\"Check out this scatter plot\")"
      ]
    },
    {
      "cell_type": "markdown",
      "metadata": {
        "id": "1i_vgjhIpt72"
      },
      "source": [
        "ok, enough with the graphics let's get back to business,\n",
        "let's run a regression:"
      ]
    },
    {
      "cell_type": "code",
      "execution_count": null,
      "metadata": {
        "vscode": {
          "languageId": "r"
        },
        "id": "8RtVPPonpt72"
      },
      "outputs": [],
      "source": [
        "lm(accept~gender+educ+age+caruse+fast+unsafe+limit+offense,data = data.t1)"
      ]
    },
    {
      "cell_type": "markdown",
      "metadata": {
        "id": "1A8GUoUJpt72"
      },
      "source": [
        "cool, do you want to know how long it took to run this regression? let's check it out"
      ]
    },
    {
      "cell_type": "code",
      "execution_count": null,
      "metadata": {
        "vscode": {
          "languageId": "r"
        },
        "id": "ohab4T2lpt72"
      },
      "outputs": [],
      "source": [
        "system.time(lm(accept~gender+educ+age+caruse+fast+unsafe+limit+offense,data = data.t1))"
      ]
    },
    {
      "cell_type": "markdown",
      "metadata": {
        "id": "_a2Fmhxgpt73"
      },
      "source": [
        "\n",
        "well it says this was almost zero!, system.time is a useful function to compare options when programming and design efficient code\n",
        " of coruse running lm by itself gives you litle information, let's get more information of this regression,\n",
        " first let's save the regression as an object,"
      ]
    },
    {
      "cell_type": "code",
      "execution_count": null,
      "metadata": {
        "vscode": {
          "languageId": "r"
        },
        "id": "jDJrsVQ0pt73"
      },
      "outputs": [],
      "source": [
        "my.first.Rregression<-lm(accept~gender+educ+age+caruse+fast+unsafe+limit+offense,data = data.t1)"
      ]
    },
    {
      "cell_type": "markdown",
      "metadata": {
        "id": "0vtPNtPspt73"
      },
      "source": [
        "let's check which type of object this is:"
      ]
    },
    {
      "cell_type": "code",
      "execution_count": null,
      "metadata": {
        "vscode": {
          "languageId": "r"
        },
        "id": "Vld41k_7pt73"
      },
      "outputs": [],
      "source": [
        "class(my.first.Rregression)"
      ]
    },
    {
      "cell_type": "markdown",
      "metadata": {
        "id": "gmRyLAFspt73"
      },
      "source": [
        "ok, give me more information:"
      ]
    },
    {
      "cell_type": "code",
      "execution_count": null,
      "metadata": {
        "vscode": {
          "languageId": "r"
        },
        "id": "WtpHjuzPpt73"
      },
      "outputs": [],
      "source": [
        "summary(my.first.Rregression)"
      ]
    },
    {
      "cell_type": "markdown",
      "source": [
        "ok, now let's access these data directly,\n",
        "first let's check which data is inside \"my.first.Rregression\""
      ],
      "metadata": {
        "id": "etjJh_hSsLX-"
      }
    },
    {
      "cell_type": "code",
      "source": [
        "names(my.first.Rregression)"
      ],
      "metadata": {
        "id": "BONIctYhsTiG"
      },
      "execution_count": null,
      "outputs": []
    },
    {
      "cell_type": "markdown",
      "source": [
        "Nice, so let's save each independent piece in an object:"
      ],
      "metadata": {
        "id": "dLuxwYHAsVA4"
      }
    },
    {
      "cell_type": "code",
      "source": [
        "my.Coef<-my.first.Rregression$coefficients\n",
        "my.Coef"
      ],
      "metadata": {
        "id": "zJdOvGTnscE8"
      },
      "execution_count": null,
      "outputs": []
    },
    {
      "cell_type": "code",
      "source": [
        "class(my.Coef)"
      ],
      "metadata": {
        "id": "HUR5D8hKsgsA"
      },
      "execution_count": null,
      "outputs": []
    },
    {
      "cell_type": "code",
      "source": [
        "my.Coef[\"gender\"]"
      ],
      "metadata": {
        "id": "fuul3oTnsiyY"
      },
      "execution_count": null,
      "outputs": []
    },
    {
      "cell_type": "markdown",
      "source": [
        "Ok, let's get all the other stuff we typically need:"
      ],
      "metadata": {
        "id": "b5BDRil9slrk"
      }
    },
    {
      "cell_type": "code",
      "source": [
        "  my.SSR <- deviance(my.first.Rregression) #residual sum of squares\n",
        "  my.SSR"
      ],
      "metadata": {
        "id": "lHqbc_NbsroB"
      },
      "execution_count": null,
      "outputs": []
    },
    {
      "cell_type": "code",
      "source": [
        "  my.LL <- logLik(my.first.Rregression) # log likelihood statistic\n",
        "  my.LL"
      ],
      "metadata": {
        "id": "pWdyui9BstlQ"
      },
      "execution_count": null,
      "outputs": []
    },
    {
      "cell_type": "code",
      "source": [
        "  my.DegreesOfFreedom <- my.first.Rregression$df # degrees of fredom\n",
        "  my.DegreesOfFreedom"
      ],
      "metadata": {
        "id": "-p_CTR3LsxoH"
      },
      "execution_count": null,
      "outputs": []
    },
    {
      "cell_type": "code",
      "source": [
        "  my.Yhat <- my.first.Rregression$fitted.values # vector of fitted values\n",
        "  my.Yhat"
      ],
      "metadata": {
        "id": "n1sSfjyUs0Hg"
      },
      "execution_count": null,
      "outputs": []
    },
    {
      "cell_type": "code",
      "source": [
        "  my.Coef <- my.first.Rregression$coefficients # coefficients\n",
        "  my.Coef"
      ],
      "metadata": {
        "id": "kCOcvrN-s4Iw"
      },
      "execution_count": null,
      "outputs": []
    },
    {
      "cell_type": "code",
      "source": [
        "my.Resid <- my.first.Rregression$residuals # vector of residuals\n",
        "my.Resid"
      ],
      "metadata": {
        "id": "JP_E1x8Us7x2"
      },
      "execution_count": null,
      "outputs": []
    },
    {
      "cell_type": "code",
      "source": [
        "my.s <- summary(my.first.Rregression)$sigma\n",
        "my.s"
      ],
      "metadata": {
        "id": "uH0hdraCtAUO"
      },
      "execution_count": null,
      "outputs": []
    },
    {
      "cell_type": "code",
      "source": [
        "my.RSquared <- summary(my.first.Rregression)$r.squared\n",
        "my.RSquared"
      ],
      "metadata": {
        "id": "Q0U_G05XtE0N"
      },
      "execution_count": null,
      "outputs": []
    },
    {
      "cell_type": "code",
      "source": [
        "my.CovMatrix <- my.s^2*summary(my.first.Rregression)$cov # variance-covariance matrix of\n",
        "my.CovMatrix"
      ],
      "metadata": {
        "id": "yO9qdvUrtJML"
      },
      "execution_count": null,
      "outputs": []
    },
    {
      "cell_type": "code",
      "source": [
        "my.aic <- AIC(my.first.Rregression) # Akaike information criterion\n",
        "my.aic"
      ],
      "metadata": {
        "id": "pBXd9dVBtNEm"
      },
      "execution_count": null,
      "outputs": []
    },
    {
      "cell_type": "markdown",
      "source": [
        "probably you want to do this more automatically, let's write a function\n",
        "the function below does all the process above\n",
        "can you understand the syntax ?"
      ],
      "metadata": {
        "id": "i3jzTppztSkt"
      }
    },
    {
      "cell_type": "code",
      "source": [
        "my.first.function<-function(dependent.variable,independent.variables)\n",
        "{\n",
        " paste(independent.variables,collapse = \"+\")\n",
        " model <- paste(dependent.variable,\"~\",paste(independent.variables,collapse = \"+\"),collapse=\"\")\n",
        " linear.model<-lm(as.formula(model), data=data.t1)\n",
        "  my.SSR <- deviance(linear.model) #residual sum of squares\n",
        "  my.LL <- logLik(linear.model) # log likelihood statistic\n",
        "  my.DegreesOfFreedom <- linear.model$df # degrees of fredom\n",
        "  my.Yhat <- linear.model$fitted.values # vector of fitted values\n",
        "  my.Coef <- linear.model$coefficients # coefficients\n",
        "  my.Resid <- linear.model$residuals # vector of residuals\n",
        "  my.s <- summary(linear.model)$sigma\n",
        "  my.RSquared <- summary(linear.model)$r.squared\n",
        "  my.CovMatrix <- my.s^2*summary(linear.model)$cov # variance-covariance matrix of\n",
        "  my.aic <- AIC(linear.model) # Akaike information criterion\n",
        "  results<-data.frame(SSR=my.SSR,LL=my.LL,DF=my.DegreesOfFreedom,RSquared=my.RSquared,AIC=my.aic)\n",
        "  return(results)\n",
        "}"
      ],
      "metadata": {
        "id": "njqsuMQgtZ0e"
      },
      "execution_count": null,
      "outputs": []
    },
    {
      "cell_type": "markdown",
      "source": [
        "since we have defined this function, now we can use it:\n",
        " the function has two arguments:\n",
        " the first argument indicates the dependent variable\n",
        " the second arugment indicates the independent variables\n",
        "let's try this example:"
      ],
      "metadata": {
        "id": "69RCwIvXtiE5"
      }
    },
    {
      "cell_type": "code",
      "source": [
        " my.first.function(\"accept\",c(\"gender\",\"educ\",\"age\",\"caruse\",\"fast\",\"unsafe\",\"limit\",\"offense\"))"
      ],
      "metadata": {
        "id": "f9MahO-ItdIf"
      },
      "execution_count": null,
      "outputs": []
    },
    {
      "cell_type": "markdown",
      "source": [
        "\n",
        "let's try this other example"
      ],
      "metadata": {
        "id": "JchUhfFStl-W"
      }
    },
    {
      "cell_type": "code",
      "source": [
        "my.first.function(\"accept\",c(\"gender\",\"educ\",\"age\",\"caruse\"))"
      ],
      "metadata": {
        "id": "G-05PQfVtrah"
      },
      "execution_count": null,
      "outputs": []
    },
    {
      "cell_type": "markdown",
      "source": [
        "interesting, can we do this over all possible specifications for the data set we have?\n",
        "let's generate a table with all possible combinations"
      ],
      "metadata": {
        "id": "-l4dSZ97tupC"
      }
    },
    {
      "cell_type": "code",
      "source": [
        "vars<-list(var1=c(colnames(data.t1)[1],\"\"),\n",
        "           var2=c(colnames(data.t1)[2],\"\"),\n",
        "\t         var3=c(colnames(data.t1)[3],\"\"),\n",
        "\t         var4=c(colnames(data.t1)[4],\"\"),\n",
        "\t         var5=c(colnames(data.t1)[5],\"\"),\n",
        "\t         var6=c(colnames(data.t1)[6],\"\"),\n",
        "\t         var7=c(colnames(data.t1)[7],\"\"),\n",
        "\t         var8=c(colnames(data.t1)[8],\"\"),\n",
        "\t         var9=c(colnames(data.t1)[9],\"\"),\n",
        "\t         var10=c(colnames(data.t1)[10],\"\"),\n",
        "\t         var11=c(colnames(data.t1)[11],\"\"),\n",
        "\t         var13=c(colnames(data.t1)[13],\"\"))\n",
        "all.vars<-expand.grid(vars)"
      ],
      "metadata": {
        "id": "vnGqgCdXtyZZ"
      },
      "execution_count": null,
      "outputs": []
    },
    {
      "cell_type": "markdown",
      "source": [
        "now let's estimate OLS for all possible combinations\n",
        "\n",
        "first let's try one case:"
      ],
      "metadata": {
        "id": "zYSNIs4pt3mB"
      }
    },
    {
      "cell_type": "code",
      "source": [
        "my.first.function(\"accept\",c(\n",
        "                             as.character(all.vars[1,'var1']),\n",
        "                             as.character(all.vars[1,'var2']),\n",
        "                             as.character(all.vars[1,'var3']),\n",
        "                             as.character(all.vars[1,'var4']),\n",
        "                             as.character(all.vars[1,'var5']),\n",
        "                             as.character(all.vars[1,'var6']),\n",
        "                             as.character(all.vars[1,'var7']),\n",
        "                             as.character(all.vars[1,'var8']),\n",
        "                             as.character(all.vars[1,'var9']),\n",
        "                             as.character(all.vars[1,'var10'])\n",
        "                             )\n",
        "                  )"
      ],
      "metadata": {
        "id": "t85EKsypt-e0"
      },
      "execution_count": null,
      "outputs": []
    },
    {
      "cell_type": "markdown",
      "source": [
        "now let's use the apply function to this over the entire possible combinations"
      ],
      "metadata": {
        "id": "Kvof6oliuTuN"
      }
    },
    {
      "cell_type": "code",
      "source": [
        "regress<-apply(all.vars[1:20,],1,function(x){\n",
        "\n",
        "                            my.first.function(\"accept\",c(\n",
        "                                                         as.character(x['var1']),\n",
        "                                                         as.character(x['var2']),\n",
        "                                                         as.character(x['var3']),\n",
        "                                                         as.character(x['var4']),\n",
        "                                                         as.character(x['var5']),\n",
        "                                                         as.character(x['var6']),\n",
        "                                                         as.character(x['var7']),\n",
        "                                                         as.character(x['var8']),\n",
        "                                                         as.character(x['var9']),\n",
        "                                                         as.character(x['var10'])\n",
        "                                                        )\n",
        "                                              )\n",
        "                               }\n",
        "                 )\n"
      ],
      "metadata": {
        "id": "B6I8Le0fuWj9"
      },
      "execution_count": null,
      "outputs": []
    },
    {
      "cell_type": "markdown",
      "source": [
        "regress is a list, you can check it out"
      ],
      "metadata": {
        "id": "OPaoqunwudVU"
      }
    },
    {
      "cell_type": "code",
      "source": [
        "class(regress)"
      ],
      "metadata": {
        "id": "4vsUqM2pucFD"
      },
      "execution_count": null,
      "outputs": []
    },
    {
      "cell_type": "markdown",
      "source": [
        "you can put everything on a table with do.call"
      ],
      "metadata": {
        "id": "IN_bUvnKuibu"
      }
    },
    {
      "cell_type": "code",
      "source": [
        "regress<-do.call('rbind',regress)"
      ],
      "metadata": {
        "id": "Jp6tEJGaumTG"
      },
      "execution_count": null,
      "outputs": []
    },
    {
      "cell_type": "markdown",
      "source": [],
      "metadata": {
        "id": "fRs-fMFQvMy7"
      }
    },
    {
      "cell_type": "code",
      "source": [
        "subset(regress,RSquared==max(regress$RSquared))"
      ],
      "metadata": {
        "id": "bOMdypuCvNUQ"
      },
      "execution_count": null,
      "outputs": []
    },
    {
      "cell_type": "markdown",
      "source": [
        "find the model with the highes R squared"
      ],
      "metadata": {
        "id": "d6R_BK-6vRL7"
      }
    }
  ],
  "metadata": {
    "colab": {
      "provenance": [],
      "include_colab_link": true
    },
    "kernelspec": {
      "display_name": "R",
      "name": "ir"
    },
    "language_info": {
      "name": "R"
    }
  },
  "nbformat": 4,
  "nbformat_minor": 0
}