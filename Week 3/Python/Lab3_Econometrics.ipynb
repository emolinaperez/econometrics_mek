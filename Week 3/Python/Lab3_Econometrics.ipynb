{
    "cells": [
        {
            "cell_type": "markdown",
            "metadata": {},
            "source": [
                "# Econometrics Analysis in Python"
            ]
        },
        {
            "cell_type": "markdown",
            "metadata": {},
            "source": [
                "## Load Required Libraries"
            ]
        },
        {
            "cell_type": "code",
            "execution_count": 1,
            "metadata": {},
            "outputs": [],
            "source": [
                "import os\n",
                "import pandas as pd\n",
                "import numpy as np\n",
                "import statsmodels.api as sm\n",
                "import statsmodels.formula.api as smf\n",
                "import matplotlib.pyplot as plt\n",
                "from scipy.stats import t\n",
                "from statsmodels.graphics.gofplots import qqplot\n",
                "from statsmodels.stats.outliers_influence import variance_inflation_factor\n",
                "from scipy.stats import spearmanr"
            ]
        },
        {
            "cell_type": "markdown",
            "metadata": {},
            "source": [
                "## Set Working Directory"
            ]
        },
        {
            "cell_type": "code",
            "execution_count": null,
            "metadata": {},
            "outputs": [],
            "source": [
                "#dir_wd = r\"C:/Users/edmun/OneDrive/Edmundo-ITESM/2.Cursos Impartidos/Econometrics MEK/MEK/Lectures/Lecture 3\"\n",
                "#os.chdir(dir_wd)"
            ]
        },
        {
            "cell_type": "markdown",
            "metadata": {},
            "source": [
                "## Load Data"
            ]
        },
        {
            "cell_type": "code",
            "execution_count": 5,
            "metadata": {},
            "outputs": [
                {
                    "data": {
                        "text/html": [
                            "<div>\n",
                            "<style scoped>\n",
                            "    .dataframe tbody tr th:only-of-type {\n",
                            "        vertical-align: middle;\n",
                            "    }\n",
                            "\n",
                            "    .dataframe tbody tr th {\n",
                            "        vertical-align: top;\n",
                            "    }\n",
                            "\n",
                            "    .dataframe thead th {\n",
                            "        text-align: right;\n",
                            "    }\n",
                            "</style>\n",
                            "<table border=\"1\" class=\"dataframe\">\n",
                            "  <thead>\n",
                            "    <tr style=\"text-align: right;\">\n",
                            "      <th></th>\n",
                            "      <th>dmage</th>\n",
                            "      <th>dmeduc</th>\n",
                            "      <th>dmar</th>\n",
                            "      <th>dlivord</th>\n",
                            "      <th>nprevist</th>\n",
                            "      <th>disllb</th>\n",
                            "      <th>dfage</th>\n",
                            "      <th>dfeduc</th>\n",
                            "      <th>dbirwt</th>\n",
                            "      <th>anemia</th>\n",
                            "      <th>...</th>\n",
                            "      <th>mhispan</th>\n",
                            "      <th>fblack</th>\n",
                            "      <th>fotherr</th>\n",
                            "      <th>fhispan</th>\n",
                            "      <th>tripre1</th>\n",
                            "      <th>tripre2</th>\n",
                            "      <th>tripre3</th>\n",
                            "      <th>tripre0</th>\n",
                            "      <th>first</th>\n",
                            "      <th>death</th>\n",
                            "    </tr>\n",
                            "  </thead>\n",
                            "  <tbody>\n",
                            "    <tr>\n",
                            "      <th>0</th>\n",
                            "      <td>24</td>\n",
                            "      <td>16</td>\n",
                            "      <td>0</td>\n",
                            "      <td>1</td>\n",
                            "      <td>12</td>\n",
                            "      <td>0</td>\n",
                            "      <td>25</td>\n",
                            "      <td>16</td>\n",
                            "      <td>3771</td>\n",
                            "      <td>0</td>\n",
                            "      <td>...</td>\n",
                            "      <td>0</td>\n",
                            "      <td>0</td>\n",
                            "      <td>0</td>\n",
                            "      <td>0</td>\n",
                            "      <td>1</td>\n",
                            "      <td>0</td>\n",
                            "      <td>0</td>\n",
                            "      <td>0</td>\n",
                            "      <td>1</td>\n",
                            "      <td>0.0</td>\n",
                            "    </tr>\n",
                            "    <tr>\n",
                            "      <th>1</th>\n",
                            "      <td>25</td>\n",
                            "      <td>13</td>\n",
                            "      <td>0</td>\n",
                            "      <td>1</td>\n",
                            "      <td>13</td>\n",
                            "      <td>0</td>\n",
                            "      <td>29</td>\n",
                            "      <td>14</td>\n",
                            "      <td>3620</td>\n",
                            "      <td>0</td>\n",
                            "      <td>...</td>\n",
                            "      <td>0</td>\n",
                            "      <td>0</td>\n",
                            "      <td>0</td>\n",
                            "      <td>0</td>\n",
                            "      <td>1</td>\n",
                            "      <td>0</td>\n",
                            "      <td>0</td>\n",
                            "      <td>0</td>\n",
                            "      <td>1</td>\n",
                            "      <td>0.0</td>\n",
                            "    </tr>\n",
                            "    <tr>\n",
                            "      <th>2</th>\n",
                            "      <td>20</td>\n",
                            "      <td>12</td>\n",
                            "      <td>1</td>\n",
                            "      <td>2</td>\n",
                            "      <td>5</td>\n",
                            "      <td>29</td>\n",
                            "      <td>23</td>\n",
                            "      <td>12</td>\n",
                            "      <td>3459</td>\n",
                            "      <td>0</td>\n",
                            "      <td>...</td>\n",
                            "      <td>0</td>\n",
                            "      <td>0</td>\n",
                            "      <td>0</td>\n",
                            "      <td>0</td>\n",
                            "      <td>0</td>\n",
                            "      <td>1</td>\n",
                            "      <td>0</td>\n",
                            "      <td>0</td>\n",
                            "      <td>0</td>\n",
                            "      <td>0.0</td>\n",
                            "    </tr>\n",
                            "    <tr>\n",
                            "      <th>3</th>\n",
                            "      <td>30</td>\n",
                            "      <td>14</td>\n",
                            "      <td>0</td>\n",
                            "      <td>1</td>\n",
                            "      <td>10</td>\n",
                            "      <td>0</td>\n",
                            "      <td>31</td>\n",
                            "      <td>12</td>\n",
                            "      <td>3430</td>\n",
                            "      <td>0</td>\n",
                            "      <td>...</td>\n",
                            "      <td>0</td>\n",
                            "      <td>0</td>\n",
                            "      <td>0</td>\n",
                            "      <td>0</td>\n",
                            "      <td>1</td>\n",
                            "      <td>0</td>\n",
                            "      <td>0</td>\n",
                            "      <td>0</td>\n",
                            "      <td>1</td>\n",
                            "      <td>0.0</td>\n",
                            "    </tr>\n",
                            "    <tr>\n",
                            "      <th>4</th>\n",
                            "      <td>25</td>\n",
                            "      <td>13</td>\n",
                            "      <td>0</td>\n",
                            "      <td>2</td>\n",
                            "      <td>14</td>\n",
                            "      <td>85</td>\n",
                            "      <td>25</td>\n",
                            "      <td>12</td>\n",
                            "      <td>3657</td>\n",
                            "      <td>0</td>\n",
                            "      <td>...</td>\n",
                            "      <td>0</td>\n",
                            "      <td>0</td>\n",
                            "      <td>0</td>\n",
                            "      <td>0</td>\n",
                            "      <td>1</td>\n",
                            "      <td>0</td>\n",
                            "      <td>0</td>\n",
                            "      <td>0</td>\n",
                            "      <td>0</td>\n",
                            "      <td>0.0</td>\n",
                            "    </tr>\n",
                            "  </tbody>\n",
                            "</table>\n",
                            "<p>5 rows × 32 columns</p>\n",
                            "</div>"
                        ],
                        "text/plain": [
                            "   dmage  dmeduc  dmar  dlivord  nprevist  disllb  dfage  dfeduc  dbirwt  \\\n",
                            "0     24      16     0        1        12       0     25      16    3771   \n",
                            "1     25      13     0        1        13       0     29      14    3620   \n",
                            "2     20      12     1        2         5      29     23      12    3459   \n",
                            "3     30      14     0        1        10       0     31      12    3430   \n",
                            "4     25      13     0        2        14      85     25      12    3657   \n",
                            "\n",
                            "   anemia  ...  mhispan  fblack  fotherr  fhispan  tripre1  tripre2  tripre3  \\\n",
                            "0       0  ...        0       0        0        0        1        0        0   \n",
                            "1       0  ...        0       0        0        0        1        0        0   \n",
                            "2       0  ...        0       0        0        0        0        1        0   \n",
                            "3       0  ...        0       0        0        0        1        0        0   \n",
                            "4       0  ...        0       0        0        0        1        0        0   \n",
                            "\n",
                            "   tripre0  first  death  \n",
                            "0        0      1    0.0  \n",
                            "1        0      1    0.0  \n",
                            "2        0      0    0.0  \n",
                            "3        0      1    0.0  \n",
                            "4        0      0    0.0  \n",
                            "\n",
                            "[5 rows x 32 columns]"
                        ]
                    },
                    "execution_count": 5,
                    "metadata": {},
                    "output_type": "execute_result"
                }
            ],
            "source": [
                "data_file = \"../data/smoking2.dta\"\n",
                "data = pd.read_stata(data_file)\n",
                "data.head()"
            ]
        },
        {
            "cell_type": "markdown",
            "metadata": {},
            "source": [
                "## Estimate Linear Model"
            ]
        },
        {
            "cell_type": "code",
            "execution_count": null,
            "metadata": {},
            "outputs": [],
            "source": [
                "model1 = smf.ols('dbirwt ~ tobacco', data=data).fit()\n",
                "print(model1.summary())"
            ]
        },
        {
            "cell_type": "markdown",
            "metadata": {},
            "source": [
                "## Mean of Residuals"
            ]
        },
        {
            "cell_type": "code",
            "execution_count": null,
            "metadata": {},
            "outputs": [],
            "source": [
                "mean_residuals = np.mean(model1.resid)\n",
                "print(f\"Mean of residuals: {mean_residuals}\")"
            ]
        }
    ],
    "metadata": {
        "kernelspec": {
            "display_name": "base",
            "language": "python",
            "name": "python3"
        },
        "language_info": {
            "codemirror_mode": {
                "name": "ipython",
                "version": 3
            },
            "file_extension": ".py",
            "mimetype": "text/x-python",
            "name": "python",
            "nbconvert_exporter": "python",
            "pygments_lexer": "ipython3",
            "version": "3.12.3"
        }
    },
    "nbformat": 4,
    "nbformat_minor": 2
}
