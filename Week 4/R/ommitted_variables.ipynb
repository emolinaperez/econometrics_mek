{
  "nbformat": 4,
  "nbformat_minor": 0,
  "metadata": {
    "colab": {
      "provenance": []
    },
    "kernelspec": {
      "name": "ir",
      "display_name": "R"
    },
    "language_info": {
      "name": "R"
    }
  },
  "cells": [
    {
      "cell_type": "code",
      "execution_count": 9,
      "metadata": {
        "colab": {
          "base_uri": "https://localhost:8080/"
        },
        "id": "DBdN0IPPS9sB",
        "outputId": "9341ac35-62d6-422a-ab36-415db6421bce"
      },
      "outputs": [
        {
          "output_type": "stream",
          "name": "stderr",
          "text": [
            "Installing package into ‘/usr/local/lib/R/site-library’\n",
            "(as ‘lib’ is unspecified)\n",
            "\n",
            "\n",
            "stargazer installed\n",
            "\n"
          ]
        }
      ],
      "source": [
        "# Load libraries + Set simulation seed\n",
        "if (!require(pacman)) install.packages(\"pacman\")\n",
        "library(pacman) ; p_load('tidyverse','stargazer')"
      ]
    },
    {
      "cell_type": "code",
      "source": [
        "N <- 5000\n",
        "\n",
        "data <- tibble(\n",
        "  # ~30% of firms are in the tech sector\n",
        "  tech = rbinom(N, 1, .3)) %>%\n",
        "  # ~50% of tech firms are engaged in IP litigation.\n",
        "  # ~10% of non-tech firms are engaged in IP litigation.\n",
        "  mutate(IP = as.numeric(\n",
        "    runif(N) > .9 - .4*tech)) %>%\n",
        "\n",
        "  # Tech firms are very profitable...\n",
        "  # ...but IP litigation negatively affects them.\n",
        "  mutate(profit = 2 * tech\n",
        "         - .3 * IP\n",
        "         + rnorm(N, mean = 5))"
      ],
      "metadata": {
        "id": "jbw8xxdKTE2n"
      },
      "execution_count": 10,
      "outputs": []
    },
    {
      "cell_type": "code",
      "source": [
        "summary(data)"
      ],
      "metadata": {
        "colab": {
          "base_uri": "https://localhost:8080/",
          "height": 138
        },
        "id": "ZMGU6RfRTVFh",
        "outputId": "f18c40ed-8709-46e0-ee8c-73484bf1bf38"
      },
      "execution_count": 11,
      "outputs": [
        {
          "output_type": "display_data",
          "data": {
            "text/plain": [
              "      tech              IP             profit      \n",
              " Min.   :0.0000   Min.   :0.0000   Min.   : 1.273  \n",
              " 1st Qu.:0.0000   1st Qu.:0.0000   1st Qu.: 4.577  \n",
              " Median :0.0000   Median :0.0000   Median : 5.420  \n",
              " Mean   :0.2982   Mean   :0.2244   Mean   : 5.521  \n",
              " 3rd Qu.:1.0000   3rd Qu.:0.0000   3rd Qu.: 6.400  \n",
              " Max.   :1.0000   Max.   :1.0000   Max.   :10.281  "
            ]
          },
          "metadata": {}
        }
      ]
    },
    {
      "cell_type": "code",
      "source": [
        "head(data)"
      ],
      "metadata": {
        "colab": {
          "base_uri": "https://localhost:8080/",
          "height": 286
        },
        "id": "sX6FmEg1TQek",
        "outputId": "f85da643-4b20-417e-bb67-9156830252da"
      },
      "execution_count": 12,
      "outputs": [
        {
          "output_type": "display_data",
          "data": {
            "text/html": [
              "<table class=\"dataframe\">\n",
              "<caption>A tibble: 6 × 3</caption>\n",
              "<thead>\n",
              "\t<tr><th scope=col>tech</th><th scope=col>IP</th><th scope=col>profit</th></tr>\n",
              "\t<tr><th scope=col>&lt;int&gt;</th><th scope=col>&lt;dbl&gt;</th><th scope=col>&lt;dbl&gt;</th></tr>\n",
              "</thead>\n",
              "<tbody>\n",
              "\t<tr><td>0</td><td>0</td><td>3.676511</td></tr>\n",
              "\t<tr><td>0</td><td>0</td><td>5.156389</td></tr>\n",
              "\t<tr><td>0</td><td>0</td><td>5.140488</td></tr>\n",
              "\t<tr><td>0</td><td>0</td><td>6.244123</td></tr>\n",
              "\t<tr><td>0</td><td>0</td><td>5.510359</td></tr>\n",
              "\t<tr><td>1</td><td>0</td><td>5.558361</td></tr>\n",
              "</tbody>\n",
              "</table>\n"
            ],
            "text/markdown": "\nA tibble: 6 × 3\n\n| tech &lt;int&gt; | IP &lt;dbl&gt; | profit &lt;dbl&gt; |\n|---|---|---|\n| 0 | 0 | 3.676511 |\n| 0 | 0 | 5.156389 |\n| 0 | 0 | 5.140488 |\n| 0 | 0 | 6.244123 |\n| 0 | 0 | 5.510359 |\n| 1 | 0 | 5.558361 |\n\n",
            "text/latex": "A tibble: 6 × 3\n\\begin{tabular}{lll}\n tech & IP & profit\\\\\n <int> & <dbl> & <dbl>\\\\\n\\hline\n\t 0 & 0 & 3.676511\\\\\n\t 0 & 0 & 5.156389\\\\\n\t 0 & 0 & 5.140488\\\\\n\t 0 & 0 & 6.244123\\\\\n\t 0 & 0 & 5.510359\\\\\n\t 1 & 0 & 5.558361\\\\\n\\end{tabular}\n",
            "text/plain": [
              "  tech IP profit  \n",
              "1 0    0  3.676511\n",
              "2 0    0  5.156389\n",
              "3 0    0  5.140488\n",
              "4 0    0  6.244123\n",
              "5 0    0  5.510359\n",
              "6 1    0  5.558361"
            ]
          },
          "metadata": {}
        }
      ]
    },
    {
      "cell_type": "code",
      "source": [
        "# Correlation between profits and IT litigation\n",
        "m1 <- lm(profit ~ IP, data)"
      ],
      "metadata": {
        "id": "h-PLsYmmTZwv"
      },
      "execution_count": 13,
      "outputs": []
    },
    {
      "cell_type": "code",
      "source": [
        "# Controlling for tech sector\n",
        "m2 <- lm(profit ~ IP + tech, data)"
      ],
      "metadata": {
        "id": "OrxwqQVITbjc"
      },
      "execution_count": 14,
      "outputs": []
    },
    {
      "cell_type": "code",
      "source": [
        "stargazer(m1, m2, type = \"text\" )"
      ],
      "metadata": {
        "colab": {
          "base_uri": "https://localhost:8080/"
        },
        "id": "aKDwPcqzTfx_",
        "outputId": "87f39958-7abf-404a-c995-3ce2b985411c"
      },
      "execution_count": 15,
      "outputs": [
        {
          "output_type": "stream",
          "name": "stdout",
          "text": [
            "\n",
            "=========================================================================\n",
            "                                     Dependent variable:                 \n",
            "                    -----------------------------------------------------\n",
            "                                           profit                        \n",
            "                               (1)                        (2)            \n",
            "-------------------------------------------------------------------------\n",
            "IP                          0.656***                   -0.324***         \n",
            "                             (0.044)                    (0.038)          \n",
            "                                                                         \n",
            "tech                                                   2.028***          \n",
            "                                                        (0.035)          \n",
            "                                                                         \n",
            "Constant                    5.373***                   4.988***          \n",
            "                             (0.021)                    (0.017)          \n",
            "                                                                         \n",
            "-------------------------------------------------------------------------\n",
            "Observations                  5,000                      5,000           \n",
            "R2                            0.042                      0.431           \n",
            "Adjusted R2                   0.042                      0.431           \n",
            "Residual Std. Error     1.307 (df = 4998)          1.008 (df = 4997)     \n",
            "F Statistic         219.197*** (df = 1; 4998) 1,892.238*** (df = 2; 4997)\n",
            "=========================================================================\n",
            "Note:                                         *p<0.1; **p<0.05; ***p<0.01\n"
          ]
        }
      ]
    },
    {
      "cell_type": "code",
      "source": [
        "# Residualize outcome\n",
        "data$R_profit <- lm(profit ~ tech, data)$residuals"
      ],
      "metadata": {
        "id": "de-r12gPTmBA"
      },
      "execution_count": 16,
      "outputs": []
    },
    {
      "cell_type": "code",
      "source": [
        "# Residualize treatment\n",
        "data$R_IP <- lm(IP ~ tech, data)$residuals"
      ],
      "metadata": {
        "id": "OZZdDXZcTnPe"
      },
      "execution_count": 17,
      "outputs": []
    },
    {
      "cell_type": "code",
      "source": [
        "# Correlation of residuals = causal effect\n",
        "corr_resids <- lm(R_profit ~ R_IP, data)"
      ],
      "metadata": {
        "id": "vhWXA5yfTo81"
      },
      "execution_count": 19,
      "outputs": []
    },
    {
      "cell_type": "code",
      "source": [
        "stargazer(m1, m2, corr_resids,  type = \"text\" )"
      ],
      "metadata": {
        "colab": {
          "base_uri": "https://localhost:8080/"
        },
        "id": "FkEldzBkTqJ3",
        "outputId": "c3ed7f0b-196a-4e1d-fea8-40b17f4f2a7a"
      },
      "execution_count": 20,
      "outputs": [
        {
          "output_type": "stream",
          "name": "stdout",
          "text": [
            "\n",
            "==================================================================================================\n",
            "                                                 Dependent variable:                              \n",
            "                    ------------------------------------------------------------------------------\n",
            "                                           profit                                 R_profit        \n",
            "                               (1)                        (2)                       (3)           \n",
            "--------------------------------------------------------------------------------------------------\n",
            "IP                          0.656***                   -0.324***                                  \n",
            "                             (0.044)                    (0.038)                                   \n",
            "                                                                                                  \n",
            "tech                                                   2.028***                                   \n",
            "                                                        (0.035)                                   \n",
            "                                                                                                  \n",
            "R_IP                                                                             -0.324***        \n",
            "                                                                                  (0.038)         \n",
            "                                                                                                  \n",
            "Constant                    5.373***                   4.988***                    -0.000         \n",
            "                             (0.021)                    (0.017)                   (0.014)         \n",
            "                                                                                                  \n",
            "--------------------------------------------------------------------------------------------------\n",
            "Observations                  5,000                      5,000                     5,000          \n",
            "R2                            0.042                      0.431                     0.014          \n",
            "Adjusted R2                   0.042                      0.431                     0.014          \n",
            "Residual Std. Error     1.307 (df = 4998)          1.008 (df = 4997)         1.008 (df = 4998)    \n",
            "F Statistic         219.197*** (df = 1; 4998) 1,892.238*** (df = 2; 4997) 72.352*** (df = 1; 4998)\n",
            "==================================================================================================\n",
            "Note:                                                                  *p<0.1; **p<0.05; ***p<0.01\n"
          ]
        }
      ]
    }
  ]
}