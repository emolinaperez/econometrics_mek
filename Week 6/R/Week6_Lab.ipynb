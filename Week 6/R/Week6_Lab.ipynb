{
  "nbformat": 4,
  "nbformat_minor": 0,
  "metadata": {
    "colab": {
      "provenance": [],
      "authorship_tag": "ABX9TyPs9THegHNBX3c75T6+SBxM",
      "include_colab_link": true
    },
    "kernelspec": {
      "name": "ir",
      "display_name": "R"
    },
    "language_info": {
      "name": "R"
    }
  },
  "cells": [
    {
      "cell_type": "markdown",
      "metadata": {
        "id": "view-in-github",
        "colab_type": "text"
      },
      "source": [
        "<a href=\"https://colab.research.google.com/github/emolinaperez/econometrics_mek/blob/main/Week%206/R/Week6_Lab.ipynb\" target=\"_parent\"><img src=\"https://colab.research.google.com/assets/colab-badge.svg\" alt=\"Open In Colab\"/></a>"
      ]
    },
    {
      "cell_type": "markdown",
      "source": [
        "# Lab 6: Econometrics"
      ],
      "metadata": {
        "id": "SvdcLkSbZ__U"
      }
    },
    {
      "cell_type": "code",
      "execution_count": null,
      "metadata": {
        "id": "CZse0VK1YoO4"
      },
      "outputs": [],
      "source": [
        "install.packages(c(\"lmtest\", \"sandwich\",\"modelsummary\"))\n",
        "library(stats)\n",
        "library(lmtest)\n",
        "library(sandwich)\n",
        "library(boot)"
      ]
    },
    {
      "cell_type": "code",
      "source": [
        "# Load data\n",
        "data <- read.csv(\"https://raw.githubusercontent.com/emolinaperez/econometrics_mek/main/Week%206/data/electricity_sector.csv\")\n",
        "head(data)"
      ],
      "metadata": {
        "id": "yuuDnNihaJmh"
      },
      "execution_count": null,
      "outputs": []
    },
    {
      "cell_type": "code",
      "source": [
        "# Generate country dummies\n",
        "data$country <- as.factor(data$country)\n",
        "dummies <- model.matrix(~ country - 1, data = data)\n",
        "colnames(dummies) <- paste0(\"c\", 1:ncol(dummies))\n",
        "data <- cbind(data, dummies)"
      ],
      "metadata": {
        "id": "HQMauxqGarx8"
      },
      "execution_count": null,
      "outputs": []
    },
    {
      "cell_type": "code",
      "source": [
        "# Generate country ID\n",
        "data$id <- as.numeric(factor(data$country))"
      ],
      "metadata": {
        "id": "LcVgXcyOatR-"
      },
      "execution_count": null,
      "outputs": []
    },
    {
      "cell_type": "markdown",
      "source": [
        "# Table 3: Nonlinear Estimation of CES - Electricity Sector"
      ],
      "metadata": {
        "id": "bGrSbNGEawDA"
      }
    },
    {
      "cell_type": "markdown",
      "source": [
        "### Column 1: Nonlinear Estimation of CES in Levels - Electricity Sector"
      ],
      "metadata": {
        "id": "qdja_YfZn7nW"
      }
    },
    {
      "cell_type": "code",
      "source": [
        "# Nonlinear Least Squares (NLS) Estimation of CES Model\n",
        "ces_model <- nls(\n",
        "  ln_eg ~ a + d*year +\n",
        "    b_c1*c1 + b_c2*c2 + b_c3*c3 + b_c4*c4 + b_c5*c5 +\n",
        "    b_c6*c6 + b_c7*c7 + b_c8*c8 + b_c9*c9 + b_c10*c10 +\n",
        "    b_c11*c11 + b_c12*c12 + b_c13*c13 + b_c14*c14 + b_c15*c15 +\n",
        "    b_c16*c16 + b_c17*c17 + b_c18*c18 + b_c19*c19 + b_c20*c20 +\n",
        "    b_c21*c21 + b_c22*c22 + b_c23*c23 + b_c24*c24 + b_c25*c25 +\n",
        "    (1/psi)*log(omega*EC_c^psi + (1-omega)*EC_d^psi),\n",
        "  data = data,\n",
        "  start = list(\n",
        "    a = 20,\n",
        "    d = 0.01,\n",
        "    psi = -0.5,\n",
        "    omega = 0.5,\n",
        "    b_c1 = 0, b_c2 = 0, b_c3 = 0, b_c4 = 0, b_c5 = 0,\n",
        "    b_c6 = 0, b_c7 = 0, b_c8 = 0, b_c9 = 0, b_c10 = 0,\n",
        "    b_c11 = 0, b_c12 = 0, b_c13 = 0, b_c14 = 0, b_c15 = 0,\n",
        "    b_c16 = 0, b_c17 = 0, b_c18 = 0, b_c19 = 0, b_c20 = 0,\n",
        "    b_c21 = 0, b_c22 = 0, b_c23 = 0, b_c24 = 0, b_c25 = 0\n",
        "  ),\n",
        "  control = nls.control(maxiter = 100)\n",
        ")\n",
        "\n",
        "summary(ces_model)"
      ],
      "metadata": {
        "id": "LbbhCVIlavrf"
      },
      "execution_count": null,
      "outputs": []
    },
    {
      "cell_type": "code",
      "source": [
        "# Model Summary\n",
        "library(modelsummary)\n",
        "modelsummary(ces_model,\n",
        "             coef_omit = \"^b_c\",\n",
        "             stars = c('*' = .1, '**' = .05, '***' = .01),\n",
        "             fmt = fmt_decimal(digits = 4),\n",
        "             gof_map = c(\n",
        "               \"nobs ~ N\",\n",
        "               \"r.squared ~ Adjusted R²\",\n",
        "               \"sigma ~ σ\"\n",
        "             ),\n",
        "             coef_map = c(\n",
        "               \"d\" = \"d\",\n",
        "               \"omega\" = \"ω\",\n",
        "               \"psi\" = \"ψ\"\n",
        "             ),\n",
        "             title = \"Table 3: Nonlinear Estimation of CES - Electricity Sector\"\n",
        "             )"
      ],
      "metadata": {
        "id": "FlEA4nsgke_F"
      },
      "execution_count": null,
      "outputs": []
    },
    {
      "cell_type": "code",
      "source": [
        "# Bootstrapping CES Model with Error Handling\n",
        "\n",
        "# Initialize progress bar\n",
        "pb <- txtProgressBar(min = 0, max = 400, style = 3)\n",
        "\n",
        "# Create a counter variable outside of the function\n",
        "iteration_counter <- 0\n",
        "\n",
        "# Define bootstrap function\n",
        "ces_boot <- boot(data, function(data, indices) {\n",
        "\n",
        "  # Update progress bar safely\n",
        "  iteration_counter <<- iteration_counter + 1  # Update the counter\n",
        "  setTxtProgressBar(pb, iteration_counter)  # Update progress bar\n",
        "\n",
        "  # Sample data\n",
        "  data_sample <- data[indices, ]\n",
        "\n",
        "  # Fit the model using tryCatch to handle errors\n",
        "  fit <- tryCatch({\n",
        "    suppressWarnings(\n",
        "      nls(ln_eg ~ a + d*year +\n",
        "            b_c1*c1 + b_c2*c2 + b_c3*c3 + b_c4*c4 + b_c5*c5 +\n",
        "            b_c6*c6 + b_c7*c7 + b_c8*c8 + b_c9*c9 + b_c10*c10 +\n",
        "            b_c11*c11 + b_c12*c12 + b_c13*c13 + b_c14*c14 + b_c15*c15 +\n",
        "            b_c16*c16 + b_c17*c17 + b_c18*c18 + b_c19*c19 + b_c20*c20 +\n",
        "            b_c21*c21 + b_c22*c22 + b_c23*c23 + b_c24*c24 + b_c25*c25 +\n",
        "            (1/psi)*log(omega*EC_c^psi + (1-omega)*EC_d^psi),\n",
        "          data = data_sample,\n",
        "          start = coef(ces_model),\n",
        "          control = nls.control(maxiter = 100, warnOnly = TRUE))\n",
        "    )\n",
        "  }, error = function(e) return(rep(NA, length(coef(ces_model)))))\n",
        "\n",
        "  if (is.numeric(fit)) return(fit)  # Return NA if failed\n",
        "  return(coef(fit))\n",
        "}, R = 400)\n",
        "\n",
        "# Close the progress bar when finished\n",
        "close(pb)"
      ],
      "metadata": {
        "id": "GMRulGFpkmP5"
      },
      "execution_count": null,
      "outputs": []
    },
    {
      "cell_type": "code",
      "source": [
        "# Summary results\n",
        "boot_summary <- data.frame(\n",
        "  estimate = coef(ces_model),\n",
        "  std.error = apply(ces_boot$t, 2, sd, na.rm = TRUE),\n",
        "  z_stat = coef(ces_model) / apply(ces_boot$t, 2, sd, na.rm = TRUE),\n",
        "  p_value = 2 * (1 - pnorm(abs(coef(ces_model) / apply(ces_boot$t, 2, sd, na.rm = TRUE)))),\n",
        "  conf.low = apply(ces_boot$t, 2, quantile, probs = 0.025, na.rm = TRUE),\n",
        "  conf.high = apply(ces_boot$t, 2, quantile, probs = 0.975, na.rm = TRUE)\n",
        ")\n",
        "\n",
        "# Print results\n",
        "boot_summary"
      ],
      "metadata": {
        "id": "f_m84uWkksqN"
      },
      "execution_count": null,
      "outputs": []
    },
    {
      "cell_type": "markdown",
      "source": [
        "### Column 3: Linear Estimation of Kmenta Approximation in Levels - Electricity Sector"
      ],
      "metadata": {
        "id": "4DoXN2cyoFwd"
      }
    },
    {
      "cell_type": "code",
      "source": [
        "# Define model\n",
        "model3 <- lm(ln_egecd ~ c1 + c2 + c3 + c4 + c5 +\n",
        "               c6 + c7 + c8 + c9 + c10 +\n",
        "               c11 + c12 + c13 + c14 + c15 +\n",
        "               c16 + c17 + c18 + c19 + c20 +\n",
        "               c21 + c22 + c23 + c24 + c25 +\n",
        "               year + ln_eccd + ln_eccd_2,\n",
        "             data = data)"
      ],
      "metadata": {
        "id": "xVDcDwmkqJFv"
      },
      "execution_count": null,
      "outputs": []
    },
    {
      "cell_type": "code",
      "source": [
        "# Get clustered standard errors at the country level\n",
        "cl_vcov <- vcovCL(model3, cluster = ~country, type = \"HC1\")"
      ],
      "metadata": {
        "id": "A-jKFPrwqKkJ"
      },
      "execution_count": null,
      "outputs": []
    },
    {
      "cell_type": "code",
      "source": [
        "# Display robust summary\n",
        "coeftest(model3, vcov = cl_vcov)"
      ],
      "metadata": {
        "id": "P9jEGsIkqTdd"
      },
      "execution_count": null,
      "outputs": []
    },
    {
      "cell_type": "code",
      "source": [
        "# Extract coefficients\n",
        "coef_values <- coef(model3)\n",
        "\n",
        "# Define nonlinear transformations\n",
        "a <- coef_values[\"(Intercept)\"]\n",
        "d <- coef_values[\"year\"]\n",
        "omega <- coef_values[\"ln_eccd\"]\n",
        "\n",
        "psi_formula <- ((coef_values[\"ln_eccd\"] * (1 - coef_values[\"ln_eccd\"]) /\n",
        "                (coef_values[\"ln_eccd\"] * (1 - coef_values[\"ln_eccd\"]) - coef_values[\"ln_eccd_2\"])) - 1) /\n",
        "                (coef_values[\"ln_eccd\"] * (1 - coef_values[\"ln_eccd\"]) /\n",
        "                (coef_values[\"ln_eccd\"] * (1 - coef_values[\"ln_eccd\"]) - coef_values[\"ln_eccd_2\"]))"
      ],
      "metadata": {
        "id": "piEK-hn4qWT0"
      },
      "execution_count": null,
      "outputs": []
    },
    {
      "cell_type": "code",
      "source": [
        "# Print the transformed coefficients\n",
        "print(paste(\"d:\", d))\n",
        "print(paste(\"ω:\", omega))\n",
        "print(paste(\"ψ:\", psi_formula))"
      ],
      "metadata": {
        "id": "K8uEWx5CqYIL"
      },
      "execution_count": null,
      "outputs": []
    },
    {
      "cell_type": "markdown",
      "source": [
        "# Table 4: Alternative Capital Proxy - Electricity Sector"
      ],
      "metadata": {
        "id": "AKVly4PDqasH"
      }
    },
    {
      "cell_type": "code",
      "source": [
        "# Alternative Capital Proxy Model\n",
        "ces_alt_model <- nls(ln_eg ~ a + d * year + (1 / psi) * log(omega * EC_c_alt^psi + (1 - omega) * EC_d_alt^psi),\n",
        "                      data = data,\n",
        "                      start = list(a = 20, d = 0.01, psi = -0.5, omega = 0.5),\n",
        "                      control = nls.control(maxiter = 100, warnOnly = TRUE))\n",
        "summary(ces_alt_model)"
      ],
      "metadata": {
        "id": "hSOBvdNJt2ws"
      },
      "execution_count": null,
      "outputs": []
    },
    {
      "cell_type": "code",
      "source": [
        "# Bootstrapping CES Alternative Model with Error Handling\n",
        "\n",
        "# Initialize progress bar\n",
        "pb <- txtProgressBar(min = 0, max = 400, style = 3)\n",
        "\n",
        "# Create a counter variable outside of the function\n",
        "iteration_counter <- 0\n",
        "\n",
        "# Define bootstrap function with progress tracking\n",
        "ces_alt_boot <- boot(data, function(data, indices) {\n",
        "\n",
        "  # Update progress bar safely\n",
        "  iteration_counter <<- iteration_counter + 1  # Increment counter\n",
        "  setTxtProgressBar(pb, iteration_counter)  # Update progress bar\n",
        "\n",
        "  # Sample data\n",
        "  data_sample <- data[indices, ]\n",
        "\n",
        "  # Fit the model using tryCatch to handle errors\n",
        "  fit <- tryCatch({\n",
        "    suppressWarnings(\n",
        "      nls(ln_eg ~ a + d * year + (1 / psi) * log(omega * EC_c_alt^psi + (1 - omega) * EC_d_alt^psi),\n",
        "          data = data_sample,\n",
        "          start = coef(ces_alt_model),\n",
        "          control = nls.control(maxiter = 100, warnOnly = TRUE))\n",
        "    )\n",
        "  }, error = function(e) return(rep(NA, length(coef(ces_alt_model)))))\n",
        "\n",
        "  if (is.numeric(fit)) return(fit)  # Return NA if failed\n",
        "  return(coef(fit))\n",
        "}, R = 400)\n",
        "\n",
        "# Close the progress bar when finished\n",
        "close(pb)"
      ],
      "metadata": {
        "id": "VqxiucvMt4Tj"
      },
      "execution_count": null,
      "outputs": []
    },
    {
      "cell_type": "code",
      "source": [
        "# Summary results\n",
        "boot_summary <- data.frame(\n",
        "  estimate = coef(ces_alt_model),\n",
        "  std.error = apply(ces_alt_boot$t, 2, sd, na.rm = TRUE),\n",
        "  z_stat = coef(ces_alt_model) / apply(ces_alt_boot$t, 2, sd, na.rm = TRUE),\n",
        "  p_value = 2 * (1 - pnorm(abs(coef(ces_alt_model) / apply(ces_alt_boot$t, 2, sd, na.rm = TRUE)))),\n",
        "  conf.low = apply(ces_alt_boot$t, 2, quantile, probs = 0.025, na.rm = TRUE),\n",
        "  conf.high = apply(ces_alt_boot$t, 2, quantile, probs = 0.975, na.rm = TRUE)\n",
        ")\n",
        "\n",
        "# Print results\n",
        "boot_summary"
      ],
      "metadata": {
        "id": "-I-aqKJmt53Z"
      },
      "execution_count": null,
      "outputs": []
    },
    {
      "cell_type": "markdown",
      "source": [
        "# Table 5: Nonlinear Estimation of Cobb-Douglas in CES - Electricity Sector"
      ],
      "metadata": {
        "id": "kHw3yU1gt7pP"
      }
    },
    {
      "cell_type": "code",
      "source": [
        "# Cobb-Douglas Model\n",
        "cd_model <- nls(ln_eg ~ a + d * year + (1 / psi) * log(omega * EC_c^psi + (1 - omega) * (EC_d^alpha * FU_d^(1 - alpha))^psi),\n",
        "                 data = data,\n",
        "                 start = list(a = 0, d = 0.01, psi = -0.2, omega = 0.5, alpha = 0.7),\n",
        "                 control = nls.control(maxiter = 100, warnOnly = TRUE))\n",
        "summary(cd_model)"
      ],
      "metadata": {
        "id": "Fuq9pstwuW1m"
      },
      "execution_count": null,
      "outputs": []
    },
    {
      "cell_type": "code",
      "source": [
        "# Bootstrapping Cobb-Douglas Model with Error Handling\n",
        "\n",
        "# Initialize progress bar\n",
        "pb <- txtProgressBar(min = 0, max = 400, style = 3)\n",
        "\n",
        "# Create a counter variable outside of the function\n",
        "iteration_counter <- 0\n",
        "\n",
        "# Define bootstrap function with progress tracking\n",
        "cd_boot <- boot(data, function(data, indices) {\n",
        "\n",
        "  # Update progress bar safely\n",
        "  iteration_counter <<- iteration_counter + 1  # Increment counter\n",
        "  setTxtProgressBar(pb, iteration_counter)  # Update progress bar\n",
        "\n",
        "  # Sample data\n",
        "  data_sample <- data[indices, ]\n",
        "\n",
        "  # Fit the model using tryCatch to handle errors\n",
        "  fit <- tryCatch({\n",
        "    suppressWarnings(\n",
        "      nls(ln_eg ~ a + d * year +\n",
        "            (1 / psi) * log(omega * EC_c^psi + (1 - omega) * (EC_d^alpha * FU_d^(1 - alpha))^psi),\n",
        "          data = data_sample,\n",
        "          start = coef(cd_model),\n",
        "          control = nls.control(maxiter = 100, warnOnly = TRUE))\n",
        "    )\n",
        "  }, error = function(e) return(rep(NA, length(coef(cd_model)))))\n",
        "\n",
        "  if (is.numeric(fit)) return(fit)  # Return NA if failed\n",
        "  return(coef(fit))\n",
        "}, R = 400)\n",
        "\n",
        "# Close the progress bar when finished\n",
        "close(pb)"
      ],
      "metadata": {
        "id": "F8pOPBQRuYDE"
      },
      "execution_count": null,
      "outputs": []
    },
    {
      "cell_type": "code",
      "source": [
        "# Summary results\n",
        "boot_summary <- data.frame(\n",
        "  estimate = coef(cd_model),\n",
        "  std.error = apply(cd_boot$t, 2, sd, na.rm = TRUE),\n",
        "  z_stat = coef(cd_model) / apply(cd_boot$t, 2, sd, na.rm = TRUE),\n",
        "  p_value = 2 * (1 - pnorm(abs(coef(cd_model) / apply(cd_boot$t, 2, sd, na.rm = TRUE)))),\n",
        "  conf.low = apply(cd_boot$t, 2, quantile, probs = 0.025, na.rm = TRUE),\n",
        "  conf.high = apply(cd_boot$t, 2, quantile, probs = 0.975, na.rm = TRUE)\n",
        ")\n",
        "\n",
        "# Print results\n",
        "boot_summary\n"
      ],
      "metadata": {
        "id": "i44kfiAhuvVG"
      },
      "execution_count": null,
      "outputs": []
    },
    {
      "cell_type": "markdown",
      "source": [
        "# Table 6: CES in Cobb-Douglas - Non-Energy Industries"
      ],
      "metadata": {
        "id": "XcQ_Q2bFvGgH"
      }
    },
    {
      "cell_type": "code",
      "source": [
        "# Load data\n",
        "data <- read.csv(\"https://raw.githubusercontent.com/emolinaperez/econometrics_mek/main/Week%206/data/nonenergy_industries.csv\")\n"
      ],
      "metadata": {
        "id": "FHxbNXBGvGQR"
      },
      "execution_count": null,
      "outputs": []
    },
    {
      "cell_type": "code",
      "source": [
        "# Generate country dummies\n",
        "data$country <- as.factor(data$country)\n",
        "dummies <- model.matrix(~ country - 1, data = data)\n",
        "colnames(dummies) <- paste0(\"c\", 1:ncol(dummies))\n",
        "data <- cbind(data, dummies)\n",
        "\n",
        "# Generate industry dummies\n",
        "data$industry <- as.factor(data$industry)\n",
        "dummies <-model.matrix(~ factor(industry) - 1, data = data)\n",
        "colnames(dummies) <- paste0(\"i\", 1:ncol(dummies))\n",
        "data <- cbind(data, dummies)\n",
        "\n",
        "# Generate country ID\n",
        "data$id <- as.numeric(factor(data$country))"
      ],
      "metadata": {
        "id": "LGRMPah2vN1V"
      },
      "execution_count": null,
      "outputs": []
    },
    {
      "cell_type": "code",
      "source": [
        "# CES Model for Non-Energy Industries\n",
        "ces_ne_model <- nls(\n",
        "  ln_vaxiie ~ a + d * year +\n",
        "    b_c1*c1 + b_c2*c2 + b_c3*c3 + b_c4*c4 + b_c5*c5 +\n",
        "    b_c6*c6 + b_c7*c7 + b_c8*c8 + b_c9*c9 + b_c10*c10 +\n",
        "    b_c11*c11 + b_c12*c12 + b_c13*c13 + b_c14*c14 + b_c15*c15 +\n",
        "    b_c16*c16 + b_c17*c17 + b_c18*c18 +\n",
        "    b_i1*i1 + b_i2*i2 + b_i3*i3 + b_i4*i4 + b_i5*i5 +\n",
        "    b_i6*i6 + b_i7*i7 + b_i8*i8 + b_i9*i9 + b_i10*i10 +\n",
        "    b_i11*i11 + b_i12*i12 + b_i13*i13 + b_i14*i14 + b_i15*i15 +\n",
        "    b_i16*i16 + b_i17*i17 + b_i18*i18 + b_i19*i19 + b_i20*i20 +\n",
        "    b_i21*i21 + b_i22*i22 + b_i23*i23 + b_i24*i24 + b_i25*i25 + b_i26*i26 + b_i27*i27 +\n",
        "    (1 - alph - gamm) * ln_xl + alph * ln_xk + gamm * (1 / psi) * log(xd^psi + xc^psi),\n",
        "\n",
        "      data = data,\n",
        "      start = list(a = 0, d = 0.01, alph = 0.3,gamm = 0.1,psi  = 0.2,\n",
        "                   b_c1 = 0, b_c2 = 0, b_c3 = 0, b_c4 = 0, b_c5 = 0,\n",
        "                   b_c6 = 0, b_c7 = 0, b_c8 = 0, b_c9 = 0, b_c10 = 0,\n",
        "                   b_c11 = 0, b_c12 = 0, b_c13 = 0, b_c14 = 0, b_c15 = 0,\n",
        "                   b_c16 = 0, b_c17 = 0, b_c18 = 0,\n",
        "                   b_i1 = 0, b_i2 = 0, b_i3 = 0, b_i4 = 0, b_i5 = 0,\n",
        "                   b_i6 = 0, b_i7 = 0, b_i8 = 0, b_i9 = 0, b_i10 = 0,\n",
        "                   b_i11 = 0, b_i12 = 0, b_i13 = 0, b_i14 = 0, b_i15 = 0,\n",
        "                   b_i16 = 0, b_i17 = 0, b_i18 = 0, b_i19 = 0, b_i20 = 0,\n",
        "                   b_i21 = 0, b_i22 = 0, b_i23 = 0, b_i24 = 0, b_i25 = 0, b_i26 = 0, b_i27 = 0),\n",
        "      control = nls.control(maxiter = 100, warnOnly = TRUE))\n",
        "\n",
        "summary(ces_ne_model)"
      ],
      "metadata": {
        "id": "Jbx9N5gqvTOS"
      },
      "execution_count": null,
      "outputs": []
    },
    {
      "cell_type": "code",
      "source": [
        "# Model Summary\n",
        "modelsummary(ces_ne_model,\n",
        "             coef_omit = \"^b_c|^b_i\",\n",
        "             stars = c('*' = .1, '**' = .05, '***' = .01),\n",
        "             fmt = fmt_decimal(digits = 4),\n",
        "             gof_map = c(\n",
        "               \"nobs ~ N\",\n",
        "               \"r.squared ~ Adjusted R²\",\n",
        "               \"sigma ~ σ\"\n",
        "             ),\n",
        "             coef_map = c(\n",
        "               \"d\" = \"d\",\n",
        "               \"alph\"=\"α\",\n",
        "               \"gamm\" = \"γ\",\n",
        "               \"psi\" = \"ψ\"\n",
        "             ),\n",
        "             title = \"Table 3: Nonlinear Estimation of CES - Electricity Sector\"\n",
        ")"
      ],
      "metadata": {
        "id": "aq8YQmyuwL3l"
      },
      "execution_count": null,
      "outputs": []
    },
    {
      "cell_type": "code",
      "source": [
        "# Bootstrapping Non-Energy CES Model\n",
        "\n",
        "# Initialize progress bar\n",
        "pb <- txtProgressBar(min = 0, max = 10, style = 3)  # Adjusted for R = 10\n",
        "\n",
        "# Create a counter variable outside of the function\n",
        "iteration_counter <- 0\n",
        "\n",
        "ces_ne_boot <- boot(data, function(data, indices) {\n",
        "\n",
        "  # Update progress bar safely\n",
        "  iteration_counter <<- iteration_counter + 1  # Increment counter\n",
        "  setTxtProgressBar(pb, iteration_counter)  # Update progress bar\n",
        "\n",
        "  data_sample <- data[indices, ]\n",
        "  fit <- tryCatch({\n",
        "    suppressWarnings(\n",
        "    nls(ln_vaxiie ~ a + d * year +\n",
        "          b_c1*c1 + b_c2*c2 + b_c3*c3 + b_c4*c4 + b_c5*c5 +\n",
        "          b_c6*c6 + b_c7*c7 + b_c8*c8 + b_c9*c9 + b_c10*c10 +\n",
        "          b_c11*c11 + b_c12*c12 + b_c13*c13 + b_c14*c14 + b_c15*c15 +\n",
        "          b_c16*c16 + b_c17*c17 + b_c18*c18 +\n",
        "          b_i1*i1 + b_i2*i2 + b_i3*i3 + b_i4*i4 + b_i5*i5 +\n",
        "          b_i6*i6 + b_i7*i7 + b_i8*i8 + b_i9*i9 + b_i10*i10 +\n",
        "          b_i11*i11 + b_i12*i12 + b_i13*i13 + b_i14*i14 + b_i15*i15 +\n",
        "          b_i16*i16 + b_i17*i17 + b_i18*i18 + b_i19*i19 + b_i20*i20 +\n",
        "          b_i21*i21 + b_i22*i22 + b_i23*i23 + b_i24*i24 + b_i25*i25 + b_i26*i26 + b_i27*i27 +\n",
        "          (1 - alph - gamm) * ln_xl + alph * ln_xk + gamm * (1 / psi) * log(xd^psi + xc^psi),\n",
        "        data = data_sample,\n",
        "        start = coef(ces_ne_model),\n",
        "        control = nls.control(maxiter = 100, warnOnly = TRUE))\n",
        "    )\n",
        "  }, error = function(e) return(rep(NA, length(coef(ces_ne_model)))))\n",
        "\n",
        "  if (is.numeric(fit)) return(fit)  # Return NA if failed\n",
        "  return(coef(fit))\n",
        "}, R = 10)\n",
        "\n",
        "# Close the progress bar when finished\n",
        "close(pb)"
      ],
      "metadata": {
        "id": "XKyhiad91QiJ"
      },
      "execution_count": null,
      "outputs": []
    },
    {
      "cell_type": "code",
      "source": [
        "# Summary results\n",
        "boot_summary <- data.frame(\n",
        "  estimate = coef(ces_ne_model),\n",
        "  std.error = apply(ces_ne_boot$t, 2, sd, na.rm = TRUE),\n",
        "  z_stat = coef(ces_ne_model) / apply(ces_ne_boot$t, 2, sd, na.rm = TRUE),\n",
        "  p_value = 2 * (1 - pnorm(abs(coef(cd_model) / apply(ces_ne_boot$t, 2, sd, na.rm = TRUE)))),\n",
        "  conf.low = apply(ces_ne_boot$t, 2, quantile, probs = 0.025, na.rm = TRUE),\n",
        "  conf.high = apply(ces_ne_boot$t, 2, quantile, probs = 0.975, na.rm = TRUE)\n",
        ")\n",
        "\n",
        "# Print results\n",
        "boot_summary"
      ],
      "metadata": {
        "id": "oFJfcbKA1S1K"
      },
      "execution_count": null,
      "outputs": []
    }
  ]
}