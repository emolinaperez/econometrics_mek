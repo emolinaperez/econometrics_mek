{
 "cells": [
  {
   "cell_type": "markdown",
   "metadata": {},
   "source": [
    "# Problem Set 2"
   ]
  },
  {
   "cell_type": "markdown",
   "metadata": {},
   "source": [
    "# Instructions\n",
    "Instructions: Fell free to work in groups while solving this assignment. However, submissions are by individual teams. The inbox for submitting problem sets will be published in canvas. Please make your write-ups are readable and well presented. In particular for the empirical questions, include the statistical results necessary to answer the questions. Make the response self-contained.\n",
    "\n",
    "##### Total Points: 100\n",
    "##### Due Date: March 13th, 2025 (before midnight)"
   ]
  },
  {
   "cell_type": "markdown",
   "metadata": {},
   "source": [
    "# Part 1\n",
    "\n",
    "### Reasoning questions (15 points)\n",
    "\n",
    "All else equal, it is thought that housing prices are NEGATIVELY related to air pollution. However, it is not clear how much air pollution actually affects property values, and you are hired to estimate the causal impact of air pollution on housing prices. To do this, you have a county-level panel dataset with information on average air pollution levels, $S$, median housing prices, $Y$; and a vector of other covariates, $X$ (such as the unemployment rate, average income, fraction of sunny days, and manufacturing output). There are 2,463 muncipilaties in Mexico, and you have 12 years worth of data for each municipality, starting in 1970."
   ]
  },
  {
   "cell_type": "markdown",
   "metadata": {},
   "source": [
    "##### a. Suppose you take one year of data, and examine the cross-sectional relationship between housing prices and air pollution by regressing $Y$ on $S$. State a mathematical condition on the relationship between air pollution and the other factors that affect $Y$ that would imply that the regression coefficient is a \"credible\" estimate (in the sense that it is a consistent estimate) of the causal effect of pollution. Provide one reason why this condition could fail in this situation."
   ]
  },
  {
   "cell_type": "markdown",
   "metadata": {},
   "source": [
    "##### b. Now suppose you include the covariates $X$ in the regression to control for observable confounders. Explain how this could improve your estimate of the effect of air pollution. Provide one reason why this estimate might be worse (from the standpoint of consistency) than the regression coefficient in (a)."
   ]
  },
  {
   "cell_type": "markdown",
   "metadata": {},
   "source": [
    "##### c. Now suppose that you want to use the longitudinal aspect of the data by controlling for period and municipalities fixed effects.\n",
    "###### c.1 Write down the regression equation that you would estimate. \n",
    "###### c.2 What is the implicit comparison that you are making when estimating this model. Put another way, what is the source of variation that you are using to identify the effect of air pollution?\n"
   ]
  },
  {
   "cell_type": "markdown",
   "metadata": {},
   "source": [
    "##### d. Suppose you were interested in estimating the effect of climate on housing prices perhaps by examining the coefficient on the number of sunny days in a municipality). Would the fixed effects approach be a good way to do this?\n"
   ]
  },
  {
   "cell_type": "markdown",
   "metadata": {},
   "source": [
    "##### e. Now think about whether the fixed effects approach is a convincing strategy for estimating the effect of air pollution.\n",
    "\n",
    "##### e.1 Referring to your regression equation from (c.1), state the mathematical condition that is needed for the fixed effects estimator to be consistent, and explain intuitively what it means in this context.\n",
    "##### e.2 Provide a reason why the fixed effects estimator could be worse than the estimates from (a) or (b). Your answer should be SPECIFIC to this context (hint: think about the source of variation that the fixed effects estimator is using, and then think of a reason why this variation is probably not useful for isolating the causal effect of pollution on housing prices).\n",
    "###### e.3 Explain how you might use the information on other covariates to DIRECTLY test whether your answer to (e.2) is a serious threat or not. Be as specific as possible.\n"
   ]
  },
  {
   "cell_type": "markdown",
   "metadata": {},
   "source": [
    "# Part 2 \n",
    "\n",
    "### Duflo, Dupas, and  Kremer (2011) (35 points)\n",
    "\n",
    "These questions ask you to analyze a data set from Duflo, Dupas, and  Kremer (2011). The dataset is named DDK20111 and is available in Canvas. You will investigate the impact of tracking (assigning students based on initial test score) on educational  attainment in a randomized experiment.\n"
   ]
  },
  {
   "cell_type": "markdown",
   "metadata": {},
   "source": [
    "##### a. Asess how successful randomization was in this study. Provide empirical evidence of your analysis.  \n",
    "\n",
    "##### b. Do a regression of standardized test score (totalscore normalized to have 0 mean and variance  1) on tracking. Report the point estimate and standard deviation of tracking in test scores? Is this significant? how large this effect is? \n",
    "\n",
    "##### c. Are your residuals constant variance (Homoskedasticity) or non-constant variance (Heteroskedasticity) ? \n",
    "\n",
    "##### d. Run this same regression accross all divisions. Compare the point estimates and standar errors of the effect of tracking on test scores. How estable are the effects and standard errors? Based on your review of the paper how would you interpret these results? \n",
    "\n",
    "##### e. Do a regression of standardized test score (totalscore normalized to have 0 mean and variance  1) on tracking, age, gender, being assigned to the contract teacher, and student’s percentile in the initial distribution. Calculate standard  errors using both the conventional robust formula and clustering based on the school. Compare the two sets of standard errors. Which standard error changes the most by clustering? Which  changes the least? Why is this happening? \n",
    "\n",
    "##### f. How does the coefficient on tracking change by inclusion of the individual controls (in comparison  to the results from b? Why is this happening ? \n",
    "\n",
    "##### g. On e. you included as control the continuous variable percentile, which recorded the student’s initial test score (as a percentile). Now investigate the specification of this control using local linear regression. Take the subsample of 1,487 girls who experienced tracking and estimate the regression of testscores  on percentile. For this application, use unstandardized test scores, which range from 0 to about 40. Then use local linear regression with a Gaussian kernel. Select a bandwidth for this model. Support your selection by comparing different bandiwith selection options.\n",
    "\n",
    "##### h. For the model on g.  calculate the local linear estimator of the regression function and the corresponding standard errors. Plot the point estimate and 95% confidence interval for this local regression. What is your conclussion from doing this? \n",
    "\n",
    "##### i. Now take subsample of boys who experienced tracking. Use the local linear estimator to estimate the regression of testscores on percentile, but now with the subsample  of boys. Plot with 95% confidence intervals. Comment on the similarities and differences with the estimate for the subsample of girls. \n",
    "\n",
    "##### j. Finally take the subsample of  students for which tracking = 1. Estimate linear quantile regressions of totalscore on percentile(the latter is the  student’s test score before the school year). Calculate standard errors by clustered bootstrap. Do the coefficients  change meaningfully by quantile? How do you interpret these results?  \n"
   ]
  },
  {
   "cell_type": "markdown",
   "metadata": {},
   "source": [
    "# Part 3 \n",
    "\n",
    "### Fixed Effects Models (15 points)\n",
    "\n",
    "These questions ask you to analyze a panel data set which describes the evolution of wages for a group of individuals across time. The data set is called WagesPanel.csv and is available in Canvas.  \n"
   ]
  },
  {
   "cell_type": "markdown",
   "metadata": {},
   "source": [
    "##### a. Generate a plot that describes the evolution of wages over time for all individuals in the sample. This panel can be better analyzed using a fixed effect model. \n",
    "\n",
    "In this type of models we need to take into account individual differences by calculating constant terms for different individuals such that: \n",
    "\n",
    "$$ Y_{i,t}=\\beta_{1t} + \\beta_{2t}*X_{2t}+ \\beta_{3t}*X_{3t}+\\epsilon_{it}$$\n",
    "\n",
    "##### b. Evidently, variables that do not change over time should not be included in the model because they will be collinear with respect to the fixed effects. Find these variables and remove these from the dataset.  \n",
    "\n",
    "##### c. Now, consider that the outcome of interest is wages, estimate the fixed effects models such that you consider at least work experience, job tenure in years, union membership. What can you conclude from this model ? \n",
    "\n",
    "##### d.How precise are your estimates? If you do not have precise estimates, think of a strategy you can follow to correct for unprecise estimates. Which is the most relevant factor determining wages in the long term? \n"
   ]
  },
  {
   "cell_type": "markdown",
   "metadata": {},
   "source": [
    "# Part 4 \n",
    "\n",
    "### Cox, Hansen, and Jimenez (2004) (35 points)\n",
    "\n",
    "Us the dataset CHJ2004, which is a sample of 8684 urban Philippino households  from Cox, B. Hansen, and Jimenez (2004). This paper studied the crowding-out impact of a family’s income  on nongovernmental (e.g., extended family) income transfers. \n"
   ]
  },
  {
   "cell_type": "markdown",
   "metadata": {},
   "source": [
    "##### a. A model of altruistic transfers predicts that  extended families will make gifts (transfers) when the recipient family’s income is sufficiently low, but will not  make transfers if the recipient family’s income exceeds a threshold. Regress transfers on total income. Do you find evidence to support this hypothesis? \n",
    "\n",
    "##### b. A pure altruistic model predicts that the  regression of transfers received on family income should have a slope of −1 up to this threshold and be flat  above this threshold. Regress transfers on total income accross different income levels. Do you find evidence to support this hypothesis? \n",
    "\n",
    "##### c. Run the same regression in b, but adding controls. Justify your selection of controls. Do you identify problems of correlation in your controls? Do your selection avoids selection bias or omitted variables bias? How do you deal with the efficiency-biass trade-off of adding controls? \n",
    "\n",
    "##### d. Regress transfer on income and controls using a linear spline. Select  five different knots for your model. Justify your selection of knots. \n",
    "\n",
    "##### e. Compare the results of c and d. How are these different? Do you see any benefit of using a linear spline? Which model do you think is more suitable for this analysis? \n",
    "\n",
    "##### f. For the model on d. Plot Transfers on income. Is this evidence  consistent  with the pure altruism model or the model of altruistic transfers?\n",
    "\n",
    "##### g. Estimate an analog to d. using polynomial regression. Regress transfers on a high-order polynomial in income, and possibly a set of regression controls. Ideally, select the polynomial order by cross-validation or other combination of fit performance metrics. Plot the estimated function along with 95% pointwise confidence intervals. Comment on the similarities and differences with the model on d. \n",
    "\n",
    "##### h. For the regression controls in models on d. and g. Estimate both models using different combination of controsl: (a) no controls, (b) variables 12–26 listed in the data description file, (c) Make your own selection, based on cross-validation. Compare the effect of income on transfers accross the three subsets of controls. How does these vary? which one you would select?  "
   ]
  }
 ],
 "metadata": {
  "kernelspec": {
   "display_name": "R",
   "language": "R",
   "name": "ir"
  },
  "language_info": {
   "codemirror_mode": "r",
   "file_extension": ".r",
   "mimetype": "text/x-r-source",
   "name": "R",
   "pygments_lexer": "r",
   "version": "4.0.3"
  }
 },
 "nbformat": 4,
 "nbformat_minor": 4
}
