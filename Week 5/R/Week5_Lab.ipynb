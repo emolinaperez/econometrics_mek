{
  "nbformat": 4,
  "nbformat_minor": 0,
  "metadata": {
    "colab": {
      "provenance": [],
      "machine_shape": "hm",
      "authorship_tag": "ABX9TyNvo1IdYWK6Nn1qRL8yNF54",
      "include_colab_link": true
    },
    "kernelspec": {
      "name": "ir",
      "display_name": "R"
    },
    "language_info": {
      "name": "R"
    }
  },
  "cells": [
    {
      "cell_type": "markdown",
      "metadata": {
        "id": "view-in-github",
        "colab_type": "text"
      },
      "source": [
        "<a href=\"https://colab.research.google.com/github/emolinaperez/econometrics_mek/blob/main/Week%205/R/Week5_Lab.ipynb\" target=\"_parent\"><img src=\"https://colab.research.google.com/assets/colab-badge.svg\" alt=\"Open In Colab\"/></a>"
      ]
    },
    {
      "cell_type": "markdown",
      "source": [
        "# Lab 5: Econometrics"
      ],
      "metadata": {
        "id": "_eP9QH_vMHvc"
      }
    },
    {
      "cell_type": "code",
      "source": [
        "# load packages\n",
        "if (!require(pacman)) install.packages(\"pacman\")\n",
        "p_load('ggplot2', 'sandwich','lmtest', 'estimatr', 'clubSandwich','stargazer') # clubSandwich: for clustered robust standard errors\n"
      ],
      "metadata": {
        "colab": {
          "base_uri": "https://localhost:8080/"
        },
        "id": "I9sdpntIMEDD",
        "outputId": "22cdf63a-898d-41c3-b3c8-5705f1e0a25a"
      },
      "execution_count": 2,
      "outputs": [
        {
          "output_type": "stream",
          "name": "stderr",
          "text": [
            "Loading required package: pacman\n",
            "\n",
            "Installing package into ‘/usr/local/lib/R/site-library’\n",
            "(as ‘lib’ is unspecified)\n",
            "\n",
            "also installing the dependency ‘zoo’\n",
            "\n",
            "\n",
            "\n",
            "sandwich installed\n",
            "\n",
            "Installing package into ‘/usr/local/lib/R/site-library’\n",
            "(as ‘lib’ is unspecified)\n",
            "\n",
            "\n",
            "lmtest installed\n",
            "\n",
            "Installing package into ‘/usr/local/lib/R/site-library’\n",
            "(as ‘lib’ is unspecified)\n",
            "\n",
            "also installing the dependencies ‘Formula’, ‘RcppEigen’\n",
            "\n",
            "\n",
            "\n",
            "estimatr installed\n",
            "\n",
            "Installing package into ‘/usr/local/lib/R/site-library’\n",
            "(as ‘lib’ is unspecified)\n",
            "\n",
            "\n",
            "clubSandwich installed\n",
            "\n",
            "Installing package into ‘/usr/local/lib/R/site-library’\n",
            "(as ‘lib’ is unspecified)\n",
            "\n",
            "\n",
            "stargazer installed\n",
            "\n"
          ]
        }
      ]
    },
    {
      "cell_type": "markdown",
      "source": [
        "# 1. Load the dataset  \n",
        "\n",
        "Peer Effects, Teacher Incentives, and the Impact of Tracking: Evidence from a Randomized Evaluation in Kenya"
      ],
      "metadata": {
        "id": "-7eIES_hT1NM"
      }
    },
    {
      "cell_type": "code",
      "source": [
        "data <- read.csv(\"https://raw.githubusercontent.com/emolinaperez/econometrics_mek/main/Week%205/data/DDK2011_corrected.csv\")"
      ],
      "metadata": {
        "id": "cTClnj7nMY0L"
      },
      "execution_count": 3,
      "outputs": []
    },
    {
      "cell_type": "markdown",
      "source": [
        "# 2. Data Cleaning and Preparation"
      ],
      "metadata": {
        "id": "ow5ibSsZT5KG"
      }
    },
    {
      "cell_type": "code",
      "source": [
        "# Check for missing values\n",
        "summary(data)"
      ],
      "metadata": {
        "colab": {
          "base_uri": "https://localhost:8080/",
          "height": 1000
        },
        "id": "4uCWQrtDT46A",
        "outputId": "3c5a4939-04f4-4b9c-f3fe-07152f4a2e20"
      },
      "execution_count": 4,
      "outputs": [
        {
          "output_type": "display_data",
          "data": {
            "text/plain": [
              "    pupilid            schoolid      district            bungoma      \n",
              " Min.   : 4301001   Min.   : 430   Length:7022        Min.   :0.0000  \n",
              " 1st Qu.: 6921029   1st Qu.: 692   Class :character   1st Qu.:0.0000  \n",
              " Median : 7951019   Median : 795   Mode  :character   Median :0.0000  \n",
              " Mean   : 7831203   Mean   : 783                      Mean   :0.2418  \n",
              " 3rd Qu.: 9381056   3rd Qu.: 938                      3rd Qu.:0.0000  \n",
              " Max.   :10201055   Max.   :1020                      Max.   :1.0000  \n",
              "                                                                      \n",
              "   division             zone              tracking           sbm        \n",
              " Length:7022        Length:7022        Min.   :0.0000   Min.   :0.0000  \n",
              " Class :character   Class :character   1st Qu.:0.0000   1st Qu.:0.0000  \n",
              " Mode  :character   Mode  :character   Median :1.0000   Median :1.0000  \n",
              "                                       Mean   :0.5145   Mean   :0.5084  \n",
              "                                       3rd Qu.:1.0000   3rd Qu.:1.0000  \n",
              "                                       Max.   :1.0000   Max.   :1.0000  \n",
              "                                                                        \n",
              "      girl           agetest         etpteacher       lowstream     \n",
              " Min.   :0.0000   Min.   : 5.000   Min.   :0.0000   Min.   :0.0000  \n",
              " 1st Qu.:0.0000   1st Qu.: 8.000   1st Qu.:0.0000   1st Qu.:0.0000  \n",
              " Median :0.0000   Median : 9.000   Median :0.0000   Median :0.0000  \n",
              " Mean   :0.4954   Mean   : 9.275   Mean   :0.4963   Mean   :0.2575  \n",
              " 3rd Qu.:1.0000   3rd Qu.:10.000   3rd Qu.:1.0000   3rd Qu.:1.0000  \n",
              " Max.   :1.0000   Max.   :19.000   Max.   :1.0000   Max.   :1.0000  \n",
              " NA's   :27       NA's   :522                                       \n",
              " stream_meanpercentile SDstream_std_mark MEANstream_std_mark   bottomhalf    \n",
              " Min.   :23.81         Min.   :0.1541    Min.   :-0.9066     Min.   :0.0000  \n",
              " 1st Qu.:26.94         1st Qu.:0.5428    1st Qu.:-0.7417     1st Qu.:0.0000  \n",
              " Median :51.09         Median :0.7965    Median : 0.0058     Median :0.0000  \n",
              " Mean   :50.64         Mean   :0.7596    Mean   : 0.0001     Mean   :0.4953  \n",
              " 3rd Qu.:73.79         3rd Qu.:0.9880    3rd Qu.: 0.7353     3rd Qu.:1.0000  \n",
              " Max.   :76.72         Max.   :1.1925    Max.   : 0.8895     Max.   :1.0000  \n",
              " NA's   :560           NA's   :729       NA's   :729         NA's   :591     \n",
              "    tophalf       bottomquarter   secondquarter     thirdquarter   \n",
              " Min.   :0.0000   Min.   :0.000   Min.   :0.0000   Min.   :0.0000  \n",
              " 1st Qu.:0.0000   1st Qu.:0.000   1st Qu.:0.0000   1st Qu.:0.0000  \n",
              " Median :1.0000   Median :0.000   Median :0.0000   Median :0.0000  \n",
              " Mean   :0.5047   Mean   :0.237   Mean   :0.2522   Mean   :0.2505  \n",
              " 3rd Qu.:1.0000   3rd Qu.:0.000   3rd Qu.:1.0000   3rd Qu.:1.0000  \n",
              " Max.   :1.0000   Max.   :1.000   Max.   :1.0000   Max.   :1.0000  \n",
              " NA's   :591      NA's   :591     NA's   :591      NA's   :591     \n",
              "   topquarter        std_mark         percentile      realpercentile  \n",
              " Min.   :0.0000   Min.   :-2.8400   Min.   : 0.3546   Min.   :  1.00  \n",
              " 1st Qu.:0.0000   1st Qu.:-0.7711   1st Qu.:26.2202   1st Qu.: 27.00  \n",
              " Median :0.0000   Median :-0.0374   Median :50.8772   Median : 51.00  \n",
              " Mean   :0.3226   Mean   : 0.0103   Mean   :50.7976   Mean   : 51.29  \n",
              " 3rd Qu.:1.0000   3rd Qu.: 0.7556   3rd Qu.:75.6503   3rd Qu.: 76.00  \n",
              " Max.   :1.0000   Max.   : 3.8487   Max.   :99.7059   Max.   :100.00  \n",
              "                  NA's   :758       NA's   :591       NA's   :591     \n",
              "   quantile5p      attrition        w_correct      w_incorrect    \n",
              " Min.   : 1.00   Min.   :0.0000   Min.   : 0.00   Min.   : 0.000  \n",
              " 1st Qu.: 6.00   1st Qu.:0.0000   1st Qu.: 8.00   1st Qu.: 4.000  \n",
              " Median :11.00   Median :0.0000   Median :12.00   Median : 9.000  \n",
              " Mean   :10.65   Mean   :0.1745   Mean   :12.34   Mean   : 8.524  \n",
              " 3rd Qu.:16.00   3rd Qu.:0.0000   3rd Qu.:16.00   3rd Qu.:13.000  \n",
              " Max.   :20.00   Max.   :1.0000   Max.   :24.00   Max.   :24.000  \n",
              " NA's   :591                      NA's   :1231    NA's   :1231    \n",
              "   w_missing        w_blanks           s_correct      s_incorrect   \n",
              " Min.   : 0.000   Length:7022        Min.   : 0.00   Min.   : 0.00  \n",
              " 1st Qu.: 0.000   Class :character   1st Qu.: 7.00   1st Qu.: 4.00  \n",
              " Median : 0.000   Mode  :character   Median :11.00   Median : 9.00  \n",
              " Mean   : 3.138                      Mean   :12.78   Mean   :10.09  \n",
              " 3rd Qu.: 2.000                      3rd Qu.:18.00   3rd Qu.:15.00  \n",
              " Max.   :25.000                      Max.   :39.00   Max.   :37.00  \n",
              " NA's   :1228                        NA's   :1227    NA's   :1228   \n",
              "   s_missing       s_blanks           a1_correct      a2_correct   \n",
              " Min.   : 0.00   Length:7022        Min.   :0.000   Min.   :0.000  \n",
              " 1st Qu.:10.00   Class :character   1st Qu.:2.000   1st Qu.:1.000  \n",
              " Median :20.00   Mode  :character   Median :3.000   Median :2.000  \n",
              " Mean   :17.07                      Mean   :2.299   Mean   :1.972  \n",
              " 3rd Qu.:25.00                      3rd Qu.:3.000   3rd Qu.:3.000  \n",
              " Max.   :40.00                      Max.   :3.000   Max.   :3.000  \n",
              " NA's   :1227                       NA's   :1231    NA's   :1229   \n",
              "   a3_correct       a4_correct       a5_correct       a6_correct    \n",
              " Min.   :0.0000   Min.   :0.0000   Min.   :0.0000   Min.   :0.0000  \n",
              " 1st Qu.:0.0000   1st Qu.:0.0000   1st Qu.:0.0000   1st Qu.:0.0000  \n",
              " Median :1.0000   Median :1.0000   Median :0.0000   Median :0.0000  \n",
              " Mean   :0.8338   Mean   :0.9584   Mean   :0.7457   Mean   :0.5335  \n",
              " 3rd Qu.:1.0000   3rd Qu.:2.0000   3rd Qu.:2.0000   3rd Qu.:1.0000  \n",
              " Max.   :3.0000   Max.   :3.0000   Max.   :3.0000   Max.   :3.0000  \n",
              " NA's   :1228     NA's   :1230     NA's   :1233     NA's   :1268    \n",
              "   a7_correct       a8_correct     spelling_correct      l_hr      \n",
              " Min.   :0.0000   Min.   :0.0000   Min.   : 0.00    Min.   : 0.00  \n",
              " 1st Qu.:0.0000   1st Qu.:0.0000   1st Qu.: 0.00    1st Qu.:11.00  \n",
              " Median :0.0000   Median :0.0000   Median : 0.00    Median :11.00  \n",
              " Mean   :0.2056   Mean   :0.0177   Mean   : 2.24    Mean   :11.03  \n",
              " 3rd Qu.:0.0000   3rd Qu.:0.0000   3rd Qu.: 4.00    3rd Qu.:12.00  \n",
              " Max.   :3.0000   Max.   :3.0000   Max.   :10.00    Max.   :16.00  \n",
              " NA's   :1273     NA's   :1274     NA's   :1231     NA's   :1328   \n",
              "     l_min          l_tried         l_errors          l_time     \n",
              " Min.   : 0.00   Min.   : 0.00   Min.   : 0.000   Min.   : 0.00  \n",
              " 1st Qu.:14.00   1st Qu.:15.00   1st Qu.: 2.000   1st Qu.:52.00  \n",
              " Median :30.00   Median :25.00   Median : 5.000   Median :56.00  \n",
              " Mean   :29.32   Mean   :27.47   Mean   : 5.838   Mean   :53.38  \n",
              " 3rd Qu.:44.00   3rd Qu.:40.00   3rd Qu.: 8.000   3rd Qu.:58.00  \n",
              " Max.   :59.00   Max.   :70.00   Max.   :62.000   Max.   :60.00  \n",
              " NA's   :1296    NA's   :1253    NA's   :1748     NA's   :6856   \n",
              "   wordscore        sentscore      letterscore    letterscoreraw \n",
              " Min.   : 0.000   Min.   : 0.00   Min.   : 0.00   Min.   : 0.00  \n",
              " 1st Qu.: 0.000   1st Qu.: 0.00   1st Qu.: 6.00   1st Qu.:11.00  \n",
              " Median : 2.000   Median : 2.00   Median :18.00   Median :22.00  \n",
              " Mean   : 5.841   Mean   : 4.29   Mean   :22.19   Mean   :26.38  \n",
              " 3rd Qu.:10.000   3rd Qu.: 6.00   3rd Qu.:35.00   3rd Qu.:39.00  \n",
              " Max.   :24.000   Max.   :38.00   Max.   :70.00   Max.   :70.00  \n",
              " NA's   :1231     NA's   :1225    NA's   :1226    NA's   :2200   \n",
              "   spellscore      sentscore24     letterscore24     spellscore24   \n",
              " Min.   : 0.000   Min.   : 0.000   Min.   : 0.000   Min.   : 0.000  \n",
              " 1st Qu.: 0.000   1st Qu.: 0.000   1st Qu.: 2.057   1st Qu.: 0.000  \n",
              " Median : 0.000   Median : 1.200   Median : 6.171   Median : 0.000  \n",
              " Mean   : 2.238   Mean   : 2.574   Mean   : 7.608   Mean   : 5.371  \n",
              " 3rd Qu.: 4.000   3rd Qu.: 3.600   3rd Qu.:12.000   3rd Qu.: 9.600  \n",
              " Max.   :10.000   Max.   :22.800   Max.   :24.000   Max.   :24.000  \n",
              " NA's   :1225     NA's   :1225     NA's   :1226     NA's   :1225    \n",
              "    litscore      additions_score substractions_score multiplications_score\n",
              " Min.   : 0.000   Min.   :0.000   Min.   :0.000       Min.   :0.0000       \n",
              " 1st Qu.: 1.286   1st Qu.:2.000   1st Qu.:1.000       1st Qu.:0.0000       \n",
              " Median : 3.032   Median :4.000   Median :3.000       Median :0.0000       \n",
              " Mean   : 5.347   Mean   :3.659   Mean   :3.132       Mean   :0.7623       \n",
              " 3rd Qu.: 7.886   3rd Qu.:5.000   3rd Qu.:5.000       3rd Qu.:2.0000       \n",
              " Max.   :23.614   Max.   :9.000   Max.   :9.000       Max.   :6.0000       \n",
              " NA's   :1226     NA's   :1225    NA's   :1225        NA's   :1225         \n",
              "  mathscoreraw      totalscore     rMEANstream_std_baselinemark\n",
              " Min.   : 0.000   Min.   : 0.000   Min.   :-0.9379             \n",
              " 1st Qu.: 4.000   1st Qu.: 5.736   1st Qu.:-0.7562             \n",
              " Median : 8.000   Median :11.100   Median :-0.0004             \n",
              " Mean   : 7.555   Mean   :12.903   Mean   : 0.0002             \n",
              " 3rd Qu.:11.000   3rd Qu.:18.443   3rd Qu.: 0.7415             \n",
              " Max.   :24.000   Max.   :43.100   Max.   : 0.9027             \n",
              " NA's   :1226     NA's   :1227     NA's   :729                 \n",
              " rSDstream_std_baselinemark rMEANstream_std_total rSDstream_std_total\n",
              " Min.   :0.1496             Min.   :-0.8123       Min.   :0.3801     \n",
              " 1st Qu.:0.5378             1st Qu.:-0.2999       1st Qu.:0.8251     \n",
              " Median :0.7888             Median : 0.0030       Median :0.9399     \n",
              " Mean   :0.7592             Mean   :-0.0026       Mean   :0.9209     \n",
              " 3rd Qu.:0.9833             3rd Qu.: 0.3003       3rd Qu.:1.0433     \n",
              " Max.   :1.2020             Max.   : 0.8233       Max.   :1.2371     \n",
              " NA's   :729                NA's   :729           NA's   :729        \n",
              " rMEANstream_std_math rSDstream_std_math rMEANstream_std_lit rSDstream_std_lit\n",
              " Min.   :-0.9111      Min.   :0.4783     Min.   :-0.7213     Min.   :0.1823   \n",
              " 1st Qu.:-0.2706      1st Qu.:0.8326     1st Qu.:-0.2400     1st Qu.:0.8260   \n",
              " Median : 0.0000      Median :0.9423     Median :-0.0008     Median :0.9767   \n",
              " Mean   :-0.0032      Mean   :0.9323     Mean   :-0.0018     Mean   :0.9269   \n",
              " 3rd Qu.: 0.2572      3rd Qu.:1.0438     3rd Qu.: 0.2557     3rd Qu.:1.0832   \n",
              " Max.   : 0.7831      Max.   :1.3091     Max.   : 0.7966     Max.   :1.4362   \n",
              " NA's   :729          NA's   :729        NA's   :729         NA's   :729      \n",
              "  r2_attrition        r2_age        r2_w_correct  r2_w_incorrect \n",
              " Min.   :0.0000   Min.   :  1.00   Min.   : 0     Min.   : 0.00  \n",
              " 1st Qu.:0.0000   1st Qu.:  9.00   1st Qu.:11     1st Qu.: 2.00  \n",
              " Median :0.0000   Median : 10.00   Median :16     Median : 8.00  \n",
              " Mean   :0.2167   Mean   : 10.08   Mean   :16     Mean   : 7.59  \n",
              " 3rd Qu.:0.0000   3rd Qu.: 10.00   3rd Qu.:22     3rd Qu.:12.00  \n",
              " Max.   :1.0000   Max.   :999.00   Max.   :24     Max.   :24.00  \n",
              " NA's   :7        NA's   :1549     NA's   :1532   NA's   :1567   \n",
              "  r2_w_missing      r2_s_correct   r2_s_incorrect   r2_s_missing   \n",
              " Min.   : 0.0000   Min.   : 0.00   Min.   : 0.00   Min.   : 0.000  \n",
              " 1st Qu.: 0.0000   1st Qu.:14.00   1st Qu.: 5.00   1st Qu.: 0.000  \n",
              " Median : 0.0000   Median :19.00   Median :12.00   Median : 0.000  \n",
              " Mean   : 0.4629   Mean   :20.23   Mean   :11.93   Mean   : 7.752  \n",
              " 3rd Qu.: 0.0000   3rd Qu.:25.00   3rd Qu.:18.00   3rd Qu.:15.000  \n",
              " Max.   :24.0000   Max.   :40.00   Max.   :37.00   Max.   :40.000  \n",
              " NA's   :1576      NA's   :1527    NA's   :1529    NA's   :1534    \n",
              " r2_a1_correct   r2_a2_correct   r2_a3_correct   r2_a4_correct  \n",
              " Min.   :0.000   Min.   :0.000   Min.   :0.000   Min.   :0.000  \n",
              " 1st Qu.:2.000   1st Qu.:2.000   1st Qu.:0.000   1st Qu.:0.000  \n",
              " Median :3.000   Median :3.000   Median :1.000   Median :2.000  \n",
              " Mean   :2.561   Mean   :2.244   Mean   :1.459   Mean   :1.476  \n",
              " 3rd Qu.:3.000   3rd Qu.:3.000   3rd Qu.:3.000   3rd Qu.:2.000  \n",
              " Max.   :3.000   Max.   :3.000   Max.   :3.000   Max.   :3.000  \n",
              " NA's   :1539    NA's   :1538    NA's   :1538    NA's   :1543   \n",
              " r2_a5_correct   r2_a6_correct   r2_a7_correct    r2_a8_correct   \n",
              " Min.   :0.000   Min.   :0.000   Min.   :0.0000   Min.   :0.0000  \n",
              " 1st Qu.:0.000   1st Qu.:0.000   1st Qu.:0.0000   1st Qu.:0.0000  \n",
              " Median :1.000   Median :1.000   Median :0.0000   Median :0.0000  \n",
              " Mean   :1.221   Mean   :1.113   Mean   :0.5869   Mean   :0.1256  \n",
              " 3rd Qu.:2.000   3rd Qu.:2.000   3rd Qu.:1.0000   3rd Qu.:0.0000  \n",
              " Max.   :3.000   Max.   :3.000   Max.   :3.0000   Max.   :3.0000  \n",
              " NA's   :1550    NA's   :1585    NA's   :1626     NA's   :1649    \n",
              " r2_spelling_correct    r2_l_hr        r2_l_min       r2_l_tried   \n",
              " Min.   : 0.000      Min.   : 0.0   Min.   : 0.00   Min.   : 0.00  \n",
              " 1st Qu.: 0.000      1st Qu.:11.0   1st Qu.:14.00   1st Qu.:23.00  \n",
              " Median : 3.000      Median :11.0   Median :29.50   Median :41.00  \n",
              " Mean   : 3.718      Mean   :11.2   Mean   :29.42   Mean   :39.84  \n",
              " 3rd Qu.: 7.000      3rd Qu.:12.0   3rd Qu.:44.00   3rd Qu.:60.00  \n",
              " Max.   :10.000      Max.   :16.0   Max.   :59.00   Max.   :70.00  \n",
              " NA's   :1549        NA's   :1548   NA's   :1550    NA's   :1620   \n",
              "  r2_l_errors       r2_l_time      r2_wordscore     r2_sentscore   \n",
              " Min.   : 0.000   Min.   : 0.00   Min.   : 0.000   Min.   : 0.000  \n",
              " 1st Qu.: 1.000   1st Qu.:49.00   1st Qu.: 0.000   1st Qu.: 0.000  \n",
              " Median : 4.000   Median :54.00   Median : 8.000   Median : 5.000  \n",
              " Mean   : 4.784   Mean   :52.23   Mean   : 9.843   Mean   : 9.712  \n",
              " 3rd Qu.: 7.000   3rd Qu.:57.00   3rd Qu.:20.000   3rd Qu.:16.000  \n",
              " Max.   :67.000   Max.   :60.00   Max.   :24.000   Max.   :40.000  \n",
              " NA's   :2038     NA's   :6148    NA's   :1570     NA's   :1527    \n",
              " r2_letterscore  r2_letterscoreraw r2_spellscore    r2_sentscore24  \n",
              " Min.   : 0.00   Min.   : 0.00     Min.   : 0.000   Min.   : 0.000  \n",
              " 1st Qu.:13.00   1st Qu.:19.00     1st Qu.: 0.000   1st Qu.: 0.000  \n",
              " Median :35.00   Median :39.00     Median : 3.000   Median : 3.000  \n",
              " Mean   :34.86   Mean   :38.99     Mean   : 3.703   Mean   : 5.827  \n",
              " 3rd Qu.:57.00   3rd Qu.:59.00     3rd Qu.: 7.000   3rd Qu.: 9.600  \n",
              " Max.   :70.00   Max.   :70.00     Max.   :10.000   Max.   :24.000  \n",
              " NA's   :1528    NA's   :2302      NA's   :1527     NA's   :1527    \n",
              " r2_letterscore24 r2_spellscore24   r2_litscore     r2_mathscoreraw\n",
              " Min.   : 0.000   Min.   : 0.000   Min.   : 0.000   Min.   : 0.00  \n",
              " 1st Qu.: 4.457   1st Qu.: 0.000   1st Qu.: 2.486   1st Qu.: 7.00  \n",
              " Median :12.000   Median : 7.200   Median : 6.700   Median :11.00  \n",
              " Mean   :11.951   Mean   : 8.888   Mean   : 9.107   Mean   :10.75  \n",
              " 3rd Qu.:19.543   3rd Qu.:16.800   3rd Qu.:16.014   3rd Qu.:15.00  \n",
              " Max.   :24.000   Max.   :24.000   Max.   :24.000   Max.   :24.00  \n",
              " NA's   :1528     NA's   :1527     NA's   :1527     NA's   :1533   \n",
              " r2_additions_score r2_substractions_score r2_multiplications_score\n",
              " Min.   :0.000      Min.   :0.000          Min.   :0.000           \n",
              " 1st Qu.:4.000      1st Qu.:3.000          1st Qu.:0.000           \n",
              " Median :5.000      Median :5.000          Median :1.000           \n",
              " Mean   :5.113      Mean   :4.287          Mean   :1.339           \n",
              " 3rd Qu.:7.000      3rd Qu.:6.000          3rd Qu.:3.000           \n",
              " Max.   :9.000      Max.   :9.000          Max.   :6.000           \n",
              " NA's   :1527       NA's   :1527           NA's   :1527            \n",
              " r2_totalscore  \n",
              " Min.   : 0.00  \n",
              " 1st Qu.:10.70  \n",
              " Median :18.51  \n",
              " Mean   :19.86  \n",
              " 3rd Qu.:29.70  \n",
              " Max.   :46.10  \n",
              " NA's   :1533   "
            ]
          },
          "metadata": {}
        }
      ]
    },
    {
      "cell_type": "code",
      "source": [
        "# Filter to include only non-missing total scores\n",
        "data_clean <- data[!is.na(data$totalscore), ]"
      ],
      "metadata": {
        "id": "HaRq4-dQT-mR"
      },
      "execution_count": 5,
      "outputs": []
    },
    {
      "cell_type": "markdown",
      "source": [
        "# 3. Exploratory Data Analysis"
      ],
      "metadata": {
        "id": "g3YtNZ23UClv"
      }
    },
    {
      "cell_type": "code",
      "source": [
        "# Summary statistics\n",
        "str(data_clean)"
      ],
      "metadata": {
        "colab": {
          "base_uri": "https://localhost:8080/"
        },
        "id": "CZXHMF7OUGe-",
        "outputId": "c97f35a2-53d6-46b5-9396-1745e8c8ed04"
      },
      "execution_count": 6,
      "outputs": [
        {
          "output_type": "stream",
          "name": "stdout",
          "text": [
            "'data.frame':\t5795 obs. of  106 variables:\n",
            " $ pupilid                     : int  4301003 4301004 4301005 4301007 4301009 4301010 4301011 4301012 4301013 4301014 ...\n",
            " $ schoolid                    : int  430 430 430 430 430 430 430 430 430 430 ...\n",
            " $ district                    : chr  \"BUNGOMA\" \"BUNGOMA\" \"BUNGOMA\" \"BUNGOMA\" ...\n",
            " $ bungoma                     : int  1 1 1 1 1 1 1 1 1 1 ...\n",
            " $ division                    : chr  \"KANDUYI\" \"KANDUYI\" \"KANDUYI\" \"KANDUYI\" ...\n",
            " $ zone                        : chr  \"MUNICIPALITY\" \"MUNICIPALITY\" \"MUNICIPALITY\" \"MUNICIPALITY\" ...\n",
            " $ tracking                    : int  1 1 1 1 1 1 1 1 1 1 ...\n",
            " $ sbm                         : int  1 1 1 1 1 1 1 1 1 1 ...\n",
            " $ girl                        : int  1 0 0 0 0 1 0 0 1 1 ...\n",
            " $ agetest                     : int  8 14 11 10 10 9 10 10 7 10 ...\n",
            " $ etpteacher                  : int  0 0 0 0 0 0 0 0 0 0 ...\n",
            " $ lowstream                   : int  1 1 1 1 1 1 1 1 1 1 ...\n",
            " $ stream_meanpercentile       : num  25.1 25.1 25.1 25.1 25.1 ...\n",
            " $ SDstream_std_mark           : num  0.669 0.669 0.669 0.669 0.669 ...\n",
            " $ MEANstream_std_mark         : num  -0.819 -0.819 -0.819 -0.819 -0.819 ...\n",
            " $ bottomhalf                  : int  1 1 1 1 1 1 1 1 1 1 ...\n",
            " $ tophalf                     : int  0 0 0 0 0 0 0 0 0 0 ...\n",
            " $ bottomquarter               : int  1 1 1 1 1 1 1 1 1 1 ...\n",
            " $ secondquarter               : int  0 0 0 0 0 0 0 0 0 0 ...\n",
            " $ thirdquarter                : int  0 0 0 0 0 0 0 0 0 0 ...\n",
            " $ topquarter                  : int  0 0 0 0 0 0 0 0 0 0 ...\n",
            " $ std_mark                    : num  -2.15 -1.88 -1.81 -1.19 -1.36 ...\n",
            " $ percentile                  : num  3.21 4.49 5.77 8.33 10.9 ...\n",
            " $ realpercentile              : int  4 5 6 9 11 13 14 15 17 18 ...\n",
            " $ quantile5p                  : int  1 1 2 2 3 3 3 3 4 4 ...\n",
            " $ attrition                   : int  0 0 0 0 0 0 0 0 0 0 ...\n",
            " $ w_correct                   : int  8 0 8 8 3 8 3 7 6 13 ...\n",
            " $ w_incorrect                 : int  16 9 16 16 16 16 3 17 3 11 ...\n",
            " $ w_missing                   : int  0 15 0 0 5 0 18 0 15 0 ...\n",
            " $ w_blanks                    : chr  \"\" \"\" \"\" \"\" ...\n",
            " $ s_correct                   : int  18 2 4 7 17 9 4 7 3 10 ...\n",
            " $ s_incorrect                 : int  12 1 11 8 23 21 5 2 6 5 ...\n",
            " $ s_missing                   : int  10 37 25 25 0 10 31 31 31 25 ...\n",
            " $ s_blanks                    : chr  \"\" \"\" \"\" \"\" ...\n",
            " $ a1_correct                  : int  1 0 2 1 3 3 3 3 3 3 ...\n",
            " $ a2_correct                  : int  1 0 3 2 1 2 3 3 3 3 ...\n",
            " $ a3_correct                  : int  0 0 1 1 0 1 1 0 1 2 ...\n",
            " $ a4_correct                  : int  0 0 2 2 0 1 2 0 1 2 ...\n",
            " $ a5_correct                  : int  0 0 0 0 0 0 0 2 0 0 ...\n",
            " $ a6_correct                  : int  0 0 1 0 0 0 1 0 0 0 ...\n",
            " $ a7_correct                  : int  0 0 0 0 0 0 1 0 0 0 ...\n",
            " $ a8_correct                  : int  0 0 0 0 0 0 0 0 0 0 ...\n",
            " $ spelling_correct            : int  0 0 0 0 0 0 3 0 1 1 ...\n",
            " $ l_hr                        : int  11 12 12 12 11 12 12 12 11 12 ...\n",
            " $ l_min                       : int  49 16 28 36 43 29 38 24 15 35 ...\n",
            " $ l_tried                     : int  0 10 18 17 20 35 42 36 46 32 ...\n",
            " $ l_errors                    : int  0 9 8 10 6 3 1 7 1 4 ...\n",
            " $ l_time                      : int  NA NA NA NA NA NA NA NA NA NA ...\n",
            " $ wordscore                   : int  0 0 0 0 0 0 0 0 3 2 ...\n",
            " $ sentscore                   : int  6 1 0 0 0 0 0 5 0 5 ...\n",
            " $ letterscore                 : int  0 1 10 7 14 32 41 29 45 28 ...\n",
            " $ letterscoreraw              : int  NA 1 10 7 14 32 41 29 45 28 ...\n",
            " $ spellscore                  : int  0 0 0 0 0 0 3 0 1 1 ...\n",
            " $ sentscore24                 : num  3.6 0.6 0 0 0 ...\n",
            " $ letterscore24               : num  0 0.343 3.429 2.4 4.8 ...\n",
            " $ spellscore24                : num  0 0 0 0 0 ...\n",
            " $ litscore                    : num  0.9 0.236 0.857 0.6 1.2 ...\n",
            " $ additions_score             : int  1 0 4 2 3 4 5 3 4 5 ...\n",
            " $ substractions_score         : int  1 0 5 4 1 3 6 3 4 5 ...\n",
            " $ multiplications_score       : int  0 0 0 0 0 0 0 2 0 0 ...\n",
            " $ mathscoreraw                : int  2 0 9 6 4 7 11 8 8 10 ...\n",
            " $ totalscore                  : num  2.9 0.236 9.857 6.6 5.2 ...\n",
            " $ rMEANstream_std_baselinemark: num  -0.833 -0.83 -0.829 -0.827 -0.827 ...\n",
            " $ rSDstream_std_baselinemark  : num  0.657 0.666 0.668 0.677 0.676 ...\n",
            " $ rMEANstream_std_total       : num  -0.303 -0.299 -0.317 -0.309 -0.306 ...\n",
            " $ rSDstream_std_total         : num  0.705 0.684 0.721 0.719 0.715 ...\n",
            " $ rMEANstream_std_math        : num  -0.253 -0.248 -0.285 -0.268 -0.259 ...\n",
            " $ rSDstream_std_math          : num  0.976 0.954 0.978 0.989 0.987 ...\n",
            " $ rMEANstream_std_lit         : num  -0.263 -0.261 -0.263 -0.262 -0.264 ...\n",
            " $ rSDstream_std_lit           : num  0.478 0.472 0.478 0.476 0.48 ...\n",
            " $ r2_attrition                : int  0 1 1 0 0 0 0 0 0 0 ...\n",
            " $ r2_age                      : int  8 NA NA 10 9 9 9 9 8 9 ...\n",
            " $ r2_w_correct                : int  8 NA NA 10 14 12 22 8 21 11 ...\n",
            " $ r2_w_incorrect              : int  16 NA NA 14 10 12 2 16 3 13 ...\n",
            " $ r2_w_missing                : int  0 NA NA 0 0 0 0 0 0 0 ...\n",
            " $ r2_s_correct                : int  16 NA NA 17 22 22 11 10 31 21 ...\n",
            " $ r2_s_incorrect              : int  9 NA NA 23 18 18 1 15 4 19 ...\n",
            " $ r2_s_missing                : int  15 NA NA 0 0 0 28 15 5 0 ...\n",
            " $ r2_a1_correct               : int  1 NA NA 2 3 3 3 3 2 3 ...\n",
            " $ r2_a2_correct               : int  1 NA NA 3 3 3 3 3 1 3 ...\n",
            " $ r2_a3_correct               : int  0 NA NA 0 1 1 2 2 2 2 ...\n",
            " $ r2_a4_correct               : int  0 NA NA 2 0 3 1 2 2 1 ...\n",
            " $ r2_a5_correct               : int  0 NA NA 0 0 3 3 2 0 2 ...\n",
            " $ r2_a6_correct               : int  0 NA NA 0 0 1 2 2 2 2 ...\n",
            " $ r2_a7_correct               : int  0 NA NA 1 0 0 0 0 1 2 ...\n",
            " $ r2_a8_correct               : int  0 NA NA 0 0 0 0 0 0 2 ...\n",
            " $ r2_spelling_correct         : int  0 NA NA 0 0 0 4 0 4 1 ...\n",
            " $ r2_l_hr                     : int  11 NA NA 11 10 11 11 11 11 11 ...\n",
            " $ r2_l_min                    : int  44 NA NA 20 50 2 34 27 26 25 ...\n",
            " $ r2_l_tried                  : int  0 NA NA 15 31 70 66 63 55 48 ...\n",
            " $ r2_l_errors                 : int  0 NA NA 8 6 0 0 1 1 9 ...\n",
            " $ r2_l_time                   : int  NA NA NA NA NA 58 NA NA NA NA ...\n",
            " $ r2_wordscore                : int  0 NA NA 0 4 0 20 0 18 0 ...\n",
            " $ r2_sentscore                : int  7 NA NA 0 4 4 10 0 27 2 ...\n",
            " $ r2_letterscore              : int  0 NA NA 7 25 70 66 62 54 39 ...\n",
            " $ r2_letterscoreraw           : int  NA NA NA 7 25 70 66 62 54 39 ...\n",
            " $ r2_spellscore               : int  0 NA NA 0 0 0 4 0 4 1 ...\n",
            " $ r2_sentscore24              : num  4.2 NA NA 0 2.4 ...\n",
            " $ r2_letterscore24            : num  0 NA NA 2.4 8.57 ...\n",
            "  [list output truncated]\n"
          ]
        }
      ]
    },
    {
      "cell_type": "markdown",
      "source": [
        "# 4. Descriptive Statistics (Replicating Table 1)"
      ],
      "metadata": {
        "id": "z-oBwTc3UW2U"
      }
    },
    {
      "cell_type": "code",
      "source": [
        "descriptive_stats <- function(var) {\n",
        "  mean_tracking <- mean(data_clean[data_clean$tracking == 1, var], na.rm = TRUE)\n",
        "  sd_tracking <- sd(data_clean[data_clean$tracking == 1, var], na.rm = TRUE)\n",
        "  mean_non_tracking <- mean(data_clean[data_clean$tracking == 0, var], na.rm = TRUE)\n",
        "  sd_non_tracking <- sd(data_clean[data_clean$tracking == 0, var], na.rm = TRUE)\n",
        "  p_value <- t.test(data_clean[data_clean$tracking == 1, var],\n",
        "                    data_clean[data_clean$tracking == 0, var])$p.value\n",
        "  return(c(mean_tracking, sd_tracking, mean_non_tracking, sd_non_tracking, p_value))\n",
        "}"
      ],
      "metadata": {
        "id": "LH4hJxtzUZtH"
      },
      "execution_count": 7,
      "outputs": []
    },
    {
      "cell_type": "code",
      "source": [
        "# Variables to analyze\n",
        "vars_to_analyze <- c(\"agetest\", \"girl\", \"std_mark\", \"totalscore\")"
      ],
      "metadata": {
        "id": "O_SAFkRyUbpY"
      },
      "execution_count": 8,
      "outputs": []
    },
    {
      "cell_type": "code",
      "source": [
        "# Apply the function to the variables\n",
        "descriptive_results <- t(sapply(vars_to_analyze, descriptive_stats))\n",
        "colnames(descriptive_results) <- c(\"Mean_Tracking\", \"SD_Tracking\", \"Mean_Non_Tracking\", \"SD_Non_Tracking\", \"P_Value\")"
      ],
      "metadata": {
        "id": "yDp8_8YaUdSy"
      },
      "execution_count": 9,
      "outputs": []
    },
    {
      "cell_type": "code",
      "source": [
        "# Convert to data frame for easier export\n",
        "descriptive_results_df <- data.frame(Variable = vars_to_analyze, descriptive_results)"
      ],
      "metadata": {
        "id": "dMbKsoSoUfka"
      },
      "execution_count": 10,
      "outputs": []
    },
    {
      "cell_type": "code",
      "source": [
        "# Display the descriptive statistics\n",
        "descriptive_results_df"
      ],
      "metadata": {
        "colab": {
          "base_uri": "https://localhost:8080/",
          "height": 224
        },
        "id": "6Q94MkBNUib8",
        "outputId": "8932a816-836a-4d30-c745-4cf89c31563a"
      },
      "execution_count": 12,
      "outputs": [
        {
          "output_type": "display_data",
          "data": {
            "text/html": [
              "<table class=\"dataframe\">\n",
              "<caption>A data.frame: 4 × 6</caption>\n",
              "<thead>\n",
              "\t<tr><th></th><th scope=col>Variable</th><th scope=col>Mean_Tracking</th><th scope=col>SD_Tracking</th><th scope=col>Mean_Non_Tracking</th><th scope=col>SD_Non_Tracking</th><th scope=col>P_Value</th></tr>\n",
              "\t<tr><th></th><th scope=col>&lt;chr&gt;</th><th scope=col>&lt;dbl&gt;</th><th scope=col>&lt;dbl&gt;</th><th scope=col>&lt;dbl&gt;</th><th scope=col>&lt;dbl&gt;</th><th scope=col>&lt;dbl&gt;</th></tr>\n",
              "</thead>\n",
              "<tbody>\n",
              "\t<tr><th scope=row>agetest</th><td>agetest   </td><td> 9.41249580</td><td>1.4495846</td><td> 9.23046736</td><td>1.4470327</td><td>1.836241e-06</td></tr>\n",
              "\t<tr><th scope=row>girl</th><td>girl      </td><td> 0.50219520</td><td>0.5000796</td><td> 0.47974414</td><td>0.4996783</td><td>8.805998e-02</td></tr>\n",
              "\t<tr><th scope=row>std_mark</th><td>std_mark  </td><td> 0.01328711</td><td>0.9808095</td><td> 0.04470219</td><td>0.9777390</td><td>2.543251e-01</td></tr>\n",
              "\t<tr><th scope=row>totalscore</th><td>totalscore</td><td>13.51444866</td><td>9.1654449</td><td>12.25625190</td><td>9.0102132</td><td>1.424393e-07</td></tr>\n",
              "</tbody>\n",
              "</table>\n"
            ],
            "text/markdown": "\nA data.frame: 4 × 6\n\n| <!--/--> | Variable &lt;chr&gt; | Mean_Tracking &lt;dbl&gt; | SD_Tracking &lt;dbl&gt; | Mean_Non_Tracking &lt;dbl&gt; | SD_Non_Tracking &lt;dbl&gt; | P_Value &lt;dbl&gt; |\n|---|---|---|---|---|---|---|\n| agetest | agetest    |  9.41249580 | 1.4495846 |  9.23046736 | 1.4470327 | 1.836241e-06 |\n| girl | girl       |  0.50219520 | 0.5000796 |  0.47974414 | 0.4996783 | 8.805998e-02 |\n| std_mark | std_mark   |  0.01328711 | 0.9808095 |  0.04470219 | 0.9777390 | 2.543251e-01 |\n| totalscore | totalscore | 13.51444866 | 9.1654449 | 12.25625190 | 9.0102132 | 1.424393e-07 |\n\n",
            "text/latex": "A data.frame: 4 × 6\n\\begin{tabular}{r|llllll}\n  & Variable & Mean\\_Tracking & SD\\_Tracking & Mean\\_Non\\_Tracking & SD\\_Non\\_Tracking & P\\_Value\\\\\n  & <chr> & <dbl> & <dbl> & <dbl> & <dbl> & <dbl>\\\\\n\\hline\n\tagetest & agetest    &  9.41249580 & 1.4495846 &  9.23046736 & 1.4470327 & 1.836241e-06\\\\\n\tgirl & girl       &  0.50219520 & 0.5000796 &  0.47974414 & 0.4996783 & 8.805998e-02\\\\\n\tstd\\_mark & std\\_mark   &  0.01328711 & 0.9808095 &  0.04470219 & 0.9777390 & 2.543251e-01\\\\\n\ttotalscore & totalscore & 13.51444866 & 9.1654449 & 12.25625190 & 9.0102132 & 1.424393e-07\\\\\n\\end{tabular}\n",
            "text/plain": [
              "           Variable   Mean_Tracking SD_Tracking Mean_Non_Tracking\n",
              "agetest    agetest     9.41249580   1.4495846    9.23046736      \n",
              "girl       girl        0.50219520   0.5000796    0.47974414      \n",
              "std_mark   std_mark    0.01328711   0.9808095    0.04470219      \n",
              "totalscore totalscore 13.51444866   9.1654449   12.25625190      \n",
              "           SD_Non_Tracking P_Value     \n",
              "agetest    1.4470327       1.836241e-06\n",
              "girl       0.4996783       8.805998e-02\n",
              "std_mark   0.9777390       2.543251e-01\n",
              "totalscore 9.0102132       1.424393e-07"
            ]
          },
          "metadata": {}
        }
      ]
    },
    {
      "cell_type": "code",
      "source": [
        "# Visualize the distribution of total scores by tracking status using ggplot\n",
        "p <- ggplot(data_clean, aes(x = totalscore, fill = factor(tracking))) +\n",
        "  geom_histogram(position = \"dodge\", bins = 30, alpha = 0.7) +\n",
        "  facet_wrap(~tracking, labeller = as_labeller(c(`0` = \"Non-Tracking Schools\", `1` = \"Tracking Schools\"))) +\n",
        "  scale_fill_manual(values = c(\"red\", \"blue\")) +\n",
        "  labs(title = \"Distribution of Total Scores by Tracking Status\",\n",
        "       x = \"Total Score\",\n",
        "       y = \"Frequency\",\n",
        "       fill = \"Tracking\") +\n",
        "  theme_minimal()\n",
        "p"
      ],
      "metadata": {
        "colab": {
          "base_uri": "https://localhost:8080/",
          "height": 437
        },
        "id": "3PzIQMS8Vg5U",
        "outputId": "1ca15be4-01bc-430f-fb20-5b559f8938fd"
      },
      "execution_count": 15,
      "outputs": [
        {
          "output_type": "display_data",
          "data": {
            "text/plain": [
              "plot without title"
            ],
            "image/png": "[encoded data removed]"
          },
          "metadata": {
            "image/png": {
              "width": 420,
              "height": 420
            }
          }
        }
      ]
    },
    {
      "cell_type": "markdown",
      "source": [
        "# 5. Replicating Key Results (Replicating Table 2)"
      ],
      "metadata": {
        "id": "zEQaslagVmsJ"
      }
    },
    {
      "cell_type": "code",
      "source": [
        "# Standardize\n",
        "# Z= X−μ/σ\n",
        "data_clean$totalscore_std <- scale(data_clean$totalscore)\n",
        "data_clean$mathscoreraw_std <- scale(data_clean$mathscoreraw)\n",
        "data_clean$litscore_std <- scale(data_clean$litscore)"
      ],
      "metadata": {
        "id": "689-FYdnVmBh"
      },
      "execution_count": 22,
      "outputs": []
    },
    {
      "cell_type": "code",
      "source": [
        "# OLS regression for Total Scores\n",
        "model_ols <- lm(totalscore_std ~ tracking, data = data_clean)\n",
        "summary(model_ols)"
      ],
      "metadata": {
        "colab": {
          "base_uri": "https://localhost:8080/",
          "height": 329
        },
        "id": "WjsiwaBAaxiL",
        "outputId": "19a48b08-43ce-44b2-a5f7-5b92b389239d"
      },
      "execution_count": 23,
      "outputs": [
        {
          "output_type": "display_data",
          "data": {
            "text/plain": [
              "\n",
              "Call:\n",
              "lm(formula = totalscore_std ~ tracking, data = data_clean)\n",
              "\n",
              "Residuals:\n",
              "    Min      1Q  Median      3Q     Max \n",
              "-1.4833 -0.7921 -0.1858  0.6179  3.3852 \n",
              "\n",
              "Coefficients:\n",
              "            Estimate Std. Error t value Pr(>|t|)    \n",
              "(Intercept) -0.07104    0.01881  -3.777  0.00016 ***\n",
              "tracking     0.13809    0.02622   5.266 1.44e-07 ***\n",
              "---\n",
              "Signif. codes:  0 ‘***’ 0.001 ‘**’ 0.01 ‘*’ 0.05 ‘.’ 0.1 ‘ ’ 1\n",
              "\n",
              "Residual standard error: 0.9977 on 5793 degrees of freedom\n",
              "Multiple R-squared:  0.004764,\tAdjusted R-squared:  0.004592 \n",
              "F-statistic: 27.73 on 1 and 5793 DF,  p-value: 1.444e-07\n"
            ]
          },
          "metadata": {}
        }
      ]
    },
    {
      "cell_type": "code",
      "source": [
        "#formatted summary table of the OLS regression\n",
        "stargazer(model_ols, type='text')"
      ],
      "metadata": {
        "colab": {
          "base_uri": "https://localhost:8080/"
        },
        "id": "4emFEBmea3yk",
        "outputId": "3b75eeac-aa98-40fd-8856-a94ef9625d70"
      },
      "execution_count": 24,
      "outputs": [
        {
          "output_type": "stream",
          "name": "stdout",
          "text": [
            "\n",
            "===============================================\n",
            "                        Dependent variable:    \n",
            "                    ---------------------------\n",
            "                          totalscore_std       \n",
            "-----------------------------------------------\n",
            "tracking                     0.138***          \n",
            "                              (0.026)          \n",
            "                                               \n",
            "Constant                     -0.071***         \n",
            "                              (0.019)          \n",
            "                                               \n",
            "-----------------------------------------------\n",
            "Observations                   5,795           \n",
            "R2                             0.005           \n",
            "Adjusted R2                    0.005           \n",
            "Residual Std. Error      0.998 (df = 5793)     \n",
            "F Statistic          27.731*** (df = 1; 5793)  \n",
            "===============================================\n",
            "Note:               *p<0.1; **p<0.05; ***p<0.01\n"
          ]
        }
      ]
    },
    {
      "cell_type": "code",
      "source": [
        "# OLS regression for Math Scores\n",
        "model_math <- lm(mathscoreraw_std ~ tracking, data = data_clean)\n",
        "summary(model_math)"
      ],
      "metadata": {
        "colab": {
          "base_uri": "https://localhost:8080/",
          "height": 329
        },
        "id": "y7gmYnC1bwbS",
        "outputId": "4352cc9a-975d-416f-d241-007334c4d572"
      },
      "execution_count": 27,
      "outputs": [
        {
          "output_type": "display_data",
          "data": {
            "text/plain": [
              "\n",
              "Call:\n",
              "lm(formula = mathscoreraw_std ~ tracking, data = data_clean)\n",
              "\n",
              "Residuals:\n",
              "    Min      1Q  Median      3Q     Max \n",
              "-1.6889 -0.8270  0.0350  0.8068  3.4828 \n",
              "\n",
              "Coefficients:\n",
              "            Estimate Std. Error t value Pr(>|t|)    \n",
              "(Intercept) -0.06449    0.01882  -3.427 0.000614 ***\n",
              "tracking     0.12537    0.02623   4.779 1.81e-06 ***\n",
              "---\n",
              "Signif. codes:  0 ‘***’ 0.001 ‘**’ 0.01 ‘*’ 0.05 ‘.’ 0.1 ‘ ’ 1\n",
              "\n",
              "Residual standard error: 0.9981 on 5793 degrees of freedom\n",
              "Multiple R-squared:  0.003927,\tAdjusted R-squared:  0.003755 \n",
              "F-statistic: 22.84 on 1 and 5793 DF,  p-value: 1.808e-06\n"
            ]
          },
          "metadata": {}
        }
      ]
    },
    {
      "cell_type": "code",
      "source": [
        "# formatted summary table of the OLS regression\n",
        "stargazer(model_math, type='text', title='Table 2: Math Scores')"
      ],
      "metadata": {
        "colab": {
          "base_uri": "https://localhost:8080/"
        },
        "id": "Q2f7_nHib35p",
        "outputId": "564554d7-bcf6-4405-9cc0-8fa5a6d59509"
      },
      "execution_count": 28,
      "outputs": [
        {
          "output_type": "stream",
          "name": "stdout",
          "text": [
            "\n",
            "Table 2: Math Scores\n",
            "===============================================\n",
            "                        Dependent variable:    \n",
            "                    ---------------------------\n",
            "                         mathscoreraw_std      \n",
            "-----------------------------------------------\n",
            "tracking                     0.125***          \n",
            "                              (0.026)          \n",
            "                                               \n",
            "Constant                     -0.064***         \n",
            "                              (0.019)          \n",
            "                                               \n",
            "-----------------------------------------------\n",
            "Observations                   5,795           \n",
            "R2                             0.004           \n",
            "Adjusted R2                    0.004           \n",
            "Residual Std. Error      0.998 (df = 5793)     \n",
            "F Statistic          22.836*** (df = 1; 5793)  \n",
            "===============================================\n",
            "Note:               *p<0.1; **p<0.05; ***p<0.01\n"
          ]
        }
      ]
    },
    {
      "cell_type": "code",
      "source": [
        "# OLS regression for Literacy Scores\n",
        "model_literacy <- lm(litscore_std ~ tracking, data = data_clean)\n",
        "summary(model_literacy)"
      ],
      "metadata": {
        "colab": {
          "base_uri": "https://localhost:8080/",
          "height": 329
        },
        "id": "UHi4iwx2cAvU",
        "outputId": "2b6890bf-89fd-4934-925b-dd8043883fc0"
      },
      "execution_count": 29,
      "outputs": [
        {
          "output_type": "display_data",
          "data": {
            "text/plain": [
              "\n",
              "Call:\n",
              "lm(formula = litscore_std ~ tracking, data = data_clean)\n",
              "\n",
              "Residuals:\n",
              "    Min      1Q  Median      3Q     Max \n",
              "-1.0227 -0.7138 -0.4196  0.4464  3.3533 \n",
              "\n",
              "Coefficients:\n",
              "            Estimate Std. Error t value Pr(>|t|)    \n",
              "(Intercept) -0.06268    0.01882  -3.331  0.00087 ***\n",
              "tracking     0.12186    0.02624   4.644 3.49e-06 ***\n",
              "---\n",
              "Signif. codes:  0 ‘***’ 0.001 ‘**’ 0.01 ‘*’ 0.05 ‘.’ 0.1 ‘ ’ 1\n",
              "\n",
              "Residual standard error: 0.9982 on 5793 degrees of freedom\n",
              "Multiple R-squared:  0.00371,\tAdjusted R-squared:  0.003538 \n",
              "F-statistic: 21.57 on 1 and 5793 DF,  p-value: 3.485e-06\n"
            ]
          },
          "metadata": {}
        }
      ]
    },
    {
      "cell_type": "code",
      "source": [
        "# formatted summary table of the OLS regression\n",
        "stargazer(model_math, type='text', title='Table 3: Literacy Scores')"
      ],
      "metadata": {
        "colab": {
          "base_uri": "https://localhost:8080/"
        },
        "id": "uQfGY_ULcEBa",
        "outputId": "93a99341-ad8f-4155-9285-ad6f63f542bf"
      },
      "execution_count": 30,
      "outputs": [
        {
          "output_type": "stream",
          "name": "stdout",
          "text": [
            "\n",
            "Table 3: Literacy Scores\n",
            "===============================================\n",
            "                        Dependent variable:    \n",
            "                    ---------------------------\n",
            "                         mathscoreraw_std      \n",
            "-----------------------------------------------\n",
            "tracking                     0.125***          \n",
            "                              (0.026)          \n",
            "                                               \n",
            "Constant                     -0.064***         \n",
            "                              (0.019)          \n",
            "                                               \n",
            "-----------------------------------------------\n",
            "Observations                   5,795           \n",
            "R2                             0.004           \n",
            "Adjusted R2                    0.004           \n",
            "Residual Std. Error      0.998 (df = 5793)     \n",
            "F Statistic          22.836*** (df = 1; 5793)  \n",
            "===============================================\n",
            "Note:               *p<0.1; **p<0.05; ***p<0.01\n"
          ]
        }
      ]
    },
    {
      "cell_type": "code",
      "source": [
        "# Robust standard errors\n",
        "coeftest(model_ols, vcov = vcovHC(model_ols, type = \"HC1\"))\n",
        "coeftest(model_math, vcov = vcovHC(model_math, type = \"HC1\"))\n",
        "coeftest(model_literacy, vcov = vcovHC(model_literacy, type = \"HC1\"))"
      ],
      "metadata": {
        "colab": {
          "base_uri": "https://localhost:8080/",
          "height": 434
        },
        "id": "-Jk0pfpgcHkg",
        "outputId": "b6effae7-6afb-4940-fc5e-2106483faebd"
      },
      "execution_count": 31,
      "outputs": [
        {
          "output_type": "display_data",
          "data": {
            "text/plain": [
              "\n",
              "t test of coefficients:\n",
              "\n",
              "             Estimate Std. Error t value  Pr(>|t|)    \n",
              "(Intercept) -0.071035   0.018642 -3.8105 0.0001401 ***\n",
              "tracking     0.138091   0.026210  5.2686 1.424e-07 ***\n",
              "---\n",
              "Signif. codes:  0 ‘***’ 0.001 ‘**’ 0.01 ‘*’ 0.05 ‘.’ 0.1 ‘ ’ 1\n"
            ]
          },
          "metadata": {}
        },
        {
          "output_type": "display_data",
          "data": {
            "text/plain": [
              "\n",
              "t test of coefficients:\n",
              "\n",
              "             Estimate Std. Error t value  Pr(>|t|)    \n",
              "(Intercept) -0.064489   0.018878 -3.4161 0.0006396 ***\n",
              "tracking     0.125365   0.026239  4.7778 1.816e-06 ***\n",
              "---\n",
              "Signif. codes:  0 ‘***’ 0.001 ‘**’ 0.01 ‘*’ 0.05 ‘.’ 0.1 ‘ ’ 1\n"
            ]
          },
          "metadata": {}
        },
        {
          "output_type": "display_data",
          "data": {
            "text/plain": [
              "\n",
              "t test of coefficients:\n",
              "\n",
              "             Estimate Std. Error t value  Pr(>|t|)    \n",
              "(Intercept) -0.062684   0.018582 -3.3733 0.0007475 ***\n",
              "tracking     0.121856   0.026219  4.6477 3.431e-06 ***\n",
              "---\n",
              "Signif. codes:  0 ‘***’ 0.001 ‘**’ 0.01 ‘*’ 0.05 ‘.’ 0.1 ‘ ’ 1\n"
            ]
          },
          "metadata": {}
        }
      ]
    },
    {
      "cell_type": "markdown",
      "source": [
        "# 6. Clustered Robust Standard Errors"
      ],
      "metadata": {
        "id": "6jdPH_9hcKyz"
      }
    },
    {
      "cell_type": "code",
      "source": [
        "# Assuming clustering at the school level (replace 'school_id' with the actual cluster variable)\n",
        "# Example: Clustered standard errors for total scores\n",
        "model_clustered <- lm(totalscore_std ~ tracking, data = data_clean)\n",
        "summary(model_clustered)\n",
        "\n",
        "cluster_se <- vcovCL(model_clustered, cluster = ~schoolid)\n",
        "coeftest(model_ols, vcov = cluster_se)\n"
      ],
      "metadata": {
        "colab": {
          "base_uri": "https://localhost:8080/",
          "height": 468
        },
        "id": "DA1tsVk3fbAQ",
        "outputId": "aae84d70-5312-40b6-bd26-739df01d0fe2"
      },
      "execution_count": 32,
      "outputs": [
        {
          "output_type": "display_data",
          "data": {
            "text/plain": [
              "\n",
              "Call:\n",
              "lm(formula = totalscore_std ~ tracking, data = data_clean)\n",
              "\n",
              "Residuals:\n",
              "    Min      1Q  Median      3Q     Max \n",
              "-1.4833 -0.7921 -0.1858  0.6179  3.3852 \n",
              "\n",
              "Coefficients:\n",
              "            Estimate Std. Error t value Pr(>|t|)    \n",
              "(Intercept) -0.07104    0.01881  -3.777  0.00016 ***\n",
              "tracking     0.13809    0.02622   5.266 1.44e-07 ***\n",
              "---\n",
              "Signif. codes:  0 ‘***’ 0.001 ‘**’ 0.01 ‘*’ 0.05 ‘.’ 0.1 ‘ ’ 1\n",
              "\n",
              "Residual standard error: 0.9977 on 5793 degrees of freedom\n",
              "Multiple R-squared:  0.004764,\tAdjusted R-squared:  0.004592 \n",
              "F-statistic: 27.73 on 1 and 5793 DF,  p-value: 1.444e-07\n"
            ]
          },
          "metadata": {}
        },
        {
          "output_type": "display_data",
          "data": {
            "text/plain": [
              "\n",
              "t test of coefficients:\n",
              "\n",
              "             Estimate Std. Error t value Pr(>|t|)  \n",
              "(Intercept) -0.071035   0.054393 -1.3060  0.19162  \n",
              "tracking     0.138091   0.077236  1.7879  0.07384 .\n",
              "---\n",
              "Signif. codes:  0 ‘***’ 0.001 ‘**’ 0.01 ‘*’ 0.05 ‘.’ 0.1 ‘ ’ 1\n"
            ]
          },
          "metadata": {}
        }
      ]
    },
    {
      "cell_type": "markdown",
      "source": [
        "# 7. Heterogeneous Effects by Achievement Levels"
      ],
      "metadata": {
        "id": "50Oa6d33fmjV"
      }
    },
    {
      "cell_type": "code",
      "source": [
        "quartile_cutoffs <- quantile(data_clean$percentile, probs = seq(0, 1, by = 0.25), na.rm = TRUE)\n",
        "data_clean$achievement_quartile <- cut(data_clean$percentile,\n",
        "                                       breaks = quartile_cutoffs,\n",
        "                                       include.lowest = TRUE,\n",
        "                                       labels = 1:4)"
      ],
      "metadata": {
        "id": "9XaLxFjsfmPu"
      },
      "execution_count": 33,
      "outputs": []
    },
    {
      "cell_type": "code",
      "source": [
        "# OLS with interaction terms\n",
        "model_interaction <- lm(totalscore_std ~ tracking * achievement_quartile, data = data_clean)\n",
        "summary(model_interaction)"
      ],
      "metadata": {
        "colab": {
          "base_uri": "https://localhost:8080/",
          "height": 468
        },
        "id": "YbrYBI0lfyGI",
        "outputId": "1b59c135-9806-401e-f8cb-0c9790810f4f"
      },
      "execution_count": 34,
      "outputs": [
        {
          "output_type": "display_data",
          "data": {
            "text/plain": [
              "\n",
              "Call:\n",
              "lm(formula = totalscore_std ~ tracking * achievement_quartile, \n",
              "    data = data_clean)\n",
              "\n",
              "Residuals:\n",
              "    Min      1Q  Median      3Q     Max \n",
              "-2.1679 -0.6451 -0.1594  0.5417  3.4903 \n",
              "\n",
              "Coefficients:\n",
              "                                Estimate Std. Error t value Pr(>|t|)    \n",
              "(Intercept)                    -0.671624   0.036884 -18.209  < 2e-16 ***\n",
              "tracking                        0.136951   0.048816   2.805  0.00504 ** \n",
              "achievement_quartile2           0.400758   0.052093   7.693  1.7e-14 ***\n",
              "achievement_quartile3           0.727577   0.051631  14.092  < 2e-16 ***\n",
              "achievement_quartile4           1.211934   0.051695  23.444  < 2e-16 ***\n",
              "tracking:achievement_quartile2  0.022050   0.068994   0.320  0.74929    \n",
              "tracking:achievement_quartile3 -0.007356   0.068900  -0.107  0.91498    \n",
              "tracking:achievement_quartile4  0.074451   0.068896   1.081  0.27991    \n",
              "---\n",
              "Signif. codes:  0 ‘***’ 0.001 ‘**’ 0.01 ‘*’ 0.05 ‘.’ 0.1 ‘ ’ 1\n",
              "\n",
              "Residual standard error: 0.8798 on 5296 degrees of freedom\n",
              "  (491 observations deleted due to missingness)\n",
              "Multiple R-squared:  0.2175,\tAdjusted R-squared:  0.2165 \n",
              "F-statistic: 210.3 on 7 and 5296 DF,  p-value: < 2.2e-16\n"
            ]
          },
          "metadata": {}
        }
      ]
    },
    {
      "cell_type": "markdown",
      "source": [
        "# 8. Peer Effects Analysis"
      ],
      "metadata": {
        "id": "2HoTwm03f4jG"
      }
    },
    {
      "cell_type": "code",
      "source": [
        "model_peer_effects <- lm(totalscore_std ~ rMEANstream_std_baselinemark, data = data_clean)\n",
        "summary(model_peer_effects)"
      ],
      "metadata": {
        "colab": {
          "base_uri": "https://localhost:8080/",
          "height": 347
        },
        "id": "Bz8IYhPpf6cM",
        "outputId": "b5b2d356-0745-49ab-994f-d39b26b33d9a"
      },
      "execution_count": 35,
      "outputs": [
        {
          "output_type": "display_data",
          "data": {
            "text/plain": [
              "\n",
              "Call:\n",
              "lm(formula = totalscore_std ~ rMEANstream_std_baselinemark, data = data_clean)\n",
              "\n",
              "Residuals:\n",
              "    Min      1Q  Median      3Q     Max \n",
              "-1.8431 -0.7368 -0.1735  0.6149  2.9477 \n",
              "\n",
              "Coefficients:\n",
              "                             Estimate Std. Error t value Pr(>|t|)    \n",
              "(Intercept)                   0.01155    0.01325   0.871    0.384    \n",
              "rMEANstream_std_baselinemark  0.48360    0.02152  22.469   <2e-16 ***\n",
              "---\n",
              "Signif. codes:  0 ‘***’ 0.001 ‘**’ 0.01 ‘*’ 0.05 ‘.’ 0.1 ‘ ’ 1\n",
              "\n",
              "Residual standard error: 0.9546 on 5189 degrees of freedom\n",
              "  (604 observations deleted due to missingness)\n",
              "Multiple R-squared:  0.08867,\tAdjusted R-squared:  0.08849 \n",
              "F-statistic: 504.9 on 1 and 5189 DF,  p-value: < 2.2e-16\n"
            ]
          },
          "metadata": {}
        }
      ]
    },
    {
      "cell_type": "markdown",
      "source": [
        "# 9. Regression Discontinuity Analysis (Optional)"
      ],
      "metadata": {
        "id": "lUQm4fzNf9Vz"
      }
    },
    {
      "cell_type": "code",
      "source": [
        "rd_data <- data_clean[data_clean$percentile >= 45 & data_clean$percentile <= 55, ]\n",
        "model_rd <- lm(totalscore ~ tracking, data = rd_data)\n",
        "summary(model_rd)"
      ],
      "metadata": {
        "colab": {
          "base_uri": "https://localhost:8080/",
          "height": 347
        },
        "id": "Bz1cRCRHf8w1",
        "outputId": "156ff92e-45ae-46d7-fed1-4477a8359beb"
      },
      "execution_count": 37,
      "outputs": [
        {
          "output_type": "display_data",
          "data": {
            "text/plain": [
              "\n",
              "Call:\n",
              "lm(formula = totalscore ~ tracking, data = rd_data)\n",
              "\n",
              "Residuals:\n",
              "    Min      1Q  Median      3Q     Max \n",
              "-12.929  -5.775  -1.389   4.829  25.872 \n",
              "\n",
              "Coefficients:\n",
              "            Estimate Std. Error t value Pr(>|t|)    \n",
              "(Intercept)  10.5285     0.4996  21.075  < 2e-16 ***\n",
              "tracking      2.7002     0.6689   4.037 6.21e-05 ***\n",
              "---\n",
              "Signif. codes:  0 ‘***’ 0.001 ‘**’ 0.01 ‘*’ 0.05 ‘.’ 0.1 ‘ ’ 1\n",
              "\n",
              "Residual standard error: 7.691 on 534 degrees of freedom\n",
              "  (491 observations deleted due to missingness)\n",
              "Multiple R-squared:  0.02961,\tAdjusted R-squared:  0.0278 \n",
              "F-statistic:  16.3 on 1 and 534 DF,  p-value: 6.21e-05\n"
            ]
          },
          "metadata": {}
        }
      ]
    },
    {
      "cell_type": "markdown",
      "source": [
        "# 10. Tests for Selection on Observables"
      ],
      "metadata": {
        "id": "h8V3cMO_gC1o"
      }
    },
    {
      "cell_type": "code",
      "source": [
        "balance_test <- function(var) {\n",
        "  t.test(data_clean[data_clean$tracking == 1, var],\n",
        "         data_clean[data_clean$tracking == 0, var])\n",
        "}"
      ],
      "metadata": {
        "id": "L5CADkUkgERX"
      },
      "execution_count": 39,
      "outputs": []
    },
    {
      "cell_type": "code",
      "source": [
        "balance_age <- balance_test(\"agetest\")\n",
        "balance_gender <- balance_test(\"girl\")\n",
        "balance_baseline_score <- balance_test(\"std_mark\")\n",
        "print(balance_age)\n",
        "print(balance_gender)\n",
        "print(balance_baseline_score)"
      ],
      "metadata": {
        "colab": {
          "base_uri": "https://localhost:8080/"
        },
        "id": "fsJoTsRXgFyK",
        "outputId": "eb217e50-6791-4e8d-90b3-5d0e64d888bc"
      },
      "execution_count": 40,
      "outputs": [
        {
          "output_type": "stream",
          "name": "stdout",
          "text": [
            "\n",
            "\tWelch Two Sample t-test\n",
            "\n",
            "data:  data_clean[data_clean$tracking == 1, var] and data_clean[data_clean$tracking == 0, var]\n",
            "t = 4.7756, df = 5758.3, p-value = 1.836e-06\n",
            "alternative hypothesis: true difference in means is not equal to 0\n",
            "95 percent confidence interval:\n",
            " 0.1073058 0.2567511\n",
            "sample estimates:\n",
            "mean of x mean of y \n",
            " 9.412496  9.230467 \n",
            "\n",
            "\n",
            "\tWelch Two Sample t-test\n",
            "\n",
            "data:  data_clean[data_clean$tracking == 1, var] and data_clean[data_clean$tracking == 0, var]\n",
            "t = 1.706, df = 5758.5, p-value = 0.08806\n",
            "alternative hypothesis: true difference in means is not equal to 0\n",
            "95 percent confidence interval:\n",
            " -0.003347441  0.048249576\n",
            "sample estimates:\n",
            "mean of x mean of y \n",
            "0.5021952 0.4797441 \n",
            "\n",
            "\n",
            "\tWelch Two Sample t-test\n",
            "\n",
            "data:  data_clean[data_clean$tracking == 1, var] and data_clean[data_clean$tracking == 0, var]\n",
            "t = -1.14, df = 4725, p-value = 0.2543\n",
            "alternative hypothesis: true difference in means is not equal to 0\n",
            "95 percent confidence interval:\n",
            " -0.08543764  0.02260750\n",
            "sample estimates:\n",
            " mean of x  mean of y \n",
            "0.01328711 0.04470219 \n",
            "\n"
          ]
        }
      ]
    },
    {
      "cell_type": "markdown",
      "source": [
        "# 11. Consistency Checks"
      ],
      "metadata": {
        "id": "3rACJQLxgKR9"
      }
    },
    {
      "cell_type": "code",
      "source": [
        "reset_test <- resettest(model_ols, power = 2:3, type = \"fitted\")\n",
        "print(reset_test)"
      ],
      "metadata": {
        "colab": {
          "base_uri": "https://localhost:8080/"
        },
        "id": "dqi4ZVQKgLml",
        "outputId": "78d5d316-5343-4178-e855-3a8c03f123be"
      },
      "execution_count": 41,
      "outputs": [
        {
          "output_type": "stream",
          "name": "stdout",
          "text": [
            "\n",
            "\tRESET test\n",
            "\n",
            "data:  model_ols\n",
            "RESET = 0, df1 = 2, df2 = 5791, p-value = 1\n",
            "\n"
          ]
        }
      ]
    },
    {
      "cell_type": "code",
      "source": [
        "bp_test <- bptest(model_ols)\n",
        "print(bp_test)"
      ],
      "metadata": {
        "colab": {
          "base_uri": "https://localhost:8080/"
        },
        "id": "m8R_5B_fgP2c",
        "outputId": "6f45767b-2698-4907-ce5f-9b172e54e814"
      },
      "execution_count": 42,
      "outputs": [
        {
          "output_type": "stream",
          "name": "stdout",
          "text": [
            "\n",
            "\tstudentized Breusch-Pagan test\n",
            "\n",
            "data:  model_ols\n",
            "BP = 0.9546, df = 1, p-value = 0.3286\n",
            "\n"
          ]
        }
      ]
    },
    {
      "cell_type": "markdown",
      "source": [
        "# 13. Central Limit Theorem (CLT) Build-up Exercise"
      ],
      "metadata": {
        "id": "NtRy9-BogUEP"
      }
    },
    {
      "cell_type": "code",
      "source": [
        "set.seed(123)\n",
        "skewed_data <- rexp(10000, rate = 1)\n",
        "\n",
        "sample_means <- function(sample_size, n_samples) {\n",
        "  replicate(n_samples, mean(sample(skewed_data, sample_size, replace = TRUE)))\n",
        "}\n",
        "\n",
        "means_10 <- sample_means(10, 1000)\n",
        "means_30 <- sample_means(30, 1000)\n",
        "means_100 <- sample_means(100, 1000)"
      ],
      "metadata": {
        "id": "0he9dgbYgWDL"
      },
      "execution_count": 43,
      "outputs": []
    },
    {
      "cell_type": "code",
      "source": [
        "clt_data <- data.frame(\n",
        "  sample_mean = c(means_10, means_30, means_100),\n",
        "  sample_size = factor(rep(c(10, 30, 100), each = 1000))\n",
        ")"
      ],
      "metadata": {
        "id": "Trehx3stgYoC"
      },
      "execution_count": 44,
      "outputs": []
    },
    {
      "cell_type": "code",
      "source": [
        "clt_plot <- ggplot(clt_data, aes(x = sample_mean, fill = sample_size)) +\n",
        "  geom_histogram(bins = 20, alpha = 0.7, position = \"identity\") +\n",
        "  facet_wrap(~sample_size, scales = \"free\", ncol = 1) +\n",
        "  labs(title = \"Central Limit Theorem Demonstration\",\n",
        "       x = \"Sample Mean\",\n",
        "       y = \"Frequency\",\n",
        "       fill = \"Sample Size\") +\n",
        "  theme_minimal()"
      ],
      "metadata": {
        "id": "nKW9lwc4gaWS"
      },
      "execution_count": 45,
      "outputs": []
    },
    {
      "cell_type": "code",
      "source": [
        "clt_plot"
      ],
      "metadata": {
        "colab": {
          "base_uri": "https://localhost:8080/",
          "height": 437
        },
        "id": "5RNtH8CsgcOl",
        "outputId": "fca31b80-1027-480a-d169-84a9a4cc5efb"
      },
      "execution_count": 47,
      "outputs": [
        {
          "output_type": "display_data",
          "data": {
            "text/plain": [
              "plot without title"
            ],
            "image/png": "[encoded data removed]"
          },
          "metadata": {
            "image/png": {
              "width": 420,
              "height": 420
            }
          }
        }
      ]
    },
    {
      "cell_type": "code",
      "source": [
        "# Save the outputs"
      ],
      "metadata": {
        "id": "n5v5nJF2gh21"
      },
      "execution_count": null,
      "outputs": []
    },
    {
      "cell_type": "code",
      "source": [
        "stargazer(model_ols,model_math,model_literacy, model_interaction, type='text')\n"
      ],
      "metadata": {
        "colab": {
          "base_uri": "https://localhost:8080/"
        },
        "id": "8JqR-cEogj_w",
        "outputId": "4f0b81a7-b626-495b-bc2b-cc7eddfcba0b"
      },
      "execution_count": 48,
      "outputs": [
        {
          "output_type": "stream",
          "name": "stdout",
          "text": [
            "\n",
            "===================================================================================================================================\n",
            "                                                                       Dependent variable:                                         \n",
            "                               ----------------------------------------------------------------------------------------------------\n",
            "                                    totalscore_std          mathscoreraw_std           litscore_std            totalscore_std      \n",
            "                                         (1)                      (2)                      (3)                       (4)           \n",
            "-----------------------------------------------------------------------------------------------------------------------------------\n",
            "tracking                               0.138***                 0.125***                 0.122***                 0.137***         \n",
            "                                       (0.026)                  (0.026)                  (0.026)                   (0.049)         \n",
            "                                                                                                                                   \n",
            "achievement_quartile2                                                                                             0.401***         \n",
            "                                                                                                                   (0.052)         \n",
            "                                                                                                                                   \n",
            "achievement_quartile3                                                                                             0.728***         \n",
            "                                                                                                                   (0.052)         \n",
            "                                                                                                                                   \n",
            "achievement_quartile4                                                                                             1.212***         \n",
            "                                                                                                                   (0.052)         \n",
            "                                                                                                                                   \n",
            "tracking:achievement_quartile2                                                                                      0.022          \n",
            "                                                                                                                   (0.069)         \n",
            "                                                                                                                                   \n",
            "tracking:achievement_quartile3                                                                                     -0.007          \n",
            "                                                                                                                   (0.069)         \n",
            "                                                                                                                                   \n",
            "tracking:achievement_quartile4                                                                                      0.074          \n",
            "                                                                                                                   (0.069)         \n",
            "                                                                                                                                   \n",
            "Constant                              -0.071***                -0.064***                -0.063***                 -0.672***        \n",
            "                                       (0.019)                  (0.019)                  (0.019)                   (0.037)         \n",
            "                                                                                                                                   \n",
            "-----------------------------------------------------------------------------------------------------------------------------------\n",
            "Observations                            5,795                    5,795                    5,795                     5,304          \n",
            "R2                                      0.005                    0.004                    0.004                     0.218          \n",
            "Adjusted R2                             0.005                    0.004                    0.004                     0.216          \n",
            "Residual Std. Error               0.998 (df = 5793)        0.998 (df = 5793)        0.998 (df = 5793)         0.880 (df = 5296)    \n",
            "F Statistic                    27.731*** (df = 1; 5793) 22.836*** (df = 1; 5793) 21.571*** (df = 1; 5793) 210.320*** (df = 7; 5296)\n",
            "===================================================================================================================================\n",
            "Note:                                                                                                   *p<0.1; **p<0.05; ***p<0.01\n"
          ]
        }
      ]
    },
    {
      "cell_type": "code",
      "source": [
        "stargazer(model_ols,model_math,model_literacy, model_interaction, type = \"html\", title = \"Table 1: results\",\n",
        "          out = \"models.html\")"
      ],
      "metadata": {
        "colab": {
          "base_uri": "https://localhost:8080/"
        },
        "id": "i209G4oEgjZI",
        "outputId": "3b812a75-37a3-42d8-d728-d9c625411462"
      },
      "execution_count": 49,
      "outputs": [
        {
          "output_type": "stream",
          "name": "stdout",
          "text": [
            "\n",
            "<table style=\"text-align:center\"><caption><strong>Table 1: results</strong></caption>\n",
            "<tr><td colspan=\"5\" style=\"border-bottom: 1px solid black\"></td></tr><tr><td style=\"text-align:left\"></td><td colspan=\"4\"><em>Dependent variable:</em></td></tr>\n",
            "<tr><td></td><td colspan=\"4\" style=\"border-bottom: 1px solid black\"></td></tr>\n",
            "<tr><td style=\"text-align:left\"></td><td>totalscore_std</td><td>mathscoreraw_std</td><td>litscore_std</td><td>totalscore_std</td></tr>\n",
            "<tr><td style=\"text-align:left\"></td><td>(1)</td><td>(2)</td><td>(3)</td><td>(4)</td></tr>\n",
            "<tr><td colspan=\"5\" style=\"border-bottom: 1px solid black\"></td></tr><tr><td style=\"text-align:left\">tracking</td><td>0.138<sup>***</sup></td><td>0.125<sup>***</sup></td><td>0.122<sup>***</sup></td><td>0.137<sup>***</sup></td></tr>\n",
            "<tr><td style=\"text-align:left\"></td><td>(0.026)</td><td>(0.026)</td><td>(0.026)</td><td>(0.049)</td></tr>\n",
            "<tr><td style=\"text-align:left\"></td><td></td><td></td><td></td><td></td></tr>\n",
            "<tr><td style=\"text-align:left\">achievement_quartile2</td><td></td><td></td><td></td><td>0.401<sup>***</sup></td></tr>\n",
            "<tr><td style=\"text-align:left\"></td><td></td><td></td><td></td><td>(0.052)</td></tr>\n",
            "<tr><td style=\"text-align:left\"></td><td></td><td></td><td></td><td></td></tr>\n",
            "<tr><td style=\"text-align:left\">achievement_quartile3</td><td></td><td></td><td></td><td>0.728<sup>***</sup></td></tr>\n",
            "<tr><td style=\"text-align:left\"></td><td></td><td></td><td></td><td>(0.052)</td></tr>\n",
            "<tr><td style=\"text-align:left\"></td><td></td><td></td><td></td><td></td></tr>\n",
            "<tr><td style=\"text-align:left\">achievement_quartile4</td><td></td><td></td><td></td><td>1.212<sup>***</sup></td></tr>\n",
            "<tr><td style=\"text-align:left\"></td><td></td><td></td><td></td><td>(0.052)</td></tr>\n",
            "<tr><td style=\"text-align:left\"></td><td></td><td></td><td></td><td></td></tr>\n",
            "<tr><td style=\"text-align:left\">tracking:achievement_quartile2</td><td></td><td></td><td></td><td>0.022</td></tr>\n",
            "<tr><td style=\"text-align:left\"></td><td></td><td></td><td></td><td>(0.069)</td></tr>\n",
            "<tr><td style=\"text-align:left\"></td><td></td><td></td><td></td><td></td></tr>\n",
            "<tr><td style=\"text-align:left\">tracking:achievement_quartile3</td><td></td><td></td><td></td><td>-0.007</td></tr>\n",
            "<tr><td style=\"text-align:left\"></td><td></td><td></td><td></td><td>(0.069)</td></tr>\n",
            "<tr><td style=\"text-align:left\"></td><td></td><td></td><td></td><td></td></tr>\n",
            "<tr><td style=\"text-align:left\">tracking:achievement_quartile4</td><td></td><td></td><td></td><td>0.074</td></tr>\n",
            "<tr><td style=\"text-align:left\"></td><td></td><td></td><td></td><td>(0.069)</td></tr>\n",
            "<tr><td style=\"text-align:left\"></td><td></td><td></td><td></td><td></td></tr>\n",
            "<tr><td style=\"text-align:left\">Constant</td><td>-0.071<sup>***</sup></td><td>-0.064<sup>***</sup></td><td>-0.063<sup>***</sup></td><td>-0.672<sup>***</sup></td></tr>\n",
            "<tr><td style=\"text-align:left\"></td><td>(0.019)</td><td>(0.019)</td><td>(0.019)</td><td>(0.037)</td></tr>\n",
            "<tr><td style=\"text-align:left\"></td><td></td><td></td><td></td><td></td></tr>\n",
            "<tr><td colspan=\"5\" style=\"border-bottom: 1px solid black\"></td></tr><tr><td style=\"text-align:left\">Observations</td><td>5,795</td><td>5,795</td><td>5,795</td><td>5,304</td></tr>\n",
            "<tr><td style=\"text-align:left\">R<sup>2</sup></td><td>0.005</td><td>0.004</td><td>0.004</td><td>0.218</td></tr>\n",
            "<tr><td style=\"text-align:left\">Adjusted R<sup>2</sup></td><td>0.005</td><td>0.004</td><td>0.004</td><td>0.216</td></tr>\n",
            "<tr><td style=\"text-align:left\">Residual Std. Error</td><td>0.998 (df = 5793)</td><td>0.998 (df = 5793)</td><td>0.998 (df = 5793)</td><td>0.880 (df = 5296)</td></tr>\n",
            "<tr><td style=\"text-align:left\">F Statistic</td><td>27.731<sup>***</sup> (df = 1; 5793)</td><td>22.836<sup>***</sup> (df = 1; 5793)</td><td>21.571<sup>***</sup> (df = 1; 5793)</td><td>210.320<sup>***</sup> (df = 7; 5296)</td></tr>\n",
            "<tr><td colspan=\"5\" style=\"border-bottom: 1px solid black\"></td></tr><tr><td style=\"text-align:left\"><em>Note:</em></td><td colspan=\"4\" style=\"text-align:right\"><sup>*</sup>p<0.1; <sup>**</sup>p<0.05; <sup>***</sup>p<0.01</td></tr>\n",
            "</table>\n"
          ]
        }
      ]
    },
    {
      "cell_type": "code",
      "source": [
        "data.frame(Age_Balance_Test = balance_age$p.value,\n",
        "                     Gender_Balance_Test = balance_gender$p.value,\n",
        "                     Baseline_Score_Balance_Test = balance_baseline_score$p.value)"
      ],
      "metadata": {
        "colab": {
          "base_uri": "https://localhost:8080/",
          "height": 129
        },
        "id": "DBjeJaO_guyr",
        "outputId": "4a7030fe-cc45-4470-a38e-5ac1805602ae"
      },
      "execution_count": 50,
      "outputs": [
        {
          "output_type": "display_data",
          "data": {
            "text/html": [
              "<table class=\"dataframe\">\n",
              "<caption>A data.frame: 1 × 3</caption>\n",
              "<thead>\n",
              "\t<tr><th scope=col>Age_Balance_Test</th><th scope=col>Gender_Balance_Test</th><th scope=col>Baseline_Score_Balance_Test</th></tr>\n",
              "\t<tr><th scope=col>&lt;dbl&gt;</th><th scope=col>&lt;dbl&gt;</th><th scope=col>&lt;dbl&gt;</th></tr>\n",
              "</thead>\n",
              "<tbody>\n",
              "\t<tr><td>1.836241e-06</td><td>0.08805998</td><td>0.2543251</td></tr>\n",
              "</tbody>\n",
              "</table>\n"
            ],
            "text/markdown": "\nA data.frame: 1 × 3\n\n| Age_Balance_Test &lt;dbl&gt; | Gender_Balance_Test &lt;dbl&gt; | Baseline_Score_Balance_Test &lt;dbl&gt; |\n|---|---|---|\n| 1.836241e-06 | 0.08805998 | 0.2543251 |\n\n",
            "text/latex": "A data.frame: 1 × 3\n\\begin{tabular}{lll}\n Age\\_Balance\\_Test & Gender\\_Balance\\_Test & Baseline\\_Score\\_Balance\\_Test\\\\\n <dbl> & <dbl> & <dbl>\\\\\n\\hline\n\t 1.836241e-06 & 0.08805998 & 0.2543251\\\\\n\\end{tabular}\n",
            "text/plain": [
              "  Age_Balance_Test Gender_Balance_Test Baseline_Score_Balance_Test\n",
              "1 1.836241e-06     0.08805998          0.2543251                  "
            ]
          },
          "metadata": {}
        }
      ]
    },
    {
      "cell_type": "code",
      "source": [
        "data.frame(RESET_Test_pvalue = reset_test$p.value,\n",
        "                     BP_Test_pvalue = bp_test$p.value)"
      ],
      "metadata": {
        "colab": {
          "base_uri": "https://localhost:8080/",
          "height": 129
        },
        "id": "wQSBh_A7gw4U",
        "outputId": "727d6f41-45d8-4ac1-f71a-ae405cb656de"
      },
      "execution_count": 51,
      "outputs": [
        {
          "output_type": "display_data",
          "data": {
            "text/html": [
              "<table class=\"dataframe\">\n",
              "<caption>A data.frame: 1 × 2</caption>\n",
              "<thead>\n",
              "\t<tr><th></th><th scope=col>RESET_Test_pvalue</th><th scope=col>BP_Test_pvalue</th></tr>\n",
              "\t<tr><th></th><th scope=col>&lt;dbl&gt;</th><th scope=col>&lt;dbl&gt;</th></tr>\n",
              "</thead>\n",
              "<tbody>\n",
              "\t<tr><th scope=row>BP</th><td>1</td><td>0.3285517</td></tr>\n",
              "</tbody>\n",
              "</table>\n"
            ],
            "text/markdown": "\nA data.frame: 1 × 2\n\n| <!--/--> | RESET_Test_pvalue &lt;dbl&gt; | BP_Test_pvalue &lt;dbl&gt; |\n|---|---|---|\n| BP | 1 | 0.3285517 |\n\n",
            "text/latex": "A data.frame: 1 × 2\n\\begin{tabular}{r|ll}\n  & RESET\\_Test\\_pvalue & BP\\_Test\\_pvalue\\\\\n  & <dbl> & <dbl>\\\\\n\\hline\n\tBP & 1 & 0.3285517\\\\\n\\end{tabular}\n",
            "text/plain": [
              "   RESET_Test_pvalue BP_Test_pvalue\n",
              "BP 1                 0.3285517     "
            ]
          },
          "metadata": {}
        }
      ]
    }
  ]
}