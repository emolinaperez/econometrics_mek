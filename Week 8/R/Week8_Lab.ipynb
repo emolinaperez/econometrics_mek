{
  "nbformat": 4,
  "nbformat_minor": 0,
  "metadata": {
    "colab": {
      "provenance": [],
      "authorship_tag": "ABX9TyPfbXIxR7kcxgC/c/EL36JL",
      "include_colab_link": true
    },
    "kernelspec": {
      "name": "ir",
      "display_name": "R"
    },
    "language_info": {
      "name": "R"
    }
  },
  "cells": [
    {
      "cell_type": "markdown",
      "metadata": {
        "id": "view-in-github",
        "colab_type": "text"
      },
      "source": [
        "<a href=\"https://colab.research.google.com/github/emolinaperez/econometrics_mek/blob/main/Week%208/R/Week8_Lab.ipynb\" target=\"_parent\"><img src=\"https://colab.research.google.com/assets/colab-badge.svg\" alt=\"Open In Colab\"/></a>"
      ]
    },
    {
      "cell_type": "markdown",
      "source": [
        "# Lab 8: Econometrics"
      ],
      "metadata": {
        "id": "_kgRWb2sUFqO"
      }
    },
    {
      "cell_type": "code",
      "source": [
        "#load library\n",
        "if (!require(pacman)) install.packages(\"pacman\")\n",
        "library(pacman)\n",
        "p_load('car','modelsummary')"
      ],
      "metadata": {
        "colab": {
          "base_uri": "https://localhost:8080/"
        },
        "id": "ZEFg6dJ4UFY3",
        "outputId": "4bb8a08d-546e-457d-eeba-0666ed88b7c1"
      },
      "execution_count": 1,
      "outputs": [
        {
          "output_type": "stream",
          "name": "stderr",
          "text": [
            "Loading required package: pacman\n",
            "\n",
            "Warning message in library(package, lib.loc = lib.loc, character.only = TRUE, logical.return = TRUE, :\n",
            "“there is no package called ‘pacman’”\n",
            "Installing package into ‘/usr/local/lib/R/site-library’\n",
            "(as ‘lib’ is unspecified)\n",
            "\n",
            "Installing package into ‘/usr/local/lib/R/site-library’\n",
            "(as ‘lib’ is unspecified)\n",
            "\n",
            "also installing the dependencies ‘rbibutils’, ‘cowplot’, ‘Deriv’, ‘microbenchmark’, ‘Rdpack’, ‘numDeriv’, ‘doBy’, ‘SparseM’, ‘MatrixModels’, ‘minqa’, ‘nloptr’, ‘reformulas’, ‘RcppEigen’, ‘carData’, ‘abind’, ‘Formula’, ‘pbkrtest’, ‘quantreg’, ‘lme4’\n",
            "\n",
            "\n",
            "\n",
            "car installed\n",
            "\n",
            "Installing package into ‘/usr/local/lib/R/site-library’\n",
            "(as ‘lib’ is unspecified)\n",
            "\n",
            "also installing the dependencies ‘bayestestR’, ‘datawizard’, ‘checkmate’, ‘insight’, ‘parameters’, ‘performance’, ‘tables’, ‘tinytable’\n",
            "\n",
            "\n",
            "\n",
            "modelsummary installed\n",
            "\n"
          ]
        }
      ]
    },
    {
      "cell_type": "code",
      "execution_count": 3,
      "metadata": {
        "colab": {
          "base_uri": "https://localhost:8080/",
          "height": 286
        },
        "id": "KZ1_xDarUBR4",
        "outputId": "841c7751-c69d-4a53-826f-ea110927c59a"
      },
      "outputs": [
        {
          "output_type": "display_data",
          "data": {
            "text/html": [
              "<table class=\"dataframe\">\n",
              "<caption>A data.frame: 6 × 10</caption>\n",
              "<thead>\n",
              "\t<tr><th></th><th scope=col>country</th><th scope=col>N</th><th scope=col>I</th><th scope=col>O</th><th scope=col>Y60</th><th scope=col>Y85</th><th scope=col>Y_growth</th><th scope=col>pop_growth</th><th scope=col>invest</th><th scope=col>school</th></tr>\n",
              "\t<tr><th></th><th scope=col>&lt;chr&gt;</th><th scope=col>&lt;int&gt;</th><th scope=col>&lt;int&gt;</th><th scope=col>&lt;int&gt;</th><th scope=col>&lt;int&gt;</th><th scope=col>&lt;int&gt;</th><th scope=col>&lt;dbl&gt;</th><th scope=col>&lt;dbl&gt;</th><th scope=col>&lt;dbl&gt;</th><th scope=col>&lt;dbl&gt;</th></tr>\n",
              "</thead>\n",
              "<tbody>\n",
              "\t<tr><th scope=row>1</th><td>Algeria    </td><td>1</td><td>1</td><td>0</td><td>2485</td><td>4371</td><td>4.8</td><td>2.6</td><td>24.1</td><td>4.5</td></tr>\n",
              "\t<tr><th scope=row>2</th><td>Angola     </td><td>1</td><td>0</td><td>0</td><td>1588</td><td>1171</td><td>0.8</td><td>2.1</td><td> 5.8</td><td>1.8</td></tr>\n",
              "\t<tr><th scope=row>3</th><td>Benin      </td><td>1</td><td>0</td><td>0</td><td>1116</td><td>1071</td><td>2.2</td><td>2.4</td><td>10.8</td><td>1.8</td></tr>\n",
              "\t<tr><th scope=row>4</th><td>Botswana   </td><td>1</td><td>1</td><td>0</td><td> 959</td><td>3671</td><td>8.6</td><td>3.2</td><td>28.3</td><td>2.9</td></tr>\n",
              "\t<tr><th scope=row>5</th><td>BurkinaFaso</td><td>1</td><td>0</td><td>0</td><td> 529</td><td> 857</td><td>2.9</td><td>0.9</td><td>12.7</td><td>0.4</td></tr>\n",
              "\t<tr><th scope=row>6</th><td>Burundi    </td><td>1</td><td>0</td><td>0</td><td> 755</td><td> 663</td><td>1.2</td><td>1.7</td><td> 5.1</td><td>0.4</td></tr>\n",
              "</tbody>\n",
              "</table>\n"
            ],
            "text/markdown": "\nA data.frame: 6 × 10\n\n| <!--/--> | country &lt;chr&gt; | N &lt;int&gt; | I &lt;int&gt; | O &lt;int&gt; | Y60 &lt;int&gt; | Y85 &lt;int&gt; | Y_growth &lt;dbl&gt; | pop_growth &lt;dbl&gt; | invest &lt;dbl&gt; | school &lt;dbl&gt; |\n|---|---|---|---|---|---|---|---|---|---|---|\n| 1 | Algeria     | 1 | 1 | 0 | 2485 | 4371 | 4.8 | 2.6 | 24.1 | 4.5 |\n| 2 | Angola      | 1 | 0 | 0 | 1588 | 1171 | 0.8 | 2.1 |  5.8 | 1.8 |\n| 3 | Benin       | 1 | 0 | 0 | 1116 | 1071 | 2.2 | 2.4 | 10.8 | 1.8 |\n| 4 | Botswana    | 1 | 1 | 0 |  959 | 3671 | 8.6 | 3.2 | 28.3 | 2.9 |\n| 5 | BurkinaFaso | 1 | 0 | 0 |  529 |  857 | 2.9 | 0.9 | 12.7 | 0.4 |\n| 6 | Burundi     | 1 | 0 | 0 |  755 |  663 | 1.2 | 1.7 |  5.1 | 0.4 |\n\n",
            "text/latex": "A data.frame: 6 × 10\n\\begin{tabular}{r|llllllllll}\n  & country & N & I & O & Y60 & Y85 & Y\\_growth & pop\\_growth & invest & school\\\\\n  & <chr> & <int> & <int> & <int> & <int> & <int> & <dbl> & <dbl> & <dbl> & <dbl>\\\\\n\\hline\n\t1 & Algeria     & 1 & 1 & 0 & 2485 & 4371 & 4.8 & 2.6 & 24.1 & 4.5\\\\\n\t2 & Angola      & 1 & 0 & 0 & 1588 & 1171 & 0.8 & 2.1 &  5.8 & 1.8\\\\\n\t3 & Benin       & 1 & 0 & 0 & 1116 & 1071 & 2.2 & 2.4 & 10.8 & 1.8\\\\\n\t4 & Botswana    & 1 & 1 & 0 &  959 & 3671 & 8.6 & 3.2 & 28.3 & 2.9\\\\\n\t5 & BurkinaFaso & 1 & 0 & 0 &  529 &  857 & 2.9 & 0.9 & 12.7 & 0.4\\\\\n\t6 & Burundi     & 1 & 0 & 0 &  755 &  663 & 1.2 & 1.7 &  5.1 & 0.4\\\\\n\\end{tabular}\n",
            "text/plain": [
              "  country     N I O Y60  Y85  Y_growth pop_growth invest school\n",
              "1 Algeria     1 1 0 2485 4371 4.8      2.6        24.1   4.5   \n",
              "2 Angola      1 0 0 1588 1171 0.8      2.1         5.8   1.8   \n",
              "3 Benin       1 0 0 1116 1071 2.2      2.4        10.8   1.8   \n",
              "4 Botswana    1 1 0  959 3671 8.6      3.2        28.3   2.9   \n",
              "5 BurkinaFaso 1 0 0  529  857 2.9      0.9        12.7   0.4   \n",
              "6 Burundi     1 0 0  755  663 1.2      1.7         5.1   0.4   "
            ]
          },
          "metadata": {}
        }
      ],
      "source": [
        "#Read data\n",
        "data <- read.table(\"https://raw.githubusercontent.com/emolinaperez/econometrics_mek/main/Week%208/data/MRW1992.txt\",header=TRUE)\n",
        "head(data)"
      ]
    },
    {
      "cell_type": "code",
      "source": [
        "N <- matrix(data$N,ncol=1)\n",
        "lndY <- matrix(log(data$Y85)-log(data$Y60),ncol=1)\n",
        "lnY60 <- matrix(log(data$Y60),ncol=1)\n",
        "lnI <- matrix(log(data$invest/100),ncol=1)\n",
        "lnG <- matrix(log(data$pop_growth/100+0.05),ncol=1)\n",
        "lnS <- matrix(log(data$school/100),ncol=1)\n",
        "xx <- as.matrix(cbind(lnY60,lnI,lnG,lnS,matrix(1,nrow(lndY),1)))\n",
        "x <- xx[N==1,]\n",
        "y <- lndY[N==1]\n",
        "n <- nrow(x)\n",
        "k <- ncol(x)"
      ],
      "metadata": {
        "id": "cxbxj1VSURpR"
      },
      "execution_count": 4,
      "outputs": []
    },
    {
      "cell_type": "code",
      "source": [
        "#Unrestricted regression\n",
        "invx <-solve(t(x)%*%x)\n",
        "b_ols <- solve((t(x)%*%x),(t(x)%*%y))\n",
        "e_ols <- rep((y-x%*%b_ols),times=k)\n",
        "xe_ols <- x*e_ols\n",
        "V_ols <- (n/(n-k))*invx%*%(t(xe_ols)%*%xe_ols)%*%invx\n",
        "se_ols <- sqrt(diag(V_ols))\n",
        "print(b_ols)\n",
        "print(se_ols)"
      ],
      "metadata": {
        "colab": {
          "base_uri": "https://localhost:8080/"
        },
        "id": "0e-u3Fx4UUWI",
        "outputId": "ccc17314-43ff-4c8d-98b3-43c67ba56412"
      },
      "execution_count": 5,
      "outputs": [
        {
          "output_type": "stream",
          "name": "stdout",
          "text": [
            "           [,1]\n",
            "[1,] -0.2883737\n",
            "[2,]  0.5237367\n",
            "[3,] -0.5056565\n",
            "[4,]  0.2311171\n",
            "[5,]  3.0215222\n",
            "[1] 0.05427556 0.10729137 0.23603269 0.06640414 0.73730944\n"
          ]
        }
      ]
    },
    {
      "cell_type": "code",
      "source": [
        "#Constrained regression\n",
        "R <- c(0,1,1,1,0)\n",
        "iR <- invx%*%R%*%solve(t(R)%*%invx%*%R)%*%t(R)\n",
        "b_cls <- b_ols - iR%*%b_ols\n",
        "e_cls <- rep((y-x%*%b_cls),times=k)\n",
        "xe_cls <- x*e_cls\n",
        "V_tilde <- (n/(n-k+1))*invx%*%(t(xe_cls)%*%xe_cls)%*%invx\n",
        "V_cls <- V_tilde - iR%*%V_tilde - V_tilde%*%t(iR) +iR%*%V_tilde%*%t(iR)\n",
        "se_cls <- sqrt(diag(V_cls))\n",
        "print(b_cls)\n",
        "print(se_cls)"
      ],
      "metadata": {
        "colab": {
          "base_uri": "https://localhost:8080/"
        },
        "id": "IFVXUyFfUjOv",
        "outputId": "6c70b4f8-db43-4946-cb5b-438e02b29680"
      },
      "execution_count": 6,
      "outputs": [
        {
          "output_type": "stream",
          "name": "stdout",
          "text": [
            "           [,1]\n",
            "[1,] -0.2979013\n",
            "[2,]  0.5006704\n",
            "[3,] -0.7358562\n",
            "[4,]  0.2351858\n",
            "[5,]  2.4569123\n",
            "[1] 0.05278963 0.09183351 0.07769231 0.06500286 0.43902622\n"
          ]
        }
      ]
    },
    {
      "cell_type": "code",
      "source": [
        "#Efficient minimum distance\n",
        "Vr <- V_ols%*%R%*%solve(t(R)%*%V_ols%*%R)%*%t(R)\n",
        "b_emd <- b_ols - Vr%*%b_ols\n",
        "e_emd <- rep((y-x%*%b_emd),times=k)\n",
        "xe_emd <- x*e_emd\n",
        "V2 <- (n/(n-k+1))*invx%*%(t(xe_emd)%*%xe_emd)%*%invx\n",
        "V_emd <- V2 - V2%*%R%*%solve(t(R)%*%V2%*%R)%*%t(R)%*%V2"
      ],
      "metadata": {
        "id": "OCsC8XM_Unzj"
      },
      "execution_count": 7,
      "outputs": []
    },
    {
      "cell_type": "code",
      "source": [
        "#with linear models\n",
        "data$Y <- log(data$Y85)\n",
        "data$GDP_1960 <- log(data$Y60)\n",
        "data$I_GDP <-  log(data$invest/100)\n",
        "data$n_g_s <- log(data$pop_growth/100+0.05)\n",
        "data$log_school <- log(data$school/100)"
      ],
      "metadata": {
        "id": "uzZYJEkIUpmM"
      },
      "execution_count": 8,
      "outputs": []
    },
    {
      "cell_type": "code",
      "source": [
        "# Unrestricted regression\n",
        "model.u <- lm( Y ~ I_GDP + n_g_s , data=subset(data,N==1))\n",
        "summary(model.u)"
      ],
      "metadata": {
        "colab": {
          "base_uri": "https://localhost:8080/",
          "height": 347
        },
        "id": "1f0Wn_EvUrFc",
        "outputId": "c3610046-799c-4108-9dd6-0e5c55169f6b"
      },
      "execution_count": 9,
      "outputs": [
        {
          "output_type": "display_data",
          "data": {
            "text/plain": [
              "\n",
              "Call:\n",
              "lm(formula = Y ~ I_GDP + n_g_s, data = subset(data, N == 1))\n",
              "\n",
              "Residuals:\n",
              "     Min       1Q   Median       3Q      Max \n",
              "-1.79144 -0.39367  0.04124  0.43368  1.58046 \n",
              "\n",
              "Coefficients:\n",
              "            Estimate Std. Error t value Pr(>|t|)    \n",
              "(Intercept)   5.4299     1.5839   3.428 0.000900 ***\n",
              "I_GDP         1.4240     0.1431   9.951  < 2e-16 ***\n",
              "n_g_s        -1.9898     0.5634  -3.532 0.000639 ***\n",
              "---\n",
              "Signif. codes:  0 ‘***’ 0.001 ‘**’ 0.01 ‘*’ 0.05 ‘.’ 0.1 ‘ ’ 1\n",
              "\n",
              "Residual standard error: 0.6891 on 95 degrees of freedom\n",
              "Multiple R-squared:  0.6009,\tAdjusted R-squared:  0.5925 \n",
              "F-statistic: 71.51 on 2 and 95 DF,  p-value: < 2.2e-16\n"
            ]
          },
          "metadata": {}
        }
      ]
    },
    {
      "cell_type": "code",
      "source": [
        "# Restricted regression\n",
        "model.r <- lm( Y ~ I_GDP + n_g_s , data=subset(data,N==1))\n",
        "summary(model.r)"
      ],
      "metadata": {
        "colab": {
          "base_uri": "https://localhost:8080/",
          "height": 347
        },
        "id": "0CZpNQ2HUsaR",
        "outputId": "9eca83d3-a109-4e20-98f3-9db7b3e25f08"
      },
      "execution_count": 10,
      "outputs": [
        {
          "output_type": "display_data",
          "data": {
            "text/plain": [
              "\n",
              "Call:\n",
              "lm(formula = Y ~ I_GDP + n_g_s, data = subset(data, N == 1))\n",
              "\n",
              "Residuals:\n",
              "     Min       1Q   Median       3Q      Max \n",
              "-1.79144 -0.39367  0.04124  0.43368  1.58046 \n",
              "\n",
              "Coefficients:\n",
              "            Estimate Std. Error t value Pr(>|t|)    \n",
              "(Intercept)   5.4299     1.5839   3.428 0.000900 ***\n",
              "I_GDP         1.4240     0.1431   9.951  < 2e-16 ***\n",
              "n_g_s        -1.9898     0.5634  -3.532 0.000639 ***\n",
              "---\n",
              "Signif. codes:  0 ‘***’ 0.001 ‘**’ 0.01 ‘*’ 0.05 ‘.’ 0.1 ‘ ’ 1\n",
              "\n",
              "Residual standard error: 0.6891 on 95 degrees of freedom\n",
              "Multiple R-squared:  0.6009,\tAdjusted R-squared:  0.5925 \n",
              "F-statistic: 71.51 on 2 and 95 DF,  p-value: < 2.2e-16\n"
            ]
          },
          "metadata": {}
        }
      ]
    },
    {
      "cell_type": "code",
      "source": [
        "# test of restriction\n",
        "car::linearHypothesis(model.r, \"I_GDP + n_g_s = 0\")"
      ],
      "metadata": {
        "colab": {
          "base_uri": "https://localhost:8080/",
          "height": 161
        },
        "id": "eNlVDQg4UuS9",
        "outputId": "ec64f88f-1ba8-4823-e403-e21ed285088b"
      },
      "execution_count": 11,
      "outputs": [
        {
          "output_type": "display_data",
          "data": {
            "text/html": [
              "<table class=\"dataframe\">\n",
              "<caption>A anova: 2 × 6</caption>\n",
              "<thead>\n",
              "\t<tr><th></th><th scope=col>Res.Df</th><th scope=col>RSS</th><th scope=col>Df</th><th scope=col>Sum of Sq</th><th scope=col>F</th><th scope=col>Pr(&gt;F)</th></tr>\n",
              "\t<tr><th></th><th scope=col>&lt;dbl&gt;</th><th scope=col>&lt;dbl&gt;</th><th scope=col>&lt;dbl&gt;</th><th scope=col>&lt;dbl&gt;</th><th scope=col>&lt;dbl&gt;</th><th scope=col>&lt;dbl&gt;</th></tr>\n",
              "</thead>\n",
              "<tbody>\n",
              "\t<tr><th scope=row>1</th><td>96</td><td>45.50375</td><td>NA</td><td>       NA</td><td>       NA</td><td>       NA</td></tr>\n",
              "\t<tr><th scope=row>2</th><td>95</td><td>45.10763</td><td> 1</td><td>0.3961221</td><td>0.8342623</td><td>0.3633552</td></tr>\n",
              "</tbody>\n",
              "</table>\n"
            ],
            "text/markdown": "\nA anova: 2 × 6\n\n| <!--/--> | Res.Df &lt;dbl&gt; | RSS &lt;dbl&gt; | Df &lt;dbl&gt; | Sum of Sq &lt;dbl&gt; | F &lt;dbl&gt; | Pr(&gt;F) &lt;dbl&gt; |\n|---|---|---|---|---|---|---|\n| 1 | 96 | 45.50375 | NA |        NA |        NA |        NA |\n| 2 | 95 | 45.10763 |  1 | 0.3961221 | 0.8342623 | 0.3633552 |\n\n",
            "text/latex": "A anova: 2 × 6\n\\begin{tabular}{r|llllll}\n  & Res.Df & RSS & Df & Sum of Sq & F & Pr(>F)\\\\\n  & <dbl> & <dbl> & <dbl> & <dbl> & <dbl> & <dbl>\\\\\n\\hline\n\t1 & 96 & 45.50375 & NA &        NA &        NA &        NA\\\\\n\t2 & 95 & 45.10763 &  1 & 0.3961221 & 0.8342623 & 0.3633552\\\\\n\\end{tabular}\n",
            "text/plain": [
              "  Res.Df RSS      Df Sum of Sq F         Pr(>F)   \n",
              "1 96     45.50375 NA        NA        NA        NA\n",
              "2 95     45.10763  1 0.3961221 0.8342623 0.3633552"
            ]
          },
          "metadata": {}
        }
      ]
    },
    {
      "cell_type": "code",
      "source": [
        "# p-value\n",
        "car::linearHypothesis(model.r, \"I_GDP + n_g_s = 0\")$`Pr(>F)`[2]"
      ],
      "metadata": {
        "colab": {
          "base_uri": "https://localhost:8080/",
          "height": 34
        },
        "id": "1V0vkjOyUyAT",
        "outputId": "9e7aa0a6-c9a8-47c6-dcfe-e4d988661ba6"
      },
      "execution_count": 12,
      "outputs": [
        {
          "output_type": "display_data",
          "data": {
            "text/html": [
              "0.363355193692659"
            ],
            "text/markdown": "0.363355193692659",
            "text/latex": "0.363355193692659",
            "text/plain": [
              "[1] 0.3633552"
            ]
          },
          "metadata": {}
        }
      ]
    },
    {
      "cell_type": "markdown",
      "source": [
        "Implied α\n",
        "\n",
        "The \"Implied α\" (implied alpha) shown in the Mankiw, Romer and Weil table refers to the share of capital in the Cobb-Douglas production function of the Solow model.\n"
      ],
      "metadata": {
        "id": "z5C3y6IuU0W0"
      }
    },
    {
      "cell_type": "code",
      "source": [
        "# alpha\n",
        "alpha <- coef(model.r)[2] / (1 + coef(model.r)[2])\n",
        "alpha"
      ],
      "metadata": {
        "colab": {
          "base_uri": "https://localhost:8080/",
          "height": 34
        },
        "id": "6QpGO0o2U7xU",
        "outputId": "5cfbfee7-0cca-4d2a-c664-9ab5f8eb50c0"
      },
      "execution_count": 13,
      "outputs": [
        {
          "output_type": "display_data",
          "data": {
            "text/html": [
              "<strong>I_GDP:</strong> 0.587461176750995"
            ],
            "text/markdown": "**I_GDP:** 0.587461176750995",
            "text/latex": "\\textbf{I\\textbackslash{}\\_GDP:} 0.587461176750995",
            "text/plain": [
              "    I_GDP \n",
              "0.5874612 "
            ]
          },
          "metadata": {}
        }
      ]
    },
    {
      "cell_type": "markdown",
      "source": [
        "## Table 1: ESTIMATION SOLOW OF THE TEXTBOOK MODE"
      ],
      "metadata": {
        "id": "RXPV8S-3U_VJ"
      }
    },
    {
      "cell_type": "markdown",
      "source": [
        "### Unrestricted regression"
      ],
      "metadata": {
        "id": "DlHfCmQfVBuy"
      }
    },
    {
      "cell_type": "code",
      "source": [
        "# Non-oil, unrestricted regression\n",
        "model1a <- lm(log(Y85) ~ I_GDP + n_g_s,\n",
        "             data=subset(data, N==1))\n",
        "\n",
        "# Intermediate, unrestricted regression\n",
        "model1b <- lm(log(Y85) ~ I_GDP + n_g_s,\n",
        "             data=subset(data, I==1))\n",
        "\n",
        "# OECD, unrestricted regression\n",
        "model1c <- lm(log(Y85) ~ I_GDP + n_g_s,\n",
        "             data=subset(data, O==1))"
      ],
      "metadata": {
        "id": "nfKtL-pYVFUo"
      },
      "execution_count": 14,
      "outputs": []
    },
    {
      "cell_type": "code",
      "source": [
        "# Table 1 - Unrestricted regression\n",
        "modelsummary(list(model1a, model1b, model1c),\n",
        "             stars = c('*' = .1, '**' = .05, '***' = .01),\n",
        "             gof_map = c(\"nobs\", \"r.squared\"),\n",
        "             coef_rename = c('(Intercept)' = \"CONSTANT\",\n",
        "                             'I_GDP' = 'ln(I/GDP)',\n",
        "                             'n_g_s' = 'ln(n + g + δ)'))"
      ],
      "metadata": {
        "colab": {
          "base_uri": "https://localhost:8080/",
          "height": 399
        },
        "id": "0cgVQgiUVIFJ",
        "outputId": "e72eeea0-fa0c-48be-ebd6-a95dc6839d22"
      },
      "execution_count": 16,
      "outputs": [
        {
          "output_type": "display_data",
          "data": {
            "text/plain": [
              "\n",
              "+---------------+-----------+-----------+----------+\n",
              "|               | (1)       | (2)       | (3)      |\n",
              "+===============+===========+===========+==========+\n",
              "| CONSTANT      | 5.430***  | 5.346***  | 8.021*** |\n",
              "+---------------+-----------+-----------+----------+\n",
              "|               | (1.584)   | (1.543)   | (2.518)  |\n",
              "+---------------+-----------+-----------+----------+\n",
              "| ln(I/GDP)     | 1.424***  | 1.318***  | 0.500    |\n",
              "+---------------+-----------+-----------+----------+\n",
              "|               | (0.143)   | (0.171)   | (0.434)  |\n",
              "+---------------+-----------+-----------+----------+\n",
              "| ln(n + g + δ) | -1.990*** | -2.017*** | -0.742   |\n",
              "+---------------+-----------+-----------+----------+\n",
              "|               | (0.563)   | (0.534)   | (0.852)  |\n",
              "+---------------+-----------+-----------+----------+\n",
              "| Num.Obs.      | 98        | 75        | 22       |\n",
              "+---------------+-----------+-----------+----------+\n",
              "| R2            | 0.601     | 0.599     | 0.106    |\n",
              "+===============+===========+===========+==========+\n",
              "| * p < 0.1, ** p < 0.05, *** p < 0.01             |\n",
              "+===============+===========+===========+==========+ "
            ]
          },
          "metadata": {}
        }
      ]
    },
    {
      "cell_type": "markdown",
      "source": [
        "### Restricted regression (ln(I/GDP) - ln(n + g )+ δ)"
      ],
      "metadata": {
        "id": "IJdbaWgEVK9Q"
      }
    },
    {
      "cell_type": "code",
      "source": [
        "# Non-oil, restricted regression\n",
        "model2a <- lm(log(Y85) ~ I(I_GDP - n_g_s),\n",
        "             data=subset(data, N==1))\n",
        "\n",
        "# Intermediate, restricted regression\n",
        "model2b <- lm(log(Y85) ~ I(I_GDP - n_g_s),\n",
        "             data=subset(data, I==1))\n",
        "\n",
        "# OECD, restricted regression\n",
        "model2c <- lm(log(Y85) ~ I(I_GDP - n_g_s),\n",
        "             data=subset(data, O==1))"
      ],
      "metadata": {
        "id": "EfSJjDYDVOsm"
      },
      "execution_count": 17,
      "outputs": []
    },
    {
      "cell_type": "code",
      "source": [
        "# Table 1 - Restricted regression\n",
        "modelsummary(list(model2a, model2b, model2c),\n",
        "             stars = c('*' = .1, '**' = .05, '***' = .01),\n",
        "             gof_map = c(\"nobs\", \"r.squared\"),\n",
        "             coef_rename = c('(Intercept)' = \"CONSTANT\",\n",
        "                             'I(I_GDP - n_g_s)' = 'ln(I/GDP) - ln(n + g + δ)'))"
      ],
      "metadata": {
        "colab": {
          "base_uri": "https://localhost:8080/",
          "height": 329
        },
        "id": "PffNPSVyVWvY",
        "outputId": "c79ab81d-bdb7-48ab-d2d6-bf30eec830ac"
      },
      "execution_count": 18,
      "outputs": [
        {
          "output_type": "display_data",
          "data": {
            "text/plain": [
              "\n",
              "+---------------------------+----------+----------+----------+\n",
              "|                           | (1)      | (2)      | (3)      |\n",
              "+===========================+==========+==========+==========+\n",
              "| CONSTANT                  | 6.872*** | 7.093*** | 8.624*** |\n",
              "+---------------------------+----------+----------+----------+\n",
              "|                           | (0.121)  | (0.146)  | (0.533)  |\n",
              "+---------------------------+----------+----------+----------+\n",
              "| ln(I/GDP) - ln(n + g + δ) | 1.488*** | 1.431*** | 0.554    |\n",
              "+---------------------------+----------+----------+----------+\n",
              "|                           | (0.125)  | (0.139)  | (0.365)  |\n",
              "+---------------------------+----------+----------+----------+\n",
              "| Num.Obs.                  | 98       | 75       | 22       |\n",
              "+---------------------------+----------+----------+----------+\n",
              "| R2                        | 0.597    | 0.592    | 0.103    |\n",
              "+===========================+==========+==========+==========+\n",
              "| * p < 0.1, ** p < 0.05, *** p < 0.01                       |\n",
              "+===========================+==========+==========+==========+ "
            ]
          },
          "metadata": {}
        }
      ]
    },
    {
      "cell_type": "code",
      "source": [
        "# test of restriction\n",
        "test_a <- car::linearHypothesis(model1a, \"I_GDP + n_g_s = 0\")\n",
        "test_b <- car::linearHypothesis(model1b, \"I_GDP + n_g_s = 0\")\n",
        "test_c <- car::linearHypothesis(model1c, \"I_GDP + n_g_s = 0\")"
      ],
      "metadata": {
        "id": "DtukufEBVYxi"
      },
      "execution_count": 19,
      "outputs": []
    },
    {
      "cell_type": "code",
      "source": [
        "# p-values\n",
        "p_value_a <- test_a$`Pr(>F)`[2]\n",
        "p_value_b <- test_b$`Pr(>F)`[2]\n",
        "p_value_c <- test_c$`Pr(>F)`[2]"
      ],
      "metadata": {
        "id": "-gzPNGITVaZE"
      },
      "execution_count": 20,
      "outputs": []
    },
    {
      "cell_type": "code",
      "source": [
        "# Implied α\n",
        "alpha_a <- coef(model2a)[2] / (1 + coef(model2a)[2])\n",
        "alpha_b <- coef(model2b)[2] / (1 + coef(model2b)[2])\n",
        "alpha_c <- coef(model2c)[2] / (1 + coef(model2c)[2])"
      ],
      "metadata": {
        "id": "Cf_JXKuwVb08"
      },
      "execution_count": 21,
      "outputs": []
    },
    {
      "cell_type": "code",
      "source": [
        "test_rest <- data.frame(\n",
        "  Sample = c(\"Non-oil\", \"Intermediate\", \"OECD\"),\n",
        "  p_value = c(p_value_a, p_value_b, p_value_c),\n",
        "  Implied_alpha = c(alpha_a, alpha_b, alpha_c)\n",
        ")\n",
        "\n",
        "test_rest"
      ],
      "metadata": {
        "colab": {
          "base_uri": "https://localhost:8080/",
          "height": 192
        },
        "id": "VU48NR4bVdRE",
        "outputId": "856085ae-c8d4-4c3c-ffc4-cc58688085c9"
      },
      "execution_count": 22,
      "outputs": [
        {
          "output_type": "display_data",
          "data": {
            "text/html": [
              "<table class=\"dataframe\">\n",
              "<caption>A data.frame: 3 × 3</caption>\n",
              "<thead>\n",
              "\t<tr><th scope=col>Sample</th><th scope=col>p_value</th><th scope=col>Implied_alpha</th></tr>\n",
              "\t<tr><th scope=col>&lt;chr&gt;</th><th scope=col>&lt;dbl&gt;</th><th scope=col>&lt;dbl&gt;</th></tr>\n",
              "</thead>\n",
              "<tbody>\n",
              "\t<tr><td>Non-oil     </td><td>0.3633552</td><td>0.5980698</td></tr>\n",
              "\t<tr><td>Intermediate</td><td>0.2592063</td><td>0.5886391</td></tr>\n",
              "\t<tr><td>OECD        </td><td>0.8085913</td><td>0.3564350</td></tr>\n",
              "</tbody>\n",
              "</table>\n"
            ],
            "text/markdown": "\nA data.frame: 3 × 3\n\n| Sample &lt;chr&gt; | p_value &lt;dbl&gt; | Implied_alpha &lt;dbl&gt; |\n|---|---|---|\n| Non-oil      | 0.3633552 | 0.5980698 |\n| Intermediate | 0.2592063 | 0.5886391 |\n| OECD         | 0.8085913 | 0.3564350 |\n\n",
            "text/latex": "A data.frame: 3 × 3\n\\begin{tabular}{lll}\n Sample & p\\_value & Implied\\_alpha\\\\\n <chr> & <dbl> & <dbl>\\\\\n\\hline\n\t Non-oil      & 0.3633552 & 0.5980698\\\\\n\t Intermediate & 0.2592063 & 0.5886391\\\\\n\t OECD         & 0.8085913 & 0.3564350\\\\\n\\end{tabular}\n",
            "text/plain": [
              "  Sample       p_value   Implied_alpha\n",
              "1 Non-oil      0.3633552 0.5980698    \n",
              "2 Intermediate 0.2592063 0.5886391    \n",
              "3 OECD         0.8085913 0.3564350    "
            ]
          },
          "metadata": {}
        }
      ]
    },
    {
      "cell_type": "markdown",
      "source": [
        "## Table 2: ESTIMATION SOLOW OF THE AUGMENTED MODE"
      ],
      "metadata": {
        "id": "ckLCclBdVfQy"
      }
    },
    {
      "cell_type": "code",
      "source": [
        "# Non-oil\n",
        "model3a <- lm(log(Y85) ~ I_GDP + n_g_s + log_school, data=subset(data, N==1))\n",
        "model4a <- lm(log(Y85) ~ I(I_GDP - n_g_s) + I(log_school - n_g_s), data=subset(data, N==1))\n",
        "\n",
        "# Intermediate\n",
        "model3b <- lm(log(Y85) ~ I_GDP + n_g_s + log_school, data=subset(data, I==1))\n",
        "model4b <- lm(log(Y85) ~ I(I_GDP - n_g_s) + I(log_school - n_g_s), data=subset(data, I==1))\n",
        "\n",
        "# OECD\n",
        "model3c <- lm(log(Y85) ~ I_GDP + n_g_s + log_school, data=subset(data, O==1))\n",
        "model4c <- lm(log(Y85) ~ I(I_GDP - n_g_s) + I(log_school - n_g_s), data=subset(data, O==1))\n"
      ],
      "metadata": {
        "id": "s2MWcnT3VfB7"
      },
      "execution_count": 23,
      "outputs": []
    },
    {
      "cell_type": "code",
      "source": [
        "# Table 2 - Unrestricted regression\n",
        "modelsummary(list(model3a, model3b, model3c),\n",
        "             stars = c('*' = .1, '**' = .05, '***' = .01),\n",
        "             gof_map = c(\"nobs\", \"r.squared\"),\n",
        "             coef_rename = c('(Intercept)' = \"CONSTANT\",\n",
        "                             'I_GDP' = 'ln(I/GDP)',\n",
        "                             'n_g_s' = 'ln(n + g + δ)',\n",
        "                             'log_school' = 'ln(SCHOOL)'))"
      ],
      "metadata": {
        "colab": {
          "base_uri": "https://localhost:8080/",
          "height": 468
        },
        "id": "3KdZ6BinVl65",
        "outputId": "8c2c07f0-31f0-4280-a5f2-b7c4ea484ca5"
      },
      "execution_count": 24,
      "outputs": [
        {
          "output_type": "display_data",
          "data": {
            "text/plain": [
              "\n",
              "+---------------+-----------+-----------+----------+\n",
              "|               | (1)       | (2)       | (3)      |\n",
              "+===============+===========+===========+==========+\n",
              "| CONSTANT      | 6.844***  | 7.791***  | 8.637*** |\n",
              "+---------------+-----------+-----------+----------+\n",
              "|               | (1.177)   | (1.192)   | (2.214)  |\n",
              "+---------------+-----------+-----------+----------+\n",
              "| ln(I/GDP)     | 0.697***  | 0.700***  | 0.276    |\n",
              "+---------------+-----------+-----------+----------+\n",
              "|               | (0.133)   | (0.151)   | (0.389)  |\n",
              "+---------------+-----------+-----------+----------+\n",
              "| ln(n + g + δ) | -1.745*** | -1.500*** | -1.076   |\n",
              "+---------------+-----------+-----------+----------+\n",
              "|               | (0.416)   | (0.403)   | (0.756)  |\n",
              "+---------------+-----------+-----------+----------+\n",
              "| ln(SCHOOL)    | 0.654***  | 0.731***  | 0.768**  |\n",
              "+---------------+-----------+-----------+----------+\n",
              "|               | (0.073)   | (0.095)   | (0.293)  |\n",
              "+---------------+-----------+-----------+----------+\n",
              "| Num.Obs.      | 98        | 75        | 22       |\n",
              "+---------------+-----------+-----------+----------+\n",
              "| R2            | 0.786     | 0.781     | 0.352    |\n",
              "+===============+===========+===========+==========+\n",
              "| * p < 0.1, ** p < 0.05, *** p < 0.01             |\n",
              "+===============+===========+===========+==========+ "
            ]
          },
          "metadata": {}
        }
      ]
    },
    {
      "cell_type": "code",
      "source": [
        "# Table 2 - Restricted regression\n",
        "modelsummary(list(model4a, model4b, model4c),\n",
        "             stars = c('*' = .1, '**' = .05, '***' = .01),\n",
        "             gof_map = c(\"nobs\", \"r.squared\"),\n",
        "             coef_rename = c('(Intercept)' = \"CONSTANT\",\n",
        "                             'I(I_GDP - n_g_s)' = 'ln(I/GDP) - ln(n + g + δ)',\n",
        "                             'I(log_school - n_g_s)' = 'ln(SCHOOL) - ln(n + g + δ)'))"
      ],
      "metadata": {
        "colab": {
          "base_uri": "https://localhost:8080/",
          "height": 399
        },
        "id": "wvjWJ0JEVn3n",
        "outputId": "200d2fb7-7c07-4d39-c9cc-87791afae62c"
      },
      "execution_count": 25,
      "outputs": [
        {
          "output_type": "display_data",
          "data": {
            "text/plain": [
              "\n",
              "+----------------------------+----------+----------+----------+\n",
              "|                            | (1)      | (2)      | (3)      |\n",
              "+============================+==========+==========+==========+\n",
              "| CONSTANT                   | 7.853*** | 7.966*** | 8.716*** |\n",
              "+----------------------------+----------+----------+----------+\n",
              "|                            | (0.140)  | (0.154)  | (0.466)  |\n",
              "+----------------------------+----------+----------+----------+\n",
              "| ln(I/GDP) - ln(n + g + δ)  | 0.738*** | 0.709*** | 0.283    |\n",
              "+----------------------------+----------+----------+----------+\n",
              "|                            | (0.124)  | (0.138)  | (0.334)  |\n",
              "+----------------------------+----------+----------+----------+\n",
              "| ln(SCHOOL) - ln(n + g + δ) | 0.657*** | 0.733*** | 0.769**  |\n",
              "+----------------------------+----------+----------+----------+\n",
              "|                            | (0.073)  | (0.093)  | (0.284)  |\n",
              "+----------------------------+----------+----------+----------+\n",
              "| Num.Obs.                   | 98       | 75       | 22       |\n",
              "+----------------------------+----------+----------+----------+\n",
              "| R2                         | 0.784    | 0.781    | 0.352    |\n",
              "+============================+==========+==========+==========+\n",
              "| * p < 0.1, ** p < 0.05, *** p < 0.01                        |\n",
              "+============================+==========+==========+==========+ "
            ]
          },
          "metadata": {}
        }
      ]
    },
    {
      "cell_type": "markdown",
      "source": [
        "## Table 3: TESTS FOR UNCONDITIONAL CONVERGE"
      ],
      "metadata": {
        "id": "4ATn-XViVp5d"
      }
    },
    {
      "cell_type": "code",
      "source": [
        "# Non-oil\n",
        "model5a <- lm(log(Y85)-log(Y60) ~ log(Y60) , data=subset(data, N==1))\n",
        "\n",
        "# Intermediate\n",
        "model5b <- lm(log(Y85)-log(Y60) ~ log(Y60) , data=subset(data, I==1))\n",
        "\n",
        "# OECD\n",
        "model5c <- lm(log(Y85)-log(Y60) ~ log(Y60) , data=subset(data, O==1))\n"
      ],
      "metadata": {
        "id": "qVBTMfg1VsAG"
      },
      "execution_count": 26,
      "outputs": []
    },
    {
      "cell_type": "code",
      "source": [
        "# Table 3\n",
        "modelsummary(list(model5a, model5b, model5c),\n",
        "             stars = c('*' = .1, '**' = .05, '***' = .01),\n",
        "             gof_map = c(\"nobs\", \"r.squared\"),\n",
        "             coef_rename = c('(Intercept)' = \"CONSTANT\",\n",
        "                             'log(Y60)' = 'ln(Y60)'))"
      ],
      "metadata": {
        "colab": {
          "base_uri": "https://localhost:8080/",
          "height": 329
        },
        "id": "7Ajy7YBsVtuM",
        "outputId": "214d51dd-3990-4dca-ba99-67d621f5a936"
      },
      "execution_count": 27,
      "outputs": [
        {
          "output_type": "display_data",
          "data": {
            "text/plain": [
              "\n",
              "+----------+---------+---------+-----------+\n",
              "|          | (1)     | (2)     | (3)       |\n",
              "+==========+=========+=========+===========+\n",
              "| CONSTANT | -0.267  | 0.588   | 3.686***  |\n",
              "+----------+---------+---------+-----------+\n",
              "|          | (0.380) | (0.433) | (0.685)   |\n",
              "+----------+---------+---------+-----------+\n",
              "| ln(Y60)  | 0.094*  | -0.004  | -0.341*** |\n",
              "+----------+---------+---------+-----------+\n",
              "|          | (0.050) | (0.055) | (0.079)   |\n",
              "+----------+---------+---------+-----------+\n",
              "| Num.Obs. | 98      | 75      | 22        |\n",
              "+----------+---------+---------+-----------+\n",
              "| R2       | 0.036   | 0.000   | 0.485     |\n",
              "+==========+=========+=========+===========+\n",
              "| * p < 0.1, ** p < 0.05, *** p < 0.01     |\n",
              "+==========+=========+=========+===========+ "
            ]
          },
          "metadata": {}
        }
      ]
    },
    {
      "cell_type": "code",
      "source": [
        "# Implied λ\n",
        "\n",
        "# coefficient for log(Y60)\n",
        "beta_a <- coef(model5a)[2]\n",
        "T <- 25  # Time period 1985-1960\n",
        "\n",
        "# calculate lambda (convergence rate)\n",
        "lambda_a <- -(-log(1 - beta_a) / T)\n",
        "\n",
        "cat(sprintf(\"Non-oil Implied λ: %.5f\\n\", lambda_a))\n"
      ],
      "metadata": {
        "colab": {
          "base_uri": "https://localhost:8080/"
        },
        "id": "cTv6jWjLVv4w",
        "outputId": "51b954f2-d952-427e-f765-1293d438765f"
      },
      "execution_count": 28,
      "outputs": [
        {
          "output_type": "stream",
          "name": "stdout",
          "text": [
            "Non-oil Implied λ: -0.00396\n"
          ]
        }
      ]
    }
  ]
}