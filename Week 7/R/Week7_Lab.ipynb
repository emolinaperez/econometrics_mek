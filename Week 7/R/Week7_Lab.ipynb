{
  "nbformat": 4,
  "nbformat_minor": 0,
  "metadata": {
    "colab": {
      "provenance": [],
      "authorship_tag": "ABX9TyPIAvR3pjiNHm3zM34QgX0E",
      "include_colab_link": true
    },
    "kernelspec": {
      "name": "ir",
      "display_name": "R"
    },
    "language_info": {
      "name": "R"
    }
  },
  "cells": [
    {
      "cell_type": "markdown",
      "metadata": {
        "id": "view-in-github",
        "colab_type": "text"
      },
      "source": [
        "<a href=\"https://colab.research.google.com/github/emolinaperez/econometrics_mek/blob/main/Week%207/R/Week7_Lab.ipynb\" target=\"_parent\"><img src=\"https://colab.research.google.com/assets/colab-badge.svg\" alt=\"Open In Colab\"/></a>"
      ]
    },
    {
      "cell_type": "code",
      "execution_count": null,
      "metadata": {
        "colab": {
          "base_uri": "https://localhost:8080/"
        },
        "id": "KzQbr1WTzab8",
        "outputId": "fdea86e2-6e36-4b49-f6ab-75eb844cdcbf"
      },
      "outputs": [
        {
          "output_type": "stream",
          "name": "stderr",
          "text": [
            "Installing packages into ‘/usr/local/lib/R/site-library’\n",
            "(as ‘lib’ is unspecified)\n",
            "\n"
          ]
        }
      ],
      "source": [
        "#install packages\n",
        "install.packages(c(\"haven\", \"fixest\",\"modelsummary\", \"olsrr\", \"caret\",\"randomForest\", \"cv\", \"ISLR2\"))\n",
        "library(tidyverse)\n",
        "library(data.table)\n",
        "library(ggplot2)\n",
        "library(haven)\n",
        "library(fixest)\n",
        "library(modelsummary)\n",
        "library(olsrr)"
      ]
    },
    {
      "cell_type": "code",
      "source": [
        "rm(list=ls())\n",
        "#load data\n",
        "Data.File<-\"https://raw.githubusercontent.com/emolinaperez/econometrics_mek/main/Week%207/data/AJR2001.dta\"\n",
        "Data<-read_dta(Data.File)"
      ],
      "metadata": {
        "id": "eYOpusovzi1W"
      },
      "execution_count": null,
      "outputs": []
    },
    {
      "cell_type": "code",
      "source": [
        "head(Data)"
      ],
      "metadata": {
        "id": "suPaH_71zkjj"
      },
      "execution_count": null,
      "outputs": []
    },
    {
      "cell_type": "code",
      "source": [
        "dim(Data)"
      ],
      "metadata": {
        "id": "FE2dKzK9zl3Q"
      },
      "execution_count": null,
      "outputs": []
    },
    {
      "cell_type": "code",
      "source": [
        "str(Data)"
      ],
      "metadata": {
        "id": "C9oo5urxzmrv"
      },
      "execution_count": null,
      "outputs": []
    },
    {
      "cell_type": "code",
      "source": [
        "# Fig1b: Remove latitude and continent dummies\n",
        "\n",
        "ggplot(Data, aes(x = logmort0, y = risk)) +\n",
        "  # Add scatter points\n",
        "  geom_point(size = 2) +\n",
        "  # Add text labels for each point\n",
        "  geom_text(aes(label = shortnam),\n",
        "            vjust = -0.5,  # Adjust vertical position of text\n",
        "            size = 3) +  # Text size\n",
        "  # Add linear fit line\n",
        "  geom_smooth(method = \"lm\",\n",
        "              se = FALSE,  # Without error bands\n",
        "              color = \"blue\") +\n",
        "  # Customize titles and labels\n",
        "  labs(title = \"Figure 1a: Without Controls\",\n",
        "       x = \"Log Settler Mortality\",\n",
        "       y = \"Expropriation Risk\") +\n",
        "  # Customize theme and scale\n",
        "  theme_classic() +  # White background and clean design\n",
        "  scale_y_continuous(breaks = seq(4, 10, by = 2))"
      ],
      "metadata": {
        "id": "UnPdA-f4zp8T"
      },
      "execution_count": null,
      "outputs": []
    },
    {
      "cell_type": "code",
      "source": [
        "# Fig1b: Remove latitude and continent dummies\n",
        "\n",
        "model1 <- lm(risk ~ asia + africa + other + latitude, data = Data)\n",
        "Data$Rrisk <- residuals(model1)\n",
        "\n",
        "# Second regression to get Rlmort\n",
        "model2 <- lm(logmort0 ~ asia + africa + other + latitude, data = Data)\n",
        "Data$Rlmort <- residuals(model2)\n",
        "\n",
        "ggplot(Data, aes(x = Rlmort, y = Rrisk)) +\n",
        "  # Add scatter points\n",
        "  geom_point(size = 2) +\n",
        "  # Add text labels for each point\n",
        "  geom_text(aes(label = shortnam),\n",
        "            vjust = -0.5,  # Adjust vertical position of text\n",
        "            size = 3) +  # Text size\n",
        "  # Add linear fit line\n",
        "  geom_smooth(method = \"lm\",\n",
        "              se = FALSE,  # Without error bands\n",
        "              color = \"blue\") +\n",
        "  # Customize titles and labels\n",
        "  labs(title = \"Figure 1b: Controlling for Latitude and Continent Dummies\",\n",
        "       x = \"Residual Log Settler Mortality\",\n",
        "       y = \"Residual Expropriation Risk\") +\n",
        "  # Customize theme and scale\n",
        "  theme_classic() +  # White background and clean design\n",
        "  scale_y_continuous(breaks = seq(-2, 3, by = 2))"
      ],
      "metadata": {
        "id": "QBBHc2aNzqzA"
      },
      "execution_count": null,
      "outputs": []
    },
    {
      "cell_type": "code",
      "source": [
        "# TABLE 1—DESCRIPTIVE STATISTICS\n",
        "\n",
        "t1data <- read_dta(\"https://raw.githubusercontent.com/emolinaperez/econometrics_mek/main/Week%207/data/maketable1.dta\") %>% as.data.table()\n"
      ],
      "metadata": {
        "id": "jGcAXevhrkjv"
      },
      "execution_count": null,
      "outputs": []
    },
    {
      "cell_type": "code",
      "source": [
        "table <- function(dt, variables) {\n",
        "  # Crear una lista vacía para almacenar los resultados\n",
        "  stats_list <- list()\n",
        "\n",
        "  # Para cada variable, calcular media y SD\n",
        "  for(var in variables) {\n",
        "    stats_list[[var]] <- c(\n",
        "      mean(dt[[var]], na.rm = TRUE),\n",
        "      sd(dt[[var]], na.rm = TRUE)\n",
        "    )\n",
        "  }\n",
        "\n",
        "  # Convertir a data.table\n",
        "  stats_dt <- data.table(stats_list)\n",
        "\n",
        "  return(stats_dt)\n",
        "}"
      ],
      "metadata": {
        "id": "LJzasBwRtGF3"
      },
      "execution_count": null,
      "outputs": []
    },
    {
      "cell_type": "code",
      "source": [
        "stats_by_mortality <- function(dt, variables) {\n",
        "\n",
        "  ranges <- list(\n",
        "    range1 = list(min = -Inf, max = 65.4),\n",
        "    range2 = list(min = 65.4, max = 78.1),\n",
        "    range3 = list(min = 78.1, max = 280),\n",
        "    range4 = list(min = 280, max = Inf)\n",
        "  )\n",
        "\n",
        "  stats_list <- list()\n",
        "\n",
        "  for(var in variables) {\n",
        "    means <- numeric(4)\n",
        "\n",
        "    for(i in 1:4) {\n",
        "      range <- ranges[[i]]\n",
        "      means[i] <- dt[excolony == 1 &\n",
        "                    !is.na(extmort4) &\n",
        "                    !is.na(avexpr) &\n",
        "                    !is.na(logpgp95) &\n",
        "                    extmort4 >= range$min &\n",
        "                    extmort4 < range$max,\n",
        "                    mean(get(var), na.rm = TRUE)]\n",
        "    }\n",
        "\n",
        "    stats_list[[var]] <- means\n",
        "  }\n",
        "\n",
        "  stats_dt <- data.frame(stats_list)\n",
        "\n",
        "  return(stats_dt)\n",
        "}"
      ],
      "metadata": {
        "id": "ckUU42iuuMxu"
      },
      "execution_count": null,
      "outputs": []
    },
    {
      "cell_type": "code",
      "source": [
        "# table\n",
        "vars <- c(\"logpgp95\", \"loghjypl\", \"avexpr\", \"cons00a\",\"cons90\", \"cons1\", \"democ00a\", \"euro1900\",\"logem4\")\n",
        "c1 <- table(t1data, vars)\n",
        "c2 <- table(t1data[baseco==1,], vars)\n",
        "c3 <- stats_by_mortality(t1data, vars)\n",
        "\n",
        "table_1 <- cbind(c(\"log GDP per capita, PPP, in 1995\",\n",
        "                       \"log output per worker in 1988\",\n",
        "                       \"Average protection against expropriation risk, 1985-1995\",\n",
        "                       \"Constraint on executive, 1900\",\n",
        "                       \"Constraint on executive in 1990\",\n",
        "                       \"Constraint on executive in first year of independence\",\n",
        "                       \"Democracy in 1900\",\n",
        "                       \"European settlement in 1900\",\n",
        "                       \"Log European settler mortality\"),\n",
        "                       c1,c2,c3)\n",
        "\n",
        "#colnames(table_1) <- c('Var','Whole world', 'Base sample', \"Q\")\n",
        "\n",
        "# print table\n",
        "table_1"
      ],
      "metadata": {
        "id": "cLLXJd4rtLB8"
      },
      "execution_count": null,
      "outputs": []
    },
    {
      "cell_type": "code",
      "source": [
        "# TABLE 2—OLS REGRESSIONS\n",
        "t2data <- read_dta(\"https://raw.githubusercontent.com/emolinaperez/econometrics_mek/main/Week%207/data/maketable2.dta\") %>% as.data.table()\n",
        "\n",
        "c1 <- lm(logpgp95 ~ avexpr, data = t2data)\n",
        "c2 <- lm(logpgp95 ~ avexpr, data = t2data[baseco==1,])\n",
        "c3 <- lm(logpgp95 ~ avexpr + lat_abst, data = t2data)\n",
        "c4 <- lm(logpgp95 ~ avexpr + lat_abst + africa + asia + other, data = t2data)\n",
        "c5 <- lm(logpgp95 ~ avexpr + lat_abst , data = t2data[baseco==1,])\n",
        "c6 <- lm(logpgp95 ~ avexpr + lat_abst + africa + asia + other, data = t2data[baseco==1,])\n",
        "c7 <- lm(loghjypl ~ avexpr , data = t2data)\n",
        "c8 <- lm(loghjypl ~ avexpr , data = t2data[baseco==1,])"
      ],
      "metadata": {
        "id": "zhakP8LkwIC_"
      },
      "execution_count": null,
      "outputs": []
    },
    {
      "cell_type": "code",
      "source": [
        "modelsummary(list(c1,c2,c3,c4,c5,c6,c7,c8),\n",
        "             coef_omit = \"(Intercept)\",\n",
        "             coef_map = c(\n",
        "               \"avexpr\"= \"Average risk, 1985–1995\",\n",
        "               \"lat_abst\" = \"Latitude\",\n",
        "               \"africa\" = \"Africa Dummy\",\n",
        "               \"asia\" = \"Asia Dummy\",\n",
        "               \"other\" = \"Other Continent Dummy\"),\n",
        "             stars = TRUE)"
      ],
      "metadata": {
        "id": "6wyAkECQwj9C"
      },
      "execution_count": null,
      "outputs": []
    },
    {
      "cell_type": "markdown",
      "source": [],
      "metadata": {
        "id": "iWcZ5osVwHzx"
      }
    },
    {
      "cell_type": "code",
      "source": [
        "# TABLE 4—IV REGRESSIONS OF LOG GDP PER CAPITA\n",
        "\n",
        "# Panel C: OLS\n",
        "ols1 <- lm(loggdp ~ risk, data = Data)\n",
        "ols2 <- lm(loggdp ~ risk + latitude, data = Data)\n",
        "ols3 <- lm(loggdp ~ risk + latitude + africa + asia + other, data = Data)\n",
        "\n",
        "# table\n",
        "modelsummary(list(ols1,ols2, ols3),\n",
        "             coef_omit = \"(Intercept)\",\n",
        "             coef_map = c(\n",
        "               \"risk\"= \"Expropriation risk\",\n",
        "               \"latitude\" = \"Latitude\",\n",
        "               \"africa\" = \"Africa Dummy\",\n",
        "               \"asia\" = \"Asia Dummy\",\n",
        "               \"other\" = \"Other Continent Dummy\"),\n",
        "             stars = TRUE)"
      ],
      "metadata": {
        "id": "bS28Vg-VzvFF"
      },
      "execution_count": null,
      "outputs": []
    },
    {
      "cell_type": "code",
      "source": [
        "# Panel B: First Stage\n",
        "fs1 <- feols(risk ~ logmort0, data = Data)\n",
        "fs2 <- feols(risk ~ logmort0 + latitude, data = Data)\n",
        "fs3 <- feols(risk ~ logmort0 + latitude + africa + asia + other, data = Data)\n",
        "\n",
        "# table\n",
        "modelsummary(list(fs1,fs2, fs3),\n",
        "             coef_omit = \"(Intercept)\",\n",
        "             coef_map = c(\n",
        "               \"logmort0\"= \"Log European settler mortality\",\n",
        "               \"latitude\" = \"Latitude\",\n",
        "               \"africa\" = \"Africa Dummy\",\n",
        "               \"asia\" = \"Asia Dummy\",\n",
        "               \"other\" = \"Other Continent Dummy\"),\n",
        "             stars = TRUE)"
      ],
      "metadata": {
        "id": "XQEJMWM5zw-V"
      },
      "execution_count": null,
      "outputs": []
    },
    {
      "cell_type": "code",
      "source": [
        "# Panel A: 2SLS (IV) regressions\n",
        "iv1 <- feols(loggdp ~ 1 | risk ~ logmort0, data = Data)\n",
        "iv2 <- feols(loggdp ~ latitude | risk ~ logmort0, data = Data)\n",
        "iv3 <- feols(loggdp ~ latitude + africa + asia + other | risk ~ logmort0, data = Data)\n",
        "\n",
        "# table\n",
        "modelsummary(list(iv1,iv2, iv3),\n",
        "             coef_omit = \"(Intercept)\",\n",
        "             coef_map = c(\n",
        "               \"fit_risk\"= \"Expropriation risk\",\n",
        "               \"latitude\" = \"Latitude\",\n",
        "               \"africa\" = \"Africa Dummy\",\n",
        "               \"asia\" = \"Asia Dummy\",\n",
        "               \"other\" = \"Other Continent Dummy\"),\n",
        "             stars = TRUE)"
      ],
      "metadata": {
        "id": "s9E4IkOrzyc9"
      },
      "execution_count": null,
      "outputs": []
    },
    {
      "cell_type": "code",
      "source": [
        "#define controls\n",
        "controls <- c(\"campaign\",\n",
        "              \"source0\",\n",
        "              \"slave\",\n",
        "              \"neoeuro\",\n",
        "              \"asia\",\n",
        "              \"africa\",\n",
        "              \"other\",\n",
        "              \"campaignsj\",\n",
        "              \"campaignsj2\",\n",
        "              \"wandcafrica\",\n",
        "              \"wacacontested\")\n",
        "\n",
        "#esimate correlation matrix, subset to low correlation covariates\n",
        "cor_table <- cor(Data[,controls],use='complete.obs')\n",
        "\n",
        "cor_table<- apply(cor_table,c(1,2),function(x){ifelse(abs(x)>0.5,0,1)})\n",
        "\n",
        "dim(unique(cor_table))\n",
        "rowSums(cor_table[,controls])\n",
        "length(controls)"
      ],
      "metadata": {
        "id": "7htrqIYoz1TC"
      },
      "execution_count": null,
      "outputs": []
    },
    {
      "cell_type": "code",
      "source": [
        "#create all possible combinations\n",
        "vars <-  list()\n",
        "for (i in 1: length(controls))\n",
        "{\n",
        "  pivot <- c(controls[i],\"\")\n",
        "  vars <- append(vars, list(pivot))\n",
        "}"
      ],
      "metadata": {
        "id": "RWLnrBC1z4QG"
      },
      "execution_count": null,
      "outputs": []
    },
    {
      "cell_type": "code",
      "source": [
        "#create all combinations\n",
        "\n",
        "all.vars<-expand.grid(vars) # all factorial combinations\n",
        "all.vars<-data.frame(all.vars)\n",
        "head(all.vars)\n",
        "dim(all.vars)"
      ],
      "metadata": {
        "id": "3f1XZOnMz5kH"
      },
      "execution_count": null,
      "outputs": []
    },
    {
      "cell_type": "code",
      "source": [
        "#estimate number of terms in models\n",
        "all.vars$N.vars<-rowSums(apply(all.vars,2,function(x){ifelse(x!=\"\",1,0)}))\n",
        "#subset to models with at least 2 vars\n",
        "dim(all.vars)\n",
        "all.vars<-subset(all.vars,N.vars>=2)\n",
        "dim(all.vars)\n",
        "all.vars$id <-1:nrow(all.vars)\n",
        "ids <- all.vars[,c(\"N.vars\",\"id\")]\n",
        "all.vars$id<-NULL\n",
        "all.vars$N.vars<-NULL\n",
        "all.vars<-apply(all.vars,2,function(x) {as.character(x)})\n",
        "#explore object\n",
        "head(all.vars)"
      ],
      "metadata": {
        "id": "8lD5oh54z65_"
      },
      "execution_count": null,
      "outputs": []
    },
    {
      "cell_type": "code",
      "source": [
        "### lets build a function to evaliate our model\n",
        "performance_ols<-function(dependent.variable,treatment,controls,DataSet,id)\n",
        "{\n",
        "  #test code\n",
        "  #dependent.variable <- \"earnq16\"\n",
        "  #treatment <- \"treatmnt\"\n",
        "  #controls <- all.vars[4,]\n",
        "  #DataSet <- Data\n",
        "  model<-as.formula(paste(dependent.variable,\"~\",paste(controls,collapse=\"+\"),\"+\",treatment,sep=\"\"))\n",
        "  linear.model<-lm(model, data=DataSet)\n",
        "  my.SSR <- deviance(linear.model) #residual sum of squares\n",
        "  my.LL <- logLik(linear.model) # log likelihood statistic\n",
        "  my.RSquared <- summary(linear.model)$r.squared\n",
        "  my.aic <- AIC(linear.model) # Akaike information criterion\n",
        "  my.treatment.effect<-summary(linear.model)$coefficients[treatment,\"Estimate\"]\n",
        "  my.treatment.StdEror<-summary(linear.model)$coefficients[treatment,\"Std. Error\"]\n",
        "  #my.VIF<-length(which( vif(linear.model)>2.0 ) ) # number of covariates that exceed the 2 threshold as a proxy for multicollinarity\n",
        "  #  my.cor.e.y<-cor(subset(DataSet[[dependent.variable]],complete.cases(Data[,c(dependent.variable,treatment,subset(controls,controls!=\"\"))])),as.numeric(linear.model$residuals))\n",
        "  #  my.cor.e.t<-cor(subset(DataSet[[treatment]],complete.cases(Data[,c(dependent.variable,treatment, subset(controls,controls!=\"\"))])),as.numeric(linear.model$residuals))\n",
        "  my.Percent.Coeff.Sig<-length(which(summary(linear.model)$coefficients[,\"Pr(>|t|)\"]<0.05))/length(summary(linear.model)$coefficients[,\"Pr(>|t|)\"])\n",
        "  results<-data.frame(SSR=my.SSR,\n",
        "                      LL=my.LL,\n",
        "                      RSquared=my.RSquared,\n",
        "                      AIC=my.aic,\n",
        "                      Effect=my.treatment.effect,\n",
        "                      Std.Error.Effect=my.treatment.StdEror,\n",
        "                      #Eps.T=my.cor.e.t,\n",
        "                      #Eps.Y=my.cor.e.y,\n",
        "                      #VIF=my.VIF,\n",
        "                      Percent.Sig=my.Percent.Coeff.Sig ,\n",
        "                      id = id,\n",
        "                      #Controls=paste(controls,collapse=\"+\"),\n",
        "                      row.names=NULL)\n",
        "  return(results)\n",
        "}"
      ],
      "metadata": {
        "id": "bpAjqiIPz9bA"
      },
      "execution_count": null,
      "outputs": []
    },
    {
      "cell_type": "code",
      "source": [
        "#test the function\n",
        "i<- 1\n",
        "performance_ols(\"loggdp\",\"risk\",as.character(all.vars[i,]),Data,i)\n"
      ],
      "metadata": {
        "id": "NU0jLRHmz-WH"
      },
      "execution_count": null,
      "outputs": []
    },
    {
      "cell_type": "code",
      "source": [
        "head(ids)\n",
        "target_ids<-subset(ids,N.vars==3)$id\n",
        "length(target_ids)\n",
        "#for (i in 1:dim(all.vars)[1])\n",
        "#for (i in 1:10)\n",
        "results <- list()\n",
        "for ( i in target_ids)\n",
        "{\n",
        "  out <- performance_ols(\"loggdp\",\"risk\",all.vars[i,],Data,i)\n",
        "  results <- append(results, list(out))\n",
        "}"
      ],
      "metadata": {
        "id": "t8EN9FSc0yKP"
      },
      "execution_count": null,
      "outputs": []
    },
    {
      "cell_type": "code",
      "source": [
        "#post-process\n",
        "#results\n",
        "results <- do.call(\"rbind\",results)\n",
        "dim(results)\n",
        "head(results)\n",
        "summary(results)"
      ],
      "metadata": {
        "id": "V-u8GjT00zxu"
      },
      "execution_count": null,
      "outputs": []
    },
    {
      "cell_type": "code",
      "source": [
        "#choose a model\n",
        "decision <- subset(results, Percent.Sig>=0.8)\n",
        "decision <- subset(decision, AIC<as.numeric(quantile(results$AIC,0.25)))\n",
        "decision <- decision[order(decision$Std.Error.Effect),]\n",
        "decision <- decision[order(decision$AIC),]\n",
        "head(decision)\n",
        "dim(decision)"
      ],
      "metadata": {
        "id": "Jet1_rsj01pR"
      },
      "execution_count": null,
      "outputs": []
    },
    {
      "cell_type": "code",
      "source": [
        "target_models <- c(72,74)\n",
        "model1<-as.formula(paste(\"loggdp\",\"~\",paste(as.character(all.vars[target_models[1],]),collapse=\"+\"),\"+\",\"risk\",sep=\"\"))\n",
        "model2<-as.formula(paste(\"loggdp\",\"~\",paste(as.character(all.vars[target_models[2],]),collapse=\"+\"),\"+\",\"risk\",sep=\"\"))\n",
        "lm(model1,data=Data)\n",
        "lm(model2,data=Data)"
      ],
      "metadata": {
        "id": "GA69CxJW03Fp"
      },
      "execution_count": null,
      "outputs": []
    },
    {
      "cell_type": "markdown",
      "source": [
        "# Stepwise regresssion"
      ],
      "metadata": {
        "id": "-FisdDrO119t"
      }
    },
    {
      "cell_type": "code",
      "source": [
        "controls\n",
        "\n",
        "model <- lm(loggdp ~ risk + ., data = Data [,c(\"loggdp\",\"risk\",controls)])"
      ],
      "metadata": {
        "id": "_VXkxKaZ2T1p"
      },
      "execution_count": null,
      "outputs": []
    },
    {
      "cell_type": "markdown",
      "source": [
        "## All Possible Regression\n",
        "All subset regression tests all possible subsets of the set of potential independent variables.\n",
        "\n",
        "If there are K potential independent variables (besides the constant), then there are 2k distinct subsets of them to be tested.\n",
        "\n",
        "For example, if you have 10 candidate independent variables, the number of subsets to be tested is 210 ,which is 1024, and if you have 20 candidate variables, the number is 220, which is more than one millio"
      ],
      "metadata": {
        "id": "mout4qwF16r_"
      }
    },
    {
      "cell_type": "code",
      "source": [
        "all <- ols_step_all_possible(model)\n",
        "\n",
        "head(all)"
      ],
      "metadata": {
        "id": "O5CD33t514kv"
      },
      "execution_count": null,
      "outputs": []
    },
    {
      "cell_type": "markdown",
      "source": [
        "## Best Subset Regression\n",
        "Select the subset of predictors that do the best at meeting some well-defined objective criterion, such as having the largest R2 value or the smallest MSE, Mallow’s Cp or AIC."
      ],
      "metadata": {
        "id": "I_An0J5U256Y"
      }
    },
    {
      "cell_type": "code",
      "source": [
        "best_subset <- ols_step_best_subset(model)\n",
        "best_subset"
      ],
      "metadata": {
        "id": "IOH-eYBU23by"
      },
      "execution_count": null,
      "outputs": []
    },
    {
      "cell_type": "markdown",
      "source": [
        "## Stepwise Selection\n",
        "Stepwise regression is a method of fitting regression models that involves the iterative selection of independent variables to use in a model.\n",
        "\n",
        "It can be achieved through forward selection, backward elimination, or a combination of both methods.\n",
        "The forward selection approach starts with no variables and adds each new variable incrementally, testing for statistical significance, while the backward elimination method begins with a full model and then removes the least statistically significant variables one at a time.\n"
      ],
      "metadata": {
        "id": "ycAyKIR34Er4"
      }
    },
    {
      "cell_type": "code",
      "source": [
        "# stepwise forward regression\n",
        "ols_step_forward_p(model)"
      ],
      "metadata": {
        "id": "AasU_4MX41Rw"
      },
      "execution_count": null,
      "outputs": []
    },
    {
      "cell_type": "code",
      "source": [
        "# stepwise backward regression\n",
        "ols_step_backward_p(model)"
      ],
      "metadata": {
        "id": "CblxCJ5X433h"
      },
      "execution_count": null,
      "outputs": []
    },
    {
      "cell_type": "markdown",
      "source": [
        "###The criteria for selecting variables may be one of the following:\n",
        "* p value\n",
        "* akaike information criterion (aic)\n",
        "* schwarz bayesian criterion (sbc)\n",
        "* sawa bayesian criterion (sbic)\n",
        "* r-square\n",
        "* adjusted r-square"
      ],
      "metadata": {
        "id": "28hORCJh4-C3"
      }
    },
    {
      "cell_type": "code",
      "source": [
        "#for example using AIC\n",
        "ols_step_both_aic(model)"
      ],
      "metadata": {
        "id": "Ha-mJDIY5WIT"
      },
      "execution_count": null,
      "outputs": []
    },
    {
      "cell_type": "code",
      "source": [
        "#show progress\n",
        "# adjusted r-square\n",
        "ols_step_forward_adj_r2(model, progress = TRUE)\n"
      ],
      "metadata": {
        "id": "fyxTw3su5YDa"
      },
      "execution_count": null,
      "outputs": []
    },
    {
      "cell_type": "code",
      "source": [
        "#plot output\n",
        "# adjusted r-square\n",
        "k <- ols_step_forward_adj_r2(model)\n",
        "plot(k)\n"
      ],
      "metadata": {
        "id": "an3SRTRt5alL"
      },
      "execution_count": null,
      "outputs": []
    },
    {
      "cell_type": "markdown",
      "source": [
        "## Cross Validation using `library \"caret\" `"
      ],
      "metadata": {
        "id": "IbhtUoaF5j_Q"
      }
    },
    {
      "cell_type": "code",
      "source": [
        "library(caret)"
      ],
      "metadata": {
        "id": "SVBANawHJYjs"
      },
      "execution_count": null,
      "outputs": []
    },
    {
      "cell_type": "code",
      "source": [
        "#specify the cross-validation method\n",
        "ctrl <- trainControl(method = \"cv\", number = 5)"
      ],
      "metadata": {
        "id": "vvxjKrI_5fO5"
      },
      "execution_count": null,
      "outputs": []
    },
    {
      "cell_type": "code",
      "source": [
        "#fit a regression model and use k-fold CV to evaluate performance\n",
        "model <- train(loggdp ~ .,\n",
        "               data = Data [complete.cases(Data),c(\"loggdp\",\"risk\",controls)],\n",
        "               method = \"rf\")"
      ],
      "metadata": {
        "id": "JJlXc94k61_F"
      },
      "execution_count": null,
      "outputs": []
    },
    {
      "cell_type": "code",
      "source": [
        "#view summary of k-fold CV\n",
        "print(model)"
      ],
      "metadata": {
        "id": "WscaNoJm63-N"
      },
      "execution_count": null,
      "outputs": []
    },
    {
      "cell_type": "markdown",
      "source": [
        "No pre-processing occured. That is, we didn’t scale the data in any way before fitting the models.\n",
        "The resampling method we used to evaluate the model was cross-validation with 5 folds.\n",
        "The sample size for each training set was 3954\n",
        "\n",
        "RMSE: The root mean squared error. This measures the average difference between the predictions made by the model and the actual observations. The lower the RMSE, the more closely a model can predict the actual observations.\n",
        "\n",
        "Rsquared: This is a measure of the correlation between the predictions made by the model and the actual observations. The higher the R-squared, the more closely a model can predict the actual observations.\n",
        "\n",
        "MAE: The mean absolute error. This is the average absolute difference between the predictions made by the model and the actual observations. The lower the MAE, the more closely a model can predict the actual observations.\n"
      ],
      "metadata": {
        "id": "MtAReJyJ7Ekj"
      }
    },
    {
      "cell_type": "code",
      "source": [
        "#view final model\n",
        "model$finalModel"
      ],
      "metadata": {
        "id": "G4AadVX97olU"
      },
      "execution_count": null,
      "outputs": []
    },
    {
      "cell_type": "code",
      "source": [
        "mean(model$finalModel$mse)"
      ],
      "metadata": {
        "id": "XhgxatQl7sWO"
      },
      "execution_count": null,
      "outputs": []
    },
    {
      "cell_type": "code",
      "source": [
        "names(model)"
      ],
      "metadata": {
        "id": "uImKzi0q7taA"
      },
      "execution_count": null,
      "outputs": []
    },
    {
      "cell_type": "markdown",
      "source": [
        "## Cross Validation using `library cv`"
      ],
      "metadata": {
        "id": "fWqDlDK97vkq"
      }
    },
    {
      "cell_type": "code",
      "source": [
        "library(\"ISLR2\")"
      ],
      "metadata": {
        "id": "gGGBUvbHLr7C"
      },
      "execution_count": null,
      "outputs": []
    },
    {
      "cell_type": "code",
      "source": [
        "data(\"Auto\", package=\"ISLR2\")\n",
        "head(Auto)"
      ],
      "metadata": {
        "id": "yHKtqXxG76SU"
      },
      "execution_count": null,
      "outputs": []
    },
    {
      "cell_type": "code",
      "source": [
        "plot(mpg ~ horsepower, data=Auto)"
      ],
      "metadata": {
        "id": "L35eQF_BMCLc"
      },
      "execution_count": null,
      "outputs": []
    },
    {
      "cell_type": "code",
      "source": [
        "#plot various alternatives\n",
        "plot(mpg ~ horsepower, data=Auto)\n",
        "horsepower <- with(Auto,\n",
        "                   seq(min(horsepower), max(horsepower),\n",
        "                       length=1000))\n",
        "for (p in 1:5){\n",
        "  m <- lm(mpg ~ poly(horsepower,p), data=Auto)\n",
        "  mpg <- predict(m, newdata=data.frame(horsepower=horsepower))\n",
        "  lines(horsepower, mpg, col=p + 1, lty=p, lwd=2)\n",
        "}\n",
        "legend(\"topright\", legend=1:5, col=2:6, lty=1:5, lwd=2,\n",
        "       title=\"Degree\", inset=0.02)"
      ],
      "metadata": {
        "id": "MPBnSdQQ78WH"
      },
      "execution_count": null,
      "outputs": []
    },
    {
      "cell_type": "code",
      "source": [
        "library(\"cv\") # for mse() and other functions"
      ],
      "metadata": {
        "id": "Ia_EzXo58LO8"
      },
      "execution_count": null,
      "outputs": []
    },
    {
      "cell_type": "code",
      "source": [
        "var <- mse <- numeric(10)\n",
        "for (p in 1:10){\n",
        "  m <- lm(mpg ~ poly(horsepower, p), data=Auto)\n",
        "  mse[p] <- mse(Auto$mpg, fitted(m))\n",
        "  var[p] <- summary(m)$sigma^2\n",
        "}"
      ],
      "metadata": {
        "id": "FgUxuaN2MPoG"
      },
      "execution_count": null,
      "outputs": []
    },
    {
      "cell_type": "code",
      "source": [
        "plot(c(1, 10), range(mse, var), type=\"n\",\n",
        "     xlab=\"Degree of polynomial, p\",\n",
        "     ylab=\"Estimated Squared Error\")\n",
        "lines(1:10, mse, lwd=2, lty=1, col=2, pch=16, type=\"b\")\n",
        "lines(1:10, var, lwd=2, lty=2, col=3, pch=17, type=\"b\")\n",
        "legend(\"topright\", inset=0.02,\n",
        "       legend=c(expression(hat(sigma)^2), \"MSE\"),\n",
        "       lwd=2, lty=2:1, col=3:2, pch=17:16)"
      ],
      "metadata": {
        "id": "M5RQ7mvhMR57"
      },
      "execution_count": null,
      "outputs": []
    },
    {
      "cell_type": "code",
      "source": [
        "#cross validation with OLS\n",
        "m.auto <- lm(mpg ~ poly(horsepower, 2), data=Auto)\n",
        "summary(m.auto)"
      ],
      "metadata": {
        "id": "KMZMX7bU8Txo"
      },
      "execution_count": null,
      "outputs": []
    },
    {
      "cell_type": "code",
      "source": [
        "#train and test set\n",
        "cv(m.auto)\n",
        "as.numeric(cv(m.auto)[\"CV crit\"])"
      ],
      "metadata": {
        "id": "e18hr6yK8VI_"
      },
      "execution_count": null,
      "outputs": []
    },
    {
      "cell_type": "code",
      "source": [
        "#leave one out\n",
        "cv(m.auto, k=\"loo\")"
      ],
      "metadata": {
        "id": "1wCGvul78V84"
      },
      "execution_count": null,
      "outputs": []
    },
    {
      "cell_type": "code",
      "source": [
        "#Comparing competing models\n",
        "for (p in 1:10){\n",
        "  assign(paste0(\"m.\", p),\n",
        "         lm(mpg ~ poly(horsepower, p), data=Auto))\n",
        "}\n",
        "objects(pattern=\"m\\\\.[0-9]\")\n",
        "summary(m.2)"
      ],
      "metadata": {
        "id": "hw0NEhxB8wQZ"
      },
      "execution_count": null,
      "outputs": []
    },
    {
      "cell_type": "code",
      "source": [
        "cv.auto.10 <- cv(models(m.1, m.2, m.3, m.4, m.5,\n",
        "                        m.6, m.7, m.8, m.9, m.10),\n",
        "                 data=Auto, seed=2120)\n",
        "cv.auto.10[1:2]"
      ],
      "metadata": {
        "id": "_AMpoHQ_8yA8"
      },
      "execution_count": null,
      "outputs": []
    }
  ]
}