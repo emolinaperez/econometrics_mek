{
  "nbformat": 4,
  "nbformat_minor": 0,
  "metadata": {
    "colab": {
      "provenance": [],
      "authorship_tag": "ABX9TyML2XYe51Dyrr8KSYKrk3Sx",
      "include_colab_link": true
    },
    "kernelspec": {
      "name": "ir",
      "display_name": "R"
    },
    "language_info": {
      "name": "R"
    }
  },
  "cells": [
    {
      "cell_type": "markdown",
      "metadata": {
        "id": "view-in-github",
        "colab_type": "text"
      },
      "source": [
        "<a href=\"https://colab.research.google.com/github/emolinaperez/econometrics_mek/blob/main/Week%207/R/Week7_Lab.ipynb\" target=\"_parent\"><img src=\"https://colab.research.google.com/assets/colab-badge.svg\" alt=\"Open In Colab\"/></a>"
      ]
    },
    {
      "cell_type": "code",
      "execution_count": 1,
      "metadata": {
        "colab": {
          "base_uri": "https://localhost:8080/"
        },
        "id": "KzQbr1WTzab8",
        "outputId": "b76edd1a-bf7b-4de7-fd09-3416b25df884"
      },
      "outputs": [
        {
          "output_type": "stream",
          "name": "stderr",
          "text": [
            "Installing packages into ‘/usr/local/lib/R/site-library’\n",
            "(as ‘lib’ is unspecified)\n",
            "\n",
            "\n",
            "Attaching package: ‘olsrr’\n",
            "\n",
            "\n",
            "The following object is masked from ‘package:datasets’:\n",
            "\n",
            "    rivers\n",
            "\n",
            "\n"
          ]
        }
      ],
      "source": [
        "#install packages\n",
        "install.packages(c(\"haven\", \"fixest\",\"modelsummary\", \"olsrr\", \"caret\",\"randomForest\", \"cv\", \"ISLR2\"))\n",
        "\n",
        "library(ggplot2)\n",
        "library(haven)\n",
        "library(fixest)\n",
        "library(modelsummary)\n",
        "library(olsrr)"
      ]
    },
    {
      "cell_type": "code",
      "source": [
        "#load data\n",
        "Data.File<-\"https://raw.githubusercontent.com/emolinaperez/econometrics_mek/main/Week%207/data/AJR2001.dta\"\n",
        "Data<-read_dta(Data.File)"
      ],
      "metadata": {
        "id": "eYOpusovzi1W"
      },
      "execution_count": 2,
      "outputs": []
    },
    {
      "cell_type": "code",
      "source": [
        "head(Data)"
      ],
      "metadata": {
        "colab": {
          "base_uri": "https://localhost:8080/",
          "height": 323
        },
        "id": "suPaH_71zkjj",
        "outputId": "fa77df76-d251-4a6e-b69f-498aa22559fb"
      },
      "execution_count": 3,
      "outputs": [
        {
          "output_type": "display_data",
          "data": {
            "text/html": [
              "<table class=\"dataframe\">\n",
              "<caption>A tibble: 6 × 31</caption>\n",
              "<thead>\n",
              "\t<tr><th scope=col>longname</th><th scope=col>shortnam</th><th scope=col>logmort0</th><th scope=col>risk</th><th scope=col>loggdp</th><th scope=col>campaign</th><th scope=col>source0</th><th scope=col>slave</th><th scope=col>latitude</th><th scope=col>neoeuro</th><th scope=col>⋯</th><th scope=col>logmortjam</th><th scope=col>logmortcap250</th><th scope=col>logmortjam250</th><th scope=col>wandcafrica</th><th scope=col>malfal94</th><th scope=col>wacacontested</th><th scope=col>mortnaval2250</th><th scope=col>logmortnaval2250</th><th scope=col>mortnaval1250</th><th scope=col>logmortnaval1250</th></tr>\n",
              "\t<tr><th scope=col>&lt;chr&gt;</th><th scope=col>&lt;chr&gt;</th><th scope=col>&lt;dbl&gt;</th><th scope=col>&lt;dbl&gt;</th><th scope=col>&lt;dbl&gt;</th><th scope=col>&lt;dbl&gt;</th><th scope=col>&lt;dbl&gt;</th><th scope=col>&lt;dbl&gt;</th><th scope=col>&lt;dbl&gt;</th><th scope=col>&lt;dbl&gt;</th><th scope=col>⋯</th><th scope=col>&lt;dbl&gt;</th><th scope=col>&lt;dbl&gt;</th><th scope=col>&lt;dbl&gt;</th><th scope=col>&lt;dbl&gt;</th><th scope=col>&lt;dbl&gt;</th><th scope=col>&lt;dbl&gt;</th><th scope=col>&lt;dbl&gt;</th><th scope=col>&lt;dbl&gt;</th><th scope=col>&lt;dbl&gt;</th><th scope=col>&lt;dbl&gt;</th></tr>\n",
              "</thead>\n",
              "<tbody>\n",
              "\t<tr><td>Angola      </td><td>AGO</td><td>5.634789</td><td>5.36</td><td>7.77</td><td>1</td><td>0</td><td>0</td><td>0.1367</td><td>0</td><td>⋯</td><td>5.634789</td><td>5.521461</td><td>5.521461</td><td>1</td><td>0.95000</td><td>1</td><td>250.00</td><td>5.521461</td><td>250.00</td><td>5.521461</td></tr>\n",
              "\t<tr><td>Argentina   </td><td>ARG</td><td>4.232656</td><td>6.39</td><td>9.13</td><td>1</td><td>0</td><td>0</td><td>0.3778</td><td>0</td><td>⋯</td><td>4.034241</td><td>4.232656</td><td>4.034241</td><td>0</td><td>0.00000</td><td>0</td><td> 30.50</td><td>3.417727</td><td> 15.07</td><td>2.712706</td></tr>\n",
              "\t<tr><td>Australia   </td><td>AUS</td><td>2.145931</td><td>9.32</td><td>9.90</td><td>0</td><td>0</td><td>0</td><td>0.3000</td><td>1</td><td>⋯</td><td>2.145931</td><td>2.145931</td><td>2.145931</td><td>0</td><td>0.00000</td><td>0</td><td>  8.55</td><td>2.145931</td><td>  8.55</td><td>2.145931</td></tr>\n",
              "\t<tr><td>Burkina Faso</td><td>BFA</td><td>5.634789</td><td>4.45</td><td>6.85</td><td>1</td><td>0</td><td>0</td><td>0.1444</td><td>0</td><td>⋯</td><td>5.634789</td><td>5.521461</td><td>5.521461</td><td>1</td><td>0.95000</td><td>1</td><td>250.00</td><td>5.521461</td><td>250.00</td><td>5.521461</td></tr>\n",
              "\t<tr><td>Bangladesh  </td><td>BGD</td><td>4.268438</td><td>5.14</td><td>6.88</td><td>1</td><td>1</td><td>0</td><td>0.2667</td><td>0</td><td>⋯</td><td>4.268438</td><td>4.268438</td><td>4.268438</td><td>0</td><td>0.12008</td><td>0</td><td> 71.41</td><td>4.268438</td><td> 71.41</td><td>4.268438</td></tr>\n",
              "\t<tr><td>Bahamas     </td><td>BHS</td><td>4.442651</td><td>7.50</td><td>9.29</td><td>0</td><td>0</td><td>0</td><td>0.2683</td><td>0</td><td>⋯</td><td>4.442651</td><td>4.442651</td><td>4.442651</td><td>0</td><td>     NA</td><td>0</td><td> 85.00</td><td>4.442651</td><td> 85.00</td><td>4.442651</td></tr>\n",
              "</tbody>\n",
              "</table>\n"
            ],
            "text/markdown": "\nA tibble: 6 × 31\n\n| longname &lt;chr&gt; | shortnam &lt;chr&gt; | logmort0 &lt;dbl&gt; | risk &lt;dbl&gt; | loggdp &lt;dbl&gt; | campaign &lt;dbl&gt; | source0 &lt;dbl&gt; | slave &lt;dbl&gt; | latitude &lt;dbl&gt; | neoeuro &lt;dbl&gt; | ⋯ ⋯ | logmortjam &lt;dbl&gt; | logmortcap250 &lt;dbl&gt; | logmortjam250 &lt;dbl&gt; | wandcafrica &lt;dbl&gt; | malfal94 &lt;dbl&gt; | wacacontested &lt;dbl&gt; | mortnaval2250 &lt;dbl&gt; | logmortnaval2250 &lt;dbl&gt; | mortnaval1250 &lt;dbl&gt; | logmortnaval1250 &lt;dbl&gt; |\n|---|---|---|---|---|---|---|---|---|---|---|---|---|---|---|---|---|---|---|---|---|\n| Angola       | AGO | 5.634789 | 5.36 | 7.77 | 1 | 0 | 0 | 0.1367 | 0 | ⋯ | 5.634789 | 5.521461 | 5.521461 | 1 | 0.95000 | 1 | 250.00 | 5.521461 | 250.00 | 5.521461 |\n| Argentina    | ARG | 4.232656 | 6.39 | 9.13 | 1 | 0 | 0 | 0.3778 | 0 | ⋯ | 4.034241 | 4.232656 | 4.034241 | 0 | 0.00000 | 0 |  30.50 | 3.417727 |  15.07 | 2.712706 |\n| Australia    | AUS | 2.145931 | 9.32 | 9.90 | 0 | 0 | 0 | 0.3000 | 1 | ⋯ | 2.145931 | 2.145931 | 2.145931 | 0 | 0.00000 | 0 |   8.55 | 2.145931 |   8.55 | 2.145931 |\n| Burkina Faso | BFA | 5.634789 | 4.45 | 6.85 | 1 | 0 | 0 | 0.1444 | 0 | ⋯ | 5.634789 | 5.521461 | 5.521461 | 1 | 0.95000 | 1 | 250.00 | 5.521461 | 250.00 | 5.521461 |\n| Bangladesh   | BGD | 4.268438 | 5.14 | 6.88 | 1 | 1 | 0 | 0.2667 | 0 | ⋯ | 4.268438 | 4.268438 | 4.268438 | 0 | 0.12008 | 0 |  71.41 | 4.268438 |  71.41 | 4.268438 |\n| Bahamas      | BHS | 4.442651 | 7.50 | 9.29 | 0 | 0 | 0 | 0.2683 | 0 | ⋯ | 4.442651 | 4.442651 | 4.442651 | 0 |      NA | 0 |  85.00 | 4.442651 |  85.00 | 4.442651 |\n\n",
            "text/latex": "A tibble: 6 × 31\n\\begin{tabular}{lllllllllllllllllllll}\n longname & shortnam & logmort0 & risk & loggdp & campaign & source0 & slave & latitude & neoeuro & ⋯ & logmortjam & logmortcap250 & logmortjam250 & wandcafrica & malfal94 & wacacontested & mortnaval2250 & logmortnaval2250 & mortnaval1250 & logmortnaval1250\\\\\n <chr> & <chr> & <dbl> & <dbl> & <dbl> & <dbl> & <dbl> & <dbl> & <dbl> & <dbl> & ⋯ & <dbl> & <dbl> & <dbl> & <dbl> & <dbl> & <dbl> & <dbl> & <dbl> & <dbl> & <dbl>\\\\\n\\hline\n\t Angola       & AGO & 5.634789 & 5.36 & 7.77 & 1 & 0 & 0 & 0.1367 & 0 & ⋯ & 5.634789 & 5.521461 & 5.521461 & 1 & 0.95000 & 1 & 250.00 & 5.521461 & 250.00 & 5.521461\\\\\n\t Argentina    & ARG & 4.232656 & 6.39 & 9.13 & 1 & 0 & 0 & 0.3778 & 0 & ⋯ & 4.034241 & 4.232656 & 4.034241 & 0 & 0.00000 & 0 &  30.50 & 3.417727 &  15.07 & 2.712706\\\\\n\t Australia    & AUS & 2.145931 & 9.32 & 9.90 & 0 & 0 & 0 & 0.3000 & 1 & ⋯ & 2.145931 & 2.145931 & 2.145931 & 0 & 0.00000 & 0 &   8.55 & 2.145931 &   8.55 & 2.145931\\\\\n\t Burkina Faso & BFA & 5.634789 & 4.45 & 6.85 & 1 & 0 & 0 & 0.1444 & 0 & ⋯ & 5.634789 & 5.521461 & 5.521461 & 1 & 0.95000 & 1 & 250.00 & 5.521461 & 250.00 & 5.521461\\\\\n\t Bangladesh   & BGD & 4.268438 & 5.14 & 6.88 & 1 & 1 & 0 & 0.2667 & 0 & ⋯ & 4.268438 & 4.268438 & 4.268438 & 0 & 0.12008 & 0 &  71.41 & 4.268438 &  71.41 & 4.268438\\\\\n\t Bahamas      & BHS & 4.442651 & 7.50 & 9.29 & 0 & 0 & 0 & 0.2683 & 0 & ⋯ & 4.442651 & 4.442651 & 4.442651 & 0 &      NA & 0 &  85.00 & 4.442651 &  85.00 & 4.442651\\\\\n\\end{tabular}\n",
            "text/plain": [
              "  longname     shortnam logmort0 risk loggdp campaign source0 slave latitude\n",
              "1 Angola       AGO      5.634789 5.36 7.77   1        0       0     0.1367  \n",
              "2 Argentina    ARG      4.232656 6.39 9.13   1        0       0     0.3778  \n",
              "3 Australia    AUS      2.145931 9.32 9.90   0        0       0     0.3000  \n",
              "4 Burkina Faso BFA      5.634789 4.45 6.85   1        0       0     0.1444  \n",
              "5 Bangladesh   BGD      4.268438 5.14 6.88   1        1       0     0.2667  \n",
              "6 Bahamas      BHS      4.442651 7.50 9.29   0        0       0     0.2683  \n",
              "  neoeuro ⋯ logmortjam logmortcap250 logmortjam250 wandcafrica malfal94\n",
              "1 0       ⋯ 5.634789   5.521461      5.521461      1           0.95000 \n",
              "2 0       ⋯ 4.034241   4.232656      4.034241      0           0.00000 \n",
              "3 1       ⋯ 2.145931   2.145931      2.145931      0           0.00000 \n",
              "4 0       ⋯ 5.634789   5.521461      5.521461      1           0.95000 \n",
              "5 0       ⋯ 4.268438   4.268438      4.268438      0           0.12008 \n",
              "6 0       ⋯ 4.442651   4.442651      4.442651      0                NA \n",
              "  wacacontested mortnaval2250 logmortnaval2250 mortnaval1250 logmortnaval1250\n",
              "1 1             250.00        5.521461         250.00        5.521461        \n",
              "2 0              30.50        3.417727          15.07        2.712706        \n",
              "3 0               8.55        2.145931           8.55        2.145931        \n",
              "4 1             250.00        5.521461         250.00        5.521461        \n",
              "5 0              71.41        4.268438          71.41        4.268438        \n",
              "6 0              85.00        4.442651          85.00        4.442651        "
            ]
          },
          "metadata": {}
        }
      ]
    },
    {
      "cell_type": "code",
      "source": [
        "dim(Data)"
      ],
      "metadata": {
        "colab": {
          "base_uri": "https://localhost:8080/",
          "height": 34
        },
        "id": "FE2dKzK9zl3Q",
        "outputId": "29577880-3c34-4900-c31c-37583145df9f"
      },
      "execution_count": 4,
      "outputs": [
        {
          "output_type": "display_data",
          "data": {
            "text/html": [
              "<style>\n",
              ".list-inline {list-style: none; margin:0; padding: 0}\n",
              ".list-inline>li {display: inline-block}\n",
              ".list-inline>li:not(:last-child)::after {content: \"\\00b7\"; padding: 0 .5ex}\n",
              "</style>\n",
              "<ol class=list-inline><li>64</li><li>31</li></ol>\n"
            ],
            "text/markdown": "1. 64\n2. 31\n\n\n",
            "text/latex": "\\begin{enumerate*}\n\\item 64\n\\item 31\n\\end{enumerate*}\n",
            "text/plain": [
              "[1] 64 31"
            ]
          },
          "metadata": {}
        }
      ]
    },
    {
      "cell_type": "code",
      "source": [
        "str(Data)"
      ],
      "metadata": {
        "colab": {
          "base_uri": "https://localhost:8080/"
        },
        "id": "C9oo5urxzmrv",
        "outputId": "aac5ed8a-8fe6-47aa-9fe0-8ea3152a2c6a"
      },
      "execution_count": 5,
      "outputs": [
        {
          "output_type": "stream",
          "name": "stdout",
          "text": [
            "tibble [64 × 31] (S3: tbl_df/tbl/data.frame)\n",
            " $ longname        : chr [1:64] \"Angola\" \"Argentina\" \"Australia\" \"Burkina Faso\" ...\n",
            "  ..- attr(*, \"label\")= chr \"full country name\"\n",
            "  ..- attr(*, \"format.stata\")= chr \"%19s\"\n",
            " $ shortnam        : chr [1:64] \"AGO\" \"ARG\" \"AUS\" \"BFA\" ...\n",
            "  ..- attr(*, \"label\")= chr \"3 letter country name\"\n",
            "  ..- attr(*, \"format.stata\")= chr \"%22s\"\n",
            " $ logmort0        : num [1:64] 5.63 4.23 2.15 5.63 4.27 ...\n",
            "  ..- attr(*, \"label\")= chr \"Original Log Settler Mortality\"\n",
            "  ..- attr(*, \"format.stata\")= chr \"%9.0g\"\n",
            " $ risk            : num [1:64] 5.36 6.39 9.32 4.45 5.14 ...\n",
            "  ..- attr(*, \"label\")= chr \"Exp Risk\"\n",
            "  ..- attr(*, \"format.stata\")= chr \"%9.0g\"\n",
            " $ loggdp          : num [1:64] 7.77 9.13 9.9 6.85 6.88 ...\n",
            "  ..- attr(*, \"label\")= chr \"Log GDP per capita (PPP) in 1995\"\n",
            "  ..- attr(*, \"format.stata\")= chr \"%9.0g\"\n",
            " $ campaign        : num [1:64] 1 1 0 1 1 0 1 1 0 1 ...\n",
            "  ..- attr(*, \"label\")= chr \"Original mortality from campaign\"\n",
            "  ..- attr(*, \"format.stata\")= chr \"%9.0g\"\n",
            " $ source0         : num [1:64] 0 0 0 0 1 0 0 0 1 0 ...\n",
            "  ..- attr(*, \"label\")= chr \"Country source of own m. rate\"\n",
            "  ..- attr(*, \"format.stata\")= chr \"%9.0g\"\n",
            " $ slave           : num [1:64] 0 0 0 0 0 0 0 0 0 0 ...\n",
            "  ..- attr(*, \"label\")= chr \"Data from forced labor\"\n",
            "  ..- attr(*, \"format.stata\")= chr \"%9.0g\"\n",
            " $ latitude        : num [1:64] 0.137 0.378 0.3 0.144 0.267 ...\n",
            "  ..- attr(*, \"label\")= chr \"Absolute value of latitude\"\n",
            "  ..- attr(*, \"format.stata\")= chr \"%9.0g\"\n",
            " $ neoeuro         : num [1:64] 0 0 1 0 0 0 0 0 1 0 ...\n",
            "  ..- attr(*, \"label\")= chr \"'New-Europes'(USA,CAN,AUS,NZL)\"\n",
            "  ..- attr(*, \"format.stata\")= chr \"%9.0g\"\n",
            " $ asia            : num [1:64] 0 0 0 0 1 0 0 0 0 0 ...\n",
            "  ..- attr(*, \"label\")= chr \"Asia\"\n",
            "  ..- attr(*, \"format.stata\")= chr \"%9.0g\"\n",
            " $ africa          : num [1:64] 1 0 0 1 0 0 0 0 0 0 ...\n",
            "  ..- attr(*, \"label\")= chr \"Africa\"\n",
            "  ..- attr(*, \"format.stata\")= chr \"%9.0g\"\n",
            " $ other           : num [1:64] 0 0 1 0 0 0 0 0 0 0 ...\n",
            "  ..- attr(*, \"label\")= chr \"'Other' Cont (AUS, NZL, MLT!)\"\n",
            "  ..- attr(*, \"format.stata\")= chr \"%9.0g\"\n",
            " $ edes1975        : num [1:64] 0 90 99 0 0 ...\n",
            "  ..- attr(*, \"label\")= chr \"Pop of Euro Descent, 1975\"\n",
            "  ..- attr(*, \"format.stata\")= chr \"%9.0g\"\n",
            " $ campaignsj      : num [1:64] 1 1 0 1 1 0 1 1 0 1 ...\n",
            "  ..- attr(*, \"label\")= chr \"=HKG, NZL only\"\n",
            "  ..- attr(*, \"format.stata\")= chr \"%9.0g\"\n",
            " $ campaignsj2     : num [1:64] 1 1 1 1 1 0 1 1 0 1 ...\n",
            "  ..- attr(*, \"label\")= chr \"=extended recoding\"\n",
            "  ..- attr(*, \"format.stata\")= chr \"%9.0g\"\n",
            " $ mortnaval1      : num [1:64] 280 15.07 8.55 280 71.41 ...\n",
            "  ..- attr(*, \"label\")= chr \"mortality using naval stations, method 1\"\n",
            "  ..- attr(*, \"format.stata\")= chr \"%9.0g\"\n",
            " $ logmortnaval1   : num [1:64] 5.63 2.71 2.15 5.63 4.27 ...\n",
            "  ..- attr(*, \"label\")= chr \"logr mortality using naval stations, method 1\"\n",
            "  ..- attr(*, \"format.stata\")= chr \"%9.0g\"\n",
            " $ mortnaval2      : num [1:64] 280 30.5 8.55 280 71.41 ...\n",
            "  ..- attr(*, \"label\")= chr \"mortality using naval stations, method 2\"\n",
            "  ..- attr(*, \"format.stata\")= chr \"%9.0g\"\n",
            " $ logmortnaval2   : num [1:64] 5.63 3.42 2.15 5.63 4.27 ...\n",
            "  ..- attr(*, \"label\")= chr \"log mortality using naval stations, method 2\"\n",
            "  ..- attr(*, \"format.stata\")= chr \"%9.0g\"\n",
            " $ mortjam         : num [1:64] 280 56.5 8.55 280 71.41 ...\n",
            "  ..- attr(*, \"label\")= chr \"mortality benchmarking to the Caribbean\"\n",
            "  ..- attr(*, \"format.stata\")= chr \"%9.0g\"\n",
            " $ logmortjam      : num [1:64] 5.63 4.03 2.15 5.63 4.27 ...\n",
            "  ..- attr(*, \"label\")= chr \"log mortality benchmarking to the Caribbean\"\n",
            "  ..- attr(*, \"format.stata\")= chr \"%9.0g\"\n",
            " $ logmortcap250   : num [1:64] 5.52 4.23 2.15 5.52 4.27 ...\n",
            "  ..- attr(*, \"label\")= chr \"log mortality capped at 250\"\n",
            "  ..- attr(*, \"format.stata\")= chr \"%9.0g\"\n",
            " $ logmortjam250   : num [1:64] 5.52 4.03 2.15 5.52 4.27 ...\n",
            "  ..- attr(*, \"label\")= chr \"log mortality benchmarked to the Caribbean, capped at 250\"\n",
            "  ..- attr(*, \"format.stata\")= chr \"%9.0g\"\n",
            " $ wandcafrica     : num [1:64] 1 0 0 1 0 0 0 0 0 0 ...\n",
            "  ..- attr(*, \"label\")= chr \"west and central Africa\"\n",
            "  ..- attr(*, \"format.stata\")= chr \"%9.0g\"\n",
            " $ malfal94        : num [1:64] 0.95 0 0 0.95 0.12 ...\n",
            "  ..- attr(*, \"label\")= chr \"Falciparum malaria index 1994\"\n",
            "  ..- attr(*, \"format.stata\")= chr \"%9.0g\"\n",
            " $ wacacontested   : num [1:64] 1 0 0 1 0 0 0 0 0 0 ...\n",
            "  ..- attr(*, \"label\")= chr \"contested observations in west and central Africa\"\n",
            "  ..- attr(*, \"format.stata\")= chr \"%9.0g\"\n",
            " $ mortnaval2250   : num [1:64] 250 30.5 8.55 250 71.41 ...\n",
            "  ..- attr(*, \"label\")= chr \"mortality using naval stations, capped at 250\"\n",
            "  ..- attr(*, \"format.stata\")= chr \"%9.0g\"\n",
            " $ logmortnaval2250: num [1:64] 5.52 3.42 2.15 5.52 4.27 ...\n",
            "  ..- attr(*, \"label\")= chr \"log mortality using naval stations, capped at 250\"\n",
            "  ..- attr(*, \"format.stata\")= chr \"%9.0g\"\n",
            " $ mortnaval1250   : num [1:64] 250 15.07 8.55 250 71.41 ...\n",
            "  ..- attr(*, \"label\")= chr \"mortality using naval stations, capped at 250\"\n",
            "  ..- attr(*, \"format.stata\")= chr \"%9.0g\"\n",
            " $ logmortnaval1250: num [1:64] 5.52 2.71 2.15 5.52 4.27 ...\n",
            "  ..- attr(*, \"label\")= chr \"log mortality using naval stations capped at 250\"\n",
            "  ..- attr(*, \"format.stata\")= chr \"%9.0g\"\n",
            " - attr(*, \"label\")= chr \"From Albouy (2008) comment on Acemoglu et al. (2001)\"\n",
            " - attr(*, \"notes\")= chr [1:3] \"1\" \"ldistk = ln(avgdistk)\" \"gdpppp95 data for Bosnia/Herzegovina; Bhutan; Brunei; */\"\n"
          ]
        }
      ]
    },
    {
      "cell_type": "code",
      "source": [
        "# Fig1b: Remove latitude and continent dummies\n",
        "\n",
        "ggplot(Data, aes(x = logmort0, y = risk)) +\n",
        "  # Add scatter points\n",
        "  geom_point(size = 2) +\n",
        "  # Add text labels for each point\n",
        "  geom_text(aes(label = shortnam),\n",
        "            vjust = -0.5,  # Adjust vertical position of text\n",
        "            size = 3) +  # Text size\n",
        "  # Add linear fit line\n",
        "  geom_smooth(method = \"lm\",\n",
        "              se = FALSE,  # Without error bands\n",
        "              color = \"blue\") +\n",
        "  # Customize titles and labels\n",
        "  labs(title = \"Figure 1a: Without Controls\",\n",
        "       x = \"Log Settler Mortality\",\n",
        "       y = \"Expropriation Risk\") +\n",
        "  # Customize theme and scale\n",
        "  theme_classic() +  # White background and clean design\n",
        "  scale_y_continuous(breaks = seq(4, 10, by = 2))"
      ],
      "metadata": {
        "colab": {
          "base_uri": "https://localhost:8080/",
          "height": 454
        },
        "id": "UnPdA-f4zp8T",
        "outputId": "f273dcfd-9bc5-4ce2-b3fb-413c59ae2499"
      },
      "execution_count": 6,
      "outputs": [
        {
          "output_type": "stream",
          "name": "stderr",
          "text": [
            "\u001b[1m\u001b[22m`geom_smooth()` using formula = 'y ~ x'\n"
          ]
        },
        {
          "output_type": "display_data",
          "data": {
            "text/plain": [
              "plot without title"
            ],
            "image/png": "[encoded data removed]"
          },
          "metadata": {
            "image/png": {
              "width": 420,
              "height": 420
            }
          }
        }
      ]
    },
    {
      "cell_type": "code",
      "source": [
        "# Fig1b: Remove latitude and continent dummies\n",
        "\n",
        "model1 <- lm(risk ~ asia + africa + other + latitude, data = Data)\n",
        "Data$Rrisk <- residuals(model1)\n",
        "\n",
        "# Second regression to get Rlmort\n",
        "model2 <- lm(logmort0 ~ asia + africa + other + latitude, data = Data)\n",
        "Data$Rlmort <- residuals(model2)\n",
        "\n",
        "ggplot(Data, aes(x = Rlmort, y = Rrisk)) +\n",
        "  # Add scatter points\n",
        "  geom_point(size = 2) +\n",
        "  # Add text labels for each point\n",
        "  geom_text(aes(label = shortnam),\n",
        "            vjust = -0.5,  # Adjust vertical position of text\n",
        "            size = 3) +  # Text size\n",
        "  # Add linear fit line\n",
        "  geom_smooth(method = \"lm\",\n",
        "              se = FALSE,  # Without error bands\n",
        "              color = \"blue\") +\n",
        "  # Customize titles and labels\n",
        "  labs(title = \"Figure 1b: Controlling for Latitude and Continent Dummies\",\n",
        "       x = \"Residual Log Settler Mortality\",\n",
        "       y = \"Residual Expropriation Risk\") +\n",
        "  # Customize theme and scale\n",
        "  theme_classic() +  # White background and clean design\n",
        "  scale_y_continuous(breaks = seq(-2, 3, by = 2))"
      ],
      "metadata": {
        "colab": {
          "base_uri": "https://localhost:8080/",
          "height": 454
        },
        "id": "QBBHc2aNzqzA",
        "outputId": "b3b0d703-dddf-4c73-aaa9-c8b7bda6a2a4"
      },
      "execution_count": 7,
      "outputs": [
        {
          "output_type": "stream",
          "name": "stderr",
          "text": [
            "\u001b[1m\u001b[22m`geom_smooth()` using formula = 'y ~ x'\n"
          ]
        },
        {
          "output_type": "display_data",
          "data": {
            "text/plain": [
              "plot without title"
            ],
            "image/png": "[encoded data removed]"
          },
          "metadata": {
            "image/png": {
              "width": 420,
              "height": 420
            }
          }
        }
      ]
    },
    {
      "cell_type": "code",
      "source": [
        "# TABLE 4—IV REGRESSIONS OF LOG GDP PER CAPITA\n",
        "\n",
        "# Panel C: OLS\n",
        "ols1 <- lm(loggdp ~ risk, data = Data)\n",
        "ols2 <- lm(loggdp ~ risk + latitude, data = Data)\n",
        "ols3 <- lm(loggdp ~ risk + latitude + africa + asia + other, data = Data)\n",
        "\n",
        "# table\n",
        "modelsummary(list(ols1,ols2, ols3),\n",
        "             coef_omit = \"(Intercept)\",\n",
        "             coef_map = c(\n",
        "               \"risk\"= \"Expropriation risk\",\n",
        "               \"latitude\" = \"Latitude\",\n",
        "               \"africa\" = \"Africa Dummy\",\n",
        "               \"asia\" = \"Asia Dummy\",\n",
        "               \"other\" = \"Other Continent Dummy\"),\n",
        "             stars = TRUE)"
      ],
      "metadata": {
        "colab": {
          "base_uri": "https://localhost:8080/",
          "height": 711
        },
        "id": "bS28Vg-VzvFF",
        "outputId": "e7d925cd-faa1-49ac-f8ae-45ab1ab48747"
      },
      "execution_count": 8,
      "outputs": [
        {
          "output_type": "display_data",
          "data": {
            "text/plain": [
              "\n",
              "+-----------------------+----------+----------+-----------+\n",
              "|                       | (1)      | (2)      | (3)       |\n",
              "+=======================+==========+==========+===========+\n",
              "| Expropriation risk    | 0.516*** | 0.457*** | 0.396***  |\n",
              "+-----------------------+----------+----------+-----------+\n",
              "|                       | (0.063)  | (0.065)  | (0.060)   |\n",
              "+-----------------------+----------+----------+-----------+\n",
              "| Latitude              |          | 1.710*   | 0.978     |\n",
              "+-----------------------+----------+----------+-----------+\n",
              "|                       |          | (0.722)  | (0.641)   |\n",
              "+-----------------------+----------+----------+-----------+\n",
              "| Africa Dummy          |          |          | -0.879*** |\n",
              "+-----------------------+----------+----------+-----------+\n",
              "|                       |          |          | (0.173)   |\n",
              "+-----------------------+----------+----------+-----------+\n",
              "| Asia Dummy            |          |          | -0.651**  |\n",
              "+-----------------------+----------+----------+-----------+\n",
              "|                       |          |          | (0.236)   |\n",
              "+-----------------------+----------+----------+-----------+\n",
              "| Other Continent Dummy |          |          | 0.103     |\n",
              "+-----------------------+----------+----------+-----------+\n",
              "|                       |          |          | (0.390)   |\n",
              "+-----------------------+----------+----------+-----------+\n",
              "| Num.Obs.              | 64       | 64       | 64        |\n",
              "+-----------------------+----------+----------+-----------+\n",
              "| R2                    | 0.524    | 0.564    | 0.705     |\n",
              "+-----------------------+----------+----------+-----------+\n",
              "| R2 Adj.               | 0.516    | 0.549    | 0.680     |\n",
              "+-----------------------+----------+----------+-----------+\n",
              "| AIC                   | 145.1    | 141.5    | 122.4     |\n",
              "+-----------------------+----------+----------+-----------+\n",
              "| BIC                   | 151.6    | 150.1    | 137.6     |\n",
              "+-----------------------+----------+----------+-----------+\n",
              "| Log.Lik.              | -69.556  | -66.743  | -54.223   |\n",
              "+-----------------------+----------+----------+-----------+\n",
              "| RMSE                  | 0.72     | 0.69     | 0.56      |\n",
              "+=======================+==========+==========+===========+\n",
              "| + p < 0.1, * p < 0.05, ** p < 0.01, *** p < 0.001       |\n",
              "+=======================+==========+==========+===========+ "
            ]
          },
          "metadata": {}
        }
      ]
    },
    {
      "cell_type": "code",
      "source": [
        "# Panel B: First Stage\n",
        "fs1 <- feols(risk ~ logmort0, data = Data)\n",
        "fs2 <- feols(risk ~ logmort0 + latitude, data = Data)\n",
        "fs3 <- feols(risk ~ logmort0 + latitude + africa + asia + other, data = Data)\n",
        "\n",
        "# table\n",
        "modelsummary(list(fs1,fs2, fs3),\n",
        "             coef_omit = \"(Intercept)\",\n",
        "             coef_map = c(\n",
        "               \"logmort0\"= \"Log European settler mortality\",\n",
        "               \"latitude\" = \"Latitude\",\n",
        "               \"africa\" = \"Africa Dummy\",\n",
        "               \"asia\" = \"Asia Dummy\",\n",
        "               \"other\" = \"Other Continent Dummy\"),\n",
        "             stars = TRUE)"
      ],
      "metadata": {
        "colab": {
          "base_uri": "https://localhost:8080/",
          "height": 711
        },
        "id": "XQEJMWM5zw-V",
        "outputId": "e1a961ec-a632-454b-d945-24a8fccf716e"
      },
      "execution_count": 9,
      "outputs": [
        {
          "output_type": "display_data",
          "data": {
            "text/plain": [
              "\n",
              "+--------------------------------+-----------+-----------+---------+\n",
              "|                                | (1)       | (2)       | (3)     |\n",
              "+================================+===========+===========+=========+\n",
              "| Log European settler mortality | -0.613*** | -0.517*** | -0.350+ |\n",
              "+--------------------------------+-----------+-----------+---------+\n",
              "|                                | (0.127)   | (0.141)   | (0.182) |\n",
              "+--------------------------------+-----------+-----------+---------+\n",
              "| Latitude                       |           | 2.007     | 2.001   |\n",
              "+--------------------------------+-----------+-----------+---------+\n",
              "|                                |           | (1.330)   | (1.383) |\n",
              "+--------------------------------+-----------+-----------+---------+\n",
              "| Africa Dummy                   |           |           | -0.257  |\n",
              "+--------------------------------+-----------+-----------+---------+\n",
              "|                                |           |           | (0.406) |\n",
              "+--------------------------------+-----------+-----------+---------+\n",
              "| Asia Dummy                     |           |           | 0.467   |\n",
              "+--------------------------------+-----------+-----------+---------+\n",
              "|                                |           |           | (0.502) |\n",
              "+--------------------------------+-----------+-----------+---------+\n",
              "| Other Continent Dummy          |           |           | 1.046   |\n",
              "+--------------------------------+-----------+-----------+---------+\n",
              "|                                |           |           | (0.842) |\n",
              "+--------------------------------+-----------+-----------+---------+\n",
              "| Num.Obs.                       | 64        | 64        | 64      |\n",
              "+--------------------------------+-----------+-----------+---------+\n",
              "| R2                             | 0.274     | 0.300     | 0.331   |\n",
              "+--------------------------------+-----------+-----------+---------+\n",
              "| R2 Adj.                        | 0.262     | 0.277     | 0.273   |\n",
              "+--------------------------------+-----------+-----------+---------+\n",
              "| AIC                            | 213.4     | 213.0     | 216.1   |\n",
              "+--------------------------------+-----------+-----------+---------+\n",
              "| BIC                            | 217.7     | 219.5     | 229.1   |\n",
              "+--------------------------------+-----------+-----------+---------+\n",
              "| RMSE                           | 1.24      | 1.22      | 1.19    |\n",
              "+--------------------------------+-----------+-----------+---------+\n",
              "| Std.Errors                     | IID       | IID       | IID     |\n",
              "+================================+===========+===========+=========+\n",
              "| + p < 0.1, * p < 0.05, ** p < 0.01, *** p < 0.001                |\n",
              "+================================+===========+===========+=========+ "
            ]
          },
          "metadata": {}
        }
      ]
    },
    {
      "cell_type": "code",
      "source": [
        "# Panel A: 2SLS (IV) regressions\n",
        "iv1 <- feols(loggdp ~ 1 | risk ~ logmort0, data = Data)\n",
        "iv2 <- feols(loggdp ~ latitude | risk ~ logmort0, data = Data)\n",
        "iv3 <- feols(loggdp ~ latitude + africa + asia + other | risk ~ logmort0, data = Data)\n",
        "\n",
        "# table\n",
        "modelsummary(list(iv1,iv2, iv3),\n",
        "             coef_omit = \"(Intercept)\",\n",
        "             coef_map = c(\n",
        "               \"fit_risk\"= \"Expropriation risk\",\n",
        "               \"latitude\" = \"Latitude\",\n",
        "               \"africa\" = \"Africa Dummy\",\n",
        "               \"asia\" = \"Asia Dummy\",\n",
        "               \"other\" = \"Other Continent Dummy\"),\n",
        "             stars = TRUE)"
      ],
      "metadata": {
        "colab": {
          "base_uri": "https://localhost:8080/",
          "height": 711
        },
        "id": "s9E4IkOrzyc9",
        "outputId": "fc6c98f7-eae2-4c80-b969-f3efdf4f0efa"
      },
      "execution_count": 10,
      "outputs": [
        {
          "output_type": "display_data",
          "data": {
            "text/plain": [
              "\n",
              "+-----------------------+----------+----------+---------+\n",
              "|                       | (1)      | (2)      | (3)     |\n",
              "+=======================+==========+==========+=========+\n",
              "| Expropriation risk    | 0.929*** | 0.962*** | 1.074*  |\n",
              "+-----------------------+----------+----------+---------+\n",
              "|                       | (0.156)  | (0.216)  | (0.438) |\n",
              "+-----------------------+----------+----------+---------+\n",
              "| Latitude              |          | -0.417   | -0.994  |\n",
              "+-----------------------+----------+----------+---------+\n",
              "|                       |          | (1.308)  | (1.683) |\n",
              "+-----------------------+----------+----------+---------+\n",
              "| Africa Dummy          |          |          | -0.451  |\n",
              "+-----------------------+----------+----------+---------+\n",
              "|                       |          |          | (0.409) |\n",
              "+-----------------------+----------+----------+---------+\n",
              "| Asia Dummy            |          |          | -1.103* |\n",
              "+-----------------------+----------+----------+---------+\n",
              "|                       |          |          | (0.507) |\n",
              "+-----------------------+----------+----------+---------+\n",
              "| Other Continent Dummy |          |          | -0.953  |\n",
              "+-----------------------+----------+----------+---------+\n",
              "|                       |          |          | (0.960) |\n",
              "+-----------------------+----------+----------+---------+\n",
              "| Num.Obs.              | 64       | 64       | 64      |\n",
              "+-----------------------+----------+----------+---------+\n",
              "| R2                    | 0.188    | 0.136    | 0.061   |\n",
              "+-----------------------+----------+----------+---------+\n",
              "| R2 Adj.               | 0.175    | 0.107    | -0.020  |\n",
              "+-----------------------+----------+----------+---------+\n",
              "| AIC                   | 177.3    | 183.2    | 194.5   |\n",
              "+-----------------------+----------+----------+---------+\n",
              "| BIC                   | 181.6    | 189.7    | 207.5   |\n",
              "+-----------------------+----------+----------+---------+\n",
              "| RMSE                  | 0.94     | 0.97     | 1.01    |\n",
              "+-----------------------+----------+----------+---------+\n",
              "| Std.Errors            | IID      | IID      | IID     |\n",
              "+=======================+==========+==========+=========+\n",
              "| + p < 0.1, * p < 0.05, ** p < 0.01, *** p < 0.001     |\n",
              "+=======================+==========+==========+=========+ "
            ]
          },
          "metadata": {}
        }
      ]
    },
    {
      "cell_type": "code",
      "source": [
        "#define controls\n",
        "controls <- c(\"campaign\",\n",
        "              \"source0\",\n",
        "              \"slave\",\n",
        "              \"neoeuro\",\n",
        "              \"asia\",\n",
        "              \"africa\",\n",
        "              \"other\",\n",
        "              \"campaignsj\",\n",
        "              \"campaignsj2\",\n",
        "              \"wandcafrica\",\n",
        "              \"wacacontested\")\n",
        "\n",
        "#esimate correlation matrix, subset to low correlation covariates\n",
        "cor_table <- cor(Data[,controls],use='complete.obs')\n",
        "\n",
        "cor_table<- apply(cor_table,c(1,2),function(x){ifelse(abs(x)>0.5,0,1)})\n",
        "\n",
        "dim(unique(cor_table))\n",
        "rowSums(cor_table[,controls])\n",
        "length(controls)"
      ],
      "metadata": {
        "colab": {
          "base_uri": "https://localhost:8080/",
          "height": 86
        },
        "id": "7htrqIYoz1TC",
        "outputId": "8b519322-5c35-4ac1-e518-ec4cae57ebbe"
      },
      "execution_count": 11,
      "outputs": [
        {
          "output_type": "display_data",
          "data": {
            "text/html": [
              "<style>\n",
              ".list-inline {list-style: none; margin:0; padding: 0}\n",
              ".list-inline>li {display: inline-block}\n",
              ".list-inline>li:not(:last-child)::after {content: \"\\00b7\"; padding: 0 .5ex}\n",
              "</style>\n",
              "<ol class=list-inline><li>7</li><li>11</li></ol>\n"
            ],
            "text/markdown": "1. 7\n2. 11\n\n\n",
            "text/latex": "\\begin{enumerate*}\n\\item 7\n\\item 11\n\\end{enumerate*}\n",
            "text/plain": [
              "[1]  7 11"
            ]
          },
          "metadata": {}
        },
        {
          "output_type": "display_data",
          "data": {
            "text/html": [
              "<style>\n",
              ".dl-inline {width: auto; margin:0; padding: 0}\n",
              ".dl-inline>dt, .dl-inline>dd {float: none; width: auto; display: inline-block}\n",
              ".dl-inline>dt::after {content: \":\\0020\"; padding-right: .5ex}\n",
              ".dl-inline>dt:not(:first-of-type) {padding-left: .5ex}\n",
              "</style><dl class=dl-inline><dt>campaign</dt><dd>8</dd><dt>source0</dt><dd>10</dd><dt>slave</dt><dd>9</dd><dt>neoeuro</dt><dd>9</dd><dt>asia</dt><dd>10</dd><dt>africa</dt><dd>8</dd><dt>other</dt><dd>9</dd><dt>campaignsj</dt><dd>8</dd><dt>campaignsj2</dt><dd>7</dd><dt>wandcafrica</dt><dd>8</dd><dt>wacacontested</dt><dd>8</dd></dl>\n"
            ],
            "text/markdown": "campaign\n:   8source0\n:   10slave\n:   9neoeuro\n:   9asia\n:   10africa\n:   8other\n:   9campaignsj\n:   8campaignsj2\n:   7wandcafrica\n:   8wacacontested\n:   8\n\n",
            "text/latex": "\\begin{description*}\n\\item[campaign] 8\n\\item[source0] 10\n\\item[slave] 9\n\\item[neoeuro] 9\n\\item[asia] 10\n\\item[africa] 8\n\\item[other] 9\n\\item[campaignsj] 8\n\\item[campaignsj2] 7\n\\item[wandcafrica] 8\n\\item[wacacontested] 8\n\\end{description*}\n",
            "text/plain": [
              "     campaign       source0         slave       neoeuro          asia \n",
              "            8            10             9             9            10 \n",
              "       africa         other    campaignsj   campaignsj2   wandcafrica \n",
              "            8             9             8             7             8 \n",
              "wacacontested \n",
              "            8 "
            ]
          },
          "metadata": {}
        },
        {
          "output_type": "display_data",
          "data": {
            "text/html": [
              "11"
            ],
            "text/markdown": "11",
            "text/latex": "11",
            "text/plain": [
              "[1] 11"
            ]
          },
          "metadata": {}
        }
      ]
    },
    {
      "cell_type": "code",
      "source": [
        "#create all possible combinations\n",
        "vars <-  list()\n",
        "for (i in 1: length(controls))\n",
        "{\n",
        "  pivot <- c(controls[i],\"\")\n",
        "  vars <- append(vars, list(pivot))\n",
        "}"
      ],
      "metadata": {
        "id": "RWLnrBC1z4QG"
      },
      "execution_count": 12,
      "outputs": []
    },
    {
      "cell_type": "code",
      "source": [
        "#create all combinations\n",
        "\n",
        "all.vars<-expand.grid(vars) # all factorial combinations\n",
        "all.vars<-data.frame(all.vars)\n",
        "head(all.vars)\n",
        "dim(all.vars)"
      ],
      "metadata": {
        "colab": {
          "base_uri": "https://localhost:8080/",
          "height": 303
        },
        "id": "3f1XZOnMz5kH",
        "outputId": "f8959e76-71d5-4562-f3e2-c9c3a774673a"
      },
      "execution_count": 13,
      "outputs": [
        {
          "output_type": "display_data",
          "data": {
            "text/html": [
              "<table class=\"dataframe\">\n",
              "<caption>A data.frame: 6 × 11</caption>\n",
              "<thead>\n",
              "\t<tr><th></th><th scope=col>Var1</th><th scope=col>Var2</th><th scope=col>Var3</th><th scope=col>Var4</th><th scope=col>Var5</th><th scope=col>Var6</th><th scope=col>Var7</th><th scope=col>Var8</th><th scope=col>Var9</th><th scope=col>Var10</th><th scope=col>Var11</th></tr>\n",
              "\t<tr><th></th><th scope=col>&lt;fct&gt;</th><th scope=col>&lt;fct&gt;</th><th scope=col>&lt;fct&gt;</th><th scope=col>&lt;fct&gt;</th><th scope=col>&lt;fct&gt;</th><th scope=col>&lt;fct&gt;</th><th scope=col>&lt;fct&gt;</th><th scope=col>&lt;fct&gt;</th><th scope=col>&lt;fct&gt;</th><th scope=col>&lt;fct&gt;</th><th scope=col>&lt;fct&gt;</th></tr>\n",
              "</thead>\n",
              "<tbody>\n",
              "\t<tr><th scope=row>1</th><td>campaign</td><td>source0</td><td>slave</td><td>neoeuro</td><td>asia</td><td>africa</td><td>other</td><td>campaignsj</td><td>campaignsj2</td><td>wandcafrica</td><td>wacacontested</td></tr>\n",
              "\t<tr><th scope=row>2</th><td>        </td><td>source0</td><td>slave</td><td>neoeuro</td><td>asia</td><td>africa</td><td>other</td><td>campaignsj</td><td>campaignsj2</td><td>wandcafrica</td><td>wacacontested</td></tr>\n",
              "\t<tr><th scope=row>3</th><td>campaign</td><td>       </td><td>slave</td><td>neoeuro</td><td>asia</td><td>africa</td><td>other</td><td>campaignsj</td><td>campaignsj2</td><td>wandcafrica</td><td>wacacontested</td></tr>\n",
              "\t<tr><th scope=row>4</th><td>        </td><td>       </td><td>slave</td><td>neoeuro</td><td>asia</td><td>africa</td><td>other</td><td>campaignsj</td><td>campaignsj2</td><td>wandcafrica</td><td>wacacontested</td></tr>\n",
              "\t<tr><th scope=row>5</th><td>campaign</td><td>source0</td><td>     </td><td>neoeuro</td><td>asia</td><td>africa</td><td>other</td><td>campaignsj</td><td>campaignsj2</td><td>wandcafrica</td><td>wacacontested</td></tr>\n",
              "\t<tr><th scope=row>6</th><td>        </td><td>source0</td><td>     </td><td>neoeuro</td><td>asia</td><td>africa</td><td>other</td><td>campaignsj</td><td>campaignsj2</td><td>wandcafrica</td><td>wacacontested</td></tr>\n",
              "</tbody>\n",
              "</table>\n"
            ],
            "text/markdown": "\nA data.frame: 6 × 11\n\n| <!--/--> | Var1 &lt;fct&gt; | Var2 &lt;fct&gt; | Var3 &lt;fct&gt; | Var4 &lt;fct&gt; | Var5 &lt;fct&gt; | Var6 &lt;fct&gt; | Var7 &lt;fct&gt; | Var8 &lt;fct&gt; | Var9 &lt;fct&gt; | Var10 &lt;fct&gt; | Var11 &lt;fct&gt; |\n|---|---|---|---|---|---|---|---|---|---|---|---|\n| 1 | campaign | source0 | slave | neoeuro | asia | africa | other | campaignsj | campaignsj2 | wandcafrica | wacacontested |\n| 2 | <!----> | source0 | slave | neoeuro | asia | africa | other | campaignsj | campaignsj2 | wandcafrica | wacacontested |\n| 3 | campaign | <!----> | slave | neoeuro | asia | africa | other | campaignsj | campaignsj2 | wandcafrica | wacacontested |\n| 4 | <!----> | <!----> | slave | neoeuro | asia | africa | other | campaignsj | campaignsj2 | wandcafrica | wacacontested |\n| 5 | campaign | source0 | <!----> | neoeuro | asia | africa | other | campaignsj | campaignsj2 | wandcafrica | wacacontested |\n| 6 | <!----> | source0 | <!----> | neoeuro | asia | africa | other | campaignsj | campaignsj2 | wandcafrica | wacacontested |\n\n",
            "text/latex": "A data.frame: 6 × 11\n\\begin{tabular}{r|lllllllllll}\n  & Var1 & Var2 & Var3 & Var4 & Var5 & Var6 & Var7 & Var8 & Var9 & Var10 & Var11\\\\\n  & <fct> & <fct> & <fct> & <fct> & <fct> & <fct> & <fct> & <fct> & <fct> & <fct> & <fct>\\\\\n\\hline\n\t1 & campaign & source0 & slave & neoeuro & asia & africa & other & campaignsj & campaignsj2 & wandcafrica & wacacontested\\\\\n\t2 &          & source0 & slave & neoeuro & asia & africa & other & campaignsj & campaignsj2 & wandcafrica & wacacontested\\\\\n\t3 & campaign &         & slave & neoeuro & asia & africa & other & campaignsj & campaignsj2 & wandcafrica & wacacontested\\\\\n\t4 &          &         & slave & neoeuro & asia & africa & other & campaignsj & campaignsj2 & wandcafrica & wacacontested\\\\\n\t5 & campaign & source0 &       & neoeuro & asia & africa & other & campaignsj & campaignsj2 & wandcafrica & wacacontested\\\\\n\t6 &          & source0 &       & neoeuro & asia & africa & other & campaignsj & campaignsj2 & wandcafrica & wacacontested\\\\\n\\end{tabular}\n",
            "text/plain": [
              "  Var1     Var2    Var3  Var4    Var5 Var6   Var7  Var8       Var9       \n",
              "1 campaign source0 slave neoeuro asia africa other campaignsj campaignsj2\n",
              "2          source0 slave neoeuro asia africa other campaignsj campaignsj2\n",
              "3 campaign         slave neoeuro asia africa other campaignsj campaignsj2\n",
              "4                  slave neoeuro asia africa other campaignsj campaignsj2\n",
              "5 campaign source0       neoeuro asia africa other campaignsj campaignsj2\n",
              "6          source0       neoeuro asia africa other campaignsj campaignsj2\n",
              "  Var10       Var11        \n",
              "1 wandcafrica wacacontested\n",
              "2 wandcafrica wacacontested\n",
              "3 wandcafrica wacacontested\n",
              "4 wandcafrica wacacontested\n",
              "5 wandcafrica wacacontested\n",
              "6 wandcafrica wacacontested"
            ]
          },
          "metadata": {}
        },
        {
          "output_type": "display_data",
          "data": {
            "text/html": [
              "<style>\n",
              ".list-inline {list-style: none; margin:0; padding: 0}\n",
              ".list-inline>li {display: inline-block}\n",
              ".list-inline>li:not(:last-child)::after {content: \"\\00b7\"; padding: 0 .5ex}\n",
              "</style>\n",
              "<ol class=list-inline><li>2048</li><li>11</li></ol>\n"
            ],
            "text/markdown": "1. 2048\n2. 11\n\n\n",
            "text/latex": "\\begin{enumerate*}\n\\item 2048\n\\item 11\n\\end{enumerate*}\n",
            "text/plain": [
              "[1] 2048   11"
            ]
          },
          "metadata": {}
        }
      ]
    },
    {
      "cell_type": "code",
      "source": [
        "#estimate number of terms in models\n",
        "all.vars$N.vars<-rowSums(apply(all.vars,2,function(x){ifelse(x!=\"\",1,0)}))\n",
        "#subset to models with at least 2 vars\n",
        "dim(all.vars)\n",
        "all.vars<-subset(all.vars,N.vars>=2)\n",
        "dim(all.vars)\n",
        "all.vars$id <-1:nrow(all.vars)\n",
        "ids <- all.vars[,c(\"N.vars\",\"id\")]\n",
        "all.vars$id<-NULL\n",
        "all.vars$N.vars<-NULL\n",
        "all.vars<-apply(all.vars,2,function(x) {as.character(x)})\n",
        "#explore object\n",
        "head(all.vars)"
      ],
      "metadata": {
        "colab": {
          "base_uri": "https://localhost:8080/",
          "height": 289
        },
        "id": "8lD5oh54z65_",
        "outputId": "ce384c42-069a-4451-c4d0-e80e51ec8b3a"
      },
      "execution_count": 14,
      "outputs": [
        {
          "output_type": "display_data",
          "data": {
            "text/html": [
              "<style>\n",
              ".list-inline {list-style: none; margin:0; padding: 0}\n",
              ".list-inline>li {display: inline-block}\n",
              ".list-inline>li:not(:last-child)::after {content: \"\\00b7\"; padding: 0 .5ex}\n",
              "</style>\n",
              "<ol class=list-inline><li>2048</li><li>12</li></ol>\n"
            ],
            "text/markdown": "1. 2048\n2. 12\n\n\n",
            "text/latex": "\\begin{enumerate*}\n\\item 2048\n\\item 12\n\\end{enumerate*}\n",
            "text/plain": [
              "[1] 2048   12"
            ]
          },
          "metadata": {}
        },
        {
          "output_type": "display_data",
          "data": {
            "text/html": [
              "<style>\n",
              ".list-inline {list-style: none; margin:0; padding: 0}\n",
              ".list-inline>li {display: inline-block}\n",
              ".list-inline>li:not(:last-child)::after {content: \"\\00b7\"; padding: 0 .5ex}\n",
              "</style>\n",
              "<ol class=list-inline><li>2036</li><li>12</li></ol>\n"
            ],
            "text/markdown": "1. 2036\n2. 12\n\n\n",
            "text/latex": "\\begin{enumerate*}\n\\item 2036\n\\item 12\n\\end{enumerate*}\n",
            "text/plain": [
              "[1] 2036   12"
            ]
          },
          "metadata": {}
        },
        {
          "output_type": "display_data",
          "data": {
            "text/html": [
              "<table class=\"dataframe\">\n",
              "<caption>A matrix: 6 × 11 of type chr</caption>\n",
              "<thead>\n",
              "\t<tr><th scope=col>Var1</th><th scope=col>Var2</th><th scope=col>Var3</th><th scope=col>Var4</th><th scope=col>Var5</th><th scope=col>Var6</th><th scope=col>Var7</th><th scope=col>Var8</th><th scope=col>Var9</th><th scope=col>Var10</th><th scope=col>Var11</th></tr>\n",
              "</thead>\n",
              "<tbody>\n",
              "\t<tr><td>campaign</td><td>source0</td><td>slave</td><td>neoeuro</td><td>asia</td><td>africa</td><td>other</td><td>campaignsj</td><td>campaignsj2</td><td>wandcafrica</td><td>wacacontested</td></tr>\n",
              "\t<tr><td>        </td><td>source0</td><td>slave</td><td>neoeuro</td><td>asia</td><td>africa</td><td>other</td><td>campaignsj</td><td>campaignsj2</td><td>wandcafrica</td><td>wacacontested</td></tr>\n",
              "\t<tr><td>campaign</td><td>       </td><td>slave</td><td>neoeuro</td><td>asia</td><td>africa</td><td>other</td><td>campaignsj</td><td>campaignsj2</td><td>wandcafrica</td><td>wacacontested</td></tr>\n",
              "\t<tr><td>        </td><td>       </td><td>slave</td><td>neoeuro</td><td>asia</td><td>africa</td><td>other</td><td>campaignsj</td><td>campaignsj2</td><td>wandcafrica</td><td>wacacontested</td></tr>\n",
              "\t<tr><td>campaign</td><td>source0</td><td>     </td><td>neoeuro</td><td>asia</td><td>africa</td><td>other</td><td>campaignsj</td><td>campaignsj2</td><td>wandcafrica</td><td>wacacontested</td></tr>\n",
              "\t<tr><td>        </td><td>source0</td><td>     </td><td>neoeuro</td><td>asia</td><td>africa</td><td>other</td><td>campaignsj</td><td>campaignsj2</td><td>wandcafrica</td><td>wacacontested</td></tr>\n",
              "</tbody>\n",
              "</table>\n"
            ],
            "text/markdown": "\nA matrix: 6 × 11 of type chr\n\n| Var1 | Var2 | Var3 | Var4 | Var5 | Var6 | Var7 | Var8 | Var9 | Var10 | Var11 |\n|---|---|---|---|---|---|---|---|---|---|---|\n| campaign | source0 | slave | neoeuro | asia | africa | other | campaignsj | campaignsj2 | wandcafrica | wacacontested |\n| <!----> | source0 | slave | neoeuro | asia | africa | other | campaignsj | campaignsj2 | wandcafrica | wacacontested |\n| campaign | <!----> | slave | neoeuro | asia | africa | other | campaignsj | campaignsj2 | wandcafrica | wacacontested |\n| <!----> | <!----> | slave | neoeuro | asia | africa | other | campaignsj | campaignsj2 | wandcafrica | wacacontested |\n| campaign | source0 | <!----> | neoeuro | asia | africa | other | campaignsj | campaignsj2 | wandcafrica | wacacontested |\n| <!----> | source0 | <!----> | neoeuro | asia | africa | other | campaignsj | campaignsj2 | wandcafrica | wacacontested |\n\n",
            "text/latex": "A matrix: 6 × 11 of type chr\n\\begin{tabular}{lllllllllll}\n Var1 & Var2 & Var3 & Var4 & Var5 & Var6 & Var7 & Var8 & Var9 & Var10 & Var11\\\\\n\\hline\n\t campaign & source0 & slave & neoeuro & asia & africa & other & campaignsj & campaignsj2 & wandcafrica & wacacontested\\\\\n\t          & source0 & slave & neoeuro & asia & africa & other & campaignsj & campaignsj2 & wandcafrica & wacacontested\\\\\n\t campaign &         & slave & neoeuro & asia & africa & other & campaignsj & campaignsj2 & wandcafrica & wacacontested\\\\\n\t          &         & slave & neoeuro & asia & africa & other & campaignsj & campaignsj2 & wandcafrica & wacacontested\\\\\n\t campaign & source0 &       & neoeuro & asia & africa & other & campaignsj & campaignsj2 & wandcafrica & wacacontested\\\\\n\t          & source0 &       & neoeuro & asia & africa & other & campaignsj & campaignsj2 & wandcafrica & wacacontested\\\\\n\\end{tabular}\n",
            "text/plain": [
              "     Var1     Var2    Var3  Var4    Var5 Var6   Var7  Var8       Var9       \n",
              "[1,] campaign source0 slave neoeuro asia africa other campaignsj campaignsj2\n",
              "[2,]          source0 slave neoeuro asia africa other campaignsj campaignsj2\n",
              "[3,] campaign         slave neoeuro asia africa other campaignsj campaignsj2\n",
              "[4,]                  slave neoeuro asia africa other campaignsj campaignsj2\n",
              "[5,] campaign source0       neoeuro asia africa other campaignsj campaignsj2\n",
              "[6,]          source0       neoeuro asia africa other campaignsj campaignsj2\n",
              "     Var10       Var11        \n",
              "[1,] wandcafrica wacacontested\n",
              "[2,] wandcafrica wacacontested\n",
              "[3,] wandcafrica wacacontested\n",
              "[4,] wandcafrica wacacontested\n",
              "[5,] wandcafrica wacacontested\n",
              "[6,] wandcafrica wacacontested"
            ]
          },
          "metadata": {}
        }
      ]
    },
    {
      "cell_type": "code",
      "source": [
        "### lets build a function to evaliate our model\n",
        "performance_ols<-function(dependent.variable,treatment,controls,DataSet,id)\n",
        "{\n",
        "  #test code\n",
        "  #dependent.variable <- \"earnq16\"\n",
        "  #treatment <- \"treatmnt\"\n",
        "  #controls <- all.vars[4,]\n",
        "  #DataSet <- Data\n",
        "  model<-as.formula(paste(dependent.variable,\"~\",paste(controls,collapse=\"+\"),\"+\",treatment,sep=\"\"))\n",
        "  linear.model<-lm(model, data=DataSet)\n",
        "  my.SSR <- deviance(linear.model) #residual sum of squares\n",
        "  my.LL <- logLik(linear.model) # log likelihood statistic\n",
        "  my.RSquared <- summary(linear.model)$r.squared\n",
        "  my.aic <- AIC(linear.model) # Akaike information criterion\n",
        "  my.treatment.effect<-summary(linear.model)$coefficients[treatment,\"Estimate\"]\n",
        "  my.treatment.StdEror<-summary(linear.model)$coefficients[treatment,\"Std. Error\"]\n",
        "  #my.VIF<-length(which( vif(linear.model)>2.0 ) ) # number of covariates that exceed the 2 threshold as a proxy for multicollinarity\n",
        "  #  my.cor.e.y<-cor(subset(DataSet[[dependent.variable]],complete.cases(Data[,c(dependent.variable,treatment,subset(controls,controls!=\"\"))])),as.numeric(linear.model$residuals))\n",
        "  #  my.cor.e.t<-cor(subset(DataSet[[treatment]],complete.cases(Data[,c(dependent.variable,treatment, subset(controls,controls!=\"\"))])),as.numeric(linear.model$residuals))\n",
        "  my.Percent.Coeff.Sig<-length(which(summary(linear.model)$coefficients[,\"Pr(>|t|)\"]<0.05))/length(summary(linear.model)$coefficients[,\"Pr(>|t|)\"])\n",
        "  results<-data.frame(SSR=my.SSR,\n",
        "                      LL=my.LL,\n",
        "                      RSquared=my.RSquared,\n",
        "                      AIC=my.aic,\n",
        "                      Effect=my.treatment.effect,\n",
        "                      Std.Error.Effect=my.treatment.StdEror,\n",
        "                      #Eps.T=my.cor.e.t,\n",
        "                      #Eps.Y=my.cor.e.y,\n",
        "                      #VIF=my.VIF,\n",
        "                      Percent.Sig=my.Percent.Coeff.Sig ,\n",
        "                      id = id,\n",
        "                      #Controls=paste(controls,collapse=\"+\"),\n",
        "                      row.names=NULL)\n",
        "  return(results)\n",
        "}"
      ],
      "metadata": {
        "id": "bpAjqiIPz9bA"
      },
      "execution_count": 15,
      "outputs": []
    },
    {
      "cell_type": "code",
      "source": [
        "#test the function\n",
        "i<- 1\n",
        "performance_ols(\"loggdp\",\"risk\",as.character(all.vars[i,]),Data,i)\n"
      ],
      "metadata": {
        "colab": {
          "base_uri": "https://localhost:8080/",
          "height": 129
        },
        "id": "NU0jLRHmz-WH",
        "outputId": "82534202-6dbf-4425-e424-2a6b8d2da5d7"
      },
      "execution_count": 16,
      "outputs": [
        {
          "output_type": "display_data",
          "data": {
            "text/html": [
              "<table class=\"dataframe\">\n",
              "<caption>A data.frame: 1 × 8</caption>\n",
              "<thead>\n",
              "\t<tr><th scope=col>SSR</th><th scope=col>LL</th><th scope=col>RSquared</th><th scope=col>AIC</th><th scope=col>Effect</th><th scope=col>Std.Error.Effect</th><th scope=col>Percent.Sig</th><th scope=col>id</th></tr>\n",
              "\t<tr><th scope=col>&lt;dbl&gt;</th><th scope=col>&lt;dbl&gt;</th><th scope=col>&lt;dbl&gt;</th><th scope=col>&lt;dbl&gt;</th><th scope=col>&lt;dbl&gt;</th><th scope=col>&lt;dbl&gt;</th><th scope=col>&lt;dbl&gt;</th><th scope=col>&lt;dbl&gt;</th></tr>\n",
              "</thead>\n",
              "<tbody>\n",
              "\t<tr><td>14.94982</td><td>-44.27818</td><td>0.7838202</td><td>116.5564</td><td>0.3385154</td><td>0.06466305</td><td>0.3846154</td><td>1</td></tr>\n",
              "</tbody>\n",
              "</table>\n"
            ],
            "text/markdown": "\nA data.frame: 1 × 8\n\n| SSR &lt;dbl&gt; | LL &lt;dbl&gt; | RSquared &lt;dbl&gt; | AIC &lt;dbl&gt; | Effect &lt;dbl&gt; | Std.Error.Effect &lt;dbl&gt; | Percent.Sig &lt;dbl&gt; | id &lt;dbl&gt; |\n|---|---|---|---|---|---|---|---|\n| 14.94982 | -44.27818 | 0.7838202 | 116.5564 | 0.3385154 | 0.06466305 | 0.3846154 | 1 |\n\n",
            "text/latex": "A data.frame: 1 × 8\n\\begin{tabular}{llllllll}\n SSR & LL & RSquared & AIC & Effect & Std.Error.Effect & Percent.Sig & id\\\\\n <dbl> & <dbl> & <dbl> & <dbl> & <dbl> & <dbl> & <dbl> & <dbl>\\\\\n\\hline\n\t 14.94982 & -44.27818 & 0.7838202 & 116.5564 & 0.3385154 & 0.06466305 & 0.3846154 & 1\\\\\n\\end{tabular}\n",
            "text/plain": [
              "  SSR      LL        RSquared  AIC      Effect    Std.Error.Effect Percent.Sig\n",
              "1 14.94982 -44.27818 0.7838202 116.5564 0.3385154 0.06466305       0.3846154  \n",
              "  id\n",
              "1 1 "
            ]
          },
          "metadata": {}
        }
      ]
    },
    {
      "cell_type": "code",
      "source": [
        "head(ids)\n",
        "target_ids<-subset(ids,N.vars==3)$id\n",
        "length(target_ids)\n",
        "#for (i in 1:dim(all.vars)[1])\n",
        "#for (i in 1:10)\n",
        "results <- list()\n",
        "for ( i in target_ids)\n",
        "{\n",
        "  out <- performance_ols(\"loggdp\",\"risk\",all.vars[i,],Data,i)\n",
        "  results <- append(results, list(out))\n",
        "}"
      ],
      "metadata": {
        "colab": {
          "base_uri": "https://localhost:8080/",
          "height": 303
        },
        "id": "t8EN9FSc0yKP",
        "outputId": "f44f9af5-76a3-4383-b2e5-1ab3cc492c67"
      },
      "execution_count": 17,
      "outputs": [
        {
          "output_type": "display_data",
          "data": {
            "text/html": [
              "<table class=\"dataframe\">\n",
              "<caption>A data.frame: 6 × 2</caption>\n",
              "<thead>\n",
              "\t<tr><th></th><th scope=col>N.vars</th><th scope=col>id</th></tr>\n",
              "\t<tr><th></th><th scope=col>&lt;dbl&gt;</th><th scope=col>&lt;int&gt;</th></tr>\n",
              "</thead>\n",
              "<tbody>\n",
              "\t<tr><th scope=row>1</th><td>11</td><td>1</td></tr>\n",
              "\t<tr><th scope=row>2</th><td>10</td><td>2</td></tr>\n",
              "\t<tr><th scope=row>3</th><td>10</td><td>3</td></tr>\n",
              "\t<tr><th scope=row>4</th><td> 9</td><td>4</td></tr>\n",
              "\t<tr><th scope=row>5</th><td>10</td><td>5</td></tr>\n",
              "\t<tr><th scope=row>6</th><td> 9</td><td>6</td></tr>\n",
              "</tbody>\n",
              "</table>\n"
            ],
            "text/markdown": "\nA data.frame: 6 × 2\n\n| <!--/--> | N.vars &lt;dbl&gt; | id &lt;int&gt; |\n|---|---|---|\n| 1 | 11 | 1 |\n| 2 | 10 | 2 |\n| 3 | 10 | 3 |\n| 4 |  9 | 4 |\n| 5 | 10 | 5 |\n| 6 |  9 | 6 |\n\n",
            "text/latex": "A data.frame: 6 × 2\n\\begin{tabular}{r|ll}\n  & N.vars & id\\\\\n  & <dbl> & <int>\\\\\n\\hline\n\t1 & 11 & 1\\\\\n\t2 & 10 & 2\\\\\n\t3 & 10 & 3\\\\\n\t4 &  9 & 4\\\\\n\t5 & 10 & 5\\\\\n\t6 &  9 & 6\\\\\n\\end{tabular}\n",
            "text/plain": [
              "  N.vars id\n",
              "1 11     1 \n",
              "2 10     2 \n",
              "3 10     3 \n",
              "4  9     4 \n",
              "5 10     5 \n",
              "6  9     6 "
            ]
          },
          "metadata": {}
        },
        {
          "output_type": "display_data",
          "data": {
            "text/html": [
              "165"
            ],
            "text/markdown": "165",
            "text/latex": "165",
            "text/plain": [
              "[1] 165"
            ]
          },
          "metadata": {}
        }
      ]
    },
    {
      "cell_type": "code",
      "source": [
        "#post-process\n",
        "#results\n",
        "results <- do.call(\"rbind\",results)\n",
        "dim(results)\n",
        "head(results)\n",
        "summary(results)"
      ],
      "metadata": {
        "colab": {
          "base_uri": "https://localhost:8080/",
          "height": 546
        },
        "id": "V-u8GjT00zxu",
        "outputId": "dd2deb8b-0c68-4d26-83e2-deddccffb40b"
      },
      "execution_count": 18,
      "outputs": [
        {
          "output_type": "display_data",
          "data": {
            "text/html": [
              "<style>\n",
              ".list-inline {list-style: none; margin:0; padding: 0}\n",
              ".list-inline>li {display: inline-block}\n",
              ".list-inline>li:not(:last-child)::after {content: \"\\00b7\"; padding: 0 .5ex}\n",
              "</style>\n",
              "<ol class=list-inline><li>165</li><li>8</li></ol>\n"
            ],
            "text/markdown": "1. 165\n2. 8\n\n\n",
            "text/latex": "\\begin{enumerate*}\n\\item 165\n\\item 8\n\\end{enumerate*}\n",
            "text/plain": [
              "[1] 165   8"
            ]
          },
          "metadata": {}
        },
        {
          "output_type": "display_data",
          "data": {
            "text/html": [
              "<table class=\"dataframe\">\n",
              "<caption>A data.frame: 6 × 8</caption>\n",
              "<thead>\n",
              "\t<tr><th></th><th scope=col>SSR</th><th scope=col>LL</th><th scope=col>RSquared</th><th scope=col>AIC</th><th scope=col>Effect</th><th scope=col>Std.Error.Effect</th><th scope=col>Percent.Sig</th><th scope=col>id</th></tr>\n",
              "\t<tr><th></th><th scope=col>&lt;dbl&gt;</th><th scope=col>&lt;dbl&gt;</th><th scope=col>&lt;dbl&gt;</th><th scope=col>&lt;dbl&gt;</th><th scope=col>&lt;dbl&gt;</th><th scope=col>&lt;dbl&gt;</th><th scope=col>&lt;dbl&gt;</th><th scope=col>&lt;int&gt;</th></tr>\n",
              "</thead>\n",
              "<tbody>\n",
              "\t<tr><th scope=row>1</th><td>22.13856</td><td>-56.84208</td><td>0.6798683</td><td>125.6842</td><td>0.3850847</td><td>0.05800456</td><td>0.6</td><td>256</td></tr>\n",
              "\t<tr><th scope=row>2</th><td>22.08356</td><td>-56.76248</td><td>0.6806636</td><td>125.5250</td><td>0.3812640</td><td>0.05874839</td><td>0.6</td><td>384</td></tr>\n",
              "\t<tr><th scope=row>3</th><td>21.41850</td><td>-55.78397</td><td>0.6902806</td><td>123.5679</td><td>0.3597217</td><td>0.05982552</td><td>0.6</td><td>448</td></tr>\n",
              "\t<tr><th scope=row>4</th><td>22.09056</td><td>-56.77262</td><td>0.6805624</td><td>125.5452</td><td>0.3846981</td><td>0.05789933</td><td>0.6</td><td>480</td></tr>\n",
              "\t<tr><th scope=row>5</th><td>18.86641</td><td>-51.72407</td><td>0.7271848</td><td>115.4481</td><td>0.4001782</td><td>0.05362606</td><td>0.8</td><td>496</td></tr>\n",
              "\t<tr><th scope=row>6</th><td>21.31878</td><td>-55.63463</td><td>0.6917227</td><td>123.2693</td><td>0.3296851</td><td>0.06773549</td><td>0.6</td><td>504</td></tr>\n",
              "</tbody>\n",
              "</table>\n"
            ],
            "text/markdown": "\nA data.frame: 6 × 8\n\n| <!--/--> | SSR &lt;dbl&gt; | LL &lt;dbl&gt; | RSquared &lt;dbl&gt; | AIC &lt;dbl&gt; | Effect &lt;dbl&gt; | Std.Error.Effect &lt;dbl&gt; | Percent.Sig &lt;dbl&gt; | id &lt;int&gt; |\n|---|---|---|---|---|---|---|---|---|\n| 1 | 22.13856 | -56.84208 | 0.6798683 | 125.6842 | 0.3850847 | 0.05800456 | 0.6 | 256 |\n| 2 | 22.08356 | -56.76248 | 0.6806636 | 125.5250 | 0.3812640 | 0.05874839 | 0.6 | 384 |\n| 3 | 21.41850 | -55.78397 | 0.6902806 | 123.5679 | 0.3597217 | 0.05982552 | 0.6 | 448 |\n| 4 | 22.09056 | -56.77262 | 0.6805624 | 125.5452 | 0.3846981 | 0.05789933 | 0.6 | 480 |\n| 5 | 18.86641 | -51.72407 | 0.7271848 | 115.4481 | 0.4001782 | 0.05362606 | 0.8 | 496 |\n| 6 | 21.31878 | -55.63463 | 0.6917227 | 123.2693 | 0.3296851 | 0.06773549 | 0.6 | 504 |\n\n",
            "text/latex": "A data.frame: 6 × 8\n\\begin{tabular}{r|llllllll}\n  & SSR & LL & RSquared & AIC & Effect & Std.Error.Effect & Percent.Sig & id\\\\\n  & <dbl> & <dbl> & <dbl> & <dbl> & <dbl> & <dbl> & <dbl> & <int>\\\\\n\\hline\n\t1 & 22.13856 & -56.84208 & 0.6798683 & 125.6842 & 0.3850847 & 0.05800456 & 0.6 & 256\\\\\n\t2 & 22.08356 & -56.76248 & 0.6806636 & 125.5250 & 0.3812640 & 0.05874839 & 0.6 & 384\\\\\n\t3 & 21.41850 & -55.78397 & 0.6902806 & 123.5679 & 0.3597217 & 0.05982552 & 0.6 & 448\\\\\n\t4 & 22.09056 & -56.77262 & 0.6805624 & 125.5452 & 0.3846981 & 0.05789933 & 0.6 & 480\\\\\n\t5 & 18.86641 & -51.72407 & 0.7271848 & 115.4481 & 0.4001782 & 0.05362606 & 0.8 & 496\\\\\n\t6 & 21.31878 & -55.63463 & 0.6917227 & 123.2693 & 0.3296851 & 0.06773549 & 0.6 & 504\\\\\n\\end{tabular}\n",
            "text/plain": [
              "  SSR      LL        RSquared  AIC      Effect    Std.Error.Effect Percent.Sig\n",
              "1 22.13856 -56.84208 0.6798683 125.6842 0.3850847 0.05800456       0.6        \n",
              "2 22.08356 -56.76248 0.6806636 125.5250 0.3812640 0.05874839       0.6        \n",
              "3 21.41850 -55.78397 0.6902806 123.5679 0.3597217 0.05982552       0.6        \n",
              "4 22.09056 -56.77262 0.6805624 125.5452 0.3846981 0.05789933       0.6        \n",
              "5 18.86641 -51.72407 0.7271848 115.4481 0.4001782 0.05362606       0.8        \n",
              "6 21.31878 -55.63463 0.6917227 123.2693 0.3296851 0.06773549       0.6        \n",
              "  id \n",
              "1 256\n",
              "2 384\n",
              "3 448\n",
              "4 480\n",
              "5 496\n",
              "6 504"
            ]
          },
          "metadata": {}
        },
        {
          "output_type": "display_data",
          "data": {
            "text/plain": [
              "      SSR              LL            RSquared           AIC       \n",
              " Min.   :18.13   Min.   :-68.69   Min.   :0.5364   Min.   :112.9  \n",
              " 1st Qu.:21.91   1st Qu.:-66.08   1st Qu.:0.5727   1st Qu.:125.0  \n",
              " Median :24.79   Median :-60.46   Median :0.6416   Median :132.9  \n",
              " Mean   :25.63   Mean   :-61.11   Mean   :0.6294   Mean   :134.2  \n",
              " 3rd Qu.:29.55   3rd Qu.:-56.51   3rd Qu.:0.6832   3rd Qu.:144.2  \n",
              " Max.   :32.06   Max.   :-50.46   Max.   :0.7378   Max.   :149.4  \n",
              "     Effect       Std.Error.Effect   Percent.Sig           id      \n",
              " Min.   :0.3297   Min.   :0.05305   Min.   :0.4000   Min.   : 256  \n",
              " 1st Qu.:0.3894   1st Qu.:0.06010   1st Qu.:0.6000   1st Qu.:1015  \n",
              " Median :0.4307   Median :0.06410   Median :0.6000   Median :1630  \n",
              " Mean   :0.4315   Mean   :0.06510   Mean   :0.6036   Mean   :1488  \n",
              " 3rd Qu.:0.4716   3rd Qu.:0.06929   3rd Qu.:0.6000   3rd Qu.:1900  \n",
              " Max.   :0.5437   Max.   :0.08038   Max.   :1.0000   Max.   :2033  "
            ]
          },
          "metadata": {}
        }
      ]
    },
    {
      "cell_type": "code",
      "source": [
        "#choose a model\n",
        "decision <- subset(results, Percent.Sig>=0.8)\n",
        "decision <- subset(decision, AIC<as.numeric(quantile(results$AIC,0.25)))\n",
        "decision <- decision[order(decision$Std.Error.Effect),]\n",
        "decision <- decision[order(decision$AIC),]\n",
        "head(decision)\n",
        "dim(decision)"
      ],
      "metadata": {
        "colab": {
          "base_uri": "https://localhost:8080/",
          "height": 303
        },
        "id": "Jet1_rsj01pR",
        "outputId": "6a48d645-18e8-4c15-8029-5fbf97a07bf8"
      },
      "execution_count": 19,
      "outputs": [
        {
          "output_type": "display_data",
          "data": {
            "text/html": [
              "<table class=\"dataframe\">\n",
              "<caption>A data.frame: 6 × 8</caption>\n",
              "<thead>\n",
              "\t<tr><th></th><th scope=col>SSR</th><th scope=col>LL</th><th scope=col>RSquared</th><th scope=col>AIC</th><th scope=col>Effect</th><th scope=col>Std.Error.Effect</th><th scope=col>Percent.Sig</th><th scope=col>id</th></tr>\n",
              "\t<tr><th></th><th scope=col>&lt;dbl&gt;</th><th scope=col>&lt;dbl&gt;</th><th scope=col>&lt;dbl&gt;</th><th scope=col>&lt;dbl&gt;</th><th scope=col>&lt;dbl&gt;</th><th scope=col>&lt;dbl&gt;</th><th scope=col>&lt;dbl&gt;</th><th scope=col>&lt;int&gt;</th></tr>\n",
              "</thead>\n",
              "<tbody>\n",
              "\t<tr><th scope=row>74</th><td>18.13452</td><td>-50.45796</td><td>0.7377682</td><td>112.9159</td><td>0.4172014</td><td>0.05305049</td><td>0.8</td><td>1517</td></tr>\n",
              "\t<tr><th scope=row>75</th><td>18.47357</td><td>-51.05073</td><td>0.7328654</td><td>114.1015</td><td>0.3829724</td><td>0.05485689</td><td>0.8</td><td>1518</td></tr>\n",
              "\t<tr><th scope=row>67</th><td>18.72077</td><td>-51.47609</td><td>0.7292908</td><td>114.9522</td><td>0.4012214</td><td>0.05333097</td><td>0.8</td><td>1487</td></tr>\n",
              "\t<tr><th scope=row>62</th><td>18.81326</td><td>-51.63380</td><td>0.7279533</td><td>115.2676</td><td>0.3860550</td><td>0.05644742</td><td>0.8</td><td>1455</td></tr>\n",
              "\t<tr><th scope=row>5</th><td>18.86641</td><td>-51.72407</td><td>0.7271848</td><td>115.4481</td><td>0.4001782</td><td>0.05362606</td><td>0.8</td><td> 496</td></tr>\n",
              "\t<tr><th scope=row>72</th><td>18.89984</td><td>-51.78072</td><td>0.7267014</td><td>115.5614</td><td>0.3742853</td><td>0.06504374</td><td>0.8</td><td>1511</td></tr>\n",
              "</tbody>\n",
              "</table>\n"
            ],
            "text/markdown": "\nA data.frame: 6 × 8\n\n| <!--/--> | SSR &lt;dbl&gt; | LL &lt;dbl&gt; | RSquared &lt;dbl&gt; | AIC &lt;dbl&gt; | Effect &lt;dbl&gt; | Std.Error.Effect &lt;dbl&gt; | Percent.Sig &lt;dbl&gt; | id &lt;int&gt; |\n|---|---|---|---|---|---|---|---|---|\n| 74 | 18.13452 | -50.45796 | 0.7377682 | 112.9159 | 0.4172014 | 0.05305049 | 0.8 | 1517 |\n| 75 | 18.47357 | -51.05073 | 0.7328654 | 114.1015 | 0.3829724 | 0.05485689 | 0.8 | 1518 |\n| 67 | 18.72077 | -51.47609 | 0.7292908 | 114.9522 | 0.4012214 | 0.05333097 | 0.8 | 1487 |\n| 62 | 18.81326 | -51.63380 | 0.7279533 | 115.2676 | 0.3860550 | 0.05644742 | 0.8 | 1455 |\n| 5 | 18.86641 | -51.72407 | 0.7271848 | 115.4481 | 0.4001782 | 0.05362606 | 0.8 |  496 |\n| 72 | 18.89984 | -51.78072 | 0.7267014 | 115.5614 | 0.3742853 | 0.06504374 | 0.8 | 1511 |\n\n",
            "text/latex": "A data.frame: 6 × 8\n\\begin{tabular}{r|llllllll}\n  & SSR & LL & RSquared & AIC & Effect & Std.Error.Effect & Percent.Sig & id\\\\\n  & <dbl> & <dbl> & <dbl> & <dbl> & <dbl> & <dbl> & <dbl> & <int>\\\\\n\\hline\n\t74 & 18.13452 & -50.45796 & 0.7377682 & 112.9159 & 0.4172014 & 0.05305049 & 0.8 & 1517\\\\\n\t75 & 18.47357 & -51.05073 & 0.7328654 & 114.1015 & 0.3829724 & 0.05485689 & 0.8 & 1518\\\\\n\t67 & 18.72077 & -51.47609 & 0.7292908 & 114.9522 & 0.4012214 & 0.05333097 & 0.8 & 1487\\\\\n\t62 & 18.81326 & -51.63380 & 0.7279533 & 115.2676 & 0.3860550 & 0.05644742 & 0.8 & 1455\\\\\n\t5 & 18.86641 & -51.72407 & 0.7271848 & 115.4481 & 0.4001782 & 0.05362606 & 0.8 &  496\\\\\n\t72 & 18.89984 & -51.78072 & 0.7267014 & 115.5614 & 0.3742853 & 0.06504374 & 0.8 & 1511\\\\\n\\end{tabular}\n",
            "text/plain": [
              "   SSR      LL        RSquared  AIC      Effect    Std.Error.Effect Percent.Sig\n",
              "74 18.13452 -50.45796 0.7377682 112.9159 0.4172014 0.05305049       0.8        \n",
              "75 18.47357 -51.05073 0.7328654 114.1015 0.3829724 0.05485689       0.8        \n",
              "67 18.72077 -51.47609 0.7292908 114.9522 0.4012214 0.05333097       0.8        \n",
              "62 18.81326 -51.63380 0.7279533 115.2676 0.3860550 0.05644742       0.8        \n",
              "5  18.86641 -51.72407 0.7271848 115.4481 0.4001782 0.05362606       0.8        \n",
              "72 18.89984 -51.78072 0.7267014 115.5614 0.3742853 0.06504374       0.8        \n",
              "   id  \n",
              "74 1517\n",
              "75 1518\n",
              "67 1487\n",
              "62 1455\n",
              "5   496\n",
              "72 1511"
            ]
          },
          "metadata": {}
        },
        {
          "output_type": "display_data",
          "data": {
            "text/html": [
              "<style>\n",
              ".list-inline {list-style: none; margin:0; padding: 0}\n",
              ".list-inline>li {display: inline-block}\n",
              ".list-inline>li:not(:last-child)::after {content: \"\\00b7\"; padding: 0 .5ex}\n",
              "</style>\n",
              "<ol class=list-inline><li>25</li><li>8</li></ol>\n"
            ],
            "text/markdown": "1. 25\n2. 8\n\n\n",
            "text/latex": "\\begin{enumerate*}\n\\item 25\n\\item 8\n\\end{enumerate*}\n",
            "text/plain": [
              "[1] 25  8"
            ]
          },
          "metadata": {}
        }
      ]
    },
    {
      "cell_type": "code",
      "source": [
        "target_models <- c(72,74)\n",
        "model1<-as.formula(paste(\"loggdp\",\"~\",paste(as.character(all.vars[target_models[1],]),collapse=\"+\"),\"+\",\"risk\",sep=\"\"))\n",
        "model2<-as.formula(paste(\"loggdp\",\"~\",paste(as.character(all.vars[target_models[2],]),collapse=\"+\"),\"+\",\"risk\",sep=\"\"))\n",
        "lm(model1,data=Data)\n",
        "lm(model2,data=Data)"
      ],
      "metadata": {
        "colab": {
          "base_uri": "https://localhost:8080/",
          "height": 329
        },
        "id": "GA69CxJW03Fp",
        "outputId": "07ae84d2-1bb3-40f3-9b9f-aba0c3035ffe"
      },
      "execution_count": 20,
      "outputs": [
        {
          "output_type": "display_data",
          "data": {
            "text/plain": [
              "\n",
              "Call:\n",
              "lm(formula = model1, data = Data)\n",
              "\n",
              "Coefficients:\n",
              "  (Intercept)        neoeuro           asia         africa     campaignsj  \n",
              "       6.1344         0.1748        -0.7597        -0.3158        -0.3177  \n",
              "  campaignsj2    wandcafrica  wacacontested           risk  \n",
              "       0.3953        -0.9272         0.2475         0.3549  \n"
            ]
          },
          "metadata": {}
        },
        {
          "output_type": "display_data",
          "data": {
            "text/plain": [
              "\n",
              "Call:\n",
              "lm(formula = model2, data = Data)\n",
              "\n",
              "Coefficients:\n",
              "  (Intercept)        source0          slave           asia         africa  \n",
              "      6.02872       -0.33940        0.01067       -0.66886       -0.14220  \n",
              "   campaignsj    campaignsj2    wandcafrica  wacacontested           risk  \n",
              "     -0.42628        0.44847       -0.81701       -0.09260        0.39019  \n"
            ]
          },
          "metadata": {}
        }
      ]
    },
    {
      "cell_type": "markdown",
      "source": [
        "# Stepwise regresssion"
      ],
      "metadata": {
        "id": "-FisdDrO119t"
      }
    },
    {
      "cell_type": "code",
      "source": [
        "controls\n",
        "\n",
        "model <- lm(loggdp ~ risk + ., data = Data [,c(\"loggdp\",\"risk\",controls)])"
      ],
      "metadata": {
        "colab": {
          "base_uri": "https://localhost:8080/",
          "height": 34
        },
        "id": "_VXkxKaZ2T1p",
        "outputId": "0c7ac60e-2ac1-4399-f245-8ddc5055a675"
      },
      "execution_count": 21,
      "outputs": [
        {
          "output_type": "display_data",
          "data": {
            "text/html": [
              "<style>\n",
              ".list-inline {list-style: none; margin:0; padding: 0}\n",
              ".list-inline>li {display: inline-block}\n",
              ".list-inline>li:not(:last-child)::after {content: \"\\00b7\"; padding: 0 .5ex}\n",
              "</style>\n",
              "<ol class=list-inline><li>'campaign'</li><li>'source0'</li><li>'slave'</li><li>'neoeuro'</li><li>'asia'</li><li>'africa'</li><li>'other'</li><li>'campaignsj'</li><li>'campaignsj2'</li><li>'wandcafrica'</li><li>'wacacontested'</li></ol>\n"
            ],
            "text/markdown": "1. 'campaign'\n2. 'source0'\n3. 'slave'\n4. 'neoeuro'\n5. 'asia'\n6. 'africa'\n7. 'other'\n8. 'campaignsj'\n9. 'campaignsj2'\n10. 'wandcafrica'\n11. 'wacacontested'\n\n\n",
            "text/latex": "\\begin{enumerate*}\n\\item 'campaign'\n\\item 'source0'\n\\item 'slave'\n\\item 'neoeuro'\n\\item 'asia'\n\\item 'africa'\n\\item 'other'\n\\item 'campaignsj'\n\\item 'campaignsj2'\n\\item 'wandcafrica'\n\\item 'wacacontested'\n\\end{enumerate*}\n",
            "text/plain": [
              " [1] \"campaign\"      \"source0\"       \"slave\"         \"neoeuro\"      \n",
              " [5] \"asia\"          \"africa\"        \"other\"         \"campaignsj\"   \n",
              " [9] \"campaignsj2\"   \"wandcafrica\"   \"wacacontested\""
            ]
          },
          "metadata": {}
        }
      ]
    },
    {
      "cell_type": "markdown",
      "source": [
        "## All Possible Regression\n",
        "All subset regression tests all possible subsets of the set of potential independent variables.\n",
        "\n",
        "If there are K potential independent variables (besides the constant), then there are 2k distinct subsets of them to be tested.\n",
        "\n",
        "For example, if you have 10 candidate independent variables, the number of subsets to be tested is 210 ,which is 1024, and if you have 20 candidate variables, the number is 220, which is more than one millio"
      ],
      "metadata": {
        "id": "mout4qwF16r_"
      }
    },
    {
      "cell_type": "code",
      "source": [
        "all <- ols_step_all_possible(model)\n",
        "\n",
        "head(all)"
      ],
      "metadata": {
        "id": "O5CD33t514kv"
      },
      "execution_count": null,
      "outputs": []
    },
    {
      "cell_type": "markdown",
      "source": [
        "## Best Subset Regression\n",
        "Select the subset of predictors that do the best at meeting some well-defined objective criterion, such as having the largest R2 value or the smallest MSE, Mallow’s Cp or AIC."
      ],
      "metadata": {
        "id": "I_An0J5U256Y"
      }
    },
    {
      "cell_type": "code",
      "source": [
        "best_subset <- ols_step_best_subset(model)\n",
        "best_subset"
      ],
      "metadata": {
        "id": "IOH-eYBU23by"
      },
      "execution_count": null,
      "outputs": []
    },
    {
      "cell_type": "markdown",
      "source": [
        "## Stepwise Selection\n",
        "Stepwise regression is a method of fitting regression models that involves the iterative selection of independent variables to use in a model.\n",
        "\n",
        "It can be achieved through forward selection, backward elimination, or a combination of both methods.\n",
        "The forward selection approach starts with no variables and adds each new variable incrementally, testing for statistical significance, while the backward elimination method begins with a full model and then removes the least statistically significant variables one at a time.\n"
      ],
      "metadata": {
        "id": "ycAyKIR34Er4"
      }
    },
    {
      "cell_type": "code",
      "source": [
        "# stepwise forward regression\n",
        "ols_step_forward_p(model)"
      ],
      "metadata": {
        "id": "AasU_4MX41Rw"
      },
      "execution_count": null,
      "outputs": []
    },
    {
      "cell_type": "code",
      "source": [
        "# stepwise backward regression\n",
        "ols_step_backward_p(model)"
      ],
      "metadata": {
        "id": "CblxCJ5X433h"
      },
      "execution_count": null,
      "outputs": []
    },
    {
      "cell_type": "markdown",
      "source": [
        "###The criteria for selecting variables may be one of the following:\n",
        "* p value\n",
        "* akaike information criterion (aic)\n",
        "* schwarz bayesian criterion (sbc)\n",
        "* sawa bayesian criterion (sbic)\n",
        "* r-square\n",
        "* adjusted r-square"
      ],
      "metadata": {
        "id": "28hORCJh4-C3"
      }
    },
    {
      "cell_type": "code",
      "source": [
        "#for example using AIC\n",
        "ols_step_both_aic(model)"
      ],
      "metadata": {
        "id": "Ha-mJDIY5WIT"
      },
      "execution_count": null,
      "outputs": []
    },
    {
      "cell_type": "code",
      "source": [
        "#show progress\n",
        "# adjusted r-square\n",
        "ols_step_forward_adj_r2(model, progress = TRUE)\n"
      ],
      "metadata": {
        "id": "fyxTw3su5YDa"
      },
      "execution_count": null,
      "outputs": []
    },
    {
      "cell_type": "code",
      "source": [
        "#plot output\n",
        "# adjusted r-square\n",
        "k <- ols_step_forward_adj_r2(model)\n",
        "plot(k)\n"
      ],
      "metadata": {
        "id": "an3SRTRt5alL"
      },
      "execution_count": null,
      "outputs": []
    },
    {
      "cell_type": "markdown",
      "source": [
        "## Cross Validation using `library \"caret\" `"
      ],
      "metadata": {
        "id": "IbhtUoaF5j_Q"
      }
    },
    {
      "cell_type": "code",
      "source": [
        "library(caret)"
      ],
      "metadata": {
        "id": "SVBANawHJYjs"
      },
      "execution_count": null,
      "outputs": []
    },
    {
      "cell_type": "code",
      "source": [
        "#specify the cross-validation method\n",
        "ctrl <- trainControl(method = \"cv\", number = 5)"
      ],
      "metadata": {
        "id": "vvxjKrI_5fO5"
      },
      "execution_count": null,
      "outputs": []
    },
    {
      "cell_type": "code",
      "source": [
        "#fit a regression model and use k-fold CV to evaluate performance\n",
        "model <- train(loggdp ~ .,\n",
        "               data = Data [complete.cases(Data),c(\"loggdp\",\"risk\",controls)],\n",
        "               method = \"rf\")"
      ],
      "metadata": {
        "id": "JJlXc94k61_F"
      },
      "execution_count": null,
      "outputs": []
    },
    {
      "cell_type": "code",
      "source": [
        "#view summary of k-fold CV\n",
        "print(model)"
      ],
      "metadata": {
        "id": "WscaNoJm63-N"
      },
      "execution_count": null,
      "outputs": []
    },
    {
      "cell_type": "markdown",
      "source": [
        "No pre-processing occured. That is, we didn’t scale the data in any way before fitting the models.\n",
        "The resampling method we used to evaluate the model was cross-validation with 5 folds.\n",
        "The sample size for each training set was 3954\n",
        "\n",
        "RMSE: The root mean squared error. This measures the average difference between the predictions made by the model and the actual observations. The lower the RMSE, the more closely a model can predict the actual observations.\n",
        "\n",
        "Rsquared: This is a measure of the correlation between the predictions made by the model and the actual observations. The higher the R-squared, the more closely a model can predict the actual observations.\n",
        "\n",
        "MAE: The mean absolute error. This is the average absolute difference between the predictions made by the model and the actual observations. The lower the MAE, the more closely a model can predict the actual observations.\n"
      ],
      "metadata": {
        "id": "MtAReJyJ7Ekj"
      }
    },
    {
      "cell_type": "code",
      "source": [
        "#view final model\n",
        "model$finalModel"
      ],
      "metadata": {
        "id": "G4AadVX97olU"
      },
      "execution_count": null,
      "outputs": []
    },
    {
      "cell_type": "code",
      "source": [
        "mean(model$finalModel$mse)"
      ],
      "metadata": {
        "id": "XhgxatQl7sWO"
      },
      "execution_count": null,
      "outputs": []
    },
    {
      "cell_type": "code",
      "source": [
        "names(model)"
      ],
      "metadata": {
        "id": "uImKzi0q7taA"
      },
      "execution_count": null,
      "outputs": []
    },
    {
      "cell_type": "markdown",
      "source": [
        "## Cross Validation using `library cv`"
      ],
      "metadata": {
        "id": "fWqDlDK97vkq"
      }
    },
    {
      "cell_type": "code",
      "source": [
        "library(\"ISLR2\")"
      ],
      "metadata": {
        "id": "gGGBUvbHLr7C"
      },
      "execution_count": null,
      "outputs": []
    },
    {
      "cell_type": "code",
      "source": [
        "data(\"Auto\", package=\"ISLR2\")\n",
        "head(Auto)"
      ],
      "metadata": {
        "id": "yHKtqXxG76SU"
      },
      "execution_count": null,
      "outputs": []
    },
    {
      "cell_type": "code",
      "source": [
        "plot(mpg ~ horsepower, data=Auto)"
      ],
      "metadata": {
        "id": "L35eQF_BMCLc"
      },
      "execution_count": null,
      "outputs": []
    },
    {
      "cell_type": "code",
      "source": [
        "#plot various alternatives\n",
        "plot(mpg ~ horsepower, data=Auto)\n",
        "horsepower <- with(Auto,\n",
        "                   seq(min(horsepower), max(horsepower),\n",
        "                       length=1000))\n",
        "for (p in 1:5){\n",
        "  m <- lm(mpg ~ poly(horsepower,p), data=Auto)\n",
        "  mpg <- predict(m, newdata=data.frame(horsepower=horsepower))\n",
        "  lines(horsepower, mpg, col=p + 1, lty=p, lwd=2)\n",
        "}\n",
        "legend(\"topright\", legend=1:5, col=2:6, lty=1:5, lwd=2,\n",
        "       title=\"Degree\", inset=0.02)"
      ],
      "metadata": {
        "id": "MPBnSdQQ78WH"
      },
      "execution_count": null,
      "outputs": []
    },
    {
      "cell_type": "code",
      "source": [
        "library(\"cv\") # for mse() and other functions"
      ],
      "metadata": {
        "id": "Ia_EzXo58LO8"
      },
      "execution_count": null,
      "outputs": []
    },
    {
      "cell_type": "code",
      "source": [
        "var <- mse <- numeric(10)\n",
        "for (p in 1:10){\n",
        "  m <- lm(mpg ~ poly(horsepower, p), data=Auto)\n",
        "  mse[p] <- mse(Auto$mpg, fitted(m))\n",
        "  var[p] <- summary(m)$sigma^2\n",
        "}"
      ],
      "metadata": {
        "id": "FgUxuaN2MPoG"
      },
      "execution_count": null,
      "outputs": []
    },
    {
      "cell_type": "code",
      "source": [
        "plot(c(1, 10), range(mse, var), type=\"n\",\n",
        "     xlab=\"Degree of polynomial, p\",\n",
        "     ylab=\"Estimated Squared Error\")\n",
        "lines(1:10, mse, lwd=2, lty=1, col=2, pch=16, type=\"b\")\n",
        "lines(1:10, var, lwd=2, lty=2, col=3, pch=17, type=\"b\")\n",
        "legend(\"topright\", inset=0.02,\n",
        "       legend=c(expression(hat(sigma)^2), \"MSE\"),\n",
        "       lwd=2, lty=2:1, col=3:2, pch=17:16)"
      ],
      "metadata": {
        "id": "M5RQ7mvhMR57"
      },
      "execution_count": null,
      "outputs": []
    },
    {
      "cell_type": "code",
      "source": [
        "#cross validation with OLS\n",
        "m.auto <- lm(mpg ~ poly(horsepower, 2), data=Auto)\n",
        "summary(m.auto)"
      ],
      "metadata": {
        "id": "KMZMX7bU8Txo"
      },
      "execution_count": null,
      "outputs": []
    },
    {
      "cell_type": "code",
      "source": [
        "#train and test set\n",
        "cv(m.auto)\n",
        "as.numeric(cv(m.auto)[\"CV crit\"])"
      ],
      "metadata": {
        "id": "e18hr6yK8VI_"
      },
      "execution_count": null,
      "outputs": []
    },
    {
      "cell_type": "code",
      "source": [
        "#leave one out\n",
        "cv(m.auto, k=\"loo\")"
      ],
      "metadata": {
        "id": "1wCGvul78V84"
      },
      "execution_count": null,
      "outputs": []
    },
    {
      "cell_type": "code",
      "source": [
        "#Comparing competing models\n",
        "for (p in 1:10){\n",
        "  assign(paste0(\"m.\", p),\n",
        "         lm(mpg ~ poly(horsepower, p), data=Auto))\n",
        "}\n",
        "objects(pattern=\"m\\\\.[0-9]\")\n",
        "summary(m.2)"
      ],
      "metadata": {
        "id": "hw0NEhxB8wQZ"
      },
      "execution_count": null,
      "outputs": []
    },
    {
      "cell_type": "code",
      "source": [
        "cv.auto.10 <- cv(models(m.1, m.2, m.3, m.4, m.5,\n",
        "                        m.6, m.7, m.8, m.9, m.10),\n",
        "                 data=Auto, seed=2120)\n",
        "cv.auto.10[1:2]"
      ],
      "metadata": {
        "id": "_AMpoHQ_8yA8"
      },
      "execution_count": null,
      "outputs": []
    }
  ]
}